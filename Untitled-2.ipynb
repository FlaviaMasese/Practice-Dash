{
 "cells": [
  {
   "cell_type": "code",
   "execution_count": 1,
   "metadata": {},
   "outputs": [],
   "source": [
    "import pandas as pd\n",
    "import io"
   ]
  },
  {
   "cell_type": "code",
   "execution_count": 2,
   "metadata": {},
   "outputs": [],
   "source": [
    "LSMS1=pd.read_csv(r'C:\\Users\\flavi\\Downloads\\data for practice\\sect11b_harvestw3.csv')\n",
    "LSMS2=pd.read_csv(r'C:\\Users\\flavi\\Downloads\\data for practice\\sect3_plantingw3.csv',low_memory=False)"
   ]
  },
  {
   "cell_type": "code",
   "execution_count": 3,
   "metadata": {},
   "outputs": [],
   "source": [
    "LSMS1.rename(columns={'s11bq4': 'expenditure',},inplace=True)\n",
    "LSMS1.rename(columns={'s11bq3':'purchase'},inplace=True)"
   ]
  },
  {
   "cell_type": "code",
   "execution_count": 4,
   "metadata": {},
   "outputs": [],
   "source": [
    "LSMS2.rename(columns={\"s3q13a\": 'labour_type'}, inplace=True)\n",
    "LSMS2.rename(columns={'s3q21a': 'Income_dist',},inplace=True)"
   ]
  },
  {
   "cell_type": "code",
   "execution_count": 5,
   "metadata": {},
   "outputs": [],
   "source": [
    "LSMS2.dropna(subset=['Income_dist'],inplace=True)\n",
    "LSMS1.dropna(subset=['expenditure'],inplace=True)\n",
    "LSMS2.dropna(subset=['labour_type'],inplace=True)"
   ]
  },
  {
   "cell_type": "code",
   "execution_count": 6,
   "metadata": {},
   "outputs": [],
   "source": [
    "LSMS1_data_list=['KEROSENE', 'PALM KERNEL OIL', 'OTHER LIQUID COOKING FUEL', 'ELECTRICITY', 'CANDLES', 'FIREWOOD', 'CHARCOAL', \n",
    "                'PETROL','DIESEL']\n",
    "LSMS1_sv=LSMS1[LSMS1.item_desc.isin(LSMS1_data_list)]"
   ]
  },
  {
   "cell_type": "code",
   "execution_count": 7,
   "metadata": {},
   "outputs": [
    {
     "name": "stderr",
     "output_type": "stream",
     "text": [
      "[2022-07-19 23:59:47][datar][WARNING] Package `pdtypes` not installed for `options(enable_pdtypes=True)`\n",
      "C:\\Users\\flavi\\AppData\\Local\\Packages\\PythonSoftwareFoundation.Python.3.10_qbz5n2kfra8p0\\LocalCache\\local-packages\\Python310\\site-packages\\pipda\\function.py:147: FutureWarning: In a future version of pandas all arguments of Series.drop except for the argument 'labels' will be keyword-only.\n",
      "  return func(*args, **kwargs)  # type: ignore\n"
     ]
    },
    {
     "data": {
      "text/html": [
       "<div>\n",
       "<style scoped>\n",
       "    .dataframe tbody tr th:only-of-type {\n",
       "        vertical-align: middle;\n",
       "    }\n",
       "\n",
       "    .dataframe tbody tr th {\n",
       "        vertical-align: top;\n",
       "    }\n",
       "\n",
       "    .dataframe thead th {\n",
       "        text-align: right;\n",
       "    }\n",
       "</style>\n",
       "<table border=\"1\" class=\"dataframe\">\n",
       "  <thead>\n",
       "    <tr style=\"text-align: right;\">\n",
       "      <th></th>\n",
       "      <th>zone</th>\n",
       "      <th>state</th>\n",
       "      <th>lga</th>\n",
       "      <th>sector</th>\n",
       "      <th>ea</th>\n",
       "      <th>hhid</th>\n",
       "      <th>item_cd</th>\n",
       "      <th>item_desc</th>\n",
       "      <th>purchase</th>\n",
       "      <th>expenditure</th>\n",
       "      <th>state_name</th>\n",
       "    </tr>\n",
       "  </thead>\n",
       "  <tbody>\n",
       "    <tr>\n",
       "      <th>0</th>\n",
       "      <td>4</td>\n",
       "      <td>1</td>\n",
       "      <td>115</td>\n",
       "      <td>1</td>\n",
       "      <td>670</td>\n",
       "      <td>10001</td>\n",
       "      <td>301</td>\n",
       "      <td>KEROSENE</td>\n",
       "      <td>1.0</td>\n",
       "      <td>750.0</td>\n",
       "      <td>Abia</td>\n",
       "    </tr>\n",
       "    <tr>\n",
       "      <th>4</th>\n",
       "      <td>4</td>\n",
       "      <td>1</td>\n",
       "      <td>115</td>\n",
       "      <td>1</td>\n",
       "      <td>670</td>\n",
       "      <td>10001</td>\n",
       "      <td>305</td>\n",
       "      <td>ELECTRICITY</td>\n",
       "      <td>1.0</td>\n",
       "      <td>3500.0</td>\n",
       "      <td>Abia</td>\n",
       "    </tr>\n",
       "    <tr>\n",
       "      <th>30</th>\n",
       "      <td>4</td>\n",
       "      <td>1</td>\n",
       "      <td>115</td>\n",
       "      <td>1</td>\n",
       "      <td>670</td>\n",
       "      <td>10002</td>\n",
       "      <td>301</td>\n",
       "      <td>KEROSENE</td>\n",
       "      <td>1.0</td>\n",
       "      <td>750.0</td>\n",
       "      <td>Abia</td>\n",
       "    </tr>\n",
       "    <tr>\n",
       "      <th>34</th>\n",
       "      <td>4</td>\n",
       "      <td>1</td>\n",
       "      <td>115</td>\n",
       "      <td>1</td>\n",
       "      <td>670</td>\n",
       "      <td>10002</td>\n",
       "      <td>305</td>\n",
       "      <td>ELECTRICITY</td>\n",
       "      <td>1.0</td>\n",
       "      <td>5000.0</td>\n",
       "      <td>Abia</td>\n",
       "    </tr>\n",
       "    <tr>\n",
       "      <th>38</th>\n",
       "      <td>4</td>\n",
       "      <td>1</td>\n",
       "      <td>115</td>\n",
       "      <td>1</td>\n",
       "      <td>670</td>\n",
       "      <td>10002</td>\n",
       "      <td>309</td>\n",
       "      <td>PETROL</td>\n",
       "      <td>1.0</td>\n",
       "      <td>15000.0</td>\n",
       "      <td>Abia</td>\n",
       "    </tr>\n",
       "    <tr>\n",
       "      <th>...</th>\n",
       "      <td>...</td>\n",
       "      <td>...</td>\n",
       "      <td>...</td>\n",
       "      <td>...</td>\n",
       "      <td>...</td>\n",
       "      <td>...</td>\n",
       "      <td>...</td>\n",
       "      <td>...</td>\n",
       "      <td>...</td>\n",
       "      <td>...</td>\n",
       "      <td>...</td>\n",
       "    </tr>\n",
       "    <tr>\n",
       "      <th>137138</th>\n",
       "      <td>1</td>\n",
       "      <td>37</td>\n",
       "      <td>3702</td>\n",
       "      <td>1</td>\n",
       "      <td>972</td>\n",
       "      <td>370030</td>\n",
       "      <td>309</td>\n",
       "      <td>PETROL</td>\n",
       "      <td>1.0</td>\n",
       "      <td>20000.0</td>\n",
       "      <td>FCT Abuja</td>\n",
       "    </tr>\n",
       "    <tr>\n",
       "      <th>137198</th>\n",
       "      <td>1</td>\n",
       "      <td>37</td>\n",
       "      <td>3706</td>\n",
       "      <td>2</td>\n",
       "      <td>6</td>\n",
       "      <td>370032</td>\n",
       "      <td>309</td>\n",
       "      <td>PETROL</td>\n",
       "      <td>1.0</td>\n",
       "      <td>2000.0</td>\n",
       "      <td>FCT Abuja</td>\n",
       "    </tr>\n",
       "    <tr>\n",
       "      <th>137288</th>\n",
       "      <td>1</td>\n",
       "      <td>37</td>\n",
       "      <td>3706</td>\n",
       "      <td>2</td>\n",
       "      <td>6</td>\n",
       "      <td>370035</td>\n",
       "      <td>309</td>\n",
       "      <td>PETROL</td>\n",
       "      <td>1.0</td>\n",
       "      <td>1600.0</td>\n",
       "      <td>FCT Abuja</td>\n",
       "    </tr>\n",
       "    <tr>\n",
       "      <th>137408</th>\n",
       "      <td>1</td>\n",
       "      <td>37</td>\n",
       "      <td>3706</td>\n",
       "      <td>2</td>\n",
       "      <td>6</td>\n",
       "      <td>370039</td>\n",
       "      <td>309</td>\n",
       "      <td>PETROL</td>\n",
       "      <td>1.0</td>\n",
       "      <td>10000.0</td>\n",
       "      <td>FCT Abuja</td>\n",
       "    </tr>\n",
       "    <tr>\n",
       "      <th>137438</th>\n",
       "      <td>1</td>\n",
       "      <td>37</td>\n",
       "      <td>3706</td>\n",
       "      <td>2</td>\n",
       "      <td>6</td>\n",
       "      <td>370040</td>\n",
       "      <td>309</td>\n",
       "      <td>PETROL</td>\n",
       "      <td>1.0</td>\n",
       "      <td>1200.0</td>\n",
       "      <td>FCT Abuja</td>\n",
       "    </tr>\n",
       "  </tbody>\n",
       "</table>\n",
       "<p>6491 rows × 11 columns</p>\n",
       "</div>"
      ],
      "text/plain": [
       "        zone  state   lga  sector   ea    hhid  item_cd    item_desc  \\\n",
       "0          4      1   115       1  670   10001      301     KEROSENE   \n",
       "4          4      1   115       1  670   10001      305  ELECTRICITY   \n",
       "30         4      1   115       1  670   10002      301     KEROSENE   \n",
       "34         4      1   115       1  670   10002      305  ELECTRICITY   \n",
       "38         4      1   115       1  670   10002      309       PETROL   \n",
       "...      ...    ...   ...     ...  ...     ...      ...          ...   \n",
       "137138     1     37  3702       1  972  370030      309       PETROL   \n",
       "137198     1     37  3706       2    6  370032      309       PETROL   \n",
       "137288     1     37  3706       2    6  370035      309       PETROL   \n",
       "137408     1     37  3706       2    6  370039      309       PETROL   \n",
       "137438     1     37  3706       2    6  370040      309       PETROL   \n",
       "\n",
       "        purchase  expenditure state_name  \n",
       "0            1.0        750.0       Abia  \n",
       "4            1.0       3500.0       Abia  \n",
       "30           1.0        750.0       Abia  \n",
       "34           1.0       5000.0       Abia  \n",
       "38           1.0      15000.0       Abia  \n",
       "...          ...          ...        ...  \n",
       "137138       1.0      20000.0  FCT Abuja  \n",
       "137198       1.0       2000.0  FCT Abuja  \n",
       "137288       1.0       1600.0  FCT Abuja  \n",
       "137408       1.0      10000.0  FCT Abuja  \n",
       "137438       1.0       1200.0  FCT Abuja  \n",
       "\n",
       "[6491 rows x 11 columns]"
      ]
     },
     "execution_count": 7,
     "metadata": {},
     "output_type": "execute_result"
    }
   ],
   "source": [
    "from datar.all import case_when, f, mutate, pivot_wider\n",
    "LSMS_df=mutate(LSMS1_sv,state_name=case_when(f.state==1,'Abia', f.state==2,'Adamawa',f.state==3,'Akwa Ibom',\n",
    "                                                         f.state==4,'Anambra',f.state==5,'Bauchi',f.state==6,'Bayelsa',\n",
    "                                                          f.state==7,'Benue',f.state==8,'Borno',f.state==9,'Cross River',\n",
    "                                                       f.state==10,'Delta', f.state==11,'Ebonyi',f.state==12,'Edo', \n",
    "                                                        f.state==13,'Ekiti', f.state==14,'Enugu',f.state==15,'Gombe',\n",
    "                                                        f.state==16,'Imo',f.state==17,'Jigawa',f.state==18,'Kaduna',\n",
    "                                                          f.state==19,'Kano',f.state==20,'Katsina',f.state==21,'Kebbi',\n",
    "                                                         f.state==22,'Kogi',f.state==23,'Kwara',f.state==24,'Lagos',\n",
    "                                                         f.state==25,'Nasarawa',f.state==26,'Niger',f.state==27,'Ogun',\n",
    "                                                         f.state==28,'Ondo',f.state==29,'Osun',f.state==30,'Oyo',\n",
    "                                                         f.state==31,'Plateau',f.state==32,'Rivers',f.state==33,'Sokoto',\n",
    "                                                        f.state==34,'Taraba',f.state==35,'Yobe',f.state==36,'Zamfara',\n",
    "                                                         f.state==37,'FCT Abuja')\n",
    "                                        .drop(columns='state'))\n",
    "LSMS_df"
   ]
  },
  {
   "cell_type": "code",
   "execution_count": 8,
   "metadata": {},
   "outputs": [],
   "source": [
    "LSMS2.rename(columns={'s3q13a': 'labour_type',},inplace=True)"
   ]
  },
  {
   "cell_type": "code",
   "execution_count": 9,
   "metadata": {},
   "outputs": [
    {
     "data": {
      "text/html": [
       "<div>\n",
       "<style scoped>\n",
       "    .dataframe tbody tr th:only-of-type {\n",
       "        vertical-align: middle;\n",
       "    }\n",
       "\n",
       "    .dataframe tbody tr th {\n",
       "        vertical-align: top;\n",
       "    }\n",
       "\n",
       "    .dataframe thead th {\n",
       "        text-align: right;\n",
       "    }\n",
       "</style>\n",
       "<table border=\"1\" class=\"dataframe\">\n",
       "  <thead>\n",
       "    <tr style=\"text-align: right;\">\n",
       "      <th></th>\n",
       "      <th>zone</th>\n",
       "      <th>state</th>\n",
       "      <th>lga</th>\n",
       "      <th>sector</th>\n",
       "      <th>ea</th>\n",
       "      <th>hhid</th>\n",
       "      <th>indiv</th>\n",
       "      <th>s3q1</th>\n",
       "      <th>s3q2</th>\n",
       "      <th>s3q3</th>\n",
       "      <th>...</th>\n",
       "      <th>s3q35a</th>\n",
       "      <th>s3q35b</th>\n",
       "      <th>s3q36</th>\n",
       "      <th>s3q37a</th>\n",
       "      <th>s3q37b</th>\n",
       "      <th>s3q38</th>\n",
       "      <th>s3q38a</th>\n",
       "      <th>s3q39_new</th>\n",
       "      <th>s3q39a_new</th>\n",
       "      <th>s3q40_new</th>\n",
       "    </tr>\n",
       "  </thead>\n",
       "  <tbody>\n",
       "    <tr>\n",
       "      <th>0</th>\n",
       "      <td>4</td>\n",
       "      <td>1</td>\n",
       "      <td>115</td>\n",
       "      <td>1</td>\n",
       "      <td>670</td>\n",
       "      <td>10001</td>\n",
       "      <td>1</td>\n",
       "      <td>1</td>\n",
       "      <td>2.0</td>\n",
       "      <td>2.0</td>\n",
       "      <td>...</td>\n",
       "      <td>NaN</td>\n",
       "      <td>NaN</td>\n",
       "      <td>NaN</td>\n",
       "      <td>NaN</td>\n",
       "      <td>NaN</td>\n",
       "      <td>2.0</td>\n",
       "      <td>2.0</td>\n",
       "      <td>NaN</td>\n",
       "      <td>2.0</td>\n",
       "      <td>NaN</td>\n",
       "    </tr>\n",
       "    <tr>\n",
       "      <th>1</th>\n",
       "      <td>4</td>\n",
       "      <td>1</td>\n",
       "      <td>115</td>\n",
       "      <td>1</td>\n",
       "      <td>670</td>\n",
       "      <td>10001</td>\n",
       "      <td>2</td>\n",
       "      <td>1</td>\n",
       "      <td>1.0</td>\n",
       "      <td>NaN</td>\n",
       "      <td>...</td>\n",
       "      <td>NaN</td>\n",
       "      <td>NaN</td>\n",
       "      <td>NaN</td>\n",
       "      <td>NaN</td>\n",
       "      <td>NaN</td>\n",
       "      <td>2.0</td>\n",
       "      <td>2.0</td>\n",
       "      <td>NaN</td>\n",
       "      <td>2.0</td>\n",
       "      <td>NaN</td>\n",
       "    </tr>\n",
       "    <tr>\n",
       "      <th>3</th>\n",
       "      <td>4</td>\n",
       "      <td>1</td>\n",
       "      <td>115</td>\n",
       "      <td>1</td>\n",
       "      <td>670</td>\n",
       "      <td>10001</td>\n",
       "      <td>4</td>\n",
       "      <td>1</td>\n",
       "      <td>1.0</td>\n",
       "      <td>NaN</td>\n",
       "      <td>...</td>\n",
       "      <td>NaN</td>\n",
       "      <td>NaN</td>\n",
       "      <td>NaN</td>\n",
       "      <td>NaN</td>\n",
       "      <td>NaN</td>\n",
       "      <td>2.0</td>\n",
       "      <td>2.0</td>\n",
       "      <td>NaN</td>\n",
       "      <td>2.0</td>\n",
       "      <td>NaN</td>\n",
       "    </tr>\n",
       "    <tr>\n",
       "      <th>5</th>\n",
       "      <td>4</td>\n",
       "      <td>1</td>\n",
       "      <td>115</td>\n",
       "      <td>1</td>\n",
       "      <td>670</td>\n",
       "      <td>10002</td>\n",
       "      <td>1</td>\n",
       "      <td>1</td>\n",
       "      <td>1.0</td>\n",
       "      <td>NaN</td>\n",
       "      <td>...</td>\n",
       "      <td>NaN</td>\n",
       "      <td>NaN</td>\n",
       "      <td>NaN</td>\n",
       "      <td>NaN</td>\n",
       "      <td>NaN</td>\n",
       "      <td>2.0</td>\n",
       "      <td>2.0</td>\n",
       "      <td>NaN</td>\n",
       "      <td>2.0</td>\n",
       "      <td>NaN</td>\n",
       "    </tr>\n",
       "    <tr>\n",
       "      <th>6</th>\n",
       "      <td>4</td>\n",
       "      <td>1</td>\n",
       "      <td>115</td>\n",
       "      <td>1</td>\n",
       "      <td>670</td>\n",
       "      <td>10002</td>\n",
       "      <td>2</td>\n",
       "      <td>1</td>\n",
       "      <td>1.0</td>\n",
       "      <td>NaN</td>\n",
       "      <td>...</td>\n",
       "      <td>NaN</td>\n",
       "      <td>NaN</td>\n",
       "      <td>NaN</td>\n",
       "      <td>NaN</td>\n",
       "      <td>NaN</td>\n",
       "      <td>2.0</td>\n",
       "      <td>2.0</td>\n",
       "      <td>NaN</td>\n",
       "      <td>2.0</td>\n",
       "      <td>NaN</td>\n",
       "    </tr>\n",
       "    <tr>\n",
       "      <th>...</th>\n",
       "      <td>...</td>\n",
       "      <td>...</td>\n",
       "      <td>...</td>\n",
       "      <td>...</td>\n",
       "      <td>...</td>\n",
       "      <td>...</td>\n",
       "      <td>...</td>\n",
       "      <td>...</td>\n",
       "      <td>...</td>\n",
       "      <td>...</td>\n",
       "      <td>...</td>\n",
       "      <td>...</td>\n",
       "      <td>...</td>\n",
       "      <td>...</td>\n",
       "      <td>...</td>\n",
       "      <td>...</td>\n",
       "      <td>...</td>\n",
       "      <td>...</td>\n",
       "      <td>...</td>\n",
       "      <td>...</td>\n",
       "      <td>...</td>\n",
       "    </tr>\n",
       "    <tr>\n",
       "      <th>26658</th>\n",
       "      <td>1</td>\n",
       "      <td>37</td>\n",
       "      <td>3702</td>\n",
       "      <td>1</td>\n",
       "      <td>972</td>\n",
       "      <td>370030</td>\n",
       "      <td>2</td>\n",
       "      <td>1</td>\n",
       "      <td>2.0</td>\n",
       "      <td>1.0</td>\n",
       "      <td>...</td>\n",
       "      <td>NaN</td>\n",
       "      <td>NaN</td>\n",
       "      <td>NaN</td>\n",
       "      <td>NaN</td>\n",
       "      <td>NaN</td>\n",
       "      <td>1.0</td>\n",
       "      <td>2.0</td>\n",
       "      <td>NaN</td>\n",
       "      <td>2.0</td>\n",
       "      <td>NaN</td>\n",
       "    </tr>\n",
       "    <tr>\n",
       "      <th>26663</th>\n",
       "      <td>1</td>\n",
       "      <td>37</td>\n",
       "      <td>3706</td>\n",
       "      <td>2</td>\n",
       "      <td>6</td>\n",
       "      <td>370031</td>\n",
       "      <td>1</td>\n",
       "      <td>1</td>\n",
       "      <td>2.0</td>\n",
       "      <td>3.0</td>\n",
       "      <td>...</td>\n",
       "      <td>NaN</td>\n",
       "      <td>NaN</td>\n",
       "      <td>NaN</td>\n",
       "      <td>NaN</td>\n",
       "      <td>NaN</td>\n",
       "      <td>2.0</td>\n",
       "      <td>2.0</td>\n",
       "      <td>NaN</td>\n",
       "      <td>2.0</td>\n",
       "      <td>NaN</td>\n",
       "    </tr>\n",
       "    <tr>\n",
       "      <th>26705</th>\n",
       "      <td>1</td>\n",
       "      <td>26</td>\n",
       "      <td>2609</td>\n",
       "      <td>1</td>\n",
       "      <td>0</td>\n",
       "      <td>370036</td>\n",
       "      <td>1</td>\n",
       "      <td>1</td>\n",
       "      <td>1.0</td>\n",
       "      <td>NaN</td>\n",
       "      <td>...</td>\n",
       "      <td>NaN</td>\n",
       "      <td>NaN</td>\n",
       "      <td>NaN</td>\n",
       "      <td>NaN</td>\n",
       "      <td>NaN</td>\n",
       "      <td>1.0</td>\n",
       "      <td>2.0</td>\n",
       "      <td>NaN</td>\n",
       "      <td>2.0</td>\n",
       "      <td>NaN</td>\n",
       "    </tr>\n",
       "    <tr>\n",
       "      <th>26711</th>\n",
       "      <td>1</td>\n",
       "      <td>37</td>\n",
       "      <td>3706</td>\n",
       "      <td>2</td>\n",
       "      <td>6</td>\n",
       "      <td>370037</td>\n",
       "      <td>1</td>\n",
       "      <td>1</td>\n",
       "      <td>2.0</td>\n",
       "      <td>2.0</td>\n",
       "      <td>...</td>\n",
       "      <td>NaN</td>\n",
       "      <td>NaN</td>\n",
       "      <td>NaN</td>\n",
       "      <td>NaN</td>\n",
       "      <td>NaN</td>\n",
       "      <td>2.0</td>\n",
       "      <td>2.0</td>\n",
       "      <td>NaN</td>\n",
       "      <td>2.0</td>\n",
       "      <td>NaN</td>\n",
       "    </tr>\n",
       "    <tr>\n",
       "      <th>26720</th>\n",
       "      <td>1</td>\n",
       "      <td>37</td>\n",
       "      <td>3706</td>\n",
       "      <td>2</td>\n",
       "      <td>6</td>\n",
       "      <td>370039</td>\n",
       "      <td>1</td>\n",
       "      <td>1</td>\n",
       "      <td>2.0</td>\n",
       "      <td>4.0</td>\n",
       "      <td>...</td>\n",
       "      <td>1.0</td>\n",
       "      <td>NaN</td>\n",
       "      <td>2.0</td>\n",
       "      <td>NaN</td>\n",
       "      <td>NaN</td>\n",
       "      <td>1.0</td>\n",
       "      <td>2.0</td>\n",
       "      <td>NaN</td>\n",
       "      <td>2.0</td>\n",
       "      <td>NaN</td>\n",
       "    </tr>\n",
       "  </tbody>\n",
       "</table>\n",
       "<p>1201 rows × 73 columns</p>\n",
       "</div>"
      ],
      "text/plain": [
       "       zone  state   lga  sector   ea    hhid  indiv  s3q1  s3q2  s3q3  ...  \\\n",
       "0         4      1   115       1  670   10001      1     1   2.0   2.0  ...   \n",
       "1         4      1   115       1  670   10001      2     1   1.0   NaN  ...   \n",
       "3         4      1   115       1  670   10001      4     1   1.0   NaN  ...   \n",
       "5         4      1   115       1  670   10002      1     1   1.0   NaN  ...   \n",
       "6         4      1   115       1  670   10002      2     1   1.0   NaN  ...   \n",
       "...     ...    ...   ...     ...  ...     ...    ...   ...   ...   ...  ...   \n",
       "26658     1     37  3702       1  972  370030      2     1   2.0   1.0  ...   \n",
       "26663     1     37  3706       2    6  370031      1     1   2.0   3.0  ...   \n",
       "26705     1     26  2609       1    0  370036      1     1   1.0   NaN  ...   \n",
       "26711     1     37  3706       2    6  370037      1     1   2.0   2.0  ...   \n",
       "26720     1     37  3706       2    6  370039      1     1   2.0   4.0  ...   \n",
       "\n",
       "       s3q35a  s3q35b  s3q36  s3q37a  s3q37b  s3q38  s3q38a  s3q39_new  \\\n",
       "0         NaN     NaN    NaN     NaN     NaN    2.0     2.0        NaN   \n",
       "1         NaN     NaN    NaN     NaN     NaN    2.0     2.0        NaN   \n",
       "3         NaN     NaN    NaN     NaN     NaN    2.0     2.0        NaN   \n",
       "5         NaN     NaN    NaN     NaN     NaN    2.0     2.0        NaN   \n",
       "6         NaN     NaN    NaN     NaN     NaN    2.0     2.0        NaN   \n",
       "...       ...     ...    ...     ...     ...    ...     ...        ...   \n",
       "26658     NaN     NaN    NaN     NaN     NaN    1.0     2.0        NaN   \n",
       "26663     NaN     NaN    NaN     NaN     NaN    2.0     2.0        NaN   \n",
       "26705     NaN     NaN    NaN     NaN     NaN    1.0     2.0        NaN   \n",
       "26711     NaN     NaN    NaN     NaN     NaN    2.0     2.0        NaN   \n",
       "26720     1.0     NaN    2.0     NaN     NaN    1.0     2.0        NaN   \n",
       "\n",
       "       s3q39a_new  s3q40_new  \n",
       "0             2.0        NaN  \n",
       "1             2.0        NaN  \n",
       "3             2.0        NaN  \n",
       "5             2.0        NaN  \n",
       "6             2.0        NaN  \n",
       "...           ...        ...  \n",
       "26658         2.0        NaN  \n",
       "26663         2.0        NaN  \n",
       "26705         2.0        NaN  \n",
       "26711         2.0        NaN  \n",
       "26720         2.0        NaN  \n",
       "\n",
       "[1201 rows x 73 columns]"
      ]
     },
     "execution_count": 9,
     "metadata": {},
     "output_type": "execute_result"
    }
   ],
   "source": [
    "LSMS2"
   ]
  },
  {
   "cell_type": "code",
   "execution_count": 10,
   "metadata": {},
   "outputs": [],
   "source": [
    "LSMS2_sv=LSMS2[['state','labour_type','Income_dist']]"
   ]
  },
  {
   "cell_type": "code",
   "execution_count": 11,
   "metadata": {},
   "outputs": [
    {
     "data": {
      "text/html": [
       "<div>\n",
       "<style scoped>\n",
       "    .dataframe tbody tr th:only-of-type {\n",
       "        vertical-align: middle;\n",
       "    }\n",
       "\n",
       "    .dataframe tbody tr th {\n",
       "        vertical-align: top;\n",
       "    }\n",
       "\n",
       "    .dataframe thead th {\n",
       "        text-align: right;\n",
       "    }\n",
       "</style>\n",
       "<table border=\"1\" class=\"dataframe\">\n",
       "  <thead>\n",
       "    <tr style=\"text-align: right;\">\n",
       "      <th></th>\n",
       "      <th>state</th>\n",
       "      <th>labour_type</th>\n",
       "      <th>Income_dist</th>\n",
       "    </tr>\n",
       "  </thead>\n",
       "  <tbody>\n",
       "    <tr>\n",
       "      <th>0</th>\n",
       "      <td>1</td>\n",
       "      <td>CIVIL SERVANT</td>\n",
       "      <td>67800.0</td>\n",
       "    </tr>\n",
       "    <tr>\n",
       "      <th>1</th>\n",
       "      <td>1</td>\n",
       "      <td>CIVIL SERVANT</td>\n",
       "      <td>42300.0</td>\n",
       "    </tr>\n",
       "    <tr>\n",
       "      <th>3</th>\n",
       "      <td>1</td>\n",
       "      <td>NANNY</td>\n",
       "      <td>12000.0</td>\n",
       "    </tr>\n",
       "    <tr>\n",
       "      <th>5</th>\n",
       "      <td>1</td>\n",
       "      <td>LEGALPRACTIONER</td>\n",
       "      <td>150000.0</td>\n",
       "    </tr>\n",
       "    <tr>\n",
       "      <th>6</th>\n",
       "      <td>1</td>\n",
       "      <td>ADMINISTRATION</td>\n",
       "      <td>64200.0</td>\n",
       "    </tr>\n",
       "    <tr>\n",
       "      <th>...</th>\n",
       "      <td>...</td>\n",
       "      <td>...</td>\n",
       "      <td>...</td>\n",
       "    </tr>\n",
       "    <tr>\n",
       "      <th>26658</th>\n",
       "      <td>37</td>\n",
       "      <td>ACCOUNTANT</td>\n",
       "      <td>36000.0</td>\n",
       "    </tr>\n",
       "    <tr>\n",
       "      <th>26663</th>\n",
       "      <td>37</td>\n",
       "      <td>DANTATA AND CO (CHIEF SECURITY OFFICER)</td>\n",
       "      <td>80000.0</td>\n",
       "    </tr>\n",
       "    <tr>\n",
       "      <th>26705</th>\n",
       "      <td>26</td>\n",
       "      <td>CIVIL DEFENCE</td>\n",
       "      <td>130000.0</td>\n",
       "    </tr>\n",
       "    <tr>\n",
       "      <th>26711</th>\n",
       "      <td>37</td>\n",
       "      <td>MANAGER( BLOCK INDUSTR)</td>\n",
       "      <td>20000.0</td>\n",
       "    </tr>\n",
       "    <tr>\n",
       "      <th>26720</th>\n",
       "      <td>37</td>\n",
       "      <td>ACCOUNTANT</td>\n",
       "      <td>73000.0</td>\n",
       "    </tr>\n",
       "  </tbody>\n",
       "</table>\n",
       "<p>1201 rows × 3 columns</p>\n",
       "</div>"
      ],
      "text/plain": [
       "       state                              labour_type  Income_dist\n",
       "0          1                            CIVIL SERVANT      67800.0\n",
       "1          1                            CIVIL SERVANT      42300.0\n",
       "3          1                                    NANNY      12000.0\n",
       "5          1                          LEGALPRACTIONER     150000.0\n",
       "6          1                           ADMINISTRATION      64200.0\n",
       "...      ...                                      ...          ...\n",
       "26658     37                               ACCOUNTANT      36000.0\n",
       "26663     37  DANTATA AND CO (CHIEF SECURITY OFFICER)      80000.0\n",
       "26705     26                            CIVIL DEFENCE     130000.0\n",
       "26711     37                  MANAGER( BLOCK INDUSTR)      20000.0\n",
       "26720     37                               ACCOUNTANT      73000.0\n",
       "\n",
       "[1201 rows x 3 columns]"
      ]
     },
     "execution_count": 11,
     "metadata": {},
     "output_type": "execute_result"
    }
   ],
   "source": [
    "LSMS2_sv"
   ]
  },
  {
   "cell_type": "code",
   "execution_count": 12,
   "metadata": {},
   "outputs": [
    {
     "name": "stderr",
     "output_type": "stream",
     "text": [
      "C:\\Users\\flavi\\AppData\\Local\\Packages\\PythonSoftwareFoundation.Python.3.10_qbz5n2kfra8p0\\LocalCache\\local-packages\\Python310\\site-packages\\pipda\\function.py:147: FutureWarning: In a future version of pandas all arguments of Series.drop except for the argument 'labels' will be keyword-only.\n",
      "  return func(*args, **kwargs)  # type: ignore\n"
     ]
    },
    {
     "data": {
      "text/html": [
       "<div>\n",
       "<style scoped>\n",
       "    .dataframe tbody tr th:only-of-type {\n",
       "        vertical-align: middle;\n",
       "    }\n",
       "\n",
       "    .dataframe tbody tr th {\n",
       "        vertical-align: top;\n",
       "    }\n",
       "\n",
       "    .dataframe thead th {\n",
       "        text-align: right;\n",
       "    }\n",
       "</style>\n",
       "<table border=\"1\" class=\"dataframe\">\n",
       "  <thead>\n",
       "    <tr style=\"text-align: right;\">\n",
       "      <th></th>\n",
       "      <th>state</th>\n",
       "      <th>labour_type</th>\n",
       "      <th>Income_dist</th>\n",
       "      <th>state_name</th>\n",
       "    </tr>\n",
       "  </thead>\n",
       "  <tbody>\n",
       "    <tr>\n",
       "      <th>0</th>\n",
       "      <td>1</td>\n",
       "      <td>CIVIL SERVANT</td>\n",
       "      <td>67800.0</td>\n",
       "      <td>Abia</td>\n",
       "    </tr>\n",
       "    <tr>\n",
       "      <th>1</th>\n",
       "      <td>1</td>\n",
       "      <td>CIVIL SERVANT</td>\n",
       "      <td>42300.0</td>\n",
       "      <td>Abia</td>\n",
       "    </tr>\n",
       "    <tr>\n",
       "      <th>3</th>\n",
       "      <td>1</td>\n",
       "      <td>NANNY</td>\n",
       "      <td>12000.0</td>\n",
       "      <td>Abia</td>\n",
       "    </tr>\n",
       "    <tr>\n",
       "      <th>5</th>\n",
       "      <td>1</td>\n",
       "      <td>LEGALPRACTIONER</td>\n",
       "      <td>150000.0</td>\n",
       "      <td>Abia</td>\n",
       "    </tr>\n",
       "    <tr>\n",
       "      <th>6</th>\n",
       "      <td>1</td>\n",
       "      <td>ADMINISTRATION</td>\n",
       "      <td>64200.0</td>\n",
       "      <td>Abia</td>\n",
       "    </tr>\n",
       "    <tr>\n",
       "      <th>...</th>\n",
       "      <td>...</td>\n",
       "      <td>...</td>\n",
       "      <td>...</td>\n",
       "      <td>...</td>\n",
       "    </tr>\n",
       "    <tr>\n",
       "      <th>26658</th>\n",
       "      <td>37</td>\n",
       "      <td>ACCOUNTANT</td>\n",
       "      <td>36000.0</td>\n",
       "      <td>FCT Abuja</td>\n",
       "    </tr>\n",
       "    <tr>\n",
       "      <th>26663</th>\n",
       "      <td>37</td>\n",
       "      <td>DANTATA AND CO (CHIEF SECURITY OFFICER)</td>\n",
       "      <td>80000.0</td>\n",
       "      <td>FCT Abuja</td>\n",
       "    </tr>\n",
       "    <tr>\n",
       "      <th>26705</th>\n",
       "      <td>26</td>\n",
       "      <td>CIVIL DEFENCE</td>\n",
       "      <td>130000.0</td>\n",
       "      <td>Niger</td>\n",
       "    </tr>\n",
       "    <tr>\n",
       "      <th>26711</th>\n",
       "      <td>37</td>\n",
       "      <td>MANAGER( BLOCK INDUSTR)</td>\n",
       "      <td>20000.0</td>\n",
       "      <td>FCT Abuja</td>\n",
       "    </tr>\n",
       "    <tr>\n",
       "      <th>26720</th>\n",
       "      <td>37</td>\n",
       "      <td>ACCOUNTANT</td>\n",
       "      <td>73000.0</td>\n",
       "      <td>FCT Abuja</td>\n",
       "    </tr>\n",
       "  </tbody>\n",
       "</table>\n",
       "<p>1201 rows × 4 columns</p>\n",
       "</div>"
      ],
      "text/plain": [
       "       state                              labour_type  Income_dist state_name\n",
       "0          1                            CIVIL SERVANT      67800.0       Abia\n",
       "1          1                            CIVIL SERVANT      42300.0       Abia\n",
       "3          1                                    NANNY      12000.0       Abia\n",
       "5          1                          LEGALPRACTIONER     150000.0       Abia\n",
       "6          1                           ADMINISTRATION      64200.0       Abia\n",
       "...      ...                                      ...          ...        ...\n",
       "26658     37                               ACCOUNTANT      36000.0  FCT Abuja\n",
       "26663     37  DANTATA AND CO (CHIEF SECURITY OFFICER)      80000.0  FCT Abuja\n",
       "26705     26                            CIVIL DEFENCE     130000.0      Niger\n",
       "26711     37                  MANAGER( BLOCK INDUSTR)      20000.0  FCT Abuja\n",
       "26720     37                               ACCOUNTANT      73000.0  FCT Abuja\n",
       "\n",
       "[1201 rows x 4 columns]"
      ]
     },
     "execution_count": 12,
     "metadata": {},
     "output_type": "execute_result"
    }
   ],
   "source": [
    "LSMS2_df=mutate(LSMS2_sv,state_name=case_when(f.state==1,'Abia', f.state==2,'Adamawa',f.state==3,'Akwa Ibom',\n",
    "                                                         f.state==4,'Anambra',f.state==5,'Bauchi',f.state==6,'Bayelsa',\n",
    "                                                          f.state==7,'Benue',f.state==8,'Borno',f.state==9,'Cross River',\n",
    "                                                       f.state==10,'Delta', f.state==11,'Ebonyi',f.state==12,'Edo', \n",
    "                                                        f.state==13,'Ekiti', f.state==14,'Enugu',f.state==15,'Gombe',\n",
    "                                                        f.state==16,'Imo',f.state==17,'Jigawa',f.state==18,'Kaduna',\n",
    "                                                          f.state==19,'Kano',f.state==20,'Katsina',f.state==21,'Kebbi',\n",
    "                                                         f.state==22,'Kogi',f.state==23,'Kwara',f.state==24,'Lagos',\n",
    "                                                         f.state==25,'Nasarawa',f.state==26,'Niger',f.state==27,'Ogun',\n",
    "                                                         f.state==28,'Ondo',f.state==29,'Osun',f.state==30,'Oyo',\n",
    "                                                         f.state==31,'Plateau',f.state==32,'Rivers',f.state==33,'Sokoto',\n",
    "                                                        f.state==34,'Taraba',f.state==35,'Yobe',f.state==36,'Zamfara',\n",
    "                                                         f.state==37,'FCT Abuja')\n",
    "                                        .drop(columns='state'))\n",
    "LSMS2_df"
   ]
  },
  {
   "cell_type": "code",
   "execution_count": 13,
   "metadata": {},
   "outputs": [
    {
     "data": {
      "text/html": [
       "<div>\n",
       "<style scoped>\n",
       "    .dataframe tbody tr th:only-of-type {\n",
       "        vertical-align: middle;\n",
       "    }\n",
       "\n",
       "    .dataframe tbody tr th {\n",
       "        vertical-align: top;\n",
       "    }\n",
       "\n",
       "    .dataframe thead th {\n",
       "        text-align: right;\n",
       "    }\n",
       "</style>\n",
       "<table border=\"1\" class=\"dataframe\">\n",
       "  <thead>\n",
       "    <tr style=\"text-align: right;\">\n",
       "      <th></th>\n",
       "      <th>state</th>\n",
       "      <th>labour_type</th>\n",
       "      <th>Income_dist</th>\n",
       "      <th>state_name</th>\n",
       "    </tr>\n",
       "  </thead>\n",
       "  <tbody>\n",
       "    <tr>\n",
       "      <th>0</th>\n",
       "      <td>1</td>\n",
       "      <td>CIVIL SERVANT</td>\n",
       "      <td>67800.0</td>\n",
       "      <td>Abia</td>\n",
       "    </tr>\n",
       "    <tr>\n",
       "      <th>1</th>\n",
       "      <td>1</td>\n",
       "      <td>CIVIL SERVANT</td>\n",
       "      <td>42300.0</td>\n",
       "      <td>Abia</td>\n",
       "    </tr>\n",
       "    <tr>\n",
       "      <th>3</th>\n",
       "      <td>1</td>\n",
       "      <td>NANNY</td>\n",
       "      <td>12000.0</td>\n",
       "      <td>Abia</td>\n",
       "    </tr>\n",
       "    <tr>\n",
       "      <th>5</th>\n",
       "      <td>1</td>\n",
       "      <td>LEGALPRACTIONER</td>\n",
       "      <td>150000.0</td>\n",
       "      <td>Abia</td>\n",
       "    </tr>\n",
       "    <tr>\n",
       "      <th>6</th>\n",
       "      <td>1</td>\n",
       "      <td>ADMINISTRATION</td>\n",
       "      <td>64200.0</td>\n",
       "      <td>Abia</td>\n",
       "    </tr>\n",
       "    <tr>\n",
       "      <th>...</th>\n",
       "      <td>...</td>\n",
       "      <td>...</td>\n",
       "      <td>...</td>\n",
       "      <td>...</td>\n",
       "    </tr>\n",
       "    <tr>\n",
       "      <th>26658</th>\n",
       "      <td>37</td>\n",
       "      <td>ACCOUNTANT</td>\n",
       "      <td>36000.0</td>\n",
       "      <td>FCT Abuja</td>\n",
       "    </tr>\n",
       "    <tr>\n",
       "      <th>26663</th>\n",
       "      <td>37</td>\n",
       "      <td>DANTATA AND CO (CHIEF SECURITY OFFICER)</td>\n",
       "      <td>80000.0</td>\n",
       "      <td>FCT Abuja</td>\n",
       "    </tr>\n",
       "    <tr>\n",
       "      <th>26705</th>\n",
       "      <td>26</td>\n",
       "      <td>CIVIL DEFENCE</td>\n",
       "      <td>130000.0</td>\n",
       "      <td>Niger</td>\n",
       "    </tr>\n",
       "    <tr>\n",
       "      <th>26711</th>\n",
       "      <td>37</td>\n",
       "      <td>MANAGER( BLOCK INDUSTR)</td>\n",
       "      <td>20000.0</td>\n",
       "      <td>FCT Abuja</td>\n",
       "    </tr>\n",
       "    <tr>\n",
       "      <th>26720</th>\n",
       "      <td>37</td>\n",
       "      <td>ACCOUNTANT</td>\n",
       "      <td>73000.0</td>\n",
       "      <td>FCT Abuja</td>\n",
       "    </tr>\n",
       "  </tbody>\n",
       "</table>\n",
       "<p>1201 rows × 4 columns</p>\n",
       "</div>"
      ],
      "text/plain": [
       "       state                              labour_type  Income_dist state_name\n",
       "0          1                            CIVIL SERVANT      67800.0       Abia\n",
       "1          1                            CIVIL SERVANT      42300.0       Abia\n",
       "3          1                                    NANNY      12000.0       Abia\n",
       "5          1                          LEGALPRACTIONER     150000.0       Abia\n",
       "6          1                           ADMINISTRATION      64200.0       Abia\n",
       "...      ...                                      ...          ...        ...\n",
       "26658     37                               ACCOUNTANT      36000.0  FCT Abuja\n",
       "26663     37  DANTATA AND CO (CHIEF SECURITY OFFICER)      80000.0  FCT Abuja\n",
       "26705     26                            CIVIL DEFENCE     130000.0      Niger\n",
       "26711     37                  MANAGER( BLOCK INDUSTR)      20000.0  FCT Abuja\n",
       "26720     37                               ACCOUNTANT      73000.0  FCT Abuja\n",
       "\n",
       "[1201 rows x 4 columns]"
      ]
     },
     "execution_count": 13,
     "metadata": {},
     "output_type": "execute_result"
    }
   ],
   "source": [
    "LSMS2_df"
   ]
  },
  {
   "cell_type": "code",
   "execution_count": 14,
   "metadata": {},
   "outputs": [
    {
     "data": {
      "text/plain": [
       "labour_type\n",
       "(BRT BUS) SUPERVISOR                       65000.0\n",
       "(CLERK) MINISTRY OF EDUCATION              33200.0\n",
       "(PASTOR) RELIGION PROFFESSIONALS           50000.0\n",
       "(SALE'S GIRL) RESTAURANT                    5000.0\n",
       "A COMMUNITY POLICE                         10000.0\n",
       "                                            ...   \n",
       "WORK FOR PLASTIC COMPANY                   10000.0\n",
       "WORK IN PRISON (WARDER)                   120000.0\n",
       "WORKIING AT PHCN OFFICE AT MALUFASHI       35000.0\n",
       "WORKING AS A DRIVER IN A TRANSPORT COY     35000.0\n",
       "X-RAY OFFICER                              65000.0\n",
       "Name: Income_dist, Length: 870, dtype: float64"
      ]
     },
     "execution_count": 14,
     "metadata": {},
     "output_type": "execute_result"
    }
   ],
   "source": [
    "dff=LSMS2_df.groupby(['labour_type'])['Income_dist'].mean()\n",
    "dff\n"
   ]
  },
  {
   "cell_type": "code",
   "execution_count": 15,
   "metadata": {},
   "outputs": [],
   "source": [
    "import plotly.express as px"
   ]
  },
  {
   "cell_type": "code",
   "execution_count": 16,
   "metadata": {},
   "outputs": [
    {
     "data": {
      "application/vnd.plotly.v1+json": {
       "config": {
        "plotlyServerURL": "https://plot.ly"
       },
       "data": [
        {
         "alignmentgroup": "True",
         "hovertemplate": "<b>%{hovertext}</b><br><br>labour_type=%{x}<br>Income_dist=%{y}<extra></extra>",
         "hovertext": [
          67800,
          42300,
          38000,
          26000,
          20000,
          40000,
          39000,
          25000
         ],
         "legendgroup": "CIVIL SERVANT",
         "marker": {
          "color": "#636efa",
          "pattern": {
           "shape": ""
          }
         },
         "name": "CIVIL SERVANT",
         "offsetgroup": "CIVIL SERVANT",
         "orientation": "v",
         "showlegend": true,
         "textposition": "auto",
         "type": "bar",
         "x": [
          "CIVIL SERVANT",
          "CIVIL SERVANT",
          "CIVIL SERVANT",
          "CIVIL SERVANT",
          "CIVIL SERVANT",
          "CIVIL SERVANT",
          "CIVIL SERVANT",
          "CIVIL SERVANT"
         ],
         "xaxis": "x",
         "y": [
          67800,
          42300,
          38000,
          26000,
          20000,
          40000,
          39000,
          25000
         ],
         "yaxis": "y"
        },
        {
         "alignmentgroup": "True",
         "hovertemplate": "<b>%{hovertext}</b><br><br>labour_type=%{x}<br>Income_dist=%{y}<extra></extra>",
         "hovertext": [
          12000
         ],
         "legendgroup": "NANNY",
         "marker": {
          "color": "#EF553B",
          "pattern": {
           "shape": ""
          }
         },
         "name": "NANNY",
         "offsetgroup": "NANNY",
         "orientation": "v",
         "showlegend": true,
         "textposition": "auto",
         "type": "bar",
         "x": [
          "NANNY"
         ],
         "xaxis": "x",
         "y": [
          12000
         ],
         "yaxis": "y"
        },
        {
         "alignmentgroup": "True",
         "hovertemplate": "<b>%{hovertext}</b><br><br>labour_type=%{x}<br>Income_dist=%{y}<extra></extra>",
         "hovertext": [
          150000
         ],
         "legendgroup": "LEGALPRACTIONER",
         "marker": {
          "color": "#00cc96",
          "pattern": {
           "shape": ""
          }
         },
         "name": "LEGALPRACTIONER",
         "offsetgroup": "LEGALPRACTIONER",
         "orientation": "v",
         "showlegend": true,
         "textposition": "auto",
         "type": "bar",
         "x": [
          "LEGALPRACTIONER"
         ],
         "xaxis": "x",
         "y": [
          150000
         ],
         "yaxis": "y"
        },
        {
         "alignmentgroup": "True",
         "hovertemplate": "<b>%{hovertext}</b><br><br>labour_type=%{x}<br>Income_dist=%{y}<extra></extra>",
         "hovertext": [
          64200,
          130000,
          33000,
          55000,
          35000
         ],
         "legendgroup": "ADMINISTRATION",
         "marker": {
          "color": "#ab63fa",
          "pattern": {
           "shape": ""
          }
         },
         "name": "ADMINISTRATION",
         "offsetgroup": "ADMINISTRATION",
         "orientation": "v",
         "showlegend": true,
         "textposition": "auto",
         "type": "bar",
         "x": [
          "ADMINISTRATION",
          "ADMINISTRATION",
          "ADMINISTRATION",
          "ADMINISTRATION",
          "ADMINISTRATION"
         ],
         "xaxis": "x",
         "y": [
          64200,
          130000,
          33000,
          55000,
          35000
         ],
         "yaxis": "y"
        },
        {
         "alignmentgroup": "True",
         "hovertemplate": "<b>%{hovertext}</b><br><br>labour_type=%{x}<br>Income_dist=%{y}<extra></extra>",
         "hovertext": [
          210000
         ],
         "legendgroup": "ADMINISTRATION (INEC)",
         "marker": {
          "color": "#FFA15A",
          "pattern": {
           "shape": ""
          }
         },
         "name": "ADMINISTRATION (INEC)",
         "offsetgroup": "ADMINISTRATION (INEC)",
         "orientation": "v",
         "showlegend": true,
         "textposition": "auto",
         "type": "bar",
         "x": [
          "ADMINISTRATION (INEC)"
         ],
         "xaxis": "x",
         "y": [
          210000
         ],
         "yaxis": "y"
        },
        {
         "alignmentgroup": "True",
         "hovertemplate": "<b>%{hovertext}</b><br><br>labour_type=%{x}<br>Income_dist=%{y}<extra></extra>",
         "hovertext": [
          102000
         ],
         "legendgroup": "ADMINISTRATION (LGA)",
         "marker": {
          "color": "#19d3f3",
          "pattern": {
           "shape": ""
          }
         },
         "name": "ADMINISTRATION (LGA)",
         "offsetgroup": "ADMINISTRATION (LGA)",
         "orientation": "v",
         "showlegend": true,
         "textposition": "auto",
         "type": "bar",
         "x": [
          "ADMINISTRATION (LGA)"
         ],
         "xaxis": "x",
         "y": [
          102000
         ],
         "yaxis": "y"
        },
        {
         "alignmentgroup": "True",
         "hovertemplate": "<b>%{hovertext}</b><br><br>labour_type=%{x}<br>Income_dist=%{y}<extra></extra>",
         "hovertext": [
          80000
         ],
         "legendgroup": "ADMINISTARTION ( HEAD OF SERVICE)",
         "marker": {
          "color": "#FF6692",
          "pattern": {
           "shape": ""
          }
         },
         "name": "ADMINISTARTION ( HEAD OF SERVICE)",
         "offsetgroup": "ADMINISTARTION ( HEAD OF SERVICE)",
         "orientation": "v",
         "showlegend": true,
         "textposition": "auto",
         "type": "bar",
         "x": [
          "ADMINISTARTION ( HEAD OF SERVICE)"
         ],
         "xaxis": "x",
         "y": [
          80000
         ],
         "yaxis": "y"
        },
        {
         "alignmentgroup": "True",
         "hovertemplate": "<b>%{hovertext}</b><br><br>labour_type=%{x}<br>Income_dist=%{y}<extra></extra>",
         "hovertext": [
          18000
         ],
         "legendgroup": "ADMINISTARTION (INEC)",
         "marker": {
          "color": "#B6E880",
          "pattern": {
           "shape": ""
          }
         },
         "name": "ADMINISTARTION (INEC)",
         "offsetgroup": "ADMINISTARTION (INEC)",
         "orientation": "v",
         "showlegend": true,
         "textposition": "auto",
         "type": "bar",
         "x": [
          "ADMINISTARTION (INEC)"
         ],
         "xaxis": "x",
         "y": [
          18000
         ],
         "yaxis": "y"
        },
        {
         "alignmentgroup": "True",
         "hovertemplate": "<b>%{hovertext}</b><br><br>labour_type=%{x}<br>Income_dist=%{y}<extra></extra>",
         "hovertext": [
          74000
         ],
         "legendgroup": "IMMIGRATION STAFF",
         "marker": {
          "color": "#FF97FF",
          "pattern": {
           "shape": ""
          }
         },
         "name": "IMMIGRATION STAFF",
         "offsetgroup": "IMMIGRATION STAFF",
         "orientation": "v",
         "showlegend": true,
         "textposition": "auto",
         "type": "bar",
         "x": [
          "IMMIGRATION STAFF"
         ],
         "xaxis": "x",
         "y": [
          74000
         ],
         "yaxis": "y"
        },
        {
         "alignmentgroup": "True",
         "hovertemplate": "<b>%{hovertext}</b><br><br>labour_type=%{x}<br>Income_dist=%{y}<extra></extra>",
         "hovertext": [
          48000
         ],
         "legendgroup": "MINISTRY OF ENVIRONMENT(SECRETARY)",
         "marker": {
          "color": "#FECB52",
          "pattern": {
           "shape": ""
          }
         },
         "name": "MINISTRY OF ENVIRONMENT(SECRETARY)",
         "offsetgroup": "MINISTRY OF ENVIRONMENT(SECRETARY)",
         "orientation": "v",
         "showlegend": true,
         "textposition": "auto",
         "type": "bar",
         "x": [
          "MINISTRY OF ENVIRONMENT(SECRETARY)"
         ],
         "xaxis": "x",
         "y": [
          48000
         ],
         "yaxis": "y"
        },
        {
         "alignmentgroup": "True",
         "hovertemplate": "<b>%{hovertext}</b><br><br>labour_type=%{x}<br>Income_dist=%{y}<extra></extra>",
         "hovertext": [
          260000,
          85000,
          140000
         ],
         "legendgroup": "UNIVERSITY LECTURER",
         "marker": {
          "color": "#636efa",
          "pattern": {
           "shape": ""
          }
         },
         "name": "UNIVERSITY LECTURER",
         "offsetgroup": "UNIVERSITY LECTURER",
         "orientation": "v",
         "showlegend": true,
         "textposition": "auto",
         "type": "bar",
         "x": [
          "UNIVERSITY LECTURER",
          "UNIVERSITY LECTURER",
          "UNIVERSITY LECTURER"
         ],
         "xaxis": "x",
         "y": [
          260000,
          85000,
          140000
         ],
         "yaxis": "y"
        },
        {
         "alignmentgroup": "True",
         "hovertemplate": "<b>%{hovertext}</b><br><br>labour_type=%{x}<br>Income_dist=%{y}<extra></extra>",
         "hovertext": [
          67000,
          75000
         ],
         "legendgroup": "SECONDARY SCH. TEACHER",
         "marker": {
          "color": "#EF553B",
          "pattern": {
           "shape": ""
          }
         },
         "name": "SECONDARY SCH. TEACHER",
         "offsetgroup": "SECONDARY SCH. TEACHER",
         "orientation": "v",
         "showlegend": true,
         "textposition": "auto",
         "type": "bar",
         "x": [
          "SECONDARY SCH. TEACHER",
          "SECONDARY SCH. TEACHER"
         ],
         "xaxis": "x",
         "y": [
          67000,
          75000
         ],
         "yaxis": "y"
        },
        {
         "alignmentgroup": "True",
         "hovertemplate": "<b>%{hovertext}</b><br><br>labour_type=%{x}<br>Income_dist=%{y}<extra></extra>",
         "hovertext": [
          136000
         ],
         "legendgroup": "NRCRI (ADMIN)",
         "marker": {
          "color": "#00cc96",
          "pattern": {
           "shape": ""
          }
         },
         "name": "NRCRI (ADMIN)",
         "offsetgroup": "NRCRI (ADMIN)",
         "orientation": "v",
         "showlegend": true,
         "textposition": "auto",
         "type": "bar",
         "x": [
          "NRCRI (ADMIN)"
         ],
         "xaxis": "x",
         "y": [
          136000
         ],
         "yaxis": "y"
        },
        {
         "alignmentgroup": "True",
         "hovertemplate": "<b>%{hovertext}</b><br><br>labour_type=%{x}<br>Income_dist=%{y}<extra></extra>",
         "hovertext": [
          94000
         ],
         "legendgroup": "NRCRI (CLERK)",
         "marker": {
          "color": "#ab63fa",
          "pattern": {
           "shape": ""
          }
         },
         "name": "NRCRI (CLERK)",
         "offsetgroup": "NRCRI (CLERK)",
         "orientation": "v",
         "showlegend": true,
         "textposition": "auto",
         "type": "bar",
         "x": [
          "NRCRI (CLERK)"
         ],
         "xaxis": "x",
         "y": [
          94000
         ],
         "yaxis": "y"
        },
        {
         "alignmentgroup": "True",
         "hovertemplate": "<b>%{hovertext}</b><br><br>labour_type=%{x}<br>Income_dist=%{y}<extra></extra>",
         "hovertext": [
          35800,
          30000
         ],
         "legendgroup": "SHOP SALES PERSON",
         "marker": {
          "color": "#FFA15A",
          "pattern": {
           "shape": ""
          }
         },
         "name": "SHOP SALES PERSON",
         "offsetgroup": "SHOP SALES PERSON",
         "orientation": "v",
         "showlegend": true,
         "textposition": "auto",
         "type": "bar",
         "x": [
          "SHOP SALES PERSON",
          "SHOP SALES PERSON"
         ],
         "xaxis": "x",
         "y": [
          35800,
          30000
         ],
         "yaxis": "y"
        },
        {
         "alignmentgroup": "True",
         "hovertemplate": "<b>%{hovertext}</b><br><br>labour_type=%{x}<br>Income_dist=%{y}<extra></extra>",
         "hovertext": [
          68000
         ],
         "legendgroup": "CIVIL SERVANT (HEALTH STAFF)",
         "marker": {
          "color": "#19d3f3",
          "pattern": {
           "shape": ""
          }
         },
         "name": "CIVIL SERVANT (HEALTH STAFF)",
         "offsetgroup": "CIVIL SERVANT (HEALTH STAFF)",
         "orientation": "v",
         "showlegend": true,
         "textposition": "auto",
         "type": "bar",
         "x": [
          "CIVIL SERVANT (HEALTH STAFF)"
         ],
         "xaxis": "x",
         "y": [
          68000
         ],
         "yaxis": "y"
        },
        {
         "alignmentgroup": "True",
         "hovertemplate": "<b>%{hovertext}</b><br><br>labour_type=%{x}<br>Income_dist=%{y}<extra></extra>",
         "hovertext": [
          94000
         ],
         "legendgroup": "CIVIL SERVANT (SPORT COUNCIL)",
         "marker": {
          "color": "#FF6692",
          "pattern": {
           "shape": ""
          }
         },
         "name": "CIVIL SERVANT (SPORT COUNCIL)",
         "offsetgroup": "CIVIL SERVANT (SPORT COUNCIL)",
         "orientation": "v",
         "showlegend": true,
         "textposition": "auto",
         "type": "bar",
         "x": [
          "CIVIL SERVANT (SPORT COUNCIL)"
         ],
         "xaxis": "x",
         "y": [
          94000
         ],
         "yaxis": "y"
        },
        {
         "alignmentgroup": "True",
         "hovertemplate": "<b>%{hovertext}</b><br><br>labour_type=%{x}<br>Income_dist=%{y}<extra></extra>",
         "hovertext": [
          47000
         ],
         "legendgroup": "CIVIL SERVANT (ADMIN CLARK)",
         "marker": {
          "color": "#B6E880",
          "pattern": {
           "shape": ""
          }
         },
         "name": "CIVIL SERVANT (ADMIN CLARK)",
         "offsetgroup": "CIVIL SERVANT (ADMIN CLARK)",
         "orientation": "v",
         "showlegend": true,
         "textposition": "auto",
         "type": "bar",
         "x": [
          "CIVIL SERVANT (ADMIN CLARK)"
         ],
         "xaxis": "x",
         "y": [
          47000
         ],
         "yaxis": "y"
        },
        {
         "alignmentgroup": "True",
         "hovertemplate": "<b>%{hovertext}</b><br><br>labour_type=%{x}<br>Income_dist=%{y}<extra></extra>",
         "hovertext": [
          33200
         ],
         "legendgroup": "(CLERK) MINISTRY OF EDUCATION",
         "marker": {
          "color": "#FF97FF",
          "pattern": {
           "shape": ""
          }
         },
         "name": "(CLERK) MINISTRY OF EDUCATION",
         "offsetgroup": "(CLERK) MINISTRY OF EDUCATION",
         "orientation": "v",
         "showlegend": true,
         "textposition": "auto",
         "type": "bar",
         "x": [
          "(CLERK) MINISTRY OF EDUCATION"
         ],
         "xaxis": "x",
         "y": [
          33200
         ],
         "yaxis": "y"
        },
        {
         "alignmentgroup": "True",
         "hovertemplate": "<b>%{hovertext}</b><br><br>labour_type=%{x}<br>Income_dist=%{y}<extra></extra>",
         "hovertext": [
          5000,
          5000,
          5000
         ],
         "legendgroup": "(SALE'S GIRL) RESTAURANT",
         "marker": {
          "color": "#FECB52",
          "pattern": {
           "shape": ""
          }
         },
         "name": "(SALE'S GIRL) RESTAURANT",
         "offsetgroup": "(SALE'S GIRL) RESTAURANT",
         "orientation": "v",
         "showlegend": true,
         "textposition": "auto",
         "type": "bar",
         "x": [
          "(SALE'S GIRL) RESTAURANT",
          "(SALE'S GIRL) RESTAURANT",
          "(SALE'S GIRL) RESTAURANT"
         ],
         "xaxis": "x",
         "y": [
          5000,
          5000,
          5000
         ],
         "yaxis": "y"
        },
        {
         "alignmentgroup": "True",
         "hovertemplate": "<b>%{hovertext}</b><br><br>labour_type=%{x}<br>Income_dist=%{y}<extra></extra>",
         "hovertext": [
          43000
         ],
         "legendgroup": "CLERK MINISTRY OF EDUCATION",
         "marker": {
          "color": "#636efa",
          "pattern": {
           "shape": ""
          }
         },
         "name": "CLERK MINISTRY OF EDUCATION",
         "offsetgroup": "CLERK MINISTRY OF EDUCATION",
         "orientation": "v",
         "showlegend": true,
         "textposition": "auto",
         "type": "bar",
         "x": [
          "CLERK MINISTRY OF EDUCATION"
         ],
         "xaxis": "x",
         "y": [
          43000
         ],
         "yaxis": "y"
        },
        {
         "alignmentgroup": "True",
         "hovertemplate": "<b>%{hovertext}</b><br><br>labour_type=%{x}<br>Income_dist=%{y}<extra></extra>",
         "hovertext": [
          12000
         ],
         "legendgroup": "NITEL WATCHER AND DOOR KEEPER",
         "marker": {
          "color": "#EF553B",
          "pattern": {
           "shape": ""
          }
         },
         "name": "NITEL WATCHER AND DOOR KEEPER",
         "offsetgroup": "NITEL WATCHER AND DOOR KEEPER",
         "orientation": "v",
         "showlegend": true,
         "textposition": "auto",
         "type": "bar",
         "x": [
          "NITEL WATCHER AND DOOR KEEPER"
         ],
         "xaxis": "x",
         "y": [
          12000
         ],
         "yaxis": "y"
        },
        {
         "alignmentgroup": "True",
         "hovertemplate": "<b>%{hovertext}</b><br><br>labour_type=%{x}<br>Income_dist=%{y}<extra></extra>",
         "hovertext": [
          75800,
          30000
         ],
         "legendgroup": "REVENUE OFFICER",
         "marker": {
          "color": "#00cc96",
          "pattern": {
           "shape": ""
          }
         },
         "name": "REVENUE OFFICER",
         "offsetgroup": "REVENUE OFFICER",
         "orientation": "v",
         "showlegend": true,
         "textposition": "auto",
         "type": "bar",
         "x": [
          "REVENUE OFFICER",
          "REVENUE OFFICER"
         ],
         "xaxis": "x",
         "y": [
          75800,
          30000
         ],
         "yaxis": "y"
        },
        {
         "alignmentgroup": "True",
         "hovertemplate": "<b>%{hovertext}</b><br><br>labour_type=%{x}<br>Income_dist=%{y}<extra></extra>",
         "hovertext": [
          82600
         ],
         "legendgroup": "SECONDARY SCHOOL PRINCIPAL",
         "marker": {
          "color": "#ab63fa",
          "pattern": {
           "shape": ""
          }
         },
         "name": "SECONDARY SCHOOL PRINCIPAL",
         "offsetgroup": "SECONDARY SCHOOL PRINCIPAL",
         "orientation": "v",
         "showlegend": true,
         "textposition": "auto",
         "type": "bar",
         "x": [
          "SECONDARY SCHOOL PRINCIPAL"
         ],
         "xaxis": "x",
         "y": [
          82600
         ],
         "yaxis": "y"
        },
        {
         "alignmentgroup": "True",
         "hovertemplate": "<b>%{hovertext}</b><br><br>labour_type=%{x}<br>Income_dist=%{y}<extra></extra>",
         "hovertext": [
          30000,
          25000
         ],
         "legendgroup": "COMPUTER PROGRAMMES",
         "marker": {
          "color": "#FFA15A",
          "pattern": {
           "shape": ""
          }
         },
         "name": "COMPUTER PROGRAMMES",
         "offsetgroup": "COMPUTER PROGRAMMES",
         "orientation": "v",
         "showlegend": true,
         "textposition": "auto",
         "type": "bar",
         "x": [
          "COMPUTER PROGRAMMES",
          "COMPUTER PROGRAMMES"
         ],
         "xaxis": "x",
         "y": [
          30000,
          25000
         ],
         "yaxis": "y"
        },
        {
         "alignmentgroup": "True",
         "hovertemplate": "<b>%{hovertext}</b><br><br>labour_type=%{x}<br>Income_dist=%{y}<extra></extra>",
         "hovertext": [
          30000
         ],
         "legendgroup": "CIVIL SERVANT (TAX COLLECTOR)",
         "marker": {
          "color": "#19d3f3",
          "pattern": {
           "shape": ""
          }
         },
         "name": "CIVIL SERVANT (TAX COLLECTOR)",
         "offsetgroup": "CIVIL SERVANT (TAX COLLECTOR)",
         "orientation": "v",
         "showlegend": true,
         "textposition": "auto",
         "type": "bar",
         "x": [
          "CIVIL SERVANT (TAX COLLECTOR)"
         ],
         "xaxis": "x",
         "y": [
          30000
         ],
         "yaxis": "y"
        },
        {
         "alignmentgroup": "True",
         "hovertemplate": "<b>%{hovertext}</b><br><br>labour_type=%{x}<br>Income_dist=%{y}<extra></extra>",
         "hovertext": [
          1000
         ],
         "legendgroup": "SERVING MENEY",
         "marker": {
          "color": "#FF6692",
          "pattern": {
           "shape": ""
          }
         },
         "name": "SERVING MENEY",
         "offsetgroup": "SERVING MENEY",
         "orientation": "v",
         "showlegend": true,
         "textposition": "auto",
         "type": "bar",
         "x": [
          "SERVING MENEY"
         ],
         "xaxis": "x",
         "y": [
          1000
         ],
         "yaxis": "y"
        },
        {
         "alignmentgroup": "True",
         "hovertemplate": "<b>%{hovertext}</b><br><br>labour_type=%{x}<br>Income_dist=%{y}<extra></extra>",
         "hovertext": [
          3000
         ],
         "legendgroup": "IRON BENDING WORK",
         "marker": {
          "color": "#B6E880",
          "pattern": {
           "shape": ""
          }
         },
         "name": "IRON BENDING WORK",
         "offsetgroup": "IRON BENDING WORK",
         "orientation": "v",
         "showlegend": true,
         "textposition": "auto",
         "type": "bar",
         "x": [
          "IRON BENDING WORK"
         ],
         "xaxis": "x",
         "y": [
          3000
         ],
         "yaxis": "y"
        },
        {
         "alignmentgroup": "True",
         "hovertemplate": "<b>%{hovertext}</b><br><br>labour_type=%{x}<br>Income_dist=%{y}<extra></extra>",
         "hovertext": [
          33750,
          38000
         ],
         "legendgroup": "CLERK",
         "marker": {
          "color": "#FF97FF",
          "pattern": {
           "shape": ""
          }
         },
         "name": "CLERK",
         "offsetgroup": "CLERK",
         "orientation": "v",
         "showlegend": true,
         "textposition": "auto",
         "type": "bar",
         "x": [
          "CLERK",
          "CLERK"
         ],
         "xaxis": "x",
         "y": [
          33750,
          38000
         ],
         "yaxis": "y"
        },
        {
         "alignmentgroup": "True",
         "hovertemplate": "<b>%{hovertext}</b><br><br>labour_type=%{x}<br>Income_dist=%{y}<extra></extra>",
         "hovertext": [
          20000,
          22000,
          161000,
          80000
         ],
         "legendgroup": "NURSE",
         "marker": {
          "color": "#FECB52",
          "pattern": {
           "shape": ""
          }
         },
         "name": "NURSE",
         "offsetgroup": "NURSE",
         "orientation": "v",
         "showlegend": true,
         "textposition": "auto",
         "type": "bar",
         "x": [
          "NURSE",
          "NURSE",
          "NURSE",
          "NURSE"
         ],
         "xaxis": "x",
         "y": [
          20000,
          22000,
          161000,
          80000
         ],
         "yaxis": "y"
        },
        {
         "alignmentgroup": "True",
         "hovertemplate": "<b>%{hovertext}</b><br><br>labour_type=%{x}<br>Income_dist=%{y}<extra></extra>",
         "hovertext": [
          210000
         ],
         "legendgroup": "SALES MANAGER",
         "marker": {
          "color": "#636efa",
          "pattern": {
           "shape": ""
          }
         },
         "name": "SALES MANAGER",
         "offsetgroup": "SALES MANAGER",
         "orientation": "v",
         "showlegend": true,
         "textposition": "auto",
         "type": "bar",
         "x": [
          "SALES MANAGER"
         ],
         "xaxis": "x",
         "y": [
          210000
         ],
         "yaxis": "y"
        },
        {
         "alignmentgroup": "True",
         "hovertemplate": "<b>%{hovertext}</b><br><br>labour_type=%{x}<br>Income_dist=%{y}<extra></extra>",
         "hovertext": [
          86000,
          96000,
          45000
         ],
         "legendgroup": "ADMINISTRATIVE CLERK",
         "marker": {
          "color": "#EF553B",
          "pattern": {
           "shape": ""
          }
         },
         "name": "ADMINISTRATIVE CLERK",
         "offsetgroup": "ADMINISTRATIVE CLERK",
         "orientation": "v",
         "showlegend": true,
         "textposition": "auto",
         "type": "bar",
         "x": [
          "ADMINISTRATIVE CLERK",
          "ADMINISTRATIVE CLERK",
          "ADMINISTRATIVE CLERK"
         ],
         "xaxis": "x",
         "y": [
          86000,
          96000,
          45000
         ],
         "yaxis": "y"
        },
        {
         "alignmentgroup": "True",
         "hovertemplate": "<b>%{hovertext}</b><br><br>labour_type=%{x}<br>Income_dist=%{y}<extra></extra>",
         "hovertext": [
          33200
         ],
         "legendgroup": "PRODUCTION CLERK IN PAIT MANUFACTURING",
         "marker": {
          "color": "#00cc96",
          "pattern": {
           "shape": ""
          }
         },
         "name": "PRODUCTION CLERK IN PAIT MANUFACTURING",
         "offsetgroup": "PRODUCTION CLERK IN PAIT MANUFACTURING",
         "orientation": "v",
         "showlegend": true,
         "textposition": "auto",
         "type": "bar",
         "x": [
          "PRODUCTION CLERK IN PAIT MANUFACTURING"
         ],
         "xaxis": "x",
         "y": [
          33200
         ],
         "yaxis": "y"
        },
        {
         "alignmentgroup": "True",
         "hovertemplate": "<b>%{hovertext}</b><br><br>labour_type=%{x}<br>Income_dist=%{y}<extra></extra>",
         "hovertext": [
          30000
         ],
         "legendgroup": "PRODUCTION CLERK IN PAIN MAN INDUSTRY",
         "marker": {
          "color": "#ab63fa",
          "pattern": {
           "shape": ""
          }
         },
         "name": "PRODUCTION CLERK IN PAIN MAN INDUSTRY",
         "offsetgroup": "PRODUCTION CLERK IN PAIN MAN INDUSTRY",
         "orientation": "v",
         "showlegend": true,
         "textposition": "auto",
         "type": "bar",
         "x": [
          "PRODUCTION CLERK IN PAIN MAN INDUSTRY"
         ],
         "xaxis": "x",
         "y": [
          30000
         ],
         "yaxis": "y"
        },
        {
         "alignmentgroup": "True",
         "hovertemplate": "<b>%{hovertext}</b><br><br>labour_type=%{x}<br>Income_dist=%{y}<extra></extra>",
         "hovertext": [
          38000
         ],
         "legendgroup": "PRODUCTION CLERK IN PAINT MAN INDUSTRY",
         "marker": {
          "color": "#FFA15A",
          "pattern": {
           "shape": ""
          }
         },
         "name": "PRODUCTION CLERK IN PAINT MAN INDUSTRY",
         "offsetgroup": "PRODUCTION CLERK IN PAINT MAN INDUSTRY",
         "orientation": "v",
         "showlegend": true,
         "textposition": "auto",
         "type": "bar",
         "x": [
          "PRODUCTION CLERK IN PAINT MAN INDUSTRY"
         ],
         "xaxis": "x",
         "y": [
          38000
         ],
         "yaxis": "y"
        },
        {
         "alignmentgroup": "True",
         "hovertemplate": "<b>%{hovertext}</b><br><br>labour_type=%{x}<br>Income_dist=%{y}<extra></extra>",
         "hovertext": [
          40000,
          15000,
          9000,
          40000,
          63000,
          58000,
          60000,
          58000,
          56000,
          25000,
          25000,
          37800,
          26000,
          23000,
          29300,
          40000,
          39500,
          65000,
          63000,
          34000,
          19500,
          63000,
          18000,
          24000,
          21000,
          40000,
          5000,
          40000,
          40000,
          7000,
          27500,
          10000,
          80000,
          43000,
          53000,
          54000,
          40000,
          40000,
          40000,
          22000
         ],
         "legendgroup": "PRIMARY SCHOOL TEACHER",
         "marker": {
          "color": "#19d3f3",
          "pattern": {
           "shape": ""
          }
         },
         "name": "PRIMARY SCHOOL TEACHER",
         "offsetgroup": "PRIMARY SCHOOL TEACHER",
         "orientation": "v",
         "showlegend": true,
         "textposition": "auto",
         "type": "bar",
         "x": [
          "PRIMARY SCHOOL TEACHER",
          "PRIMARY SCHOOL TEACHER",
          "PRIMARY SCHOOL TEACHER",
          "PRIMARY SCHOOL TEACHER",
          "PRIMARY SCHOOL TEACHER",
          "PRIMARY SCHOOL TEACHER",
          "PRIMARY SCHOOL TEACHER",
          "PRIMARY SCHOOL TEACHER",
          "PRIMARY SCHOOL TEACHER",
          "PRIMARY SCHOOL TEACHER",
          "PRIMARY SCHOOL TEACHER",
          "PRIMARY SCHOOL TEACHER",
          "PRIMARY SCHOOL TEACHER",
          "PRIMARY SCHOOL TEACHER",
          "PRIMARY SCHOOL TEACHER",
          "PRIMARY SCHOOL TEACHER",
          "PRIMARY SCHOOL TEACHER",
          "PRIMARY SCHOOL TEACHER",
          "PRIMARY SCHOOL TEACHER",
          "PRIMARY SCHOOL TEACHER",
          "PRIMARY SCHOOL TEACHER",
          "PRIMARY SCHOOL TEACHER",
          "PRIMARY SCHOOL TEACHER",
          "PRIMARY SCHOOL TEACHER",
          "PRIMARY SCHOOL TEACHER",
          "PRIMARY SCHOOL TEACHER",
          "PRIMARY SCHOOL TEACHER",
          "PRIMARY SCHOOL TEACHER",
          "PRIMARY SCHOOL TEACHER",
          "PRIMARY SCHOOL TEACHER",
          "PRIMARY SCHOOL TEACHER",
          "PRIMARY SCHOOL TEACHER",
          "PRIMARY SCHOOL TEACHER",
          "PRIMARY SCHOOL TEACHER",
          "PRIMARY SCHOOL TEACHER",
          "PRIMARY SCHOOL TEACHER",
          "PRIMARY SCHOOL TEACHER",
          "PRIMARY SCHOOL TEACHER",
          "PRIMARY SCHOOL TEACHER",
          "PRIMARY SCHOOL TEACHER"
         ],
         "xaxis": "x",
         "y": [
          40000,
          15000,
          9000,
          40000,
          63000,
          58000,
          60000,
          58000,
          56000,
          25000,
          25000,
          37800,
          26000,
          23000,
          29300,
          40000,
          39500,
          65000,
          63000,
          34000,
          19500,
          63000,
          18000,
          24000,
          21000,
          40000,
          5000,
          40000,
          40000,
          7000,
          27500,
          10000,
          80000,
          43000,
          53000,
          54000,
          40000,
          40000,
          40000,
          22000
         ],
         "yaxis": "y"
        },
        {
         "alignmentgroup": "True",
         "hovertemplate": "<b>%{hovertext}</b><br><br>labour_type=%{x}<br>Income_dist=%{y}<extra></extra>",
         "hovertext": [
          12000
         ],
         "legendgroup": "BUILDER MADSON",
         "marker": {
          "color": "#FF6692",
          "pattern": {
           "shape": ""
          }
         },
         "name": "BUILDER MADSON",
         "offsetgroup": "BUILDER MADSON",
         "orientation": "v",
         "showlegend": true,
         "textposition": "auto",
         "type": "bar",
         "x": [
          "BUILDER MADSON"
         ],
         "xaxis": "x",
         "y": [
          12000
         ],
         "yaxis": "y"
        },
        {
         "alignmentgroup": "True",
         "hovertemplate": "<b>%{hovertext}</b><br><br>labour_type=%{x}<br>Income_dist=%{y}<extra></extra>",
         "hovertext": [
          10000
         ],
         "legendgroup": "SHOP ATTENDANT",
         "marker": {
          "color": "#B6E880",
          "pattern": {
           "shape": ""
          }
         },
         "name": "SHOP ATTENDANT",
         "offsetgroup": "SHOP ATTENDANT",
         "orientation": "v",
         "showlegend": true,
         "textposition": "auto",
         "type": "bar",
         "x": [
          "SHOP ATTENDANT"
         ],
         "xaxis": "x",
         "y": [
          10000
         ],
         "yaxis": "y"
        },
        {
         "alignmentgroup": "True",
         "hovertemplate": "<b>%{hovertext}</b><br><br>labour_type=%{x}<br>Income_dist=%{y}<extra></extra>",
         "hovertext": [
          5000,
          4000
         ],
         "legendgroup": "COMMUNITY HEALTH WORKER",
         "marker": {
          "color": "#FF97FF",
          "pattern": {
           "shape": ""
          }
         },
         "name": "COMMUNITY HEALTH WORKER",
         "offsetgroup": "COMMUNITY HEALTH WORKER",
         "orientation": "v",
         "showlegend": true,
         "textposition": "auto",
         "type": "bar",
         "x": [
          "COMMUNITY HEALTH WORKER",
          "COMMUNITY HEALTH WORKER"
         ],
         "xaxis": "x",
         "y": [
          5000,
          4000
         ],
         "yaxis": "y"
        },
        {
         "alignmentgroup": "True",
         "hovertemplate": "<b>%{hovertext}</b><br><br>labour_type=%{x}<br>Income_dist=%{y}<extra></extra>",
         "hovertext": [
          8000
         ],
         "legendgroup": "NIGHT SECURITYN GUARDS",
         "marker": {
          "color": "#FECB52",
          "pattern": {
           "shape": ""
          }
         },
         "name": "NIGHT SECURITYN GUARDS",
         "offsetgroup": "NIGHT SECURITYN GUARDS",
         "orientation": "v",
         "showlegend": true,
         "textposition": "auto",
         "type": "bar",
         "x": [
          "NIGHT SECURITYN GUARDS"
         ],
         "xaxis": "x",
         "y": [
          8000
         ],
         "yaxis": "y"
        },
        {
         "alignmentgroup": "True",
         "hovertemplate": "<b>%{hovertext}</b><br><br>labour_type=%{x}<br>Income_dist=%{y}<extra></extra>",
         "hovertext": [
          38600,
          20000
         ],
         "legendgroup": "REVENUE COLLECTOR",
         "marker": {
          "color": "#636efa",
          "pattern": {
           "shape": ""
          }
         },
         "name": "REVENUE COLLECTOR",
         "offsetgroup": "REVENUE COLLECTOR",
         "orientation": "v",
         "showlegend": true,
         "textposition": "auto",
         "type": "bar",
         "x": [
          "REVENUE COLLECTOR",
          "REVENUE COLLECTOR"
         ],
         "xaxis": "x",
         "y": [
          38600,
          20000
         ],
         "yaxis": "y"
        },
        {
         "alignmentgroup": "True",
         "hovertemplate": "<b>%{hovertext}</b><br><br>labour_type=%{x}<br>Income_dist=%{y}<extra></extra>",
         "hovertext": [
          15000
         ],
         "legendgroup": "WAITER OR HOTEL ATTENDANT",
         "marker": {
          "color": "#EF553B",
          "pattern": {
           "shape": ""
          }
         },
         "name": "WAITER OR HOTEL ATTENDANT",
         "offsetgroup": "WAITER OR HOTEL ATTENDANT",
         "orientation": "v",
         "showlegend": true,
         "textposition": "auto",
         "type": "bar",
         "x": [
          "WAITER OR HOTEL ATTENDANT"
         ],
         "xaxis": "x",
         "y": [
          15000
         ],
         "yaxis": "y"
        },
        {
         "alignmentgroup": "True",
         "hovertemplate": "<b>%{hovertext}</b><br><br>labour_type=%{x}<br>Income_dist=%{y}<extra></extra>",
         "hovertext": [
          40000
         ],
         "legendgroup": "PRIVATE SECURITY",
         "marker": {
          "color": "#00cc96",
          "pattern": {
           "shape": ""
          }
         },
         "name": "PRIVATE SECURITY",
         "offsetgroup": "PRIVATE SECURITY",
         "orientation": "v",
         "showlegend": true,
         "textposition": "auto",
         "type": "bar",
         "x": [
          "PRIVATE SECURITY"
         ],
         "xaxis": "x",
         "y": [
          40000
         ],
         "yaxis": "y"
        },
        {
         "alignmentgroup": "True",
         "hovertemplate": "<b>%{hovertext}</b><br><br>labour_type=%{x}<br>Income_dist=%{y}<extra></extra>",
         "hovertext": [
          2000
         ],
         "legendgroup": "BILDER CONSTRUCTION",
         "marker": {
          "color": "#ab63fa",
          "pattern": {
           "shape": ""
          }
         },
         "name": "BILDER CONSTRUCTION",
         "offsetgroup": "BILDER CONSTRUCTION",
         "orientation": "v",
         "showlegend": true,
         "textposition": "auto",
         "type": "bar",
         "x": [
          "BILDER CONSTRUCTION"
         ],
         "xaxis": "x",
         "y": [
          2000
         ],
         "yaxis": "y"
        },
        {
         "alignmentgroup": "True",
         "hovertemplate": "<b>%{hovertext}</b><br><br>labour_type=%{x}<br>Income_dist=%{y}<extra></extra>",
         "hovertext": [
          1500,
          1500
         ],
         "legendgroup": "WEEDING INSIDE FARM",
         "marker": {
          "color": "#FFA15A",
          "pattern": {
           "shape": ""
          }
         },
         "name": "WEEDING INSIDE FARM",
         "offsetgroup": "WEEDING INSIDE FARM",
         "orientation": "v",
         "showlegend": true,
         "textposition": "auto",
         "type": "bar",
         "x": [
          "WEEDING INSIDE FARM",
          "WEEDING INSIDE FARM"
         ],
         "xaxis": "x",
         "y": [
          1500,
          1500
         ],
         "yaxis": "y"
        },
        {
         "alignmentgroup": "True",
         "hovertemplate": "<b>%{hovertext}</b><br><br>labour_type=%{x}<br>Income_dist=%{y}<extra></extra>",
         "hovertext": [
          800
         ],
         "legendgroup": "FARM WEEDING",
         "marker": {
          "color": "#19d3f3",
          "pattern": {
           "shape": ""
          }
         },
         "name": "FARM WEEDING",
         "offsetgroup": "FARM WEEDING",
         "orientation": "v",
         "showlegend": true,
         "textposition": "auto",
         "type": "bar",
         "x": [
          "FARM WEEDING"
         ],
         "xaxis": "x",
         "y": [
          800
         ],
         "yaxis": "y"
        },
        {
         "alignmentgroup": "True",
         "hovertemplate": "<b>%{hovertext}</b><br><br>labour_type=%{x}<br>Income_dist=%{y}<extra></extra>",
         "hovertext": [
          5000,
          40000
         ],
         "legendgroup": "BUILDING CONSTRUCTION",
         "marker": {
          "color": "#FF6692",
          "pattern": {
           "shape": ""
          }
         },
         "name": "BUILDING CONSTRUCTION",
         "offsetgroup": "BUILDING CONSTRUCTION",
         "orientation": "v",
         "showlegend": true,
         "textposition": "auto",
         "type": "bar",
         "x": [
          "BUILDING CONSTRUCTION",
          "BUILDING CONSTRUCTION"
         ],
         "xaxis": "x",
         "y": [
          5000,
          40000
         ],
         "yaxis": "y"
        },
        {
         "alignmentgroup": "True",
         "hovertemplate": "<b>%{hovertext}</b><br><br>labour_type=%{x}<br>Income_dist=%{y}<extra></extra>",
         "hovertext": [
          54000
         ],
         "legendgroup": "SECURITY (CIVIL DEFENCE)",
         "marker": {
          "color": "#B6E880",
          "pattern": {
           "shape": ""
          }
         },
         "name": "SECURITY (CIVIL DEFENCE)",
         "offsetgroup": "SECURITY (CIVIL DEFENCE)",
         "orientation": "v",
         "showlegend": true,
         "textposition": "auto",
         "type": "bar",
         "x": [
          "SECURITY (CIVIL DEFENCE)"
         ],
         "xaxis": "x",
         "y": [
          54000
         ],
         "yaxis": "y"
        },
        {
         "alignmentgroup": "True",
         "hovertemplate": "<b>%{hovertext}</b><br><br>labour_type=%{x}<br>Income_dist=%{y}<extra></extra>",
         "hovertext": [
          3000
         ],
         "legendgroup": "CAPENTARY WORK",
         "marker": {
          "color": "#FF97FF",
          "pattern": {
           "shape": ""
          }
         },
         "name": "CAPENTARY WORK",
         "offsetgroup": "CAPENTARY WORK",
         "orientation": "v",
         "showlegend": true,
         "textposition": "auto",
         "type": "bar",
         "x": [
          "CAPENTARY WORK"
         ],
         "xaxis": "x",
         "y": [
          3000
         ],
         "yaxis": "y"
        },
        {
         "alignmentgroup": "True",
         "hovertemplate": "<b>%{hovertext}</b><br><br>labour_type=%{x}<br>Income_dist=%{y}<extra></extra>",
         "hovertext": [
          30000
         ],
         "legendgroup": "TEACHING(BIBLE)",
         "marker": {
          "color": "#FECB52",
          "pattern": {
           "shape": ""
          }
         },
         "name": "TEACHING(BIBLE)",
         "offsetgroup": "TEACHING(BIBLE)",
         "orientation": "v",
         "showlegend": true,
         "textposition": "auto",
         "type": "bar",
         "x": [
          "TEACHING(BIBLE)"
         ],
         "xaxis": "x",
         "y": [
          30000
         ],
         "yaxis": "y"
        },
        {
         "alignmentgroup": "True",
         "hovertemplate": "<b>%{hovertext}</b><br><br>labour_type=%{x}<br>Income_dist=%{y}<extra></extra>",
         "hovertext": [
          12000
         ],
         "legendgroup": "WATCHMAN IN A PRIMARY SCHOOL",
         "marker": {
          "color": "#636efa",
          "pattern": {
           "shape": ""
          }
         },
         "name": "WATCHMAN IN A PRIMARY SCHOOL",
         "offsetgroup": "WATCHMAN IN A PRIMARY SCHOOL",
         "orientation": "v",
         "showlegend": true,
         "textposition": "auto",
         "type": "bar",
         "x": [
          "WATCHMAN IN A PRIMARY SCHOOL"
         ],
         "xaxis": "x",
         "y": [
          12000
         ],
         "yaxis": "y"
        },
        {
         "alignmentgroup": "True",
         "hovertemplate": "<b>%{hovertext}</b><br><br>labour_type=%{x}<br>Income_dist=%{y}<extra></extra>",
         "hovertext": [
          30000
         ],
         "legendgroup": "BLOCK INDUSTRY",
         "marker": {
          "color": "#EF553B",
          "pattern": {
           "shape": ""
          }
         },
         "name": "BLOCK INDUSTRY",
         "offsetgroup": "BLOCK INDUSTRY",
         "orientation": "v",
         "showlegend": true,
         "textposition": "auto",
         "type": "bar",
         "x": [
          "BLOCK INDUSTRY"
         ],
         "xaxis": "x",
         "y": [
          30000
         ],
         "yaxis": "y"
        },
        {
         "alignmentgroup": "True",
         "hovertemplate": "<b>%{hovertext}</b><br><br>labour_type=%{x}<br>Income_dist=%{y}<extra></extra>",
         "hovertext": [
          52000,
          120000,
          80000,
          38000,
          50000,
          35000,
          47227,
          20000,
          108000,
          98700,
          5000,
          33000,
          12000,
          80000,
          85000,
          50000,
          50000,
          29000,
          30000,
          59000,
          80000,
          65000,
          18000,
          68750,
          56105,
          94000,
          55000,
          42000,
          34000,
          130000,
          135000,
          10000,
          40000,
          8000,
          42000,
          90000,
          25000,
          15000,
          35000,
          8000,
          62500,
          34000,
          7000,
          80000,
          60000,
          63000,
          78000
         ],
         "legendgroup": "TEACHING",
         "marker": {
          "color": "#00cc96",
          "pattern": {
           "shape": ""
          }
         },
         "name": "TEACHING",
         "offsetgroup": "TEACHING",
         "orientation": "v",
         "showlegend": true,
         "textposition": "auto",
         "type": "bar",
         "x": [
          "TEACHING",
          "TEACHING",
          "TEACHING",
          "TEACHING",
          "TEACHING",
          "TEACHING",
          "TEACHING",
          "TEACHING",
          "TEACHING",
          "TEACHING",
          "TEACHING",
          "TEACHING",
          "TEACHING",
          "TEACHING",
          "TEACHING",
          "TEACHING",
          "TEACHING",
          "TEACHING",
          "TEACHING",
          "TEACHING",
          "TEACHING",
          "TEACHING",
          "TEACHING",
          "TEACHING",
          "TEACHING",
          "TEACHING",
          "TEACHING",
          "TEACHING",
          "TEACHING",
          "TEACHING",
          "TEACHING",
          "TEACHING",
          "TEACHING",
          "TEACHING",
          "TEACHING",
          "TEACHING",
          "TEACHING",
          "TEACHING",
          "TEACHING",
          "TEACHING",
          "TEACHING",
          "TEACHING",
          "TEACHING",
          "TEACHING",
          "TEACHING",
          "TEACHING",
          "TEACHING"
         ],
         "xaxis": "x",
         "y": [
          52000,
          120000,
          80000,
          38000,
          50000,
          35000,
          47227,
          20000,
          108000,
          98700,
          5000,
          33000,
          12000,
          80000,
          85000,
          50000,
          50000,
          29000,
          30000,
          59000,
          80000,
          65000,
          18000,
          68750,
          56105,
          94000,
          55000,
          42000,
          34000,
          130000,
          135000,
          10000,
          40000,
          8000,
          42000,
          90000,
          25000,
          15000,
          35000,
          8000,
          62500,
          34000,
          7000,
          80000,
          60000,
          63000,
          78000
         ],
         "yaxis": "y"
        },
        {
         "alignmentgroup": "True",
         "hovertemplate": "<b>%{hovertext}</b><br><br>labour_type=%{x}<br>Income_dist=%{y}<extra></extra>",
         "hovertext": [
          47000,
          19000,
          105000,
          30000,
          23000,
          56000
         ],
         "legendgroup": "ADMINISTRATIVE OFFICER",
         "marker": {
          "color": "#ab63fa",
          "pattern": {
           "shape": ""
          }
         },
         "name": "ADMINISTRATIVE OFFICER",
         "offsetgroup": "ADMINISTRATIVE OFFICER",
         "orientation": "v",
         "showlegend": true,
         "textposition": "auto",
         "type": "bar",
         "x": [
          "ADMINISTRATIVE OFFICER",
          "ADMINISTRATIVE OFFICER",
          "ADMINISTRATIVE OFFICER",
          "ADMINISTRATIVE OFFICER",
          "ADMINISTRATIVE OFFICER",
          "ADMINISTRATIVE OFFICER"
         ],
         "xaxis": "x",
         "y": [
          47000,
          19000,
          105000,
          30000,
          23000,
          56000
         ],
         "yaxis": "y"
        },
        {
         "alignmentgroup": "True",
         "hovertemplate": "<b>%{hovertext}</b><br><br>labour_type=%{x}<br>Income_dist=%{y}<extra></extra>",
         "hovertext": [
          42000
         ],
         "legendgroup": "ACCOUNT OFFICER",
         "marker": {
          "color": "#FFA15A",
          "pattern": {
           "shape": ""
          }
         },
         "name": "ACCOUNT OFFICER",
         "offsetgroup": "ACCOUNT OFFICER",
         "orientation": "v",
         "showlegend": true,
         "textposition": "auto",
         "type": "bar",
         "x": [
          "ACCOUNT OFFICER"
         ],
         "xaxis": "x",
         "y": [
          42000
         ],
         "yaxis": "y"
        },
        {
         "alignmentgroup": "True",
         "hovertemplate": "<b>%{hovertext}</b><br><br>labour_type=%{x}<br>Income_dist=%{y}<extra></extra>",
         "hovertext": [
          10000,
          4000,
          10000,
          24000,
          24000,
          7000
         ],
         "legendgroup": "SALES GIRL",
         "marker": {
          "color": "#19d3f3",
          "pattern": {
           "shape": ""
          }
         },
         "name": "SALES GIRL",
         "offsetgroup": "SALES GIRL",
         "orientation": "v",
         "showlegend": true,
         "textposition": "auto",
         "type": "bar",
         "x": [
          "SALES GIRL",
          "SALES GIRL",
          "SALES GIRL",
          "SALES GIRL",
          "SALES GIRL",
          "SALES GIRL"
         ],
         "xaxis": "x",
         "y": [
          10000,
          4000,
          10000,
          24000,
          24000,
          7000
         ],
         "yaxis": "y"
        },
        {
         "alignmentgroup": "True",
         "hovertemplate": "<b>%{hovertext}</b><br><br>labour_type=%{x}<br>Income_dist=%{y}<extra></extra>",
         "hovertext": [
          29288
         ],
         "legendgroup": "MOTOR DRIVER (AMBULANCE) IN HOSPITAL",
         "marker": {
          "color": "#FF6692",
          "pattern": {
           "shape": ""
          }
         },
         "name": "MOTOR DRIVER (AMBULANCE) IN HOSPITAL",
         "offsetgroup": "MOTOR DRIVER (AMBULANCE) IN HOSPITAL",
         "orientation": "v",
         "showlegend": true,
         "textposition": "auto",
         "type": "bar",
         "x": [
          "MOTOR DRIVER (AMBULANCE) IN HOSPITAL"
         ],
         "xaxis": "x",
         "y": [
          29288
         ],
         "yaxis": "y"
        },
        {
         "alignmentgroup": "True",
         "hovertemplate": "<b>%{hovertext}</b><br><br>labour_type=%{x}<br>Income_dist=%{y}<extra></extra>",
         "hovertext": [
          20980,
          15000,
          158000,
          80000
         ],
         "legendgroup": "TEACHER IN PRIMARY SCHOOL",
         "marker": {
          "color": "#B6E880",
          "pattern": {
           "shape": ""
          }
         },
         "name": "TEACHER IN PRIMARY SCHOOL",
         "offsetgroup": "TEACHER IN PRIMARY SCHOOL",
         "orientation": "v",
         "showlegend": true,
         "textposition": "auto",
         "type": "bar",
         "x": [
          "TEACHER IN PRIMARY SCHOOL",
          "TEACHER IN PRIMARY SCHOOL",
          "TEACHER IN PRIMARY SCHOOL",
          "TEACHER IN PRIMARY SCHOOL"
         ],
         "xaxis": "x",
         "y": [
          20980,
          15000,
          158000,
          80000
         ],
         "yaxis": "y"
        },
        {
         "alignmentgroup": "True",
         "hovertemplate": "<b>%{hovertext}</b><br><br>labour_type=%{x}<br>Income_dist=%{y}<extra></extra>",
         "hovertext": [
          85000
         ],
         "legendgroup": "MEMBER EXCO NURTW NATIONAL LEVEL",
         "marker": {
          "color": "#FF97FF",
          "pattern": {
           "shape": ""
          }
         },
         "name": "MEMBER EXCO NURTW NATIONAL LEVEL",
         "offsetgroup": "MEMBER EXCO NURTW NATIONAL LEVEL",
         "orientation": "v",
         "showlegend": true,
         "textposition": "auto",
         "type": "bar",
         "x": [
          "MEMBER EXCO NURTW NATIONAL LEVEL"
         ],
         "xaxis": "x",
         "y": [
          85000
         ],
         "yaxis": "y"
        },
        {
         "alignmentgroup": "True",
         "hovertemplate": "<b>%{hovertext}</b><br><br>labour_type=%{x}<br>Income_dist=%{y}<extra></extra>",
         "hovertext": [
          90000
         ],
         "legendgroup": "ACCOUNTANT (MIN.OF WORKS)",
         "marker": {
          "color": "#FECB52",
          "pattern": {
           "shape": ""
          }
         },
         "name": "ACCOUNTANT (MIN.OF WORKS)",
         "offsetgroup": "ACCOUNTANT (MIN.OF WORKS)",
         "orientation": "v",
         "showlegend": true,
         "textposition": "auto",
         "type": "bar",
         "x": [
          "ACCOUNTANT (MIN.OF WORKS)"
         ],
         "xaxis": "x",
         "y": [
          90000
         ],
         "yaxis": "y"
        },
        {
         "alignmentgroup": "True",
         "hovertemplate": "<b>%{hovertext}</b><br><br>labour_type=%{x}<br>Income_dist=%{y}<extra></extra>",
         "hovertext": [
          10000,
          8000,
          20000
         ],
         "legendgroup": "DOMESTIC HELPER",
         "marker": {
          "color": "#636efa",
          "pattern": {
           "shape": ""
          }
         },
         "name": "DOMESTIC HELPER",
         "offsetgroup": "DOMESTIC HELPER",
         "orientation": "v",
         "showlegend": true,
         "textposition": "auto",
         "type": "bar",
         "x": [
          "DOMESTIC HELPER",
          "DOMESTIC HELPER",
          "DOMESTIC HELPER"
         ],
         "xaxis": "x",
         "y": [
          10000,
          8000,
          20000
         ],
         "yaxis": "y"
        },
        {
         "alignmentgroup": "True",
         "hovertemplate": "<b>%{hovertext}</b><br><br>labour_type=%{x}<br>Income_dist=%{y}<extra></extra>",
         "hovertext": [
          20000
         ],
         "legendgroup": "METAL ASSEMBLER",
         "marker": {
          "color": "#EF553B",
          "pattern": {
           "shape": ""
          }
         },
         "name": "METAL ASSEMBLER",
         "offsetgroup": "METAL ASSEMBLER",
         "orientation": "v",
         "showlegend": true,
         "textposition": "auto",
         "type": "bar",
         "x": [
          "METAL ASSEMBLER"
         ],
         "xaxis": "x",
         "y": [
          20000
         ],
         "yaxis": "y"
        },
        {
         "alignmentgroup": "True",
         "hovertemplate": "<b>%{hovertext}</b><br><br>labour_type=%{x}<br>Income_dist=%{y}<extra></extra>",
         "hovertext": [
          45000,
          20000
         ],
         "legendgroup": "CASHIER",
         "marker": {
          "color": "#00cc96",
          "pattern": {
           "shape": ""
          }
         },
         "name": "CASHIER",
         "offsetgroup": "CASHIER",
         "orientation": "v",
         "showlegend": true,
         "textposition": "auto",
         "type": "bar",
         "x": [
          "CASHIER",
          "CASHIER"
         ],
         "xaxis": "x",
         "y": [
          45000,
          20000
         ],
         "yaxis": "y"
        },
        {
         "alignmentgroup": "True",
         "hovertemplate": "<b>%{hovertext}</b><br><br>labour_type=%{x}<br>Income_dist=%{y}<extra></extra>",
         "hovertext": [
          67540,
          67540,
          67150,
          23000
         ],
         "legendgroup": "STOCK CLERK",
         "marker": {
          "color": "#ab63fa",
          "pattern": {
           "shape": ""
          }
         },
         "name": "STOCK CLERK",
         "offsetgroup": "STOCK CLERK",
         "orientation": "v",
         "showlegend": true,
         "textposition": "auto",
         "type": "bar",
         "x": [
          "STOCK CLERK",
          "STOCK CLERK",
          "STOCK CLERK",
          "STOCK CLERK"
         ],
         "xaxis": "x",
         "y": [
          67540,
          67540,
          67150,
          23000
         ],
         "yaxis": "y"
        },
        {
         "alignmentgroup": "True",
         "hovertemplate": "<b>%{hovertext}</b><br><br>labour_type=%{x}<br>Income_dist=%{y}<extra></extra>",
         "hovertext": [
          65300,
          65300
         ],
         "legendgroup": "PRODUCTION CLERK",
         "marker": {
          "color": "#FFA15A",
          "pattern": {
           "shape": ""
          }
         },
         "name": "PRODUCTION CLERK",
         "offsetgroup": "PRODUCTION CLERK",
         "orientation": "v",
         "showlegend": true,
         "textposition": "auto",
         "type": "bar",
         "x": [
          "PRODUCTION CLERK",
          "PRODUCTION CLERK"
         ],
         "xaxis": "x",
         "y": [
          65300,
          65300
         ],
         "yaxis": "y"
        },
        {
         "alignmentgroup": "True",
         "hovertemplate": "<b>%{hovertext}</b><br><br>labour_type=%{x}<br>Income_dist=%{y}<extra></extra>",
         "hovertext": [
          60000
         ],
         "legendgroup": "CIVIL ENG TECHNICIAN(EBASCO CONST.)",
         "marker": {
          "color": "#19d3f3",
          "pattern": {
           "shape": ""
          }
         },
         "name": "CIVIL ENG TECHNICIAN(EBASCO CONST.)",
         "offsetgroup": "CIVIL ENG TECHNICIAN(EBASCO CONST.)",
         "orientation": "v",
         "showlegend": true,
         "textposition": "auto",
         "type": "bar",
         "x": [
          "CIVIL ENG TECHNICIAN(EBASCO CONST.)"
         ],
         "xaxis": "x",
         "y": [
          60000
         ],
         "yaxis": "y"
        },
        {
         "alignmentgroup": "True",
         "hovertemplate": "<b>%{hovertext}</b><br><br>labour_type=%{x}<br>Income_dist=%{y}<extra></extra>",
         "hovertext": [
          200000
         ],
         "legendgroup": "LECTURING (AKWAPOLY)",
         "marker": {
          "color": "#FF6692",
          "pattern": {
           "shape": ""
          }
         },
         "name": "LECTURING (AKWAPOLY)",
         "offsetgroup": "LECTURING (AKWAPOLY)",
         "orientation": "v",
         "showlegend": true,
         "textposition": "auto",
         "type": "bar",
         "x": [
          "LECTURING (AKWAPOLY)"
         ],
         "xaxis": "x",
         "y": [
          200000
         ],
         "yaxis": "y"
        },
        {
         "alignmentgroup": "True",
         "hovertemplate": "<b>%{hovertext}</b><br><br>labour_type=%{x}<br>Income_dist=%{y}<extra></extra>",
         "hovertext": [
          56430
         ],
         "legendgroup": "ENG.(ELECTRICIAN)MIN OF WORKS",
         "marker": {
          "color": "#B6E880",
          "pattern": {
           "shape": ""
          }
         },
         "name": "ENG.(ELECTRICIAN)MIN OF WORKS",
         "offsetgroup": "ENG.(ELECTRICIAN)MIN OF WORKS",
         "orientation": "v",
         "showlegend": true,
         "textposition": "auto",
         "type": "bar",
         "x": [
          "ENG.(ELECTRICIAN)MIN OF WORKS"
         ],
         "xaxis": "x",
         "y": [
          56430
         ],
         "yaxis": "y"
        },
        {
         "alignmentgroup": "True",
         "hovertemplate": "<b>%{hovertext}</b><br><br>labour_type=%{x}<br>Income_dist=%{y}<extra></extra>",
         "hovertext": [
          45000
         ],
         "legendgroup": "SALES REPS.(AI.TEL)",
         "marker": {
          "color": "#FF97FF",
          "pattern": {
           "shape": ""
          }
         },
         "name": "SALES REPS.(AI.TEL)",
         "offsetgroup": "SALES REPS.(AI.TEL)",
         "orientation": "v",
         "showlegend": true,
         "textposition": "auto",
         "type": "bar",
         "x": [
          "SALES REPS.(AI.TEL)"
         ],
         "xaxis": "x",
         "y": [
          45000
         ],
         "yaxis": "y"
        },
        {
         "alignmentgroup": "True",
         "hovertemplate": "<b>%{hovertext}</b><br><br>labour_type=%{x}<br>Income_dist=%{y}<extra></extra>",
         "hovertext": [
          12000,
          35000,
          14000,
          80000,
          30000,
          5000,
          70000,
          30000,
          15000,
          28000
         ],
         "legendgroup": "DRIVER",
         "marker": {
          "color": "#FECB52",
          "pattern": {
           "shape": ""
          }
         },
         "name": "DRIVER",
         "offsetgroup": "DRIVER",
         "orientation": "v",
         "showlegend": true,
         "textposition": "auto",
         "type": "bar",
         "x": [
          "DRIVER",
          "DRIVER",
          "DRIVER",
          "DRIVER",
          "DRIVER",
          "DRIVER",
          "DRIVER",
          "DRIVER",
          "DRIVER",
          "DRIVER"
         ],
         "xaxis": "x",
         "y": [
          12000,
          35000,
          14000,
          80000,
          30000,
          5000,
          70000,
          30000,
          15000,
          28000
         ],
         "yaxis": "y"
        },
        {
         "alignmentgroup": "True",
         "hovertemplate": "<b>%{hovertext}</b><br><br>labour_type=%{x}<br>Income_dist=%{y}<extra></extra>",
         "hovertext": [
          2000
         ],
         "legendgroup": "LABOURER",
         "marker": {
          "color": "#636efa",
          "pattern": {
           "shape": ""
          }
         },
         "name": "LABOURER",
         "offsetgroup": "LABOURER",
         "orientation": "v",
         "showlegend": true,
         "textposition": "auto",
         "type": "bar",
         "x": [
          "LABOURER"
         ],
         "xaxis": "x",
         "y": [
          2000
         ],
         "yaxis": "y"
        },
        {
         "alignmentgroup": "True",
         "hovertemplate": "<b>%{hovertext}</b><br><br>labour_type=%{x}<br>Income_dist=%{y}<extra></extra>",
         "hovertext": [
          30000
         ],
         "legendgroup": "CARPENTRY",
         "marker": {
          "color": "#EF553B",
          "pattern": {
           "shape": ""
          }
         },
         "name": "CARPENTRY",
         "offsetgroup": "CARPENTRY",
         "orientation": "v",
         "showlegend": true,
         "textposition": "auto",
         "type": "bar",
         "x": [
          "CARPENTRY"
         ],
         "xaxis": "x",
         "y": [
          30000
         ],
         "yaxis": "y"
        },
        {
         "alignmentgroup": "True",
         "hovertemplate": "<b>%{hovertext}</b><br><br>labour_type=%{x}<br>Income_dist=%{y}<extra></extra>",
         "hovertext": [
          7000
         ],
         "legendgroup": "ACTOR",
         "marker": {
          "color": "#00cc96",
          "pattern": {
           "shape": ""
          }
         },
         "name": "ACTOR",
         "offsetgroup": "ACTOR",
         "orientation": "v",
         "showlegend": true,
         "textposition": "auto",
         "type": "bar",
         "x": [
          "ACTOR"
         ],
         "xaxis": "x",
         "y": [
          7000
         ],
         "yaxis": "y"
        },
        {
         "alignmentgroup": "True",
         "hovertemplate": "<b>%{hovertext}</b><br><br>labour_type=%{x}<br>Income_dist=%{y}<extra></extra>",
         "hovertext": [
          7000
         ],
         "legendgroup": "PACKAGER IN YOGHURT COMPANY",
         "marker": {
          "color": "#ab63fa",
          "pattern": {
           "shape": ""
          }
         },
         "name": "PACKAGER IN YOGHURT COMPANY",
         "offsetgroup": "PACKAGER IN YOGHURT COMPANY",
         "orientation": "v",
         "showlegend": true,
         "textposition": "auto",
         "type": "bar",
         "x": [
          "PACKAGER IN YOGHURT COMPANY"
         ],
         "xaxis": "x",
         "y": [
          7000
         ],
         "yaxis": "y"
        },
        {
         "alignmentgroup": "True",
         "hovertemplate": "<b>%{hovertext}</b><br><br>labour_type=%{x}<br>Income_dist=%{y}<extra></extra>",
         "hovertext": [
          10000
         ],
         "legendgroup": "PREACHING",
         "marker": {
          "color": "#FFA15A",
          "pattern": {
           "shape": ""
          }
         },
         "name": "PREACHING",
         "offsetgroup": "PREACHING",
         "orientation": "v",
         "showlegend": true,
         "textposition": "auto",
         "type": "bar",
         "x": [
          "PREACHING"
         ],
         "xaxis": "x",
         "y": [
          10000
         ],
         "yaxis": "y"
        },
        {
         "alignmentgroup": "True",
         "hovertemplate": "<b>%{hovertext}</b><br><br>labour_type=%{x}<br>Income_dist=%{y}<extra></extra>",
         "hovertext": [
          15000
         ],
         "legendgroup": "SCHOOL CLERICAL OFFICER",
         "marker": {
          "color": "#19d3f3",
          "pattern": {
           "shape": ""
          }
         },
         "name": "SCHOOL CLERICAL OFFICER",
         "offsetgroup": "SCHOOL CLERICAL OFFICER",
         "orientation": "v",
         "showlegend": true,
         "textposition": "auto",
         "type": "bar",
         "x": [
          "SCHOOL CLERICAL OFFICER"
         ],
         "xaxis": "x",
         "y": [
          15000
         ],
         "yaxis": "y"
        },
        {
         "alignmentgroup": "True",
         "hovertemplate": "<b>%{hovertext}</b><br><br>labour_type=%{x}<br>Income_dist=%{y}<extra></extra>",
         "hovertext": [
          100000
         ],
         "legendgroup": "NURSING WITH LGS COMMISSION",
         "marker": {
          "color": "#FF6692",
          "pattern": {
           "shape": ""
          }
         },
         "name": "NURSING WITH LGS COMMISSION",
         "offsetgroup": "NURSING WITH LGS COMMISSION",
         "orientation": "v",
         "showlegend": true,
         "textposition": "auto",
         "type": "bar",
         "x": [
          "NURSING WITH LGS COMMISSION"
         ],
         "xaxis": "x",
         "y": [
          100000
         ],
         "yaxis": "y"
        },
        {
         "alignmentgroup": "True",
         "hovertemplate": "<b>%{hovertext}</b><br><br>labour_type=%{x}<br>Income_dist=%{y}<extra></extra>",
         "hovertext": [
          63000
         ],
         "legendgroup": "ELECT. ENGR.(MINISTRY OF RURAL DEV.)",
         "marker": {
          "color": "#B6E880",
          "pattern": {
           "shape": ""
          }
         },
         "name": "ELECT. ENGR.(MINISTRY OF RURAL DEV.)",
         "offsetgroup": "ELECT. ENGR.(MINISTRY OF RURAL DEV.)",
         "orientation": "v",
         "showlegend": true,
         "textposition": "auto",
         "type": "bar",
         "x": [
          "ELECT. ENGR.(MINISTRY OF RURAL DEV.)"
         ],
         "xaxis": "x",
         "y": [
          63000
         ],
         "yaxis": "y"
        },
        {
         "alignmentgroup": "True",
         "hovertemplate": "<b>%{hovertext}</b><br><br>labour_type=%{x}<br>Income_dist=%{y}<extra></extra>",
         "hovertext": [
          42000
         ],
         "legendgroup": "TEACHING(PRIMARY SCH-IKOT EKAN)",
         "marker": {
          "color": "#FF97FF",
          "pattern": {
           "shape": ""
          }
         },
         "name": "TEACHING(PRIMARY SCH-IKOT EKAN)",
         "offsetgroup": "TEACHING(PRIMARY SCH-IKOT EKAN)",
         "orientation": "v",
         "showlegend": true,
         "textposition": "auto",
         "type": "bar",
         "x": [
          "TEACHING(PRIMARY SCH-IKOT EKAN)"
         ],
         "xaxis": "x",
         "y": [
          42000
         ],
         "yaxis": "y"
        },
        {
         "alignmentgroup": "True",
         "hovertemplate": "<b>%{hovertext}</b><br><br>labour_type=%{x}<br>Income_dist=%{y}<extra></extra>",
         "hovertext": [
          48000,
          65000,
          55000,
          65000,
          52000,
          65000,
          150000,
          105000
         ],
         "legendgroup": "POLICE OFFICER",
         "marker": {
          "color": "#FECB52",
          "pattern": {
           "shape": ""
          }
         },
         "name": "POLICE OFFICER",
         "offsetgroup": "POLICE OFFICER",
         "orientation": "v",
         "showlegend": true,
         "textposition": "auto",
         "type": "bar",
         "x": [
          "POLICE OFFICER",
          "POLICE OFFICER",
          "POLICE OFFICER",
          "POLICE OFFICER",
          "POLICE OFFICER",
          "POLICE OFFICER",
          "POLICE OFFICER",
          "POLICE OFFICER"
         ],
         "xaxis": "x",
         "y": [
          48000,
          65000,
          55000,
          65000,
          52000,
          65000,
          150000,
          105000
         ],
         "yaxis": "y"
        },
        {
         "alignmentgroup": "True",
         "hovertemplate": "<b>%{hovertext}</b><br><br>labour_type=%{x}<br>Income_dist=%{y}<extra></extra>",
         "hovertext": [
          53000,
          50000,
          41000,
          57000,
          20000,
          25000,
          18000,
          30000,
          25000,
          135000,
          85000,
          150000,
          85000
         ],
         "legendgroup": "TEACHER",
         "marker": {
          "color": "#636efa",
          "pattern": {
           "shape": ""
          }
         },
         "name": "TEACHER",
         "offsetgroup": "TEACHER",
         "orientation": "v",
         "showlegend": true,
         "textposition": "auto",
         "type": "bar",
         "x": [
          "TEACHER",
          "TEACHER",
          "TEACHER",
          "TEACHER",
          "TEACHER",
          "TEACHER",
          "TEACHER",
          "TEACHER",
          "TEACHER",
          "TEACHER",
          "TEACHER",
          "TEACHER",
          "TEACHER"
         ],
         "xaxis": "x",
         "y": [
          53000,
          50000,
          41000,
          57000,
          20000,
          25000,
          18000,
          30000,
          25000,
          135000,
          85000,
          150000,
          85000
         ],
         "yaxis": "y"
        },
        {
         "alignmentgroup": "True",
         "hovertemplate": "<b>%{hovertext}</b><br><br>labour_type=%{x}<br>Income_dist=%{y}<extra></extra>",
         "hovertext": [
          20000,
          10000,
          17000,
          20000
         ],
         "legendgroup": "COMPUTER OPERATOR",
         "marker": {
          "color": "#EF553B",
          "pattern": {
           "shape": ""
          }
         },
         "name": "COMPUTER OPERATOR",
         "offsetgroup": "COMPUTER OPERATOR",
         "orientation": "v",
         "showlegend": true,
         "textposition": "auto",
         "type": "bar",
         "x": [
          "COMPUTER OPERATOR",
          "COMPUTER OPERATOR",
          "COMPUTER OPERATOR",
          "COMPUTER OPERATOR"
         ],
         "xaxis": "x",
         "y": [
          20000,
          10000,
          17000,
          20000
         ],
         "yaxis": "y"
        },
        {
         "alignmentgroup": "True",
         "hovertemplate": "<b>%{hovertext}</b><br><br>labour_type=%{x}<br>Income_dist=%{y}<extra></extra>",
         "hovertext": [
          85000
         ],
         "legendgroup": "EQUIPMENT CONTROLLERS",
         "marker": {
          "color": "#00cc96",
          "pattern": {
           "shape": ""
          }
         },
         "name": "EQUIPMENT CONTROLLERS",
         "offsetgroup": "EQUIPMENT CONTROLLERS",
         "orientation": "v",
         "showlegend": true,
         "textposition": "auto",
         "type": "bar",
         "x": [
          "EQUIPMENT CONTROLLERS"
         ],
         "xaxis": "x",
         "y": [
          85000
         ],
         "yaxis": "y"
        },
        {
         "alignmentgroup": "True",
         "hovertemplate": "<b>%{hovertext}</b><br><br>labour_type=%{x}<br>Income_dist=%{y}<extra></extra>",
         "hovertext": [
          59000
         ],
         "legendgroup": "EDUCATION OFFICER",
         "marker": {
          "color": "#ab63fa",
          "pattern": {
           "shape": ""
          }
         },
         "name": "EDUCATION OFFICER",
         "offsetgroup": "EDUCATION OFFICER",
         "orientation": "v",
         "showlegend": true,
         "textposition": "auto",
         "type": "bar",
         "x": [
          "EDUCATION OFFICER"
         ],
         "xaxis": "x",
         "y": [
          59000
         ],
         "yaxis": "y"
        },
        {
         "alignmentgroup": "True",
         "hovertemplate": "<b>%{hovertext}</b><br><br>labour_type=%{x}<br>Income_dist=%{y}<extra></extra>",
         "hovertext": [
          700
         ],
         "legendgroup": "TRADER",
         "marker": {
          "color": "#FFA15A",
          "pattern": {
           "shape": ""
          }
         },
         "name": "TRADER",
         "offsetgroup": "TRADER",
         "orientation": "v",
         "showlegend": true,
         "textposition": "auto",
         "type": "bar",
         "x": [
          "TRADER"
         ],
         "xaxis": "x",
         "y": [
          700
         ],
         "yaxis": "y"
        },
        {
         "alignmentgroup": "True",
         "hovertemplate": "<b>%{hovertext}</b><br><br>labour_type=%{x}<br>Income_dist=%{y}<extra></extra>",
         "hovertext": [
          75000,
          72000,
          125000,
          92000,
          20000,
          78000,
          28200,
          36500,
          20000,
          10000,
          34000,
          57000,
          75000
         ],
         "legendgroup": "SECONDARY SCHOOL TEACHER",
         "marker": {
          "color": "#19d3f3",
          "pattern": {
           "shape": ""
          }
         },
         "name": "SECONDARY SCHOOL TEACHER",
         "offsetgroup": "SECONDARY SCHOOL TEACHER",
         "orientation": "v",
         "showlegend": true,
         "textposition": "auto",
         "type": "bar",
         "x": [
          "SECONDARY SCHOOL TEACHER",
          "SECONDARY SCHOOL TEACHER",
          "SECONDARY SCHOOL TEACHER",
          "SECONDARY SCHOOL TEACHER",
          "SECONDARY SCHOOL TEACHER",
          "SECONDARY SCHOOL TEACHER",
          "SECONDARY SCHOOL TEACHER",
          "SECONDARY SCHOOL TEACHER",
          "SECONDARY SCHOOL TEACHER",
          "SECONDARY SCHOOL TEACHER",
          "SECONDARY SCHOOL TEACHER",
          "SECONDARY SCHOOL TEACHER",
          "SECONDARY SCHOOL TEACHER"
         ],
         "xaxis": "x",
         "y": [
          75000,
          72000,
          125000,
          92000,
          20000,
          78000,
          28200,
          36500,
          20000,
          10000,
          34000,
          57000,
          75000
         ],
         "yaxis": "y"
        },
        {
         "alignmentgroup": "True",
         "hovertemplate": "<b>%{hovertext}</b><br><br>labour_type=%{x}<br>Income_dist=%{y}<extra></extra>",
         "hovertext": [
          20000,
          20000
         ],
         "legendgroup": "PASTOR",
         "marker": {
          "color": "#FF6692",
          "pattern": {
           "shape": ""
          }
         },
         "name": "PASTOR",
         "offsetgroup": "PASTOR",
         "orientation": "v",
         "showlegend": true,
         "textposition": "auto",
         "type": "bar",
         "x": [
          "PASTOR",
          "PASTOR"
         ],
         "xaxis": "x",
         "y": [
          20000,
          20000
         ],
         "yaxis": "y"
        },
        {
         "alignmentgroup": "True",
         "hovertemplate": "<b>%{hovertext}</b><br><br>labour_type=%{x}<br>Income_dist=%{y}<extra></extra>",
         "hovertext": [
          50000
         ],
         "legendgroup": "LAND SURVEYING",
         "marker": {
          "color": "#B6E880",
          "pattern": {
           "shape": ""
          }
         },
         "name": "LAND SURVEYING",
         "offsetgroup": "LAND SURVEYING",
         "orientation": "v",
         "showlegend": true,
         "textposition": "auto",
         "type": "bar",
         "x": [
          "LAND SURVEYING"
         ],
         "xaxis": "x",
         "y": [
          50000
         ],
         "yaxis": "y"
        },
        {
         "alignmentgroup": "True",
         "hovertemplate": "<b>%{hovertext}</b><br><br>labour_type=%{x}<br>Income_dist=%{y}<extra></extra>",
         "hovertext": [
          15000
         ],
         "legendgroup": "NURSERY SCHOOL TEACHING",
         "marker": {
          "color": "#FF97FF",
          "pattern": {
           "shape": ""
          }
         },
         "name": "NURSERY SCHOOL TEACHING",
         "offsetgroup": "NURSERY SCHOOL TEACHING",
         "orientation": "v",
         "showlegend": true,
         "textposition": "auto",
         "type": "bar",
         "x": [
          "NURSERY SCHOOL TEACHING"
         ],
         "xaxis": "x",
         "y": [
          15000
         ],
         "yaxis": "y"
        },
        {
         "alignmentgroup": "True",
         "hovertemplate": "<b>%{hovertext}</b><br><br>labour_type=%{x}<br>Income_dist=%{y}<extra></extra>",
         "hovertext": [
          6000
         ],
         "legendgroup": "SECONDARY SCHOOL CASHER",
         "marker": {
          "color": "#FECB52",
          "pattern": {
           "shape": ""
          }
         },
         "name": "SECONDARY SCHOOL CASHER",
         "offsetgroup": "SECONDARY SCHOOL CASHER",
         "orientation": "v",
         "showlegend": true,
         "textposition": "auto",
         "type": "bar",
         "x": [
          "SECONDARY SCHOOL CASHER"
         ],
         "xaxis": "x",
         "y": [
          6000
         ],
         "yaxis": "y"
        },
        {
         "alignmentgroup": "True",
         "hovertemplate": "<b>%{hovertext}</b><br><br>labour_type=%{x}<br>Income_dist=%{y}<extra></extra>",
         "hovertext": [
          50000,
          7000,
          105000,
          20000,
          58000,
          110000,
          141000,
          7000,
          82000,
          65000,
          150000
         ],
         "legendgroup": "NURSING",
         "marker": {
          "color": "#636efa",
          "pattern": {
           "shape": ""
          }
         },
         "name": "NURSING",
         "offsetgroup": "NURSING",
         "orientation": "v",
         "showlegend": true,
         "textposition": "auto",
         "type": "bar",
         "x": [
          "NURSING",
          "NURSING",
          "NURSING",
          "NURSING",
          "NURSING",
          "NURSING",
          "NURSING",
          "NURSING",
          "NURSING",
          "NURSING",
          "NURSING"
         ],
         "xaxis": "x",
         "y": [
          50000,
          7000,
          105000,
          20000,
          58000,
          110000,
          141000,
          7000,
          82000,
          65000,
          150000
         ],
         "yaxis": "y"
        },
        {
         "alignmentgroup": "True",
         "hovertemplate": "<b>%{hovertext}</b><br><br>labour_type=%{x}<br>Income_dist=%{y}<extra></extra>",
         "hovertext": [
          18000
         ],
         "legendgroup": "MESSANGER(OFFCE)",
         "marker": {
          "color": "#EF553B",
          "pattern": {
           "shape": ""
          }
         },
         "name": "MESSANGER(OFFCE)",
         "offsetgroup": "MESSANGER(OFFCE)",
         "orientation": "v",
         "showlegend": true,
         "textposition": "auto",
         "type": "bar",
         "x": [
          "MESSANGER(OFFCE)"
         ],
         "xaxis": "x",
         "y": [
          18000
         ],
         "yaxis": "y"
        },
        {
         "alignmentgroup": "True",
         "hovertemplate": "<b>%{hovertext}</b><br><br>labour_type=%{x}<br>Income_dist=%{y}<extra></extra>",
         "hovertext": [
          60000
         ],
         "legendgroup": "QUARRY WORKERS",
         "marker": {
          "color": "#00cc96",
          "pattern": {
           "shape": ""
          }
         },
         "name": "QUARRY WORKERS",
         "offsetgroup": "QUARRY WORKERS",
         "orientation": "v",
         "showlegend": true,
         "textposition": "auto",
         "type": "bar",
         "x": [
          "QUARRY WORKERS"
         ],
         "xaxis": "x",
         "y": [
          60000
         ],
         "yaxis": "y"
        },
        {
         "alignmentgroup": "True",
         "hovertemplate": "<b>%{hovertext}</b><br><br>labour_type=%{x}<br>Income_dist=%{y}<extra></extra>",
         "hovertext": [
          51000
         ],
         "legendgroup": "MECHANICAL ENGEINEER",
         "marker": {
          "color": "#ab63fa",
          "pattern": {
           "shape": ""
          }
         },
         "name": "MECHANICAL ENGEINEER",
         "offsetgroup": "MECHANICAL ENGEINEER",
         "orientation": "v",
         "showlegend": true,
         "textposition": "auto",
         "type": "bar",
         "x": [
          "MECHANICAL ENGEINEER"
         ],
         "xaxis": "x",
         "y": [
          51000
         ],
         "yaxis": "y"
        },
        {
         "alignmentgroup": "True",
         "hovertemplate": "<b>%{hovertext}</b><br><br>labour_type=%{x}<br>Income_dist=%{y}<extra></extra>",
         "hovertext": [
          30865
         ],
         "legendgroup": "PRODUCTION OPERATOR",
         "marker": {
          "color": "#FFA15A",
          "pattern": {
           "shape": ""
          }
         },
         "name": "PRODUCTION OPERATOR",
         "offsetgroup": "PRODUCTION OPERATOR",
         "orientation": "v",
         "showlegend": true,
         "textposition": "auto",
         "type": "bar",
         "x": [
          "PRODUCTION OPERATOR"
         ],
         "xaxis": "x",
         "y": [
          30865
         ],
         "yaxis": "y"
        },
        {
         "alignmentgroup": "True",
         "hovertemplate": "<b>%{hovertext}</b><br><br>labour_type=%{x}<br>Income_dist=%{y}<extra></extra>",
         "hovertext": [
          70000
         ],
         "legendgroup": "NURSING (ST. MARYS HOSPITAL URUA AKPAN)",
         "marker": {
          "color": "#19d3f3",
          "pattern": {
           "shape": ""
          }
         },
         "name": "NURSING (ST. MARYS HOSPITAL URUA AKPAN)",
         "offsetgroup": "NURSING (ST. MARYS HOSPITAL URUA AKPAN)",
         "orientation": "v",
         "showlegend": true,
         "textposition": "auto",
         "type": "bar",
         "x": [
          "NURSING (ST. MARYS HOSPITAL URUA AKPAN)"
         ],
         "xaxis": "x",
         "y": [
          70000
         ],
         "yaxis": "y"
        },
        {
         "alignmentgroup": "True",
         "hovertemplate": "<b>%{hovertext}</b><br><br>labour_type=%{x}<br>Income_dist=%{y}<extra></extra>",
         "hovertext": [
          62000
         ],
         "legendgroup": "TEACHING (SEC SCH MBIASO, IKOT EKPENE)",
         "marker": {
          "color": "#FF6692",
          "pattern": {
           "shape": ""
          }
         },
         "name": "TEACHING (SEC SCH MBIASO, IKOT EKPENE)",
         "offsetgroup": "TEACHING (SEC SCH MBIASO, IKOT EKPENE)",
         "orientation": "v",
         "showlegend": true,
         "textposition": "auto",
         "type": "bar",
         "x": [
          "TEACHING (SEC SCH MBIASO, IKOT EKPENE)"
         ],
         "xaxis": "x",
         "y": [
          62000
         ],
         "yaxis": "y"
        },
        {
         "alignmentgroup": "True",
         "hovertemplate": "<b>%{hovertext}</b><br><br>labour_type=%{x}<br>Income_dist=%{y}<extra></extra>",
         "hovertext": [
          28000,
          25620,
          21000,
          62000,
          60000
         ],
         "legendgroup": "CLERICAL OFFICER",
         "marker": {
          "color": "#B6E880",
          "pattern": {
           "shape": ""
          }
         },
         "name": "CLERICAL OFFICER",
         "offsetgroup": "CLERICAL OFFICER",
         "orientation": "v",
         "showlegend": true,
         "textposition": "auto",
         "type": "bar",
         "x": [
          "CLERICAL OFFICER",
          "CLERICAL OFFICER",
          "CLERICAL OFFICER",
          "CLERICAL OFFICER",
          "CLERICAL OFFICER"
         ],
         "xaxis": "x",
         "y": [
          28000,
          25620,
          21000,
          62000,
          60000
         ],
         "yaxis": "y"
        },
        {
         "alignmentgroup": "True",
         "hovertemplate": "<b>%{hovertext}</b><br><br>labour_type=%{x}<br>Income_dist=%{y}<extra></extra>",
         "hovertext": [
          5000
         ],
         "legendgroup": "PARK AND BET IN POOLING CENTRE",
         "marker": {
          "color": "#FF97FF",
          "pattern": {
           "shape": ""
          }
         },
         "name": "PARK AND BET IN POOLING CENTRE",
         "offsetgroup": "PARK AND BET IN POOLING CENTRE",
         "orientation": "v",
         "showlegend": true,
         "textposition": "auto",
         "type": "bar",
         "x": [
          "PARK AND BET IN POOLING CENTRE"
         ],
         "xaxis": "x",
         "y": [
          5000
         ],
         "yaxis": "y"
        },
        {
         "alignmentgroup": "True",
         "hovertemplate": "<b>%{hovertext}</b><br><br>labour_type=%{x}<br>Income_dist=%{y}<extra></extra>",
         "hovertext": [
          3500
         ],
         "legendgroup": "BRICKLAYER(MASON)",
         "marker": {
          "color": "#FECB52",
          "pattern": {
           "shape": ""
          }
         },
         "name": "BRICKLAYER(MASON)",
         "offsetgroup": "BRICKLAYER(MASON)",
         "orientation": "v",
         "showlegend": true,
         "textposition": "auto",
         "type": "bar",
         "x": [
          "BRICKLAYER(MASON)"
         ],
         "xaxis": "x",
         "y": [
          3500
         ],
         "yaxis": "y"
        },
        {
         "alignmentgroup": "True",
         "hovertemplate": "<b>%{hovertext}</b><br><br>labour_type=%{x}<br>Income_dist=%{y}<extra></extra>",
         "hovertext": [
          30000
         ],
         "legendgroup": "SALEMAN",
         "marker": {
          "color": "#636efa",
          "pattern": {
           "shape": ""
          }
         },
         "name": "SALEMAN",
         "offsetgroup": "SALEMAN",
         "orientation": "v",
         "showlegend": true,
         "textposition": "auto",
         "type": "bar",
         "x": [
          "SALEMAN"
         ],
         "xaxis": "x",
         "y": [
          30000
         ],
         "yaxis": "y"
        },
        {
         "alignmentgroup": "True",
         "hovertemplate": "<b>%{hovertext}</b><br><br>labour_type=%{x}<br>Income_dist=%{y}<extra></extra>",
         "hovertext": [
          15000
         ],
         "legendgroup": "SALEGIRL",
         "marker": {
          "color": "#EF553B",
          "pattern": {
           "shape": ""
          }
         },
         "name": "SALEGIRL",
         "offsetgroup": "SALEGIRL",
         "orientation": "v",
         "showlegend": true,
         "textposition": "auto",
         "type": "bar",
         "x": [
          "SALEGIRL"
         ],
         "xaxis": "x",
         "y": [
          15000
         ],
         "yaxis": "y"
        },
        {
         "alignmentgroup": "True",
         "hovertemplate": "<b>%{hovertext}</b><br><br>labour_type=%{x}<br>Income_dist=%{y}<extra></extra>",
         "hovertext": [
          67255
         ],
         "legendgroup": "AGRICULTURAL SUPERINTENDENT",
         "marker": {
          "color": "#00cc96",
          "pattern": {
           "shape": ""
          }
         },
         "name": "AGRICULTURAL SUPERINTENDENT",
         "offsetgroup": "AGRICULTURAL SUPERINTENDENT",
         "orientation": "v",
         "showlegend": true,
         "textposition": "auto",
         "type": "bar",
         "x": [
          "AGRICULTURAL SUPERINTENDENT"
         ],
         "xaxis": "x",
         "y": [
          67255
         ],
         "yaxis": "y"
        },
        {
         "alignmentgroup": "True",
         "hovertemplate": "<b>%{hovertext}</b><br><br>labour_type=%{x}<br>Income_dist=%{y}<extra></extra>",
         "hovertext": [
          28500,
          45000
         ],
         "legendgroup": "PLANT OPERATOR",
         "marker": {
          "color": "#ab63fa",
          "pattern": {
           "shape": ""
          }
         },
         "name": "PLANT OPERATOR",
         "offsetgroup": "PLANT OPERATOR",
         "orientation": "v",
         "showlegend": true,
         "textposition": "auto",
         "type": "bar",
         "x": [
          "PLANT OPERATOR",
          "PLANT OPERATOR"
         ],
         "xaxis": "x",
         "y": [
          28500,
          45000
         ],
         "yaxis": "y"
        },
        {
         "alignmentgroup": "True",
         "hovertemplate": "<b>%{hovertext}</b><br><br>labour_type=%{x}<br>Income_dist=%{y}<extra></extra>",
         "hovertext": [
          57000
         ],
         "legendgroup": "STUDENT AFFAIRS OFFICER",
         "marker": {
          "color": "#FFA15A",
          "pattern": {
           "shape": ""
          }
         },
         "name": "STUDENT AFFAIRS OFFICER",
         "offsetgroup": "STUDENT AFFAIRS OFFICER",
         "orientation": "v",
         "showlegend": true,
         "textposition": "auto",
         "type": "bar",
         "x": [
          "STUDENT AFFAIRS OFFICER"
         ],
         "xaxis": "x",
         "y": [
          57000
         ],
         "yaxis": "y"
        },
        {
         "alignmentgroup": "True",
         "hovertemplate": "<b>%{hovertext}</b><br><br>labour_type=%{x}<br>Income_dist=%{y}<extra></extra>",
         "hovertext": [
          50000
         ],
         "legendgroup": "COMMERCIAL BUS DRIVER",
         "marker": {
          "color": "#19d3f3",
          "pattern": {
           "shape": ""
          }
         },
         "name": "COMMERCIAL BUS DRIVER",
         "offsetgroup": "COMMERCIAL BUS DRIVER",
         "orientation": "v",
         "showlegend": true,
         "textposition": "auto",
         "type": "bar",
         "x": [
          "COMMERCIAL BUS DRIVER"
         ],
         "xaxis": "x",
         "y": [
          50000
         ],
         "yaxis": "y"
        },
        {
         "alignmentgroup": "True",
         "hovertemplate": "<b>%{hovertext}</b><br><br>labour_type=%{x}<br>Income_dist=%{y}<extra></extra>",
         "hovertext": [
          25000
         ],
         "legendgroup": "PRIMARY SCHOOL TEACHER IN PRIVATE SCHOOL",
         "marker": {
          "color": "#FF6692",
          "pattern": {
           "shape": ""
          }
         },
         "name": "PRIMARY SCHOOL TEACHER IN PRIVATE SCHOOL",
         "offsetgroup": "PRIMARY SCHOOL TEACHER IN PRIVATE SCHOOL",
         "orientation": "v",
         "showlegend": true,
         "textposition": "auto",
         "type": "bar",
         "x": [
          "PRIMARY SCHOOL TEACHER IN PRIVATE SCHOOL"
         ],
         "xaxis": "x",
         "y": [
          25000
         ],
         "yaxis": "y"
        },
        {
         "alignmentgroup": "True",
         "hovertemplate": "<b>%{hovertext}</b><br><br>labour_type=%{x}<br>Income_dist=%{y}<extra></extra>",
         "hovertext": [
          8000
         ],
         "legendgroup": "PUMP ATTENDANT IN FILLING STATION",
         "marker": {
          "color": "#B6E880",
          "pattern": {
           "shape": ""
          }
         },
         "name": "PUMP ATTENDANT IN FILLING STATION",
         "offsetgroup": "PUMP ATTENDANT IN FILLING STATION",
         "orientation": "v",
         "showlegend": true,
         "textposition": "auto",
         "type": "bar",
         "x": [
          "PUMP ATTENDANT IN FILLING STATION"
         ],
         "xaxis": "x",
         "y": [
          8000
         ],
         "yaxis": "y"
        },
        {
         "alignmentgroup": "True",
         "hovertemplate": "<b>%{hovertext}</b><br><br>labour_type=%{x}<br>Income_dist=%{y}<extra></extra>",
         "hovertext": [
          1800
         ],
         "legendgroup": "TRANSPORTATION",
         "marker": {
          "color": "#FF97FF",
          "pattern": {
           "shape": ""
          }
         },
         "name": "TRANSPORTATION",
         "offsetgroup": "TRANSPORTATION",
         "orientation": "v",
         "showlegend": true,
         "textposition": "auto",
         "type": "bar",
         "x": [
          "TRANSPORTATION"
         ],
         "xaxis": "x",
         "y": [
          1800
         ],
         "yaxis": "y"
        },
        {
         "alignmentgroup": "True",
         "hovertemplate": "<b>%{hovertext}</b><br><br>labour_type=%{x}<br>Income_dist=%{y}<extra></extra>",
         "hovertext": [
          40000
         ],
         "legendgroup": "BIRTH ATTENDANT",
         "marker": {
          "color": "#FECB52",
          "pattern": {
           "shape": ""
          }
         },
         "name": "BIRTH ATTENDANT",
         "offsetgroup": "BIRTH ATTENDANT",
         "orientation": "v",
         "showlegend": true,
         "textposition": "auto",
         "type": "bar",
         "x": [
          "BIRTH ATTENDANT"
         ],
         "xaxis": "x",
         "y": [
          40000
         ],
         "yaxis": "y"
        },
        {
         "alignmentgroup": "True",
         "hovertemplate": "<b>%{hovertext}</b><br><br>labour_type=%{x}<br>Income_dist=%{y}<extra></extra>",
         "hovertext": [
          40000
         ],
         "legendgroup": "ADMIN STAFF IN LG",
         "marker": {
          "color": "#636efa",
          "pattern": {
           "shape": ""
          }
         },
         "name": "ADMIN STAFF IN LG",
         "offsetgroup": "ADMIN STAFF IN LG",
         "orientation": "v",
         "showlegend": true,
         "textposition": "auto",
         "type": "bar",
         "x": [
          "ADMIN STAFF IN LG"
         ],
         "xaxis": "x",
         "y": [
          40000
         ],
         "yaxis": "y"
        },
        {
         "alignmentgroup": "True",
         "hovertemplate": "<b>%{hovertext}</b><br><br>labour_type=%{x}<br>Income_dist=%{y}<extra></extra>",
         "hovertext": [
          10000
         ],
         "legendgroup": "CART TAXI AND LIGHT VAN DRIVER",
         "marker": {
          "color": "#EF553B",
          "pattern": {
           "shape": ""
          }
         },
         "name": "CART TAXI AND LIGHT VAN DRIVER",
         "offsetgroup": "CART TAXI AND LIGHT VAN DRIVER",
         "orientation": "v",
         "showlegend": true,
         "textposition": "auto",
         "type": "bar",
         "x": [
          "CART TAXI AND LIGHT VAN DRIVER"
         ],
         "xaxis": "x",
         "y": [
          10000
         ],
         "yaxis": "y"
        },
        {
         "alignmentgroup": "True",
         "hovertemplate": "<b>%{hovertext}</b><br><br>labour_type=%{x}<br>Income_dist=%{y}<extra></extra>",
         "hovertext": [
          7000
         ],
         "legendgroup": "COOKING IN SEMINARY SCHOOL",
         "marker": {
          "color": "#00cc96",
          "pattern": {
           "shape": ""
          }
         },
         "name": "COOKING IN SEMINARY SCHOOL",
         "offsetgroup": "COOKING IN SEMINARY SCHOOL",
         "orientation": "v",
         "showlegend": true,
         "textposition": "auto",
         "type": "bar",
         "x": [
          "COOKING IN SEMINARY SCHOOL"
         ],
         "xaxis": "x",
         "y": [
          7000
         ],
         "yaxis": "y"
        },
        {
         "alignmentgroup": "True",
         "hovertemplate": "<b>%{hovertext}</b><br><br>labour_type=%{x}<br>Income_dist=%{y}<extra></extra>",
         "hovertext": [
          35000
         ],
         "legendgroup": "OTHER PERSONAL SERVICES WORKERS NOT ELSE",
         "marker": {
          "color": "#ab63fa",
          "pattern": {
           "shape": ""
          }
         },
         "name": "OTHER PERSONAL SERVICES WORKERS NOT ELSE",
         "offsetgroup": "OTHER PERSONAL SERVICES WORKERS NOT ELSE",
         "orientation": "v",
         "showlegend": true,
         "textposition": "auto",
         "type": "bar",
         "x": [
          "OTHER PERSONAL SERVICES WORKERS NOT ELSE"
         ],
         "xaxis": "x",
         "y": [
          35000
         ],
         "yaxis": "y"
        },
        {
         "alignmentgroup": "True",
         "hovertemplate": "<b>%{hovertext}</b><br><br>labour_type=%{x}<br>Income_dist=%{y}<extra></extra>",
         "hovertext": [
          2500
         ],
         "legendgroup": "CONCRETE WORKER",
         "marker": {
          "color": "#FFA15A",
          "pattern": {
           "shape": ""
          }
         },
         "name": "CONCRETE WORKER",
         "offsetgroup": "CONCRETE WORKER",
         "orientation": "v",
         "showlegend": true,
         "textposition": "auto",
         "type": "bar",
         "x": [
          "CONCRETE WORKER"
         ],
         "xaxis": "x",
         "y": [
          2500
         ],
         "yaxis": "y"
        },
        {
         "alignmentgroup": "True",
         "hovertemplate": "<b>%{hovertext}</b><br><br>labour_type=%{x}<br>Income_dist=%{y}<extra></extra>",
         "hovertext": [
          2000,
          30000,
          5000,
          2500,
          75000
         ],
         "legendgroup": "BRICKLAYER",
         "marker": {
          "color": "#19d3f3",
          "pattern": {
           "shape": ""
          }
         },
         "name": "BRICKLAYER",
         "offsetgroup": "BRICKLAYER",
         "orientation": "v",
         "showlegend": true,
         "textposition": "auto",
         "type": "bar",
         "x": [
          "BRICKLAYER",
          "BRICKLAYER",
          "BRICKLAYER",
          "BRICKLAYER",
          "BRICKLAYER"
         ],
         "xaxis": "x",
         "y": [
          2000,
          30000,
          5000,
          2500,
          75000
         ],
         "yaxis": "y"
        },
        {
         "alignmentgroup": "True",
         "hovertemplate": "<b>%{hovertext}</b><br><br>labour_type=%{x}<br>Income_dist=%{y}<extra></extra>",
         "hovertext": [
          10000
         ],
         "legendgroup": "FISHERY WORKER",
         "marker": {
          "color": "#FF6692",
          "pattern": {
           "shape": ""
          }
         },
         "name": "FISHERY WORKER",
         "offsetgroup": "FISHERY WORKER",
         "orientation": "v",
         "showlegend": true,
         "textposition": "auto",
         "type": "bar",
         "x": [
          "FISHERY WORKER"
         ],
         "xaxis": "x",
         "y": [
          10000
         ],
         "yaxis": "y"
        },
        {
         "alignmentgroup": "True",
         "hovertemplate": "<b>%{hovertext}</b><br><br>labour_type=%{x}<br>Income_dist=%{y}<extra></extra>",
         "hovertext": [
          5000,
          30000,
          28000,
          22000,
          18000
         ],
         "legendgroup": "CLEANER",
         "marker": {
          "color": "#B6E880",
          "pattern": {
           "shape": ""
          }
         },
         "name": "CLEANER",
         "offsetgroup": "CLEANER",
         "orientation": "v",
         "showlegend": true,
         "textposition": "auto",
         "type": "bar",
         "x": [
          "CLEANER",
          "CLEANER",
          "CLEANER",
          "CLEANER",
          "CLEANER"
         ],
         "xaxis": "x",
         "y": [
          5000,
          30000,
          28000,
          22000,
          18000
         ],
         "yaxis": "y"
        },
        {
         "alignmentgroup": "True",
         "hovertemplate": "<b>%{hovertext}</b><br><br>labour_type=%{x}<br>Income_dist=%{y}<extra></extra>",
         "hovertext": [
          36000
         ],
         "legendgroup": "BUS DRIVER",
         "marker": {
          "color": "#FF97FF",
          "pattern": {
           "shape": ""
          }
         },
         "name": "BUS DRIVER",
         "offsetgroup": "BUS DRIVER",
         "orientation": "v",
         "showlegend": true,
         "textposition": "auto",
         "type": "bar",
         "x": [
          "BUS DRIVER"
         ],
         "xaxis": "x",
         "y": [
          36000
         ],
         "yaxis": "y"
        },
        {
         "alignmentgroup": "True",
         "hovertemplate": "<b>%{hovertext}</b><br><br>labour_type=%{x}<br>Income_dist=%{y}<extra></extra>",
         "hovertext": [
          40000,
          10000,
          58000,
          25000
         ],
         "legendgroup": "PRIVATE SECURITY GUARDS",
         "marker": {
          "color": "#FECB52",
          "pattern": {
           "shape": ""
          }
         },
         "name": "PRIVATE SECURITY GUARDS",
         "offsetgroup": "PRIVATE SECURITY GUARDS",
         "orientation": "v",
         "showlegend": true,
         "textposition": "auto",
         "type": "bar",
         "x": [
          "PRIVATE SECURITY GUARDS",
          "PRIVATE SECURITY GUARDS",
          "PRIVATE SECURITY GUARDS",
          "PRIVATE SECURITY GUARDS"
         ],
         "xaxis": "x",
         "y": [
          40000,
          10000,
          58000,
          25000
         ],
         "yaxis": "y"
        },
        {
         "alignmentgroup": "True",
         "hovertemplate": "<b>%{hovertext}</b><br><br>labour_type=%{x}<br>Income_dist=%{y}<extra></extra>",
         "hovertext": [
          28000,
          25000,
          15000,
          40000,
          24572
         ],
         "legendgroup": "SECURITY GUARD",
         "marker": {
          "color": "#636efa",
          "pattern": {
           "shape": ""
          }
         },
         "name": "SECURITY GUARD",
         "offsetgroup": "SECURITY GUARD",
         "orientation": "v",
         "showlegend": true,
         "textposition": "auto",
         "type": "bar",
         "x": [
          "SECURITY GUARD",
          "SECURITY GUARD",
          "SECURITY GUARD",
          "SECURITY GUARD",
          "SECURITY GUARD"
         ],
         "xaxis": "x",
         "y": [
          28000,
          25000,
          15000,
          40000,
          24572
         ],
         "yaxis": "y"
        },
        {
         "alignmentgroup": "True",
         "hovertemplate": "<b>%{hovertext}</b><br><br>labour_type=%{x}<br>Income_dist=%{y}<extra></extra>",
         "hovertext": [
          43000
         ],
         "legendgroup": "ADMINISTRATIVE AND RELATED WORK",
         "marker": {
          "color": "#EF553B",
          "pattern": {
           "shape": ""
          }
         },
         "name": "ADMINISTRATIVE AND RELATED WORK",
         "offsetgroup": "ADMINISTRATIVE AND RELATED WORK",
         "orientation": "v",
         "showlegend": true,
         "textposition": "auto",
         "type": "bar",
         "x": [
          "ADMINISTRATIVE AND RELATED WORK"
         ],
         "xaxis": "x",
         "y": [
          43000
         ],
         "yaxis": "y"
        },
        {
         "alignmentgroup": "True",
         "hovertemplate": "<b>%{hovertext}</b><br><br>labour_type=%{x}<br>Income_dist=%{y}<extra></extra>",
         "hovertext": [
          2000,
          2500
         ],
         "legendgroup": "MASON",
         "marker": {
          "color": "#00cc96",
          "pattern": {
           "shape": ""
          }
         },
         "name": "MASON",
         "offsetgroup": "MASON",
         "orientation": "v",
         "showlegend": true,
         "textposition": "auto",
         "type": "bar",
         "x": [
          "MASON",
          "MASON"
         ],
         "xaxis": "x",
         "y": [
          2000,
          2500
         ],
         "yaxis": "y"
        },
        {
         "alignmentgroup": "True",
         "hovertemplate": "<b>%{hovertext}</b><br><br>labour_type=%{x}<br>Income_dist=%{y}<extra></extra>",
         "hovertext": [
          2500,
          2000
         ],
         "legendgroup": "FARMLAND LABOURER",
         "marker": {
          "color": "#ab63fa",
          "pattern": {
           "shape": ""
          }
         },
         "name": "FARMLAND LABOURER",
         "offsetgroup": "FARMLAND LABOURER",
         "orientation": "v",
         "showlegend": true,
         "textposition": "auto",
         "type": "bar",
         "x": [
          "FARMLAND LABOURER",
          "FARMLAND LABOURER"
         ],
         "xaxis": "x",
         "y": [
          2500,
          2000
         ],
         "yaxis": "y"
        },
        {
         "alignmentgroup": "True",
         "hovertemplate": "<b>%{hovertext}</b><br><br>labour_type=%{x}<br>Income_dist=%{y}<extra></extra>",
         "hovertext": [
          5000
         ],
         "legendgroup": "TAILOR",
         "marker": {
          "color": "#FFA15A",
          "pattern": {
           "shape": ""
          }
         },
         "name": "TAILOR",
         "offsetgroup": "TAILOR",
         "orientation": "v",
         "showlegend": true,
         "textposition": "auto",
         "type": "bar",
         "x": [
          "TAILOR"
         ],
         "xaxis": "x",
         "y": [
          5000
         ],
         "yaxis": "y"
        },
        {
         "alignmentgroup": "True",
         "hovertemplate": "<b>%{hovertext}</b><br><br>labour_type=%{x}<br>Income_dist=%{y}<extra></extra>",
         "hovertext": [
          2000
         ],
         "legendgroup": "BRICKLAYING",
         "marker": {
          "color": "#19d3f3",
          "pattern": {
           "shape": ""
          }
         },
         "name": "BRICKLAYING",
         "offsetgroup": "BRICKLAYING",
         "orientation": "v",
         "showlegend": true,
         "textposition": "auto",
         "type": "bar",
         "x": [
          "BRICKLAYING"
         ],
         "xaxis": "x",
         "y": [
          2000
         ],
         "yaxis": "y"
        },
        {
         "alignmentgroup": "True",
         "hovertemplate": "<b>%{hovertext}</b><br><br>labour_type=%{x}<br>Income_dist=%{y}<extra></extra>",
         "hovertext": [
          12000
         ],
         "legendgroup": "LABOURER IN CONSTRUCTION COMPANY",
         "marker": {
          "color": "#FF6692",
          "pattern": {
           "shape": ""
          }
         },
         "name": "LABOURER IN CONSTRUCTION COMPANY",
         "offsetgroup": "LABOURER IN CONSTRUCTION COMPANY",
         "orientation": "v",
         "showlegend": true,
         "textposition": "auto",
         "type": "bar",
         "x": [
          "LABOURER IN CONSTRUCTION COMPANY"
         ],
         "xaxis": "x",
         "y": [
          12000
         ],
         "yaxis": "y"
        },
        {
         "alignmentgroup": "True",
         "hovertemplate": "<b>%{hovertext}</b><br><br>labour_type=%{x}<br>Income_dist=%{y}<extra></extra>",
         "hovertext": [
          35000
         ],
         "legendgroup": "COOK IN CONSTRUCTION COMPANY",
         "marker": {
          "color": "#B6E880",
          "pattern": {
           "shape": ""
          }
         },
         "name": "COOK IN CONSTRUCTION COMPANY",
         "offsetgroup": "COOK IN CONSTRUCTION COMPANY",
         "orientation": "v",
         "showlegend": true,
         "textposition": "auto",
         "type": "bar",
         "x": [
          "COOK IN CONSTRUCTION COMPANY"
         ],
         "xaxis": "x",
         "y": [
          35000
         ],
         "yaxis": "y"
        },
        {
         "alignmentgroup": "True",
         "hovertemplate": "<b>%{hovertext}</b><br><br>labour_type=%{x}<br>Income_dist=%{y}<extra></extra>",
         "hovertext": [
          42000
         ],
         "legendgroup": "HANDCRAFT WORK IN WOOD",
         "marker": {
          "color": "#FF97FF",
          "pattern": {
           "shape": ""
          }
         },
         "name": "HANDCRAFT WORK IN WOOD",
         "offsetgroup": "HANDCRAFT WORK IN WOOD",
         "orientation": "v",
         "showlegend": true,
         "textposition": "auto",
         "type": "bar",
         "x": [
          "HANDCRAFT WORK IN WOOD"
         ],
         "xaxis": "x",
         "y": [
          42000
         ],
         "yaxis": "y"
        },
        {
         "alignmentgroup": "True",
         "hovertemplate": "<b>%{hovertext}</b><br><br>labour_type=%{x}<br>Income_dist=%{y}<extra></extra>",
         "hovertext": [
          45000,
          15000
         ],
         "legendgroup": "SECURITY SERVICES",
         "marker": {
          "color": "#FECB52",
          "pattern": {
           "shape": ""
          }
         },
         "name": "SECURITY SERVICES",
         "offsetgroup": "SECURITY SERVICES",
         "orientation": "v",
         "showlegend": true,
         "textposition": "auto",
         "type": "bar",
         "x": [
          "SECURITY SERVICES",
          "SECURITY SERVICES"
         ],
         "xaxis": "x",
         "y": [
          45000,
          15000
         ],
         "yaxis": "y"
        },
        {
         "alignmentgroup": "True",
         "hovertemplate": "<b>%{hovertext}</b><br><br>labour_type=%{x}<br>Income_dist=%{y}<extra></extra>",
         "hovertext": [
          30000,
          80000
         ],
         "legendgroup": "PRIMARY EDUCATION TEACHER",
         "marker": {
          "color": "#636efa",
          "pattern": {
           "shape": ""
          }
         },
         "name": "PRIMARY EDUCATION TEACHER",
         "offsetgroup": "PRIMARY EDUCATION TEACHER",
         "orientation": "v",
         "showlegend": true,
         "textposition": "auto",
         "type": "bar",
         "x": [
          "PRIMARY EDUCATION TEACHER",
          "PRIMARY EDUCATION TEACHER"
         ],
         "xaxis": "x",
         "y": [
          30000,
          80000
         ],
         "yaxis": "y"
        },
        {
         "alignmentgroup": "True",
         "hovertemplate": "<b>%{hovertext}</b><br><br>labour_type=%{x}<br>Income_dist=%{y}<extra></extra>",
         "hovertext": [
          47000
         ],
         "legendgroup": "CLECK",
         "marker": {
          "color": "#EF553B",
          "pattern": {
           "shape": ""
          }
         },
         "name": "CLECK",
         "offsetgroup": "CLECK",
         "orientation": "v",
         "showlegend": true,
         "textposition": "auto",
         "type": "bar",
         "x": [
          "CLECK"
         ],
         "xaxis": "x",
         "y": [
          47000
         ],
         "yaxis": "y"
        },
        {
         "alignmentgroup": "True",
         "hovertemplate": "<b>%{hovertext}</b><br><br>labour_type=%{x}<br>Income_dist=%{y}<extra></extra>",
         "hovertext": [
          1000
         ],
         "legendgroup": "LABOURER IN PALM KENNEL WASHING",
         "marker": {
          "color": "#00cc96",
          "pattern": {
           "shape": ""
          }
         },
         "name": "LABOURER IN PALM KENNEL WASHING",
         "offsetgroup": "LABOURER IN PALM KENNEL WASHING",
         "orientation": "v",
         "showlegend": true,
         "textposition": "auto",
         "type": "bar",
         "x": [
          "LABOURER IN PALM KENNEL WASHING"
         ],
         "xaxis": "x",
         "y": [
          1000
         ],
         "yaxis": "y"
        },
        {
         "alignmentgroup": "True",
         "hovertemplate": "<b>%{hovertext}</b><br><br>labour_type=%{x}<br>Income_dist=%{y}<extra></extra>",
         "hovertext": [
          500
         ],
         "legendgroup": "LABOURER (WEEDING AND PLANTING)",
         "marker": {
          "color": "#ab63fa",
          "pattern": {
           "shape": ""
          }
         },
         "name": "LABOURER (WEEDING AND PLANTING)",
         "offsetgroup": "LABOURER (WEEDING AND PLANTING)",
         "orientation": "v",
         "showlegend": true,
         "textposition": "auto",
         "type": "bar",
         "x": [
          "LABOURER (WEEDING AND PLANTING)"
         ],
         "xaxis": "x",
         "y": [
          500
         ],
         "yaxis": "y"
        },
        {
         "alignmentgroup": "True",
         "hovertemplate": "<b>%{hovertext}</b><br><br>labour_type=%{x}<br>Income_dist=%{y}<extra></extra>",
         "hovertext": [
          500
         ],
         "legendgroup": "LABOURER (WEEDING ANDPLANTING)",
         "marker": {
          "color": "#FFA15A",
          "pattern": {
           "shape": ""
          }
         },
         "name": "LABOURER (WEEDING ANDPLANTING)",
         "offsetgroup": "LABOURER (WEEDING ANDPLANTING)",
         "orientation": "v",
         "showlegend": true,
         "textposition": "auto",
         "type": "bar",
         "x": [
          "LABOURER (WEEDING ANDPLANTING)"
         ],
         "xaxis": "x",
         "y": [
          500
         ],
         "yaxis": "y"
        },
        {
         "alignmentgroup": "True",
         "hovertemplate": "<b>%{hovertext}</b><br><br>labour_type=%{x}<br>Income_dist=%{y}<extra></extra>",
         "hovertext": [
          8000
         ],
         "legendgroup": "SECURITY GUARD (WATCHMAN)",
         "marker": {
          "color": "#19d3f3",
          "pattern": {
           "shape": ""
          }
         },
         "name": "SECURITY GUARD (WATCHMAN)",
         "offsetgroup": "SECURITY GUARD (WATCHMAN)",
         "orientation": "v",
         "showlegend": true,
         "textposition": "auto",
         "type": "bar",
         "x": [
          "SECURITY GUARD (WATCHMAN)"
         ],
         "xaxis": "x",
         "y": [
          8000
         ],
         "yaxis": "y"
        },
        {
         "alignmentgroup": "True",
         "hovertemplate": "<b>%{hovertext}</b><br><br>labour_type=%{x}<br>Income_dist=%{y}<extra></extra>",
         "hovertext": [
          36000
         ],
         "legendgroup": "J CHEW",
         "marker": {
          "color": "#FF6692",
          "pattern": {
           "shape": ""
          }
         },
         "name": "J CHEW",
         "offsetgroup": "J CHEW",
         "orientation": "v",
         "showlegend": true,
         "textposition": "auto",
         "type": "bar",
         "x": [
          "J CHEW"
         ],
         "xaxis": "x",
         "y": [
          36000
         ],
         "yaxis": "y"
        },
        {
         "alignmentgroup": "True",
         "hovertemplate": "<b>%{hovertext}</b><br><br>labour_type=%{x}<br>Income_dist=%{y}<extra></extra>",
         "hovertext": [
          160000
         ],
         "legendgroup": "BUILDING CARE TAKER AT BB COMPANY",
         "marker": {
          "color": "#B6E880",
          "pattern": {
           "shape": ""
          }
         },
         "name": "BUILDING CARE TAKER AT BB COMPANY",
         "offsetgroup": "BUILDING CARE TAKER AT BB COMPANY",
         "orientation": "v",
         "showlegend": true,
         "textposition": "auto",
         "type": "bar",
         "x": [
          "BUILDING CARE TAKER AT BB COMPANY"
         ],
         "xaxis": "x",
         "y": [
          160000
         ],
         "yaxis": "y"
        },
        {
         "alignmentgroup": "True",
         "hovertemplate": "<b>%{hovertext}</b><br><br>labour_type=%{x}<br>Income_dist=%{y}<extra></extra>",
         "hovertext": [
          65000
         ],
         "legendgroup": "JCHEW AT PRIMARY HEALTH CARE DEV AGENCY",
         "marker": {
          "color": "#FF97FF",
          "pattern": {
           "shape": ""
          }
         },
         "name": "JCHEW AT PRIMARY HEALTH CARE DEV AGENCY",
         "offsetgroup": "JCHEW AT PRIMARY HEALTH CARE DEV AGENCY",
         "orientation": "v",
         "showlegend": true,
         "textposition": "auto",
         "type": "bar",
         "x": [
          "JCHEW AT PRIMARY HEALTH CARE DEV AGENCY"
         ],
         "xaxis": "x",
         "y": [
          65000
         ],
         "yaxis": "y"
        },
        {
         "alignmentgroup": "True",
         "hovertemplate": "<b>%{hovertext}</b><br><br>labour_type=%{x}<br>Income_dist=%{y}<extra></extra>",
         "hovertext": [
          10000
         ],
         "legendgroup": "WASTE DISPOSAL/CLEANING & SWEEPING OD ST",
         "marker": {
          "color": "#FECB52",
          "pattern": {
           "shape": ""
          }
         },
         "name": "WASTE DISPOSAL/CLEANING & SWEEPING OD ST",
         "offsetgroup": "WASTE DISPOSAL/CLEANING & SWEEPING OD ST",
         "orientation": "v",
         "showlegend": true,
         "textposition": "auto",
         "type": "bar",
         "x": [
          "WASTE DISPOSAL/CLEANING & SWEEPING OD ST"
         ],
         "xaxis": "x",
         "y": [
          10000
         ],
         "yaxis": "y"
        },
        {
         "alignmentgroup": "True",
         "hovertemplate": "<b>%{hovertext}</b><br><br>labour_type=%{x}<br>Income_dist=%{y}<extra></extra>",
         "hovertext": [
          90000
         ],
         "legendgroup": "CLERK AT ABUBAKAR TAFABALEWA UNIVERSITY",
         "marker": {
          "color": "#636efa",
          "pattern": {
           "shape": ""
          }
         },
         "name": "CLERK AT ABUBAKAR TAFABALEWA UNIVERSITY",
         "offsetgroup": "CLERK AT ABUBAKAR TAFABALEWA UNIVERSITY",
         "orientation": "v",
         "showlegend": true,
         "textposition": "auto",
         "type": "bar",
         "x": [
          "CLERK AT ABUBAKAR TAFABALEWA UNIVERSITY"
         ],
         "xaxis": "x",
         "y": [
          90000
         ],
         "yaxis": "y"
        },
        {
         "alignmentgroup": "True",
         "hovertemplate": "<b>%{hovertext}</b><br><br>labour_type=%{x}<br>Income_dist=%{y}<extra></extra>",
         "hovertext": [
          30000
         ],
         "legendgroup": "PAINTER AT ROAD SIDE",
         "marker": {
          "color": "#EF553B",
          "pattern": {
           "shape": ""
          }
         },
         "name": "PAINTER AT ROAD SIDE",
         "offsetgroup": "PAINTER AT ROAD SIDE",
         "orientation": "v",
         "showlegend": true,
         "textposition": "auto",
         "type": "bar",
         "x": [
          "PAINTER AT ROAD SIDE"
         ],
         "xaxis": "x",
         "y": [
          30000
         ],
         "yaxis": "y"
        },
        {
         "alignmentgroup": "True",
         "hovertemplate": "<b>%{hovertext}</b><br><br>labour_type=%{x}<br>Income_dist=%{y}<extra></extra>",
         "hovertext": [
          38000,
          10000,
          80000,
          10000
         ],
         "legendgroup": "TEACHING IN PRIMARY SCHOOL",
         "marker": {
          "color": "#00cc96",
          "pattern": {
           "shape": ""
          }
         },
         "name": "TEACHING IN PRIMARY SCHOOL",
         "offsetgroup": "TEACHING IN PRIMARY SCHOOL",
         "orientation": "v",
         "showlegend": true,
         "textposition": "auto",
         "type": "bar",
         "x": [
          "TEACHING IN PRIMARY SCHOOL",
          "TEACHING IN PRIMARY SCHOOL",
          "TEACHING IN PRIMARY SCHOOL",
          "TEACHING IN PRIMARY SCHOOL"
         ],
         "xaxis": "x",
         "y": [
          38000,
          10000,
          80000,
          10000
         ],
         "yaxis": "y"
        },
        {
         "alignmentgroup": "True",
         "hovertemplate": "<b>%{hovertext}</b><br><br>labour_type=%{x}<br>Income_dist=%{y}<extra></extra>",
         "hovertext": [
          500
         ],
         "legendgroup": "WEEDING AND PLANTING",
         "marker": {
          "color": "#ab63fa",
          "pattern": {
           "shape": ""
          }
         },
         "name": "WEEDING AND PLANTING",
         "offsetgroup": "WEEDING AND PLANTING",
         "orientation": "v",
         "showlegend": true,
         "textposition": "auto",
         "type": "bar",
         "x": [
          "WEEDING AND PLANTING"
         ],
         "xaxis": "x",
         "y": [
          500
         ],
         "yaxis": "y"
        },
        {
         "alignmentgroup": "True",
         "hovertemplate": "<b>%{hovertext}</b><br><br>labour_type=%{x}<br>Income_dist=%{y}<extra></extra>",
         "hovertext": [
          10000
         ],
         "legendgroup": "TRUCK DRIVER",
         "marker": {
          "color": "#FFA15A",
          "pattern": {
           "shape": ""
          }
         },
         "name": "TRUCK DRIVER",
         "offsetgroup": "TRUCK DRIVER",
         "orientation": "v",
         "showlegend": true,
         "textposition": "auto",
         "type": "bar",
         "x": [
          "TRUCK DRIVER"
         ],
         "xaxis": "x",
         "y": [
          10000
         ],
         "yaxis": "y"
        },
        {
         "alignmentgroup": "True",
         "hovertemplate": "<b>%{hovertext}</b><br><br>labour_type=%{x}<br>Income_dist=%{y}<extra></extra>",
         "hovertext": [
          26000
         ],
         "legendgroup": "CLEANER AT PRIMARY HEALTH CARE HOSPITAL",
         "marker": {
          "color": "#19d3f3",
          "pattern": {
           "shape": ""
          }
         },
         "name": "CLEANER AT PRIMARY HEALTH CARE HOSPITAL",
         "offsetgroup": "CLEANER AT PRIMARY HEALTH CARE HOSPITAL",
         "orientation": "v",
         "showlegend": true,
         "textposition": "auto",
         "type": "bar",
         "x": [
          "CLEANER AT PRIMARY HEALTH CARE HOSPITAL"
         ],
         "xaxis": "x",
         "y": [
          26000
         ],
         "yaxis": "y"
        },
        {
         "alignmentgroup": "True",
         "hovertemplate": "<b>%{hovertext}</b><br><br>labour_type=%{x}<br>Income_dist=%{y}<extra></extra>",
         "hovertext": [
          22000
         ],
         "legendgroup": "MARD ATTENDANT",
         "marker": {
          "color": "#FF6692",
          "pattern": {
           "shape": ""
          }
         },
         "name": "MARD ATTENDANT",
         "offsetgroup": "MARD ATTENDANT",
         "orientation": "v",
         "showlegend": true,
         "textposition": "auto",
         "type": "bar",
         "x": [
          "MARD ATTENDANT"
         ],
         "xaxis": "x",
         "y": [
          22000
         ],
         "yaxis": "y"
        },
        {
         "alignmentgroup": "True",
         "hovertemplate": "<b>%{hovertext}</b><br><br>labour_type=%{x}<br>Income_dist=%{y}<extra></extra>",
         "hovertext": [
          22000
         ],
         "legendgroup": "WARD ATTENDANT",
         "marker": {
          "color": "#B6E880",
          "pattern": {
           "shape": ""
          }
         },
         "name": "WARD ATTENDANT",
         "offsetgroup": "WARD ATTENDANT",
         "orientation": "v",
         "showlegend": true,
         "textposition": "auto",
         "type": "bar",
         "x": [
          "WARD ATTENDANT"
         ],
         "xaxis": "x",
         "y": [
          22000
         ],
         "yaxis": "y"
        },
        {
         "alignmentgroup": "True",
         "hovertemplate": "<b>%{hovertext}</b><br><br>labour_type=%{x}<br>Income_dist=%{y}<extra></extra>",
         "hovertext": [
          28000
         ],
         "legendgroup": "SECRETARY TO THE DISTRICT HEAD (SCRIBE)",
         "marker": {
          "color": "#FF97FF",
          "pattern": {
           "shape": ""
          }
         },
         "name": "SECRETARY TO THE DISTRICT HEAD (SCRIBE)",
         "offsetgroup": "SECRETARY TO THE DISTRICT HEAD (SCRIBE)",
         "orientation": "v",
         "showlegend": true,
         "textposition": "auto",
         "type": "bar",
         "x": [
          "SECRETARY TO THE DISTRICT HEAD (SCRIBE)"
         ],
         "xaxis": "x",
         "y": [
          28000
         ],
         "yaxis": "y"
        },
        {
         "alignmentgroup": "True",
         "hovertemplate": "<b>%{hovertext}</b><br><br>labour_type=%{x}<br>Income_dist=%{y}<extra></extra>",
         "hovertext": [
          46000
         ],
         "legendgroup": "TECHING(SECONDARY SCHOOL TEACHER)",
         "marker": {
          "color": "#FECB52",
          "pattern": {
           "shape": ""
          }
         },
         "name": "TECHING(SECONDARY SCHOOL TEACHER)",
         "offsetgroup": "TECHING(SECONDARY SCHOOL TEACHER)",
         "orientation": "v",
         "showlegend": true,
         "textposition": "auto",
         "type": "bar",
         "x": [
          "TECHING(SECONDARY SCHOOL TEACHER)"
         ],
         "xaxis": "x",
         "y": [
          46000
         ],
         "yaxis": "y"
        },
        {
         "alignmentgroup": "True",
         "hovertemplate": "<b>%{hovertext}</b><br><br>labour_type=%{x}<br>Income_dist=%{y}<extra></extra>",
         "hovertext": [
          36500
         ],
         "legendgroup": "HEALTH PRIMARY SANITRY INSPECTOR",
         "marker": {
          "color": "#636efa",
          "pattern": {
           "shape": ""
          }
         },
         "name": "HEALTH PRIMARY SANITRY INSPECTOR",
         "offsetgroup": "HEALTH PRIMARY SANITRY INSPECTOR",
         "orientation": "v",
         "showlegend": true,
         "textposition": "auto",
         "type": "bar",
         "x": [
          "HEALTH PRIMARY SANITRY INSPECTOR"
         ],
         "xaxis": "x",
         "y": [
          36500
         ],
         "yaxis": "y"
        },
        {
         "alignmentgroup": "True",
         "hovertemplate": "<b>%{hovertext}</b><br><br>labour_type=%{x}<br>Income_dist=%{y}<extra></extra>",
         "hovertext": [
          700,
          140000,
          60000
         ],
         "legendgroup": "FARM LABOURER",
         "marker": {
          "color": "#EF553B",
          "pattern": {
           "shape": ""
          }
         },
         "name": "FARM LABOURER",
         "offsetgroup": "FARM LABOURER",
         "orientation": "v",
         "showlegend": true,
         "textposition": "auto",
         "type": "bar",
         "x": [
          "FARM LABOURER",
          "FARM LABOURER",
          "FARM LABOURER"
         ],
         "xaxis": "x",
         "y": [
          700,
          140000,
          60000
         ],
         "yaxis": "y"
        },
        {
         "alignmentgroup": "True",
         "hovertemplate": "<b>%{hovertext}</b><br><br>labour_type=%{x}<br>Income_dist=%{y}<extra></extra>",
         "hovertext": [
          24000
         ],
         "legendgroup": "WAICH MAN",
         "marker": {
          "color": "#00cc96",
          "pattern": {
           "shape": ""
          }
         },
         "name": "WAICH MAN",
         "offsetgroup": "WAICH MAN",
         "orientation": "v",
         "showlegend": true,
         "textposition": "auto",
         "type": "bar",
         "x": [
          "WAICH MAN"
         ],
         "xaxis": "x",
         "y": [
          24000
         ],
         "yaxis": "y"
        },
        {
         "alignmentgroup": "True",
         "hovertemplate": "<b>%{hovertext}</b><br><br>labour_type=%{x}<br>Income_dist=%{y}<extra></extra>",
         "hovertext": [
          21000
         ],
         "legendgroup": "DRIVER GOVT HOUSE",
         "marker": {
          "color": "#ab63fa",
          "pattern": {
           "shape": ""
          }
         },
         "name": "DRIVER GOVT HOUSE",
         "offsetgroup": "DRIVER GOVT HOUSE",
         "orientation": "v",
         "showlegend": true,
         "textposition": "auto",
         "type": "bar",
         "x": [
          "DRIVER GOVT HOUSE"
         ],
         "xaxis": "x",
         "y": [
          21000
         ],
         "yaxis": "y"
        },
        {
         "alignmentgroup": "True",
         "hovertemplate": "<b>%{hovertext}</b><br><br>labour_type=%{x}<br>Income_dist=%{y}<extra></extra>",
         "hovertext": [
          5000
         ],
         "legendgroup": "TEACHER AT GOVT SECONDARY SCHOOL",
         "marker": {
          "color": "#FFA15A",
          "pattern": {
           "shape": ""
          }
         },
         "name": "TEACHER AT GOVT SECONDARY SCHOOL",
         "offsetgroup": "TEACHER AT GOVT SECONDARY SCHOOL",
         "orientation": "v",
         "showlegend": true,
         "textposition": "auto",
         "type": "bar",
         "x": [
          "TEACHER AT GOVT SECONDARY SCHOOL"
         ],
         "xaxis": "x",
         "y": [
          5000
         ],
         "yaxis": "y"
        },
        {
         "alignmentgroup": "True",
         "hovertemplate": "<b>%{hovertext}</b><br><br>labour_type=%{x}<br>Income_dist=%{y}<extra></extra>",
         "hovertext": [
          50000
         ],
         "legendgroup": "BUS AND TRIAN DRIVER",
         "marker": {
          "color": "#19d3f3",
          "pattern": {
           "shape": ""
          }
         },
         "name": "BUS AND TRIAN DRIVER",
         "offsetgroup": "BUS AND TRIAN DRIVER",
         "orientation": "v",
         "showlegend": true,
         "textposition": "auto",
         "type": "bar",
         "x": [
          "BUS AND TRIAN DRIVER"
         ],
         "xaxis": "x",
         "y": [
          50000
         ],
         "yaxis": "y"
        },
        {
         "alignmentgroup": "True",
         "hovertemplate": "<b>%{hovertext}</b><br><br>labour_type=%{x}<br>Income_dist=%{y}<extra></extra>",
         "hovertext": [
          47000,
          50000,
          1500
         ],
         "legendgroup": "DRIVING",
         "marker": {
          "color": "#FF6692",
          "pattern": {
           "shape": ""
          }
         },
         "name": "DRIVING",
         "offsetgroup": "DRIVING",
         "orientation": "v",
         "showlegend": true,
         "textposition": "auto",
         "type": "bar",
         "x": [
          "DRIVING",
          "DRIVING",
          "DRIVING"
         ],
         "xaxis": "x",
         "y": [
          47000,
          50000,
          1500
         ],
         "yaxis": "y"
        },
        {
         "alignmentgroup": "True",
         "hovertemplate": "<b>%{hovertext}</b><br><br>labour_type=%{x}<br>Income_dist=%{y}<extra></extra>",
         "hovertext": [
          10000
         ],
         "legendgroup": "SPIDER WEB SECURITY",
         "marker": {
          "color": "#B6E880",
          "pattern": {
           "shape": ""
          }
         },
         "name": "SPIDER WEB SECURITY",
         "offsetgroup": "SPIDER WEB SECURITY",
         "orientation": "v",
         "showlegend": true,
         "textposition": "auto",
         "type": "bar",
         "x": [
          "SPIDER WEB SECURITY"
         ],
         "xaxis": "x",
         "y": [
          10000
         ],
         "yaxis": "y"
        },
        {
         "alignmentgroup": "True",
         "hovertemplate": "<b>%{hovertext}</b><br><br>labour_type=%{x}<br>Income_dist=%{y}<extra></extra>",
         "hovertext": [
          47000
         ],
         "legendgroup": "CIVIL DEFENSE SECURITY",
         "marker": {
          "color": "#FF97FF",
          "pattern": {
           "shape": ""
          }
         },
         "name": "CIVIL DEFENSE SECURITY",
         "offsetgroup": "CIVIL DEFENSE SECURITY",
         "orientation": "v",
         "showlegend": true,
         "textposition": "auto",
         "type": "bar",
         "x": [
          "CIVIL DEFENSE SECURITY"
         ],
         "xaxis": "x",
         "y": [
          47000
         ],
         "yaxis": "y"
        },
        {
         "alignmentgroup": "True",
         "hovertemplate": "<b>%{hovertext}</b><br><br>labour_type=%{x}<br>Income_dist=%{y}<extra></extra>",
         "hovertext": [
          40000
         ],
         "legendgroup": "WARD ATTENDANT AT GOVERNMENT HOSPITAL",
         "marker": {
          "color": "#FECB52",
          "pattern": {
           "shape": ""
          }
         },
         "name": "WARD ATTENDANT AT GOVERNMENT HOSPITAL",
         "offsetgroup": "WARD ATTENDANT AT GOVERNMENT HOSPITAL",
         "orientation": "v",
         "showlegend": true,
         "textposition": "auto",
         "type": "bar",
         "x": [
          "WARD ATTENDANT AT GOVERNMENT HOSPITAL"
         ],
         "xaxis": "x",
         "y": [
          40000
         ],
         "yaxis": "y"
        },
        {
         "alignmentgroup": "True",
         "hovertemplate": "<b>%{hovertext}</b><br><br>labour_type=%{x}<br>Income_dist=%{y}<extra></extra>",
         "hovertext": [
          95000
         ],
         "legendgroup": "LAB ATTENDANT AT GENERAL HOSPITAL",
         "marker": {
          "color": "#636efa",
          "pattern": {
           "shape": ""
          }
         },
         "name": "LAB ATTENDANT AT GENERAL HOSPITAL",
         "offsetgroup": "LAB ATTENDANT AT GENERAL HOSPITAL",
         "orientation": "v",
         "showlegend": true,
         "textposition": "auto",
         "type": "bar",
         "x": [
          "LAB ATTENDANT AT GENERAL HOSPITAL"
         ],
         "xaxis": "x",
         "y": [
          95000
         ],
         "yaxis": "y"
        },
        {
         "alignmentgroup": "True",
         "hovertemplate": "<b>%{hovertext}</b><br><br>labour_type=%{x}<br>Income_dist=%{y}<extra></extra>",
         "hovertext": [
          38000
         ],
         "legendgroup": "WARD ATTENDANT AT GENERAL HOSPITAL",
         "marker": {
          "color": "#EF553B",
          "pattern": {
           "shape": ""
          }
         },
         "name": "WARD ATTENDANT AT GENERAL HOSPITAL",
         "offsetgroup": "WARD ATTENDANT AT GENERAL HOSPITAL",
         "orientation": "v",
         "showlegend": true,
         "textposition": "auto",
         "type": "bar",
         "x": [
          "WARD ATTENDANT AT GENERAL HOSPITAL"
         ],
         "xaxis": "x",
         "y": [
          38000
         ],
         "yaxis": "y"
        },
        {
         "alignmentgroup": "True",
         "hovertemplate": "<b>%{hovertext}</b><br><br>labour_type=%{x}<br>Income_dist=%{y}<extra></extra>",
         "hovertext": [
          40000
         ],
         "legendgroup": "WARD ATTENDANT AT HOSPITAL(GOVT)",
         "marker": {
          "color": "#00cc96",
          "pattern": {
           "shape": ""
          }
         },
         "name": "WARD ATTENDANT AT HOSPITAL(GOVT)",
         "offsetgroup": "WARD ATTENDANT AT HOSPITAL(GOVT)",
         "orientation": "v",
         "showlegend": true,
         "textposition": "auto",
         "type": "bar",
         "x": [
          "WARD ATTENDANT AT HOSPITAL(GOVT)"
         ],
         "xaxis": "x",
         "y": [
          40000
         ],
         "yaxis": "y"
        },
        {
         "alignmentgroup": "True",
         "hovertemplate": "<b>%{hovertext}</b><br><br>labour_type=%{x}<br>Income_dist=%{y}<extra></extra>",
         "hovertext": [
          105000
         ],
         "legendgroup": "NURSE IN GENERAL HOSPITAL",
         "marker": {
          "color": "#ab63fa",
          "pattern": {
           "shape": ""
          }
         },
         "name": "NURSE IN GENERAL HOSPITAL",
         "offsetgroup": "NURSE IN GENERAL HOSPITAL",
         "orientation": "v",
         "showlegend": true,
         "textposition": "auto",
         "type": "bar",
         "x": [
          "NURSE IN GENERAL HOSPITAL"
         ],
         "xaxis": "x",
         "y": [
          105000
         ],
         "yaxis": "y"
        },
        {
         "alignmentgroup": "True",
         "hovertemplate": "<b>%{hovertext}</b><br><br>labour_type=%{x}<br>Income_dist=%{y}<extra></extra>",
         "hovertext": [
          55000,
          25000
         ],
         "legendgroup": "PRIMARY SCHOOL CLASS TEACHER",
         "marker": {
          "color": "#FFA15A",
          "pattern": {
           "shape": ""
          }
         },
         "name": "PRIMARY SCHOOL CLASS TEACHER",
         "offsetgroup": "PRIMARY SCHOOL CLASS TEACHER",
         "orientation": "v",
         "showlegend": true,
         "textposition": "auto",
         "type": "bar",
         "x": [
          "PRIMARY SCHOOL CLASS TEACHER",
          "PRIMARY SCHOOL CLASS TEACHER"
         ],
         "xaxis": "x",
         "y": [
          55000,
          25000
         ],
         "yaxis": "y"
        },
        {
         "alignmentgroup": "True",
         "hovertemplate": "<b>%{hovertext}</b><br><br>labour_type=%{x}<br>Income_dist=%{y}<extra></extra>",
         "hovertext": [
          150000
         ],
         "legendgroup": "CHIEF NURSING",
         "marker": {
          "color": "#19d3f3",
          "pattern": {
           "shape": ""
          }
         },
         "name": "CHIEF NURSING",
         "offsetgroup": "CHIEF NURSING",
         "orientation": "v",
         "showlegend": true,
         "textposition": "auto",
         "type": "bar",
         "x": [
          "CHIEF NURSING"
         ],
         "xaxis": "x",
         "y": [
          150000
         ],
         "yaxis": "y"
        },
        {
         "alignmentgroup": "True",
         "hovertemplate": "<b>%{hovertext}</b><br><br>labour_type=%{x}<br>Income_dist=%{y}<extra></extra>",
         "hovertext": [
          20000
         ],
         "legendgroup": "VILLAGE HEAD",
         "marker": {
          "color": "#FF6692",
          "pattern": {
           "shape": ""
          }
         },
         "name": "VILLAGE HEAD",
         "offsetgroup": "VILLAGE HEAD",
         "orientation": "v",
         "showlegend": true,
         "textposition": "auto",
         "type": "bar",
         "x": [
          "VILLAGE HEAD"
         ],
         "xaxis": "x",
         "y": [
          20000
         ],
         "yaxis": "y"
        },
        {
         "alignmentgroup": "True",
         "hovertemplate": "<b>%{hovertext}</b><br><br>labour_type=%{x}<br>Income_dist=%{y}<extra></extra>",
         "hovertext": [
          30000
         ],
         "legendgroup": "TEACHER IN COMMUNITY PRIMARY SCHOOL",
         "marker": {
          "color": "#B6E880",
          "pattern": {
           "shape": ""
          }
         },
         "name": "TEACHER IN COMMUNITY PRIMARY SCHOOL",
         "offsetgroup": "TEACHER IN COMMUNITY PRIMARY SCHOOL",
         "orientation": "v",
         "showlegend": true,
         "textposition": "auto",
         "type": "bar",
         "x": [
          "TEACHER IN COMMUNITY PRIMARY SCHOOL"
         ],
         "xaxis": "x",
         "y": [
          30000
         ],
         "yaxis": "y"
        },
        {
         "alignmentgroup": "True",
         "hovertemplate": "<b>%{hovertext}</b><br><br>labour_type=%{x}<br>Income_dist=%{y}<extra></extra>",
         "hovertext": [
          28000,
          67000
         ],
         "legendgroup": "LOCAL GOVT COUNCIL OFFICE CLEANER",
         "marker": {
          "color": "#FF97FF",
          "pattern": {
           "shape": ""
          }
         },
         "name": "LOCAL GOVT COUNCIL OFFICE CLEANER",
         "offsetgroup": "LOCAL GOVT COUNCIL OFFICE CLEANER",
         "orientation": "v",
         "showlegend": true,
         "textposition": "auto",
         "type": "bar",
         "x": [
          "LOCAL GOVT COUNCIL OFFICE CLEANER",
          "LOCAL GOVT COUNCIL OFFICE CLEANER"
         ],
         "xaxis": "x",
         "y": [
          28000,
          67000
         ],
         "yaxis": "y"
        },
        {
         "alignmentgroup": "True",
         "hovertemplate": "<b>%{hovertext}</b><br><br>labour_type=%{x}<br>Income_dist=%{y}<extra></extra>",
         "hovertext": [
          17000
         ],
         "legendgroup": "SUPERVISORY COUNCILLOR FOR HEALTH",
         "marker": {
          "color": "#FECB52",
          "pattern": {
           "shape": ""
          }
         },
         "name": "SUPERVISORY COUNCILLOR FOR HEALTH",
         "offsetgroup": "SUPERVISORY COUNCILLOR FOR HEALTH",
         "orientation": "v",
         "showlegend": true,
         "textposition": "auto",
         "type": "bar",
         "x": [
          "SUPERVISORY COUNCILLOR FOR HEALTH"
         ],
         "xaxis": "x",
         "y": [
          17000
         ],
         "yaxis": "y"
        },
        {
         "alignmentgroup": "True",
         "hovertemplate": "<b>%{hovertext}</b><br><br>labour_type=%{x}<br>Income_dist=%{y}<extra></extra>",
         "hovertext": [
          60000
         ],
         "legendgroup": "TEACHER IN GOVENMEN SECONDRY SCHOOL",
         "marker": {
          "color": "#636efa",
          "pattern": {
           "shape": ""
          }
         },
         "name": "TEACHER IN GOVENMEN SECONDRY SCHOOL",
         "offsetgroup": "TEACHER IN GOVENMEN SECONDRY SCHOOL",
         "orientation": "v",
         "showlegend": true,
         "textposition": "auto",
         "type": "bar",
         "x": [
          "TEACHER IN GOVENMEN SECONDRY SCHOOL"
         ],
         "xaxis": "x",
         "y": [
          60000
         ],
         "yaxis": "y"
        },
        {
         "alignmentgroup": "True",
         "hovertemplate": "<b>%{hovertext}</b><br><br>labour_type=%{x}<br>Income_dist=%{y}<extra></extra>",
         "hovertext": [
          90000
         ],
         "legendgroup": "SECURITY IN THE POLYTECHNIC (SECURITY)",
         "marker": {
          "color": "#EF553B",
          "pattern": {
           "shape": ""
          }
         },
         "name": "SECURITY IN THE POLYTECHNIC (SECURITY)",
         "offsetgroup": "SECURITY IN THE POLYTECHNIC (SECURITY)",
         "orientation": "v",
         "showlegend": true,
         "textposition": "auto",
         "type": "bar",
         "x": [
          "SECURITY IN THE POLYTECHNIC (SECURITY)"
         ],
         "xaxis": "x",
         "y": [
          90000
         ],
         "yaxis": "y"
        },
        {
         "alignmentgroup": "True",
         "hovertemplate": "<b>%{hovertext}</b><br><br>labour_type=%{x}<br>Income_dist=%{y}<extra></extra>",
         "hovertext": [
          115000
         ],
         "legendgroup": "CONFIDENTIAL SECRETARY",
         "marker": {
          "color": "#00cc96",
          "pattern": {
           "shape": ""
          }
         },
         "name": "CONFIDENTIAL SECRETARY",
         "offsetgroup": "CONFIDENTIAL SECRETARY",
         "orientation": "v",
         "showlegend": true,
         "textposition": "auto",
         "type": "bar",
         "x": [
          "CONFIDENTIAL SECRETARY"
         ],
         "xaxis": "x",
         "y": [
          115000
         ],
         "yaxis": "y"
        },
        {
         "alignmentgroup": "True",
         "hovertemplate": "<b>%{hovertext}</b><br><br>labour_type=%{x}<br>Income_dist=%{y}<extra></extra>",
         "hovertext": [
          25000
         ],
         "legendgroup": "SECURITY (LG)",
         "marker": {
          "color": "#ab63fa",
          "pattern": {
           "shape": ""
          }
         },
         "name": "SECURITY (LG)",
         "offsetgroup": "SECURITY (LG)",
         "orientation": "v",
         "showlegend": true,
         "textposition": "auto",
         "type": "bar",
         "x": [
          "SECURITY (LG)"
         ],
         "xaxis": "x",
         "y": [
          25000
         ],
         "yaxis": "y"
        },
        {
         "alignmentgroup": "True",
         "hovertemplate": "<b>%{hovertext}</b><br><br>labour_type=%{x}<br>Income_dist=%{y}<extra></extra>",
         "hovertext": [
          8000
         ],
         "legendgroup": "LABOURER IN FISHING SITE",
         "marker": {
          "color": "#FFA15A",
          "pattern": {
           "shape": ""
          }
         },
         "name": "LABOURER IN FISHING SITE",
         "offsetgroup": "LABOURER IN FISHING SITE",
         "orientation": "v",
         "showlegend": true,
         "textposition": "auto",
         "type": "bar",
         "x": [
          "LABOURER IN FISHING SITE"
         ],
         "xaxis": "x",
         "y": [
          8000
         ],
         "yaxis": "y"
        },
        {
         "alignmentgroup": "True",
         "hovertemplate": "<b>%{hovertext}</b><br><br>labour_type=%{x}<br>Income_dist=%{y}<extra></extra>",
         "hovertext": [
          236000
         ],
         "legendgroup": "SAFETY AND ENVIRONMENTAL OFFICER",
         "marker": {
          "color": "#19d3f3",
          "pattern": {
           "shape": ""
          }
         },
         "name": "SAFETY AND ENVIRONMENTAL OFFICER",
         "offsetgroup": "SAFETY AND ENVIRONMENTAL OFFICER",
         "orientation": "v",
         "showlegend": true,
         "textposition": "auto",
         "type": "bar",
         "x": [
          "SAFETY AND ENVIRONMENTAL OFFICER"
         ],
         "xaxis": "x",
         "y": [
          236000
         ],
         "yaxis": "y"
        },
        {
         "alignmentgroup": "True",
         "hovertemplate": "<b>%{hovertext}</b><br><br>labour_type=%{x}<br>Income_dist=%{y}<extra></extra>",
         "hovertext": [
          144000
         ],
         "legendgroup": "HEALTH RECORDING OFFICER",
         "marker": {
          "color": "#FF6692",
          "pattern": {
           "shape": ""
          }
         },
         "name": "HEALTH RECORDING OFFICER",
         "offsetgroup": "HEALTH RECORDING OFFICER",
         "orientation": "v",
         "showlegend": true,
         "textposition": "auto",
         "type": "bar",
         "x": [
          "HEALTH RECORDING OFFICER"
         ],
         "xaxis": "x",
         "y": [
          144000
         ],
         "yaxis": "y"
        },
        {
         "alignmentgroup": "True",
         "hovertemplate": "<b>%{hovertext}</b><br><br>labour_type=%{x}<br>Income_dist=%{y}<extra></extra>",
         "hovertext": [
          145000
         ],
         "legendgroup": "LOCAL GOVT.HEALTH WORKER",
         "marker": {
          "color": "#B6E880",
          "pattern": {
           "shape": ""
          }
         },
         "name": "LOCAL GOVT.HEALTH WORKER",
         "offsetgroup": "LOCAL GOVT.HEALTH WORKER",
         "orientation": "v",
         "showlegend": true,
         "textposition": "auto",
         "type": "bar",
         "x": [
          "LOCAL GOVT.HEALTH WORKER"
         ],
         "xaxis": "x",
         "y": [
          145000
         ],
         "yaxis": "y"
        },
        {
         "alignmentgroup": "True",
         "hovertemplate": "<b>%{hovertext}</b><br><br>labour_type=%{x}<br>Income_dist=%{y}<extra></extra>",
         "hovertext": [
          120000
         ],
         "legendgroup": "REGISTRA IN JUDICIARY (STATE)",
         "marker": {
          "color": "#FF97FF",
          "pattern": {
           "shape": ""
          }
         },
         "name": "REGISTRA IN JUDICIARY (STATE)",
         "offsetgroup": "REGISTRA IN JUDICIARY (STATE)",
         "orientation": "v",
         "showlegend": true,
         "textposition": "auto",
         "type": "bar",
         "x": [
          "REGISTRA IN JUDICIARY (STATE)"
         ],
         "xaxis": "x",
         "y": [
          120000
         ],
         "yaxis": "y"
        },
        {
         "alignmentgroup": "True",
         "hovertemplate": "<b>%{hovertext}</b><br><br>labour_type=%{x}<br>Income_dist=%{y}<extra></extra>",
         "hovertext": [
          144000
         ],
         "legendgroup": "LOCAL GOVT HEALTH WORKER`",
         "marker": {
          "color": "#FECB52",
          "pattern": {
           "shape": ""
          }
         },
         "name": "LOCAL GOVT HEALTH WORKER`",
         "offsetgroup": "LOCAL GOVT HEALTH WORKER`",
         "orientation": "v",
         "showlegend": true,
         "textposition": "auto",
         "type": "bar",
         "x": [
          "LOCAL GOVT HEALTH WORKER`"
         ],
         "xaxis": "x",
         "y": [
          144000
         ],
         "yaxis": "y"
        },
        {
         "alignmentgroup": "True",
         "hovertemplate": "<b>%{hovertext}</b><br><br>labour_type=%{x}<br>Income_dist=%{y}<extra></extra>",
         "hovertext": [
          100
         ],
         "legendgroup": "NURSE IN HEALTH CENTRE (MIDWIFE)",
         "marker": {
          "color": "#636efa",
          "pattern": {
           "shape": ""
          }
         },
         "name": "NURSE IN HEALTH CENTRE (MIDWIFE)",
         "offsetgroup": "NURSE IN HEALTH CENTRE (MIDWIFE)",
         "orientation": "v",
         "showlegend": true,
         "textposition": "auto",
         "type": "bar",
         "x": [
          "NURSE IN HEALTH CENTRE (MIDWIFE)"
         ],
         "xaxis": "x",
         "y": [
          100
         ],
         "yaxis": "y"
        },
        {
         "alignmentgroup": "True",
         "hovertemplate": "<b>%{hovertext}</b><br><br>labour_type=%{x}<br>Income_dist=%{y}<extra></extra>",
         "hovertext": [
          160000
         ],
         "legendgroup": "NURSE HEALTH CENTRE",
         "marker": {
          "color": "#EF553B",
          "pattern": {
           "shape": ""
          }
         },
         "name": "NURSE HEALTH CENTRE",
         "offsetgroup": "NURSE HEALTH CENTRE",
         "orientation": "v",
         "showlegend": true,
         "textposition": "auto",
         "type": "bar",
         "x": [
          "NURSE HEALTH CENTRE"
         ],
         "xaxis": "x",
         "y": [
          160000
         ],
         "yaxis": "y"
        },
        {
         "alignmentgroup": "True",
         "hovertemplate": "<b>%{hovertext}</b><br><br>labour_type=%{x}<br>Income_dist=%{y}<extra></extra>",
         "hovertext": [
          10000
         ],
         "legendgroup": "PRIVATE PRIMARY SCHOOL TEACHER",
         "marker": {
          "color": "#00cc96",
          "pattern": {
           "shape": ""
          }
         },
         "name": "PRIVATE PRIMARY SCHOOL TEACHER",
         "offsetgroup": "PRIVATE PRIMARY SCHOOL TEACHER",
         "orientation": "v",
         "showlegend": true,
         "textposition": "auto",
         "type": "bar",
         "x": [
          "PRIVATE PRIMARY SCHOOL TEACHER"
         ],
         "xaxis": "x",
         "y": [
          10000
         ],
         "yaxis": "y"
        },
        {
         "alignmentgroup": "True",
         "hovertemplate": "<b>%{hovertext}</b><br><br>labour_type=%{x}<br>Income_dist=%{y}<extra></extra>",
         "hovertext": [
          21000
         ],
         "legendgroup": "CLEANER IN OFFICER",
         "marker": {
          "color": "#ab63fa",
          "pattern": {
           "shape": ""
          }
         },
         "name": "CLEANER IN OFFICER",
         "offsetgroup": "CLEANER IN OFFICER",
         "orientation": "v",
         "showlegend": true,
         "textposition": "auto",
         "type": "bar",
         "x": [
          "CLEANER IN OFFICER"
         ],
         "xaxis": "x",
         "y": [
          21000
         ],
         "yaxis": "y"
        },
        {
         "alignmentgroup": "True",
         "hovertemplate": "<b>%{hovertext}</b><br><br>labour_type=%{x}<br>Income_dist=%{y}<extra></extra>",
         "hovertext": [
          35000
         ],
         "legendgroup": "HOTEL MANAGER",
         "marker": {
          "color": "#FFA15A",
          "pattern": {
           "shape": ""
          }
         },
         "name": "HOTEL MANAGER",
         "offsetgroup": "HOTEL MANAGER",
         "orientation": "v",
         "showlegend": true,
         "textposition": "auto",
         "type": "bar",
         "x": [
          "HOTEL MANAGER"
         ],
         "xaxis": "x",
         "y": [
          35000
         ],
         "yaxis": "y"
        },
        {
         "alignmentgroup": "True",
         "hovertemplate": "<b>%{hovertext}</b><br><br>labour_type=%{x}<br>Income_dist=%{y}<extra></extra>",
         "hovertext": [
          40000
         ],
         "legendgroup": "PRE PRIMARY EDUCATION TEACHER",
         "marker": {
          "color": "#19d3f3",
          "pattern": {
           "shape": ""
          }
         },
         "name": "PRE PRIMARY EDUCATION TEACHER",
         "offsetgroup": "PRE PRIMARY EDUCATION TEACHER",
         "orientation": "v",
         "showlegend": true,
         "textposition": "auto",
         "type": "bar",
         "x": [
          "PRE PRIMARY EDUCATION TEACHER"
         ],
         "xaxis": "x",
         "y": [
          40000
         ],
         "yaxis": "y"
        },
        {
         "alignmentgroup": "True",
         "hovertemplate": "<b>%{hovertext}</b><br><br>labour_type=%{x}<br>Income_dist=%{y}<extra></extra>",
         "hovertext": [
          1500
         ],
         "legendgroup": "SITE MANAGER(TAKING CARE OF LAND",
         "marker": {
          "color": "#FF6692",
          "pattern": {
           "shape": ""
          }
         },
         "name": "SITE MANAGER(TAKING CARE OF LAND",
         "offsetgroup": "SITE MANAGER(TAKING CARE OF LAND",
         "orientation": "v",
         "showlegend": true,
         "textposition": "auto",
         "type": "bar",
         "x": [
          "SITE MANAGER(TAKING CARE OF LAND"
         ],
         "xaxis": "x",
         "y": [
          1500
         ],
         "yaxis": "y"
        },
        {
         "alignmentgroup": "True",
         "hovertemplate": "<b>%{hovertext}</b><br><br>labour_type=%{x}<br>Income_dist=%{y}<extra></extra>",
         "hovertext": [
          15000
         ],
         "legendgroup": "PRE PRIMARY EDUCATION TEACHING",
         "marker": {
          "color": "#B6E880",
          "pattern": {
           "shape": ""
          }
         },
         "name": "PRE PRIMARY EDUCATION TEACHING",
         "offsetgroup": "PRE PRIMARY EDUCATION TEACHING",
         "orientation": "v",
         "showlegend": true,
         "textposition": "auto",
         "type": "bar",
         "x": [
          "PRE PRIMARY EDUCATION TEACHING"
         ],
         "xaxis": "x",
         "y": [
          15000
         ],
         "yaxis": "y"
        },
        {
         "alignmentgroup": "True",
         "hovertemplate": "<b>%{hovertext}</b><br><br>labour_type=%{x}<br>Income_dist=%{y}<extra></extra>",
         "hovertext": [
          70000,
          85000,
          65000
         ],
         "legendgroup": "POLICE",
         "marker": {
          "color": "#FF97FF",
          "pattern": {
           "shape": ""
          }
         },
         "name": "POLICE",
         "offsetgroup": "POLICE",
         "orientation": "v",
         "showlegend": true,
         "textposition": "auto",
         "type": "bar",
         "x": [
          "POLICE",
          "POLICE",
          "POLICE"
         ],
         "xaxis": "x",
         "y": [
          70000,
          85000,
          65000
         ],
         "yaxis": "y"
        },
        {
         "alignmentgroup": "True",
         "hovertemplate": "<b>%{hovertext}</b><br><br>labour_type=%{x}<br>Income_dist=%{y}<extra></extra>",
         "hovertext": [
          29700
         ],
         "legendgroup": "SETTLEMENT OF DISPUTES",
         "marker": {
          "color": "#FECB52",
          "pattern": {
           "shape": ""
          }
         },
         "name": "SETTLEMENT OF DISPUTES",
         "offsetgroup": "SETTLEMENT OF DISPUTES",
         "orientation": "v",
         "showlegend": true,
         "textposition": "auto",
         "type": "bar",
         "x": [
          "SETTLEMENT OF DISPUTES"
         ],
         "xaxis": "x",
         "y": [
          29700
         ],
         "yaxis": "y"
        },
        {
         "alignmentgroup": "True",
         "hovertemplate": "<b>%{hovertext}</b><br><br>labour_type=%{x}<br>Income_dist=%{y}<extra></extra>",
         "hovertext": [
          4500
         ],
         "legendgroup": "SECURITY IN LGA HEALTH CENTRE",
         "marker": {
          "color": "#636efa",
          "pattern": {
           "shape": ""
          }
         },
         "name": "SECURITY IN LGA HEALTH CENTRE",
         "offsetgroup": "SECURITY IN LGA HEALTH CENTRE",
         "orientation": "v",
         "showlegend": true,
         "textposition": "auto",
         "type": "bar",
         "x": [
          "SECURITY IN LGA HEALTH CENTRE"
         ],
         "xaxis": "x",
         "y": [
          4500
         ],
         "yaxis": "y"
        },
        {
         "alignmentgroup": "True",
         "hovertemplate": "<b>%{hovertext}</b><br><br>labour_type=%{x}<br>Income_dist=%{y}<extra></extra>",
         "hovertext": [
          12000,
          1800
         ],
         "legendgroup": "TRANSPORTER",
         "marker": {
          "color": "#EF553B",
          "pattern": {
           "shape": ""
          }
         },
         "name": "TRANSPORTER",
         "offsetgroup": "TRANSPORTER",
         "orientation": "v",
         "showlegend": true,
         "textposition": "auto",
         "type": "bar",
         "x": [
          "TRANSPORTER",
          "TRANSPORTER"
         ],
         "xaxis": "x",
         "y": [
          12000,
          1800
         ],
         "yaxis": "y"
        },
        {
         "alignmentgroup": "True",
         "hovertemplate": "<b>%{hovertext}</b><br><br>labour_type=%{x}<br>Income_dist=%{y}<extra></extra>",
         "hovertext": [
          58500
         ],
         "legendgroup": "STAFF NURSE",
         "marker": {
          "color": "#00cc96",
          "pattern": {
           "shape": ""
          }
         },
         "name": "STAFF NURSE",
         "offsetgroup": "STAFF NURSE",
         "orientation": "v",
         "showlegend": true,
         "textposition": "auto",
         "type": "bar",
         "x": [
          "STAFF NURSE"
         ],
         "xaxis": "x",
         "y": [
          58500
         ],
         "yaxis": "y"
        },
        {
         "alignmentgroup": "True",
         "hovertemplate": "<b>%{hovertext}</b><br><br>labour_type=%{x}<br>Income_dist=%{y}<extra></extra>",
         "hovertext": [
          70000
         ],
         "legendgroup": "HOME SUPT IN THE MIN. OF AGRIC",
         "marker": {
          "color": "#ab63fa",
          "pattern": {
           "shape": ""
          }
         },
         "name": "HOME SUPT IN THE MIN. OF AGRIC",
         "offsetgroup": "HOME SUPT IN THE MIN. OF AGRIC",
         "orientation": "v",
         "showlegend": true,
         "textposition": "auto",
         "type": "bar",
         "x": [
          "HOME SUPT IN THE MIN. OF AGRIC"
         ],
         "xaxis": "x",
         "y": [
          70000
         ],
         "yaxis": "y"
        },
        {
         "alignmentgroup": "True",
         "hovertemplate": "<b>%{hovertext}</b><br><br>labour_type=%{x}<br>Income_dist=%{y}<extra></extra>",
         "hovertext": [
          59000,
          20000
         ],
         "legendgroup": "HEALTH ATTENDANT",
         "marker": {
          "color": "#FFA15A",
          "pattern": {
           "shape": ""
          }
         },
         "name": "HEALTH ATTENDANT",
         "offsetgroup": "HEALTH ATTENDANT",
         "orientation": "v",
         "showlegend": true,
         "textposition": "auto",
         "type": "bar",
         "x": [
          "HEALTH ATTENDANT",
          "HEALTH ATTENDANT"
         ],
         "xaxis": "x",
         "y": [
          59000,
          20000
         ],
         "yaxis": "y"
        },
        {
         "alignmentgroup": "True",
         "hovertemplate": "<b>%{hovertext}</b><br><br>labour_type=%{x}<br>Income_dist=%{y}<extra></extra>",
         "hovertext": [
          74000
         ],
         "legendgroup": "DETECTIVE POLICE OFFICER",
         "marker": {
          "color": "#19d3f3",
          "pattern": {
           "shape": ""
          }
         },
         "name": "DETECTIVE POLICE OFFICER",
         "offsetgroup": "DETECTIVE POLICE OFFICER",
         "orientation": "v",
         "showlegend": true,
         "textposition": "auto",
         "type": "bar",
         "x": [
          "DETECTIVE POLICE OFFICER"
         ],
         "xaxis": "x",
         "y": [
          74000
         ],
         "yaxis": "y"
        },
        {
         "alignmentgroup": "True",
         "hovertemplate": "<b>%{hovertext}</b><br><br>labour_type=%{x}<br>Income_dist=%{y}<extra></extra>",
         "hovertext": [
          48375,
          70000
         ],
         "legendgroup": "POLICE FORCE",
         "marker": {
          "color": "#FF6692",
          "pattern": {
           "shape": ""
          }
         },
         "name": "POLICE FORCE",
         "offsetgroup": "POLICE FORCE",
         "orientation": "v",
         "showlegend": true,
         "textposition": "auto",
         "type": "bar",
         "x": [
          "POLICE FORCE",
          "POLICE FORCE"
         ],
         "xaxis": "x",
         "y": [
          48375,
          70000
         ],
         "yaxis": "y"
        },
        {
         "alignmentgroup": "True",
         "hovertemplate": "<b>%{hovertext}</b><br><br>labour_type=%{x}<br>Income_dist=%{y}<extra></extra>",
         "hovertext": [
          46000
         ],
         "legendgroup": "RELIGION PROFESSIONALS",
         "marker": {
          "color": "#B6E880",
          "pattern": {
           "shape": ""
          }
         },
         "name": "RELIGION PROFESSIONALS",
         "offsetgroup": "RELIGION PROFESSIONALS",
         "orientation": "v",
         "showlegend": true,
         "textposition": "auto",
         "type": "bar",
         "x": [
          "RELIGION PROFESSIONALS"
         ],
         "xaxis": "x",
         "y": [
          46000
         ],
         "yaxis": "y"
        },
        {
         "alignmentgroup": "True",
         "hovertemplate": "<b>%{hovertext}</b><br><br>labour_type=%{x}<br>Income_dist=%{y}<extra></extra>",
         "hovertext": [
          92000
         ],
         "legendgroup": "WARD ATTENDANCE",
         "marker": {
          "color": "#FF97FF",
          "pattern": {
           "shape": ""
          }
         },
         "name": "WARD ATTENDANCE",
         "offsetgroup": "WARD ATTENDANCE",
         "orientation": "v",
         "showlegend": true,
         "textposition": "auto",
         "type": "bar",
         "x": [
          "WARD ATTENDANCE"
         ],
         "xaxis": "x",
         "y": [
          92000
         ],
         "yaxis": "y"
        },
        {
         "alignmentgroup": "True",
         "hovertemplate": "<b>%{hovertext}</b><br><br>labour_type=%{x}<br>Income_dist=%{y}<extra></extra>",
         "hovertext": [
          80000
         ],
         "legendgroup": "DRIVE",
         "marker": {
          "color": "#FECB52",
          "pattern": {
           "shape": ""
          }
         },
         "name": "DRIVE",
         "offsetgroup": "DRIVE",
         "orientation": "v",
         "showlegend": true,
         "textposition": "auto",
         "type": "bar",
         "x": [
          "DRIVE"
         ],
         "xaxis": "x",
         "y": [
          80000
         ],
         "yaxis": "y"
        },
        {
         "alignmentgroup": "True",
         "hovertemplate": "<b>%{hovertext}</b><br><br>labour_type=%{x}<br>Income_dist=%{y}<extra></extra>",
         "hovertext": [
          28000,
          60000
         ],
         "legendgroup": "STOCK CLERKS",
         "marker": {
          "color": "#636efa",
          "pattern": {
           "shape": ""
          }
         },
         "name": "STOCK CLERKS",
         "offsetgroup": "STOCK CLERKS",
         "orientation": "v",
         "showlegend": true,
         "textposition": "auto",
         "type": "bar",
         "x": [
          "STOCK CLERKS",
          "STOCK CLERKS"
         ],
         "xaxis": "x",
         "y": [
          28000,
          60000
         ],
         "yaxis": "y"
        },
        {
         "alignmentgroup": "True",
         "hovertemplate": "<b>%{hovertext}</b><br><br>labour_type=%{x}<br>Income_dist=%{y}<extra></extra>",
         "hovertext": [
          30000
         ],
         "legendgroup": "CONSTRUCTION",
         "marker": {
          "color": "#EF553B",
          "pattern": {
           "shape": ""
          }
         },
         "name": "CONSTRUCTION",
         "offsetgroup": "CONSTRUCTION",
         "orientation": "v",
         "showlegend": true,
         "textposition": "auto",
         "type": "bar",
         "x": [
          "CONSTRUCTION"
         ],
         "xaxis": "x",
         "y": [
          30000
         ],
         "yaxis": "y"
        },
        {
         "alignmentgroup": "True",
         "hovertemplate": "<b>%{hovertext}</b><br><br>labour_type=%{x}<br>Income_dist=%{y}<extra></extra>",
         "hovertext": [
          12000,
          8000
         ],
         "legendgroup": "SALE GIRL",
         "marker": {
          "color": "#00cc96",
          "pattern": {
           "shape": ""
          }
         },
         "name": "SALE GIRL",
         "offsetgroup": "SALE GIRL",
         "orientation": "v",
         "showlegend": true,
         "textposition": "auto",
         "type": "bar",
         "x": [
          "SALE GIRL",
          "SALE GIRL"
         ],
         "xaxis": "x",
         "y": [
          12000,
          8000
         ],
         "yaxis": "y"
        },
        {
         "alignmentgroup": "True",
         "hovertemplate": "<b>%{hovertext}</b><br><br>labour_type=%{x}<br>Income_dist=%{y}<extra></extra>",
         "hovertext": [
          90000
         ],
         "legendgroup": "LIBRARY ATTENDANCE",
         "marker": {
          "color": "#ab63fa",
          "pattern": {
           "shape": ""
          }
         },
         "name": "LIBRARY ATTENDANCE",
         "offsetgroup": "LIBRARY ATTENDANCE",
         "orientation": "v",
         "showlegend": true,
         "textposition": "auto",
         "type": "bar",
         "x": [
          "LIBRARY ATTENDANCE"
         ],
         "xaxis": "x",
         "y": [
          90000
         ],
         "yaxis": "y"
        },
        {
         "alignmentgroup": "True",
         "hovertemplate": "<b>%{hovertext}</b><br><br>labour_type=%{x}<br>Income_dist=%{y}<extra></extra>",
         "hovertext": [
          58000,
          40
         ],
         "legendgroup": "ACCOUNT CLERK",
         "marker": {
          "color": "#FFA15A",
          "pattern": {
           "shape": ""
          }
         },
         "name": "ACCOUNT CLERK",
         "offsetgroup": "ACCOUNT CLERK",
         "orientation": "v",
         "showlegend": true,
         "textposition": "auto",
         "type": "bar",
         "x": [
          "ACCOUNT CLERK",
          "ACCOUNT CLERK"
         ],
         "xaxis": "x",
         "y": [
          58000,
          40
         ],
         "yaxis": "y"
        },
        {
         "alignmentgroup": "True",
         "hovertemplate": "<b>%{hovertext}</b><br><br>labour_type=%{x}<br>Income_dist=%{y}<extra></extra>",
         "hovertext": [
          50000
         ],
         "legendgroup": "HEALTH ATTENDANCE",
         "marker": {
          "color": "#19d3f3",
          "pattern": {
           "shape": ""
          }
         },
         "name": "HEALTH ATTENDANCE",
         "offsetgroup": "HEALTH ATTENDANCE",
         "orientation": "v",
         "showlegend": true,
         "textposition": "auto",
         "type": "bar",
         "x": [
          "HEALTH ATTENDANCE"
         ],
         "xaxis": "x",
         "y": [
          50000
         ],
         "yaxis": "y"
        },
        {
         "alignmentgroup": "True",
         "hovertemplate": "<b>%{hovertext}</b><br><br>labour_type=%{x}<br>Income_dist=%{y}<extra></extra>",
         "hovertext": [
          7000
         ],
         "legendgroup": "MANUFACTURING OF ALUMINIUM POT",
         "marker": {
          "color": "#FF6692",
          "pattern": {
           "shape": ""
          }
         },
         "name": "MANUFACTURING OF ALUMINIUM POT",
         "offsetgroup": "MANUFACTURING OF ALUMINIUM POT",
         "orientation": "v",
         "showlegend": true,
         "textposition": "auto",
         "type": "bar",
         "x": [
          "MANUFACTURING OF ALUMINIUM POT"
         ],
         "xaxis": "x",
         "y": [
          7000
         ],
         "yaxis": "y"
        },
        {
         "alignmentgroup": "True",
         "hovertemplate": "<b>%{hovertext}</b><br><br>labour_type=%{x}<br>Income_dist=%{y}<extra></extra>",
         "hovertext": [
          15000
         ],
         "legendgroup": "ISLAMIC TEACHER IN TEANGAYA/QURANIC SCHO",
         "marker": {
          "color": "#B6E880",
          "pattern": {
           "shape": ""
          }
         },
         "name": "ISLAMIC TEACHER IN TEANGAYA/QURANIC SCHO",
         "offsetgroup": "ISLAMIC TEACHER IN TEANGAYA/QURANIC SCHO",
         "orientation": "v",
         "showlegend": true,
         "textposition": "auto",
         "type": "bar",
         "x": [
          "ISLAMIC TEACHER IN TEANGAYA/QURANIC SCHO"
         ],
         "xaxis": "x",
         "y": [
          15000
         ],
         "yaxis": "y"
        },
        {
         "alignmentgroup": "True",
         "hovertemplate": "<b>%{hovertext}</b><br><br>labour_type=%{x}<br>Income_dist=%{y}<extra></extra>",
         "hovertext": [
          38000
         ],
         "legendgroup": "LEGAL ADVISER OF THE LOCAL GOVERNMENT",
         "marker": {
          "color": "#FF97FF",
          "pattern": {
           "shape": ""
          }
         },
         "name": "LEGAL ADVISER OF THE LOCAL GOVERNMENT",
         "offsetgroup": "LEGAL ADVISER OF THE LOCAL GOVERNMENT",
         "orientation": "v",
         "showlegend": true,
         "textposition": "auto",
         "type": "bar",
         "x": [
          "LEGAL ADVISER OF THE LOCAL GOVERNMENT"
         ],
         "xaxis": "x",
         "y": [
          38000
         ],
         "yaxis": "y"
        },
        {
         "alignmentgroup": "True",
         "hovertemplate": "<b>%{hovertext}</b><br><br>labour_type=%{x}<br>Income_dist=%{y}<extra></extra>",
         "hovertext": [
          38000
         ],
         "legendgroup": "ADMINISTRATIVE SECRETARY",
         "marker": {
          "color": "#FECB52",
          "pattern": {
           "shape": ""
          }
         },
         "name": "ADMINISTRATIVE SECRETARY",
         "offsetgroup": "ADMINISTRATIVE SECRETARY",
         "orientation": "v",
         "showlegend": true,
         "textposition": "auto",
         "type": "bar",
         "x": [
          "ADMINISTRATIVE SECRETARY"
         ],
         "xaxis": "x",
         "y": [
          38000
         ],
         "yaxis": "y"
        },
        {
         "alignmentgroup": "True",
         "hovertemplate": "<b>%{hovertext}</b><br><br>labour_type=%{x}<br>Income_dist=%{y}<extra></extra>",
         "hovertext": [
          25000
         ],
         "legendgroup": "DRIVER IN LOCAL GOVERNMENT COUNCIL",
         "marker": {
          "color": "#636efa",
          "pattern": {
           "shape": ""
          }
         },
         "name": "DRIVER IN LOCAL GOVERNMENT COUNCIL",
         "offsetgroup": "DRIVER IN LOCAL GOVERNMENT COUNCIL",
         "orientation": "v",
         "showlegend": true,
         "textposition": "auto",
         "type": "bar",
         "x": [
          "DRIVER IN LOCAL GOVERNMENT COUNCIL"
         ],
         "xaxis": "x",
         "y": [
          25000
         ],
         "yaxis": "y"
        },
        {
         "alignmentgroup": "True",
         "hovertemplate": "<b>%{hovertext}</b><br><br>labour_type=%{x}<br>Income_dist=%{y}<extra></extra>",
         "hovertext": [
          16000,
          70000,
          31000,
          82000
         ],
         "legendgroup": "HEALTH WORKER",
         "marker": {
          "color": "#EF553B",
          "pattern": {
           "shape": ""
          }
         },
         "name": "HEALTH WORKER",
         "offsetgroup": "HEALTH WORKER",
         "orientation": "v",
         "showlegend": true,
         "textposition": "auto",
         "type": "bar",
         "x": [
          "HEALTH WORKER",
          "HEALTH WORKER",
          "HEALTH WORKER",
          "HEALTH WORKER"
         ],
         "xaxis": "x",
         "y": [
          16000,
          70000,
          31000,
          82000
         ],
         "yaxis": "y"
        },
        {
         "alignmentgroup": "True",
         "hovertemplate": "<b>%{hovertext}</b><br><br>labour_type=%{x}<br>Income_dist=%{y}<extra></extra>",
         "hovertext": [
          9800
         ],
         "legendgroup": "VETINARY ASSISTANT",
         "marker": {
          "color": "#00cc96",
          "pattern": {
           "shape": ""
          }
         },
         "name": "VETINARY ASSISTANT",
         "offsetgroup": "VETINARY ASSISTANT",
         "orientation": "v",
         "showlegend": true,
         "textposition": "auto",
         "type": "bar",
         "x": [
          "VETINARY ASSISTANT"
         ],
         "xaxis": "x",
         "y": [
          9800
         ],
         "yaxis": "y"
        },
        {
         "alignmentgroup": "True",
         "hovertemplate": "<b>%{hovertext}</b><br><br>labour_type=%{x}<br>Income_dist=%{y}<extra></extra>",
         "hovertext": [
          75000
         ],
         "legendgroup": "CASHER WORKING WITH AGRIC BANK",
         "marker": {
          "color": "#ab63fa",
          "pattern": {
           "shape": ""
          }
         },
         "name": "CASHER WORKING WITH AGRIC BANK",
         "offsetgroup": "CASHER WORKING WITH AGRIC BANK",
         "orientation": "v",
         "showlegend": true,
         "textposition": "auto",
         "type": "bar",
         "x": [
          "CASHER WORKING WITH AGRIC BANK"
         ],
         "xaxis": "x",
         "y": [
          75000
         ],
         "yaxis": "y"
        },
        {
         "alignmentgroup": "True",
         "hovertemplate": "<b>%{hovertext}</b><br><br>labour_type=%{x}<br>Income_dist=%{y}<extra></extra>",
         "hovertext": [
          85000,
          114573,
          42860,
          18000,
          54000,
          100000
         ],
         "legendgroup": "TEACHING IN SECONDARY SCHOOL",
         "marker": {
          "color": "#FFA15A",
          "pattern": {
           "shape": ""
          }
         },
         "name": "TEACHING IN SECONDARY SCHOOL",
         "offsetgroup": "TEACHING IN SECONDARY SCHOOL",
         "orientation": "v",
         "showlegend": true,
         "textposition": "auto",
         "type": "bar",
         "x": [
          "TEACHING IN SECONDARY SCHOOL",
          "TEACHING IN SECONDARY SCHOOL",
          "TEACHING IN SECONDARY SCHOOL",
          "TEACHING IN SECONDARY SCHOOL",
          "TEACHING IN SECONDARY SCHOOL",
          "TEACHING IN SECONDARY SCHOOL"
         ],
         "xaxis": "x",
         "y": [
          85000,
          114573,
          42860,
          18000,
          54000,
          100000
         ],
         "yaxis": "y"
        },
        {
         "alignmentgroup": "True",
         "hovertemplate": "<b>%{hovertext}</b><br><br>labour_type=%{x}<br>Income_dist=%{y}<extra></extra>",
         "hovertext": [
          96000
         ],
         "legendgroup": "MIDWIFERY",
         "marker": {
          "color": "#19d3f3",
          "pattern": {
           "shape": ""
          }
         },
         "name": "MIDWIFERY",
         "offsetgroup": "MIDWIFERY",
         "orientation": "v",
         "showlegend": true,
         "textposition": "auto",
         "type": "bar",
         "x": [
          "MIDWIFERY"
         ],
         "xaxis": "x",
         "y": [
          96000
         ],
         "yaxis": "y"
        },
        {
         "alignmentgroup": "True",
         "hovertemplate": "<b>%{hovertext}</b><br><br>labour_type=%{x}<br>Income_dist=%{y}<extra></extra>",
         "hovertext": [
          18000
         ],
         "legendgroup": "ACOUNTANT",
         "marker": {
          "color": "#FF6692",
          "pattern": {
           "shape": ""
          }
         },
         "name": "ACOUNTANT",
         "offsetgroup": "ACOUNTANT",
         "orientation": "v",
         "showlegend": true,
         "textposition": "auto",
         "type": "bar",
         "x": [
          "ACOUNTANT"
         ],
         "xaxis": "x",
         "y": [
          18000
         ],
         "yaxis": "y"
        },
        {
         "alignmentgroup": "True",
         "hovertemplate": "<b>%{hovertext}</b><br><br>labour_type=%{x}<br>Income_dist=%{y}<extra></extra>",
         "hovertext": [
          8000,
          35000
         ],
         "legendgroup": "VETERINARY ASSISTANT",
         "marker": {
          "color": "#B6E880",
          "pattern": {
           "shape": ""
          }
         },
         "name": "VETERINARY ASSISTANT",
         "offsetgroup": "VETERINARY ASSISTANT",
         "orientation": "v",
         "showlegend": true,
         "textposition": "auto",
         "type": "bar",
         "x": [
          "VETERINARY ASSISTANT",
          "VETERINARY ASSISTANT"
         ],
         "xaxis": "x",
         "y": [
          8000,
          35000
         ],
         "yaxis": "y"
        },
        {
         "alignmentgroup": "True",
         "hovertemplate": "<b>%{hovertext}</b><br><br>labour_type=%{x}<br>Income_dist=%{y}<extra></extra>",
         "hovertext": [
          8100,
          23500,
          15000
         ],
         "legendgroup": "WATCHMAN",
         "marker": {
          "color": "#FF97FF",
          "pattern": {
           "shape": ""
          }
         },
         "name": "WATCHMAN",
         "offsetgroup": "WATCHMAN",
         "orientation": "v",
         "showlegend": true,
         "textposition": "auto",
         "type": "bar",
         "x": [
          "WATCHMAN",
          "WATCHMAN",
          "WATCHMAN"
         ],
         "xaxis": "x",
         "y": [
          8100,
          23500,
          15000
         ],
         "yaxis": "y"
        },
        {
         "alignmentgroup": "True",
         "hovertemplate": "<b>%{hovertext}</b><br><br>labour_type=%{x}<br>Income_dist=%{y}<extra></extra>",
         "hovertext": [
          8000
         ],
         "legendgroup": "MEDICAL ASSISTANTS",
         "marker": {
          "color": "#FECB52",
          "pattern": {
           "shape": ""
          }
         },
         "name": "MEDICAL ASSISTANTS",
         "offsetgroup": "MEDICAL ASSISTANTS",
         "orientation": "v",
         "showlegend": true,
         "textposition": "auto",
         "type": "bar",
         "x": [
          "MEDICAL ASSISTANTS"
         ],
         "xaxis": "x",
         "y": [
          8000
         ],
         "yaxis": "y"
        },
        {
         "alignmentgroup": "True",
         "hovertemplate": "<b>%{hovertext}</b><br><br>labour_type=%{x}<br>Income_dist=%{y}<extra></extra>",
         "hovertext": [
          45000
         ],
         "legendgroup": "FINANCE CLERK",
         "marker": {
          "color": "#636efa",
          "pattern": {
           "shape": ""
          }
         },
         "name": "FINANCE CLERK",
         "offsetgroup": "FINANCE CLERK",
         "orientation": "v",
         "showlegend": true,
         "textposition": "auto",
         "type": "bar",
         "x": [
          "FINANCE CLERK"
         ],
         "xaxis": "x",
         "y": [
          45000
         ],
         "yaxis": "y"
        },
        {
         "alignmentgroup": "True",
         "hovertemplate": "<b>%{hovertext}</b><br><br>labour_type=%{x}<br>Income_dist=%{y}<extra></extra>",
         "hovertext": [
          300000
         ],
         "legendgroup": "OFFICE ADMINISTRATIVE",
         "marker": {
          "color": "#EF553B",
          "pattern": {
           "shape": ""
          }
         },
         "name": "OFFICE ADMINISTRATIVE",
         "offsetgroup": "OFFICE ADMINISTRATIVE",
         "orientation": "v",
         "showlegend": true,
         "textposition": "auto",
         "type": "bar",
         "x": [
          "OFFICE ADMINISTRATIVE"
         ],
         "xaxis": "x",
         "y": [
          300000
         ],
         "yaxis": "y"
        },
        {
         "alignmentgroup": "True",
         "hovertemplate": "<b>%{hovertext}</b><br><br>labour_type=%{x}<br>Income_dist=%{y}<extra></extra>",
         "hovertext": [
          80000
         ],
         "legendgroup": "COURT",
         "marker": {
          "color": "#00cc96",
          "pattern": {
           "shape": ""
          }
         },
         "name": "COURT",
         "offsetgroup": "COURT",
         "orientation": "v",
         "showlegend": true,
         "textposition": "auto",
         "type": "bar",
         "x": [
          "COURT"
         ],
         "xaxis": "x",
         "y": [
          80000
         ],
         "yaxis": "y"
        },
        {
         "alignmentgroup": "True",
         "hovertemplate": "<b>%{hovertext}</b><br><br>labour_type=%{x}<br>Income_dist=%{y}<extra></extra>",
         "hovertext": [
          12000
         ],
         "legendgroup": "RUBBER TAPPER",
         "marker": {
          "color": "#ab63fa",
          "pattern": {
           "shape": ""
          }
         },
         "name": "RUBBER TAPPER",
         "offsetgroup": "RUBBER TAPPER",
         "orientation": "v",
         "showlegend": true,
         "textposition": "auto",
         "type": "bar",
         "x": [
          "RUBBER TAPPER"
         ],
         "xaxis": "x",
         "y": [
          12000
         ],
         "yaxis": "y"
        },
        {
         "alignmentgroup": "True",
         "hovertemplate": "<b>%{hovertext}</b><br><br>labour_type=%{x}<br>Income_dist=%{y}<extra></extra>",
         "hovertext": [
          1500
         ],
         "legendgroup": "BUILDING CONSTRUCTION LABOURER",
         "marker": {
          "color": "#FFA15A",
          "pattern": {
           "shape": ""
          }
         },
         "name": "BUILDING CONSTRUCTION LABOURER",
         "offsetgroup": "BUILDING CONSTRUCTION LABOURER",
         "orientation": "v",
         "showlegend": true,
         "textposition": "auto",
         "type": "bar",
         "x": [
          "BUILDING CONSTRUCTION LABOURER"
         ],
         "xaxis": "x",
         "y": [
          1500
         ],
         "yaxis": "y"
        },
        {
         "alignmentgroup": "True",
         "hovertemplate": "<b>%{hovertext}</b><br><br>labour_type=%{x}<br>Income_dist=%{y}<extra></extra>",
         "hovertext": [
          10000
         ],
         "legendgroup": "NIGHT WATCHMAN",
         "marker": {
          "color": "#19d3f3",
          "pattern": {
           "shape": ""
          }
         },
         "name": "NIGHT WATCHMAN",
         "offsetgroup": "NIGHT WATCHMAN",
         "orientation": "v",
         "showlegend": true,
         "textposition": "auto",
         "type": "bar",
         "x": [
          "NIGHT WATCHMAN"
         ],
         "xaxis": "x",
         "y": [
          10000
         ],
         "yaxis": "y"
        },
        {
         "alignmentgroup": "True",
         "hovertemplate": "<b>%{hovertext}</b><br><br>labour_type=%{x}<br>Income_dist=%{y}<extra></extra>",
         "hovertext": [
          8000
         ],
         "legendgroup": "STREET SWEEPING",
         "marker": {
          "color": "#FF6692",
          "pattern": {
           "shape": ""
          }
         },
         "name": "STREET SWEEPING",
         "offsetgroup": "STREET SWEEPING",
         "orientation": "v",
         "showlegend": true,
         "textposition": "auto",
         "type": "bar",
         "x": [
          "STREET SWEEPING"
         ],
         "xaxis": "x",
         "y": [
          8000
         ],
         "yaxis": "y"
        },
        {
         "alignmentgroup": "True",
         "hovertemplate": "<b>%{hovertext}</b><br><br>labour_type=%{x}<br>Income_dist=%{y}<extra></extra>",
         "hovertext": [
          170000
         ],
         "legendgroup": "SENIOR PERSONNEL STAFF UNICAL",
         "marker": {
          "color": "#B6E880",
          "pattern": {
           "shape": ""
          }
         },
         "name": "SENIOR PERSONNEL STAFF UNICAL",
         "offsetgroup": "SENIOR PERSONNEL STAFF UNICAL",
         "orientation": "v",
         "showlegend": true,
         "textposition": "auto",
         "type": "bar",
         "x": [
          "SENIOR PERSONNEL STAFF UNICAL"
         ],
         "xaxis": "x",
         "y": [
          170000
         ],
         "yaxis": "y"
        },
        {
         "alignmentgroup": "True",
         "hovertemplate": "<b>%{hovertext}</b><br><br>labour_type=%{x}<br>Income_dist=%{y}<extra></extra>",
         "hovertext": [
          105000
         ],
         "legendgroup": "STATISTICAL OFFICER",
         "marker": {
          "color": "#FF97FF",
          "pattern": {
           "shape": ""
          }
         },
         "name": "STATISTICAL OFFICER",
         "offsetgroup": "STATISTICAL OFFICER",
         "orientation": "v",
         "showlegend": true,
         "textposition": "auto",
         "type": "bar",
         "x": [
          "STATISTICAL OFFICER"
         ],
         "xaxis": "x",
         "y": [
          105000
         ],
         "yaxis": "y"
        },
        {
         "alignmentgroup": "True",
         "hovertemplate": "<b>%{hovertext}</b><br><br>labour_type=%{x}<br>Income_dist=%{y}<extra></extra>",
         "hovertext": [
          46500
         ],
         "legendgroup": "POLICE MAN",
         "marker": {
          "color": "#FECB52",
          "pattern": {
           "shape": ""
          }
         },
         "name": "POLICE MAN",
         "offsetgroup": "POLICE MAN",
         "orientation": "v",
         "showlegend": true,
         "textposition": "auto",
         "type": "bar",
         "x": [
          "POLICE MAN"
         ],
         "xaxis": "x",
         "y": [
          46500
         ],
         "yaxis": "y"
        },
        {
         "alignmentgroup": "True",
         "hovertemplate": "<b>%{hovertext}</b><br><br>labour_type=%{x}<br>Income_dist=%{y}<extra></extra>",
         "hovertext": [
          85000
         ],
         "legendgroup": "NIGERIA POLICE",
         "marker": {
          "color": "#636efa",
          "pattern": {
           "shape": ""
          }
         },
         "name": "NIGERIA POLICE",
         "offsetgroup": "NIGERIA POLICE",
         "orientation": "v",
         "showlegend": true,
         "textposition": "auto",
         "type": "bar",
         "x": [
          "NIGERIA POLICE"
         ],
         "xaxis": "x",
         "y": [
          85000
         ],
         "yaxis": "y"
        },
        {
         "alignmentgroup": "True",
         "hovertemplate": "<b>%{hovertext}</b><br><br>labour_type=%{x}<br>Income_dist=%{y}<extra></extra>",
         "hovertext": [
          55000
         ],
         "legendgroup": "FINANCE AND SUPPLY DEPT LOCAL GOVT CLARK",
         "marker": {
          "color": "#EF553B",
          "pattern": {
           "shape": ""
          }
         },
         "name": "FINANCE AND SUPPLY DEPT LOCAL GOVT CLARK",
         "offsetgroup": "FINANCE AND SUPPLY DEPT LOCAL GOVT CLARK",
         "orientation": "v",
         "showlegend": true,
         "textposition": "auto",
         "type": "bar",
         "x": [
          "FINANCE AND SUPPLY DEPT LOCAL GOVT CLARK"
         ],
         "xaxis": "x",
         "y": [
          55000
         ],
         "yaxis": "y"
        },
        {
         "alignmentgroup": "True",
         "hovertemplate": "<b>%{hovertext}</b><br><br>labour_type=%{x}<br>Income_dist=%{y}<extra></extra>",
         "hovertext": [
          63000
         ],
         "legendgroup": "ARCHITECTURAL DROUGHTMAN",
         "marker": {
          "color": "#00cc96",
          "pattern": {
           "shape": ""
          }
         },
         "name": "ARCHITECTURAL DROUGHTMAN",
         "offsetgroup": "ARCHITECTURAL DROUGHTMAN",
         "orientation": "v",
         "showlegend": true,
         "textposition": "auto",
         "type": "bar",
         "x": [
          "ARCHITECTURAL DROUGHTMAN"
         ],
         "xaxis": "x",
         "y": [
          63000
         ],
         "yaxis": "y"
        },
        {
         "alignmentgroup": "True",
         "hovertemplate": "<b>%{hovertext}</b><br><br>labour_type=%{x}<br>Income_dist=%{y}<extra></extra>",
         "hovertext": [
          7000
         ],
         "legendgroup": "RABU NURSERY SCHOOL OKWABANG (TEACHING)",
         "marker": {
          "color": "#ab63fa",
          "pattern": {
           "shape": ""
          }
         },
         "name": "RABU NURSERY SCHOOL OKWABANG (TEACHING)",
         "offsetgroup": "RABU NURSERY SCHOOL OKWABANG (TEACHING)",
         "orientation": "v",
         "showlegend": true,
         "textposition": "auto",
         "type": "bar",
         "x": [
          "RABU NURSERY SCHOOL OKWABANG (TEACHING)"
         ],
         "xaxis": "x",
         "y": [
          7000
         ],
         "yaxis": "y"
        },
        {
         "alignmentgroup": "True",
         "hovertemplate": "<b>%{hovertext}</b><br><br>labour_type=%{x}<br>Income_dist=%{y}<extra></extra>",
         "hovertext": [
          37000
         ],
         "legendgroup": "ASSISTANT CHIEF BELIEF IN COURT",
         "marker": {
          "color": "#FFA15A",
          "pattern": {
           "shape": ""
          }
         },
         "name": "ASSISTANT CHIEF BELIEF IN COURT",
         "offsetgroup": "ASSISTANT CHIEF BELIEF IN COURT",
         "orientation": "v",
         "showlegend": true,
         "textposition": "auto",
         "type": "bar",
         "x": [
          "ASSISTANT CHIEF BELIEF IN COURT"
         ],
         "xaxis": "x",
         "y": [
          37000
         ],
         "yaxis": "y"
        },
        {
         "alignmentgroup": "True",
         "hovertemplate": "<b>%{hovertext}</b><br><br>labour_type=%{x}<br>Income_dist=%{y}<extra></extra>",
         "hovertext": [
          132000
         ],
         "legendgroup": "HEALTH EDUCATION AND MOBILIZATION",
         "marker": {
          "color": "#19d3f3",
          "pattern": {
           "shape": ""
          }
         },
         "name": "HEALTH EDUCATION AND MOBILIZATION",
         "offsetgroup": "HEALTH EDUCATION AND MOBILIZATION",
         "orientation": "v",
         "showlegend": true,
         "textposition": "auto",
         "type": "bar",
         "x": [
          "HEALTH EDUCATION AND MOBILIZATION"
         ],
         "xaxis": "x",
         "y": [
          132000
         ],
         "yaxis": "y"
        },
        {
         "alignmentgroup": "True",
         "hovertemplate": "<b>%{hovertext}</b><br><br>labour_type=%{x}<br>Income_dist=%{y}<extra></extra>",
         "hovertext": [
          75000
         ],
         "legendgroup": "PRIMARY SCHOOL ODOROWAMBE (TEACHING)",
         "marker": {
          "color": "#FF6692",
          "pattern": {
           "shape": ""
          }
         },
         "name": "PRIMARY SCHOOL ODOROWAMBE (TEACHING)",
         "offsetgroup": "PRIMARY SCHOOL ODOROWAMBE (TEACHING)",
         "orientation": "v",
         "showlegend": true,
         "textposition": "auto",
         "type": "bar",
         "x": [
          "PRIMARY SCHOOL ODOROWAMBE (TEACHING)"
         ],
         "xaxis": "x",
         "y": [
          75000
         ],
         "yaxis": "y"
        },
        {
         "alignmentgroup": "True",
         "hovertemplate": "<b>%{hovertext}</b><br><br>labour_type=%{x}<br>Income_dist=%{y}<extra></extra>",
         "hovertext": [
          52800
         ],
         "legendgroup": "PRIMARY SCHOOL TEACHING",
         "marker": {
          "color": "#B6E880",
          "pattern": {
           "shape": ""
          }
         },
         "name": "PRIMARY SCHOOL TEACHING",
         "offsetgroup": "PRIMARY SCHOOL TEACHING",
         "orientation": "v",
         "showlegend": true,
         "textposition": "auto",
         "type": "bar",
         "x": [
          "PRIMARY SCHOOL TEACHING"
         ],
         "xaxis": "x",
         "y": [
          52800
         ],
         "yaxis": "y"
        },
        {
         "alignmentgroup": "True",
         "hovertemplate": "<b>%{hovertext}</b><br><br>labour_type=%{x}<br>Income_dist=%{y}<extra></extra>",
         "hovertext": [
          45000,
          121000,
          100000
         ],
         "legendgroup": "LECTURER",
         "marker": {
          "color": "#FF97FF",
          "pattern": {
           "shape": ""
          }
         },
         "name": "LECTURER",
         "offsetgroup": "LECTURER",
         "orientation": "v",
         "showlegend": true,
         "textposition": "auto",
         "type": "bar",
         "x": [
          "LECTURER",
          "LECTURER",
          "LECTURER"
         ],
         "xaxis": "x",
         "y": [
          45000,
          121000,
          100000
         ],
         "yaxis": "y"
        },
        {
         "alignmentgroup": "True",
         "hovertemplate": "<b>%{hovertext}</b><br><br>labour_type=%{x}<br>Income_dist=%{y}<extra></extra>",
         "hovertext": [
          48000,
          36000,
          15000,
          25000,
          45000,
          30
         ],
         "legendgroup": "PRIMARY TEACHER",
         "marker": {
          "color": "#FECB52",
          "pattern": {
           "shape": ""
          }
         },
         "name": "PRIMARY TEACHER",
         "offsetgroup": "PRIMARY TEACHER",
         "orientation": "v",
         "showlegend": true,
         "textposition": "auto",
         "type": "bar",
         "x": [
          "PRIMARY TEACHER",
          "PRIMARY TEACHER",
          "PRIMARY TEACHER",
          "PRIMARY TEACHER",
          "PRIMARY TEACHER",
          "PRIMARY TEACHER"
         ],
         "xaxis": "x",
         "y": [
          48000,
          36000,
          15000,
          25000,
          45000,
          30
         ],
         "yaxis": "y"
        },
        {
         "alignmentgroup": "True",
         "hovertemplate": "<b>%{hovertext}</b><br><br>labour_type=%{x}<br>Income_dist=%{y}<extra></extra>",
         "hovertext": [
          54000
         ],
         "legendgroup": "LOCAL GOVT. WORKER",
         "marker": {
          "color": "#636efa",
          "pattern": {
           "shape": ""
          }
         },
         "name": "LOCAL GOVT. WORKER",
         "offsetgroup": "LOCAL GOVT. WORKER",
         "orientation": "v",
         "showlegend": true,
         "textposition": "auto",
         "type": "bar",
         "x": [
          "LOCAL GOVT. WORKER"
         ],
         "xaxis": "x",
         "y": [
          54000
         ],
         "yaxis": "y"
        },
        {
         "alignmentgroup": "True",
         "hovertemplate": "<b>%{hovertext}</b><br><br>labour_type=%{x}<br>Income_dist=%{y}<extra></extra>",
         "hovertext": [
          55500
         ],
         "legendgroup": "MINISTRY OF JUSTICES OGOJA",
         "marker": {
          "color": "#EF553B",
          "pattern": {
           "shape": ""
          }
         },
         "name": "MINISTRY OF JUSTICES OGOJA",
         "offsetgroup": "MINISTRY OF JUSTICES OGOJA",
         "orientation": "v",
         "showlegend": true,
         "textposition": "auto",
         "type": "bar",
         "x": [
          "MINISTRY OF JUSTICES OGOJA"
         ],
         "xaxis": "x",
         "y": [
          55500
         ],
         "yaxis": "y"
        },
        {
         "alignmentgroup": "True",
         "hovertemplate": "<b>%{hovertext}</b><br><br>labour_type=%{x}<br>Income_dist=%{y}<extra></extra>",
         "hovertext": [
          18000
         ],
         "legendgroup": "ST.MARGARAT HOSPITAL (NURSE)",
         "marker": {
          "color": "#00cc96",
          "pattern": {
           "shape": ""
          }
         },
         "name": "ST.MARGARAT HOSPITAL (NURSE)",
         "offsetgroup": "ST.MARGARAT HOSPITAL (NURSE)",
         "orientation": "v",
         "showlegend": true,
         "textposition": "auto",
         "type": "bar",
         "x": [
          "ST.MARGARAT HOSPITAL (NURSE)"
         ],
         "xaxis": "x",
         "y": [
          18000
         ],
         "yaxis": "y"
        },
        {
         "alignmentgroup": "True",
         "hovertemplate": "<b>%{hovertext}</b><br><br>labour_type=%{x}<br>Income_dist=%{y}<extra></extra>",
         "hovertext": [
          5000,
          22000
         ],
         "legendgroup": "TAXI DRIVER",
         "marker": {
          "color": "#ab63fa",
          "pattern": {
           "shape": ""
          }
         },
         "name": "TAXI DRIVER",
         "offsetgroup": "TAXI DRIVER",
         "orientation": "v",
         "showlegend": true,
         "textposition": "auto",
         "type": "bar",
         "x": [
          "TAXI DRIVER",
          "TAXI DRIVER"
         ],
         "xaxis": "x",
         "y": [
          5000,
          22000
         ],
         "yaxis": "y"
        },
        {
         "alignmentgroup": "True",
         "hovertemplate": "<b>%{hovertext}</b><br><br>labour_type=%{x}<br>Income_dist=%{y}<extra></extra>",
         "hovertext": [
          15000
         ],
         "legendgroup": "MOTOCYCYCLE RIDER(TRANSPORTER)",
         "marker": {
          "color": "#FFA15A",
          "pattern": {
           "shape": ""
          }
         },
         "name": "MOTOCYCYCLE RIDER(TRANSPORTER)",
         "offsetgroup": "MOTOCYCYCLE RIDER(TRANSPORTER)",
         "orientation": "v",
         "showlegend": true,
         "textposition": "auto",
         "type": "bar",
         "x": [
          "MOTOCYCYCLE RIDER(TRANSPORTER)"
         ],
         "xaxis": "x",
         "y": [
          15000
         ],
         "yaxis": "y"
        },
        {
         "alignmentgroup": "True",
         "hovertemplate": "<b>%{hovertext}</b><br><br>labour_type=%{x}<br>Income_dist=%{y}<extra></extra>",
         "hovertext": [
          15000,
          15000,
          15000
         ],
         "legendgroup": "DOMESTIC HELPER & CLEANER",
         "marker": {
          "color": "#19d3f3",
          "pattern": {
           "shape": ""
          }
         },
         "name": "DOMESTIC HELPER & CLEANER",
         "offsetgroup": "DOMESTIC HELPER & CLEANER",
         "orientation": "v",
         "showlegend": true,
         "textposition": "auto",
         "type": "bar",
         "x": [
          "DOMESTIC HELPER & CLEANER",
          "DOMESTIC HELPER & CLEANER",
          "DOMESTIC HELPER & CLEANER"
         ],
         "xaxis": "x",
         "y": [
          15000,
          15000,
          15000
         ],
         "yaxis": "y"
        },
        {
         "alignmentgroup": "True",
         "hovertemplate": "<b>%{hovertext}</b><br><br>labour_type=%{x}<br>Income_dist=%{y}<extra></extra>",
         "hovertext": [
          7000
         ],
         "legendgroup": "HOUSE KEEPER/HELPER",
         "marker": {
          "color": "#FF6692",
          "pattern": {
           "shape": ""
          }
         },
         "name": "HOUSE KEEPER/HELPER",
         "offsetgroup": "HOUSE KEEPER/HELPER",
         "orientation": "v",
         "showlegend": true,
         "textposition": "auto",
         "type": "bar",
         "x": [
          "HOUSE KEEPER/HELPER"
         ],
         "xaxis": "x",
         "y": [
          7000
         ],
         "yaxis": "y"
        },
        {
         "alignmentgroup": "True",
         "hovertemplate": "<b>%{hovertext}</b><br><br>labour_type=%{x}<br>Income_dist=%{y}<extra></extra>",
         "hovertext": [
          3000,
          3000,
          12000,
          8000
         ],
         "legendgroup": "BRICK LAYER",
         "marker": {
          "color": "#B6E880",
          "pattern": {
           "shape": ""
          }
         },
         "name": "BRICK LAYER",
         "offsetgroup": "BRICK LAYER",
         "orientation": "v",
         "showlegend": true,
         "textposition": "auto",
         "type": "bar",
         "x": [
          "BRICK LAYER",
          "BRICK LAYER",
          "BRICK LAYER",
          "BRICK LAYER"
         ],
         "xaxis": "x",
         "y": [
          3000,
          3000,
          12000,
          8000
         ],
         "yaxis": "y"
        },
        {
         "alignmentgroup": "True",
         "hovertemplate": "<b>%{hovertext}</b><br><br>labour_type=%{x}<br>Income_dist=%{y}<extra></extra>",
         "hovertext": [
          15000,
          15000
         ],
         "legendgroup": "RADIO AND TELEVISION SERVICE",
         "marker": {
          "color": "#FF97FF",
          "pattern": {
           "shape": ""
          }
         },
         "name": "RADIO AND TELEVISION SERVICE",
         "offsetgroup": "RADIO AND TELEVISION SERVICE",
         "orientation": "v",
         "showlegend": true,
         "textposition": "auto",
         "type": "bar",
         "x": [
          "RADIO AND TELEVISION SERVICE",
          "RADIO AND TELEVISION SERVICE"
         ],
         "xaxis": "x",
         "y": [
          15000,
          15000
         ],
         "yaxis": "y"
        },
        {
         "alignmentgroup": "True",
         "hovertemplate": "<b>%{hovertext}</b><br><br>labour_type=%{x}<br>Income_dist=%{y}<extra></extra>",
         "hovertext": [
          100000
         ],
         "legendgroup": "TEACHER PRIMARY",
         "marker": {
          "color": "#FECB52",
          "pattern": {
           "shape": ""
          }
         },
         "name": "TEACHER PRIMARY",
         "offsetgroup": "TEACHER PRIMARY",
         "orientation": "v",
         "showlegend": true,
         "textposition": "auto",
         "type": "bar",
         "x": [
          "TEACHER PRIMARY"
         ],
         "xaxis": "x",
         "y": [
          100000
         ],
         "yaxis": "y"
        },
        {
         "alignmentgroup": "True",
         "hovertemplate": "<b>%{hovertext}</b><br><br>labour_type=%{x}<br>Income_dist=%{y}<extra></extra>",
         "hovertext": [
          32000
         ],
         "legendgroup": "SECURITY IN PRIMARY SCHOOL",
         "marker": {
          "color": "#636efa",
          "pattern": {
           "shape": ""
          }
         },
         "name": "SECURITY IN PRIMARY SCHOOL",
         "offsetgroup": "SECURITY IN PRIMARY SCHOOL",
         "orientation": "v",
         "showlegend": true,
         "textposition": "auto",
         "type": "bar",
         "x": [
          "SECURITY IN PRIMARY SCHOOL"
         ],
         "xaxis": "x",
         "y": [
          32000
         ],
         "yaxis": "y"
        },
        {
         "alignmentgroup": "True",
         "hovertemplate": "<b>%{hovertext}</b><br><br>labour_type=%{x}<br>Income_dist=%{y}<extra></extra>",
         "hovertext": [
          15000,
          24000,
          75000,
          14000,
          8000,
          47000,
          35000,
          30000,
          12000,
          95000
         ],
         "legendgroup": "SECURITY",
         "marker": {
          "color": "#EF553B",
          "pattern": {
           "shape": ""
          }
         },
         "name": "SECURITY",
         "offsetgroup": "SECURITY",
         "orientation": "v",
         "showlegend": true,
         "textposition": "auto",
         "type": "bar",
         "x": [
          "SECURITY",
          "SECURITY",
          "SECURITY",
          "SECURITY",
          "SECURITY",
          "SECURITY",
          "SECURITY",
          "SECURITY",
          "SECURITY",
          "SECURITY"
         ],
         "xaxis": "x",
         "y": [
          15000,
          24000,
          75000,
          14000,
          8000,
          47000,
          35000,
          30000,
          12000,
          95000
         ],
         "yaxis": "y"
        },
        {
         "alignmentgroup": "True",
         "hovertemplate": "<b>%{hovertext}</b><br><br>labour_type=%{x}<br>Income_dist=%{y}<extra></extra>",
         "hovertext": [
          45000
         ],
         "legendgroup": "GENERAL MANAGER IN PERSONNEL CARE COUNCI",
         "marker": {
          "color": "#00cc96",
          "pattern": {
           "shape": ""
          }
         },
         "name": "GENERAL MANAGER IN PERSONNEL CARE COUNCI",
         "offsetgroup": "GENERAL MANAGER IN PERSONNEL CARE COUNCI",
         "orientation": "v",
         "showlegend": true,
         "textposition": "auto",
         "type": "bar",
         "x": [
          "GENERAL MANAGER IN PERSONNEL CARE COUNCI"
         ],
         "xaxis": "x",
         "y": [
          45000
         ],
         "yaxis": "y"
        },
        {
         "alignmentgroup": "True",
         "hovertemplate": "<b>%{hovertext}</b><br><br>labour_type=%{x}<br>Income_dist=%{y}<extra></extra>",
         "hovertext": [
          50000,
          67500,
          90000,
          80250,
          75000,
          50000,
          180000,
          200000,
          60000,
          36000,
          73000
         ],
         "legendgroup": "ACCOUNTANT",
         "marker": {
          "color": "#ab63fa",
          "pattern": {
           "shape": ""
          }
         },
         "name": "ACCOUNTANT",
         "offsetgroup": "ACCOUNTANT",
         "orientation": "v",
         "showlegend": true,
         "textposition": "auto",
         "type": "bar",
         "x": [
          "ACCOUNTANT",
          "ACCOUNTANT",
          "ACCOUNTANT",
          "ACCOUNTANT",
          "ACCOUNTANT",
          "ACCOUNTANT",
          "ACCOUNTANT",
          "ACCOUNTANT",
          "ACCOUNTANT",
          "ACCOUNTANT",
          "ACCOUNTANT"
         ],
         "xaxis": "x",
         "y": [
          50000,
          67500,
          90000,
          80250,
          75000,
          50000,
          180000,
          200000,
          60000,
          36000,
          73000
         ],
         "yaxis": "y"
        },
        {
         "alignmentgroup": "True",
         "hovertemplate": "<b>%{hovertext}</b><br><br>labour_type=%{x}<br>Income_dist=%{y}<extra></extra>",
         "hovertext": [
          62000
         ],
         "legendgroup": "CLERICAL",
         "marker": {
          "color": "#FFA15A",
          "pattern": {
           "shape": ""
          }
         },
         "name": "CLERICAL",
         "offsetgroup": "CLERICAL",
         "orientation": "v",
         "showlegend": true,
         "textposition": "auto",
         "type": "bar",
         "x": [
          "CLERICAL"
         ],
         "xaxis": "x",
         "y": [
          62000
         ],
         "yaxis": "y"
        },
        {
         "alignmentgroup": "True",
         "hovertemplate": "<b>%{hovertext}</b><br><br>labour_type=%{x}<br>Income_dist=%{y}<extra></extra>",
         "hovertext": [
          55000
         ],
         "legendgroup": "CLERK FOR STORE",
         "marker": {
          "color": "#19d3f3",
          "pattern": {
           "shape": ""
          }
         },
         "name": "CLERK FOR STORE",
         "offsetgroup": "CLERK FOR STORE",
         "orientation": "v",
         "showlegend": true,
         "textposition": "auto",
         "type": "bar",
         "x": [
          "CLERK FOR STORE"
         ],
         "xaxis": "x",
         "y": [
          55000
         ],
         "yaxis": "y"
        },
        {
         "alignmentgroup": "True",
         "hovertemplate": "<b>%{hovertext}</b><br><br>labour_type=%{x}<br>Income_dist=%{y}<extra></extra>",
         "hovertext": [
          150000
         ],
         "legendgroup": "LECHIRMP",
         "marker": {
          "color": "#FF6692",
          "pattern": {
           "shape": ""
          }
         },
         "name": "LECHIRMP",
         "offsetgroup": "LECHIRMP",
         "orientation": "v",
         "showlegend": true,
         "textposition": "auto",
         "type": "bar",
         "x": [
          "LECHIRMP"
         ],
         "xaxis": "x",
         "y": [
          150000
         ],
         "yaxis": "y"
        },
        {
         "alignmentgroup": "True",
         "hovertemplate": "<b>%{hovertext}</b><br><br>labour_type=%{x}<br>Income_dist=%{y}<extra></extra>",
         "hovertext": [
          35000
         ],
         "legendgroup": "HEALTH WORK MEDICAL ASSISTANT",
         "marker": {
          "color": "#B6E880",
          "pattern": {
           "shape": ""
          }
         },
         "name": "HEALTH WORK MEDICAL ASSISTANT",
         "offsetgroup": "HEALTH WORK MEDICAL ASSISTANT",
         "orientation": "v",
         "showlegend": true,
         "textposition": "auto",
         "type": "bar",
         "x": [
          "HEALTH WORK MEDICAL ASSISTANT"
         ],
         "xaxis": "x",
         "y": [
          35000
         ],
         "yaxis": "y"
        },
        {
         "alignmentgroup": "True",
         "hovertemplate": "<b>%{hovertext}</b><br><br>labour_type=%{x}<br>Income_dist=%{y}<extra></extra>",
         "hovertext": [
          30000
         ],
         "legendgroup": "CLERICAL ASSISTANT",
         "marker": {
          "color": "#FF97FF",
          "pattern": {
           "shape": ""
          }
         },
         "name": "CLERICAL ASSISTANT",
         "offsetgroup": "CLERICAL ASSISTANT",
         "orientation": "v",
         "showlegend": true,
         "textposition": "auto",
         "type": "bar",
         "x": [
          "CLERICAL ASSISTANT"
         ],
         "xaxis": "x",
         "y": [
          30000
         ],
         "yaxis": "y"
        },
        {
         "alignmentgroup": "True",
         "hovertemplate": "<b>%{hovertext}</b><br><br>labour_type=%{x}<br>Income_dist=%{y}<extra></extra>",
         "hovertext": [
          90000
         ],
         "legendgroup": "ENVIROMENTAL HEALTH OFFICER",
         "marker": {
          "color": "#FECB52",
          "pattern": {
           "shape": ""
          }
         },
         "name": "ENVIROMENTAL HEALTH OFFICER",
         "offsetgroup": "ENVIROMENTAL HEALTH OFFICER",
         "orientation": "v",
         "showlegend": true,
         "textposition": "auto",
         "type": "bar",
         "x": [
          "ENVIROMENTAL HEALTH OFFICER"
         ],
         "xaxis": "x",
         "y": [
          90000
         ],
         "yaxis": "y"
        },
        {
         "alignmentgroup": "True",
         "hovertemplate": "<b>%{hovertext}</b><br><br>labour_type=%{x}<br>Income_dist=%{y}<extra></extra>",
         "hovertext": [
          120000
         ],
         "legendgroup": "LABORATORY SCIENTIST",
         "marker": {
          "color": "#636efa",
          "pattern": {
           "shape": ""
          }
         },
         "name": "LABORATORY SCIENTIST",
         "offsetgroup": "LABORATORY SCIENTIST",
         "orientation": "v",
         "showlegend": true,
         "textposition": "auto",
         "type": "bar",
         "x": [
          "LABORATORY SCIENTIST"
         ],
         "xaxis": "x",
         "y": [
          120000
         ],
         "yaxis": "y"
        },
        {
         "alignmentgroup": "True",
         "hovertemplate": "<b>%{hovertext}</b><br><br>labour_type=%{x}<br>Income_dist=%{y}<extra></extra>",
         "hovertext": [
          87000
         ],
         "legendgroup": "DEPUTY MANAGER FINANCE",
         "marker": {
          "color": "#EF553B",
          "pattern": {
           "shape": ""
          }
         },
         "name": "DEPUTY MANAGER FINANCE",
         "offsetgroup": "DEPUTY MANAGER FINANCE",
         "orientation": "v",
         "showlegend": true,
         "textposition": "auto",
         "type": "bar",
         "x": [
          "DEPUTY MANAGER FINANCE"
         ],
         "xaxis": "x",
         "y": [
          87000
         ],
         "yaxis": "y"
        },
        {
         "alignmentgroup": "True",
         "hovertemplate": "<b>%{hovertext}</b><br><br>labour_type=%{x}<br>Income_dist=%{y}<extra></extra>",
         "hovertext": [
          110000
         ],
         "legendgroup": "MECHANICAL ENGENEERING IN ESCRAVOS",
         "marker": {
          "color": "#00cc96",
          "pattern": {
           "shape": ""
          }
         },
         "name": "MECHANICAL ENGENEERING IN ESCRAVOS",
         "offsetgroup": "MECHANICAL ENGENEERING IN ESCRAVOS",
         "orientation": "v",
         "showlegend": true,
         "textposition": "auto",
         "type": "bar",
         "x": [
          "MECHANICAL ENGENEERING IN ESCRAVOS"
         ],
         "xaxis": "x",
         "y": [
          110000
         ],
         "yaxis": "y"
        },
        {
         "alignmentgroup": "True",
         "hovertemplate": "<b>%{hovertext}</b><br><br>labour_type=%{x}<br>Income_dist=%{y}<extra></extra>",
         "hovertext": [
          15000
         ],
         "legendgroup": "PRIVATE SCHOOL TEACHER",
         "marker": {
          "color": "#ab63fa",
          "pattern": {
           "shape": ""
          }
         },
         "name": "PRIVATE SCHOOL TEACHER",
         "offsetgroup": "PRIVATE SCHOOL TEACHER",
         "orientation": "v",
         "showlegend": true,
         "textposition": "auto",
         "type": "bar",
         "x": [
          "PRIVATE SCHOOL TEACHER"
         ],
         "xaxis": "x",
         "y": [
          15000
         ],
         "yaxis": "y"
        },
        {
         "alignmentgroup": "True",
         "hovertemplate": "<b>%{hovertext}</b><br><br>labour_type=%{x}<br>Income_dist=%{y}<extra></extra>",
         "hovertext": [
          60000
         ],
         "legendgroup": "CARPENTARY IN MPDS",
         "marker": {
          "color": "#FFA15A",
          "pattern": {
           "shape": ""
          }
         },
         "name": "CARPENTARY IN MPDS",
         "offsetgroup": "CARPENTARY IN MPDS",
         "orientation": "v",
         "showlegend": true,
         "textposition": "auto",
         "type": "bar",
         "x": [
          "CARPENTARY IN MPDS"
         ],
         "xaxis": "x",
         "y": [
          60000
         ],
         "yaxis": "y"
        },
        {
         "alignmentgroup": "True",
         "hovertemplate": "<b>%{hovertext}</b><br><br>labour_type=%{x}<br>Income_dist=%{y}<extra></extra>",
         "hovertext": [
          70000
         ],
         "legendgroup": "TEACHING IN PUBLIC SCHOOL",
         "marker": {
          "color": "#19d3f3",
          "pattern": {
           "shape": ""
          }
         },
         "name": "TEACHING IN PUBLIC SCHOOL",
         "offsetgroup": "TEACHING IN PUBLIC SCHOOL",
         "orientation": "v",
         "showlegend": true,
         "textposition": "auto",
         "type": "bar",
         "x": [
          "TEACHING IN PUBLIC SCHOOL"
         ],
         "xaxis": "x",
         "y": [
          70000
         ],
         "yaxis": "y"
        },
        {
         "alignmentgroup": "True",
         "hovertemplate": "<b>%{hovertext}</b><br><br>labour_type=%{x}<br>Income_dist=%{y}<extra></extra>",
         "hovertext": [
          25000
         ],
         "legendgroup": "TEACHER IN THE SECONDARY SCHOOL",
         "marker": {
          "color": "#FF6692",
          "pattern": {
           "shape": ""
          }
         },
         "name": "TEACHER IN THE SECONDARY SCHOOL",
         "offsetgroup": "TEACHER IN THE SECONDARY SCHOOL",
         "orientation": "v",
         "showlegend": true,
         "textposition": "auto",
         "type": "bar",
         "x": [
          "TEACHER IN THE SECONDARY SCHOOL"
         ],
         "xaxis": "x",
         "y": [
          25000
         ],
         "yaxis": "y"
        },
        {
         "alignmentgroup": "True",
         "hovertemplate": "<b>%{hovertext}</b><br><br>labour_type=%{x}<br>Income_dist=%{y}<extra></extra>",
         "hovertext": [
          30000
         ],
         "legendgroup": "RADIO TELEVISION AND OTHER ANNOUNCERS",
         "marker": {
          "color": "#B6E880",
          "pattern": {
           "shape": ""
          }
         },
         "name": "RADIO TELEVISION AND OTHER ANNOUNCERS",
         "offsetgroup": "RADIO TELEVISION AND OTHER ANNOUNCERS",
         "orientation": "v",
         "showlegend": true,
         "textposition": "auto",
         "type": "bar",
         "x": [
          "RADIO TELEVISION AND OTHER ANNOUNCERS"
         ],
         "xaxis": "x",
         "y": [
          30000
         ],
         "yaxis": "y"
        },
        {
         "alignmentgroup": "True",
         "hovertemplate": "<b>%{hovertext}</b><br><br>labour_type=%{x}<br>Income_dist=%{y}<extra></extra>",
         "hovertext": [
          15000
         ],
         "legendgroup": "PASTORING",
         "marker": {
          "color": "#FF97FF",
          "pattern": {
           "shape": ""
          }
         },
         "name": "PASTORING",
         "offsetgroup": "PASTORING",
         "orientation": "v",
         "showlegend": true,
         "textposition": "auto",
         "type": "bar",
         "x": [
          "PASTORING"
         ],
         "xaxis": "x",
         "y": [
          15000
         ],
         "yaxis": "y"
        },
        {
         "alignmentgroup": "True",
         "hovertemplate": "<b>%{hovertext}</b><br><br>labour_type=%{x}<br>Income_dist=%{y}<extra></extra>",
         "hovertext": [
          60000
         ],
         "legendgroup": "WORD ORDERLY",
         "marker": {
          "color": "#FECB52",
          "pattern": {
           "shape": ""
          }
         },
         "name": "WORD ORDERLY",
         "offsetgroup": "WORD ORDERLY",
         "orientation": "v",
         "showlegend": true,
         "textposition": "auto",
         "type": "bar",
         "x": [
          "WORD ORDERLY"
         ],
         "xaxis": "x",
         "y": [
          60000
         ],
         "yaxis": "y"
        },
        {
         "alignmentgroup": "True",
         "hovertemplate": "<b>%{hovertext}</b><br><br>labour_type=%{x}<br>Income_dist=%{y}<extra></extra>",
         "hovertext": [
          30000
         ],
         "legendgroup": "POTTER",
         "marker": {
          "color": "#636efa",
          "pattern": {
           "shape": ""
          }
         },
         "name": "POTTER",
         "offsetgroup": "POTTER",
         "orientation": "v",
         "showlegend": true,
         "textposition": "auto",
         "type": "bar",
         "x": [
          "POTTER"
         ],
         "xaxis": "x",
         "y": [
          30000
         ],
         "yaxis": "y"
        },
        {
         "alignmentgroup": "True",
         "hovertemplate": "<b>%{hovertext}</b><br><br>labour_type=%{x}<br>Income_dist=%{y}<extra></extra>",
         "hovertext": [
          50000,
          45000,
          36700,
          55000
         ],
         "legendgroup": "ADMINISTRATIVE WORK",
         "marker": {
          "color": "#EF553B",
          "pattern": {
           "shape": ""
          }
         },
         "name": "ADMINISTRATIVE WORK",
         "offsetgroup": "ADMINISTRATIVE WORK",
         "orientation": "v",
         "showlegend": true,
         "textposition": "auto",
         "type": "bar",
         "x": [
          "ADMINISTRATIVE WORK",
          "ADMINISTRATIVE WORK",
          "ADMINISTRATIVE WORK",
          "ADMINISTRATIVE WORK"
         ],
         "xaxis": "x",
         "y": [
          50000,
          45000,
          36700,
          55000
         ],
         "yaxis": "y"
        },
        {
         "alignmentgroup": "True",
         "hovertemplate": "<b>%{hovertext}</b><br><br>labour_type=%{x}<br>Income_dist=%{y}<extra></extra>",
         "hovertext": [
          56000
         ],
         "legendgroup": "STATISTICIANS",
         "marker": {
          "color": "#00cc96",
          "pattern": {
           "shape": ""
          }
         },
         "name": "STATISTICIANS",
         "offsetgroup": "STATISTICIANS",
         "orientation": "v",
         "showlegend": true,
         "textposition": "auto",
         "type": "bar",
         "x": [
          "STATISTICIANS"
         ],
         "xaxis": "x",
         "y": [
          56000
         ],
         "yaxis": "y"
        },
        {
         "alignmentgroup": "True",
         "hovertemplate": "<b>%{hovertext}</b><br><br>labour_type=%{x}<br>Income_dist=%{y}<extra></extra>",
         "hovertext": [
          20000
         ],
         "legendgroup": "AUDITING",
         "marker": {
          "color": "#ab63fa",
          "pattern": {
           "shape": ""
          }
         },
         "name": "AUDITING",
         "offsetgroup": "AUDITING",
         "orientation": "v",
         "showlegend": true,
         "textposition": "auto",
         "type": "bar",
         "x": [
          "AUDITING"
         ],
         "xaxis": "x",
         "y": [
          20000
         ],
         "yaxis": "y"
        },
        {
         "alignmentgroup": "True",
         "hovertemplate": "<b>%{hovertext}</b><br><br>labour_type=%{x}<br>Income_dist=%{y}<extra></extra>",
         "hovertext": [
          96000
         ],
         "legendgroup": "EXECUTIVE OFFICER",
         "marker": {
          "color": "#FFA15A",
          "pattern": {
           "shape": ""
          }
         },
         "name": "EXECUTIVE OFFICER",
         "offsetgroup": "EXECUTIVE OFFICER",
         "orientation": "v",
         "showlegend": true,
         "textposition": "auto",
         "type": "bar",
         "x": [
          "EXECUTIVE OFFICER"
         ],
         "xaxis": "x",
         "y": [
          96000
         ],
         "yaxis": "y"
        },
        {
         "alignmentgroup": "True",
         "hovertemplate": "<b>%{hovertext}</b><br><br>labour_type=%{x}<br>Income_dist=%{y}<extra></extra>",
         "hovertext": [
          24000,
          25000
         ],
         "legendgroup": "TEACHER IN THE PRIMARY SCHOOL",
         "marker": {
          "color": "#19d3f3",
          "pattern": {
           "shape": ""
          }
         },
         "name": "TEACHER IN THE PRIMARY SCHOOL",
         "offsetgroup": "TEACHER IN THE PRIMARY SCHOOL",
         "orientation": "v",
         "showlegend": true,
         "textposition": "auto",
         "type": "bar",
         "x": [
          "TEACHER IN THE PRIMARY SCHOOL",
          "TEACHER IN THE PRIMARY SCHOOL"
         ],
         "xaxis": "x",
         "y": [
          24000,
          25000
         ],
         "yaxis": "y"
        },
        {
         "alignmentgroup": "True",
         "hovertemplate": "<b>%{hovertext}</b><br><br>labour_type=%{x}<br>Income_dist=%{y}<extra></extra>",
         "hovertext": [
          24000
         ],
         "legendgroup": "DRIVER BUS DRIVER",
         "marker": {
          "color": "#FF6692",
          "pattern": {
           "shape": ""
          }
         },
         "name": "DRIVER BUS DRIVER",
         "offsetgroup": "DRIVER BUS DRIVER",
         "orientation": "v",
         "showlegend": true,
         "textposition": "auto",
         "type": "bar",
         "x": [
          "DRIVER BUS DRIVER"
         ],
         "xaxis": "x",
         "y": [
          24000
         ],
         "yaxis": "y"
        },
        {
         "alignmentgroup": "True",
         "hovertemplate": "<b>%{hovertext}</b><br><br>labour_type=%{x}<br>Income_dist=%{y}<extra></extra>",
         "hovertext": [
          24000
         ],
         "legendgroup": "ADMIN. OFFICER",
         "marker": {
          "color": "#B6E880",
          "pattern": {
           "shape": ""
          }
         },
         "name": "ADMIN. OFFICER",
         "offsetgroup": "ADMIN. OFFICER",
         "orientation": "v",
         "showlegend": true,
         "textposition": "auto",
         "type": "bar",
         "x": [
          "ADMIN. OFFICER"
         ],
         "xaxis": "x",
         "y": [
          24000
         ],
         "yaxis": "y"
        },
        {
         "alignmentgroup": "True",
         "hovertemplate": "<b>%{hovertext}</b><br><br>labour_type=%{x}<br>Income_dist=%{y}<extra></extra>",
         "hovertext": [
          5000,
          35000
         ],
         "legendgroup": "COMPUTER ASSISTANCE",
         "marker": {
          "color": "#FF97FF",
          "pattern": {
           "shape": ""
          }
         },
         "name": "COMPUTER ASSISTANCE",
         "offsetgroup": "COMPUTER ASSISTANCE",
         "orientation": "v",
         "showlegend": true,
         "textposition": "auto",
         "type": "bar",
         "x": [
          "COMPUTER ASSISTANCE",
          "COMPUTER ASSISTANCE"
         ],
         "xaxis": "x",
         "y": [
          5000,
          35000
         ],
         "yaxis": "y"
        },
        {
         "alignmentgroup": "True",
         "hovertemplate": "<b>%{hovertext}</b><br><br>labour_type=%{x}<br>Income_dist=%{y}<extra></extra>",
         "hovertext": [
          5000
         ],
         "legendgroup": "FASHION AND OTHER MODELS",
         "marker": {
          "color": "#FECB52",
          "pattern": {
           "shape": ""
          }
         },
         "name": "FASHION AND OTHER MODELS",
         "offsetgroup": "FASHION AND OTHER MODELS",
         "orientation": "v",
         "showlegend": true,
         "textposition": "auto",
         "type": "bar",
         "x": [
          "FASHION AND OTHER MODELS"
         ],
         "xaxis": "x",
         "y": [
          5000
         ],
         "yaxis": "y"
        },
        {
         "alignmentgroup": "True",
         "hovertemplate": "<b>%{hovertext}</b><br><br>labour_type=%{x}<br>Income_dist=%{y}<extra></extra>",
         "hovertext": [
          50000
         ],
         "legendgroup": "CRUSHING AND GRINDING",
         "marker": {
          "color": "#636efa",
          "pattern": {
           "shape": ""
          }
         },
         "name": "CRUSHING AND GRINDING",
         "offsetgroup": "CRUSHING AND GRINDING",
         "orientation": "v",
         "showlegend": true,
         "textposition": "auto",
         "type": "bar",
         "x": [
          "CRUSHING AND GRINDING"
         ],
         "xaxis": "x",
         "y": [
          50000
         ],
         "yaxis": "y"
        },
        {
         "alignmentgroup": "True",
         "hovertemplate": "<b>%{hovertext}</b><br><br>labour_type=%{x}<br>Income_dist=%{y}<extra></extra>",
         "hovertext": [
          70000
         ],
         "legendgroup": "MULTICIANS DRIVER",
         "marker": {
          "color": "#EF553B",
          "pattern": {
           "shape": ""
          }
         },
         "name": "MULTICIANS DRIVER",
         "offsetgroup": "MULTICIANS DRIVER",
         "orientation": "v",
         "showlegend": true,
         "textposition": "auto",
         "type": "bar",
         "x": [
          "MULTICIANS DRIVER"
         ],
         "xaxis": "x",
         "y": [
          70000
         ],
         "yaxis": "y"
        },
        {
         "alignmentgroup": "True",
         "hovertemplate": "<b>%{hovertext}</b><br><br>labour_type=%{x}<br>Income_dist=%{y}<extra></extra>",
         "hovertext": [
          105000
         ],
         "legendgroup": "PASTOR (CLERGY)",
         "marker": {
          "color": "#00cc96",
          "pattern": {
           "shape": ""
          }
         },
         "name": "PASTOR (CLERGY)",
         "offsetgroup": "PASTOR (CLERGY)",
         "orientation": "v",
         "showlegend": true,
         "textposition": "auto",
         "type": "bar",
         "x": [
          "PASTOR (CLERGY)"
         ],
         "xaxis": "x",
         "y": [
          105000
         ],
         "yaxis": "y"
        },
        {
         "alignmentgroup": "True",
         "hovertemplate": "<b>%{hovertext}</b><br><br>labour_type=%{x}<br>Income_dist=%{y}<extra></extra>",
         "hovertext": [
          2000
         ],
         "legendgroup": "SAND FILLING LABOURER",
         "marker": {
          "color": "#ab63fa",
          "pattern": {
           "shape": ""
          }
         },
         "name": "SAND FILLING LABOURER",
         "offsetgroup": "SAND FILLING LABOURER",
         "orientation": "v",
         "showlegend": true,
         "textposition": "auto",
         "type": "bar",
         "x": [
          "SAND FILLING LABOURER"
         ],
         "xaxis": "x",
         "y": [
          2000
         ],
         "yaxis": "y"
        },
        {
         "alignmentgroup": "True",
         "hovertemplate": "<b>%{hovertext}</b><br><br>labour_type=%{x}<br>Income_dist=%{y}<extra></extra>",
         "hovertext": [
          10000
         ],
         "legendgroup": "HAIR DRESSING AND SALON SERVICES",
         "marker": {
          "color": "#FFA15A",
          "pattern": {
           "shape": ""
          }
         },
         "name": "HAIR DRESSING AND SALON SERVICES",
         "offsetgroup": "HAIR DRESSING AND SALON SERVICES",
         "orientation": "v",
         "showlegend": true,
         "textposition": "auto",
         "type": "bar",
         "x": [
          "HAIR DRESSING AND SALON SERVICES"
         ],
         "xaxis": "x",
         "y": [
          10000
         ],
         "yaxis": "y"
        },
        {
         "alignmentgroup": "True",
         "hovertemplate": "<b>%{hovertext}</b><br><br>labour_type=%{x}<br>Income_dist=%{y}<extra></extra>",
         "hovertext": [
          5000
         ],
         "legendgroup": "MECHANIC REPAIR OF MOTOR VEHICLE",
         "marker": {
          "color": "#19d3f3",
          "pattern": {
           "shape": ""
          }
         },
         "name": "MECHANIC REPAIR OF MOTOR VEHICLE",
         "offsetgroup": "MECHANIC REPAIR OF MOTOR VEHICLE",
         "orientation": "v",
         "showlegend": true,
         "textposition": "auto",
         "type": "bar",
         "x": [
          "MECHANIC REPAIR OF MOTOR VEHICLE"
         ],
         "xaxis": "x",
         "y": [
          5000
         ],
         "yaxis": "y"
        },
        {
         "alignmentgroup": "True",
         "hovertemplate": "<b>%{hovertext}</b><br><br>labour_type=%{x}<br>Income_dist=%{y}<extra></extra>",
         "hovertext": [
          1000
         ],
         "legendgroup": "TAILORING MAKING OF DRESSES",
         "marker": {
          "color": "#FF6692",
          "pattern": {
           "shape": ""
          }
         },
         "name": "TAILORING MAKING OF DRESSES",
         "offsetgroup": "TAILORING MAKING OF DRESSES",
         "orientation": "v",
         "showlegend": true,
         "textposition": "auto",
         "type": "bar",
         "x": [
          "TAILORING MAKING OF DRESSES"
         ],
         "xaxis": "x",
         "y": [
          1000
         ],
         "yaxis": "y"
        },
        {
         "alignmentgroup": "True",
         "hovertemplate": "<b>%{hovertext}</b><br><br>labour_type=%{x}<br>Income_dist=%{y}<extra></extra>",
         "hovertext": [
          60000
         ],
         "legendgroup": "CARPENTRY AND JOINTER WORK",
         "marker": {
          "color": "#B6E880",
          "pattern": {
           "shape": ""
          }
         },
         "name": "CARPENTRY AND JOINTER WORK",
         "offsetgroup": "CARPENTRY AND JOINTER WORK",
         "orientation": "v",
         "showlegend": true,
         "textposition": "auto",
         "type": "bar",
         "x": [
          "CARPENTRY AND JOINTER WORK"
         ],
         "xaxis": "x",
         "y": [
          60000
         ],
         "yaxis": "y"
        },
        {
         "alignmentgroup": "True",
         "hovertemplate": "<b>%{hovertext}</b><br><br>labour_type=%{x}<br>Income_dist=%{y}<extra></extra>",
         "hovertext": [
          5000
         ],
         "legendgroup": "BUILDING CONSTRUCTION ALUMINIUN WORK",
         "marker": {
          "color": "#FF97FF",
          "pattern": {
           "shape": ""
          }
         },
         "name": "BUILDING CONSTRUCTION ALUMINIUN WORK",
         "offsetgroup": "BUILDING CONSTRUCTION ALUMINIUN WORK",
         "orientation": "v",
         "showlegend": true,
         "textposition": "auto",
         "type": "bar",
         "x": [
          "BUILDING CONSTRUCTION ALUMINIUN WORK"
         ],
         "xaxis": "x",
         "y": [
          5000
         ],
         "yaxis": "y"
        },
        {
         "alignmentgroup": "True",
         "hovertemplate": "<b>%{hovertext}</b><br><br>labour_type=%{x}<br>Income_dist=%{y}<extra></extra>",
         "hovertext": [
          4500
         ],
         "legendgroup": "MECHANICAL ENGINEERING TECHNICAL WORK",
         "marker": {
          "color": "#FECB52",
          "pattern": {
           "shape": ""
          }
         },
         "name": "MECHANICAL ENGINEERING TECHNICAL WORK",
         "offsetgroup": "MECHANICAL ENGINEERING TECHNICAL WORK",
         "orientation": "v",
         "showlegend": true,
         "textposition": "auto",
         "type": "bar",
         "x": [
          "MECHANICAL ENGINEERING TECHNICAL WORK"
         ],
         "xaxis": "x",
         "y": [
          4500
         ],
         "yaxis": "y"
        },
        {
         "alignmentgroup": "True",
         "hovertemplate": "<b>%{hovertext}</b><br><br>labour_type=%{x}<br>Income_dist=%{y}<extra></extra>",
         "hovertext": [
          25000
         ],
         "legendgroup": "BANKING",
         "marker": {
          "color": "#636efa",
          "pattern": {
           "shape": ""
          }
         },
         "name": "BANKING",
         "offsetgroup": "BANKING",
         "orientation": "v",
         "showlegend": true,
         "textposition": "auto",
         "type": "bar",
         "x": [
          "BANKING"
         ],
         "xaxis": "x",
         "y": [
          25000
         ],
         "yaxis": "y"
        },
        {
         "alignmentgroup": "True",
         "hovertemplate": "<b>%{hovertext}</b><br><br>labour_type=%{x}<br>Income_dist=%{y}<extra></extra>",
         "hovertext": [
          15000
         ],
         "legendgroup": "COMPANY PAINT WORKER",
         "marker": {
          "color": "#EF553B",
          "pattern": {
           "shape": ""
          }
         },
         "name": "COMPANY PAINT WORKER",
         "offsetgroup": "COMPANY PAINT WORKER",
         "orientation": "v",
         "showlegend": true,
         "textposition": "auto",
         "type": "bar",
         "x": [
          "COMPANY PAINT WORKER"
         ],
         "xaxis": "x",
         "y": [
          15000
         ],
         "yaxis": "y"
        },
        {
         "alignmentgroup": "True",
         "hovertemplate": "<b>%{hovertext}</b><br><br>labour_type=%{x}<br>Income_dist=%{y}<extra></extra>",
         "hovertext": [
          54000
         ],
         "legendgroup": "ADMINISTRATION WORKER WITH MY L.G.A.",
         "marker": {
          "color": "#00cc96",
          "pattern": {
           "shape": ""
          }
         },
         "name": "ADMINISTRATION WORKER WITH MY L.G.A.",
         "offsetgroup": "ADMINISTRATION WORKER WITH MY L.G.A.",
         "orientation": "v",
         "showlegend": true,
         "textposition": "auto",
         "type": "bar",
         "x": [
          "ADMINISTRATION WORKER WITH MY L.G.A."
         ],
         "xaxis": "x",
         "y": [
          54000
         ],
         "yaxis": "y"
        },
        {
         "alignmentgroup": "True",
         "hovertemplate": "<b>%{hovertext}</b><br><br>labour_type=%{x}<br>Income_dist=%{y}<extra></extra>",
         "hovertext": [
          20000
         ],
         "legendgroup": "LOCAL GOVERNMENT SECURITY",
         "marker": {
          "color": "#ab63fa",
          "pattern": {
           "shape": ""
          }
         },
         "name": "LOCAL GOVERNMENT SECURITY",
         "offsetgroup": "LOCAL GOVERNMENT SECURITY",
         "orientation": "v",
         "showlegend": true,
         "textposition": "auto",
         "type": "bar",
         "x": [
          "LOCAL GOVERNMENT SECURITY"
         ],
         "xaxis": "x",
         "y": [
          20000
         ],
         "yaxis": "y"
        },
        {
         "alignmentgroup": "True",
         "hovertemplate": "<b>%{hovertext}</b><br><br>labour_type=%{x}<br>Income_dist=%{y}<extra></extra>",
         "hovertext": [
          19000
         ],
         "legendgroup": "BULDOZER OPERATOR",
         "marker": {
          "color": "#FFA15A",
          "pattern": {
           "shape": ""
          }
         },
         "name": "BULDOZER OPERATOR",
         "offsetgroup": "BULDOZER OPERATOR",
         "orientation": "v",
         "showlegend": true,
         "textposition": "auto",
         "type": "bar",
         "x": [
          "BULDOZER OPERATOR"
         ],
         "xaxis": "x",
         "y": [
          19000
         ],
         "yaxis": "y"
        },
        {
         "alignmentgroup": "True",
         "hovertemplate": "<b>%{hovertext}</b><br><br>labour_type=%{x}<br>Income_dist=%{y}<extra></extra>",
         "hovertext": [
          2000
         ],
         "legendgroup": "LEANING ELECTRICAL WORK",
         "marker": {
          "color": "#19d3f3",
          "pattern": {
           "shape": ""
          }
         },
         "name": "LEANING ELECTRICAL WORK",
         "offsetgroup": "LEANING ELECTRICAL WORK",
         "orientation": "v",
         "showlegend": true,
         "textposition": "auto",
         "type": "bar",
         "x": [
          "LEANING ELECTRICAL WORK"
         ],
         "xaxis": "x",
         "y": [
          2000
         ],
         "yaxis": "y"
        },
        {
         "alignmentgroup": "True",
         "hovertemplate": "<b>%{hovertext}</b><br><br>labour_type=%{x}<br>Income_dist=%{y}<extra></extra>",
         "hovertext": [
          2500
         ],
         "legendgroup": "LEANING MECHANICAL WORK",
         "marker": {
          "color": "#FF6692",
          "pattern": {
           "shape": ""
          }
         },
         "name": "LEANING MECHANICAL WORK",
         "offsetgroup": "LEANING MECHANICAL WORK",
         "orientation": "v",
         "showlegend": true,
         "textposition": "auto",
         "type": "bar",
         "x": [
          "LEANING MECHANICAL WORK"
         ],
         "xaxis": "x",
         "y": [
          2500
         ],
         "yaxis": "y"
        },
        {
         "alignmentgroup": "True",
         "hovertemplate": "<b>%{hovertext}</b><br><br>labour_type=%{x}<br>Income_dist=%{y}<extra></extra>",
         "hovertext": [
          45000
         ],
         "legendgroup": "GRDENER",
         "marker": {
          "color": "#B6E880",
          "pattern": {
           "shape": ""
          }
         },
         "name": "GRDENER",
         "offsetgroup": "GRDENER",
         "orientation": "v",
         "showlegend": true,
         "textposition": "auto",
         "type": "bar",
         "x": [
          "GRDENER"
         ],
         "xaxis": "x",
         "y": [
          45000
         ],
         "yaxis": "y"
        },
        {
         "alignmentgroup": "True",
         "hovertemplate": "<b>%{hovertext}</b><br><br>labour_type=%{x}<br>Income_dist=%{y}<extra></extra>",
         "hovertext": [
          18000
         ],
         "legendgroup": "COMPANY TRANSPORTER (DRIVER)",
         "marker": {
          "color": "#FF97FF",
          "pattern": {
           "shape": ""
          }
         },
         "name": "COMPANY TRANSPORTER (DRIVER)",
         "offsetgroup": "COMPANY TRANSPORTER (DRIVER)",
         "orientation": "v",
         "showlegend": true,
         "textposition": "auto",
         "type": "bar",
         "x": [
          "COMPANY TRANSPORTER (DRIVER)"
         ],
         "xaxis": "x",
         "y": [
          18000
         ],
         "yaxis": "y"
        },
        {
         "alignmentgroup": "True",
         "hovertemplate": "<b>%{hovertext}</b><br><br>labour_type=%{x}<br>Income_dist=%{y}<extra></extra>",
         "hovertext": [
          30000
         ],
         "legendgroup": "BULDEZER OPERATOR",
         "marker": {
          "color": "#FECB52",
          "pattern": {
           "shape": ""
          }
         },
         "name": "BULDEZER OPERATOR",
         "offsetgroup": "BULDEZER OPERATOR",
         "orientation": "v",
         "showlegend": true,
         "textposition": "auto",
         "type": "bar",
         "x": [
          "BULDEZER OPERATOR"
         ],
         "xaxis": "x",
         "y": [
          30000
         ],
         "yaxis": "y"
        },
        {
         "alignmentgroup": "True",
         "hovertemplate": "<b>%{hovertext}</b><br><br>labour_type=%{x}<br>Income_dist=%{y}<extra></extra>",
         "hovertext": [
          40000
         ],
         "legendgroup": "STEEL COMPANY",
         "marker": {
          "color": "#636efa",
          "pattern": {
           "shape": ""
          }
         },
         "name": "STEEL COMPANY",
         "offsetgroup": "STEEL COMPANY",
         "orientation": "v",
         "showlegend": true,
         "textposition": "auto",
         "type": "bar",
         "x": [
          "STEEL COMPANY"
         ],
         "xaxis": "x",
         "y": [
          40000
         ],
         "yaxis": "y"
        },
        {
         "alignmentgroup": "True",
         "hovertemplate": "<b>%{hovertext}</b><br><br>labour_type=%{x}<br>Income_dist=%{y}<extra></extra>",
         "hovertext": [
          70000
         ],
         "legendgroup": "WASTE DISPOSALS (SANITARIAN)",
         "marker": {
          "color": "#EF553B",
          "pattern": {
           "shape": ""
          }
         },
         "name": "WASTE DISPOSALS (SANITARIAN)",
         "offsetgroup": "WASTE DISPOSALS (SANITARIAN)",
         "orientation": "v",
         "showlegend": true,
         "textposition": "auto",
         "type": "bar",
         "x": [
          "WASTE DISPOSALS (SANITARIAN)"
         ],
         "xaxis": "x",
         "y": [
          70000
         ],
         "yaxis": "y"
        },
        {
         "alignmentgroup": "True",
         "hovertemplate": "<b>%{hovertext}</b><br><br>labour_type=%{x}<br>Income_dist=%{y}<extra></extra>",
         "hovertext": [
          70000
         ],
         "legendgroup": "NIGERIA INSURANCE TRUST FUND",
         "marker": {
          "color": "#00cc96",
          "pattern": {
           "shape": ""
          }
         },
         "name": "NIGERIA INSURANCE TRUST FUND",
         "offsetgroup": "NIGERIA INSURANCE TRUST FUND",
         "orientation": "v",
         "showlegend": true,
         "textposition": "auto",
         "type": "bar",
         "x": [
          "NIGERIA INSURANCE TRUST FUND"
         ],
         "xaxis": "x",
         "y": [
          70000
         ],
         "yaxis": "y"
        },
        {
         "alignmentgroup": "True",
         "hovertemplate": "<b>%{hovertext}</b><br><br>labour_type=%{x}<br>Income_dist=%{y}<extra></extra>",
         "hovertext": [
          2000
         ],
         "legendgroup": "TAILORING AND MAKING OF DRESSES",
         "marker": {
          "color": "#ab63fa",
          "pattern": {
           "shape": ""
          }
         },
         "name": "TAILORING AND MAKING OF DRESSES",
         "offsetgroup": "TAILORING AND MAKING OF DRESSES",
         "orientation": "v",
         "showlegend": true,
         "textposition": "auto",
         "type": "bar",
         "x": [
          "TAILORING AND MAKING OF DRESSES"
         ],
         "xaxis": "x",
         "y": [
          2000
         ],
         "yaxis": "y"
        },
        {
         "alignmentgroup": "True",
         "hovertemplate": "<b>%{hovertext}</b><br><br>labour_type=%{x}<br>Income_dist=%{y}<extra></extra>",
         "hovertext": [
          10000
         ],
         "legendgroup": "SWEEPING AND CLEANING",
         "marker": {
          "color": "#FFA15A",
          "pattern": {
           "shape": ""
          }
         },
         "name": "SWEEPING AND CLEANING",
         "offsetgroup": "SWEEPING AND CLEANING",
         "orientation": "v",
         "showlegend": true,
         "textposition": "auto",
         "type": "bar",
         "x": [
          "SWEEPING AND CLEANING"
         ],
         "xaxis": "x",
         "y": [
          10000
         ],
         "yaxis": "y"
        },
        {
         "alignmentgroup": "True",
         "hovertemplate": "<b>%{hovertext}</b><br><br>labour_type=%{x}<br>Income_dist=%{y}<extra></extra>",
         "hovertext": [
          6500
         ],
         "legendgroup": "TEACHING OF PRIMARY SCH PUPIL",
         "marker": {
          "color": "#19d3f3",
          "pattern": {
           "shape": ""
          }
         },
         "name": "TEACHING OF PRIMARY SCH PUPIL",
         "offsetgroup": "TEACHING OF PRIMARY SCH PUPIL",
         "orientation": "v",
         "showlegend": true,
         "textposition": "auto",
         "type": "bar",
         "x": [
          "TEACHING OF PRIMARY SCH PUPIL"
         ],
         "xaxis": "x",
         "y": [
          6500
         ],
         "yaxis": "y"
        },
        {
         "alignmentgroup": "True",
         "hovertemplate": "<b>%{hovertext}</b><br><br>labour_type=%{x}<br>Income_dist=%{y}<extra></extra>",
         "hovertext": [
          29000
         ],
         "legendgroup": "BRICKLAYING IN LOCAL GOVT COUNCIL",
         "marker": {
          "color": "#FF6692",
          "pattern": {
           "shape": ""
          }
         },
         "name": "BRICKLAYING IN LOCAL GOVT COUNCIL",
         "offsetgroup": "BRICKLAYING IN LOCAL GOVT COUNCIL",
         "orientation": "v",
         "showlegend": true,
         "textposition": "auto",
         "type": "bar",
         "x": [
          "BRICKLAYING IN LOCAL GOVT COUNCIL"
         ],
         "xaxis": "x",
         "y": [
          29000
         ],
         "yaxis": "y"
        },
        {
         "alignmentgroup": "True",
         "hovertemplate": "<b>%{hovertext}</b><br><br>labour_type=%{x}<br>Income_dist=%{y}<extra></extra>",
         "hovertext": [
          60000
         ],
         "legendgroup": "WATCHERS AND DOOR KEEPERS IN GOVT OFFICE",
         "marker": {
          "color": "#B6E880",
          "pattern": {
           "shape": ""
          }
         },
         "name": "WATCHERS AND DOOR KEEPERS IN GOVT OFFICE",
         "offsetgroup": "WATCHERS AND DOOR KEEPERS IN GOVT OFFICE",
         "orientation": "v",
         "showlegend": true,
         "textposition": "auto",
         "type": "bar",
         "x": [
          "WATCHERS AND DOOR KEEPERS IN GOVT OFFICE"
         ],
         "xaxis": "x",
         "y": [
          60000
         ],
         "yaxis": "y"
        },
        {
         "alignmentgroup": "True",
         "hovertemplate": "<b>%{hovertext}</b><br><br>labour_type=%{x}<br>Income_dist=%{y}<extra></extra>",
         "hovertext": [
          25000
         ],
         "legendgroup": "SECURITY SERVICE AND PRIVATE GUARDS",
         "marker": {
          "color": "#FF97FF",
          "pattern": {
           "shape": ""
          }
         },
         "name": "SECURITY SERVICE AND PRIVATE GUARDS",
         "offsetgroup": "SECURITY SERVICE AND PRIVATE GUARDS",
         "orientation": "v",
         "showlegend": true,
         "textposition": "auto",
         "type": "bar",
         "x": [
          "SECURITY SERVICE AND PRIVATE GUARDS"
         ],
         "xaxis": "x",
         "y": [
          25000
         ],
         "yaxis": "y"
        },
        {
         "alignmentgroup": "True",
         "hovertemplate": "<b>%{hovertext}</b><br><br>labour_type=%{x}<br>Income_dist=%{y}<extra></extra>",
         "hovertext": [
          12000
         ],
         "legendgroup": "WASTE DISPOSAL SWEEPER AND LABOURERS",
         "marker": {
          "color": "#FECB52",
          "pattern": {
           "shape": ""
          }
         },
         "name": "WASTE DISPOSAL SWEEPER AND LABOURERS",
         "offsetgroup": "WASTE DISPOSAL SWEEPER AND LABOURERS",
         "orientation": "v",
         "showlegend": true,
         "textposition": "auto",
         "type": "bar",
         "x": [
          "WASTE DISPOSAL SWEEPER AND LABOURERS"
         ],
         "xaxis": "x",
         "y": [
          12000
         ],
         "yaxis": "y"
        },
        {
         "alignmentgroup": "True",
         "hovertemplate": "<b>%{hovertext}</b><br><br>labour_type=%{x}<br>Income_dist=%{y}<extra></extra>",
         "hovertext": [
          28000
         ],
         "legendgroup": "DIRIVER OF HEAVY TRUCK VEHICLES",
         "marker": {
          "color": "#636efa",
          "pattern": {
           "shape": ""
          }
         },
         "name": "DIRIVER OF HEAVY TRUCK VEHICLES",
         "offsetgroup": "DIRIVER OF HEAVY TRUCK VEHICLES",
         "orientation": "v",
         "showlegend": true,
         "textposition": "auto",
         "type": "bar",
         "x": [
          "DIRIVER OF HEAVY TRUCK VEHICLES"
         ],
         "xaxis": "x",
         "y": [
          28000
         ],
         "yaxis": "y"
        },
        {
         "alignmentgroup": "True",
         "hovertemplate": "<b>%{hovertext}</b><br><br>labour_type=%{x}<br>Income_dist=%{y}<extra></extra>",
         "hovertext": [
          50000
         ],
         "legendgroup": "(PASTOR) RELIGION PROFFESSIONALS",
         "marker": {
          "color": "#EF553B",
          "pattern": {
           "shape": ""
          }
         },
         "name": "(PASTOR) RELIGION PROFFESSIONALS",
         "offsetgroup": "(PASTOR) RELIGION PROFFESSIONALS",
         "orientation": "v",
         "showlegend": true,
         "textposition": "auto",
         "type": "bar",
         "x": [
          "(PASTOR) RELIGION PROFFESSIONALS"
         ],
         "xaxis": "x",
         "y": [
          50000
         ],
         "yaxis": "y"
        },
        {
         "alignmentgroup": "True",
         "hovertemplate": "<b>%{hovertext}</b><br><br>labour_type=%{x}<br>Income_dist=%{y}<extra></extra>",
         "hovertext": [
          10000
         ],
         "legendgroup": "DAYCARE TEACHER IN A PRIVATE SCHOOL",
         "marker": {
          "color": "#00cc96",
          "pattern": {
           "shape": ""
          }
         },
         "name": "DAYCARE TEACHER IN A PRIVATE SCHOOL",
         "offsetgroup": "DAYCARE TEACHER IN A PRIVATE SCHOOL",
         "orientation": "v",
         "showlegend": true,
         "textposition": "auto",
         "type": "bar",
         "x": [
          "DAYCARE TEACHER IN A PRIVATE SCHOOL"
         ],
         "xaxis": "x",
         "y": [
          10000
         ],
         "yaxis": "y"
        },
        {
         "alignmentgroup": "True",
         "hovertemplate": "<b>%{hovertext}</b><br><br>labour_type=%{x}<br>Income_dist=%{y}<extra></extra>",
         "hovertext": [
          82500
         ],
         "legendgroup": "CIVIL SERVANT AGRIC DEPARTMENT",
         "marker": {
          "color": "#ab63fa",
          "pattern": {
           "shape": ""
          }
         },
         "name": "CIVIL SERVANT AGRIC DEPARTMENT",
         "offsetgroup": "CIVIL SERVANT AGRIC DEPARTMENT",
         "orientation": "v",
         "showlegend": true,
         "textposition": "auto",
         "type": "bar",
         "x": [
          "CIVIL SERVANT AGRIC DEPARTMENT"
         ],
         "xaxis": "x",
         "y": [
          82500
         ],
         "yaxis": "y"
        },
        {
         "alignmentgroup": "True",
         "hovertemplate": "<b>%{hovertext}</b><br><br>labour_type=%{x}<br>Income_dist=%{y}<extra></extra>",
         "hovertext": [
          22000
         ],
         "legendgroup": "SECURITY GUARD (HOUSING CORPORATION)",
         "marker": {
          "color": "#FFA15A",
          "pattern": {
           "shape": ""
          }
         },
         "name": "SECURITY GUARD (HOUSING CORPORATION)",
         "offsetgroup": "SECURITY GUARD (HOUSING CORPORATION)",
         "orientation": "v",
         "showlegend": true,
         "textposition": "auto",
         "type": "bar",
         "x": [
          "SECURITY GUARD (HOUSING CORPORATION)"
         ],
         "xaxis": "x",
         "y": [
          22000
         ],
         "yaxis": "y"
        },
        {
         "alignmentgroup": "True",
         "hovertemplate": "<b>%{hovertext}</b><br><br>labour_type=%{x}<br>Income_dist=%{y}<extra></extra>",
         "hovertext": [
          10000
         ],
         "legendgroup": "TEACHING OF PRIMARY SCHOOL PROFESSIONAL",
         "marker": {
          "color": "#19d3f3",
          "pattern": {
           "shape": ""
          }
         },
         "name": "TEACHING OF PRIMARY SCHOOL PROFESSIONAL",
         "offsetgroup": "TEACHING OF PRIMARY SCHOOL PROFESSIONAL",
         "orientation": "v",
         "showlegend": true,
         "textposition": "auto",
         "type": "bar",
         "x": [
          "TEACHING OF PRIMARY SCHOOL PROFESSIONAL"
         ],
         "xaxis": "x",
         "y": [
          10000
         ],
         "yaxis": "y"
        },
        {
         "alignmentgroup": "True",
         "hovertemplate": "<b>%{hovertext}</b><br><br>labour_type=%{x}<br>Income_dist=%{y}<extra></extra>",
         "hovertext": [
          7000
         ],
         "legendgroup": "PRIMARY SCHOOL TEACHING PROFESSIONAL",
         "marker": {
          "color": "#FF6692",
          "pattern": {
           "shape": ""
          }
         },
         "name": "PRIMARY SCHOOL TEACHING PROFESSIONAL",
         "offsetgroup": "PRIMARY SCHOOL TEACHING PROFESSIONAL",
         "orientation": "v",
         "showlegend": true,
         "textposition": "auto",
         "type": "bar",
         "x": [
          "PRIMARY SCHOOL TEACHING PROFESSIONAL"
         ],
         "xaxis": "x",
         "y": [
          7000
         ],
         "yaxis": "y"
        },
        {
         "alignmentgroup": "True",
         "hovertemplate": "<b>%{hovertext}</b><br><br>labour_type=%{x}<br>Income_dist=%{y}<extra></extra>",
         "hovertext": [
          39000
         ],
         "legendgroup": "WATCHER& DOORKEEPER IN LOCAL GOVT OFFICE",
         "marker": {
          "color": "#B6E880",
          "pattern": {
           "shape": ""
          }
         },
         "name": "WATCHER& DOORKEEPER IN LOCAL GOVT OFFICE",
         "offsetgroup": "WATCHER& DOORKEEPER IN LOCAL GOVT OFFICE",
         "orientation": "v",
         "showlegend": true,
         "textposition": "auto",
         "type": "bar",
         "x": [
          "WATCHER& DOORKEEPER IN LOCAL GOVT OFFICE"
         ],
         "xaxis": "x",
         "y": [
          39000
         ],
         "yaxis": "y"
        },
        {
         "alignmentgroup": "True",
         "hovertemplate": "<b>%{hovertext}</b><br><br>labour_type=%{x}<br>Income_dist=%{y}<extra></extra>",
         "hovertext": [
          126000
         ],
         "legendgroup": "TEACHING OF SECONDARY SCHOOL PUPILS",
         "marker": {
          "color": "#FF97FF",
          "pattern": {
           "shape": ""
          }
         },
         "name": "TEACHING OF SECONDARY SCHOOL PUPILS",
         "offsetgroup": "TEACHING OF SECONDARY SCHOOL PUPILS",
         "orientation": "v",
         "showlegend": true,
         "textposition": "auto",
         "type": "bar",
         "x": [
          "TEACHING OF SECONDARY SCHOOL PUPILS"
         ],
         "xaxis": "x",
         "y": [
          126000
         ],
         "yaxis": "y"
        },
        {
         "alignmentgroup": "True",
         "hovertemplate": "<b>%{hovertext}</b><br><br>labour_type=%{x}<br>Income_dist=%{y}<extra></extra>",
         "hovertext": [
          49000
         ],
         "legendgroup": "OFFICE ASSISTANT AND MESSENGER",
         "marker": {
          "color": "#FECB52",
          "pattern": {
           "shape": ""
          }
         },
         "name": "OFFICE ASSISTANT AND MESSENGER",
         "offsetgroup": "OFFICE ASSISTANT AND MESSENGER",
         "orientation": "v",
         "showlegend": true,
         "textposition": "auto",
         "type": "bar",
         "x": [
          "OFFICE ASSISTANT AND MESSENGER"
         ],
         "xaxis": "x",
         "y": [
          49000
         ],
         "yaxis": "y"
        },
        {
         "alignmentgroup": "True",
         "hovertemplate": "<b>%{hovertext}</b><br><br>labour_type=%{x}<br>Income_dist=%{y}<extra></extra>",
         "hovertext": [
          56000
         ],
         "legendgroup": "NURSING AND MIDWIFERY WORKER",
         "marker": {
          "color": "#636efa",
          "pattern": {
           "shape": ""
          }
         },
         "name": "NURSING AND MIDWIFERY WORKER",
         "offsetgroup": "NURSING AND MIDWIFERY WORKER",
         "orientation": "v",
         "showlegend": true,
         "textposition": "auto",
         "type": "bar",
         "x": [
          "NURSING AND MIDWIFERY WORKER"
         ],
         "xaxis": "x",
         "y": [
          56000
         ],
         "yaxis": "y"
        },
        {
         "alignmentgroup": "True",
         "hovertemplate": "<b>%{hovertext}</b><br><br>labour_type=%{x}<br>Income_dist=%{y}<extra></extra>",
         "hovertext": [
          10000
         ],
         "legendgroup": "TEACHING OF PRIMARY SCHOOL STUDENTS",
         "marker": {
          "color": "#EF553B",
          "pattern": {
           "shape": ""
          }
         },
         "name": "TEACHING OF PRIMARY SCHOOL STUDENTS",
         "offsetgroup": "TEACHING OF PRIMARY SCHOOL STUDENTS",
         "orientation": "v",
         "showlegend": true,
         "textposition": "auto",
         "type": "bar",
         "x": [
          "TEACHING OF PRIMARY SCHOOL STUDENTS"
         ],
         "xaxis": "x",
         "y": [
          10000
         ],
         "yaxis": "y"
        },
        {
         "alignmentgroup": "True",
         "hovertemplate": "<b>%{hovertext}</b><br><br>labour_type=%{x}<br>Income_dist=%{y}<extra></extra>",
         "hovertext": [
          200000
         ],
         "legendgroup": "JUDGE IN MAGISTRATE COURT",
         "marker": {
          "color": "#00cc96",
          "pattern": {
           "shape": ""
          }
         },
         "name": "JUDGE IN MAGISTRATE COURT",
         "offsetgroup": "JUDGE IN MAGISTRATE COURT",
         "orientation": "v",
         "showlegend": true,
         "textposition": "auto",
         "type": "bar",
         "x": [
          "JUDGE IN MAGISTRATE COURT"
         ],
         "xaxis": "x",
         "y": [
          200000
         ],
         "yaxis": "y"
        },
        {
         "alignmentgroup": "True",
         "hovertemplate": "<b>%{hovertext}</b><br><br>labour_type=%{x}<br>Income_dist=%{y}<extra></extra>",
         "hovertext": [
          10000
         ],
         "legendgroup": "FOOD COOKING FOR SECONDARY SCH STUDENT",
         "marker": {
          "color": "#ab63fa",
          "pattern": {
           "shape": ""
          }
         },
         "name": "FOOD COOKING FOR SECONDARY SCH STUDENT",
         "offsetgroup": "FOOD COOKING FOR SECONDARY SCH STUDENT",
         "orientation": "v",
         "showlegend": true,
         "textposition": "auto",
         "type": "bar",
         "x": [
          "FOOD COOKING FOR SECONDARY SCH STUDENT"
         ],
         "xaxis": "x",
         "y": [
          10000
         ],
         "yaxis": "y"
        },
        {
         "alignmentgroup": "True",
         "hovertemplate": "<b>%{hovertext}</b><br><br>labour_type=%{x}<br>Income_dist=%{y}<extra></extra>",
         "hovertext": [
          15000
         ],
         "legendgroup": "WAITER AND HOTEL RECEPTION",
         "marker": {
          "color": "#FFA15A",
          "pattern": {
           "shape": ""
          }
         },
         "name": "WAITER AND HOTEL RECEPTION",
         "offsetgroup": "WAITER AND HOTEL RECEPTION",
         "orientation": "v",
         "showlegend": true,
         "textposition": "auto",
         "type": "bar",
         "x": [
          "WAITER AND HOTEL RECEPTION"
         ],
         "xaxis": "x",
         "y": [
          15000
         ],
         "yaxis": "y"
        },
        {
         "alignmentgroup": "True",
         "hovertemplate": "<b>%{hovertext}</b><br><br>labour_type=%{x}<br>Income_dist=%{y}<extra></extra>",
         "hovertext": [
          46000
         ],
         "legendgroup": "COMMUNITY DEV OFFICER",
         "marker": {
          "color": "#19d3f3",
          "pattern": {
           "shape": ""
          }
         },
         "name": "COMMUNITY DEV OFFICER",
         "offsetgroup": "COMMUNITY DEV OFFICER",
         "orientation": "v",
         "showlegend": true,
         "textposition": "auto",
         "type": "bar",
         "x": [
          "COMMUNITY DEV OFFICER"
         ],
         "xaxis": "x",
         "y": [
          46000
         ],
         "yaxis": "y"
        },
        {
         "alignmentgroup": "True",
         "hovertemplate": "<b>%{hovertext}</b><br><br>labour_type=%{x}<br>Income_dist=%{y}<extra></extra>",
         "hovertext": [
          3000
         ],
         "legendgroup": "DRAWING AND BUILDING OF HOUSE",
         "marker": {
          "color": "#FF6692",
          "pattern": {
           "shape": ""
          }
         },
         "name": "DRAWING AND BUILDING OF HOUSE",
         "offsetgroup": "DRAWING AND BUILDING OF HOUSE",
         "orientation": "v",
         "showlegend": true,
         "textposition": "auto",
         "type": "bar",
         "x": [
          "DRAWING AND BUILDING OF HOUSE"
         ],
         "xaxis": "x",
         "y": [
          3000
         ],
         "yaxis": "y"
        },
        {
         "alignmentgroup": "True",
         "hovertemplate": "<b>%{hovertext}</b><br><br>labour_type=%{x}<br>Income_dist=%{y}<extra></extra>",
         "hovertext": [
          5000
         ],
         "legendgroup": "ROOFER WORKING FOR AN INDIVIDUAL",
         "marker": {
          "color": "#B6E880",
          "pattern": {
           "shape": ""
          }
         },
         "name": "ROOFER WORKING FOR AN INDIVIDUAL",
         "offsetgroup": "ROOFER WORKING FOR AN INDIVIDUAL",
         "orientation": "v",
         "showlegend": true,
         "textposition": "auto",
         "type": "bar",
         "x": [
          "ROOFER WORKING FOR AN INDIVIDUAL"
         ],
         "xaxis": "x",
         "y": [
          5000
         ],
         "yaxis": "y"
        },
        {
         "alignmentgroup": "True",
         "hovertemplate": "<b>%{hovertext}</b><br><br>labour_type=%{x}<br>Income_dist=%{y}<extra></extra>",
         "hovertext": [
          1500
         ],
         "legendgroup": "MASON (MOULDING OF BLOCK)",
         "marker": {
          "color": "#FF97FF",
          "pattern": {
           "shape": ""
          }
         },
         "name": "MASON (MOULDING OF BLOCK)",
         "offsetgroup": "MASON (MOULDING OF BLOCK)",
         "orientation": "v",
         "showlegend": true,
         "textposition": "auto",
         "type": "bar",
         "x": [
          "MASON (MOULDING OF BLOCK)"
         ],
         "xaxis": "x",
         "y": [
          1500
         ],
         "yaxis": "y"
        },
        {
         "alignmentgroup": "True",
         "hovertemplate": "<b>%{hovertext}</b><br><br>labour_type=%{x}<br>Income_dist=%{y}<extra></extra>",
         "hovertext": [
          55000
         ],
         "legendgroup": "SURVEYOR IN MINISTRY OF LAND",
         "marker": {
          "color": "#FECB52",
          "pattern": {
           "shape": ""
          }
         },
         "name": "SURVEYOR IN MINISTRY OF LAND",
         "offsetgroup": "SURVEYOR IN MINISTRY OF LAND",
         "orientation": "v",
         "showlegend": true,
         "textposition": "auto",
         "type": "bar",
         "x": [
          "SURVEYOR IN MINISTRY OF LAND"
         ],
         "xaxis": "x",
         "y": [
          55000
         ],
         "yaxis": "y"
        },
        {
         "alignmentgroup": "True",
         "hovertemplate": "<b>%{hovertext}</b><br><br>labour_type=%{x}<br>Income_dist=%{y}<extra></extra>",
         "hovertext": [
          35000
         ],
         "legendgroup": "ADMINISTRATOR IN A SCHOOL",
         "marker": {
          "color": "#636efa",
          "pattern": {
           "shape": ""
          }
         },
         "name": "ADMINISTRATOR IN A SCHOOL",
         "offsetgroup": "ADMINISTRATOR IN A SCHOOL",
         "orientation": "v",
         "showlegend": true,
         "textposition": "auto",
         "type": "bar",
         "x": [
          "ADMINISTRATOR IN A SCHOOL"
         ],
         "xaxis": "x",
         "y": [
          35000
         ],
         "yaxis": "y"
        },
        {
         "alignmentgroup": "True",
         "hovertemplate": "<b>%{hovertext}</b><br><br>labour_type=%{x}<br>Income_dist=%{y}<extra></extra>",
         "hovertext": [
          180000
         ],
         "legendgroup": "LECTURER AT IMT ENUGU",
         "marker": {
          "color": "#EF553B",
          "pattern": {
           "shape": ""
          }
         },
         "name": "LECTURER AT IMT ENUGU",
         "offsetgroup": "LECTURER AT IMT ENUGU",
         "orientation": "v",
         "showlegend": true,
         "textposition": "auto",
         "type": "bar",
         "x": [
          "LECTURER AT IMT ENUGU"
         ],
         "xaxis": "x",
         "y": [
          180000
         ],
         "yaxis": "y"
        },
        {
         "alignmentgroup": "True",
         "hovertemplate": "<b>%{hovertext}</b><br><br>labour_type=%{x}<br>Income_dist=%{y}<extra></extra>",
         "hovertext": [
          500000
         ],
         "legendgroup": "DEPUTY COMPTROLLER GEN OF PRISONS",
         "marker": {
          "color": "#00cc96",
          "pattern": {
           "shape": ""
          }
         },
         "name": "DEPUTY COMPTROLLER GEN OF PRISONS",
         "offsetgroup": "DEPUTY COMPTROLLER GEN OF PRISONS",
         "orientation": "v",
         "showlegend": true,
         "textposition": "auto",
         "type": "bar",
         "x": [
          "DEPUTY COMPTROLLER GEN OF PRISONS"
         ],
         "xaxis": "x",
         "y": [
          500000
         ],
         "yaxis": "y"
        },
        {
         "alignmentgroup": "True",
         "hovertemplate": "<b>%{hovertext}</b><br><br>labour_type=%{x}<br>Income_dist=%{y}<extra></extra>",
         "hovertext": [
          302800
         ],
         "legendgroup": "LEGAL SERVICES",
         "marker": {
          "color": "#ab63fa",
          "pattern": {
           "shape": ""
          }
         },
         "name": "LEGAL SERVICES",
         "offsetgroup": "LEGAL SERVICES",
         "orientation": "v",
         "showlegend": true,
         "textposition": "auto",
         "type": "bar",
         "x": [
          "LEGAL SERVICES"
         ],
         "xaxis": "x",
         "y": [
          302800
         ],
         "yaxis": "y"
        },
        {
         "alignmentgroup": "True",
         "hovertemplate": "<b>%{hovertext}</b><br><br>labour_type=%{x}<br>Income_dist=%{y}<extra></extra>",
         "hovertext": [
          50000
         ],
         "legendgroup": "DOMESTICS SERVANT",
         "marker": {
          "color": "#FFA15A",
          "pattern": {
           "shape": ""
          }
         },
         "name": "DOMESTICS SERVANT",
         "offsetgroup": "DOMESTICS SERVANT",
         "orientation": "v",
         "showlegend": true,
         "textposition": "auto",
         "type": "bar",
         "x": [
          "DOMESTICS SERVANT"
         ],
         "xaxis": "x",
         "y": [
          50000
         ],
         "yaxis": "y"
        },
        {
         "alignmentgroup": "True",
         "hovertemplate": "<b>%{hovertext}</b><br><br>labour_type=%{x}<br>Income_dist=%{y}<extra></extra>",
         "hovertext": [
          5000
         ],
         "legendgroup": "AN ELECTRICAN WORKING FOR PRIVATE INDUST",
         "marker": {
          "color": "#19d3f3",
          "pattern": {
           "shape": ""
          }
         },
         "name": "AN ELECTRICAN WORKING FOR PRIVATE INDUST",
         "offsetgroup": "AN ELECTRICAN WORKING FOR PRIVATE INDUST",
         "orientation": "v",
         "showlegend": true,
         "textposition": "auto",
         "type": "bar",
         "x": [
          "AN ELECTRICAN WORKING FOR PRIVATE INDUST"
         ],
         "xaxis": "x",
         "y": [
          5000
         ],
         "yaxis": "y"
        },
        {
         "alignmentgroup": "True",
         "hovertemplate": "<b>%{hovertext}</b><br><br>labour_type=%{x}<br>Income_dist=%{y}<extra></extra>",
         "hovertext": [
          45000
         ],
         "legendgroup": "SECURITY MAN AT SEMINARY SCHOOL",
         "marker": {
          "color": "#FF6692",
          "pattern": {
           "shape": ""
          }
         },
         "name": "SECURITY MAN AT SEMINARY SCHOOL",
         "offsetgroup": "SECURITY MAN AT SEMINARY SCHOOL",
         "orientation": "v",
         "showlegend": true,
         "textposition": "auto",
         "type": "bar",
         "x": [
          "SECURITY MAN AT SEMINARY SCHOOL"
         ],
         "xaxis": "x",
         "y": [
          45000
         ],
         "yaxis": "y"
        },
        {
         "alignmentgroup": "True",
         "hovertemplate": "<b>%{hovertext}</b><br><br>labour_type=%{x}<br>Income_dist=%{y}<extra></extra>",
         "hovertext": [
          50000
         ],
         "legendgroup": "COMPUTER ASSISTANT IN ADIM DEPARTMENT",
         "marker": {
          "color": "#B6E880",
          "pattern": {
           "shape": ""
          }
         },
         "name": "COMPUTER ASSISTANT IN ADIM DEPARTMENT",
         "offsetgroup": "COMPUTER ASSISTANT IN ADIM DEPARTMENT",
         "orientation": "v",
         "showlegend": true,
         "textposition": "auto",
         "type": "bar",
         "x": [
          "COMPUTER ASSISTANT IN ADIM DEPARTMENT"
         ],
         "xaxis": "x",
         "y": [
          50000
         ],
         "yaxis": "y"
        },
        {
         "alignmentgroup": "True",
         "hovertemplate": "<b>%{hovertext}</b><br><br>labour_type=%{x}<br>Income_dist=%{y}<extra></extra>",
         "hovertext": [
          5000
         ],
         "legendgroup": "CLEANER IN A PRIVATE HOSPITAL",
         "marker": {
          "color": "#FF97FF",
          "pattern": {
           "shape": ""
          }
         },
         "name": "CLEANER IN A PRIVATE HOSPITAL",
         "offsetgroup": "CLEANER IN A PRIVATE HOSPITAL",
         "orientation": "v",
         "showlegend": true,
         "textposition": "auto",
         "type": "bar",
         "x": [
          "CLEANER IN A PRIVATE HOSPITAL"
         ],
         "xaxis": "x",
         "y": [
          5000
         ],
         "yaxis": "y"
        },
        {
         "alignmentgroup": "True",
         "hovertemplate": "<b>%{hovertext}</b><br><br>labour_type=%{x}<br>Income_dist=%{y}<extra></extra>",
         "hovertext": [
          27500,
          100000
         ],
         "legendgroup": "PAPER MAKING PLANT OPERATORS",
         "marker": {
          "color": "#FECB52",
          "pattern": {
           "shape": ""
          }
         },
         "name": "PAPER MAKING PLANT OPERATORS",
         "offsetgroup": "PAPER MAKING PLANT OPERATORS",
         "orientation": "v",
         "showlegend": true,
         "textposition": "auto",
         "type": "bar",
         "x": [
          "PAPER MAKING PLANT OPERATORS",
          "PAPER MAKING PLANT OPERATORS"
         ],
         "xaxis": "x",
         "y": [
          27500,
          100000
         ],
         "yaxis": "y"
        },
        {
         "alignmentgroup": "True",
         "hovertemplate": "<b>%{hovertext}</b><br><br>labour_type=%{x}<br>Income_dist=%{y}<extra></extra>",
         "hovertext": [
          20000
         ],
         "legendgroup": "PASTRY COOKS AND CONFRCTIONERY MAKERS",
         "marker": {
          "color": "#636efa",
          "pattern": {
           "shape": ""
          }
         },
         "name": "PASTRY COOKS AND CONFRCTIONERY MAKERS",
         "offsetgroup": "PASTRY COOKS AND CONFRCTIONERY MAKERS",
         "orientation": "v",
         "showlegend": true,
         "textposition": "auto",
         "type": "bar",
         "x": [
          "PASTRY COOKS AND CONFRCTIONERY MAKERS"
         ],
         "xaxis": "x",
         "y": [
          20000
         ],
         "yaxis": "y"
        },
        {
         "alignmentgroup": "True",
         "hovertemplate": "<b>%{hovertext}</b><br><br>labour_type=%{x}<br>Income_dist=%{y}<extra></extra>",
         "hovertext": [
          30000
         ],
         "legendgroup": "DISTRIBUTION OF LETTERS",
         "marker": {
          "color": "#EF553B",
          "pattern": {
           "shape": ""
          }
         },
         "name": "DISTRIBUTION OF LETTERS",
         "offsetgroup": "DISTRIBUTION OF LETTERS",
         "orientation": "v",
         "showlegend": true,
         "textposition": "auto",
         "type": "bar",
         "x": [
          "DISTRIBUTION OF LETTERS"
         ],
         "xaxis": "x",
         "y": [
          30000
         ],
         "yaxis": "y"
        },
        {
         "alignmentgroup": "True",
         "hovertemplate": "<b>%{hovertext}</b><br><br>labour_type=%{x}<br>Income_dist=%{y}<extra></extra>",
         "hovertext": [
          40000
         ],
         "legendgroup": "PICKING & PACKING OF EGGS IN POUTRY FARM",
         "marker": {
          "color": "#00cc96",
          "pattern": {
           "shape": ""
          }
         },
         "name": "PICKING & PACKING OF EGGS IN POUTRY FARM",
         "offsetgroup": "PICKING & PACKING OF EGGS IN POUTRY FARM",
         "orientation": "v",
         "showlegend": true,
         "textposition": "auto",
         "type": "bar",
         "x": [
          "PICKING & PACKING OF EGGS IN POUTRY FARM"
         ],
         "xaxis": "x",
         "y": [
          40000
         ],
         "yaxis": "y"
        },
        {
         "alignmentgroup": "True",
         "hovertemplate": "<b>%{hovertext}</b><br><br>labour_type=%{x}<br>Income_dist=%{y}<extra></extra>",
         "hovertext": [
          2000
         ],
         "legendgroup": "LOADING AND OFF LOADING OF DRINKS",
         "marker": {
          "color": "#ab63fa",
          "pattern": {
           "shape": ""
          }
         },
         "name": "LOADING AND OFF LOADING OF DRINKS",
         "offsetgroup": "LOADING AND OFF LOADING OF DRINKS",
         "orientation": "v",
         "showlegend": true,
         "textposition": "auto",
         "type": "bar",
         "x": [
          "LOADING AND OFF LOADING OF DRINKS"
         ],
         "xaxis": "x",
         "y": [
          2000
         ],
         "yaxis": "y"
        },
        {
         "alignmentgroup": "True",
         "hovertemplate": "<b>%{hovertext}</b><br><br>labour_type=%{x}<br>Income_dist=%{y}<extra></extra>",
         "hovertext": [
          120000
         ],
         "legendgroup": "REGISTRAR",
         "marker": {
          "color": "#FFA15A",
          "pattern": {
           "shape": ""
          }
         },
         "name": "REGISTRAR",
         "offsetgroup": "REGISTRAR",
         "orientation": "v",
         "showlegend": true,
         "textposition": "auto",
         "type": "bar",
         "x": [
          "REGISTRAR"
         ],
         "xaxis": "x",
         "y": [
          120000
         ],
         "yaxis": "y"
        },
        {
         "alignmentgroup": "True",
         "hovertemplate": "<b>%{hovertext}</b><br><br>labour_type=%{x}<br>Income_dist=%{y}<extra></extra>",
         "hovertext": [
          59000
         ],
         "legendgroup": "TEACHING IN GOVERNMENT PRIMARY SCHOOL",
         "marker": {
          "color": "#19d3f3",
          "pattern": {
           "shape": ""
          }
         },
         "name": "TEACHING IN GOVERNMENT PRIMARY SCHOOL",
         "offsetgroup": "TEACHING IN GOVERNMENT PRIMARY SCHOOL",
         "orientation": "v",
         "showlegend": true,
         "textposition": "auto",
         "type": "bar",
         "x": [
          "TEACHING IN GOVERNMENT PRIMARY SCHOOL"
         ],
         "xaxis": "x",
         "y": [
          59000
         ],
         "yaxis": "y"
        },
        {
         "alignmentgroup": "True",
         "hovertemplate": "<b>%{hovertext}</b><br><br>labour_type=%{x}<br>Income_dist=%{y}<extra></extra>",
         "hovertext": [
          3500,
          4000
         ],
         "legendgroup": "SALES PERSON IN AN URBAN MARKET",
         "marker": {
          "color": "#FF6692",
          "pattern": {
           "shape": ""
          }
         },
         "name": "SALES PERSON IN AN URBAN MARKET",
         "offsetgroup": "SALES PERSON IN AN URBAN MARKET",
         "orientation": "v",
         "showlegend": true,
         "textposition": "auto",
         "type": "bar",
         "x": [
          "SALES PERSON IN AN URBAN MARKET",
          "SALES PERSON IN AN URBAN MARKET"
         ],
         "xaxis": "x",
         "y": [
          3500,
          4000
         ],
         "yaxis": "y"
        },
        {
         "alignmentgroup": "True",
         "hovertemplate": "<b>%{hovertext}</b><br><br>labour_type=%{x}<br>Income_dist=%{y}<extra></extra>",
         "hovertext": [
          700
         ],
         "legendgroup": "ISSUING OF MOTOR TICKET TO LONG VEHICLES",
         "marker": {
          "color": "#B6E880",
          "pattern": {
           "shape": ""
          }
         },
         "name": "ISSUING OF MOTOR TICKET TO LONG VEHICLES",
         "offsetgroup": "ISSUING OF MOTOR TICKET TO LONG VEHICLES",
         "orientation": "v",
         "showlegend": true,
         "textposition": "auto",
         "type": "bar",
         "x": [
          "ISSUING OF MOTOR TICKET TO LONG VEHICLES"
         ],
         "xaxis": "x",
         "y": [
          700
         ],
         "yaxis": "y"
        },
        {
         "alignmentgroup": "True",
         "hovertemplate": "<b>%{hovertext}</b><br><br>labour_type=%{x}<br>Income_dist=%{y}<extra></extra>",
         "hovertext": [
          2000
         ],
         "legendgroup": "MIXER MACHINE OPERATOR",
         "marker": {
          "color": "#FF97FF",
          "pattern": {
           "shape": ""
          }
         },
         "name": "MIXER MACHINE OPERATOR",
         "offsetgroup": "MIXER MACHINE OPERATOR",
         "orientation": "v",
         "showlegend": true,
         "textposition": "auto",
         "type": "bar",
         "x": [
          "MIXER MACHINE OPERATOR"
         ],
         "xaxis": "x",
         "y": [
          2000
         ],
         "yaxis": "y"
        },
        {
         "alignmentgroup": "True",
         "hovertemplate": "<b>%{hovertext}</b><br><br>labour_type=%{x}<br>Income_dist=%{y}<extra></extra>",
         "hovertext": [
          48000
         ],
         "legendgroup": "NIGERIAN POLICE POST",
         "marker": {
          "color": "#FECB52",
          "pattern": {
           "shape": ""
          }
         },
         "name": "NIGERIAN POLICE POST",
         "offsetgroup": "NIGERIAN POLICE POST",
         "orientation": "v",
         "showlegend": true,
         "textposition": "auto",
         "type": "bar",
         "x": [
          "NIGERIAN POLICE POST"
         ],
         "xaxis": "x",
         "y": [
          48000
         ],
         "yaxis": "y"
        },
        {
         "alignmentgroup": "True",
         "hovertemplate": "<b>%{hovertext}</b><br><br>labour_type=%{x}<br>Income_dist=%{y}<extra></extra>",
         "hovertext": [
          55000,
          45000
         ],
         "legendgroup": "TEACHER SECONDARY EDU TECH",
         "marker": {
          "color": "#636efa",
          "pattern": {
           "shape": ""
          }
         },
         "name": "TEACHER SECONDARY EDU TECH",
         "offsetgroup": "TEACHER SECONDARY EDU TECH",
         "orientation": "v",
         "showlegend": true,
         "textposition": "auto",
         "type": "bar",
         "x": [
          "TEACHER SECONDARY EDU TECH",
          "TEACHER SECONDARY EDU TECH"
         ],
         "xaxis": "x",
         "y": [
          55000,
          45000
         ],
         "yaxis": "y"
        },
        {
         "alignmentgroup": "True",
         "hovertemplate": "<b>%{hovertext}</b><br><br>labour_type=%{x}<br>Income_dist=%{y}<extra></extra>",
         "hovertext": [
          25000
         ],
         "legendgroup": "TEACHER ESCONDARY EDU TECH",
         "marker": {
          "color": "#EF553B",
          "pattern": {
           "shape": ""
          }
         },
         "name": "TEACHER ESCONDARY EDU TECH",
         "offsetgroup": "TEACHER ESCONDARY EDU TECH",
         "orientation": "v",
         "showlegend": true,
         "textposition": "auto",
         "type": "bar",
         "x": [
          "TEACHER ESCONDARY EDU TECH"
         ],
         "xaxis": "x",
         "y": [
          25000
         ],
         "yaxis": "y"
        },
        {
         "alignmentgroup": "True",
         "hovertemplate": "<b>%{hovertext}</b><br><br>labour_type=%{x}<br>Income_dist=%{y}<extra></extra>",
         "hovertext": [
          1000
         ],
         "legendgroup": "LABORATORY ATTENDANT",
         "marker": {
          "color": "#00cc96",
          "pattern": {
           "shape": ""
          }
         },
         "name": "LABORATORY ATTENDANT",
         "offsetgroup": "LABORATORY ATTENDANT",
         "orientation": "v",
         "showlegend": true,
         "textposition": "auto",
         "type": "bar",
         "x": [
          "LABORATORY ATTENDANT"
         ],
         "xaxis": "x",
         "y": [
          1000
         ],
         "yaxis": "y"
        },
        {
         "alignmentgroup": "True",
         "hovertemplate": "<b>%{hovertext}</b><br><br>labour_type=%{x}<br>Income_dist=%{y}<extra></extra>",
         "hovertext": [
          31500
         ],
         "legendgroup": "CARRYING MAIL AND FILE ARRANGING",
         "marker": {
          "color": "#ab63fa",
          "pattern": {
           "shape": ""
          }
         },
         "name": "CARRYING MAIL AND FILE ARRANGING",
         "offsetgroup": "CARRYING MAIL AND FILE ARRANGING",
         "orientation": "v",
         "showlegend": true,
         "textposition": "auto",
         "type": "bar",
         "x": [
          "CARRYING MAIL AND FILE ARRANGING"
         ],
         "xaxis": "x",
         "y": [
          31500
         ],
         "yaxis": "y"
        },
        {
         "alignmentgroup": "True",
         "hovertemplate": "<b>%{hovertext}</b><br><br>labour_type=%{x}<br>Income_dist=%{y}<extra></extra>",
         "hovertext": [
          12000
         ],
         "legendgroup": "STORE KEEPER IN GOMBE STATE CO-OP.AGENCY",
         "marker": {
          "color": "#FFA15A",
          "pattern": {
           "shape": ""
          }
         },
         "name": "STORE KEEPER IN GOMBE STATE CO-OP.AGENCY",
         "offsetgroup": "STORE KEEPER IN GOMBE STATE CO-OP.AGENCY",
         "orientation": "v",
         "showlegend": true,
         "textposition": "auto",
         "type": "bar",
         "x": [
          "STORE KEEPER IN GOMBE STATE CO-OP.AGENCY"
         ],
         "xaxis": "x",
         "y": [
          12000
         ],
         "yaxis": "y"
        },
        {
         "alignmentgroup": "True",
         "hovertemplate": "<b>%{hovertext}</b><br><br>labour_type=%{x}<br>Income_dist=%{y}<extra></extra>",
         "hovertext": [
          20000
         ],
         "legendgroup": "FINANCIAL OFFICER IN LOCAL GOVERNMENT",
         "marker": {
          "color": "#19d3f3",
          "pattern": {
           "shape": ""
          }
         },
         "name": "FINANCIAL OFFICER IN LOCAL GOVERNMENT",
         "offsetgroup": "FINANCIAL OFFICER IN LOCAL GOVERNMENT",
         "orientation": "v",
         "showlegend": true,
         "textposition": "auto",
         "type": "bar",
         "x": [
          "FINANCIAL OFFICER IN LOCAL GOVERNMENT"
         ],
         "xaxis": "x",
         "y": [
          20000
         ],
         "yaxis": "y"
        },
        {
         "alignmentgroup": "True",
         "hovertemplate": "<b>%{hovertext}</b><br><br>labour_type=%{x}<br>Income_dist=%{y}<extra></extra>",
         "hovertext": [
          7000
         ],
         "legendgroup": "EDUCATION SECONDARY TEACHING",
         "marker": {
          "color": "#FF6692",
          "pattern": {
           "shape": ""
          }
         },
         "name": "EDUCATION SECONDARY TEACHING",
         "offsetgroup": "EDUCATION SECONDARY TEACHING",
         "orientation": "v",
         "showlegend": true,
         "textposition": "auto",
         "type": "bar",
         "x": [
          "EDUCATION SECONDARY TEACHING"
         ],
         "xaxis": "x",
         "y": [
          7000
         ],
         "yaxis": "y"
        },
        {
         "alignmentgroup": "True",
         "hovertemplate": "<b>%{hovertext}</b><br><br>labour_type=%{x}<br>Income_dist=%{y}<extra></extra>",
         "hovertext": [
          30000
         ],
         "legendgroup": "RURAL HEALTH ATTENDANT & TECHNIC",
         "marker": {
          "color": "#B6E880",
          "pattern": {
           "shape": ""
          }
         },
         "name": "RURAL HEALTH ATTENDANT & TECHNIC",
         "offsetgroup": "RURAL HEALTH ATTENDANT & TECHNIC",
         "orientation": "v",
         "showlegend": true,
         "textposition": "auto",
         "type": "bar",
         "x": [
          "RURAL HEALTH ATTENDANT & TECHNIC"
         ],
         "xaxis": "x",
         "y": [
          30000
         ],
         "yaxis": "y"
        },
        {
         "alignmentgroup": "True",
         "hovertemplate": "<b>%{hovertext}</b><br><br>labour_type=%{x}<br>Income_dist=%{y}<extra></extra>",
         "hovertext": [
          22000
         ],
         "legendgroup": "SPECIAL EDUCATION TEACHING PROF",
         "marker": {
          "color": "#FF97FF",
          "pattern": {
           "shape": ""
          }
         },
         "name": "SPECIAL EDUCATION TEACHING PROF",
         "offsetgroup": "SPECIAL EDUCATION TEACHING PROF",
         "orientation": "v",
         "showlegend": true,
         "textposition": "auto",
         "type": "bar",
         "x": [
          "SPECIAL EDUCATION TEACHING PROF"
         ],
         "xaxis": "x",
         "y": [
          22000
         ],
         "yaxis": "y"
        },
        {
         "alignmentgroup": "True",
         "hovertemplate": "<b>%{hovertext}</b><br><br>labour_type=%{x}<br>Income_dist=%{y}<extra></extra>",
         "hovertext": [
          100000
         ],
         "legendgroup": "COMMUNITY HEA;LTH CARE WORKER",
         "marker": {
          "color": "#FECB52",
          "pattern": {
           "shape": ""
          }
         },
         "name": "COMMUNITY HEA;LTH CARE WORKER",
         "offsetgroup": "COMMUNITY HEA;LTH CARE WORKER",
         "orientation": "v",
         "showlegend": true,
         "textposition": "auto",
         "type": "bar",
         "x": [
          "COMMUNITY HEA;LTH CARE WORKER"
         ],
         "xaxis": "x",
         "y": [
          100000
         ],
         "yaxis": "y"
        },
        {
         "alignmentgroup": "True",
         "hovertemplate": "<b>%{hovertext}</b><br><br>labour_type=%{x}<br>Income_dist=%{y}<extra></extra>",
         "hovertext": [
          25000
         ],
         "legendgroup": "COMMUNITYM DEVELOPMENT WORKER",
         "marker": {
          "color": "#636efa",
          "pattern": {
           "shape": ""
          }
         },
         "name": "COMMUNITYM DEVELOPMENT WORKER",
         "offsetgroup": "COMMUNITYM DEVELOPMENT WORKER",
         "orientation": "v",
         "showlegend": true,
         "textposition": "auto",
         "type": "bar",
         "x": [
          "COMMUNITYM DEVELOPMENT WORKER"
         ],
         "xaxis": "x",
         "y": [
          25000
         ],
         "yaxis": "y"
        },
        {
         "alignmentgroup": "True",
         "hovertemplate": "<b>%{hovertext}</b><br><br>labour_type=%{x}<br>Income_dist=%{y}<extra></extra>",
         "hovertext": [
          19000
         ],
         "legendgroup": "CLINICAL STAFF",
         "marker": {
          "color": "#EF553B",
          "pattern": {
           "shape": ""
          }
         },
         "name": "CLINICAL STAFF",
         "offsetgroup": "CLINICAL STAFF",
         "orientation": "v",
         "showlegend": true,
         "textposition": "auto",
         "type": "bar",
         "x": [
          "CLINICAL STAFF"
         ],
         "xaxis": "x",
         "y": [
          19000
         ],
         "yaxis": "y"
        },
        {
         "alignmentgroup": "True",
         "hovertemplate": "<b>%{hovertext}</b><br><br>labour_type=%{x}<br>Income_dist=%{y}<extra></extra>",
         "hovertext": [
          60000
         ],
         "legendgroup": "ENGINEERING TECHNICIANS",
         "marker": {
          "color": "#00cc96",
          "pattern": {
           "shape": ""
          }
         },
         "name": "ENGINEERING TECHNICIANS",
         "offsetgroup": "ENGINEERING TECHNICIANS",
         "orientation": "v",
         "showlegend": true,
         "textposition": "auto",
         "type": "bar",
         "x": [
          "ENGINEERING TECHNICIANS"
         ],
         "xaxis": "x",
         "y": [
          60000
         ],
         "yaxis": "y"
        },
        {
         "alignmentgroup": "True",
         "hovertemplate": "<b>%{hovertext}</b><br><br>labour_type=%{x}<br>Income_dist=%{y}<extra></extra>",
         "hovertext": [
          89000,
          18000
         ],
         "legendgroup": "SECONDARY SCHOOL TEACHING PROFESSION",
         "marker": {
          "color": "#ab63fa",
          "pattern": {
           "shape": ""
          }
         },
         "name": "SECONDARY SCHOOL TEACHING PROFESSION",
         "offsetgroup": "SECONDARY SCHOOL TEACHING PROFESSION",
         "orientation": "v",
         "showlegend": true,
         "textposition": "auto",
         "type": "bar",
         "x": [
          "SECONDARY SCHOOL TEACHING PROFESSION",
          "SECONDARY SCHOOL TEACHING PROFESSION"
         ],
         "xaxis": "x",
         "y": [
          89000,
          18000
         ],
         "yaxis": "y"
        },
        {
         "alignmentgroup": "True",
         "hovertemplate": "<b>%{hovertext}</b><br><br>labour_type=%{x}<br>Income_dist=%{y}<extra></extra>",
         "hovertext": [
          7000
         ],
         "legendgroup": "PRIMARY SCHOOL TEACHING PROFESSION",
         "marker": {
          "color": "#FFA15A",
          "pattern": {
           "shape": ""
          }
         },
         "name": "PRIMARY SCHOOL TEACHING PROFESSION",
         "offsetgroup": "PRIMARY SCHOOL TEACHING PROFESSION",
         "orientation": "v",
         "showlegend": true,
         "textposition": "auto",
         "type": "bar",
         "x": [
          "PRIMARY SCHOOL TEACHING PROFESSION"
         ],
         "xaxis": "x",
         "y": [
          7000
         ],
         "yaxis": "y"
        },
        {
         "alignmentgroup": "True",
         "hovertemplate": "<b>%{hovertext}</b><br><br>labour_type=%{x}<br>Income_dist=%{y}<extra></extra>",
         "hovertext": [
          79000
         ],
         "legendgroup": "HIGHCOURT STOCK & FILE TAKING",
         "marker": {
          "color": "#19d3f3",
          "pattern": {
           "shape": ""
          }
         },
         "name": "HIGHCOURT STOCK & FILE TAKING",
         "offsetgroup": "HIGHCOURT STOCK & FILE TAKING",
         "orientation": "v",
         "showlegend": true,
         "textposition": "auto",
         "type": "bar",
         "x": [
          "HIGHCOURT STOCK & FILE TAKING"
         ],
         "xaxis": "x",
         "y": [
          79000
         ],
         "yaxis": "y"
        },
        {
         "alignmentgroup": "True",
         "hovertemplate": "<b>%{hovertext}</b><br><br>labour_type=%{x}<br>Income_dist=%{y}<extra></extra>",
         "hovertext": [
          10000
         ],
         "legendgroup": "SALES OF BUILDING MATERIALS",
         "marker": {
          "color": "#FF6692",
          "pattern": {
           "shape": ""
          }
         },
         "name": "SALES OF BUILDING MATERIALS",
         "offsetgroup": "SALES OF BUILDING MATERIALS",
         "orientation": "v",
         "showlegend": true,
         "textposition": "auto",
         "type": "bar",
         "x": [
          "SALES OF BUILDING MATERIALS"
         ],
         "xaxis": "x",
         "y": [
          10000
         ],
         "yaxis": "y"
        },
        {
         "alignmentgroup": "True",
         "hovertemplate": "<b>%{hovertext}</b><br><br>labour_type=%{x}<br>Income_dist=%{y}<extra></extra>",
         "hovertext": [
          45000
         ],
         "legendgroup": "SECURITY POLICE",
         "marker": {
          "color": "#B6E880",
          "pattern": {
           "shape": ""
          }
         },
         "name": "SECURITY POLICE",
         "offsetgroup": "SECURITY POLICE",
         "orientation": "v",
         "showlegend": true,
         "textposition": "auto",
         "type": "bar",
         "x": [
          "SECURITY POLICE"
         ],
         "xaxis": "x",
         "y": [
          45000
         ],
         "yaxis": "y"
        },
        {
         "alignmentgroup": "True",
         "hovertemplate": "<b>%{hovertext}</b><br><br>labour_type=%{x}<br>Income_dist=%{y}<extra></extra>",
         "hovertext": [
          280000,
          50000,
          150000,
          180000
         ],
         "legendgroup": "LAWYER",
         "marker": {
          "color": "#FF97FF",
          "pattern": {
           "shape": ""
          }
         },
         "name": "LAWYER",
         "offsetgroup": "LAWYER",
         "orientation": "v",
         "showlegend": true,
         "textposition": "auto",
         "type": "bar",
         "x": [
          "LAWYER",
          "LAWYER",
          "LAWYER",
          "LAWYER"
         ],
         "xaxis": "x",
         "y": [
          280000,
          50000,
          150000,
          180000
         ],
         "yaxis": "y"
        },
        {
         "alignmentgroup": "True",
         "hovertemplate": "<b>%{hovertext}</b><br><br>labour_type=%{x}<br>Income_dist=%{y}<extra></extra>",
         "hovertext": [
          102
         ],
         "legendgroup": "HEAD TEACHER IN PRIMARY SCHOOL",
         "marker": {
          "color": "#FECB52",
          "pattern": {
           "shape": ""
          }
         },
         "name": "HEAD TEACHER IN PRIMARY SCHOOL",
         "offsetgroup": "HEAD TEACHER IN PRIMARY SCHOOL",
         "orientation": "v",
         "showlegend": true,
         "textposition": "auto",
         "type": "bar",
         "x": [
          "HEAD TEACHER IN PRIMARY SCHOOL"
         ],
         "xaxis": "x",
         "y": [
          102
         ],
         "yaxis": "y"
        },
        {
         "alignmentgroup": "True",
         "hovertemplate": "<b>%{hovertext}</b><br><br>labour_type=%{x}<br>Income_dist=%{y}<extra></extra>",
         "hovertext": [
          28000
         ],
         "legendgroup": "COURIER SUPERVISOR",
         "marker": {
          "color": "#636efa",
          "pattern": {
           "shape": ""
          }
         },
         "name": "COURIER SUPERVISOR",
         "offsetgroup": "COURIER SUPERVISOR",
         "orientation": "v",
         "showlegend": true,
         "textposition": "auto",
         "type": "bar",
         "x": [
          "COURIER SUPERVISOR"
         ],
         "xaxis": "x",
         "y": [
          28000
         ],
         "yaxis": "y"
        },
        {
         "alignmentgroup": "True",
         "hovertemplate": "<b>%{hovertext}</b><br><br>labour_type=%{x}<br>Income_dist=%{y}<extra></extra>",
         "hovertext": [
          80000
         ],
         "legendgroup": "NURSING IN A TEACHING HOSPITAL",
         "marker": {
          "color": "#EF553B",
          "pattern": {
           "shape": ""
          }
         },
         "name": "NURSING IN A TEACHING HOSPITAL",
         "offsetgroup": "NURSING IN A TEACHING HOSPITAL",
         "orientation": "v",
         "showlegend": true,
         "textposition": "auto",
         "type": "bar",
         "x": [
          "NURSING IN A TEACHING HOSPITAL"
         ],
         "xaxis": "x",
         "y": [
          80000
         ],
         "yaxis": "y"
        },
        {
         "alignmentgroup": "True",
         "hovertemplate": "<b>%{hovertext}</b><br><br>labour_type=%{x}<br>Income_dist=%{y}<extra></extra>",
         "hovertext": [
          40000
         ],
         "legendgroup": "UNIVERSITY PORTER",
         "marker": {
          "color": "#00cc96",
          "pattern": {
           "shape": ""
          }
         },
         "name": "UNIVERSITY PORTER",
         "offsetgroup": "UNIVERSITY PORTER",
         "orientation": "v",
         "showlegend": true,
         "textposition": "auto",
         "type": "bar",
         "x": [
          "UNIVERSITY PORTER"
         ],
         "xaxis": "x",
         "y": [
          40000
         ],
         "yaxis": "y"
        },
        {
         "alignmentgroup": "True",
         "hovertemplate": "<b>%{hovertext}</b><br><br>labour_type=%{x}<br>Income_dist=%{y}<extra></extra>",
         "hovertext": [
          22000
         ],
         "legendgroup": "CLERICAL OFFICER IN THE LGA",
         "marker": {
          "color": "#ab63fa",
          "pattern": {
           "shape": ""
          }
         },
         "name": "CLERICAL OFFICER IN THE LGA",
         "offsetgroup": "CLERICAL OFFICER IN THE LGA",
         "orientation": "v",
         "showlegend": true,
         "textposition": "auto",
         "type": "bar",
         "x": [
          "CLERICAL OFFICER IN THE LGA"
         ],
         "xaxis": "x",
         "y": [
          22000
         ],
         "yaxis": "y"
        },
        {
         "alignmentgroup": "True",
         "hovertemplate": "<b>%{hovertext}</b><br><br>labour_type=%{x}<br>Income_dist=%{y}<extra></extra>",
         "hovertext": [
          3500
         ],
         "legendgroup": "PRIVATE SCHOOL TEACHER PRIMARY",
         "marker": {
          "color": "#FFA15A",
          "pattern": {
           "shape": ""
          }
         },
         "name": "PRIVATE SCHOOL TEACHER PRIMARY",
         "offsetgroup": "PRIVATE SCHOOL TEACHER PRIMARY",
         "orientation": "v",
         "showlegend": true,
         "textposition": "auto",
         "type": "bar",
         "x": [
          "PRIVATE SCHOOL TEACHER PRIMARY"
         ],
         "xaxis": "x",
         "y": [
          3500
         ],
         "yaxis": "y"
        },
        {
         "alignmentgroup": "True",
         "hovertemplate": "<b>%{hovertext}</b><br><br>labour_type=%{x}<br>Income_dist=%{y}<extra></extra>",
         "hovertext": [
          60000
         ],
         "legendgroup": "MAIVAGER IN AGRICULTURE",
         "marker": {
          "color": "#19d3f3",
          "pattern": {
           "shape": ""
          }
         },
         "name": "MAIVAGER IN AGRICULTURE",
         "offsetgroup": "MAIVAGER IN AGRICULTURE",
         "orientation": "v",
         "showlegend": true,
         "textposition": "auto",
         "type": "bar",
         "x": [
          "MAIVAGER IN AGRICULTURE"
         ],
         "xaxis": "x",
         "y": [
          60000
         ],
         "yaxis": "y"
        },
        {
         "alignmentgroup": "True",
         "hovertemplate": "<b>%{hovertext}</b><br><br>labour_type=%{x}<br>Income_dist=%{y}<extra></extra>",
         "hovertext": [
          80000,
          19000,
          60000
         ],
         "legendgroup": "STORE KEEPER",
         "marker": {
          "color": "#FF6692",
          "pattern": {
           "shape": ""
          }
         },
         "name": "STORE KEEPER",
         "offsetgroup": "STORE KEEPER",
         "orientation": "v",
         "showlegend": true,
         "textposition": "auto",
         "type": "bar",
         "x": [
          "STORE KEEPER",
          "STORE KEEPER",
          "STORE KEEPER"
         ],
         "xaxis": "x",
         "y": [
          80000,
          19000,
          60000
         ],
         "yaxis": "y"
        },
        {
         "alignmentgroup": "True",
         "hovertemplate": "<b>%{hovertext}</b><br><br>labour_type=%{x}<br>Income_dist=%{y}<extra></extra>",
         "hovertext": [
          25000
         ],
         "legendgroup": "DEPUTY MATRON",
         "marker": {
          "color": "#B6E880",
          "pattern": {
           "shape": ""
          }
         },
         "name": "DEPUTY MATRON",
         "offsetgroup": "DEPUTY MATRON",
         "orientation": "v",
         "showlegend": true,
         "textposition": "auto",
         "type": "bar",
         "x": [
          "DEPUTY MATRON"
         ],
         "xaxis": "x",
         "y": [
          25000
         ],
         "yaxis": "y"
        },
        {
         "alignmentgroup": "True",
         "hovertemplate": "<b>%{hovertext}</b><br><br>labour_type=%{x}<br>Income_dist=%{y}<extra></extra>",
         "hovertext": [
          20000
         ],
         "legendgroup": "COMMERCIAL DRIVER",
         "marker": {
          "color": "#FF97FF",
          "pattern": {
           "shape": ""
          }
         },
         "name": "COMMERCIAL DRIVER",
         "offsetgroup": "COMMERCIAL DRIVER",
         "orientation": "v",
         "showlegend": true,
         "textposition": "auto",
         "type": "bar",
         "x": [
          "COMMERCIAL DRIVER"
         ],
         "xaxis": "x",
         "y": [
          20000
         ],
         "yaxis": "y"
        },
        {
         "alignmentgroup": "True",
         "hovertemplate": "<b>%{hovertext}</b><br><br>labour_type=%{x}<br>Income_dist=%{y}<extra></extra>",
         "hovertext": [
          20000
         ],
         "legendgroup": "TEACHER PRIMARY SCHOOL",
         "marker": {
          "color": "#FECB52",
          "pattern": {
           "shape": ""
          }
         },
         "name": "TEACHER PRIMARY SCHOOL",
         "offsetgroup": "TEACHER PRIMARY SCHOOL",
         "orientation": "v",
         "showlegend": true,
         "textposition": "auto",
         "type": "bar",
         "x": [
          "TEACHER PRIMARY SCHOOL"
         ],
         "xaxis": "x",
         "y": [
          20000
         ],
         "yaxis": "y"
        },
        {
         "alignmentgroup": "True",
         "hovertemplate": "<b>%{hovertext}</b><br><br>labour_type=%{x}<br>Income_dist=%{y}<extra></extra>",
         "hovertext": [
          20000
         ],
         "legendgroup": "DRIVES 911 TRUCK",
         "marker": {
          "color": "#636efa",
          "pattern": {
           "shape": ""
          }
         },
         "name": "DRIVES 911 TRUCK",
         "offsetgroup": "DRIVES 911 TRUCK",
         "orientation": "v",
         "showlegend": true,
         "textposition": "auto",
         "type": "bar",
         "x": [
          "DRIVES 911 TRUCK"
         ],
         "xaxis": "x",
         "y": [
          20000
         ],
         "yaxis": "y"
        },
        {
         "alignmentgroup": "True",
         "hovertemplate": "<b>%{hovertext}</b><br><br>labour_type=%{x}<br>Income_dist=%{y}<extra></extra>",
         "hovertext": [
          25000
         ],
         "legendgroup": "MARKETING/SALES IN MICROFINANCE BANK",
         "marker": {
          "color": "#EF553B",
          "pattern": {
           "shape": ""
          }
         },
         "name": "MARKETING/SALES IN MICROFINANCE BANK",
         "offsetgroup": "MARKETING/SALES IN MICROFINANCE BANK",
         "orientation": "v",
         "showlegend": true,
         "textposition": "auto",
         "type": "bar",
         "x": [
          "MARKETING/SALES IN MICROFINANCE BANK"
         ],
         "xaxis": "x",
         "y": [
          25000
         ],
         "yaxis": "y"
        },
        {
         "alignmentgroup": "True",
         "hovertemplate": "<b>%{hovertext}</b><br><br>labour_type=%{x}<br>Income_dist=%{y}<extra></extra>",
         "hovertext": [
          22000
         ],
         "legendgroup": "MARKETING IN MICROFINANCE BANK",
         "marker": {
          "color": "#00cc96",
          "pattern": {
           "shape": ""
          }
         },
         "name": "MARKETING IN MICROFINANCE BANK",
         "offsetgroup": "MARKETING IN MICROFINANCE BANK",
         "orientation": "v",
         "showlegend": true,
         "textposition": "auto",
         "type": "bar",
         "x": [
          "MARKETING IN MICROFINANCE BANK"
         ],
         "xaxis": "x",
         "y": [
          22000
         ],
         "yaxis": "y"
        },
        {
         "alignmentgroup": "True",
         "hovertemplate": "<b>%{hovertext}</b><br><br>labour_type=%{x}<br>Income_dist=%{y}<extra></extra>",
         "hovertext": [
          20000
         ],
         "legendgroup": "BLOCK MOULDING ACTIVITIES",
         "marker": {
          "color": "#ab63fa",
          "pattern": {
           "shape": ""
          }
         },
         "name": "BLOCK MOULDING ACTIVITIES",
         "offsetgroup": "BLOCK MOULDING ACTIVITIES",
         "orientation": "v",
         "showlegend": true,
         "textposition": "auto",
         "type": "bar",
         "x": [
          "BLOCK MOULDING ACTIVITIES"
         ],
         "xaxis": "x",
         "y": [
          20000
         ],
         "yaxis": "y"
        },
        {
         "alignmentgroup": "True",
         "hovertemplate": "<b>%{hovertext}</b><br><br>labour_type=%{x}<br>Income_dist=%{y}<extra></extra>",
         "hovertext": [
          43779
         ],
         "legendgroup": "CIVIL SERVANT (LOCAL GOVERNMENT)",
         "marker": {
          "color": "#FFA15A",
          "pattern": {
           "shape": ""
          }
         },
         "name": "CIVIL SERVANT (LOCAL GOVERNMENT)",
         "offsetgroup": "CIVIL SERVANT (LOCAL GOVERNMENT)",
         "orientation": "v",
         "showlegend": true,
         "textposition": "auto",
         "type": "bar",
         "x": [
          "CIVIL SERVANT (LOCAL GOVERNMENT)"
         ],
         "xaxis": "x",
         "y": [
          43779
         ],
         "yaxis": "y"
        },
        {
         "alignmentgroup": "True",
         "hovertemplate": "<b>%{hovertext}</b><br><br>labour_type=%{x}<br>Income_dist=%{y}<extra></extra>",
         "hovertext": [
          1000
         ],
         "legendgroup": "BRICK LAYING",
         "marker": {
          "color": "#19d3f3",
          "pattern": {
           "shape": ""
          }
         },
         "name": "BRICK LAYING",
         "offsetgroup": "BRICK LAYING",
         "orientation": "v",
         "showlegend": true,
         "textposition": "auto",
         "type": "bar",
         "x": [
          "BRICK LAYING"
         ],
         "xaxis": "x",
         "y": [
          1000
         ],
         "yaxis": "y"
        },
        {
         "alignmentgroup": "True",
         "hovertemplate": "<b>%{hovertext}</b><br><br>labour_type=%{x}<br>Income_dist=%{y}<extra></extra>",
         "hovertext": [
          6000
         ],
         "legendgroup": "TEACHING IN A PRIVATE SCHOOL",
         "marker": {
          "color": "#FF6692",
          "pattern": {
           "shape": ""
          }
         },
         "name": "TEACHING IN A PRIVATE SCHOOL",
         "offsetgroup": "TEACHING IN A PRIVATE SCHOOL",
         "orientation": "v",
         "showlegend": true,
         "textposition": "auto",
         "type": "bar",
         "x": [
          "TEACHING IN A PRIVATE SCHOOL"
         ],
         "xaxis": "x",
         "y": [
          6000
         ],
         "yaxis": "y"
        },
        {
         "alignmentgroup": "True",
         "hovertemplate": "<b>%{hovertext}</b><br><br>labour_type=%{x}<br>Income_dist=%{y}<extra></extra>",
         "hovertext": [
          2500
         ],
         "legendgroup": "BLOCK MOULDING",
         "marker": {
          "color": "#B6E880",
          "pattern": {
           "shape": ""
          }
         },
         "name": "BLOCK MOULDING",
         "offsetgroup": "BLOCK MOULDING",
         "orientation": "v",
         "showlegend": true,
         "textposition": "auto",
         "type": "bar",
         "x": [
          "BLOCK MOULDING"
         ],
         "xaxis": "x",
         "y": [
          2500
         ],
         "yaxis": "y"
        },
        {
         "alignmentgroup": "True",
         "hovertemplate": "<b>%{hovertext}</b><br><br>labour_type=%{x}<br>Income_dist=%{y}<extra></extra>",
         "hovertext": [
          120000,
          110000
         ],
         "legendgroup": "NIGERIAN PRISONS",
         "marker": {
          "color": "#FF97FF",
          "pattern": {
           "shape": ""
          }
         },
         "name": "NIGERIAN PRISONS",
         "offsetgroup": "NIGERIAN PRISONS",
         "orientation": "v",
         "showlegend": true,
         "textposition": "auto",
         "type": "bar",
         "x": [
          "NIGERIAN PRISONS",
          "NIGERIAN PRISONS"
         ],
         "xaxis": "x",
         "y": [
          120000,
          110000
         ],
         "yaxis": "y"
        },
        {
         "alignmentgroup": "True",
         "hovertemplate": "<b>%{hovertext}</b><br><br>labour_type=%{x}<br>Income_dist=%{y}<extra></extra>",
         "hovertext": [
          22000
         ],
         "legendgroup": "CIVIL SERVANT (CLERICAL OFFICER)",
         "marker": {
          "color": "#FECB52",
          "pattern": {
           "shape": ""
          }
         },
         "name": "CIVIL SERVANT (CLERICAL OFFICER)",
         "offsetgroup": "CIVIL SERVANT (CLERICAL OFFICER)",
         "orientation": "v",
         "showlegend": true,
         "textposition": "auto",
         "type": "bar",
         "x": [
          "CIVIL SERVANT (CLERICAL OFFICER)"
         ],
         "xaxis": "x",
         "y": [
          22000
         ],
         "yaxis": "y"
        },
        {
         "alignmentgroup": "True",
         "hovertemplate": "<b>%{hovertext}</b><br><br>labour_type=%{x}<br>Income_dist=%{y}<extra></extra>",
         "hovertext": [
          20000
         ],
         "legendgroup": "MANAGER IN COLD ROOM STORE",
         "marker": {
          "color": "#636efa",
          "pattern": {
           "shape": ""
          }
         },
         "name": "MANAGER IN COLD ROOM STORE",
         "offsetgroup": "MANAGER IN COLD ROOM STORE",
         "orientation": "v",
         "showlegend": true,
         "textposition": "auto",
         "type": "bar",
         "x": [
          "MANAGER IN COLD ROOM STORE"
         ],
         "xaxis": "x",
         "y": [
          20000
         ],
         "yaxis": "y"
        },
        {
         "alignmentgroup": "True",
         "hovertemplate": "<b>%{hovertext}</b><br><br>labour_type=%{x}<br>Income_dist=%{y}<extra></extra>",
         "hovertext": [
          350000
         ],
         "legendgroup": "DEPUTY REGISTARY IN FUTO",
         "marker": {
          "color": "#EF553B",
          "pattern": {
           "shape": ""
          }
         },
         "name": "DEPUTY REGISTARY IN FUTO",
         "offsetgroup": "DEPUTY REGISTARY IN FUTO",
         "orientation": "v",
         "showlegend": true,
         "textposition": "auto",
         "type": "bar",
         "x": [
          "DEPUTY REGISTARY IN FUTO"
         ],
         "xaxis": "x",
         "y": [
          350000
         ],
         "yaxis": "y"
        },
        {
         "alignmentgroup": "True",
         "hovertemplate": "<b>%{hovertext}</b><br><br>labour_type=%{x}<br>Income_dist=%{y}<extra></extra>",
         "hovertext": [
          300000
         ],
         "legendgroup": "LAWYER IN MINISTRY OF JUSTICE",
         "marker": {
          "color": "#00cc96",
          "pattern": {
           "shape": ""
          }
         },
         "name": "LAWYER IN MINISTRY OF JUSTICE",
         "offsetgroup": "LAWYER IN MINISTRY OF JUSTICE",
         "orientation": "v",
         "showlegend": true,
         "textposition": "auto",
         "type": "bar",
         "x": [
          "LAWYER IN MINISTRY OF JUSTICE"
         ],
         "xaxis": "x",
         "y": [
          300000
         ],
         "yaxis": "y"
        },
        {
         "alignmentgroup": "True",
         "hovertemplate": "<b>%{hovertext}</b><br><br>labour_type=%{x}<br>Income_dist=%{y}<extra></extra>",
         "hovertext": [
          20000,
          20000
         ],
         "legendgroup": "MESSENGER",
         "marker": {
          "color": "#ab63fa",
          "pattern": {
           "shape": ""
          }
         },
         "name": "MESSENGER",
         "offsetgroup": "MESSENGER",
         "orientation": "v",
         "showlegend": true,
         "textposition": "auto",
         "type": "bar",
         "x": [
          "MESSENGER",
          "MESSENGER"
         ],
         "xaxis": "x",
         "y": [
          20000,
          20000
         ],
         "yaxis": "y"
        },
        {
         "alignmentgroup": "True",
         "hovertemplate": "<b>%{hovertext}</b><br><br>labour_type=%{x}<br>Income_dist=%{y}<extra></extra>",
         "hovertext": [
          100000
         ],
         "legendgroup": "INSPECTOR PRISONS",
         "marker": {
          "color": "#FFA15A",
          "pattern": {
           "shape": ""
          }
         },
         "name": "INSPECTOR PRISONS",
         "offsetgroup": "INSPECTOR PRISONS",
         "orientation": "v",
         "showlegend": true,
         "textposition": "auto",
         "type": "bar",
         "x": [
          "INSPECTOR PRISONS"
         ],
         "xaxis": "x",
         "y": [
          100000
         ],
         "yaxis": "y"
        },
        {
         "alignmentgroup": "True",
         "hovertemplate": "<b>%{hovertext}</b><br><br>labour_type=%{x}<br>Income_dist=%{y}<extra></extra>",
         "hovertext": [
          30000
         ],
         "legendgroup": "MANAGER IN A BAKERY COMPANUY",
         "marker": {
          "color": "#19d3f3",
          "pattern": {
           "shape": ""
          }
         },
         "name": "MANAGER IN A BAKERY COMPANUY",
         "offsetgroup": "MANAGER IN A BAKERY COMPANUY",
         "orientation": "v",
         "showlegend": true,
         "textposition": "auto",
         "type": "bar",
         "x": [
          "MANAGER IN A BAKERY COMPANUY"
         ],
         "xaxis": "x",
         "y": [
          30000
         ],
         "yaxis": "y"
        },
        {
         "alignmentgroup": "True",
         "hovertemplate": "<b>%{hovertext}</b><br><br>labour_type=%{x}<br>Income_dist=%{y}<extra></extra>",
         "hovertext": [
          7000
         ],
         "legendgroup": "BUS DRIVER BREAD INDUSTRY",
         "marker": {
          "color": "#FF6692",
          "pattern": {
           "shape": ""
          }
         },
         "name": "BUS DRIVER BREAD INDUSTRY",
         "offsetgroup": "BUS DRIVER BREAD INDUSTRY",
         "orientation": "v",
         "showlegend": true,
         "textposition": "auto",
         "type": "bar",
         "x": [
          "BUS DRIVER BREAD INDUSTRY"
         ],
         "xaxis": "x",
         "y": [
          7000
         ],
         "yaxis": "y"
        },
        {
         "alignmentgroup": "True",
         "hovertemplate": "<b>%{hovertext}</b><br><br>labour_type=%{x}<br>Income_dist=%{y}<extra></extra>",
         "hovertext": [
          10000
         ],
         "legendgroup": "TEACHING IN A PRIVATE SECONDARY SCHOOL",
         "marker": {
          "color": "#B6E880",
          "pattern": {
           "shape": ""
          }
         },
         "name": "TEACHING IN A PRIVATE SECONDARY SCHOOL",
         "offsetgroup": "TEACHING IN A PRIVATE SECONDARY SCHOOL",
         "orientation": "v",
         "showlegend": true,
         "textposition": "auto",
         "type": "bar",
         "x": [
          "TEACHING IN A PRIVATE SECONDARY SCHOOL"
         ],
         "xaxis": "x",
         "y": [
          10000
         ],
         "yaxis": "y"
        },
        {
         "alignmentgroup": "True",
         "hovertemplate": "<b>%{hovertext}</b><br><br>labour_type=%{x}<br>Income_dist=%{y}<extra></extra>",
         "hovertext": [
          20000
         ],
         "legendgroup": "SECURITY WORKER (IMO COMMUNITY WATCH)",
         "marker": {
          "color": "#FF97FF",
          "pattern": {
           "shape": ""
          }
         },
         "name": "SECURITY WORKER (IMO COMMUNITY WATCH)",
         "offsetgroup": "SECURITY WORKER (IMO COMMUNITY WATCH)",
         "orientation": "v",
         "showlegend": true,
         "textposition": "auto",
         "type": "bar",
         "x": [
          "SECURITY WORKER (IMO COMMUNITY WATCH)"
         ],
         "xaxis": "x",
         "y": [
          20000
         ],
         "yaxis": "y"
        },
        {
         "alignmentgroup": "True",
         "hovertemplate": "<b>%{hovertext}</b><br><br>labour_type=%{x}<br>Income_dist=%{y}<extra></extra>",
         "hovertext": [
          25000
         ],
         "legendgroup": "SWEEPERS LABOURER",
         "marker": {
          "color": "#FECB52",
          "pattern": {
           "shape": ""
          }
         },
         "name": "SWEEPERS LABOURER",
         "offsetgroup": "SWEEPERS LABOURER",
         "orientation": "v",
         "showlegend": true,
         "textposition": "auto",
         "type": "bar",
         "x": [
          "SWEEPERS LABOURER"
         ],
         "xaxis": "x",
         "y": [
          25000
         ],
         "yaxis": "y"
        },
        {
         "alignmentgroup": "True",
         "hovertemplate": "<b>%{hovertext}</b><br><br>labour_type=%{x}<br>Income_dist=%{y}<extra></extra>",
         "hovertext": [
          30000
         ],
         "legendgroup": "ADMINISTRATIVE",
         "marker": {
          "color": "#636efa",
          "pattern": {
           "shape": ""
          }
         },
         "name": "ADMINISTRATIVE",
         "offsetgroup": "ADMINISTRATIVE",
         "orientation": "v",
         "showlegend": true,
         "textposition": "auto",
         "type": "bar",
         "x": [
          "ADMINISTRATIVE"
         ],
         "xaxis": "x",
         "y": [
          30000
         ],
         "yaxis": "y"
        },
        {
         "alignmentgroup": "True",
         "hovertemplate": "<b>%{hovertext}</b><br><br>labour_type=%{x}<br>Income_dist=%{y}<extra></extra>",
         "hovertext": [
          15000
         ],
         "legendgroup": "PRIVATE SECURITY GURDS",
         "marker": {
          "color": "#EF553B",
          "pattern": {
           "shape": ""
          }
         },
         "name": "PRIVATE SECURITY GURDS",
         "offsetgroup": "PRIVATE SECURITY GURDS",
         "orientation": "v",
         "showlegend": true,
         "textposition": "auto",
         "type": "bar",
         "x": [
          "PRIVATE SECURITY GURDS"
         ],
         "xaxis": "x",
         "y": [
          15000
         ],
         "yaxis": "y"
        },
        {
         "alignmentgroup": "True",
         "hovertemplate": "<b>%{hovertext}</b><br><br>labour_type=%{x}<br>Income_dist=%{y}<extra></extra>",
         "hovertext": [
          20000
         ],
         "legendgroup": "WATER PUMP OPERATOR",
         "marker": {
          "color": "#00cc96",
          "pattern": {
           "shape": ""
          }
         },
         "name": "WATER PUMP OPERATOR",
         "offsetgroup": "WATER PUMP OPERATOR",
         "orientation": "v",
         "showlegend": true,
         "textposition": "auto",
         "type": "bar",
         "x": [
          "WATER PUMP OPERATOR"
         ],
         "xaxis": "x",
         "y": [
          20000
         ],
         "yaxis": "y"
        },
        {
         "alignmentgroup": "True",
         "hovertemplate": "<b>%{hovertext}</b><br><br>labour_type=%{x}<br>Income_dist=%{y}<extra></extra>",
         "hovertext": [
          30000
         ],
         "legendgroup": "BUYING & SELLING OF CARS",
         "marker": {
          "color": "#ab63fa",
          "pattern": {
           "shape": ""
          }
         },
         "name": "BUYING & SELLING OF CARS",
         "offsetgroup": "BUYING & SELLING OF CARS",
         "orientation": "v",
         "showlegend": true,
         "textposition": "auto",
         "type": "bar",
         "x": [
          "BUYING & SELLING OF CARS"
         ],
         "xaxis": "x",
         "y": [
          30000
         ],
         "yaxis": "y"
        },
        {
         "alignmentgroup": "True",
         "hovertemplate": "<b>%{hovertext}</b><br><br>labour_type=%{x}<br>Income_dist=%{y}<extra></extra>",
         "hovertext": [
          1500,
          1500
         ],
         "legendgroup": "CAP WASHING",
         "marker": {
          "color": "#FFA15A",
          "pattern": {
           "shape": ""
          }
         },
         "name": "CAP WASHING",
         "offsetgroup": "CAP WASHING",
         "orientation": "v",
         "showlegend": true,
         "textposition": "auto",
         "type": "bar",
         "x": [
          "CAP WASHING",
          "CAP WASHING"
         ],
         "xaxis": "x",
         "y": [
          1500,
          1500
         ],
         "yaxis": "y"
        },
        {
         "alignmentgroup": "True",
         "hovertemplate": "<b>%{hovertext}</b><br><br>labour_type=%{x}<br>Income_dist=%{y}<extra></extra>",
         "hovertext": [
          1000
         ],
         "legendgroup": "CARPENTARY CHAIRS , BED",
         "marker": {
          "color": "#19d3f3",
          "pattern": {
           "shape": ""
          }
         },
         "name": "CARPENTARY CHAIRS , BED",
         "offsetgroup": "CARPENTARY CHAIRS , BED",
         "orientation": "v",
         "showlegend": true,
         "textposition": "auto",
         "type": "bar",
         "x": [
          "CARPENTARY CHAIRS , BED"
         ],
         "xaxis": "x",
         "y": [
          1000
         ],
         "yaxis": "y"
        },
        {
         "alignmentgroup": "True",
         "hovertemplate": "<b>%{hovertext}</b><br><br>labour_type=%{x}<br>Income_dist=%{y}<extra></extra>",
         "hovertext": [
          1000
         ],
         "legendgroup": "CARPENTARY CHAIRS BED",
         "marker": {
          "color": "#FF6692",
          "pattern": {
           "shape": ""
          }
         },
         "name": "CARPENTARY CHAIRS BED",
         "offsetgroup": "CARPENTARY CHAIRS BED",
         "orientation": "v",
         "showlegend": true,
         "textposition": "auto",
         "type": "bar",
         "x": [
          "CARPENTARY CHAIRS BED"
         ],
         "xaxis": "x",
         "y": [
          1000
         ],
         "yaxis": "y"
        },
        {
         "alignmentgroup": "True",
         "hovertemplate": "<b>%{hovertext}</b><br><br>labour_type=%{x}<br>Income_dist=%{y}<extra></extra>",
         "hovertext": [
          30000
         ],
         "legendgroup": "BUYING SELLING OF ANIMALS",
         "marker": {
          "color": "#B6E880",
          "pattern": {
           "shape": ""
          }
         },
         "name": "BUYING SELLING OF ANIMALS",
         "offsetgroup": "BUYING SELLING OF ANIMALS",
         "orientation": "v",
         "showlegend": true,
         "textposition": "auto",
         "type": "bar",
         "x": [
          "BUYING SELLING OF ANIMALS"
         ],
         "xaxis": "x",
         "y": [
          30000
         ],
         "yaxis": "y"
        },
        {
         "alignmentgroup": "True",
         "hovertemplate": "<b>%{hovertext}</b><br><br>labour_type=%{x}<br>Income_dist=%{y}<extra></extra>",
         "hovertext": [
          20000
         ],
         "legendgroup": "MEDICAL PERSONEL (NURSING)",
         "marker": {
          "color": "#FF97FF",
          "pattern": {
           "shape": ""
          }
         },
         "name": "MEDICAL PERSONEL (NURSING)",
         "offsetgroup": "MEDICAL PERSONEL (NURSING)",
         "orientation": "v",
         "showlegend": true,
         "textposition": "auto",
         "type": "bar",
         "x": [
          "MEDICAL PERSONEL (NURSING)"
         ],
         "xaxis": "x",
         "y": [
          20000
         ],
         "yaxis": "y"
        },
        {
         "alignmentgroup": "True",
         "hovertemplate": "<b>%{hovertext}</b><br><br>labour_type=%{x}<br>Income_dist=%{y}<extra></extra>",
         "hovertext": [
          65000
         ],
         "legendgroup": "PROTOCOL DUTIES",
         "marker": {
          "color": "#FECB52",
          "pattern": {
           "shape": ""
          }
         },
         "name": "PROTOCOL DUTIES",
         "offsetgroup": "PROTOCOL DUTIES",
         "orientation": "v",
         "showlegend": true,
         "textposition": "auto",
         "type": "bar",
         "x": [
          "PROTOCOL DUTIES"
         ],
         "xaxis": "x",
         "y": [
          65000
         ],
         "yaxis": "y"
        },
        {
         "alignmentgroup": "True",
         "hovertemplate": "<b>%{hovertext}</b><br><br>labour_type=%{x}<br>Income_dist=%{y}<extra></extra>",
         "hovertext": [
          80000,
          3895018,
          50000
         ],
         "legendgroup": "ELECTRICIAN",
         "marker": {
          "color": "#636efa",
          "pattern": {
           "shape": ""
          }
         },
         "name": "ELECTRICIAN",
         "offsetgroup": "ELECTRICIAN",
         "orientation": "v",
         "showlegend": true,
         "textposition": "auto",
         "type": "bar",
         "x": [
          "ELECTRICIAN",
          "ELECTRICIAN",
          "ELECTRICIAN"
         ],
         "xaxis": "x",
         "y": [
          80000,
          3895018,
          50000
         ],
         "yaxis": "y"
        },
        {
         "alignmentgroup": "True",
         "hovertemplate": "<b>%{hovertext}</b><br><br>labour_type=%{x}<br>Income_dist=%{y}<extra></extra>",
         "hovertext": [
          25000
         ],
         "legendgroup": "SUPERVISOR (FCE) EDUCATION",
         "marker": {
          "color": "#EF553B",
          "pattern": {
           "shape": ""
          }
         },
         "name": "SUPERVISOR (FCE) EDUCATION",
         "offsetgroup": "SUPERVISOR (FCE) EDUCATION",
         "orientation": "v",
         "showlegend": true,
         "textposition": "auto",
         "type": "bar",
         "x": [
          "SUPERVISOR (FCE) EDUCATION"
         ],
         "xaxis": "x",
         "y": [
          25000
         ],
         "yaxis": "y"
        },
        {
         "alignmentgroup": "True",
         "hovertemplate": "<b>%{hovertext}</b><br><br>labour_type=%{x}<br>Income_dist=%{y}<extra></extra>",
         "hovertext": [
          30000
         ],
         "legendgroup": "UNICEF (SUPERVISOR HEALTH)",
         "marker": {
          "color": "#00cc96",
          "pattern": {
           "shape": ""
          }
         },
         "name": "UNICEF (SUPERVISOR HEALTH)",
         "offsetgroup": "UNICEF (SUPERVISOR HEALTH)",
         "orientation": "v",
         "showlegend": true,
         "textposition": "auto",
         "type": "bar",
         "x": [
          "UNICEF (SUPERVISOR HEALTH)"
         ],
         "xaxis": "x",
         "y": [
          30000
         ],
         "yaxis": "y"
        },
        {
         "alignmentgroup": "True",
         "hovertemplate": "<b>%{hovertext}</b><br><br>labour_type=%{x}<br>Income_dist=%{y}<extra></extra>",
         "hovertext": [
          15000
         ],
         "legendgroup": "SELLING CLOTH",
         "marker": {
          "color": "#ab63fa",
          "pattern": {
           "shape": ""
          }
         },
         "name": "SELLING CLOTH",
         "offsetgroup": "SELLING CLOTH",
         "orientation": "v",
         "showlegend": true,
         "textposition": "auto",
         "type": "bar",
         "x": [
          "SELLING CLOTH"
         ],
         "xaxis": "x",
         "y": [
          15000
         ],
         "yaxis": "y"
        },
        {
         "alignmentgroup": "True",
         "hovertemplate": "<b>%{hovertext}</b><br><br>labour_type=%{x}<br>Income_dist=%{y}<extra></extra>",
         "hovertext": [
          30000
         ],
         "legendgroup": "CLASS TEACHER",
         "marker": {
          "color": "#FFA15A",
          "pattern": {
           "shape": ""
          }
         },
         "name": "CLASS TEACHER",
         "offsetgroup": "CLASS TEACHER",
         "orientation": "v",
         "showlegend": true,
         "textposition": "auto",
         "type": "bar",
         "x": [
          "CLASS TEACHER"
         ],
         "xaxis": "x",
         "y": [
          30000
         ],
         "yaxis": "y"
        },
        {
         "alignmentgroup": "True",
         "hovertemplate": "<b>%{hovertext}</b><br><br>labour_type=%{x}<br>Income_dist=%{y}<extra></extra>",
         "hovertext": [
          13000
         ],
         "legendgroup": "CLEANER HEALTH",
         "marker": {
          "color": "#19d3f3",
          "pattern": {
           "shape": ""
          }
         },
         "name": "CLEANER HEALTH",
         "offsetgroup": "CLEANER HEALTH",
         "orientation": "v",
         "showlegend": true,
         "textposition": "auto",
         "type": "bar",
         "x": [
          "CLEANER HEALTH"
         ],
         "xaxis": "x",
         "y": [
          13000
         ],
         "yaxis": "y"
        },
        {
         "alignmentgroup": "True",
         "hovertemplate": "<b>%{hovertext}</b><br><br>labour_type=%{x}<br>Income_dist=%{y}<extra></extra>",
         "hovertext": [
          10000
         ],
         "legendgroup": "SECURITY WATCH MAN",
         "marker": {
          "color": "#FF6692",
          "pattern": {
           "shape": ""
          }
         },
         "name": "SECURITY WATCH MAN",
         "offsetgroup": "SECURITY WATCH MAN",
         "orientation": "v",
         "showlegend": true,
         "textposition": "auto",
         "type": "bar",
         "x": [
          "SECURITY WATCH MAN"
         ],
         "xaxis": "x",
         "y": [
          10000
         ],
         "yaxis": "y"
        },
        {
         "alignmentgroup": "True",
         "hovertemplate": "<b>%{hovertext}</b><br><br>labour_type=%{x}<br>Income_dist=%{y}<extra></extra>",
         "hovertext": [
          80000
         ],
         "legendgroup": "ELECTRICAL FITTERS",
         "marker": {
          "color": "#B6E880",
          "pattern": {
           "shape": ""
          }
         },
         "name": "ELECTRICAL FITTERS",
         "offsetgroup": "ELECTRICAL FITTERS",
         "orientation": "v",
         "showlegend": true,
         "textposition": "auto",
         "type": "bar",
         "x": [
          "ELECTRICAL FITTERS"
         ],
         "xaxis": "x",
         "y": [
          80000
         ],
         "yaxis": "y"
        },
        {
         "alignmentgroup": "True",
         "hovertemplate": "<b>%{hovertext}</b><br><br>labour_type=%{x}<br>Income_dist=%{y}<extra></extra>",
         "hovertext": [
          17000
         ],
         "legendgroup": "SECURITY(WATCHMAN)",
         "marker": {
          "color": "#FF97FF",
          "pattern": {
           "shape": ""
          }
         },
         "name": "SECURITY(WATCHMAN)",
         "offsetgroup": "SECURITY(WATCHMAN)",
         "orientation": "v",
         "showlegend": true,
         "textposition": "auto",
         "type": "bar",
         "x": [
          "SECURITY(WATCHMAN)"
         ],
         "xaxis": "x",
         "y": [
          17000
         ],
         "yaxis": "y"
        },
        {
         "alignmentgroup": "True",
         "hovertemplate": "<b>%{hovertext}</b><br><br>labour_type=%{x}<br>Income_dist=%{y}<extra></extra>",
         "hovertext": [
          30000,
          22000
         ],
         "legendgroup": "SECURITY JOB",
         "marker": {
          "color": "#FECB52",
          "pattern": {
           "shape": ""
          }
         },
         "name": "SECURITY JOB",
         "offsetgroup": "SECURITY JOB",
         "orientation": "v",
         "showlegend": true,
         "textposition": "auto",
         "type": "bar",
         "x": [
          "SECURITY JOB",
          "SECURITY JOB"
         ],
         "xaxis": "x",
         "y": [
          30000,
          22000
         ],
         "yaxis": "y"
        },
        {
         "alignmentgroup": "True",
         "hovertemplate": "<b>%{hovertext}</b><br><br>labour_type=%{x}<br>Income_dist=%{y}<extra></extra>",
         "hovertext": [
          600
         ],
         "legendgroup": "OKADA RIDER (COMMERCIAL)",
         "marker": {
          "color": "#636efa",
          "pattern": {
           "shape": ""
          }
         },
         "name": "OKADA RIDER (COMMERCIAL)",
         "offsetgroup": "OKADA RIDER (COMMERCIAL)",
         "orientation": "v",
         "showlegend": true,
         "textposition": "auto",
         "type": "bar",
         "x": [
          "OKADA RIDER (COMMERCIAL)"
         ],
         "xaxis": "x",
         "y": [
          600
         ],
         "yaxis": "y"
        },
        {
         "alignmentgroup": "True",
         "hovertemplate": "<b>%{hovertext}</b><br><br>labour_type=%{x}<br>Income_dist=%{y}<extra></extra>",
         "hovertext": [
          88000,
          75000
         ],
         "legendgroup": "COLLEGE LECTURER",
         "marker": {
          "color": "#EF553B",
          "pattern": {
           "shape": ""
          }
         },
         "name": "COLLEGE LECTURER",
         "offsetgroup": "COLLEGE LECTURER",
         "orientation": "v",
         "showlegend": true,
         "textposition": "auto",
         "type": "bar",
         "x": [
          "COLLEGE LECTURER",
          "COLLEGE LECTURER"
         ],
         "xaxis": "x",
         "y": [
          88000,
          75000
         ],
         "yaxis": "y"
        },
        {
         "alignmentgroup": "True",
         "hovertemplate": "<b>%{hovertext}</b><br><br>labour_type=%{x}<br>Income_dist=%{y}<extra></extra>",
         "hovertext": [
          45000
         ],
         "legendgroup": "SECURITY  AT  A  PRIVATE  COMPANY",
         "marker": {
          "color": "#00cc96",
          "pattern": {
           "shape": ""
          }
         },
         "name": "SECURITY  AT  A  PRIVATE  COMPANY",
         "offsetgroup": "SECURITY  AT  A  PRIVATE  COMPANY",
         "orientation": "v",
         "showlegend": true,
         "textposition": "auto",
         "type": "bar",
         "x": [
          "SECURITY  AT  A  PRIVATE  COMPANY"
         ],
         "xaxis": "x",
         "y": [
          45000
         ],
         "yaxis": "y"
        },
        {
         "alignmentgroup": "True",
         "hovertemplate": "<b>%{hovertext}</b><br><br>labour_type=%{x}<br>Income_dist=%{y}<extra></extra>",
         "hovertext": [
          52000,
          25000
         ],
         "legendgroup": "CIVIL  SERVANT",
         "marker": {
          "color": "#ab63fa",
          "pattern": {
           "shape": ""
          }
         },
         "name": "CIVIL  SERVANT",
         "offsetgroup": "CIVIL  SERVANT",
         "orientation": "v",
         "showlegend": true,
         "textposition": "auto",
         "type": "bar",
         "x": [
          "CIVIL  SERVANT",
          "CIVIL  SERVANT"
         ],
         "xaxis": "x",
         "y": [
          52000,
          25000
         ],
         "yaxis": "y"
        },
        {
         "alignmentgroup": "True",
         "hovertemplate": "<b>%{hovertext}</b><br><br>labour_type=%{x}<br>Income_dist=%{y}<extra></extra>",
         "hovertext": [
          10000
         ],
         "legendgroup": "WORK FOR PLASTIC COMPANY",
         "marker": {
          "color": "#FFA15A",
          "pattern": {
           "shape": ""
          }
         },
         "name": "WORK FOR PLASTIC COMPANY",
         "offsetgroup": "WORK FOR PLASTIC COMPANY",
         "orientation": "v",
         "showlegend": true,
         "textposition": "auto",
         "type": "bar",
         "x": [
          "WORK FOR PLASTIC COMPANY"
         ],
         "xaxis": "x",
         "y": [
          10000
         ],
         "yaxis": "y"
        },
        {
         "alignmentgroup": "True",
         "hovertemplate": "<b>%{hovertext}</b><br><br>labour_type=%{x}<br>Income_dist=%{y}<extra></extra>",
         "hovertext": [
          10000
         ],
         "legendgroup": "TEACHERE  IN  A SECONDARY  SCHOOL",
         "marker": {
          "color": "#19d3f3",
          "pattern": {
           "shape": ""
          }
         },
         "name": "TEACHERE  IN  A SECONDARY  SCHOOL",
         "offsetgroup": "TEACHERE  IN  A SECONDARY  SCHOOL",
         "orientation": "v",
         "showlegend": true,
         "textposition": "auto",
         "type": "bar",
         "x": [
          "TEACHERE  IN  A SECONDARY  SCHOOL"
         ],
         "xaxis": "x",
         "y": [
          10000
         ],
         "yaxis": "y"
        },
        {
         "alignmentgroup": "True",
         "hovertemplate": "<b>%{hovertext}</b><br><br>labour_type=%{x}<br>Income_dist=%{y}<extra></extra>",
         "hovertext": [
          35000
         ],
         "legendgroup": "SELLS PERSONEL",
         "marker": {
          "color": "#FF6692",
          "pattern": {
           "shape": ""
          }
         },
         "name": "SELLS PERSONEL",
         "offsetgroup": "SELLS PERSONEL",
         "orientation": "v",
         "showlegend": true,
         "textposition": "auto",
         "type": "bar",
         "x": [
          "SELLS PERSONEL"
         ],
         "xaxis": "x",
         "y": [
          35000
         ],
         "yaxis": "y"
        },
        {
         "alignmentgroup": "True",
         "hovertemplate": "<b>%{hovertext}</b><br><br>labour_type=%{x}<br>Income_dist=%{y}<extra></extra>",
         "hovertext": [
          25000
         ],
         "legendgroup": "CIVIL  SERVANT  CARPINTER",
         "marker": {
          "color": "#B6E880",
          "pattern": {
           "shape": ""
          }
         },
         "name": "CIVIL  SERVANT  CARPINTER",
         "offsetgroup": "CIVIL  SERVANT  CARPINTER",
         "orientation": "v",
         "showlegend": true,
         "textposition": "auto",
         "type": "bar",
         "x": [
          "CIVIL  SERVANT  CARPINTER"
         ],
         "xaxis": "x",
         "y": [
          25000
         ],
         "yaxis": "y"
        },
        {
         "alignmentgroup": "True",
         "hovertemplate": "<b>%{hovertext}</b><br><br>labour_type=%{x}<br>Income_dist=%{y}<extra></extra>",
         "hovertext": [
          25000
         ],
         "legendgroup": "LOCAL GOVT  OFFICE",
         "marker": {
          "color": "#FF97FF",
          "pattern": {
           "shape": ""
          }
         },
         "name": "LOCAL GOVT  OFFICE",
         "offsetgroup": "LOCAL GOVT  OFFICE",
         "orientation": "v",
         "showlegend": true,
         "textposition": "auto",
         "type": "bar",
         "x": [
          "LOCAL GOVT  OFFICE"
         ],
         "xaxis": "x",
         "y": [
          25000
         ],
         "yaxis": "y"
        },
        {
         "alignmentgroup": "True",
         "hovertemplate": "<b>%{hovertext}</b><br><br>labour_type=%{x}<br>Income_dist=%{y}<extra></extra>",
         "hovertext": [
          21000
         ],
         "legendgroup": "COOKING  FOOD  FOR  BORDING",
         "marker": {
          "color": "#FECB52",
          "pattern": {
           "shape": ""
          }
         },
         "name": "COOKING  FOOD  FOR  BORDING",
         "offsetgroup": "COOKING  FOOD  FOR  BORDING",
         "orientation": "v",
         "showlegend": true,
         "textposition": "auto",
         "type": "bar",
         "x": [
          "COOKING  FOOD  FOR  BORDING"
         ],
         "xaxis": "x",
         "y": [
          21000
         ],
         "yaxis": "y"
        },
        {
         "alignmentgroup": "True",
         "hovertemplate": "<b>%{hovertext}</b><br><br>labour_type=%{x}<br>Income_dist=%{y}<extra></extra>",
         "hovertext": [
          800
         ],
         "legendgroup": "LABOUBER",
         "marker": {
          "color": "#636efa",
          "pattern": {
           "shape": ""
          }
         },
         "name": "LABOUBER",
         "offsetgroup": "LABOUBER",
         "orientation": "v",
         "showlegend": true,
         "textposition": "auto",
         "type": "bar",
         "x": [
          "LABOUBER"
         ],
         "xaxis": "x",
         "y": [
          800
         ],
         "yaxis": "y"
        },
        {
         "alignmentgroup": "True",
         "hovertemplate": "<b>%{hovertext}</b><br><br>labour_type=%{x}<br>Income_dist=%{y}<extra></extra>",
         "hovertext": [
          23000
         ],
         "legendgroup": "SCHOOL TEACHER ATA SECONDARY SCHOOL",
         "marker": {
          "color": "#EF553B",
          "pattern": {
           "shape": ""
          }
         },
         "name": "SCHOOL TEACHER ATA SECONDARY SCHOOL",
         "offsetgroup": "SCHOOL TEACHER ATA SECONDARY SCHOOL",
         "orientation": "v",
         "showlegend": true,
         "textposition": "auto",
         "type": "bar",
         "x": [
          "SCHOOL TEACHER ATA SECONDARY SCHOOL"
         ],
         "xaxis": "x",
         "y": [
          23000
         ],
         "yaxis": "y"
        },
        {
         "alignmentgroup": "True",
         "hovertemplate": "<b>%{hovertext}</b><br><br>labour_type=%{x}<br>Income_dist=%{y}<extra></extra>",
         "hovertext": [
          28000
         ],
         "legendgroup": "SURVEYOR AT TAKAI L.G.SECRETARIAT",
         "marker": {
          "color": "#00cc96",
          "pattern": {
           "shape": ""
          }
         },
         "name": "SURVEYOR AT TAKAI L.G.SECRETARIAT",
         "offsetgroup": "SURVEYOR AT TAKAI L.G.SECRETARIAT",
         "orientation": "v",
         "showlegend": true,
         "textposition": "auto",
         "type": "bar",
         "x": [
          "SURVEYOR AT TAKAI L.G.SECRETARIAT"
         ],
         "xaxis": "x",
         "y": [
          28000
         ],
         "yaxis": "y"
        },
        {
         "alignmentgroup": "True",
         "hovertemplate": "<b>%{hovertext}</b><br><br>labour_type=%{x}<br>Income_dist=%{y}<extra></extra>",
         "hovertext": [
          25000
         ],
         "legendgroup": "PRIMARY  SCHOOL  TEACHER",
         "marker": {
          "color": "#ab63fa",
          "pattern": {
           "shape": ""
          }
         },
         "name": "PRIMARY  SCHOOL  TEACHER",
         "offsetgroup": "PRIMARY  SCHOOL  TEACHER",
         "orientation": "v",
         "showlegend": true,
         "textposition": "auto",
         "type": "bar",
         "x": [
          "PRIMARY  SCHOOL  TEACHER"
         ],
         "xaxis": "x",
         "y": [
          25000
         ],
         "yaxis": "y"
        },
        {
         "alignmentgroup": "True",
         "hovertemplate": "<b>%{hovertext}</b><br><br>labour_type=%{x}<br>Income_dist=%{y}<extra></extra>",
         "hovertext": [
          20000
         ],
         "legendgroup": "POULTRY KEEPER",
         "marker": {
          "color": "#FFA15A",
          "pattern": {
           "shape": ""
          }
         },
         "name": "POULTRY KEEPER",
         "offsetgroup": "POULTRY KEEPER",
         "orientation": "v",
         "showlegend": true,
         "textposition": "auto",
         "type": "bar",
         "x": [
          "POULTRY KEEPER"
         ],
         "xaxis": "x",
         "y": [
          20000
         ],
         "yaxis": "y"
        },
        {
         "alignmentgroup": "True",
         "hovertemplate": "<b>%{hovertext}</b><br><br>labour_type=%{x}<br>Income_dist=%{y}<extra></extra>",
         "hovertext": [
          1000,
          1500
         ],
         "legendgroup": "BAKERY (BREAD) WORKER",
         "marker": {
          "color": "#19d3f3",
          "pattern": {
           "shape": ""
          }
         },
         "name": "BAKERY (BREAD) WORKER",
         "offsetgroup": "BAKERY (BREAD) WORKER",
         "orientation": "v",
         "showlegend": true,
         "textposition": "auto",
         "type": "bar",
         "x": [
          "BAKERY (BREAD) WORKER",
          "BAKERY (BREAD) WORKER"
         ],
         "xaxis": "x",
         "y": [
          1000,
          1500
         ],
         "yaxis": "y"
        },
        {
         "alignmentgroup": "True",
         "hovertemplate": "<b>%{hovertext}</b><br><br>labour_type=%{x}<br>Income_dist=%{y}<extra></extra>",
         "hovertext": [
          15000
         ],
         "legendgroup": "KAROTA",
         "marker": {
          "color": "#FF6692",
          "pattern": {
           "shape": ""
          }
         },
         "name": "KAROTA",
         "offsetgroup": "KAROTA",
         "orientation": "v",
         "showlegend": true,
         "textposition": "auto",
         "type": "bar",
         "x": [
          "KAROTA"
         ],
         "xaxis": "x",
         "y": [
          15000
         ],
         "yaxis": "y"
        },
        {
         "alignmentgroup": "True",
         "hovertemplate": "<b>%{hovertext}</b><br><br>labour_type=%{x}<br>Income_dist=%{y}<extra></extra>",
         "hovertext": [
          55000
         ],
         "legendgroup": "TEACHER (HEAD MASTER)",
         "marker": {
          "color": "#B6E880",
          "pattern": {
           "shape": ""
          }
         },
         "name": "TEACHER (HEAD MASTER)",
         "offsetgroup": "TEACHER (HEAD MASTER)",
         "orientation": "v",
         "showlegend": true,
         "textposition": "auto",
         "type": "bar",
         "x": [
          "TEACHER (HEAD MASTER)"
         ],
         "xaxis": "x",
         "y": [
          55000
         ],
         "yaxis": "y"
        },
        {
         "alignmentgroup": "True",
         "hovertemplate": "<b>%{hovertext}</b><br><br>labour_type=%{x}<br>Income_dist=%{y}<extra></extra>",
         "hovertext": [
          10000
         ],
         "legendgroup": "A COMMUNITY POLICE",
         "marker": {
          "color": "#FF97FF",
          "pattern": {
           "shape": ""
          }
         },
         "name": "A COMMUNITY POLICE",
         "offsetgroup": "A COMMUNITY POLICE",
         "orientation": "v",
         "showlegend": true,
         "textposition": "auto",
         "type": "bar",
         "x": [
          "A COMMUNITY POLICE"
         ],
         "xaxis": "x",
         "y": [
          10000
         ],
         "yaxis": "y"
        },
        {
         "alignmentgroup": "True",
         "hovertemplate": "<b>%{hovertext}</b><br><br>labour_type=%{x}<br>Income_dist=%{y}<extra></extra>",
         "hovertext": [
          58500
         ],
         "legendgroup": "ENVIRONMENTAL HEALTH WORKER",
         "marker": {
          "color": "#FECB52",
          "pattern": {
           "shape": ""
          }
         },
         "name": "ENVIRONMENTAL HEALTH WORKER",
         "offsetgroup": "ENVIRONMENTAL HEALTH WORKER",
         "orientation": "v",
         "showlegend": true,
         "textposition": "auto",
         "type": "bar",
         "x": [
          "ENVIRONMENTAL HEALTH WORKER"
         ],
         "xaxis": "x",
         "y": [
          58500
         ],
         "yaxis": "y"
        },
        {
         "alignmentgroup": "True",
         "hovertemplate": "<b>%{hovertext}</b><br><br>labour_type=%{x}<br>Income_dist=%{y}<extra></extra>",
         "hovertext": [
          120000
         ],
         "legendgroup": "SCHEW",
         "marker": {
          "color": "#636efa",
          "pattern": {
           "shape": ""
          }
         },
         "name": "SCHEW",
         "offsetgroup": "SCHEW",
         "orientation": "v",
         "showlegend": true,
         "textposition": "auto",
         "type": "bar",
         "x": [
          "SCHEW"
         ],
         "xaxis": "x",
         "y": [
          120000
         ],
         "yaxis": "y"
        },
        {
         "alignmentgroup": "True",
         "hovertemplate": "<b>%{hovertext}</b><br><br>labour_type=%{x}<br>Income_dist=%{y}<extra></extra>",
         "hovertext": [
          140000
         ],
         "legendgroup": "PRISON OFFICER",
         "marker": {
          "color": "#EF553B",
          "pattern": {
           "shape": ""
          }
         },
         "name": "PRISON OFFICER",
         "offsetgroup": "PRISON OFFICER",
         "orientation": "v",
         "showlegend": true,
         "textposition": "auto",
         "type": "bar",
         "x": [
          "PRISON OFFICER"
         ],
         "xaxis": "x",
         "y": [
          140000
         ],
         "yaxis": "y"
        },
        {
         "alignmentgroup": "True",
         "hovertemplate": "<b>%{hovertext}</b><br><br>labour_type=%{x}<br>Income_dist=%{y}<extra></extra>",
         "hovertext": [
          140000
         ],
         "legendgroup": "MEDICAL OFFICER",
         "marker": {
          "color": "#00cc96",
          "pattern": {
           "shape": ""
          }
         },
         "name": "MEDICAL OFFICER",
         "offsetgroup": "MEDICAL OFFICER",
         "orientation": "v",
         "showlegend": true,
         "textposition": "auto",
         "type": "bar",
         "x": [
          "MEDICAL OFFICER"
         ],
         "xaxis": "x",
         "y": [
          140000
         ],
         "yaxis": "y"
        },
        {
         "alignmentgroup": "True",
         "hovertemplate": "<b>%{hovertext}</b><br><br>labour_type=%{x}<br>Income_dist=%{y}<extra></extra>",
         "hovertext": [
          30000
         ],
         "legendgroup": "NATIONAL UNION OF ROAD TRANSPORT WORKER",
         "marker": {
          "color": "#ab63fa",
          "pattern": {
           "shape": ""
          }
         },
         "name": "NATIONAL UNION OF ROAD TRANSPORT WORKER",
         "offsetgroup": "NATIONAL UNION OF ROAD TRANSPORT WORKER",
         "orientation": "v",
         "showlegend": true,
         "textposition": "auto",
         "type": "bar",
         "x": [
          "NATIONAL UNION OF ROAD TRANSPORT WORKER"
         ],
         "xaxis": "x",
         "y": [
          30000
         ],
         "yaxis": "y"
        },
        {
         "alignmentgroup": "True",
         "hovertemplate": "<b>%{hovertext}</b><br><br>labour_type=%{x}<br>Income_dist=%{y}<extra></extra>",
         "hovertext": [
          150000
         ],
         "legendgroup": "SUPPLIER",
         "marker": {
          "color": "#FFA15A",
          "pattern": {
           "shape": ""
          }
         },
         "name": "SUPPLIER",
         "offsetgroup": "SUPPLIER",
         "orientation": "v",
         "showlegend": true,
         "textposition": "auto",
         "type": "bar",
         "x": [
          "SUPPLIER"
         ],
         "xaxis": "x",
         "y": [
          150000
         ],
         "yaxis": "y"
        },
        {
         "alignmentgroup": "True",
         "hovertemplate": "<b>%{hovertext}</b><br><br>labour_type=%{x}<br>Income_dist=%{y}<extra></extra>",
         "hovertext": [
          53000
         ],
         "legendgroup": "CIVIL SERVANT (ADMIN OFFICER)",
         "marker": {
          "color": "#19d3f3",
          "pattern": {
           "shape": ""
          }
         },
         "name": "CIVIL SERVANT (ADMIN OFFICER)",
         "offsetgroup": "CIVIL SERVANT (ADMIN OFFICER)",
         "orientation": "v",
         "showlegend": true,
         "textposition": "auto",
         "type": "bar",
         "x": [
          "CIVIL SERVANT (ADMIN OFFICER)"
         ],
         "xaxis": "x",
         "y": [
          53000
         ],
         "yaxis": "y"
        },
        {
         "alignmentgroup": "True",
         "hovertemplate": "<b>%{hovertext}</b><br><br>labour_type=%{x}<br>Income_dist=%{y}<extra></extra>",
         "hovertext": [
          750000
         ],
         "legendgroup": "LEGISLATIVE",
         "marker": {
          "color": "#FF6692",
          "pattern": {
           "shape": ""
          }
         },
         "name": "LEGISLATIVE",
         "offsetgroup": "LEGISLATIVE",
         "orientation": "v",
         "showlegend": true,
         "textposition": "auto",
         "type": "bar",
         "x": [
          "LEGISLATIVE"
         ],
         "xaxis": "x",
         "y": [
          750000
         ],
         "yaxis": "y"
        },
        {
         "alignmentgroup": "True",
         "hovertemplate": "<b>%{hovertext}</b><br><br>labour_type=%{x}<br>Income_dist=%{y}<extra></extra>",
         "hovertext": [
          28000
         ],
         "legendgroup": "PRIMARY SCHHOOL TEACHER",
         "marker": {
          "color": "#B6E880",
          "pattern": {
           "shape": ""
          }
         },
         "name": "PRIMARY SCHHOOL TEACHER",
         "offsetgroup": "PRIMARY SCHHOOL TEACHER",
         "orientation": "v",
         "showlegend": true,
         "textposition": "auto",
         "type": "bar",
         "x": [
          "PRIMARY SCHHOOL TEACHER"
         ],
         "xaxis": "x",
         "y": [
          28000
         ],
         "yaxis": "y"
        },
        {
         "alignmentgroup": "True",
         "hovertemplate": "<b>%{hovertext}</b><br><br>labour_type=%{x}<br>Income_dist=%{y}<extra></extra>",
         "hovertext": [
          25000
         ],
         "legendgroup": "SECURITY GUARDS",
         "marker": {
          "color": "#FF97FF",
          "pattern": {
           "shape": ""
          }
         },
         "name": "SECURITY GUARDS",
         "offsetgroup": "SECURITY GUARDS",
         "orientation": "v",
         "showlegend": true,
         "textposition": "auto",
         "type": "bar",
         "x": [
          "SECURITY GUARDS"
         ],
         "xaxis": "x",
         "y": [
          25000
         ],
         "yaxis": "y"
        },
        {
         "alignmentgroup": "True",
         "hovertemplate": "<b>%{hovertext}</b><br><br>labour_type=%{x}<br>Income_dist=%{y}<extra></extra>",
         "hovertext": [
          2000
         ],
         "legendgroup": "TAILORING  SERVICES",
         "marker": {
          "color": "#FECB52",
          "pattern": {
           "shape": ""
          }
         },
         "name": "TAILORING  SERVICES",
         "offsetgroup": "TAILORING  SERVICES",
         "orientation": "v",
         "showlegend": true,
         "textposition": "auto",
         "type": "bar",
         "x": [
          "TAILORING  SERVICES"
         ],
         "xaxis": "x",
         "y": [
          2000
         ],
         "yaxis": "y"
        },
        {
         "alignmentgroup": "True",
         "hovertemplate": "<b>%{hovertext}</b><br><br>labour_type=%{x}<br>Income_dist=%{y}<extra></extra>",
         "hovertext": [
          35000
         ],
         "legendgroup": "WORKIING AT PHCN OFFICE AT MALUFASHI",
         "marker": {
          "color": "#636efa",
          "pattern": {
           "shape": ""
          }
         },
         "name": "WORKIING AT PHCN OFFICE AT MALUFASHI",
         "offsetgroup": "WORKIING AT PHCN OFFICE AT MALUFASHI",
         "orientation": "v",
         "showlegend": true,
         "textposition": "auto",
         "type": "bar",
         "x": [
          "WORKIING AT PHCN OFFICE AT MALUFASHI"
         ],
         "xaxis": "x",
         "y": [
          35000
         ],
         "yaxis": "y"
        },
        {
         "alignmentgroup": "True",
         "hovertemplate": "<b>%{hovertext}</b><br><br>labour_type=%{x}<br>Income_dist=%{y}<extra></extra>",
         "hovertext": [
          70000,
          45000,
          45000
         ],
         "legendgroup": "MEDICAL  ASSISTANT",
         "marker": {
          "color": "#EF553B",
          "pattern": {
           "shape": ""
          }
         },
         "name": "MEDICAL  ASSISTANT",
         "offsetgroup": "MEDICAL  ASSISTANT",
         "orientation": "v",
         "showlegend": true,
         "textposition": "auto",
         "type": "bar",
         "x": [
          "MEDICAL  ASSISTANT",
          "MEDICAL  ASSISTANT",
          "MEDICAL  ASSISTANT"
         ],
         "xaxis": "x",
         "y": [
          70000,
          45000,
          45000
         ],
         "yaxis": "y"
        },
        {
         "alignmentgroup": "True",
         "hovertemplate": "<b>%{hovertext}</b><br><br>labour_type=%{x}<br>Income_dist=%{y}<extra></extra>",
         "hovertext": [
          10000
         ],
         "legendgroup": "PERSONNEL AND INDUSTRIAL RELATION",
         "marker": {
          "color": "#00cc96",
          "pattern": {
           "shape": ""
          }
         },
         "name": "PERSONNEL AND INDUSTRIAL RELATION",
         "offsetgroup": "PERSONNEL AND INDUSTRIAL RELATION",
         "orientation": "v",
         "showlegend": true,
         "textposition": "auto",
         "type": "bar",
         "x": [
          "PERSONNEL AND INDUSTRIAL RELATION"
         ],
         "xaxis": "x",
         "y": [
          10000
         ],
         "yaxis": "y"
        },
        {
         "alignmentgroup": "True",
         "hovertemplate": "<b>%{hovertext}</b><br><br>labour_type=%{x}<br>Income_dist=%{y}<extra></extra>",
         "hovertext": [
          358000
         ],
         "legendgroup": "COLLEGE OF HIGHER EDUCATION TEACHING",
         "marker": {
          "color": "#ab63fa",
          "pattern": {
           "shape": ""
          }
         },
         "name": "COLLEGE OF HIGHER EDUCATION TEACHING",
         "offsetgroup": "COLLEGE OF HIGHER EDUCATION TEACHING",
         "orientation": "v",
         "showlegend": true,
         "textposition": "auto",
         "type": "bar",
         "x": [
          "COLLEGE OF HIGHER EDUCATION TEACHING"
         ],
         "xaxis": "x",
         "y": [
          358000
         ],
         "yaxis": "y"
        },
        {
         "alignmentgroup": "True",
         "hovertemplate": "<b>%{hovertext}</b><br><br>labour_type=%{x}<br>Income_dist=%{y}<extra></extra>",
         "hovertext": [
          103000
         ],
         "legendgroup": "CHIEF SECURITY OFFICER",
         "marker": {
          "color": "#FFA15A",
          "pattern": {
           "shape": ""
          }
         },
         "name": "CHIEF SECURITY OFFICER",
         "offsetgroup": "CHIEF SECURITY OFFICER",
         "orientation": "v",
         "showlegend": true,
         "textposition": "auto",
         "type": "bar",
         "x": [
          "CHIEF SECURITY OFFICER"
         ],
         "xaxis": "x",
         "y": [
          103000
         ],
         "yaxis": "y"
        },
        {
         "alignmentgroup": "True",
         "hovertemplate": "<b>%{hovertext}</b><br><br>labour_type=%{x}<br>Income_dist=%{y}<extra></extra>",
         "hovertext": [
          181000
         ],
         "legendgroup": "LECTURE AND RESEACH",
         "marker": {
          "color": "#19d3f3",
          "pattern": {
           "shape": ""
          }
         },
         "name": "LECTURE AND RESEACH",
         "offsetgroup": "LECTURE AND RESEACH",
         "orientation": "v",
         "showlegend": true,
         "textposition": "auto",
         "type": "bar",
         "x": [
          "LECTURE AND RESEACH"
         ],
         "xaxis": "x",
         "y": [
          181000
         ],
         "yaxis": "y"
        },
        {
         "alignmentgroup": "True",
         "hovertemplate": "<b>%{hovertext}</b><br><br>labour_type=%{x}<br>Income_dist=%{y}<extra></extra>",
         "hovertext": [
          151000
         ],
         "legendgroup": "LECTURING AND RESEARCH",
         "marker": {
          "color": "#FF6692",
          "pattern": {
           "shape": ""
          }
         },
         "name": "LECTURING AND RESEARCH",
         "offsetgroup": "LECTURING AND RESEARCH",
         "orientation": "v",
         "showlegend": true,
         "textposition": "auto",
         "type": "bar",
         "x": [
          "LECTURING AND RESEARCH"
         ],
         "xaxis": "x",
         "y": [
          151000
         ],
         "yaxis": "y"
        },
        {
         "alignmentgroup": "True",
         "hovertemplate": "<b>%{hovertext}</b><br><br>labour_type=%{x}<br>Income_dist=%{y}<extra></extra>",
         "hovertext": [
          65000
         ],
         "legendgroup": "ADMINISTRATIVE ASSOCIATE PROFESSIONAL",
         "marker": {
          "color": "#B6E880",
          "pattern": {
           "shape": ""
          }
         },
         "name": "ADMINISTRATIVE ASSOCIATE PROFESSIONAL",
         "offsetgroup": "ADMINISTRATIVE ASSOCIATE PROFESSIONAL",
         "orientation": "v",
         "showlegend": true,
         "textposition": "auto",
         "type": "bar",
         "x": [
          "ADMINISTRATIVE ASSOCIATE PROFESSIONAL"
         ],
         "xaxis": "x",
         "y": [
          65000
         ],
         "yaxis": "y"
        },
        {
         "alignmentgroup": "True",
         "hovertemplate": "<b>%{hovertext}</b><br><br>labour_type=%{x}<br>Income_dist=%{y}<extra></extra>",
         "hovertext": [
          185500
         ],
         "legendgroup": "COLLEGE OF EDUCATION TECHNOLOGY",
         "marker": {
          "color": "#FF97FF",
          "pattern": {
           "shape": ""
          }
         },
         "name": "COLLEGE OF EDUCATION TECHNOLOGY",
         "offsetgroup": "COLLEGE OF EDUCATION TECHNOLOGY",
         "orientation": "v",
         "showlegend": true,
         "textposition": "auto",
         "type": "bar",
         "x": [
          "COLLEGE OF EDUCATION TECHNOLOGY"
         ],
         "xaxis": "x",
         "y": [
          185500
         ],
         "yaxis": "y"
        },
        {
         "alignmentgroup": "True",
         "hovertemplate": "<b>%{hovertext}</b><br><br>labour_type=%{x}<br>Income_dist=%{y}<extra></extra>",
         "hovertext": [
          52000
         ],
         "legendgroup": "PRIMARY EDUCATION TEACHING PROFESSION",
         "marker": {
          "color": "#FECB52",
          "pattern": {
           "shape": ""
          }
         },
         "name": "PRIMARY EDUCATION TEACHING PROFESSION",
         "offsetgroup": "PRIMARY EDUCATION TEACHING PROFESSION",
         "orientation": "v",
         "showlegend": true,
         "textposition": "auto",
         "type": "bar",
         "x": [
          "PRIMARY EDUCATION TEACHING PROFESSION"
         ],
         "xaxis": "x",
         "y": [
          52000
         ],
         "yaxis": "y"
        },
        {
         "alignmentgroup": "True",
         "hovertemplate": "<b>%{hovertext}</b><br><br>labour_type=%{x}<br>Income_dist=%{y}<extra></extra>",
         "hovertext": [
          57000
         ],
         "legendgroup": "NON ACADEMIC STAFF",
         "marker": {
          "color": "#636efa",
          "pattern": {
           "shape": ""
          }
         },
         "name": "NON ACADEMIC STAFF",
         "offsetgroup": "NON ACADEMIC STAFF",
         "orientation": "v",
         "showlegend": true,
         "textposition": "auto",
         "type": "bar",
         "x": [
          "NON ACADEMIC STAFF"
         ],
         "xaxis": "x",
         "y": [
          57000
         ],
         "yaxis": "y"
        },
        {
         "alignmentgroup": "True",
         "hovertemplate": "<b>%{hovertext}</b><br><br>labour_type=%{x}<br>Income_dist=%{y}<extra></extra>",
         "hovertext": [
          185000
         ],
         "legendgroup": "TEACHING  EDUCATION LINE",
         "marker": {
          "color": "#EF553B",
          "pattern": {
           "shape": ""
          }
         },
         "name": "TEACHING  EDUCATION LINE",
         "offsetgroup": "TEACHING  EDUCATION LINE",
         "orientation": "v",
         "showlegend": true,
         "textposition": "auto",
         "type": "bar",
         "x": [
          "TEACHING  EDUCATION LINE"
         ],
         "xaxis": "x",
         "y": [
          185000
         ],
         "yaxis": "y"
        },
        {
         "alignmentgroup": "True",
         "hovertemplate": "<b>%{hovertext}</b><br><br>labour_type=%{x}<br>Income_dist=%{y}<extra></extra>",
         "hovertext": [
          20000,
          50000,
          22000
         ],
         "legendgroup": "PRIMARY EDUCATION TEACHING",
         "marker": {
          "color": "#00cc96",
          "pattern": {
           "shape": ""
          }
         },
         "name": "PRIMARY EDUCATION TEACHING",
         "offsetgroup": "PRIMARY EDUCATION TEACHING",
         "orientation": "v",
         "showlegend": true,
         "textposition": "auto",
         "type": "bar",
         "x": [
          "PRIMARY EDUCATION TEACHING",
          "PRIMARY EDUCATION TEACHING",
          "PRIMARY EDUCATION TEACHING"
         ],
         "xaxis": "x",
         "y": [
          20000,
          50000,
          22000
         ],
         "yaxis": "y"
        },
        {
         "alignmentgroup": "True",
         "hovertemplate": "<b>%{hovertext}</b><br><br>labour_type=%{x}<br>Income_dist=%{y}<extra></extra>",
         "hovertext": [
          240000
         ],
         "legendgroup": "LOCAL GOVT STAFF OFFICER",
         "marker": {
          "color": "#ab63fa",
          "pattern": {
           "shape": ""
          }
         },
         "name": "LOCAL GOVT STAFF OFFICER",
         "offsetgroup": "LOCAL GOVT STAFF OFFICER",
         "orientation": "v",
         "showlegend": true,
         "textposition": "auto",
         "type": "bar",
         "x": [
          "LOCAL GOVT STAFF OFFICER"
         ],
         "xaxis": "x",
         "y": [
          240000
         ],
         "yaxis": "y"
        },
        {
         "alignmentgroup": "True",
         "hovertemplate": "<b>%{hovertext}</b><br><br>labour_type=%{x}<br>Income_dist=%{y}<extra></extra>",
         "hovertext": [
          250000
         ],
         "legendgroup": "HEALTH MOBILIZER",
         "marker": {
          "color": "#FFA15A",
          "pattern": {
           "shape": ""
          }
         },
         "name": "HEALTH MOBILIZER",
         "offsetgroup": "HEALTH MOBILIZER",
         "orientation": "v",
         "showlegend": true,
         "textposition": "auto",
         "type": "bar",
         "x": [
          "HEALTH MOBILIZER"
         ],
         "xaxis": "x",
         "y": [
          250000
         ],
         "yaxis": "y"
        },
        {
         "alignmentgroup": "True",
         "hovertemplate": "<b>%{hovertext}</b><br><br>labour_type=%{x}<br>Income_dist=%{y}<extra></extra>",
         "hovertext": [
          85000,
          130000
         ],
         "legendgroup": "CIVIL DEFENCE",
         "marker": {
          "color": "#19d3f3",
          "pattern": {
           "shape": ""
          }
         },
         "name": "CIVIL DEFENCE",
         "offsetgroup": "CIVIL DEFENCE",
         "orientation": "v",
         "showlegend": true,
         "textposition": "auto",
         "type": "bar",
         "x": [
          "CIVIL DEFENCE",
          "CIVIL DEFENCE"
         ],
         "xaxis": "x",
         "y": [
          85000,
          130000
         ],
         "yaxis": "y"
        },
        {
         "alignmentgroup": "True",
         "hovertemplate": "<b>%{hovertext}</b><br><br>labour_type=%{x}<br>Income_dist=%{y}<extra></extra>",
         "hovertext": [
          255000
         ],
         "legendgroup": "ADMINITRATOR FADAMA THREE",
         "marker": {
          "color": "#FF6692",
          "pattern": {
           "shape": ""
          }
         },
         "name": "ADMINITRATOR FADAMA THREE",
         "offsetgroup": "ADMINITRATOR FADAMA THREE",
         "orientation": "v",
         "showlegend": true,
         "textposition": "auto",
         "type": "bar",
         "x": [
          "ADMINITRATOR FADAMA THREE"
         ],
         "xaxis": "x",
         "y": [
          255000
         ],
         "yaxis": "y"
        },
        {
         "alignmentgroup": "True",
         "hovertemplate": "<b>%{hovertext}</b><br><br>labour_type=%{x}<br>Income_dist=%{y}<extra></extra>",
         "hovertext": [
          100000
         ],
         "legendgroup": "REGISTRAR HIGH COURT",
         "marker": {
          "color": "#B6E880",
          "pattern": {
           "shape": ""
          }
         },
         "name": "REGISTRAR HIGH COURT",
         "offsetgroup": "REGISTRAR HIGH COURT",
         "orientation": "v",
         "showlegend": true,
         "textposition": "auto",
         "type": "bar",
         "x": [
          "REGISTRAR HIGH COURT"
         ],
         "xaxis": "x",
         "y": [
          100000
         ],
         "yaxis": "y"
        },
        {
         "alignmentgroup": "True",
         "hovertemplate": "<b>%{hovertext}</b><br><br>labour_type=%{x}<br>Income_dist=%{y}<extra></extra>",
         "hovertext": [
          80000
         ],
         "legendgroup": "CLARICAL OFFICE JUDICIARY",
         "marker": {
          "color": "#FF97FF",
          "pattern": {
           "shape": ""
          }
         },
         "name": "CLARICAL OFFICE JUDICIARY",
         "offsetgroup": "CLARICAL OFFICE JUDICIARY",
         "orientation": "v",
         "showlegend": true,
         "textposition": "auto",
         "type": "bar",
         "x": [
          "CLARICAL OFFICE JUDICIARY"
         ],
         "xaxis": "x",
         "y": [
          80000
         ],
         "yaxis": "y"
        },
        {
         "alignmentgroup": "True",
         "hovertemplate": "<b>%{hovertext}</b><br><br>labour_type=%{x}<br>Income_dist=%{y}<extra></extra>",
         "hovertext": [
          57250
         ],
         "legendgroup": "SEC SCHOOL TEACHER",
         "marker": {
          "color": "#FECB52",
          "pattern": {
           "shape": ""
          }
         },
         "name": "SEC SCHOOL TEACHER",
         "offsetgroup": "SEC SCHOOL TEACHER",
         "orientation": "v",
         "showlegend": true,
         "textposition": "auto",
         "type": "bar",
         "x": [
          "SEC SCHOOL TEACHER"
         ],
         "xaxis": "x",
         "y": [
          57250
         ],
         "yaxis": "y"
        },
        {
         "alignmentgroup": "True",
         "hovertemplate": "<b>%{hovertext}</b><br><br>labour_type=%{x}<br>Income_dist=%{y}<extra></extra>",
         "hovertext": [
          18500
         ],
         "legendgroup": "FORESTRY ATTENTANT",
         "marker": {
          "color": "#636efa",
          "pattern": {
           "shape": ""
          }
         },
         "name": "FORESTRY ATTENTANT",
         "offsetgroup": "FORESTRY ATTENTANT",
         "orientation": "v",
         "showlegend": true,
         "textposition": "auto",
         "type": "bar",
         "x": [
          "FORESTRY ATTENTANT"
         ],
         "xaxis": "x",
         "y": [
          18500
         ],
         "yaxis": "y"
        },
        {
         "alignmentgroup": "True",
         "hovertemplate": "<b>%{hovertext}</b><br><br>labour_type=%{x}<br>Income_dist=%{y}<extra></extra>",
         "hovertext": [
          18900
         ],
         "legendgroup": "AGRIC ATTENDANT",
         "marker": {
          "color": "#EF553B",
          "pattern": {
           "shape": ""
          }
         },
         "name": "AGRIC ATTENDANT",
         "offsetgroup": "AGRIC ATTENDANT",
         "orientation": "v",
         "showlegend": true,
         "textposition": "auto",
         "type": "bar",
         "x": [
          "AGRIC ATTENDANT"
         ],
         "xaxis": "x",
         "y": [
          18900
         ],
         "yaxis": "y"
        },
        {
         "alignmentgroup": "True",
         "hovertemplate": "<b>%{hovertext}</b><br><br>labour_type=%{x}<br>Income_dist=%{y}<extra></extra>",
         "hovertext": [
          52720,
          32000
         ],
         "legendgroup": "MEDICAL ASSISTANT",
         "marker": {
          "color": "#00cc96",
          "pattern": {
           "shape": ""
          }
         },
         "name": "MEDICAL ASSISTANT",
         "offsetgroup": "MEDICAL ASSISTANT",
         "orientation": "v",
         "showlegend": true,
         "textposition": "auto",
         "type": "bar",
         "x": [
          "MEDICAL ASSISTANT",
          "MEDICAL ASSISTANT"
         ],
         "xaxis": "x",
         "y": [
          52720,
          32000
         ],
         "yaxis": "y"
        },
        {
         "alignmentgroup": "True",
         "hovertemplate": "<b>%{hovertext}</b><br><br>labour_type=%{x}<br>Income_dist=%{y}<extra></extra>",
         "hovertext": [
          19200
         ],
         "legendgroup": "ASST FORESTERY OFFICER",
         "marker": {
          "color": "#ab63fa",
          "pattern": {
           "shape": ""
          }
         },
         "name": "ASST FORESTERY OFFICER",
         "offsetgroup": "ASST FORESTERY OFFICER",
         "orientation": "v",
         "showlegend": true,
         "textposition": "auto",
         "type": "bar",
         "x": [
          "ASST FORESTERY OFFICER"
         ],
         "xaxis": "x",
         "y": [
          19200
         ],
         "yaxis": "y"
        },
        {
         "alignmentgroup": "True",
         "hovertemplate": "<b>%{hovertext}</b><br><br>labour_type=%{x}<br>Income_dist=%{y}<extra></extra>",
         "hovertext": [
          52000
         ],
         "legendgroup": "CONT ASSESMENT MASTER (EDUCATION)",
         "marker": {
          "color": "#FFA15A",
          "pattern": {
           "shape": ""
          }
         },
         "name": "CONT ASSESMENT MASTER (EDUCATION)",
         "offsetgroup": "CONT ASSESMENT MASTER (EDUCATION)",
         "orientation": "v",
         "showlegend": true,
         "textposition": "auto",
         "type": "bar",
         "x": [
          "CONT ASSESMENT MASTER (EDUCATION)"
         ],
         "xaxis": "x",
         "y": [
          52000
         ],
         "yaxis": "y"
        },
        {
         "alignmentgroup": "True",
         "hovertemplate": "<b>%{hovertext}</b><br><br>labour_type=%{x}<br>Income_dist=%{y}<extra></extra>",
         "hovertext": [
          59000
         ],
         "legendgroup": "SECURITY (POLICE)",
         "marker": {
          "color": "#19d3f3",
          "pattern": {
           "shape": ""
          }
         },
         "name": "SECURITY (POLICE)",
         "offsetgroup": "SECURITY (POLICE)",
         "orientation": "v",
         "showlegend": true,
         "textposition": "auto",
         "type": "bar",
         "x": [
          "SECURITY (POLICE)"
         ],
         "xaxis": "x",
         "y": [
          59000
         ],
         "yaxis": "y"
        },
        {
         "alignmentgroup": "True",
         "hovertemplate": "<b>%{hovertext}</b><br><br>labour_type=%{x}<br>Income_dist=%{y}<extra></extra>",
         "hovertext": [
          10000
         ],
         "legendgroup": "ISLAMIC TEACHING PROFESSION",
         "marker": {
          "color": "#FF6692",
          "pattern": {
           "shape": ""
          }
         },
         "name": "ISLAMIC TEACHING PROFESSION",
         "offsetgroup": "ISLAMIC TEACHING PROFESSION",
         "orientation": "v",
         "showlegend": true,
         "textposition": "auto",
         "type": "bar",
         "x": [
          "ISLAMIC TEACHING PROFESSION"
         ],
         "xaxis": "x",
         "y": [
          10000
         ],
         "yaxis": "y"
        },
        {
         "alignmentgroup": "True",
         "hovertemplate": "<b>%{hovertext}</b><br><br>labour_type=%{x}<br>Income_dist=%{y}<extra></extra>",
         "hovertext": [
          6000
         ],
         "legendgroup": "MANAGER OF PRINTING COMPANY",
         "marker": {
          "color": "#B6E880",
          "pattern": {
           "shape": ""
          }
         },
         "name": "MANAGER OF PRINTING COMPANY",
         "offsetgroup": "MANAGER OF PRINTING COMPANY",
         "orientation": "v",
         "showlegend": true,
         "textposition": "auto",
         "type": "bar",
         "x": [
          "MANAGER OF PRINTING COMPANY"
         ],
         "xaxis": "x",
         "y": [
          6000
         ],
         "yaxis": "y"
        },
        {
         "alignmentgroup": "True",
         "hovertemplate": "<b>%{hovertext}</b><br><br>labour_type=%{x}<br>Income_dist=%{y}<extra></extra>",
         "hovertext": [
          16000
         ],
         "legendgroup": "SECONDARY SCHOOL TEACHING",
         "marker": {
          "color": "#FF97FF",
          "pattern": {
           "shape": ""
          }
         },
         "name": "SECONDARY SCHOOL TEACHING",
         "offsetgroup": "SECONDARY SCHOOL TEACHING",
         "orientation": "v",
         "showlegend": true,
         "textposition": "auto",
         "type": "bar",
         "x": [
          "SECONDARY SCHOOL TEACHING"
         ],
         "xaxis": "x",
         "y": [
          16000
         ],
         "yaxis": "y"
        },
        {
         "alignmentgroup": "True",
         "hovertemplate": "<b>%{hovertext}</b><br><br>labour_type=%{x}<br>Income_dist=%{y}<extra></extra>",
         "hovertext": [
          41000
         ],
         "legendgroup": "TEACHING IN THE PRY SCHOOL",
         "marker": {
          "color": "#FECB52",
          "pattern": {
           "shape": ""
          }
         },
         "name": "TEACHING IN THE PRY SCHOOL",
         "offsetgroup": "TEACHING IN THE PRY SCHOOL",
         "orientation": "v",
         "showlegend": true,
         "textposition": "auto",
         "type": "bar",
         "x": [
          "TEACHING IN THE PRY SCHOOL"
         ],
         "xaxis": "x",
         "y": [
          41000
         ],
         "yaxis": "y"
        },
        {
         "alignmentgroup": "True",
         "hovertemplate": "<b>%{hovertext}</b><br><br>labour_type=%{x}<br>Income_dist=%{y}<extra></extra>",
         "hovertext": [
          50000
         ],
         "legendgroup": "ACCOUNTANT IN THE LGA",
         "marker": {
          "color": "#636efa",
          "pattern": {
           "shape": ""
          }
         },
         "name": "ACCOUNTANT IN THE LGA",
         "offsetgroup": "ACCOUNTANT IN THE LGA",
         "orientation": "v",
         "showlegend": true,
         "textposition": "auto",
         "type": "bar",
         "x": [
          "ACCOUNTANT IN THE LGA"
         ],
         "xaxis": "x",
         "y": [
          50000
         ],
         "yaxis": "y"
        },
        {
         "alignmentgroup": "True",
         "hovertemplate": "<b>%{hovertext}</b><br><br>labour_type=%{x}<br>Income_dist=%{y}<extra></extra>",
         "hovertext": [
          2000
         ],
         "legendgroup": "CUTTING TREES DOWN IN THE FOREST",
         "marker": {
          "color": "#EF553B",
          "pattern": {
           "shape": ""
          }
         },
         "name": "CUTTING TREES DOWN IN THE FOREST",
         "offsetgroup": "CUTTING TREES DOWN IN THE FOREST",
         "orientation": "v",
         "showlegend": true,
         "textposition": "auto",
         "type": "bar",
         "x": [
          "CUTTING TREES DOWN IN THE FOREST"
         ],
         "xaxis": "x",
         "y": [
          2000
         ],
         "yaxis": "y"
        },
        {
         "alignmentgroup": "True",
         "hovertemplate": "<b>%{hovertext}</b><br><br>labour_type=%{x}<br>Income_dist=%{y}<extra></extra>",
         "hovertext": [
          40000
         ],
         "legendgroup": "FINANCIAL CLERK",
         "marker": {
          "color": "#00cc96",
          "pattern": {
           "shape": ""
          }
         },
         "name": "FINANCIAL CLERK",
         "offsetgroup": "FINANCIAL CLERK",
         "orientation": "v",
         "showlegend": true,
         "textposition": "auto",
         "type": "bar",
         "x": [
          "FINANCIAL CLERK"
         ],
         "xaxis": "x",
         "y": [
          40000
         ],
         "yaxis": "y"
        },
        {
         "alignmentgroup": "True",
         "hovertemplate": "<b>%{hovertext}</b><br><br>labour_type=%{x}<br>Income_dist=%{y}<extra></extra>",
         "hovertext": [
          25000
         ],
         "legendgroup": "CLERICAL WORCAL IN COURT",
         "marker": {
          "color": "#ab63fa",
          "pattern": {
           "shape": ""
          }
         },
         "name": "CLERICAL WORCAL IN COURT",
         "offsetgroup": "CLERICAL WORCAL IN COURT",
         "orientation": "v",
         "showlegend": true,
         "textposition": "auto",
         "type": "bar",
         "x": [
          "CLERICAL WORCAL IN COURT"
         ],
         "xaxis": "x",
         "y": [
          25000
         ],
         "yaxis": "y"
        },
        {
         "alignmentgroup": "True",
         "hovertemplate": "<b>%{hovertext}</b><br><br>labour_type=%{x}<br>Income_dist=%{y}<extra></extra>",
         "hovertext": [
          40000
         ],
         "legendgroup": "TIPPER DRIVER",
         "marker": {
          "color": "#FFA15A",
          "pattern": {
           "shape": ""
          }
         },
         "name": "TIPPER DRIVER",
         "offsetgroup": "TIPPER DRIVER",
         "orientation": "v",
         "showlegend": true,
         "textposition": "auto",
         "type": "bar",
         "x": [
          "TIPPER DRIVER"
         ],
         "xaxis": "x",
         "y": [
          40000
         ],
         "yaxis": "y"
        },
        {
         "alignmentgroup": "True",
         "hovertemplate": "<b>%{hovertext}</b><br><br>labour_type=%{x}<br>Income_dist=%{y}<extra></extra>",
         "hovertext": [
          37000
         ],
         "legendgroup": "MARKETING EXECUTIVE",
         "marker": {
          "color": "#19d3f3",
          "pattern": {
           "shape": ""
          }
         },
         "name": "MARKETING EXECUTIVE",
         "offsetgroup": "MARKETING EXECUTIVE",
         "orientation": "v",
         "showlegend": true,
         "textposition": "auto",
         "type": "bar",
         "x": [
          "MARKETING EXECUTIVE"
         ],
         "xaxis": "x",
         "y": [
          37000
         ],
         "yaxis": "y"
        },
        {
         "alignmentgroup": "True",
         "hovertemplate": "<b>%{hovertext}</b><br><br>labour_type=%{x}<br>Income_dist=%{y}<extra></extra>",
         "hovertext": [
          59000
         ],
         "legendgroup": "NURSING ASSISTANT",
         "marker": {
          "color": "#FF6692",
          "pattern": {
           "shape": ""
          }
         },
         "name": "NURSING ASSISTANT",
         "offsetgroup": "NURSING ASSISTANT",
         "orientation": "v",
         "showlegend": true,
         "textposition": "auto",
         "type": "bar",
         "x": [
          "NURSING ASSISTANT"
         ],
         "xaxis": "x",
         "y": [
          59000
         ],
         "yaxis": "y"
        },
        {
         "alignmentgroup": "True",
         "hovertemplate": "<b>%{hovertext}</b><br><br>labour_type=%{x}<br>Income_dist=%{y}<extra></extra>",
         "hovertext": [
          170000,
          150000
         ],
         "legendgroup": "LECTURING",
         "marker": {
          "color": "#B6E880",
          "pattern": {
           "shape": ""
          }
         },
         "name": "LECTURING",
         "offsetgroup": "LECTURING",
         "orientation": "v",
         "showlegend": true,
         "textposition": "auto",
         "type": "bar",
         "x": [
          "LECTURING",
          "LECTURING"
         ],
         "xaxis": "x",
         "y": [
          170000,
          150000
         ],
         "yaxis": "y"
        },
        {
         "alignmentgroup": "True",
         "hovertemplate": "<b>%{hovertext}</b><br><br>labour_type=%{x}<br>Income_dist=%{y}<extra></extra>",
         "hovertext": [
          15000
         ],
         "legendgroup": "LAB ATTENDANT",
         "marker": {
          "color": "#FF97FF",
          "pattern": {
           "shape": ""
          }
         },
         "name": "LAB ATTENDANT",
         "offsetgroup": "LAB ATTENDANT",
         "orientation": "v",
         "showlegend": true,
         "textposition": "auto",
         "type": "bar",
         "x": [
          "LAB ATTENDANT"
         ],
         "xaxis": "x",
         "y": [
          15000
         ],
         "yaxis": "y"
        },
        {
         "alignmentgroup": "True",
         "hovertemplate": "<b>%{hovertext}</b><br><br>labour_type=%{x}<br>Income_dist=%{y}<extra></extra>",
         "hovertext": [
          60000
         ],
         "legendgroup": "CLERK AT KOGI STATE UNIVERSITY",
         "marker": {
          "color": "#FECB52",
          "pattern": {
           "shape": ""
          }
         },
         "name": "CLERK AT KOGI STATE UNIVERSITY",
         "offsetgroup": "CLERK AT KOGI STATE UNIVERSITY",
         "orientation": "v",
         "showlegend": true,
         "textposition": "auto",
         "type": "bar",
         "x": [
          "CLERK AT KOGI STATE UNIVERSITY"
         ],
         "xaxis": "x",
         "y": [
          60000
         ],
         "yaxis": "y"
        },
        {
         "alignmentgroup": "True",
         "hovertemplate": "<b>%{hovertext}</b><br><br>labour_type=%{x}<br>Income_dist=%{y}<extra></extra>",
         "hovertext": [
          125000
         ],
         "legendgroup": "DIRECTOR OF ADMIN",
         "marker": {
          "color": "#636efa",
          "pattern": {
           "shape": ""
          }
         },
         "name": "DIRECTOR OF ADMIN",
         "offsetgroup": "DIRECTOR OF ADMIN",
         "orientation": "v",
         "showlegend": true,
         "textposition": "auto",
         "type": "bar",
         "x": [
          "DIRECTOR OF ADMIN"
         ],
         "xaxis": "x",
         "y": [
          125000
         ],
         "yaxis": "y"
        },
        {
         "alignmentgroup": "True",
         "hovertemplate": "<b>%{hovertext}</b><br><br>labour_type=%{x}<br>Income_dist=%{y}<extra></extra>",
         "hovertext": [
          72000
         ],
         "legendgroup": "JUNIOR SECONDARY SCHOOL PRINCIPAL",
         "marker": {
          "color": "#EF553B",
          "pattern": {
           "shape": ""
          }
         },
         "name": "JUNIOR SECONDARY SCHOOL PRINCIPAL",
         "offsetgroup": "JUNIOR SECONDARY SCHOOL PRINCIPAL",
         "orientation": "v",
         "showlegend": true,
         "textposition": "auto",
         "type": "bar",
         "x": [
          "JUNIOR SECONDARY SCHOOL PRINCIPAL"
         ],
         "xaxis": "x",
         "y": [
          72000
         ],
         "yaxis": "y"
        },
        {
         "alignmentgroup": "True",
         "hovertemplate": "<b>%{hovertext}</b><br><br>labour_type=%{x}<br>Income_dist=%{y}<extra></extra>",
         "hovertext": [
          60000
         ],
         "legendgroup": "HOSPITAL NURSE",
         "marker": {
          "color": "#00cc96",
          "pattern": {
           "shape": ""
          }
         },
         "name": "HOSPITAL NURSE",
         "offsetgroup": "HOSPITAL NURSE",
         "orientation": "v",
         "showlegend": true,
         "textposition": "auto",
         "type": "bar",
         "x": [
          "HOSPITAL NURSE"
         ],
         "xaxis": "x",
         "y": [
          60000
         ],
         "yaxis": "y"
        },
        {
         "alignmentgroup": "True",
         "hovertemplate": "<b>%{hovertext}</b><br><br>labour_type=%{x}<br>Income_dist=%{y}<extra></extra>",
         "hovertext": [
          100000
         ],
         "legendgroup": "ELECTRICAL ENGINEERING",
         "marker": {
          "color": "#ab63fa",
          "pattern": {
           "shape": ""
          }
         },
         "name": "ELECTRICAL ENGINEERING",
         "offsetgroup": "ELECTRICAL ENGINEERING",
         "orientation": "v",
         "showlegend": true,
         "textposition": "auto",
         "type": "bar",
         "x": [
          "ELECTRICAL ENGINEERING"
         ],
         "xaxis": "x",
         "y": [
          100000
         ],
         "yaxis": "y"
        },
        {
         "alignmentgroup": "True",
         "hovertemplate": "<b>%{hovertext}</b><br><br>labour_type=%{x}<br>Income_dist=%{y}<extra></extra>",
         "hovertext": [
          70000
         ],
         "legendgroup": "ADMINISTRATIVE OFFICER IN COLLEGE OF EDU",
         "marker": {
          "color": "#FFA15A",
          "pattern": {
           "shape": ""
          }
         },
         "name": "ADMINISTRATIVE OFFICER IN COLLEGE OF EDU",
         "offsetgroup": "ADMINISTRATIVE OFFICER IN COLLEGE OF EDU",
         "orientation": "v",
         "showlegend": true,
         "textposition": "auto",
         "type": "bar",
         "x": [
          "ADMINISTRATIVE OFFICER IN COLLEGE OF EDU"
         ],
         "xaxis": "x",
         "y": [
          70000
         ],
         "yaxis": "y"
        },
        {
         "alignmentgroup": "True",
         "hovertemplate": "<b>%{hovertext}</b><br><br>labour_type=%{x}<br>Income_dist=%{y}<extra></extra>",
         "hovertext": [
          70000
         ],
         "legendgroup": "SCHOOL SECURITY",
         "marker": {
          "color": "#19d3f3",
          "pattern": {
           "shape": ""
          }
         },
         "name": "SCHOOL SECURITY",
         "offsetgroup": "SCHOOL SECURITY",
         "orientation": "v",
         "showlegend": true,
         "textposition": "auto",
         "type": "bar",
         "x": [
          "SCHOOL SECURITY"
         ],
         "xaxis": "x",
         "y": [
          70000
         ],
         "yaxis": "y"
        },
        {
         "alignmentgroup": "True",
         "hovertemplate": "<b>%{hovertext}</b><br><br>labour_type=%{x}<br>Income_dist=%{y}<extra></extra>",
         "hovertext": [
          25000
         ],
         "legendgroup": "SELLING WATCHES",
         "marker": {
          "color": "#FF6692",
          "pattern": {
           "shape": ""
          }
         },
         "name": "SELLING WATCHES",
         "offsetgroup": "SELLING WATCHES",
         "orientation": "v",
         "showlegend": true,
         "textposition": "auto",
         "type": "bar",
         "x": [
          "SELLING WATCHES"
         ],
         "xaxis": "x",
         "y": [
          25000
         ],
         "yaxis": "y"
        },
        {
         "alignmentgroup": "True",
         "hovertemplate": "<b>%{hovertext}</b><br><br>labour_type=%{x}<br>Income_dist=%{y}<extra></extra>",
         "hovertext": [
          40000
         ],
         "legendgroup": "MEDICAL PERSONNEL",
         "marker": {
          "color": "#B6E880",
          "pattern": {
           "shape": ""
          }
         },
         "name": "MEDICAL PERSONNEL",
         "offsetgroup": "MEDICAL PERSONNEL",
         "orientation": "v",
         "showlegend": true,
         "textposition": "auto",
         "type": "bar",
         "x": [
          "MEDICAL PERSONNEL"
         ],
         "xaxis": "x",
         "y": [
          40000
         ],
         "yaxis": "y"
        },
        {
         "alignmentgroup": "True",
         "hovertemplate": "<b>%{hovertext}</b><br><br>labour_type=%{x}<br>Income_dist=%{y}<extra></extra>",
         "hovertext": [
          35000
         ],
         "legendgroup": "CASH COLLECTOR AT SKY LOTTO OFFICE",
         "marker": {
          "color": "#FF97FF",
          "pattern": {
           "shape": ""
          }
         },
         "name": "CASH COLLECTOR AT SKY LOTTO OFFICE",
         "offsetgroup": "CASH COLLECTOR AT SKY LOTTO OFFICE",
         "orientation": "v",
         "showlegend": true,
         "textposition": "auto",
         "type": "bar",
         "x": [
          "CASH COLLECTOR AT SKY LOTTO OFFICE"
         ],
         "xaxis": "x",
         "y": [
          35000
         ],
         "yaxis": "y"
        },
        {
         "alignmentgroup": "True",
         "hovertemplate": "<b>%{hovertext}</b><br><br>labour_type=%{x}<br>Income_dist=%{y}<extra></extra>",
         "hovertext": [
          85000
         ],
         "legendgroup": "ARTIST PRINT ON MATERIALS & STICKERS",
         "marker": {
          "color": "#FECB52",
          "pattern": {
           "shape": ""
          }
         },
         "name": "ARTIST PRINT ON MATERIALS & STICKERS",
         "offsetgroup": "ARTIST PRINT ON MATERIALS & STICKERS",
         "orientation": "v",
         "showlegend": true,
         "textposition": "auto",
         "type": "bar",
         "x": [
          "ARTIST PRINT ON MATERIALS & STICKERS"
         ],
         "xaxis": "x",
         "y": [
          85000
         ],
         "yaxis": "y"
        },
        {
         "alignmentgroup": "True",
         "hovertemplate": "<b>%{hovertext}</b><br><br>labour_type=%{x}<br>Income_dist=%{y}<extra></extra>",
         "hovertext": [
          2000
         ],
         "legendgroup": "COMMERCIAL VAN DRIVER",
         "marker": {
          "color": "#636efa",
          "pattern": {
           "shape": ""
          }
         },
         "name": "COMMERCIAL VAN DRIVER",
         "offsetgroup": "COMMERCIAL VAN DRIVER",
         "orientation": "v",
         "showlegend": true,
         "textposition": "auto",
         "type": "bar",
         "x": [
          "COMMERCIAL VAN DRIVER"
         ],
         "xaxis": "x",
         "y": [
          2000
         ],
         "yaxis": "y"
        },
        {
         "alignmentgroup": "True",
         "hovertemplate": "<b>%{hovertext}</b><br><br>labour_type=%{x}<br>Income_dist=%{y}<extra></extra>",
         "hovertext": [
          72000
         ],
         "legendgroup": "TEACHING IN SECONDARY SCHOOL(SUBEB)",
         "marker": {
          "color": "#EF553B",
          "pattern": {
           "shape": ""
          }
         },
         "name": "TEACHING IN SECONDARY SCHOOL(SUBEB)",
         "offsetgroup": "TEACHING IN SECONDARY SCHOOL(SUBEB)",
         "orientation": "v",
         "showlegend": true,
         "textposition": "auto",
         "type": "bar",
         "x": [
          "TEACHING IN SECONDARY SCHOOL(SUBEB)"
         ],
         "xaxis": "x",
         "y": [
          72000
         ],
         "yaxis": "y"
        },
        {
         "alignmentgroup": "True",
         "hovertemplate": "<b>%{hovertext}</b><br><br>labour_type=%{x}<br>Income_dist=%{y}<extra></extra>",
         "hovertext": [
          18500
         ],
         "legendgroup": "COOK IN A SECONDARY SCHOOL",
         "marker": {
          "color": "#00cc96",
          "pattern": {
           "shape": ""
          }
         },
         "name": "COOK IN A SECONDARY SCHOOL",
         "offsetgroup": "COOK IN A SECONDARY SCHOOL",
         "orientation": "v",
         "showlegend": true,
         "textposition": "auto",
         "type": "bar",
         "x": [
          "COOK IN A SECONDARY SCHOOL"
         ],
         "xaxis": "x",
         "y": [
          18500
         ],
         "yaxis": "y"
        },
        {
         "alignmentgroup": "True",
         "hovertemplate": "<b>%{hovertext}</b><br><br>labour_type=%{x}<br>Income_dist=%{y}<extra></extra>",
         "hovertext": [
          10000
         ],
         "legendgroup": "PHARMACEUTICAL TECHNICIAN",
         "marker": {
          "color": "#ab63fa",
          "pattern": {
           "shape": ""
          }
         },
         "name": "PHARMACEUTICAL TECHNICIAN",
         "offsetgroup": "PHARMACEUTICAL TECHNICIAN",
         "orientation": "v",
         "showlegend": true,
         "textposition": "auto",
         "type": "bar",
         "x": [
          "PHARMACEUTICAL TECHNICIAN"
         ],
         "xaxis": "x",
         "y": [
          10000
         ],
         "yaxis": "y"
        },
        {
         "alignmentgroup": "True",
         "hovertemplate": "<b>%{hovertext}</b><br><br>labour_type=%{x}<br>Income_dist=%{y}<extra></extra>",
         "hovertext": [
          20000,
          18000
         ],
         "legendgroup": "TRACTOR DRIVER",
         "marker": {
          "color": "#FFA15A",
          "pattern": {
           "shape": ""
          }
         },
         "name": "TRACTOR DRIVER",
         "offsetgroup": "TRACTOR DRIVER",
         "orientation": "v",
         "showlegend": true,
         "textposition": "auto",
         "type": "bar",
         "x": [
          "TRACTOR DRIVER",
          "TRACTOR DRIVER"
         ],
         "xaxis": "x",
         "y": [
          20000,
          18000
         ],
         "yaxis": "y"
        },
        {
         "alignmentgroup": "True",
         "hovertemplate": "<b>%{hovertext}</b><br><br>labour_type=%{x}<br>Income_dist=%{y}<extra></extra>",
         "hovertext": [
          2000
         ],
         "legendgroup": "SAW MIL MACHINE OPERATOR",
         "marker": {
          "color": "#19d3f3",
          "pattern": {
           "shape": ""
          }
         },
         "name": "SAW MIL MACHINE OPERATOR",
         "offsetgroup": "SAW MIL MACHINE OPERATOR",
         "orientation": "v",
         "showlegend": true,
         "textposition": "auto",
         "type": "bar",
         "x": [
          "SAW MIL MACHINE OPERATOR"
         ],
         "xaxis": "x",
         "y": [
          2000
         ],
         "yaxis": "y"
        },
        {
         "alignmentgroup": "True",
         "hovertemplate": "<b>%{hovertext}</b><br><br>labour_type=%{x}<br>Income_dist=%{y}<extra></extra>",
         "hovertext": [
          6000
         ],
         "legendgroup": "PURE WATER FACTORY ASST.",
         "marker": {
          "color": "#FF6692",
          "pattern": {
           "shape": ""
          }
         },
         "name": "PURE WATER FACTORY ASST.",
         "offsetgroup": "PURE WATER FACTORY ASST.",
         "orientation": "v",
         "showlegend": true,
         "textposition": "auto",
         "type": "bar",
         "x": [
          "PURE WATER FACTORY ASST."
         ],
         "xaxis": "x",
         "y": [
          6000
         ],
         "yaxis": "y"
        },
        {
         "alignmentgroup": "True",
         "hovertemplate": "<b>%{hovertext}</b><br><br>labour_type=%{x}<br>Income_dist=%{y}<extra></extra>",
         "hovertext": [
          30000
         ],
         "legendgroup": "AGRIC OFFICER",
         "marker": {
          "color": "#B6E880",
          "pattern": {
           "shape": ""
          }
         },
         "name": "AGRIC OFFICER",
         "offsetgroup": "AGRIC OFFICER",
         "orientation": "v",
         "showlegend": true,
         "textposition": "auto",
         "type": "bar",
         "x": [
          "AGRIC OFFICER"
         ],
         "xaxis": "x",
         "y": [
          30000
         ],
         "yaxis": "y"
        },
        {
         "alignmentgroup": "True",
         "hovertemplate": "<b>%{hovertext}</b><br><br>labour_type=%{x}<br>Income_dist=%{y}<extra></extra>",
         "hovertext": [
          30000
         ],
         "legendgroup": "PRY SCH TEACHER",
         "marker": {
          "color": "#FF97FF",
          "pattern": {
           "shape": ""
          }
         },
         "name": "PRY SCH TEACHER",
         "offsetgroup": "PRY SCH TEACHER",
         "orientation": "v",
         "showlegend": true,
         "textposition": "auto",
         "type": "bar",
         "x": [
          "PRY SCH TEACHER"
         ],
         "xaxis": "x",
         "y": [
          30000
         ],
         "yaxis": "y"
        },
        {
         "alignmentgroup": "True",
         "hovertemplate": "<b>%{hovertext}</b><br><br>labour_type=%{x}<br>Income_dist=%{y}<extra></extra>",
         "hovertext": [
          18000
         ],
         "legendgroup": "ACTIVITIES OF DOMESTIC HOUSE HELP",
         "marker": {
          "color": "#FECB52",
          "pattern": {
           "shape": ""
          }
         },
         "name": "ACTIVITIES OF DOMESTIC HOUSE HELP",
         "offsetgroup": "ACTIVITIES OF DOMESTIC HOUSE HELP",
         "orientation": "v",
         "showlegend": true,
         "textposition": "auto",
         "type": "bar",
         "x": [
          "ACTIVITIES OF DOMESTIC HOUSE HELP"
         ],
         "xaxis": "x",
         "y": [
          18000
         ],
         "yaxis": "y"
        },
        {
         "alignmentgroup": "True",
         "hovertemplate": "<b>%{hovertext}</b><br><br>labour_type=%{x}<br>Income_dist=%{y}<extra></extra>",
         "hovertext": [
          18000
         ],
         "legendgroup": "SECURITY MAN AT WATER WORKS",
         "marker": {
          "color": "#636efa",
          "pattern": {
           "shape": ""
          }
         },
         "name": "SECURITY MAN AT WATER WORKS",
         "offsetgroup": "SECURITY MAN AT WATER WORKS",
         "orientation": "v",
         "showlegend": true,
         "textposition": "auto",
         "type": "bar",
         "x": [
          "SECURITY MAN AT WATER WORKS"
         ],
         "xaxis": "x",
         "y": [
          18000
         ],
         "yaxis": "y"
        },
        {
         "alignmentgroup": "True",
         "hovertemplate": "<b>%{hovertext}</b><br><br>labour_type=%{x}<br>Income_dist=%{y}<extra></extra>",
         "hovertext": [
          75072
         ],
         "legendgroup": "PRIMARY SCHOOL ABACHER",
         "marker": {
          "color": "#EF553B",
          "pattern": {
           "shape": ""
          }
         },
         "name": "PRIMARY SCHOOL ABACHER",
         "offsetgroup": "PRIMARY SCHOOL ABACHER",
         "orientation": "v",
         "showlegend": true,
         "textposition": "auto",
         "type": "bar",
         "x": [
          "PRIMARY SCHOOL ABACHER"
         ],
         "xaxis": "x",
         "y": [
          75072
         ],
         "yaxis": "y"
        },
        {
         "alignmentgroup": "True",
         "hovertemplate": "<b>%{hovertext}</b><br><br>labour_type=%{x}<br>Income_dist=%{y}<extra></extra>",
         "hovertext": [
          18000
         ],
         "legendgroup": "HOTELIANN (WORK AS HOUSE KEEPER)",
         "marker": {
          "color": "#00cc96",
          "pattern": {
           "shape": ""
          }
         },
         "name": "HOTELIANN (WORK AS HOUSE KEEPER)",
         "offsetgroup": "HOTELIANN (WORK AS HOUSE KEEPER)",
         "orientation": "v",
         "showlegend": true,
         "textposition": "auto",
         "type": "bar",
         "x": [
          "HOTELIANN (WORK AS HOUSE KEEPER)"
         ],
         "xaxis": "x",
         "y": [
          18000
         ],
         "yaxis": "y"
        },
        {
         "alignmentgroup": "True",
         "hovertemplate": "<b>%{hovertext}</b><br><br>labour_type=%{x}<br>Income_dist=%{y}<extra></extra>",
         "hovertext": [
          50000
         ],
         "legendgroup": "CIVIL ENGINEER IN A CONSTRUCTION COMPANY",
         "marker": {
          "color": "#ab63fa",
          "pattern": {
           "shape": ""
          }
         },
         "name": "CIVIL ENGINEER IN A CONSTRUCTION COMPANY",
         "offsetgroup": "CIVIL ENGINEER IN A CONSTRUCTION COMPANY",
         "orientation": "v",
         "showlegend": true,
         "textposition": "auto",
         "type": "bar",
         "x": [
          "CIVIL ENGINEER IN A CONSTRUCTION COMPANY"
         ],
         "xaxis": "x",
         "y": [
          50000
         ],
         "yaxis": "y"
        },
        {
         "alignmentgroup": "True",
         "hovertemplate": "<b>%{hovertext}</b><br><br>labour_type=%{x}<br>Income_dist=%{y}<extra></extra>",
         "hovertext": [
          58000
         ],
         "legendgroup": "POSTAL OFFICE",
         "marker": {
          "color": "#FFA15A",
          "pattern": {
           "shape": ""
          }
         },
         "name": "POSTAL OFFICE",
         "offsetgroup": "POSTAL OFFICE",
         "orientation": "v",
         "showlegend": true,
         "textposition": "auto",
         "type": "bar",
         "x": [
          "POSTAL OFFICE"
         ],
         "xaxis": "x",
         "y": [
          58000
         ],
         "yaxis": "y"
        },
        {
         "alignmentgroup": "True",
         "hovertemplate": "<b>%{hovertext}</b><br><br>labour_type=%{x}<br>Income_dist=%{y}<extra></extra>",
         "hovertext": [
          8000
         ],
         "legendgroup": "TEACHING IN PRIVATE SCHOOL",
         "marker": {
          "color": "#19d3f3",
          "pattern": {
           "shape": ""
          }
         },
         "name": "TEACHING IN PRIVATE SCHOOL",
         "offsetgroup": "TEACHING IN PRIVATE SCHOOL",
         "orientation": "v",
         "showlegend": true,
         "textposition": "auto",
         "type": "bar",
         "x": [
          "TEACHING IN PRIVATE SCHOOL"
         ],
         "xaxis": "x",
         "y": [
          8000
         ],
         "yaxis": "y"
        },
        {
         "alignmentgroup": "True",
         "hovertemplate": "<b>%{hovertext}</b><br><br>labour_type=%{x}<br>Income_dist=%{y}<extra></extra>",
         "hovertext": [
          7000
         ],
         "legendgroup": "ALUMINIUM APPRENTICE",
         "marker": {
          "color": "#FF6692",
          "pattern": {
           "shape": ""
          }
         },
         "name": "ALUMINIUM APPRENTICE",
         "offsetgroup": "ALUMINIUM APPRENTICE",
         "orientation": "v",
         "showlegend": true,
         "textposition": "auto",
         "type": "bar",
         "x": [
          "ALUMINIUM APPRENTICE"
         ],
         "xaxis": "x",
         "y": [
          7000
         ],
         "yaxis": "y"
        },
        {
         "alignmentgroup": "True",
         "hovertemplate": "<b>%{hovertext}</b><br><br>labour_type=%{x}<br>Income_dist=%{y}<extra></extra>",
         "hovertext": [
          20000
         ],
         "legendgroup": "EVENTS DECORATION",
         "marker": {
          "color": "#B6E880",
          "pattern": {
           "shape": ""
          }
         },
         "name": "EVENTS DECORATION",
         "offsetgroup": "EVENTS DECORATION",
         "orientation": "v",
         "showlegend": true,
         "textposition": "auto",
         "type": "bar",
         "x": [
          "EVENTS DECORATION"
         ],
         "xaxis": "x",
         "y": [
          20000
         ],
         "yaxis": "y"
        },
        {
         "alignmentgroup": "True",
         "hovertemplate": "<b>%{hovertext}</b><br><br>labour_type=%{x}<br>Income_dist=%{y}<extra></extra>",
         "hovertext": [
          25000,
          30000
         ],
         "legendgroup": "MACHINE OPERATOR",
         "marker": {
          "color": "#FF97FF",
          "pattern": {
           "shape": ""
          }
         },
         "name": "MACHINE OPERATOR",
         "offsetgroup": "MACHINE OPERATOR",
         "orientation": "v",
         "showlegend": true,
         "textposition": "auto",
         "type": "bar",
         "x": [
          "MACHINE OPERATOR",
          "MACHINE OPERATOR"
         ],
         "xaxis": "x",
         "y": [
          25000,
          30000
         ],
         "yaxis": "y"
        },
        {
         "alignmentgroup": "True",
         "hovertemplate": "<b>%{hovertext}</b><br><br>labour_type=%{x}<br>Income_dist=%{y}<extra></extra>",
         "hovertext": [
          10000
         ],
         "legendgroup": "CLEANNER IN PHCN OFFICE",
         "marker": {
          "color": "#FECB52",
          "pattern": {
           "shape": ""
          }
         },
         "name": "CLEANNER IN PHCN OFFICE",
         "offsetgroup": "CLEANNER IN PHCN OFFICE",
         "orientation": "v",
         "showlegend": true,
         "textposition": "auto",
         "type": "bar",
         "x": [
          "CLEANNER IN PHCN OFFICE"
         ],
         "xaxis": "x",
         "y": [
          10000
         ],
         "yaxis": "y"
        },
        {
         "alignmentgroup": "True",
         "hovertemplate": "<b>%{hovertext}</b><br><br>labour_type=%{x}<br>Income_dist=%{y}<extra></extra>",
         "hovertext": [
          55000
         ],
         "legendgroup": "DRIVER IN PRIVATE SCHOOL",
         "marker": {
          "color": "#636efa",
          "pattern": {
           "shape": ""
          }
         },
         "name": "DRIVER IN PRIVATE SCHOOL",
         "offsetgroup": "DRIVER IN PRIVATE SCHOOL",
         "orientation": "v",
         "showlegend": true,
         "textposition": "auto",
         "type": "bar",
         "x": [
          "DRIVER IN PRIVATE SCHOOL"
         ],
         "xaxis": "x",
         "y": [
          55000
         ],
         "yaxis": "y"
        },
        {
         "alignmentgroup": "True",
         "hovertemplate": "<b>%{hovertext}</b><br><br>labour_type=%{x}<br>Income_dist=%{y}<extra></extra>",
         "hovertext": [
          50000
         ],
         "legendgroup": "CLERICAL OFFICER IN A COMPANY",
         "marker": {
          "color": "#EF553B",
          "pattern": {
           "shape": ""
          }
         },
         "name": "CLERICAL OFFICER IN A COMPANY",
         "offsetgroup": "CLERICAL OFFICER IN A COMPANY",
         "orientation": "v",
         "showlegend": true,
         "textposition": "auto",
         "type": "bar",
         "x": [
          "CLERICAL OFFICER IN A COMPANY"
         ],
         "xaxis": "x",
         "y": [
          50000
         ],
         "yaxis": "y"
        },
        {
         "alignmentgroup": "True",
         "hovertemplate": "<b>%{hovertext}</b><br><br>labour_type=%{x}<br>Income_dist=%{y}<extra></extra>",
         "hovertext": [
          5000
         ],
         "legendgroup": "HOUSE HELPER",
         "marker": {
          "color": "#00cc96",
          "pattern": {
           "shape": ""
          }
         },
         "name": "HOUSE HELPER",
         "offsetgroup": "HOUSE HELPER",
         "orientation": "v",
         "showlegend": true,
         "textposition": "auto",
         "type": "bar",
         "x": [
          "HOUSE HELPER"
         ],
         "xaxis": "x",
         "y": [
          5000
         ],
         "yaxis": "y"
        },
        {
         "alignmentgroup": "True",
         "hovertemplate": "<b>%{hovertext}</b><br><br>labour_type=%{x}<br>Income_dist=%{y}<extra></extra>",
         "hovertext": [
          25000
         ],
         "legendgroup": "BAKERY SALES GIRL",
         "marker": {
          "color": "#ab63fa",
          "pattern": {
           "shape": ""
          }
         },
         "name": "BAKERY SALES GIRL",
         "offsetgroup": "BAKERY SALES GIRL",
         "orientation": "v",
         "showlegend": true,
         "textposition": "auto",
         "type": "bar",
         "x": [
          "BAKERY SALES GIRL"
         ],
         "xaxis": "x",
         "y": [
          25000
         ],
         "yaxis": "y"
        },
        {
         "alignmentgroup": "True",
         "hovertemplate": "<b>%{hovertext}</b><br><br>labour_type=%{x}<br>Income_dist=%{y}<extra></extra>",
         "hovertext": [
          120000
         ],
         "legendgroup": "V.I.O (DRIVER)",
         "marker": {
          "color": "#FFA15A",
          "pattern": {
           "shape": ""
          }
         },
         "name": "V.I.O (DRIVER)",
         "offsetgroup": "V.I.O (DRIVER)",
         "orientation": "v",
         "showlegend": true,
         "textposition": "auto",
         "type": "bar",
         "x": [
          "V.I.O (DRIVER)"
         ],
         "xaxis": "x",
         "y": [
          120000
         ],
         "yaxis": "y"
        },
        {
         "alignmentgroup": "True",
         "hovertemplate": "<b>%{hovertext}</b><br><br>labour_type=%{x}<br>Income_dist=%{y}<extra></extra>",
         "hovertext": [
          40000
         ],
         "legendgroup": "RECEPTIONIST IN AN HOTEL",
         "marker": {
          "color": "#19d3f3",
          "pattern": {
           "shape": ""
          }
         },
         "name": "RECEPTIONIST IN AN HOTEL",
         "offsetgroup": "RECEPTIONIST IN AN HOTEL",
         "orientation": "v",
         "showlegend": true,
         "textposition": "auto",
         "type": "bar",
         "x": [
          "RECEPTIONIST IN AN HOTEL"
         ],
         "xaxis": "x",
         "y": [
          40000
         ],
         "yaxis": "y"
        },
        {
         "alignmentgroup": "True",
         "hovertemplate": "<b>%{hovertext}</b><br><br>labour_type=%{x}<br>Income_dist=%{y}<extra></extra>",
         "hovertext": [
          10000
         ],
         "legendgroup": "TEACHING IN PRIVATE PRIMARY SCHOOL",
         "marker": {
          "color": "#FF6692",
          "pattern": {
           "shape": ""
          }
         },
         "name": "TEACHING IN PRIVATE PRIMARY SCHOOL",
         "offsetgroup": "TEACHING IN PRIVATE PRIMARY SCHOOL",
         "orientation": "v",
         "showlegend": true,
         "textposition": "auto",
         "type": "bar",
         "x": [
          "TEACHING IN PRIVATE PRIMARY SCHOOL"
         ],
         "xaxis": "x",
         "y": [
          10000
         ],
         "yaxis": "y"
        },
        {
         "alignmentgroup": "True",
         "hovertemplate": "<b>%{hovertext}</b><br><br>labour_type=%{x}<br>Income_dist=%{y}<extra></extra>",
         "hovertext": [
          60000
         ],
         "legendgroup": "SALES REP IN TELE COMMUNICATION INDUSTRY",
         "marker": {
          "color": "#B6E880",
          "pattern": {
           "shape": ""
          }
         },
         "name": "SALES REP IN TELE COMMUNICATION INDUSTRY",
         "offsetgroup": "SALES REP IN TELE COMMUNICATION INDUSTRY",
         "orientation": "v",
         "showlegend": true,
         "textposition": "auto",
         "type": "bar",
         "x": [
          "SALES REP IN TELE COMMUNICATION INDUSTRY"
         ],
         "xaxis": "x",
         "y": [
          60000
         ],
         "yaxis": "y"
        },
        {
         "alignmentgroup": "True",
         "hovertemplate": "<b>%{hovertext}</b><br><br>labour_type=%{x}<br>Income_dist=%{y}<extra></extra>",
         "hovertext": [
          40000
         ],
         "legendgroup": "HEAVY TRUCK DRIVER",
         "marker": {
          "color": "#FF97FF",
          "pattern": {
           "shape": ""
          }
         },
         "name": "HEAVY TRUCK DRIVER",
         "offsetgroup": "HEAVY TRUCK DRIVER",
         "orientation": "v",
         "showlegend": true,
         "textposition": "auto",
         "type": "bar",
         "x": [
          "HEAVY TRUCK DRIVER"
         ],
         "xaxis": "x",
         "y": [
          40000
         ],
         "yaxis": "y"
        },
        {
         "alignmentgroup": "True",
         "hovertemplate": "<b>%{hovertext}</b><br><br>labour_type=%{x}<br>Income_dist=%{y}<extra></extra>",
         "hovertext": [
          20000
         ],
         "legendgroup": "GRAPHIC DESIGNER (PHOTO LAB)",
         "marker": {
          "color": "#FECB52",
          "pattern": {
           "shape": ""
          }
         },
         "name": "GRAPHIC DESIGNER (PHOTO LAB)",
         "offsetgroup": "GRAPHIC DESIGNER (PHOTO LAB)",
         "orientation": "v",
         "showlegend": true,
         "textposition": "auto",
         "type": "bar",
         "x": [
          "GRAPHIC DESIGNER (PHOTO LAB)"
         ],
         "xaxis": "x",
         "y": [
          20000
         ],
         "yaxis": "y"
        },
        {
         "alignmentgroup": "True",
         "hovertemplate": "<b>%{hovertext}</b><br><br>labour_type=%{x}<br>Income_dist=%{y}<extra></extra>",
         "hovertext": [
          2470000
         ],
         "legendgroup": "CLERK (PHYSICAL EXAM. IN PORT)",
         "marker": {
          "color": "#636efa",
          "pattern": {
           "shape": ""
          }
         },
         "name": "CLERK (PHYSICAL EXAM. IN PORT)",
         "offsetgroup": "CLERK (PHYSICAL EXAM. IN PORT)",
         "orientation": "v",
         "showlegend": true,
         "textposition": "auto",
         "type": "bar",
         "x": [
          "CLERK (PHYSICAL EXAM. IN PORT)"
         ],
         "xaxis": "x",
         "y": [
          2470000
         ],
         "yaxis": "y"
        },
        {
         "alignmentgroup": "True",
         "hovertemplate": "<b>%{hovertext}</b><br><br>labour_type=%{x}<br>Income_dist=%{y}<extra></extra>",
         "hovertext": [
          35000
         ],
         "legendgroup": "WORKING AS A DRIVER IN A TRANSPORT COY",
         "marker": {
          "color": "#EF553B",
          "pattern": {
           "shape": ""
          }
         },
         "name": "WORKING AS A DRIVER IN A TRANSPORT COY",
         "offsetgroup": "WORKING AS A DRIVER IN A TRANSPORT COY",
         "orientation": "v",
         "showlegend": true,
         "textposition": "auto",
         "type": "bar",
         "x": [
          "WORKING AS A DRIVER IN A TRANSPORT COY"
         ],
         "xaxis": "x",
         "y": [
          35000
         ],
         "yaxis": "y"
        },
        {
         "alignmentgroup": "True",
         "hovertemplate": "<b>%{hovertext}</b><br><br>labour_type=%{x}<br>Income_dist=%{y}<extra></extra>",
         "hovertext": [
          15000
         ],
         "legendgroup": "PRINTING PRESS",
         "marker": {
          "color": "#00cc96",
          "pattern": {
           "shape": ""
          }
         },
         "name": "PRINTING PRESS",
         "offsetgroup": "PRINTING PRESS",
         "orientation": "v",
         "showlegend": true,
         "textposition": "auto",
         "type": "bar",
         "x": [
          "PRINTING PRESS"
         ],
         "xaxis": "x",
         "y": [
          15000
         ],
         "yaxis": "y"
        },
        {
         "alignmentgroup": "True",
         "hovertemplate": "<b>%{hovertext}</b><br><br>labour_type=%{x}<br>Income_dist=%{y}<extra></extra>",
         "hovertext": [
          40000
         ],
         "legendgroup": "SECONDARY SCHOOL TEACHER PRIVATE SCHOOL",
         "marker": {
          "color": "#ab63fa",
          "pattern": {
           "shape": ""
          }
         },
         "name": "SECONDARY SCHOOL TEACHER PRIVATE SCHOOL",
         "offsetgroup": "SECONDARY SCHOOL TEACHER PRIVATE SCHOOL",
         "orientation": "v",
         "showlegend": true,
         "textposition": "auto",
         "type": "bar",
         "x": [
          "SECONDARY SCHOOL TEACHER PRIVATE SCHOOL"
         ],
         "xaxis": "x",
         "y": [
          40000
         ],
         "yaxis": "y"
        },
        {
         "alignmentgroup": "True",
         "hovertemplate": "<b>%{hovertext}</b><br><br>labour_type=%{x}<br>Income_dist=%{y}<extra></extra>",
         "hovertext": [
          40000
         ],
         "legendgroup": "CAR DRIVER",
         "marker": {
          "color": "#FFA15A",
          "pattern": {
           "shape": ""
          }
         },
         "name": "CAR DRIVER",
         "offsetgroup": "CAR DRIVER",
         "orientation": "v",
         "showlegend": true,
         "textposition": "auto",
         "type": "bar",
         "x": [
          "CAR DRIVER"
         ],
         "xaxis": "x",
         "y": [
          40000
         ],
         "yaxis": "y"
        },
        {
         "alignmentgroup": "True",
         "hovertemplate": "<b>%{hovertext}</b><br><br>labour_type=%{x}<br>Income_dist=%{y}<extra></extra>",
         "hovertext": [
          8000
         ],
         "legendgroup": "FASHIONER DESIGNER",
         "marker": {
          "color": "#19d3f3",
          "pattern": {
           "shape": ""
          }
         },
         "name": "FASHIONER DESIGNER",
         "offsetgroup": "FASHIONER DESIGNER",
         "orientation": "v",
         "showlegend": true,
         "textposition": "auto",
         "type": "bar",
         "x": [
          "FASHIONER DESIGNER"
         ],
         "xaxis": "x",
         "y": [
          8000
         ],
         "yaxis": "y"
        },
        {
         "alignmentgroup": "True",
         "hovertemplate": "<b>%{hovertext}</b><br><br>labour_type=%{x}<br>Income_dist=%{y}<extra></extra>",
         "hovertext": [
          25000
         ],
         "legendgroup": "STALL AND MARKET PLACE REPRESENTATIVES",
         "marker": {
          "color": "#FF6692",
          "pattern": {
           "shape": ""
          }
         },
         "name": "STALL AND MARKET PLACE REPRESENTATIVES",
         "offsetgroup": "STALL AND MARKET PLACE REPRESENTATIVES",
         "orientation": "v",
         "showlegend": true,
         "textposition": "auto",
         "type": "bar",
         "x": [
          "STALL AND MARKET PLACE REPRESENTATIVES"
         ],
         "xaxis": "x",
         "y": [
          25000
         ],
         "yaxis": "y"
        },
        {
         "alignmentgroup": "True",
         "hovertemplate": "<b>%{hovertext}</b><br><br>labour_type=%{x}<br>Income_dist=%{y}<extra></extra>",
         "hovertext": [
          20000,
          3500
         ],
         "legendgroup": "CASUAL WORKER IN PLASTIC COMPANY",
         "marker": {
          "color": "#B6E880",
          "pattern": {
           "shape": ""
          }
         },
         "name": "CASUAL WORKER IN PLASTIC COMPANY",
         "offsetgroup": "CASUAL WORKER IN PLASTIC COMPANY",
         "orientation": "v",
         "showlegend": true,
         "textposition": "auto",
         "type": "bar",
         "x": [
          "CASUAL WORKER IN PLASTIC COMPANY",
          "CASUAL WORKER IN PLASTIC COMPANY"
         ],
         "xaxis": "x",
         "y": [
          20000,
          3500
         ],
         "yaxis": "y"
        },
        {
         "alignmentgroup": "True",
         "hovertemplate": "<b>%{hovertext}</b><br><br>labour_type=%{x}<br>Income_dist=%{y}<extra></extra>",
         "hovertext": [
          49000
         ],
         "legendgroup": "NIGERIA SECURITY CIVIL DEFENCE CORP",
         "marker": {
          "color": "#FF97FF",
          "pattern": {
           "shape": ""
          }
         },
         "name": "NIGERIA SECURITY CIVIL DEFENCE CORP",
         "offsetgroup": "NIGERIA SECURITY CIVIL DEFENCE CORP",
         "orientation": "v",
         "showlegend": true,
         "textposition": "auto",
         "type": "bar",
         "x": [
          "NIGERIA SECURITY CIVIL DEFENCE CORP"
         ],
         "xaxis": "x",
         "y": [
          49000
         ],
         "yaxis": "y"
        },
        {
         "alignmentgroup": "True",
         "hovertemplate": "<b>%{hovertext}</b><br><br>labour_type=%{x}<br>Income_dist=%{y}<extra></extra>",
         "hovertext": [
          10000
         ],
         "legendgroup": "HEALTH CLEANING OF ENVIRONMENT",
         "marker": {
          "color": "#FECB52",
          "pattern": {
           "shape": ""
          }
         },
         "name": "HEALTH CLEANING OF ENVIRONMENT",
         "offsetgroup": "HEALTH CLEANING OF ENVIRONMENT",
         "orientation": "v",
         "showlegend": true,
         "textposition": "auto",
         "type": "bar",
         "x": [
          "HEALTH CLEANING OF ENVIRONMENT"
         ],
         "xaxis": "x",
         "y": [
          10000
         ],
         "yaxis": "y"
        },
        {
         "alignmentgroup": "True",
         "hovertemplate": "<b>%{hovertext}</b><br><br>labour_type=%{x}<br>Income_dist=%{y}<extra></extra>",
         "hovertext": [
          40000
         ],
         "legendgroup": "DRIVER OF PURE WATER",
         "marker": {
          "color": "#636efa",
          "pattern": {
           "shape": ""
          }
         },
         "name": "DRIVER OF PURE WATER",
         "offsetgroup": "DRIVER OF PURE WATER",
         "orientation": "v",
         "showlegend": true,
         "textposition": "auto",
         "type": "bar",
         "x": [
          "DRIVER OF PURE WATER"
         ],
         "xaxis": "x",
         "y": [
          40000
         ],
         "yaxis": "y"
        },
        {
         "alignmentgroup": "True",
         "hovertemplate": "<b>%{hovertext}</b><br><br>labour_type=%{x}<br>Income_dist=%{y}<extra></extra>",
         "hovertext": [
          20000
         ],
         "legendgroup": "CLEANER OF THE CHURCH",
         "marker": {
          "color": "#EF553B",
          "pattern": {
           "shape": ""
          }
         },
         "name": "CLEANER OF THE CHURCH",
         "offsetgroup": "CLEANER OF THE CHURCH",
         "orientation": "v",
         "showlegend": true,
         "textposition": "auto",
         "type": "bar",
         "x": [
          "CLEANER OF THE CHURCH"
         ],
         "xaxis": "x",
         "y": [
          20000
         ],
         "yaxis": "y"
        },
        {
         "alignmentgroup": "True",
         "hovertemplate": "<b>%{hovertext}</b><br><br>labour_type=%{x}<br>Income_dist=%{y}<extra></extra>",
         "hovertext": [
          45000
         ],
         "legendgroup": "MARKETER IN BUYING AND SELLING COMPANY",
         "marker": {
          "color": "#00cc96",
          "pattern": {
           "shape": ""
          }
         },
         "name": "MARKETER IN BUYING AND SELLING COMPANY",
         "offsetgroup": "MARKETER IN BUYING AND SELLING COMPANY",
         "orientation": "v",
         "showlegend": true,
         "textposition": "auto",
         "type": "bar",
         "x": [
          "MARKETER IN BUYING AND SELLING COMPANY"
         ],
         "xaxis": "x",
         "y": [
          45000
         ],
         "yaxis": "y"
        },
        {
         "alignmentgroup": "True",
         "hovertemplate": "<b>%{hovertext}</b><br><br>labour_type=%{x}<br>Income_dist=%{y}<extra></extra>",
         "hovertext": [
          28000
         ],
         "legendgroup": "OFFICE ASSISTANT IN LANULA LTD",
         "marker": {
          "color": "#ab63fa",
          "pattern": {
           "shape": ""
          }
         },
         "name": "OFFICE ASSISTANT IN LANULA LTD",
         "offsetgroup": "OFFICE ASSISTANT IN LANULA LTD",
         "orientation": "v",
         "showlegend": true,
         "textposition": "auto",
         "type": "bar",
         "x": [
          "OFFICE ASSISTANT IN LANULA LTD"
         ],
         "xaxis": "x",
         "y": [
          28000
         ],
         "yaxis": "y"
        },
        {
         "alignmentgroup": "True",
         "hovertemplate": "<b>%{hovertext}</b><br><br>labour_type=%{x}<br>Income_dist=%{y}<extra></extra>",
         "hovertext": [
          27000
         ],
         "legendgroup": "MANUFACTURING OF BUSCUITS",
         "marker": {
          "color": "#FFA15A",
          "pattern": {
           "shape": ""
          }
         },
         "name": "MANUFACTURING OF BUSCUITS",
         "offsetgroup": "MANUFACTURING OF BUSCUITS",
         "orientation": "v",
         "showlegend": true,
         "textposition": "auto",
         "type": "bar",
         "x": [
          "MANUFACTURING OF BUSCUITS"
         ],
         "xaxis": "x",
         "y": [
          27000
         ],
         "yaxis": "y"
        },
        {
         "alignmentgroup": "True",
         "hovertemplate": "<b>%{hovertext}</b><br><br>labour_type=%{x}<br>Income_dist=%{y}<extra></extra>",
         "hovertext": [
          50000
         ],
         "legendgroup": "CLEARING AGENT",
         "marker": {
          "color": "#19d3f3",
          "pattern": {
           "shape": ""
          }
         },
         "name": "CLEARING AGENT",
         "offsetgroup": "CLEARING AGENT",
         "orientation": "v",
         "showlegend": true,
         "textposition": "auto",
         "type": "bar",
         "x": [
          "CLEARING AGENT"
         ],
         "xaxis": "x",
         "y": [
          50000
         ],
         "yaxis": "y"
        },
        {
         "alignmentgroup": "True",
         "hovertemplate": "<b>%{hovertext}</b><br><br>labour_type=%{x}<br>Income_dist=%{y}<extra></extra>",
         "hovertext": [
          147000
         ],
         "legendgroup": "CLERK IN OIL AND GAS COMPANY NNPC",
         "marker": {
          "color": "#FF6692",
          "pattern": {
           "shape": ""
          }
         },
         "name": "CLERK IN OIL AND GAS COMPANY NNPC",
         "offsetgroup": "CLERK IN OIL AND GAS COMPANY NNPC",
         "orientation": "v",
         "showlegend": true,
         "textposition": "auto",
         "type": "bar",
         "x": [
          "CLERK IN OIL AND GAS COMPANY NNPC"
         ],
         "xaxis": "x",
         "y": [
          147000
         ],
         "yaxis": "y"
        },
        {
         "alignmentgroup": "True",
         "hovertemplate": "<b>%{hovertext}</b><br><br>labour_type=%{x}<br>Income_dist=%{y}<extra></extra>",
         "hovertext": [
          25000
         ],
         "legendgroup": "FACTORY WORKER",
         "marker": {
          "color": "#B6E880",
          "pattern": {
           "shape": ""
          }
         },
         "name": "FACTORY WORKER",
         "offsetgroup": "FACTORY WORKER",
         "orientation": "v",
         "showlegend": true,
         "textposition": "auto",
         "type": "bar",
         "x": [
          "FACTORY WORKER"
         ],
         "xaxis": "x",
         "y": [
          25000
         ],
         "yaxis": "y"
        },
        {
         "alignmentgroup": "True",
         "hovertemplate": "<b>%{hovertext}</b><br><br>labour_type=%{x}<br>Income_dist=%{y}<extra></extra>",
         "hovertext": [
          15000
         ],
         "legendgroup": "CLERICAL ASSISTANT (LSPOTECH)",
         "marker": {
          "color": "#FF97FF",
          "pattern": {
           "shape": ""
          }
         },
         "name": "CLERICAL ASSISTANT (LSPOTECH)",
         "offsetgroup": "CLERICAL ASSISTANT (LSPOTECH)",
         "orientation": "v",
         "showlegend": true,
         "textposition": "auto",
         "type": "bar",
         "x": [
          "CLERICAL ASSISTANT (LSPOTECH)"
         ],
         "xaxis": "x",
         "y": [
          15000
         ],
         "yaxis": "y"
        },
        {
         "alignmentgroup": "True",
         "hovertemplate": "<b>%{hovertext}</b><br><br>labour_type=%{x}<br>Income_dist=%{y}<extra></extra>",
         "hovertext": [
          20000
         ],
         "legendgroup": "WATCHER AND DOOR KEEPER (SECURITY)",
         "marker": {
          "color": "#FECB52",
          "pattern": {
           "shape": ""
          }
         },
         "name": "WATCHER AND DOOR KEEPER (SECURITY)",
         "offsetgroup": "WATCHER AND DOOR KEEPER (SECURITY)",
         "orientation": "v",
         "showlegend": true,
         "textposition": "auto",
         "type": "bar",
         "x": [
          "WATCHER AND DOOR KEEPER (SECURITY)"
         ],
         "xaxis": "x",
         "y": [
          20000
         ],
         "yaxis": "y"
        },
        {
         "alignmentgroup": "True",
         "hovertemplate": "<b>%{hovertext}</b><br><br>labour_type=%{x}<br>Income_dist=%{y}<extra></extra>",
         "hovertext": [
          10000
         ],
         "legendgroup": "TAILORING",
         "marker": {
          "color": "#636efa",
          "pattern": {
           "shape": ""
          }
         },
         "name": "TAILORING",
         "offsetgroup": "TAILORING",
         "orientation": "v",
         "showlegend": true,
         "textposition": "auto",
         "type": "bar",
         "x": [
          "TAILORING"
         ],
         "xaxis": "x",
         "y": [
          10000
         ],
         "yaxis": "y"
        },
        {
         "alignmentgroup": "True",
         "hovertemplate": "<b>%{hovertext}</b><br><br>labour_type=%{x}<br>Income_dist=%{y}<extra></extra>",
         "hovertext": [
          60000
         ],
         "legendgroup": "SHIP DECK CREW",
         "marker": {
          "color": "#EF553B",
          "pattern": {
           "shape": ""
          }
         },
         "name": "SHIP DECK CREW",
         "offsetgroup": "SHIP DECK CREW",
         "orientation": "v",
         "showlegend": true,
         "textposition": "auto",
         "type": "bar",
         "x": [
          "SHIP DECK CREW"
         ],
         "xaxis": "x",
         "y": [
          60000
         ],
         "yaxis": "y"
        },
        {
         "alignmentgroup": "True",
         "hovertemplate": "<b>%{hovertext}</b><br><br>labour_type=%{x}<br>Income_dist=%{y}<extra></extra>",
         "hovertext": [
          25000
         ],
         "legendgroup": "TEACHING IN PRIVATE PRY SCHOOL",
         "marker": {
          "color": "#00cc96",
          "pattern": {
           "shape": ""
          }
         },
         "name": "TEACHING IN PRIVATE PRY SCHOOL",
         "offsetgroup": "TEACHING IN PRIVATE PRY SCHOOL",
         "orientation": "v",
         "showlegend": true,
         "textposition": "auto",
         "type": "bar",
         "x": [
          "TEACHING IN PRIVATE PRY SCHOOL"
         ],
         "xaxis": "x",
         "y": [
          25000
         ],
         "yaxis": "y"
        },
        {
         "alignmentgroup": "True",
         "hovertemplate": "<b>%{hovertext}</b><br><br>labour_type=%{x}<br>Income_dist=%{y}<extra></extra>",
         "hovertext": [
          20000
         ],
         "legendgroup": "CLEANER IN A PRIVATE SCHOOL",
         "marker": {
          "color": "#ab63fa",
          "pattern": {
           "shape": ""
          }
         },
         "name": "CLEANER IN A PRIVATE SCHOOL",
         "offsetgroup": "CLEANER IN A PRIVATE SCHOOL",
         "orientation": "v",
         "showlegend": true,
         "textposition": "auto",
         "type": "bar",
         "x": [
          "CLEANER IN A PRIVATE SCHOOL"
         ],
         "xaxis": "x",
         "y": [
          20000
         ],
         "yaxis": "y"
        },
        {
         "alignmentgroup": "True",
         "hovertemplate": "<b>%{hovertext}</b><br><br>labour_type=%{x}<br>Income_dist=%{y}<extra></extra>",
         "hovertext": [
          20000
         ],
         "legendgroup": "IMMAM TEACHING OF ARABIC",
         "marker": {
          "color": "#FFA15A",
          "pattern": {
           "shape": ""
          }
         },
         "name": "IMMAM TEACHING OF ARABIC",
         "offsetgroup": "IMMAM TEACHING OF ARABIC",
         "orientation": "v",
         "showlegend": true,
         "textposition": "auto",
         "type": "bar",
         "x": [
          "IMMAM TEACHING OF ARABIC"
         ],
         "xaxis": "x",
         "y": [
          20000
         ],
         "yaxis": "y"
        },
        {
         "alignmentgroup": "True",
         "hovertemplate": "<b>%{hovertext}</b><br><br>labour_type=%{x}<br>Income_dist=%{y}<extra></extra>",
         "hovertext": [
          90000
         ],
         "legendgroup": "WORK AS A MARKETER IN A COMPANY",
         "marker": {
          "color": "#19d3f3",
          "pattern": {
           "shape": ""
          }
         },
         "name": "WORK AS A MARKETER IN A COMPANY",
         "offsetgroup": "WORK AS A MARKETER IN A COMPANY",
         "orientation": "v",
         "showlegend": true,
         "textposition": "auto",
         "type": "bar",
         "x": [
          "WORK AS A MARKETER IN A COMPANY"
         ],
         "xaxis": "x",
         "y": [
          90000
         ],
         "yaxis": "y"
        },
        {
         "alignmentgroup": "True",
         "hovertemplate": "<b>%{hovertext}</b><br><br>labour_type=%{x}<br>Income_dist=%{y}<extra></extra>",
         "hovertext": [
          100000
         ],
         "legendgroup": "WORK AS A RADIO PRESENTER",
         "marker": {
          "color": "#FF6692",
          "pattern": {
           "shape": ""
          }
         },
         "name": "WORK AS A RADIO PRESENTER",
         "offsetgroup": "WORK AS A RADIO PRESENTER",
         "orientation": "v",
         "showlegend": true,
         "textposition": "auto",
         "type": "bar",
         "x": [
          "WORK AS A RADIO PRESENTER"
         ],
         "xaxis": "x",
         "y": [
          100000
         ],
         "yaxis": "y"
        },
        {
         "alignmentgroup": "True",
         "hovertemplate": "<b>%{hovertext}</b><br><br>labour_type=%{x}<br>Income_dist=%{y}<extra></extra>",
         "hovertext": [
          80000
         ],
         "legendgroup": "WORK AS A CABIN CREW",
         "marker": {
          "color": "#B6E880",
          "pattern": {
           "shape": ""
          }
         },
         "name": "WORK AS A CABIN CREW",
         "offsetgroup": "WORK AS A CABIN CREW",
         "orientation": "v",
         "showlegend": true,
         "textposition": "auto",
         "type": "bar",
         "x": [
          "WORK AS A CABIN CREW"
         ],
         "xaxis": "x",
         "y": [
          80000
         ],
         "yaxis": "y"
        },
        {
         "alignmentgroup": "True",
         "hovertemplate": "<b>%{hovertext}</b><br><br>labour_type=%{x}<br>Income_dist=%{y}<extra></extra>",
         "hovertext": [
          50000
         ],
         "legendgroup": "WORK AS A TELLER IN BANK",
         "marker": {
          "color": "#FF97FF",
          "pattern": {
           "shape": ""
          }
         },
         "name": "WORK AS A TELLER IN BANK",
         "offsetgroup": "WORK AS A TELLER IN BANK",
         "orientation": "v",
         "showlegend": true,
         "textposition": "auto",
         "type": "bar",
         "x": [
          "WORK AS A TELLER IN BANK"
         ],
         "xaxis": "x",
         "y": [
          50000
         ],
         "yaxis": "y"
        },
        {
         "alignmentgroup": "True",
         "hovertemplate": "<b>%{hovertext}</b><br><br>labour_type=%{x}<br>Income_dist=%{y}<extra></extra>",
         "hovertext": [
          65000
         ],
         "legendgroup": "(BRT BUS) SUPERVISOR",
         "marker": {
          "color": "#FECB52",
          "pattern": {
           "shape": ""
          }
         },
         "name": "(BRT BUS) SUPERVISOR",
         "offsetgroup": "(BRT BUS) SUPERVISOR",
         "orientation": "v",
         "showlegend": true,
         "textposition": "auto",
         "type": "bar",
         "x": [
          "(BRT BUS) SUPERVISOR"
         ],
         "xaxis": "x",
         "y": [
          65000
         ],
         "yaxis": "y"
        },
        {
         "alignmentgroup": "True",
         "hovertemplate": "<b>%{hovertext}</b><br><br>labour_type=%{x}<br>Income_dist=%{y}<extra></extra>",
         "hovertext": [
          120000
         ],
         "legendgroup": "WORK IN PRISON (WARDER)",
         "marker": {
          "color": "#636efa",
          "pattern": {
           "shape": ""
          }
         },
         "name": "WORK IN PRISON (WARDER)",
         "offsetgroup": "WORK IN PRISON (WARDER)",
         "orientation": "v",
         "showlegend": true,
         "textposition": "auto",
         "type": "bar",
         "x": [
          "WORK IN PRISON (WARDER)"
         ],
         "xaxis": "x",
         "y": [
          120000
         ],
         "yaxis": "y"
        },
        {
         "alignmentgroup": "True",
         "hovertemplate": "<b>%{hovertext}</b><br><br>labour_type=%{x}<br>Income_dist=%{y}<extra></extra>",
         "hovertext": [
          15000
         ],
         "legendgroup": "CLEANER IN THE SCHOOL",
         "marker": {
          "color": "#EF553B",
          "pattern": {
           "shape": ""
          }
         },
         "name": "CLEANER IN THE SCHOOL",
         "offsetgroup": "CLEANER IN THE SCHOOL",
         "orientation": "v",
         "showlegend": true,
         "textposition": "auto",
         "type": "bar",
         "x": [
          "CLEANER IN THE SCHOOL"
         ],
         "xaxis": "x",
         "y": [
          15000
         ],
         "yaxis": "y"
        },
        {
         "alignmentgroup": "True",
         "hovertemplate": "<b>%{hovertext}</b><br><br>labour_type=%{x}<br>Income_dist=%{y}<extra></extra>",
         "hovertext": [
          20000
         ],
         "legendgroup": "RECEPTIONIST",
         "marker": {
          "color": "#00cc96",
          "pattern": {
           "shape": ""
          }
         },
         "name": "RECEPTIONIST",
         "offsetgroup": "RECEPTIONIST",
         "orientation": "v",
         "showlegend": true,
         "textposition": "auto",
         "type": "bar",
         "x": [
          "RECEPTIONIST"
         ],
         "xaxis": "x",
         "y": [
          20000
         ],
         "yaxis": "y"
        },
        {
         "alignmentgroup": "True",
         "hovertemplate": "<b>%{hovertext}</b><br><br>labour_type=%{x}<br>Income_dist=%{y}<extra></extra>",
         "hovertext": [
          45000
         ],
         "legendgroup": "CATERING SERVICES",
         "marker": {
          "color": "#ab63fa",
          "pattern": {
           "shape": ""
          }
         },
         "name": "CATERING SERVICES",
         "offsetgroup": "CATERING SERVICES",
         "orientation": "v",
         "showlegend": true,
         "textposition": "auto",
         "type": "bar",
         "x": [
          "CATERING SERVICES"
         ],
         "xaxis": "x",
         "y": [
          45000
         ],
         "yaxis": "y"
        },
        {
         "alignmentgroup": "True",
         "hovertemplate": "<b>%{hovertext}</b><br><br>labour_type=%{x}<br>Income_dist=%{y}<extra></extra>",
         "hovertext": [
          20000,
          34000
         ],
         "legendgroup": "SECRETARY",
         "marker": {
          "color": "#FFA15A",
          "pattern": {
           "shape": ""
          }
         },
         "name": "SECRETARY",
         "offsetgroup": "SECRETARY",
         "orientation": "v",
         "showlegend": true,
         "textposition": "auto",
         "type": "bar",
         "x": [
          "SECRETARY",
          "SECRETARY"
         ],
         "xaxis": "x",
         "y": [
          20000,
          34000
         ],
         "yaxis": "y"
        },
        {
         "alignmentgroup": "True",
         "hovertemplate": "<b>%{hovertext}</b><br><br>labour_type=%{x}<br>Income_dist=%{y}<extra></extra>",
         "hovertext": [
          90000
         ],
         "legendgroup": "TECHNICIANS IN EKO HOTEL",
         "marker": {
          "color": "#19d3f3",
          "pattern": {
           "shape": ""
          }
         },
         "name": "TECHNICIANS IN EKO HOTEL",
         "offsetgroup": "TECHNICIANS IN EKO HOTEL",
         "orientation": "v",
         "showlegend": true,
         "textposition": "auto",
         "type": "bar",
         "x": [
          "TECHNICIANS IN EKO HOTEL"
         ],
         "xaxis": "x",
         "y": [
          90000
         ],
         "yaxis": "y"
        },
        {
         "alignmentgroup": "True",
         "hovertemplate": "<b>%{hovertext}</b><br><br>labour_type=%{x}<br>Income_dist=%{y}<extra></extra>",
         "hovertext": [
          60000
         ],
         "legendgroup": "ADMIN OFFICER IN A HOSPITAL",
         "marker": {
          "color": "#FF6692",
          "pattern": {
           "shape": ""
          }
         },
         "name": "ADMIN OFFICER IN A HOSPITAL",
         "offsetgroup": "ADMIN OFFICER IN A HOSPITAL",
         "orientation": "v",
         "showlegend": true,
         "textposition": "auto",
         "type": "bar",
         "x": [
          "ADMIN OFFICER IN A HOSPITAL"
         ],
         "xaxis": "x",
         "y": [
          60000
         ],
         "yaxis": "y"
        },
        {
         "alignmentgroup": "True",
         "hovertemplate": "<b>%{hovertext}</b><br><br>labour_type=%{x}<br>Income_dist=%{y}<extra></extra>",
         "hovertext": [
          12000
         ],
         "legendgroup": "HAIRDRESSER STYLIST",
         "marker": {
          "color": "#B6E880",
          "pattern": {
           "shape": ""
          }
         },
         "name": "HAIRDRESSER STYLIST",
         "offsetgroup": "HAIRDRESSER STYLIST",
         "orientation": "v",
         "showlegend": true,
         "textposition": "auto",
         "type": "bar",
         "x": [
          "HAIRDRESSER STYLIST"
         ],
         "xaxis": "x",
         "y": [
          12000
         ],
         "yaxis": "y"
        },
        {
         "alignmentgroup": "True",
         "hovertemplate": "<b>%{hovertext}</b><br><br>labour_type=%{x}<br>Income_dist=%{y}<extra></extra>",
         "hovertext": [
          40000
         ],
         "legendgroup": "MEDIA PERSONNEL",
         "marker": {
          "color": "#FF97FF",
          "pattern": {
           "shape": ""
          }
         },
         "name": "MEDIA PERSONNEL",
         "offsetgroup": "MEDIA PERSONNEL",
         "orientation": "v",
         "showlegend": true,
         "textposition": "auto",
         "type": "bar",
         "x": [
          "MEDIA PERSONNEL"
         ],
         "xaxis": "x",
         "y": [
          40000
         ],
         "yaxis": "y"
        },
        {
         "alignmentgroup": "True",
         "hovertemplate": "<b>%{hovertext}</b><br><br>labour_type=%{x}<br>Income_dist=%{y}<extra></extra>",
         "hovertext": [
          20000
         ],
         "legendgroup": "DOMESTICS STAFF",
         "marker": {
          "color": "#FECB52",
          "pattern": {
           "shape": ""
          }
         },
         "name": "DOMESTICS STAFF",
         "offsetgroup": "DOMESTICS STAFF",
         "orientation": "v",
         "showlegend": true,
         "textposition": "auto",
         "type": "bar",
         "x": [
          "DOMESTICS STAFF"
         ],
         "xaxis": "x",
         "y": [
          20000
         ],
         "yaxis": "y"
        },
        {
         "alignmentgroup": "True",
         "hovertemplate": "<b>%{hovertext}</b><br><br>labour_type=%{x}<br>Income_dist=%{y}<extra></extra>",
         "hovertext": [
          50000
         ],
         "legendgroup": "ENGENEERING WORK IN AJAH",
         "marker": {
          "color": "#636efa",
          "pattern": {
           "shape": ""
          }
         },
         "name": "ENGENEERING WORK IN AJAH",
         "offsetgroup": "ENGENEERING WORK IN AJAH",
         "orientation": "v",
         "showlegend": true,
         "textposition": "auto",
         "type": "bar",
         "x": [
          "ENGENEERING WORK IN AJAH"
         ],
         "xaxis": "x",
         "y": [
          50000
         ],
         "yaxis": "y"
        },
        {
         "alignmentgroup": "True",
         "hovertemplate": "<b>%{hovertext}</b><br><br>labour_type=%{x}<br>Income_dist=%{y}<extra></extra>",
         "hovertext": [
          150000
         ],
         "legendgroup": "COMPUTER PROGRAMMER",
         "marker": {
          "color": "#EF553B",
          "pattern": {
           "shape": ""
          }
         },
         "name": "COMPUTER PROGRAMMER",
         "offsetgroup": "COMPUTER PROGRAMMER",
         "orientation": "v",
         "showlegend": true,
         "textposition": "auto",
         "type": "bar",
         "x": [
          "COMPUTER PROGRAMMER"
         ],
         "xaxis": "x",
         "y": [
          150000
         ],
         "yaxis": "y"
        },
        {
         "alignmentgroup": "True",
         "hovertemplate": "<b>%{hovertext}</b><br><br>labour_type=%{x}<br>Income_dist=%{y}<extra></extra>",
         "hovertext": [
          15000
         ],
         "legendgroup": "HOUSEHELP",
         "marker": {
          "color": "#00cc96",
          "pattern": {
           "shape": ""
          }
         },
         "name": "HOUSEHELP",
         "offsetgroup": "HOUSEHELP",
         "orientation": "v",
         "showlegend": true,
         "textposition": "auto",
         "type": "bar",
         "x": [
          "HOUSEHELP"
         ],
         "xaxis": "x",
         "y": [
          15000
         ],
         "yaxis": "y"
        },
        {
         "alignmentgroup": "True",
         "hovertemplate": "<b>%{hovertext}</b><br><br>labour_type=%{x}<br>Income_dist=%{y}<extra></extra>",
         "hovertext": [
          20000
         ],
         "legendgroup": "SECURITY IN A PUBLIC SCHOOL",
         "marker": {
          "color": "#ab63fa",
          "pattern": {
           "shape": ""
          }
         },
         "name": "SECURITY IN A PUBLIC SCHOOL",
         "offsetgroup": "SECURITY IN A PUBLIC SCHOOL",
         "orientation": "v",
         "showlegend": true,
         "textposition": "auto",
         "type": "bar",
         "x": [
          "SECURITY IN A PUBLIC SCHOOL"
         ],
         "xaxis": "x",
         "y": [
          20000
         ],
         "yaxis": "y"
        },
        {
         "alignmentgroup": "True",
         "hovertemplate": "<b>%{hovertext}</b><br><br>labour_type=%{x}<br>Income_dist=%{y}<extra></extra>",
         "hovertext": [
          15000
         ],
         "legendgroup": "PERSONAL SERVICE",
         "marker": {
          "color": "#FFA15A",
          "pattern": {
           "shape": ""
          }
         },
         "name": "PERSONAL SERVICE",
         "offsetgroup": "PERSONAL SERVICE",
         "orientation": "v",
         "showlegend": true,
         "textposition": "auto",
         "type": "bar",
         "x": [
          "PERSONAL SERVICE"
         ],
         "xaxis": "x",
         "y": [
          15000
         ],
         "yaxis": "y"
        },
        {
         "alignmentgroup": "True",
         "hovertemplate": "<b>%{hovertext}</b><br><br>labour_type=%{x}<br>Income_dist=%{y}<extra></extra>",
         "hovertext": [
          1500
         ],
         "legendgroup": "CASSAVA PEELER & CROP GROWER",
         "marker": {
          "color": "#19d3f3",
          "pattern": {
           "shape": ""
          }
         },
         "name": "CASSAVA PEELER & CROP GROWER",
         "offsetgroup": "CASSAVA PEELER & CROP GROWER",
         "orientation": "v",
         "showlegend": true,
         "textposition": "auto",
         "type": "bar",
         "x": [
          "CASSAVA PEELER & CROP GROWER"
         ],
         "xaxis": "x",
         "y": [
          1500
         ],
         "yaxis": "y"
        },
        {
         "alignmentgroup": "True",
         "hovertemplate": "<b>%{hovertext}</b><br><br>labour_type=%{x}<br>Income_dist=%{y}<extra></extra>",
         "hovertext": [
          15000
         ],
         "legendgroup": "SELLING FUEL,PUMP ATTENTANT",
         "marker": {
          "color": "#FF6692",
          "pattern": {
           "shape": ""
          }
         },
         "name": "SELLING FUEL,PUMP ATTENTANT",
         "offsetgroup": "SELLING FUEL,PUMP ATTENTANT",
         "orientation": "v",
         "showlegend": true,
         "textposition": "auto",
         "type": "bar",
         "x": [
          "SELLING FUEL,PUMP ATTENTANT"
         ],
         "xaxis": "x",
         "y": [
          15000
         ],
         "yaxis": "y"
        },
        {
         "alignmentgroup": "True",
         "hovertemplate": "<b>%{hovertext}</b><br><br>labour_type=%{x}<br>Income_dist=%{y}<extra></extra>",
         "hovertext": [
          70000
         ],
         "legendgroup": "EMS COORDINATOR(CLERGY)",
         "marker": {
          "color": "#B6E880",
          "pattern": {
           "shape": ""
          }
         },
         "name": "EMS COORDINATOR(CLERGY)",
         "offsetgroup": "EMS COORDINATOR(CLERGY)",
         "orientation": "v",
         "showlegend": true,
         "textposition": "auto",
         "type": "bar",
         "x": [
          "EMS COORDINATOR(CLERGY)"
         ],
         "xaxis": "x",
         "y": [
          70000
         ],
         "yaxis": "y"
        },
        {
         "alignmentgroup": "True",
         "hovertemplate": "<b>%{hovertext}</b><br><br>labour_type=%{x}<br>Income_dist=%{y}<extra></extra>",
         "hovertext": [
          71900
         ],
         "legendgroup": "ACCOUNT STAFF",
         "marker": {
          "color": "#FF97FF",
          "pattern": {
           "shape": ""
          }
         },
         "name": "ACCOUNT STAFF",
         "offsetgroup": "ACCOUNT STAFF",
         "orientation": "v",
         "showlegend": true,
         "textposition": "auto",
         "type": "bar",
         "x": [
          "ACCOUNT STAFF"
         ],
         "xaxis": "x",
         "y": [
          71900
         ],
         "yaxis": "y"
        },
        {
         "alignmentgroup": "True",
         "hovertemplate": "<b>%{hovertext}</b><br><br>labour_type=%{x}<br>Income_dist=%{y}<extra></extra>",
         "hovertext": [
          98000
         ],
         "legendgroup": "AUDITOR",
         "marker": {
          "color": "#FECB52",
          "pattern": {
           "shape": ""
          }
         },
         "name": "AUDITOR",
         "offsetgroup": "AUDITOR",
         "orientation": "v",
         "showlegend": true,
         "textposition": "auto",
         "type": "bar",
         "x": [
          "AUDITOR"
         ],
         "xaxis": "x",
         "y": [
          98000
         ],
         "yaxis": "y"
        },
        {
         "alignmentgroup": "True",
         "hovertemplate": "<b>%{hovertext}</b><br><br>labour_type=%{x}<br>Income_dist=%{y}<extra></extra>",
         "hovertext": [
          14000
         ],
         "legendgroup": "LABOURER WORK (POULTRY)",
         "marker": {
          "color": "#636efa",
          "pattern": {
           "shape": ""
          }
         },
         "name": "LABOURER WORK (POULTRY)",
         "offsetgroup": "LABOURER WORK (POULTRY)",
         "orientation": "v",
         "showlegend": true,
         "textposition": "auto",
         "type": "bar",
         "x": [
          "LABOURER WORK (POULTRY)"
         ],
         "xaxis": "x",
         "y": [
          14000
         ],
         "yaxis": "y"
        },
        {
         "alignmentgroup": "True",
         "hovertemplate": "<b>%{hovertext}</b><br><br>labour_type=%{x}<br>Income_dist=%{y}<extra></extra>",
         "hovertext": [
          74000,
          38000
         ],
         "legendgroup": "ADMIN OFFICER",
         "marker": {
          "color": "#EF553B",
          "pattern": {
           "shape": ""
          }
         },
         "name": "ADMIN OFFICER",
         "offsetgroup": "ADMIN OFFICER",
         "orientation": "v",
         "showlegend": true,
         "textposition": "auto",
         "type": "bar",
         "x": [
          "ADMIN OFFICER",
          "ADMIN OFFICER"
         ],
         "xaxis": "x",
         "y": [
          74000,
          38000
         ],
         "yaxis": "y"
        },
        {
         "alignmentgroup": "True",
         "hovertemplate": "<b>%{hovertext}</b><br><br>labour_type=%{x}<br>Income_dist=%{y}<extra></extra>",
         "hovertext": [
          105000
         ],
         "legendgroup": "VETERIRARY ASSISTANT",
         "marker": {
          "color": "#00cc96",
          "pattern": {
           "shape": ""
          }
         },
         "name": "VETERIRARY ASSISTANT",
         "offsetgroup": "VETERIRARY ASSISTANT",
         "orientation": "v",
         "showlegend": true,
         "textposition": "auto",
         "type": "bar",
         "x": [
          "VETERIRARY ASSISTANT"
         ],
         "xaxis": "x",
         "y": [
          105000
         ],
         "yaxis": "y"
        },
        {
         "alignmentgroup": "True",
         "hovertemplate": "<b>%{hovertext}</b><br><br>labour_type=%{x}<br>Income_dist=%{y}<extra></extra>",
         "hovertext": [
          30000
         ],
         "legendgroup": "REV",
         "marker": {
          "color": "#ab63fa",
          "pattern": {
           "shape": ""
          }
         },
         "name": "REV",
         "offsetgroup": "REV",
         "orientation": "v",
         "showlegend": true,
         "textposition": "auto",
         "type": "bar",
         "x": [
          "REV"
         ],
         "xaxis": "x",
         "y": [
          30000
         ],
         "yaxis": "y"
        },
        {
         "alignmentgroup": "True",
         "hovertemplate": "<b>%{hovertext}</b><br><br>labour_type=%{x}<br>Income_dist=%{y}<extra></extra>",
         "hovertext": [
          40000,
          250000
         ],
         "legendgroup": "ADMINISTRATOR",
         "marker": {
          "color": "#FFA15A",
          "pattern": {
           "shape": ""
          }
         },
         "name": "ADMINISTRATOR",
         "offsetgroup": "ADMINISTRATOR",
         "orientation": "v",
         "showlegend": true,
         "textposition": "auto",
         "type": "bar",
         "x": [
          "ADMINISTRATOR",
          "ADMINISTRATOR"
         ],
         "xaxis": "x",
         "y": [
          40000,
          250000
         ],
         "yaxis": "y"
        },
        {
         "alignmentgroup": "True",
         "hovertemplate": "<b>%{hovertext}</b><br><br>labour_type=%{x}<br>Income_dist=%{y}<extra></extra>",
         "hovertext": [
          74000
         ],
         "legendgroup": "NIGERIAN SECURITY AND CIVIL DEFENCE CORP",
         "marker": {
          "color": "#19d3f3",
          "pattern": {
           "shape": ""
          }
         },
         "name": "NIGERIAN SECURITY AND CIVIL DEFENCE CORP",
         "offsetgroup": "NIGERIAN SECURITY AND CIVIL DEFENCE CORP",
         "orientation": "v",
         "showlegend": true,
         "textposition": "auto",
         "type": "bar",
         "x": [
          "NIGERIAN SECURITY AND CIVIL DEFENCE CORP"
         ],
         "xaxis": "x",
         "y": [
          74000
         ],
         "yaxis": "y"
        },
        {
         "alignmentgroup": "True",
         "hovertemplate": "<b>%{hovertext}</b><br><br>labour_type=%{x}<br>Income_dist=%{y}<extra></extra>",
         "hovertext": [
          10000
         ],
         "legendgroup": "COMPUTER BUSINESS",
         "marker": {
          "color": "#FF6692",
          "pattern": {
           "shape": ""
          }
         },
         "name": "COMPUTER BUSINESS",
         "offsetgroup": "COMPUTER BUSINESS",
         "orientation": "v",
         "showlegend": true,
         "textposition": "auto",
         "type": "bar",
         "x": [
          "COMPUTER BUSINESS"
         ],
         "xaxis": "x",
         "y": [
          10000
         ],
         "yaxis": "y"
        },
        {
         "alignmentgroup": "True",
         "hovertemplate": "<b>%{hovertext}</b><br><br>labour_type=%{x}<br>Income_dist=%{y}<extra></extra>",
         "hovertext": [
          90000
         ],
         "legendgroup": "PAYING CASHIER",
         "marker": {
          "color": "#B6E880",
          "pattern": {
           "shape": ""
          }
         },
         "name": "PAYING CASHIER",
         "offsetgroup": "PAYING CASHIER",
         "orientation": "v",
         "showlegend": true,
         "textposition": "auto",
         "type": "bar",
         "x": [
          "PAYING CASHIER"
         ],
         "xaxis": "x",
         "y": [
          90000
         ],
         "yaxis": "y"
        },
        {
         "alignmentgroup": "True",
         "hovertemplate": "<b>%{hovertext}</b><br><br>labour_type=%{x}<br>Income_dist=%{y}<extra></extra>",
         "hovertext": [
          42000
         ],
         "legendgroup": "AGMINISTRATIVE CLERK",
         "marker": {
          "color": "#FF97FF",
          "pattern": {
           "shape": ""
          }
         },
         "name": "AGMINISTRATIVE CLERK",
         "offsetgroup": "AGMINISTRATIVE CLERK",
         "orientation": "v",
         "showlegend": true,
         "textposition": "auto",
         "type": "bar",
         "x": [
          "AGMINISTRATIVE CLERK"
         ],
         "xaxis": "x",
         "y": [
          42000
         ],
         "yaxis": "y"
        },
        {
         "alignmentgroup": "True",
         "hovertemplate": "<b>%{hovertext}</b><br><br>labour_type=%{x}<br>Income_dist=%{y}<extra></extra>",
         "hovertext": [
          1500
         ],
         "legendgroup": "PHC CLEANER",
         "marker": {
          "color": "#FECB52",
          "pattern": {
           "shape": ""
          }
         },
         "name": "PHC CLEANER",
         "offsetgroup": "PHC CLEANER",
         "orientation": "v",
         "showlegend": true,
         "textposition": "auto",
         "type": "bar",
         "x": [
          "PHC CLEANER"
         ],
         "xaxis": "x",
         "y": [
          1500
         ],
         "yaxis": "y"
        },
        {
         "alignmentgroup": "True",
         "hovertemplate": "<b>%{hovertext}</b><br><br>labour_type=%{x}<br>Income_dist=%{y}<extra></extra>",
         "hovertext": [
          40000
         ],
         "legendgroup": "PRY SCHOOL TEACHER",
         "marker": {
          "color": "#636efa",
          "pattern": {
           "shape": ""
          }
         },
         "name": "PRY SCHOOL TEACHER",
         "offsetgroup": "PRY SCHOOL TEACHER",
         "orientation": "v",
         "showlegend": true,
         "textposition": "auto",
         "type": "bar",
         "x": [
          "PRY SCHOOL TEACHER"
         ],
         "xaxis": "x",
         "y": [
          40000
         ],
         "yaxis": "y"
        },
        {
         "alignmentgroup": "True",
         "hovertemplate": "<b>%{hovertext}</b><br><br>labour_type=%{x}<br>Income_dist=%{y}<extra></extra>",
         "hovertext": [
          25000
         ],
         "legendgroup": "ADMINISTRATIVE & RELATED ASSOCIATED PROF",
         "marker": {
          "color": "#EF553B",
          "pattern": {
           "shape": ""
          }
         },
         "name": "ADMINISTRATIVE & RELATED ASSOCIATED PROF",
         "offsetgroup": "ADMINISTRATIVE & RELATED ASSOCIATED PROF",
         "orientation": "v",
         "showlegend": true,
         "textposition": "auto",
         "type": "bar",
         "x": [
          "ADMINISTRATIVE & RELATED ASSOCIATED PROF"
         ],
         "xaxis": "x",
         "y": [
          25000
         ],
         "yaxis": "y"
        },
        {
         "alignmentgroup": "True",
         "hovertemplate": "<b>%{hovertext}</b><br><br>labour_type=%{x}<br>Income_dist=%{y}<extra></extra>",
         "hovertext": [
          22000,
          22000
         ],
         "legendgroup": "PRIMARY EDUCATION TEACHING PROFESSIONAL",
         "marker": {
          "color": "#00cc96",
          "pattern": {
           "shape": ""
          }
         },
         "name": "PRIMARY EDUCATION TEACHING PROFESSIONAL",
         "offsetgroup": "PRIMARY EDUCATION TEACHING PROFESSIONAL",
         "orientation": "v",
         "showlegend": true,
         "textposition": "auto",
         "type": "bar",
         "x": [
          "PRIMARY EDUCATION TEACHING PROFESSIONAL",
          "PRIMARY EDUCATION TEACHING PROFESSIONAL"
         ],
         "xaxis": "x",
         "y": [
          22000,
          22000
         ],
         "yaxis": "y"
        },
        {
         "alignmentgroup": "True",
         "hovertemplate": "<b>%{hovertext}</b><br><br>labour_type=%{x}<br>Income_dist=%{y}<extra></extra>",
         "hovertext": [
          35000,
          39000
         ],
         "legendgroup": "ADMINISTRATIVE STAFF",
         "marker": {
          "color": "#ab63fa",
          "pattern": {
           "shape": ""
          }
         },
         "name": "ADMINISTRATIVE STAFF",
         "offsetgroup": "ADMINISTRATIVE STAFF",
         "orientation": "v",
         "showlegend": true,
         "textposition": "auto",
         "type": "bar",
         "x": [
          "ADMINISTRATIVE STAFF",
          "ADMINISTRATIVE STAFF"
         ],
         "xaxis": "x",
         "y": [
          35000,
          39000
         ],
         "yaxis": "y"
        },
        {
         "alignmentgroup": "True",
         "hovertemplate": "<b>%{hovertext}</b><br><br>labour_type=%{x}<br>Income_dist=%{y}<extra></extra>",
         "hovertext": [
          30000
         ],
         "legendgroup": "PRIMARY HEALTH CARE",
         "marker": {
          "color": "#FFA15A",
          "pattern": {
           "shape": ""
          }
         },
         "name": "PRIMARY HEALTH CARE",
         "offsetgroup": "PRIMARY HEALTH CARE",
         "orientation": "v",
         "showlegend": true,
         "textposition": "auto",
         "type": "bar",
         "x": [
          "PRIMARY HEALTH CARE"
         ],
         "xaxis": "x",
         "y": [
          30000
         ],
         "yaxis": "y"
        },
        {
         "alignmentgroup": "True",
         "hovertemplate": "<b>%{hovertext}</b><br><br>labour_type=%{x}<br>Income_dist=%{y}<extra></extra>",
         "hovertext": [
          26000,
          35000,
          25000,
          45000
         ],
         "legendgroup": "PRIMARY EDUCATION",
         "marker": {
          "color": "#19d3f3",
          "pattern": {
           "shape": ""
          }
         },
         "name": "PRIMARY EDUCATION",
         "offsetgroup": "PRIMARY EDUCATION",
         "orientation": "v",
         "showlegend": true,
         "textposition": "auto",
         "type": "bar",
         "x": [
          "PRIMARY EDUCATION",
          "PRIMARY EDUCATION",
          "PRIMARY EDUCATION",
          "PRIMARY EDUCATION"
         ],
         "xaxis": "x",
         "y": [
          26000,
          35000,
          25000,
          45000
         ],
         "yaxis": "y"
        },
        {
         "alignmentgroup": "True",
         "hovertemplate": "<b>%{hovertext}</b><br><br>labour_type=%{x}<br>Income_dist=%{y}<extra></extra>",
         "hovertext": [
          100000
         ],
         "legendgroup": "ROAD ENGINEER",
         "marker": {
          "color": "#FF6692",
          "pattern": {
           "shape": ""
          }
         },
         "name": "ROAD ENGINEER",
         "offsetgroup": "ROAD ENGINEER",
         "orientation": "v",
         "showlegend": true,
         "textposition": "auto",
         "type": "bar",
         "x": [
          "ROAD ENGINEER"
         ],
         "xaxis": "x",
         "y": [
          100000
         ],
         "yaxis": "y"
        },
        {
         "alignmentgroup": "True",
         "hovertemplate": "<b>%{hovertext}</b><br><br>labour_type=%{x}<br>Income_dist=%{y}<extra></extra>",
         "hovertext": [
          19000
         ],
         "legendgroup": "CLEARICAL ASSISTANT (HOUSING)",
         "marker": {
          "color": "#B6E880",
          "pattern": {
           "shape": ""
          }
         },
         "name": "CLEARICAL ASSISTANT (HOUSING)",
         "offsetgroup": "CLEARICAL ASSISTANT (HOUSING)",
         "orientation": "v",
         "showlegend": true,
         "textposition": "auto",
         "type": "bar",
         "x": [
          "CLEARICAL ASSISTANT (HOUSING)"
         ],
         "xaxis": "x",
         "y": [
          19000
         ],
         "yaxis": "y"
        },
        {
         "alignmentgroup": "True",
         "hovertemplate": "<b>%{hovertext}</b><br><br>labour_type=%{x}<br>Income_dist=%{y}<extra></extra>",
         "hovertext": [
          75000
         ],
         "legendgroup": "PRINCIPAL SECONDARY EDUCATION",
         "marker": {
          "color": "#FF97FF",
          "pattern": {
           "shape": ""
          }
         },
         "name": "PRINCIPAL SECONDARY EDUCATION",
         "offsetgroup": "PRINCIPAL SECONDARY EDUCATION",
         "orientation": "v",
         "showlegend": true,
         "textposition": "auto",
         "type": "bar",
         "x": [
          "PRINCIPAL SECONDARY EDUCATION"
         ],
         "xaxis": "x",
         "y": [
          75000
         ],
         "yaxis": "y"
        },
        {
         "alignmentgroup": "True",
         "hovertemplate": "<b>%{hovertext}</b><br><br>labour_type=%{x}<br>Income_dist=%{y}<extra></extra>",
         "hovertext": [
          24000
         ],
         "legendgroup": "ADULT EDUCATION",
         "marker": {
          "color": "#FECB52",
          "pattern": {
           "shape": ""
          }
         },
         "name": "ADULT EDUCATION",
         "offsetgroup": "ADULT EDUCATION",
         "orientation": "v",
         "showlegend": true,
         "textposition": "auto",
         "type": "bar",
         "x": [
          "ADULT EDUCATION"
         ],
         "xaxis": "x",
         "y": [
          24000
         ],
         "yaxis": "y"
        },
        {
         "alignmentgroup": "True",
         "hovertemplate": "<b>%{hovertext}</b><br><br>labour_type=%{x}<br>Income_dist=%{y}<extra></extra>",
         "hovertext": [
          20000
         ],
         "legendgroup": "STOREKEEPER",
         "marker": {
          "color": "#636efa",
          "pattern": {
           "shape": ""
          }
         },
         "name": "STOREKEEPER",
         "offsetgroup": "STOREKEEPER",
         "orientation": "v",
         "showlegend": true,
         "textposition": "auto",
         "type": "bar",
         "x": [
          "STOREKEEPER"
         ],
         "xaxis": "x",
         "y": [
          20000
         ],
         "yaxis": "y"
        },
        {
         "alignmentgroup": "True",
         "hovertemplate": "<b>%{hovertext}</b><br><br>labour_type=%{x}<br>Income_dist=%{y}<extra></extra>",
         "hovertext": [
          100000
         ],
         "legendgroup": "RESEARCH INSTITUTE",
         "marker": {
          "color": "#EF553B",
          "pattern": {
           "shape": ""
          }
         },
         "name": "RESEARCH INSTITUTE",
         "offsetgroup": "RESEARCH INSTITUTE",
         "orientation": "v",
         "showlegend": true,
         "textposition": "auto",
         "type": "bar",
         "x": [
          "RESEARCH INSTITUTE"
         ],
         "xaxis": "x",
         "y": [
          100000
         ],
         "yaxis": "y"
        },
        {
         "alignmentgroup": "True",
         "hovertemplate": "<b>%{hovertext}</b><br><br>labour_type=%{x}<br>Income_dist=%{y}<extra></extra>",
         "hovertext": [
          30000
         ],
         "legendgroup": "EVIROMENTAL PROTECTION STAFF",
         "marker": {
          "color": "#00cc96",
          "pattern": {
           "shape": ""
          }
         },
         "name": "EVIROMENTAL PROTECTION STAFF",
         "offsetgroup": "EVIROMENTAL PROTECTION STAFF",
         "orientation": "v",
         "showlegend": true,
         "textposition": "auto",
         "type": "bar",
         "x": [
          "EVIROMENTAL PROTECTION STAFF"
         ],
         "xaxis": "x",
         "y": [
          30000
         ],
         "yaxis": "y"
        },
        {
         "alignmentgroup": "True",
         "hovertemplate": "<b>%{hovertext}</b><br><br>labour_type=%{x}<br>Income_dist=%{y}<extra></extra>",
         "hovertext": [
          120000
         ],
         "legendgroup": "LECTURER AT COLLEGE OF EDUCATION",
         "marker": {
          "color": "#ab63fa",
          "pattern": {
           "shape": ""
          }
         },
         "name": "LECTURER AT COLLEGE OF EDUCATION",
         "offsetgroup": "LECTURER AT COLLEGE OF EDUCATION",
         "orientation": "v",
         "showlegend": true,
         "textposition": "auto",
         "type": "bar",
         "x": [
          "LECTURER AT COLLEGE OF EDUCATION"
         ],
         "xaxis": "x",
         "y": [
          120000
         ],
         "yaxis": "y"
        },
        {
         "alignmentgroup": "True",
         "hovertemplate": "<b>%{hovertext}</b><br><br>labour_type=%{x}<br>Income_dist=%{y}<extra></extra>",
         "hovertext": [
          75000
         ],
         "legendgroup": "NURSE IN GOVT HOSPITAL",
         "marker": {
          "color": "#FFA15A",
          "pattern": {
           "shape": ""
          }
         },
         "name": "NURSE IN GOVT HOSPITAL",
         "offsetgroup": "NURSE IN GOVT HOSPITAL",
         "orientation": "v",
         "showlegend": true,
         "textposition": "auto",
         "type": "bar",
         "x": [
          "NURSE IN GOVT HOSPITAL"
         ],
         "xaxis": "x",
         "y": [
          75000
         ],
         "yaxis": "y"
        },
        {
         "alignmentgroup": "True",
         "hovertemplate": "<b>%{hovertext}</b><br><br>labour_type=%{x}<br>Income_dist=%{y}<extra></extra>",
         "hovertext": [
          45000
         ],
         "legendgroup": "TEACHING SECONDARY SCH",
         "marker": {
          "color": "#19d3f3",
          "pattern": {
           "shape": ""
          }
         },
         "name": "TEACHING SECONDARY SCH",
         "offsetgroup": "TEACHING SECONDARY SCH",
         "orientation": "v",
         "showlegend": true,
         "textposition": "auto",
         "type": "bar",
         "x": [
          "TEACHING SECONDARY SCH"
         ],
         "xaxis": "x",
         "y": [
          45000
         ],
         "yaxis": "y"
        },
        {
         "alignmentgroup": "True",
         "hovertemplate": "<b>%{hovertext}</b><br><br>labour_type=%{x}<br>Income_dist=%{y}<extra></extra>",
         "hovertext": [
          70000
         ],
         "legendgroup": "HEALTH SUPRINTENDENT",
         "marker": {
          "color": "#FF6692",
          "pattern": {
           "shape": ""
          }
         },
         "name": "HEALTH SUPRINTENDENT",
         "offsetgroup": "HEALTH SUPRINTENDENT",
         "orientation": "v",
         "showlegend": true,
         "textposition": "auto",
         "type": "bar",
         "x": [
          "HEALTH SUPRINTENDENT"
         ],
         "xaxis": "x",
         "y": [
          70000
         ],
         "yaxis": "y"
        },
        {
         "alignmentgroup": "True",
         "hovertemplate": "<b>%{hovertext}</b><br><br>labour_type=%{x}<br>Income_dist=%{y}<extra></extra>",
         "hovertext": [
          30000
         ],
         "legendgroup": "VETENAIRY SUPRINTENDENT",
         "marker": {
          "color": "#B6E880",
          "pattern": {
           "shape": ""
          }
         },
         "name": "VETENAIRY SUPRINTENDENT",
         "offsetgroup": "VETENAIRY SUPRINTENDENT",
         "orientation": "v",
         "showlegend": true,
         "textposition": "auto",
         "type": "bar",
         "x": [
          "VETENAIRY SUPRINTENDENT"
         ],
         "xaxis": "x",
         "y": [
          30000
         ],
         "yaxis": "y"
        },
        {
         "alignmentgroup": "True",
         "hovertemplate": "<b>%{hovertext}</b><br><br>labour_type=%{x}<br>Income_dist=%{y}<extra></extra>",
         "hovertext": [
          52000
         ],
         "legendgroup": "SUPERVISORN SECONDRY EDUCATION B",
         "marker": {
          "color": "#FF97FF",
          "pattern": {
           "shape": ""
          }
         },
         "name": "SUPERVISORN SECONDRY EDUCATION B",
         "offsetgroup": "SUPERVISORN SECONDRY EDUCATION B",
         "orientation": "v",
         "showlegend": true,
         "textposition": "auto",
         "type": "bar",
         "x": [
          "SUPERVISORN SECONDRY EDUCATION B"
         ],
         "xaxis": "x",
         "y": [
          52000
         ],
         "yaxis": "y"
        },
        {
         "alignmentgroup": "True",
         "hovertemplate": "<b>%{hovertext}</b><br><br>labour_type=%{x}<br>Income_dist=%{y}<extra></extra>",
         "hovertext": [
          70000
         ],
         "legendgroup": "ROAD CONSTRUCTION HEAD MAN",
         "marker": {
          "color": "#FECB52",
          "pattern": {
           "shape": ""
          }
         },
         "name": "ROAD CONSTRUCTION HEAD MAN",
         "offsetgroup": "ROAD CONSTRUCTION HEAD MAN",
         "orientation": "v",
         "showlegend": true,
         "textposition": "auto",
         "type": "bar",
         "x": [
          "ROAD CONSTRUCTION HEAD MAN"
         ],
         "xaxis": "x",
         "y": [
          70000
         ],
         "yaxis": "y"
        },
        {
         "alignmentgroup": "True",
         "hovertemplate": "<b>%{hovertext}</b><br><br>labour_type=%{x}<br>Income_dist=%{y}<extra></extra>",
         "hovertext": [
          50000
         ],
         "legendgroup": "MTEL CLERK",
         "marker": {
          "color": "#636efa",
          "pattern": {
           "shape": ""
          }
         },
         "name": "MTEL CLERK",
         "offsetgroup": "MTEL CLERK",
         "orientation": "v",
         "showlegend": true,
         "textposition": "auto",
         "type": "bar",
         "x": [
          "MTEL CLERK"
         ],
         "xaxis": "x",
         "y": [
          50000
         ],
         "yaxis": "y"
        },
        {
         "alignmentgroup": "True",
         "hovertemplate": "<b>%{hovertext}</b><br><br>labour_type=%{x}<br>Income_dist=%{y}<extra></extra>",
         "hovertext": [
          40000
         ],
         "legendgroup": "SECONDARY TEACHER",
         "marker": {
          "color": "#EF553B",
          "pattern": {
           "shape": ""
          }
         },
         "name": "SECONDARY TEACHER",
         "offsetgroup": "SECONDARY TEACHER",
         "orientation": "v",
         "showlegend": true,
         "textposition": "auto",
         "type": "bar",
         "x": [
          "SECONDARY TEACHER"
         ],
         "xaxis": "x",
         "y": [
          40000
         ],
         "yaxis": "y"
        },
        {
         "alignmentgroup": "True",
         "hovertemplate": "<b>%{hovertext}</b><br><br>labour_type=%{x}<br>Income_dist=%{y}<extra></extra>",
         "hovertext": [
          46000
         ],
         "legendgroup": "ADMIN STAFF",
         "marker": {
          "color": "#00cc96",
          "pattern": {
           "shape": ""
          }
         },
         "name": "ADMIN STAFF",
         "offsetgroup": "ADMIN STAFF",
         "orientation": "v",
         "showlegend": true,
         "textposition": "auto",
         "type": "bar",
         "x": [
          "ADMIN STAFF"
         ],
         "xaxis": "x",
         "y": [
          46000
         ],
         "yaxis": "y"
        },
        {
         "alignmentgroup": "True",
         "hovertemplate": "<b>%{hovertext}</b><br><br>labour_type=%{x}<br>Income_dist=%{y}<extra></extra>",
         "hovertext": [
          35000
         ],
         "legendgroup": "EDUCATION",
         "marker": {
          "color": "#ab63fa",
          "pattern": {
           "shape": ""
          }
         },
         "name": "EDUCATION",
         "offsetgroup": "EDUCATION",
         "orientation": "v",
         "showlegend": true,
         "textposition": "auto",
         "type": "bar",
         "x": [
          "EDUCATION"
         ],
         "xaxis": "x",
         "y": [
          35000
         ],
         "yaxis": "y"
        },
        {
         "alignmentgroup": "True",
         "hovertemplate": "<b>%{hovertext}</b><br><br>labour_type=%{x}<br>Income_dist=%{y}<extra></extra>",
         "hovertext": [
          20330
         ],
         "legendgroup": "PUBLIC OFFICE ASSISTANT",
         "marker": {
          "color": "#FFA15A",
          "pattern": {
           "shape": ""
          }
         },
         "name": "PUBLIC OFFICE ASSISTANT",
         "offsetgroup": "PUBLIC OFFICE ASSISTANT",
         "orientation": "v",
         "showlegend": true,
         "textposition": "auto",
         "type": "bar",
         "x": [
          "PUBLIC OFFICE ASSISTANT"
         ],
         "xaxis": "x",
         "y": [
          20330
         ],
         "yaxis": "y"
        },
        {
         "alignmentgroup": "True",
         "hovertemplate": "<b>%{hovertext}</b><br><br>labour_type=%{x}<br>Income_dist=%{y}<extra></extra>",
         "hovertext": [
          12000
         ],
         "legendgroup": "SALES PERSON",
         "marker": {
          "color": "#19d3f3",
          "pattern": {
           "shape": ""
          }
         },
         "name": "SALES PERSON",
         "offsetgroup": "SALES PERSON",
         "orientation": "v",
         "showlegend": true,
         "textposition": "auto",
         "type": "bar",
         "x": [
          "SALES PERSON"
         ],
         "xaxis": "x",
         "y": [
          12000
         ],
         "yaxis": "y"
        },
        {
         "alignmentgroup": "True",
         "hovertemplate": "<b>%{hovertext}</b><br><br>labour_type=%{x}<br>Income_dist=%{y}<extra></extra>",
         "hovertext": [
          30000
         ],
         "legendgroup": "NIGHT SECURITY",
         "marker": {
          "color": "#FF6692",
          "pattern": {
           "shape": ""
          }
         },
         "name": "NIGHT SECURITY",
         "offsetgroup": "NIGHT SECURITY",
         "orientation": "v",
         "showlegend": true,
         "textposition": "auto",
         "type": "bar",
         "x": [
          "NIGHT SECURITY"
         ],
         "xaxis": "x",
         "y": [
          30000
         ],
         "yaxis": "y"
        },
        {
         "alignmentgroup": "True",
         "hovertemplate": "<b>%{hovertext}</b><br><br>labour_type=%{x}<br>Income_dist=%{y}<extra></extra>",
         "hovertext": [
          50000
         ],
         "legendgroup": "ENGINEERING WORK IN AJAH",
         "marker": {
          "color": "#B6E880",
          "pattern": {
           "shape": ""
          }
         },
         "name": "ENGINEERING WORK IN AJAH",
         "offsetgroup": "ENGINEERING WORK IN AJAH",
         "orientation": "v",
         "showlegend": true,
         "textposition": "auto",
         "type": "bar",
         "x": [
          "ENGINEERING WORK IN AJAH"
         ],
         "xaxis": "x",
         "y": [
          50000
         ],
         "yaxis": "y"
        },
        {
         "alignmentgroup": "True",
         "hovertemplate": "<b>%{hovertext}</b><br><br>labour_type=%{x}<br>Income_dist=%{y}<extra></extra>",
         "hovertext": [
          97000
         ],
         "legendgroup": "ELECTRICIAN IN OIL COMPANY",
         "marker": {
          "color": "#FF97FF",
          "pattern": {
           "shape": ""
          }
         },
         "name": "ELECTRICIAN IN OIL COMPANY",
         "offsetgroup": "ELECTRICIAN IN OIL COMPANY",
         "orientation": "v",
         "showlegend": true,
         "textposition": "auto",
         "type": "bar",
         "x": [
          "ELECTRICIAN IN OIL COMPANY"
         ],
         "xaxis": "x",
         "y": [
          97000
         ],
         "yaxis": "y"
        },
        {
         "alignmentgroup": "True",
         "hovertemplate": "<b>%{hovertext}</b><br><br>labour_type=%{x}<br>Income_dist=%{y}<extra></extra>",
         "hovertext": [
          50000
         ],
         "legendgroup": "TIMBER OPERATOR",
         "marker": {
          "color": "#FECB52",
          "pattern": {
           "shape": ""
          }
         },
         "name": "TIMBER OPERATOR",
         "offsetgroup": "TIMBER OPERATOR",
         "orientation": "v",
         "showlegend": true,
         "textposition": "auto",
         "type": "bar",
         "x": [
          "TIMBER OPERATOR"
         ],
         "xaxis": "x",
         "y": [
          50000
         ],
         "yaxis": "y"
        },
        {
         "alignmentgroup": "True",
         "hovertemplate": "<b>%{hovertext}</b><br><br>labour_type=%{x}<br>Income_dist=%{y}<extra></extra>",
         "hovertext": [
          13500
         ],
         "legendgroup": "COMPANY WORKER IN PLASTIC PRODUCTION",
         "marker": {
          "color": "#636efa",
          "pattern": {
           "shape": ""
          }
         },
         "name": "COMPANY WORKER IN PLASTIC PRODUCTION",
         "offsetgroup": "COMPANY WORKER IN PLASTIC PRODUCTION",
         "orientation": "v",
         "showlegend": true,
         "textposition": "auto",
         "type": "bar",
         "x": [
          "COMPANY WORKER IN PLASTIC PRODUCTION"
         ],
         "xaxis": "x",
         "y": [
          13500
         ],
         "yaxis": "y"
        },
        {
         "alignmentgroup": "True",
         "hovertemplate": "<b>%{hovertext}</b><br><br>labour_type=%{x}<br>Income_dist=%{y}<extra></extra>",
         "hovertext": [
          7000
         ],
         "legendgroup": "DAY CARE IN THE SCHOOL",
         "marker": {
          "color": "#EF553B",
          "pattern": {
           "shape": ""
          }
         },
         "name": "DAY CARE IN THE SCHOOL",
         "offsetgroup": "DAY CARE IN THE SCHOOL",
         "orientation": "v",
         "showlegend": true,
         "textposition": "auto",
         "type": "bar",
         "x": [
          "DAY CARE IN THE SCHOOL"
         ],
         "xaxis": "x",
         "y": [
          7000
         ],
         "yaxis": "y"
        },
        {
         "alignmentgroup": "True",
         "hovertemplate": "<b>%{hovertext}</b><br><br>labour_type=%{x}<br>Income_dist=%{y}<extra></extra>",
         "hovertext": [
          12000
         ],
         "legendgroup": "GENERAL PRIVATE HOUSE HELP",
         "marker": {
          "color": "#00cc96",
          "pattern": {
           "shape": ""
          }
         },
         "name": "GENERAL PRIVATE HOUSE HELP",
         "offsetgroup": "GENERAL PRIVATE HOUSE HELP",
         "orientation": "v",
         "showlegend": true,
         "textposition": "auto",
         "type": "bar",
         "x": [
          "GENERAL PRIVATE HOUSE HELP"
         ],
         "xaxis": "x",
         "y": [
          12000
         ],
         "yaxis": "y"
        },
        {
         "alignmentgroup": "True",
         "hovertemplate": "<b>%{hovertext}</b><br><br>labour_type=%{x}<br>Income_dist=%{y}<extra></extra>",
         "hovertext": [
          7000
         ],
         "legendgroup": "CLERCK IN LAWYER OFFICE",
         "marker": {
          "color": "#ab63fa",
          "pattern": {
           "shape": ""
          }
         },
         "name": "CLERCK IN LAWYER OFFICE",
         "offsetgroup": "CLERCK IN LAWYER OFFICE",
         "orientation": "v",
         "showlegend": true,
         "textposition": "auto",
         "type": "bar",
         "x": [
          "CLERCK IN LAWYER OFFICE"
         ],
         "xaxis": "x",
         "y": [
          7000
         ],
         "yaxis": "y"
        },
        {
         "alignmentgroup": "True",
         "hovertemplate": "<b>%{hovertext}</b><br><br>labour_type=%{x}<br>Income_dist=%{y}<extra></extra>",
         "hovertext": [
          45000
         ],
         "legendgroup": "CUSTOMARY COURT JUDGE",
         "marker": {
          "color": "#FFA15A",
          "pattern": {
           "shape": ""
          }
         },
         "name": "CUSTOMARY COURT JUDGE",
         "offsetgroup": "CUSTOMARY COURT JUDGE",
         "orientation": "v",
         "showlegend": true,
         "textposition": "auto",
         "type": "bar",
         "x": [
          "CUSTOMARY COURT JUDGE"
         ],
         "xaxis": "x",
         "y": [
          45000
         ],
         "yaxis": "y"
        },
        {
         "alignmentgroup": "True",
         "hovertemplate": "<b>%{hovertext}</b><br><br>labour_type=%{x}<br>Income_dist=%{y}<extra></extra>",
         "hovertext": [
          11000
         ],
         "legendgroup": "TEACHING PRIVATE NURSE PRIMARY SCHOOL",
         "marker": {
          "color": "#19d3f3",
          "pattern": {
           "shape": ""
          }
         },
         "name": "TEACHING PRIVATE NURSE PRIMARY SCHOOL",
         "offsetgroup": "TEACHING PRIVATE NURSE PRIMARY SCHOOL",
         "orientation": "v",
         "showlegend": true,
         "textposition": "auto",
         "type": "bar",
         "x": [
          "TEACHING PRIVATE NURSE PRIMARY SCHOOL"
         ],
         "xaxis": "x",
         "y": [
          11000
         ],
         "yaxis": "y"
        },
        {
         "alignmentgroup": "True",
         "hovertemplate": "<b>%{hovertext}</b><br><br>labour_type=%{x}<br>Income_dist=%{y}<extra></extra>",
         "hovertext": [
          42000
         ],
         "legendgroup": "ADMINISTRATIVE DUTIES",
         "marker": {
          "color": "#FF6692",
          "pattern": {
           "shape": ""
          }
         },
         "name": "ADMINISTRATIVE DUTIES",
         "offsetgroup": "ADMINISTRATIVE DUTIES",
         "orientation": "v",
         "showlegend": true,
         "textposition": "auto",
         "type": "bar",
         "x": [
          "ADMINISTRATIVE DUTIES"
         ],
         "xaxis": "x",
         "y": [
          42000
         ],
         "yaxis": "y"
        },
        {
         "alignmentgroup": "True",
         "hovertemplate": "<b>%{hovertext}</b><br><br>labour_type=%{x}<br>Income_dist=%{y}<extra></extra>",
         "hovertext": [
          25000
         ],
         "legendgroup": "SECURITY OFFICER IN A PRIVATE COMPANY",
         "marker": {
          "color": "#B6E880",
          "pattern": {
           "shape": ""
          }
         },
         "name": "SECURITY OFFICER IN A PRIVATE COMPANY",
         "offsetgroup": "SECURITY OFFICER IN A PRIVATE COMPANY",
         "orientation": "v",
         "showlegend": true,
         "textposition": "auto",
         "type": "bar",
         "x": [
          "SECURITY OFFICER IN A PRIVATE COMPANY"
         ],
         "xaxis": "x",
         "y": [
          25000
         ],
         "yaxis": "y"
        },
        {
         "alignmentgroup": "True",
         "hovertemplate": "<b>%{hovertext}</b><br><br>labour_type=%{x}<br>Income_dist=%{y}<extra></extra>",
         "hovertext": [
          18000
         ],
         "legendgroup": "OFFICE CLEANING",
         "marker": {
          "color": "#FF97FF",
          "pattern": {
           "shape": ""
          }
         },
         "name": "OFFICE CLEANING",
         "offsetgroup": "OFFICE CLEANING",
         "orientation": "v",
         "showlegend": true,
         "textposition": "auto",
         "type": "bar",
         "x": [
          "OFFICE CLEANING"
         ],
         "xaxis": "x",
         "y": [
          18000
         ],
         "yaxis": "y"
        },
        {
         "alignmentgroup": "True",
         "hovertemplate": "<b>%{hovertext}</b><br><br>labour_type=%{x}<br>Income_dist=%{y}<extra></extra>",
         "hovertext": [
          35000
         ],
         "legendgroup": "NURSING MEDICAL LABORATORY",
         "marker": {
          "color": "#FECB52",
          "pattern": {
           "shape": ""
          }
         },
         "name": "NURSING MEDICAL LABORATORY",
         "offsetgroup": "NURSING MEDICAL LABORATORY",
         "orientation": "v",
         "showlegend": true,
         "textposition": "auto",
         "type": "bar",
         "x": [
          "NURSING MEDICAL LABORATORY"
         ],
         "xaxis": "x",
         "y": [
          35000
         ],
         "yaxis": "y"
        },
        {
         "alignmentgroup": "True",
         "hovertemplate": "<b>%{hovertext}</b><br><br>labour_type=%{x}<br>Income_dist=%{y}<extra></extra>",
         "hovertext": [
          35000
         ],
         "legendgroup": "MEDICAL LABORATORY",
         "marker": {
          "color": "#636efa",
          "pattern": {
           "shape": ""
          }
         },
         "name": "MEDICAL LABORATORY",
         "offsetgroup": "MEDICAL LABORATORY",
         "orientation": "v",
         "showlegend": true,
         "textposition": "auto",
         "type": "bar",
         "x": [
          "MEDICAL LABORATORY"
         ],
         "xaxis": "x",
         "y": [
          35000
         ],
         "yaxis": "y"
        },
        {
         "alignmentgroup": "True",
         "hovertemplate": "<b>%{hovertext}</b><br><br>labour_type=%{x}<br>Income_dist=%{y}<extra></extra>",
         "hovertext": [
          70000
         ],
         "legendgroup": "MARKETER N FINANCE HOUSE",
         "marker": {
          "color": "#EF553B",
          "pattern": {
           "shape": ""
          }
         },
         "name": "MARKETER N FINANCE HOUSE",
         "offsetgroup": "MARKETER N FINANCE HOUSE",
         "orientation": "v",
         "showlegend": true,
         "textposition": "auto",
         "type": "bar",
         "x": [
          "MARKETER N FINANCE HOUSE"
         ],
         "xaxis": "x",
         "y": [
          70000
         ],
         "yaxis": "y"
        },
        {
         "alignmentgroup": "True",
         "hovertemplate": "<b>%{hovertext}</b><br><br>labour_type=%{x}<br>Income_dist=%{y}<extra></extra>",
         "hovertext": [
          29750
         ],
         "legendgroup": "TEACHING PRY & NUR",
         "marker": {
          "color": "#00cc96",
          "pattern": {
           "shape": ""
          }
         },
         "name": "TEACHING PRY & NUR",
         "offsetgroup": "TEACHING PRY & NUR",
         "orientation": "v",
         "showlegend": true,
         "textposition": "auto",
         "type": "bar",
         "x": [
          "TEACHING PRY & NUR"
         ],
         "xaxis": "x",
         "y": [
          29750
         ],
         "yaxis": "y"
        },
        {
         "alignmentgroup": "True",
         "hovertemplate": "<b>%{hovertext}</b><br><br>labour_type=%{x}<br>Income_dist=%{y}<extra></extra>",
         "hovertext": [
          60000
         ],
         "legendgroup": "CLERICAL OFFICER AT L.G.",
         "marker": {
          "color": "#ab63fa",
          "pattern": {
           "shape": ""
          }
         },
         "name": "CLERICAL OFFICER AT L.G.",
         "offsetgroup": "CLERICAL OFFICER AT L.G.",
         "orientation": "v",
         "showlegend": true,
         "textposition": "auto",
         "type": "bar",
         "x": [
          "CLERICAL OFFICER AT L.G."
         ],
         "xaxis": "x",
         "y": [
          60000
         ],
         "yaxis": "y"
        },
        {
         "alignmentgroup": "True",
         "hovertemplate": "<b>%{hovertext}</b><br><br>labour_type=%{x}<br>Income_dist=%{y}<extra></extra>",
         "hovertext": [
          2500
         ],
         "legendgroup": "DAILY BRICKLAYING ACTIVITIES",
         "marker": {
          "color": "#FFA15A",
          "pattern": {
           "shape": ""
          }
         },
         "name": "DAILY BRICKLAYING ACTIVITIES",
         "offsetgroup": "DAILY BRICKLAYING ACTIVITIES",
         "orientation": "v",
         "showlegend": true,
         "textposition": "auto",
         "type": "bar",
         "x": [
          "DAILY BRICKLAYING ACTIVITIES"
         ],
         "xaxis": "x",
         "y": [
          2500
         ],
         "yaxis": "y"
        },
        {
         "alignmentgroup": "True",
         "hovertemplate": "<b>%{hovertext}</b><br><br>labour_type=%{x}<br>Income_dist=%{y}<extra></extra>",
         "hovertext": [
          1000,
          1000
         ],
         "legendgroup": "WOOD FETCHING FOR SALE",
         "marker": {
          "color": "#19d3f3",
          "pattern": {
           "shape": ""
          }
         },
         "name": "WOOD FETCHING FOR SALE",
         "offsetgroup": "WOOD FETCHING FOR SALE",
         "orientation": "v",
         "showlegend": true,
         "textposition": "auto",
         "type": "bar",
         "x": [
          "WOOD FETCHING FOR SALE",
          "WOOD FETCHING FOR SALE"
         ],
         "xaxis": "x",
         "y": [
          1000,
          1000
         ],
         "yaxis": "y"
        },
        {
         "alignmentgroup": "True",
         "hovertemplate": "<b>%{hovertext}</b><br><br>labour_type=%{x}<br>Income_dist=%{y}<extra></extra>",
         "hovertext": [
          25000
         ],
         "legendgroup": "CHEMICAL ANALYSIS IN A COMPANY",
         "marker": {
          "color": "#FF6692",
          "pattern": {
           "shape": ""
          }
         },
         "name": "CHEMICAL ANALYSIS IN A COMPANY",
         "offsetgroup": "CHEMICAL ANALYSIS IN A COMPANY",
         "orientation": "v",
         "showlegend": true,
         "textposition": "auto",
         "type": "bar",
         "x": [
          "CHEMICAL ANALYSIS IN A COMPANY"
         ],
         "xaxis": "x",
         "y": [
          25000
         ],
         "yaxis": "y"
        },
        {
         "alignmentgroup": "True",
         "hovertemplate": "<b>%{hovertext}</b><br><br>labour_type=%{x}<br>Income_dist=%{y}<extra></extra>",
         "hovertext": [
          40000
         ],
         "legendgroup": "ADMINISTRATOR IN AN AUDITING FIRM",
         "marker": {
          "color": "#B6E880",
          "pattern": {
           "shape": ""
          }
         },
         "name": "ADMINISTRATOR IN AN AUDITING FIRM",
         "offsetgroup": "ADMINISTRATOR IN AN AUDITING FIRM",
         "orientation": "v",
         "showlegend": true,
         "textposition": "auto",
         "type": "bar",
         "x": [
          "ADMINISTRATOR IN AN AUDITING FIRM"
         ],
         "xaxis": "x",
         "y": [
          40000
         ],
         "yaxis": "y"
        },
        {
         "alignmentgroup": "True",
         "hovertemplate": "<b>%{hovertext}</b><br><br>labour_type=%{x}<br>Income_dist=%{y}<extra></extra>",
         "hovertext": [
          100000
         ],
         "legendgroup": "ADMINISTRATOR IN A MARINE TIME INDUSTRY",
         "marker": {
          "color": "#FF97FF",
          "pattern": {
           "shape": ""
          }
         },
         "name": "ADMINISTRATOR IN A MARINE TIME INDUSTRY",
         "offsetgroup": "ADMINISTRATOR IN A MARINE TIME INDUSTRY",
         "orientation": "v",
         "showlegend": true,
         "textposition": "auto",
         "type": "bar",
         "x": [
          "ADMINISTRATOR IN A MARINE TIME INDUSTRY"
         ],
         "xaxis": "x",
         "y": [
          100000
         ],
         "yaxis": "y"
        },
        {
         "alignmentgroup": "True",
         "hovertemplate": "<b>%{hovertext}</b><br><br>labour_type=%{x}<br>Income_dist=%{y}<extra></extra>",
         "hovertext": [
          20000
         ],
         "legendgroup": "UNIVERSITY HALL PORTER",
         "marker": {
          "color": "#FECB52",
          "pattern": {
           "shape": ""
          }
         },
         "name": "UNIVERSITY HALL PORTER",
         "offsetgroup": "UNIVERSITY HALL PORTER",
         "orientation": "v",
         "showlegend": true,
         "textposition": "auto",
         "type": "bar",
         "x": [
          "UNIVERSITY HALL PORTER"
         ],
         "xaxis": "x",
         "y": [
          20000
         ],
         "yaxis": "y"
        },
        {
         "alignmentgroup": "True",
         "hovertemplate": "<b>%{hovertext}</b><br><br>labour_type=%{x}<br>Income_dist=%{y}<extra></extra>",
         "hovertext": [
          100000
         ],
         "legendgroup": "ENGINEERING",
         "marker": {
          "color": "#636efa",
          "pattern": {
           "shape": ""
          }
         },
         "name": "ENGINEERING",
         "offsetgroup": "ENGINEERING",
         "orientation": "v",
         "showlegend": true,
         "textposition": "auto",
         "type": "bar",
         "x": [
          "ENGINEERING"
         ],
         "xaxis": "x",
         "y": [
          100000
         ],
         "yaxis": "y"
        },
        {
         "alignmentgroup": "True",
         "hovertemplate": "<b>%{hovertext}</b><br><br>labour_type=%{x}<br>Income_dist=%{y}<extra></extra>",
         "hovertext": [
          120000
         ],
         "legendgroup": "FARM LABOURES",
         "marker": {
          "color": "#EF553B",
          "pattern": {
           "shape": ""
          }
         },
         "name": "FARM LABOURES",
         "offsetgroup": "FARM LABOURES",
         "orientation": "v",
         "showlegend": true,
         "textposition": "auto",
         "type": "bar",
         "x": [
          "FARM LABOURES"
         ],
         "xaxis": "x",
         "y": [
          120000
         ],
         "yaxis": "y"
        },
        {
         "alignmentgroup": "True",
         "hovertemplate": "<b>%{hovertext}</b><br><br>labour_type=%{x}<br>Income_dist=%{y}<extra></extra>",
         "hovertext": [
          3500
         ],
         "legendgroup": "LABORE IN OIL PALM FACTORY",
         "marker": {
          "color": "#00cc96",
          "pattern": {
           "shape": ""
          }
         },
         "name": "LABORE IN OIL PALM FACTORY",
         "offsetgroup": "LABORE IN OIL PALM FACTORY",
         "orientation": "v",
         "showlegend": true,
         "textposition": "auto",
         "type": "bar",
         "x": [
          "LABORE IN OIL PALM FACTORY"
         ],
         "xaxis": "x",
         "y": [
          3500
         ],
         "yaxis": "y"
        },
        {
         "alignmentgroup": "True",
         "hovertemplate": "<b>%{hovertext}</b><br><br>labour_type=%{x}<br>Income_dist=%{y}<extra></extra>",
         "hovertext": [
          3000
         ],
         "legendgroup": "LABOURER IN PALM OIL PROCESSING FACTORY",
         "marker": {
          "color": "#ab63fa",
          "pattern": {
           "shape": ""
          }
         },
         "name": "LABOURER IN PALM OIL PROCESSING FACTORY",
         "offsetgroup": "LABOURER IN PALM OIL PROCESSING FACTORY",
         "orientation": "v",
         "showlegend": true,
         "textposition": "auto",
         "type": "bar",
         "x": [
          "LABOURER IN PALM OIL PROCESSING FACTORY"
         ],
         "xaxis": "x",
         "y": [
          3000
         ],
         "yaxis": "y"
        },
        {
         "alignmentgroup": "True",
         "hovertemplate": "<b>%{hovertext}</b><br><br>labour_type=%{x}<br>Income_dist=%{y}<extra></extra>",
         "hovertext": [
          24000
         ],
         "legendgroup": "GUARD SECURITY IN SEC SCHOOL",
         "marker": {
          "color": "#FFA15A",
          "pattern": {
           "shape": ""
          }
         },
         "name": "GUARD SECURITY IN SEC SCHOOL",
         "offsetgroup": "GUARD SECURITY IN SEC SCHOOL",
         "orientation": "v",
         "showlegend": true,
         "textposition": "auto",
         "type": "bar",
         "x": [
          "GUARD SECURITY IN SEC SCHOOL"
         ],
         "xaxis": "x",
         "y": [
          24000
         ],
         "yaxis": "y"
        },
        {
         "alignmentgroup": "True",
         "hovertemplate": "<b>%{hovertext}</b><br><br>labour_type=%{x}<br>Income_dist=%{y}<extra></extra>",
         "hovertext": [
          10000
         ],
         "legendgroup": "HOTEL ASSISTANT",
         "marker": {
          "color": "#19d3f3",
          "pattern": {
           "shape": ""
          }
         },
         "name": "HOTEL ASSISTANT",
         "offsetgroup": "HOTEL ASSISTANT",
         "orientation": "v",
         "showlegend": true,
         "textposition": "auto",
         "type": "bar",
         "x": [
          "HOTEL ASSISTANT"
         ],
         "xaxis": "x",
         "y": [
          10000
         ],
         "yaxis": "y"
        },
        {
         "alignmentgroup": "True",
         "hovertemplate": "<b>%{hovertext}</b><br><br>labour_type=%{x}<br>Income_dist=%{y}<extra></extra>",
         "hovertext": [
          1000
         ],
         "legendgroup": "COCOA WEIGHING",
         "marker": {
          "color": "#FF6692",
          "pattern": {
           "shape": ""
          }
         },
         "name": "COCOA WEIGHING",
         "offsetgroup": "COCOA WEIGHING",
         "orientation": "v",
         "showlegend": true,
         "textposition": "auto",
         "type": "bar",
         "x": [
          "COCOA WEIGHING"
         ],
         "xaxis": "x",
         "y": [
          1000
         ],
         "yaxis": "y"
        },
        {
         "alignmentgroup": "True",
         "hovertemplate": "<b>%{hovertext}</b><br><br>labour_type=%{x}<br>Income_dist=%{y}<extra></extra>",
         "hovertext": [
          32000
         ],
         "legendgroup": "DRIVER COMMERCIAL",
         "marker": {
          "color": "#B6E880",
          "pattern": {
           "shape": ""
          }
         },
         "name": "DRIVER COMMERCIAL",
         "offsetgroup": "DRIVER COMMERCIAL",
         "orientation": "v",
         "showlegend": true,
         "textposition": "auto",
         "type": "bar",
         "x": [
          "DRIVER COMMERCIAL"
         ],
         "xaxis": "x",
         "y": [
          32000
         ],
         "yaxis": "y"
        },
        {
         "alignmentgroup": "True",
         "hovertemplate": "<b>%{hovertext}</b><br><br>labour_type=%{x}<br>Income_dist=%{y}<extra></extra>",
         "hovertext": [
          3000
         ],
         "legendgroup": "COOKING",
         "marker": {
          "color": "#FF97FF",
          "pattern": {
           "shape": ""
          }
         },
         "name": "COOKING",
         "offsetgroup": "COOKING",
         "orientation": "v",
         "showlegend": true,
         "textposition": "auto",
         "type": "bar",
         "x": [
          "COOKING"
         ],
         "xaxis": "x",
         "y": [
          3000
         ],
         "yaxis": "y"
        },
        {
         "alignmentgroup": "True",
         "hovertemplate": "<b>%{hovertext}</b><br><br>labour_type=%{x}<br>Income_dist=%{y}<extra></extra>",
         "hovertext": [
          5000
         ],
         "legendgroup": "SECURITY IN PRIVATE ORGANIZATION",
         "marker": {
          "color": "#FECB52",
          "pattern": {
           "shape": ""
          }
         },
         "name": "SECURITY IN PRIVATE ORGANIZATION",
         "offsetgroup": "SECURITY IN PRIVATE ORGANIZATION",
         "orientation": "v",
         "showlegend": true,
         "textposition": "auto",
         "type": "bar",
         "x": [
          "SECURITY IN PRIVATE ORGANIZATION"
         ],
         "xaxis": "x",
         "y": [
          5000
         ],
         "yaxis": "y"
        },
        {
         "alignmentgroup": "True",
         "hovertemplate": "<b>%{hovertext}</b><br><br>labour_type=%{x}<br>Income_dist=%{y}<extra></extra>",
         "hovertext": [
          10000
         ],
         "legendgroup": "NURSE IN PRIVATE HOSPITAL",
         "marker": {
          "color": "#636efa",
          "pattern": {
           "shape": ""
          }
         },
         "name": "NURSE IN PRIVATE HOSPITAL",
         "offsetgroup": "NURSE IN PRIVATE HOSPITAL",
         "orientation": "v",
         "showlegend": true,
         "textposition": "auto",
         "type": "bar",
         "x": [
          "NURSE IN PRIVATE HOSPITAL"
         ],
         "xaxis": "x",
         "y": [
          10000
         ],
         "yaxis": "y"
        },
        {
         "alignmentgroup": "True",
         "hovertemplate": "<b>%{hovertext}</b><br><br>labour_type=%{x}<br>Income_dist=%{y}<extra></extra>",
         "hovertext": [
          17000
         ],
         "legendgroup": "SALES CLERK IN PRIVATE OIL SHOP",
         "marker": {
          "color": "#EF553B",
          "pattern": {
           "shape": ""
          }
         },
         "name": "SALES CLERK IN PRIVATE OIL SHOP",
         "offsetgroup": "SALES CLERK IN PRIVATE OIL SHOP",
         "orientation": "v",
         "showlegend": true,
         "textposition": "auto",
         "type": "bar",
         "x": [
          "SALES CLERK IN PRIVATE OIL SHOP"
         ],
         "xaxis": "x",
         "y": [
          17000
         ],
         "yaxis": "y"
        },
        {
         "alignmentgroup": "True",
         "hovertemplate": "<b>%{hovertext}</b><br><br>labour_type=%{x}<br>Income_dist=%{y}<extra></extra>",
         "hovertext": [
          8000
         ],
         "legendgroup": "NURSE INPRIVATE HOSPITAL",
         "marker": {
          "color": "#00cc96",
          "pattern": {
           "shape": ""
          }
         },
         "name": "NURSE INPRIVATE HOSPITAL",
         "offsetgroup": "NURSE INPRIVATE HOSPITAL",
         "orientation": "v",
         "showlegend": true,
         "textposition": "auto",
         "type": "bar",
         "x": [
          "NURSE INPRIVATE HOSPITAL"
         ],
         "xaxis": "x",
         "y": [
          8000
         ],
         "yaxis": "y"
        },
        {
         "alignmentgroup": "True",
         "hovertemplate": "<b>%{hovertext}</b><br><br>labour_type=%{x}<br>Income_dist=%{y}<extra></extra>",
         "hovertext": [
          5000
         ],
         "legendgroup": "SHOP SALES GIRL INN COSTMETICS",
         "marker": {
          "color": "#ab63fa",
          "pattern": {
           "shape": ""
          }
         },
         "name": "SHOP SALES GIRL INN COSTMETICS",
         "offsetgroup": "SHOP SALES GIRL INN COSTMETICS",
         "orientation": "v",
         "showlegend": true,
         "textposition": "auto",
         "type": "bar",
         "x": [
          "SHOP SALES GIRL INN COSTMETICS"
         ],
         "xaxis": "x",
         "y": [
          5000
         ],
         "yaxis": "y"
        },
        {
         "alignmentgroup": "True",
         "hovertemplate": "<b>%{hovertext}</b><br><br>labour_type=%{x}<br>Income_dist=%{y}<extra></extra>",
         "hovertext": [
          75000
         ],
         "legendgroup": "LABOURER ON ANOTHER HH FARM",
         "marker": {
          "color": "#FFA15A",
          "pattern": {
           "shape": ""
          }
         },
         "name": "LABOURER ON ANOTHER HH FARM",
         "offsetgroup": "LABOURER ON ANOTHER HH FARM",
         "orientation": "v",
         "showlegend": true,
         "textposition": "auto",
         "type": "bar",
         "x": [
          "LABOURER ON ANOTHER HH FARM"
         ],
         "xaxis": "x",
         "y": [
          75000
         ],
         "yaxis": "y"
        },
        {
         "alignmentgroup": "True",
         "hovertemplate": "<b>%{hovertext}</b><br><br>labour_type=%{x}<br>Income_dist=%{y}<extra></extra>",
         "hovertext": [
          25000
         ],
         "legendgroup": "ROOFING OF ALL KIND OF BUILDING",
         "marker": {
          "color": "#19d3f3",
          "pattern": {
           "shape": ""
          }
         },
         "name": "ROOFING OF ALL KIND OF BUILDING",
         "offsetgroup": "ROOFING OF ALL KIND OF BUILDING",
         "orientation": "v",
         "showlegend": true,
         "textposition": "auto",
         "type": "bar",
         "x": [
          "ROOFING OF ALL KIND OF BUILDING"
         ],
         "xaxis": "x",
         "y": [
          25000
         ],
         "yaxis": "y"
        },
        {
         "alignmentgroup": "True",
         "hovertemplate": "<b>%{hovertext}</b><br><br>labour_type=%{x}<br>Income_dist=%{y}<extra></extra>",
         "hovertext": [
          74000
         ],
         "legendgroup": "TEACHING IN GOV SECONDARY SCHOOL",
         "marker": {
          "color": "#FF6692",
          "pattern": {
           "shape": ""
          }
         },
         "name": "TEACHING IN GOV SECONDARY SCHOOL",
         "offsetgroup": "TEACHING IN GOV SECONDARY SCHOOL",
         "orientation": "v",
         "showlegend": true,
         "textposition": "auto",
         "type": "bar",
         "x": [
          "TEACHING IN GOV SECONDARY SCHOOL"
         ],
         "xaxis": "x",
         "y": [
          74000
         ],
         "yaxis": "y"
        },
        {
         "alignmentgroup": "True",
         "hovertemplate": "<b>%{hovertext}</b><br><br>labour_type=%{x}<br>Income_dist=%{y}<extra></extra>",
         "hovertext": [
          10000
         ],
         "legendgroup": "SALES CLERK IN BOUTIQUE SHOP",
         "marker": {
          "color": "#B6E880",
          "pattern": {
           "shape": ""
          }
         },
         "name": "SALES CLERK IN BOUTIQUE SHOP",
         "offsetgroup": "SALES CLERK IN BOUTIQUE SHOP",
         "orientation": "v",
         "showlegend": true,
         "textposition": "auto",
         "type": "bar",
         "x": [
          "SALES CLERK IN BOUTIQUE SHOP"
         ],
         "xaxis": "x",
         "y": [
          10000
         ],
         "yaxis": "y"
        },
        {
         "alignmentgroup": "True",
         "hovertemplate": "<b>%{hovertext}</b><br><br>labour_type=%{x}<br>Income_dist=%{y}<extra></extra>",
         "hovertext": [
          3745825
         ],
         "legendgroup": "PRIVATE GUARD AT THE OSUN STATE POLY IRE",
         "marker": {
          "color": "#FF97FF",
          "pattern": {
           "shape": ""
          }
         },
         "name": "PRIVATE GUARD AT THE OSUN STATE POLY IRE",
         "offsetgroup": "PRIVATE GUARD AT THE OSUN STATE POLY IRE",
         "orientation": "v",
         "showlegend": true,
         "textposition": "auto",
         "type": "bar",
         "x": [
          "PRIVATE GUARD AT THE OSUN STATE POLY IRE"
         ],
         "xaxis": "x",
         "y": [
          3745825
         ],
         "yaxis": "y"
        },
        {
         "alignmentgroup": "True",
         "hovertemplate": "<b>%{hovertext}</b><br><br>labour_type=%{x}<br>Income_dist=%{y}<extra></extra>",
         "hovertext": [
          24500
         ],
         "legendgroup": "PLANT  OPERATOR",
         "marker": {
          "color": "#FECB52",
          "pattern": {
           "shape": ""
          }
         },
         "name": "PLANT  OPERATOR",
         "offsetgroup": "PLANT  OPERATOR",
         "orientation": "v",
         "showlegend": true,
         "textposition": "auto",
         "type": "bar",
         "x": [
          "PLANT  OPERATOR"
         ],
         "xaxis": "x",
         "y": [
          24500
         ],
         "yaxis": "y"
        },
        {
         "alignmentgroup": "True",
         "hovertemplate": "<b>%{hovertext}</b><br><br>labour_type=%{x}<br>Income_dist=%{y}<extra></extra>",
         "hovertext": [
          15000
         ],
         "legendgroup": "BUILDING OF HOUSE{BRICKLAYER)",
         "marker": {
          "color": "#636efa",
          "pattern": {
           "shape": ""
          }
         },
         "name": "BUILDING OF HOUSE{BRICKLAYER)",
         "offsetgroup": "BUILDING OF HOUSE{BRICKLAYER)",
         "orientation": "v",
         "showlegend": true,
         "textposition": "auto",
         "type": "bar",
         "x": [
          "BUILDING OF HOUSE{BRICKLAYER)"
         ],
         "xaxis": "x",
         "y": [
          15000
         ],
         "yaxis": "y"
        },
        {
         "alignmentgroup": "True",
         "hovertemplate": "<b>%{hovertext}</b><br><br>labour_type=%{x}<br>Income_dist=%{y}<extra></extra>",
         "hovertext": [
          62000
         ],
         "legendgroup": "STATISTICAL EXT OFFICER IN LOCAL GOVT",
         "marker": {
          "color": "#EF553B",
          "pattern": {
           "shape": ""
          }
         },
         "name": "STATISTICAL EXT OFFICER IN LOCAL GOVT",
         "offsetgroup": "STATISTICAL EXT OFFICER IN LOCAL GOVT",
         "orientation": "v",
         "showlegend": true,
         "textposition": "auto",
         "type": "bar",
         "x": [
          "STATISTICAL EXT OFFICER IN LOCAL GOVT"
         ],
         "xaxis": "x",
         "y": [
          62000
         ],
         "yaxis": "y"
        },
        {
         "alignmentgroup": "True",
         "hovertemplate": "<b>%{hovertext}</b><br><br>labour_type=%{x}<br>Income_dist=%{y}<extra></extra>",
         "hovertext": [
          80000
         ],
         "legendgroup": "TEACHING IN GOV PRY SCHOOL",
         "marker": {
          "color": "#00cc96",
          "pattern": {
           "shape": ""
          }
         },
         "name": "TEACHING IN GOV PRY SCHOOL",
         "offsetgroup": "TEACHING IN GOV PRY SCHOOL",
         "orientation": "v",
         "showlegend": true,
         "textposition": "auto",
         "type": "bar",
         "x": [
          "TEACHING IN GOV PRY SCHOOL"
         ],
         "xaxis": "x",
         "y": [
          80000
         ],
         "yaxis": "y"
        },
        {
         "alignmentgroup": "True",
         "hovertemplate": "<b>%{hovertext}</b><br><br>labour_type=%{x}<br>Income_dist=%{y}<extra></extra>",
         "hovertext": [
          4800
         ],
         "legendgroup": "FARMING LABOURER",
         "marker": {
          "color": "#ab63fa",
          "pattern": {
           "shape": ""
          }
         },
         "name": "FARMING LABOURER",
         "offsetgroup": "FARMING LABOURER",
         "orientation": "v",
         "showlegend": true,
         "textposition": "auto",
         "type": "bar",
         "x": [
          "FARMING LABOURER"
         ],
         "xaxis": "x",
         "y": [
          4800
         ],
         "yaxis": "y"
        },
        {
         "alignmentgroup": "True",
         "hovertemplate": "<b>%{hovertext}</b><br><br>labour_type=%{x}<br>Income_dist=%{y}<extra></extra>",
         "hovertext": [
          50000
         ],
         "legendgroup": "TOWN PLANNING",
         "marker": {
          "color": "#FFA15A",
          "pattern": {
           "shape": ""
          }
         },
         "name": "TOWN PLANNING",
         "offsetgroup": "TOWN PLANNING",
         "orientation": "v",
         "showlegend": true,
         "textposition": "auto",
         "type": "bar",
         "x": [
          "TOWN PLANNING"
         ],
         "xaxis": "x",
         "y": [
          50000
         ],
         "yaxis": "y"
        },
        {
         "alignmentgroup": "True",
         "hovertemplate": "<b>%{hovertext}</b><br><br>labour_type=%{x}<br>Income_dist=%{y}<extra></extra>",
         "hovertext": [
          85325
         ],
         "legendgroup": "PRIMARY SCH TEACHER(ASSIST.HEADMASTER)",
         "marker": {
          "color": "#19d3f3",
          "pattern": {
           "shape": ""
          }
         },
         "name": "PRIMARY SCH TEACHER(ASSIST.HEADMASTER)",
         "offsetgroup": "PRIMARY SCH TEACHER(ASSIST.HEADMASTER)",
         "orientation": "v",
         "showlegend": true,
         "textposition": "auto",
         "type": "bar",
         "x": [
          "PRIMARY SCH TEACHER(ASSIST.HEADMASTER)"
         ],
         "xaxis": "x",
         "y": [
          85325
         ],
         "yaxis": "y"
        },
        {
         "alignmentgroup": "True",
         "hovertemplate": "<b>%{hovertext}</b><br><br>labour_type=%{x}<br>Income_dist=%{y}<extra></extra>",
         "hovertext": [
          8000
         ],
         "legendgroup": "POULTRY ASSISTANT",
         "marker": {
          "color": "#FF6692",
          "pattern": {
           "shape": ""
          }
         },
         "name": "POULTRY ASSISTANT",
         "offsetgroup": "POULTRY ASSISTANT",
         "orientation": "v",
         "showlegend": true,
         "textposition": "auto",
         "type": "bar",
         "x": [
          "POULTRY ASSISTANT"
         ],
         "xaxis": "x",
         "y": [
          8000
         ],
         "yaxis": "y"
        },
        {
         "alignmentgroup": "True",
         "hovertemplate": "<b>%{hovertext}</b><br><br>labour_type=%{x}<br>Income_dist=%{y}<extra></extra>",
         "hovertext": [
          8000
         ],
         "legendgroup": "POUTRY ASSISTANT",
         "marker": {
          "color": "#B6E880",
          "pattern": {
           "shape": ""
          }
         },
         "name": "POUTRY ASSISTANT",
         "offsetgroup": "POUTRY ASSISTANT",
         "orientation": "v",
         "showlegend": true,
         "textposition": "auto",
         "type": "bar",
         "x": [
          "POUTRY ASSISTANT"
         ],
         "xaxis": "x",
         "y": [
          8000
         ],
         "yaxis": "y"
        },
        {
         "alignmentgroup": "True",
         "hovertemplate": "<b>%{hovertext}</b><br><br>labour_type=%{x}<br>Income_dist=%{y}<extra></extra>",
         "hovertext": [
          7000
         ],
         "legendgroup": "PETROL ATTENDANCE",
         "marker": {
          "color": "#FF97FF",
          "pattern": {
           "shape": ""
          }
         },
         "name": "PETROL ATTENDANCE",
         "offsetgroup": "PETROL ATTENDANCE",
         "orientation": "v",
         "showlegend": true,
         "textposition": "auto",
         "type": "bar",
         "x": [
          "PETROL ATTENDANCE"
         ],
         "xaxis": "x",
         "y": [
          7000
         ],
         "yaxis": "y"
        },
        {
         "alignmentgroup": "True",
         "hovertemplate": "<b>%{hovertext}</b><br><br>labour_type=%{x}<br>Income_dist=%{y}<extra></extra>",
         "hovertext": [
          10000
         ],
         "legendgroup": "TEACHER-PRIVATE-NURSARY & PRIMARY",
         "marker": {
          "color": "#FECB52",
          "pattern": {
           "shape": ""
          }
         },
         "name": "TEACHER-PRIVATE-NURSARY & PRIMARY",
         "offsetgroup": "TEACHER-PRIVATE-NURSARY & PRIMARY",
         "orientation": "v",
         "showlegend": true,
         "textposition": "auto",
         "type": "bar",
         "x": [
          "TEACHER-PRIVATE-NURSARY & PRIMARY"
         ],
         "xaxis": "x",
         "y": [
          10000
         ],
         "yaxis": "y"
        },
        {
         "alignmentgroup": "True",
         "hovertemplate": "<b>%{hovertext}</b><br><br>labour_type=%{x}<br>Income_dist=%{y}<extra></extra>",
         "hovertext": [
          13000
         ],
         "legendgroup": "ASSISTANCE NURSING IN ORIVATE HOSPITAL",
         "marker": {
          "color": "#636efa",
          "pattern": {
           "shape": ""
          }
         },
         "name": "ASSISTANCE NURSING IN ORIVATE HOSPITAL",
         "offsetgroup": "ASSISTANCE NURSING IN ORIVATE HOSPITAL",
         "orientation": "v",
         "showlegend": true,
         "textposition": "auto",
         "type": "bar",
         "x": [
          "ASSISTANCE NURSING IN ORIVATE HOSPITAL"
         ],
         "xaxis": "x",
         "y": [
          13000
         ],
         "yaxis": "y"
        },
        {
         "alignmentgroup": "True",
         "hovertemplate": "<b>%{hovertext}</b><br><br>labour_type=%{x}<br>Income_dist=%{y}<extra></extra>",
         "hovertext": [
          10000
         ],
         "legendgroup": "CATERING IN GOVT. PRIMARY SCHOOL",
         "marker": {
          "color": "#EF553B",
          "pattern": {
           "shape": ""
          }
         },
         "name": "CATERING IN GOVT. PRIMARY SCHOOL",
         "offsetgroup": "CATERING IN GOVT. PRIMARY SCHOOL",
         "orientation": "v",
         "showlegend": true,
         "textposition": "auto",
         "type": "bar",
         "x": [
          "CATERING IN GOVT. PRIMARY SCHOOL"
         ],
         "xaxis": "x",
         "y": [
          10000
         ],
         "yaxis": "y"
        },
        {
         "alignmentgroup": "True",
         "hovertemplate": "<b>%{hovertext}</b><br><br>labour_type=%{x}<br>Income_dist=%{y}<extra></extra>",
         "hovertext": [
          48000
         ],
         "legendgroup": "CAPENTARY IN LOCAL GOV. WORK DEPARTMENT",
         "marker": {
          "color": "#00cc96",
          "pattern": {
           "shape": ""
          }
         },
         "name": "CAPENTARY IN LOCAL GOV. WORK DEPARTMENT",
         "offsetgroup": "CAPENTARY IN LOCAL GOV. WORK DEPARTMENT",
         "orientation": "v",
         "showlegend": true,
         "textposition": "auto",
         "type": "bar",
         "x": [
          "CAPENTARY IN LOCAL GOV. WORK DEPARTMENT"
         ],
         "xaxis": "x",
         "y": [
          48000
         ],
         "yaxis": "y"
        },
        {
         "alignmentgroup": "True",
         "hovertemplate": "<b>%{hovertext}</b><br><br>labour_type=%{x}<br>Income_dist=%{y}<extra></extra>",
         "hovertext": [
          1200
         ],
         "legendgroup": "PALM KERNEL PROCESSING",
         "marker": {
          "color": "#ab63fa",
          "pattern": {
           "shape": ""
          }
         },
         "name": "PALM KERNEL PROCESSING",
         "offsetgroup": "PALM KERNEL PROCESSING",
         "orientation": "v",
         "showlegend": true,
         "textposition": "auto",
         "type": "bar",
         "x": [
          "PALM KERNEL PROCESSING"
         ],
         "xaxis": "x",
         "y": [
          1200
         ],
         "yaxis": "y"
        },
        {
         "alignmentgroup": "True",
         "hovertemplate": "<b>%{hovertext}</b><br><br>labour_type=%{x}<br>Income_dist=%{y}<extra></extra>",
         "hovertext": [
          20000
         ],
         "legendgroup": "HEALTH TEACHER",
         "marker": {
          "color": "#FFA15A",
          "pattern": {
           "shape": ""
          }
         },
         "name": "HEALTH TEACHER",
         "offsetgroup": "HEALTH TEACHER",
         "orientation": "v",
         "showlegend": true,
         "textposition": "auto",
         "type": "bar",
         "x": [
          "HEALTH TEACHER"
         ],
         "xaxis": "x",
         "y": [
          20000
         ],
         "yaxis": "y"
        },
        {
         "alignmentgroup": "True",
         "hovertemplate": "<b>%{hovertext}</b><br><br>labour_type=%{x}<br>Income_dist=%{y}<extra></extra>",
         "hovertext": [
          20000
         ],
         "legendgroup": "LOCAL GOVERNMENT DRIVER",
         "marker": {
          "color": "#19d3f3",
          "pattern": {
           "shape": ""
          }
         },
         "name": "LOCAL GOVERNMENT DRIVER",
         "offsetgroup": "LOCAL GOVERNMENT DRIVER",
         "orientation": "v",
         "showlegend": true,
         "textposition": "auto",
         "type": "bar",
         "x": [
          "LOCAL GOVERNMENT DRIVER"
         ],
         "xaxis": "x",
         "y": [
          20000
         ],
         "yaxis": "y"
        },
        {
         "alignmentgroup": "True",
         "hovertemplate": "<b>%{hovertext}</b><br><br>labour_type=%{x}<br>Income_dist=%{y}<extra></extra>",
         "hovertext": [
          138000
         ],
         "legendgroup": "SECONDARY EDUCATION TEACHING PROFESSIONA",
         "marker": {
          "color": "#FF6692",
          "pattern": {
           "shape": ""
          }
         },
         "name": "SECONDARY EDUCATION TEACHING PROFESSIONA",
         "offsetgroup": "SECONDARY EDUCATION TEACHING PROFESSIONA",
         "orientation": "v",
         "showlegend": true,
         "textposition": "auto",
         "type": "bar",
         "x": [
          "SECONDARY EDUCATION TEACHING PROFESSIONA"
         ],
         "xaxis": "x",
         "y": [
          138000
         ],
         "yaxis": "y"
        },
        {
         "alignmentgroup": "True",
         "hovertemplate": "<b>%{hovertext}</b><br><br>labour_type=%{x}<br>Income_dist=%{y}<extra></extra>",
         "hovertext": [
          66000,
          150000,
          130000
         ],
         "legendgroup": "ACCOUNTANTS",
         "marker": {
          "color": "#B6E880",
          "pattern": {
           "shape": ""
          }
         },
         "name": "ACCOUNTANTS",
         "offsetgroup": "ACCOUNTANTS",
         "orientation": "v",
         "showlegend": true,
         "textposition": "auto",
         "type": "bar",
         "x": [
          "ACCOUNTANTS",
          "ACCOUNTANTS",
          "ACCOUNTANTS"
         ],
         "xaxis": "x",
         "y": [
          66000,
          150000,
          130000
         ],
         "yaxis": "y"
        },
        {
         "alignmentgroup": "True",
         "hovertemplate": "<b>%{hovertext}</b><br><br>labour_type=%{x}<br>Income_dist=%{y}<extra></extra>",
         "hovertext": [
          20000
         ],
         "legendgroup": "WEMA BANK SECURITY",
         "marker": {
          "color": "#FF97FF",
          "pattern": {
           "shape": ""
          }
         },
         "name": "WEMA BANK SECURITY",
         "offsetgroup": "WEMA BANK SECURITY",
         "orientation": "v",
         "showlegend": true,
         "textposition": "auto",
         "type": "bar",
         "x": [
          "WEMA BANK SECURITY"
         ],
         "xaxis": "x",
         "y": [
          20000
         ],
         "yaxis": "y"
        },
        {
         "alignmentgroup": "True",
         "hovertemplate": "<b>%{hovertext}</b><br><br>labour_type=%{x}<br>Income_dist=%{y}<extra></extra>",
         "hovertext": [
          20000
         ],
         "legendgroup": "MOTOR DRIVER AT FAN MILK ELEYELE",
         "marker": {
          "color": "#FECB52",
          "pattern": {
           "shape": ""
          }
         },
         "name": "MOTOR DRIVER AT FAN MILK ELEYELE",
         "offsetgroup": "MOTOR DRIVER AT FAN MILK ELEYELE",
         "orientation": "v",
         "showlegend": true,
         "textposition": "auto",
         "type": "bar",
         "x": [
          "MOTOR DRIVER AT FAN MILK ELEYELE"
         ],
         "xaxis": "x",
         "y": [
          20000
         ],
         "yaxis": "y"
        },
        {
         "alignmentgroup": "True",
         "hovertemplate": "<b>%{hovertext}</b><br><br>labour_type=%{x}<br>Income_dist=%{y}<extra></extra>",
         "hovertext": [
          30000
         ],
         "legendgroup": "SECURITY OFFICER",
         "marker": {
          "color": "#636efa",
          "pattern": {
           "shape": ""
          }
         },
         "name": "SECURITY OFFICER",
         "offsetgroup": "SECURITY OFFICER",
         "orientation": "v",
         "showlegend": true,
         "textposition": "auto",
         "type": "bar",
         "x": [
          "SECURITY OFFICER"
         ],
         "xaxis": "x",
         "y": [
          30000
         ],
         "yaxis": "y"
        },
        {
         "alignmentgroup": "True",
         "hovertemplate": "<b>%{hovertext}</b><br><br>labour_type=%{x}<br>Income_dist=%{y}<extra></extra>",
         "hovertext": [
          130000
         ],
         "legendgroup": "NTA NETWORK",
         "marker": {
          "color": "#EF553B",
          "pattern": {
           "shape": ""
          }
         },
         "name": "NTA NETWORK",
         "offsetgroup": "NTA NETWORK",
         "orientation": "v",
         "showlegend": true,
         "textposition": "auto",
         "type": "bar",
         "x": [
          "NTA NETWORK"
         ],
         "xaxis": "x",
         "y": [
          130000
         ],
         "yaxis": "y"
        },
        {
         "alignmentgroup": "True",
         "hovertemplate": "<b>%{hovertext}</b><br><br>labour_type=%{x}<br>Income_dist=%{y}<extra></extra>",
         "hovertext": [
          180000
         ],
         "legendgroup": "PUBLIC SERVANT",
         "marker": {
          "color": "#00cc96",
          "pattern": {
           "shape": ""
          }
         },
         "name": "PUBLIC SERVANT",
         "offsetgroup": "PUBLIC SERVANT",
         "orientation": "v",
         "showlegend": true,
         "textposition": "auto",
         "type": "bar",
         "x": [
          "PUBLIC SERVANT"
         ],
         "xaxis": "x",
         "y": [
          180000
         ],
         "yaxis": "y"
        },
        {
         "alignmentgroup": "True",
         "hovertemplate": "<b>%{hovertext}</b><br><br>labour_type=%{x}<br>Income_dist=%{y}<extra></extra>",
         "hovertext": [
          95000,
          18000,
          120000,
          70000
         ],
         "legendgroup": "TEACHER IN SECONDARY SCHOOL",
         "marker": {
          "color": "#ab63fa",
          "pattern": {
           "shape": ""
          }
         },
         "name": "TEACHER IN SECONDARY SCHOOL",
         "offsetgroup": "TEACHER IN SECONDARY SCHOOL",
         "orientation": "v",
         "showlegend": true,
         "textposition": "auto",
         "type": "bar",
         "x": [
          "TEACHER IN SECONDARY SCHOOL",
          "TEACHER IN SECONDARY SCHOOL",
          "TEACHER IN SECONDARY SCHOOL",
          "TEACHER IN SECONDARY SCHOOL"
         ],
         "xaxis": "x",
         "y": [
          95000,
          18000,
          120000,
          70000
         ],
         "yaxis": "y"
        },
        {
         "alignmentgroup": "True",
         "hovertemplate": "<b>%{hovertext}</b><br><br>labour_type=%{x}<br>Income_dist=%{y}<extra></extra>",
         "hovertext": [
          80000
         ],
         "legendgroup": "PRINCIPAL EXECUTIVE OFFICER",
         "marker": {
          "color": "#FFA15A",
          "pattern": {
           "shape": ""
          }
         },
         "name": "PRINCIPAL EXECUTIVE OFFICER",
         "offsetgroup": "PRINCIPAL EXECUTIVE OFFICER",
         "orientation": "v",
         "showlegend": true,
         "textposition": "auto",
         "type": "bar",
         "x": [
          "PRINCIPAL EXECUTIVE OFFICER"
         ],
         "xaxis": "x",
         "y": [
          80000
         ],
         "yaxis": "y"
        },
        {
         "alignmentgroup": "True",
         "hovertemplate": "<b>%{hovertext}</b><br><br>labour_type=%{x}<br>Income_dist=%{y}<extra></extra>",
         "hovertext": [
          65000
         ],
         "legendgroup": "PURCHASING & SUPPLY OFFICER",
         "marker": {
          "color": "#19d3f3",
          "pattern": {
           "shape": ""
          }
         },
         "name": "PURCHASING & SUPPLY OFFICER",
         "offsetgroup": "PURCHASING & SUPPLY OFFICER",
         "orientation": "v",
         "showlegend": true,
         "textposition": "auto",
         "type": "bar",
         "x": [
          "PURCHASING & SUPPLY OFFICER"
         ],
         "xaxis": "x",
         "y": [
          65000
         ],
         "yaxis": "y"
        },
        {
         "alignmentgroup": "True",
         "hovertemplate": "<b>%{hovertext}</b><br><br>labour_type=%{x}<br>Income_dist=%{y}<extra></extra>",
         "hovertext": [
          280000
         ],
         "legendgroup": "ASSISTANT DIRECTOR",
         "marker": {
          "color": "#FF6692",
          "pattern": {
           "shape": ""
          }
         },
         "name": "ASSISTANT DIRECTOR",
         "offsetgroup": "ASSISTANT DIRECTOR",
         "orientation": "v",
         "showlegend": true,
         "textposition": "auto",
         "type": "bar",
         "x": [
          "ASSISTANT DIRECTOR"
         ],
         "xaxis": "x",
         "y": [
          280000
         ],
         "yaxis": "y"
        },
        {
         "alignmentgroup": "True",
         "hovertemplate": "<b>%{hovertext}</b><br><br>labour_type=%{x}<br>Income_dist=%{y}<extra></extra>",
         "hovertext": [
          200000
         ],
         "legendgroup": "RESEARCHER",
         "marker": {
          "color": "#B6E880",
          "pattern": {
           "shape": ""
          }
         },
         "name": "RESEARCHER",
         "offsetgroup": "RESEARCHER",
         "orientation": "v",
         "showlegend": true,
         "textposition": "auto",
         "type": "bar",
         "x": [
          "RESEARCHER"
         ],
         "xaxis": "x",
         "y": [
          200000
         ],
         "yaxis": "y"
        },
        {
         "alignmentgroup": "True",
         "hovertemplate": "<b>%{hovertext}</b><br><br>labour_type=%{x}<br>Income_dist=%{y}<extra></extra>",
         "hovertext": [
          40000
         ],
         "legendgroup": "MARKET RESEARCH SUPERVISOR",
         "marker": {
          "color": "#FF97FF",
          "pattern": {
           "shape": ""
          }
         },
         "name": "MARKET RESEARCH SUPERVISOR",
         "offsetgroup": "MARKET RESEARCH SUPERVISOR",
         "orientation": "v",
         "showlegend": true,
         "textposition": "auto",
         "type": "bar",
         "x": [
          "MARKET RESEARCH SUPERVISOR"
         ],
         "xaxis": "x",
         "y": [
          40000
         ],
         "yaxis": "y"
        },
        {
         "alignmentgroup": "True",
         "hovertemplate": "<b>%{hovertext}</b><br><br>labour_type=%{x}<br>Income_dist=%{y}<extra></extra>",
         "hovertext": [
          700
         ],
         "legendgroup": "FARM MAINTAINANCE",
         "marker": {
          "color": "#FECB52",
          "pattern": {
           "shape": ""
          }
         },
         "name": "FARM MAINTAINANCE",
         "offsetgroup": "FARM MAINTAINANCE",
         "orientation": "v",
         "showlegend": true,
         "textposition": "auto",
         "type": "bar",
         "x": [
          "FARM MAINTAINANCE"
         ],
         "xaxis": "x",
         "y": [
          700
         ],
         "yaxis": "y"
        },
        {
         "alignmentgroup": "True",
         "hovertemplate": "<b>%{hovertext}</b><br><br>labour_type=%{x}<br>Income_dist=%{y}<extra></extra>",
         "hovertext": [
          125000
         ],
         "legendgroup": "PRIMARY TEACHING PROFESSIONAL",
         "marker": {
          "color": "#636efa",
          "pattern": {
           "shape": ""
          }
         },
         "name": "PRIMARY TEACHING PROFESSIONAL",
         "offsetgroup": "PRIMARY TEACHING PROFESSIONAL",
         "orientation": "v",
         "showlegend": true,
         "textposition": "auto",
         "type": "bar",
         "x": [
          "PRIMARY TEACHING PROFESSIONAL"
         ],
         "xaxis": "x",
         "y": [
          125000
         ],
         "yaxis": "y"
        },
        {
         "alignmentgroup": "True",
         "hovertemplate": "<b>%{hovertext}</b><br><br>labour_type=%{x}<br>Income_dist=%{y}<extra></extra>",
         "hovertext": [
          5000
         ],
         "legendgroup": "BLOCK MAKING MACHINE OPERATOR",
         "marker": {
          "color": "#EF553B",
          "pattern": {
           "shape": ""
          }
         },
         "name": "BLOCK MAKING MACHINE OPERATOR",
         "offsetgroup": "BLOCK MAKING MACHINE OPERATOR",
         "orientation": "v",
         "showlegend": true,
         "textposition": "auto",
         "type": "bar",
         "x": [
          "BLOCK MAKING MACHINE OPERATOR"
         ],
         "xaxis": "x",
         "y": [
          5000
         ],
         "yaxis": "y"
        },
        {
         "alignmentgroup": "True",
         "hovertemplate": "<b>%{hovertext}</b><br><br>labour_type=%{x}<br>Income_dist=%{y}<extra></extra>",
         "hovertext": [
          40000
         ],
         "legendgroup": "PHARMACEUTICAL ASSISTANT",
         "marker": {
          "color": "#00cc96",
          "pattern": {
           "shape": ""
          }
         },
         "name": "PHARMACEUTICAL ASSISTANT",
         "offsetgroup": "PHARMACEUTICAL ASSISTANT",
         "orientation": "v",
         "showlegend": true,
         "textposition": "auto",
         "type": "bar",
         "x": [
          "PHARMACEUTICAL ASSISTANT"
         ],
         "xaxis": "x",
         "y": [
          40000
         ],
         "yaxis": "y"
        },
        {
         "alignmentgroup": "True",
         "hovertemplate": "<b>%{hovertext}</b><br><br>labour_type=%{x}<br>Income_dist=%{y}<extra></extra>",
         "hovertext": [
          98000
         ],
         "legendgroup": "TEACHING PROFESSIONAL",
         "marker": {
          "color": "#ab63fa",
          "pattern": {
           "shape": ""
          }
         },
         "name": "TEACHING PROFESSIONAL",
         "offsetgroup": "TEACHING PROFESSIONAL",
         "orientation": "v",
         "showlegend": true,
         "textposition": "auto",
         "type": "bar",
         "x": [
          "TEACHING PROFESSIONAL"
         ],
         "xaxis": "x",
         "y": [
          98000
         ],
         "yaxis": "y"
        },
        {
         "alignmentgroup": "True",
         "hovertemplate": "<b>%{hovertext}</b><br><br>labour_type=%{x}<br>Income_dist=%{y}<extra></extra>",
         "hovertext": [
          54000
         ],
         "legendgroup": "LABORATARY TECHNICIAN",
         "marker": {
          "color": "#FFA15A",
          "pattern": {
           "shape": ""
          }
         },
         "name": "LABORATARY TECHNICIAN",
         "offsetgroup": "LABORATARY TECHNICIAN",
         "orientation": "v",
         "showlegend": true,
         "textposition": "auto",
         "type": "bar",
         "x": [
          "LABORATARY TECHNICIAN"
         ],
         "xaxis": "x",
         "y": [
          54000
         ],
         "yaxis": "y"
        },
        {
         "alignmentgroup": "True",
         "hovertemplate": "<b>%{hovertext}</b><br><br>labour_type=%{x}<br>Income_dist=%{y}<extra></extra>",
         "hovertext": [
          20000
         ],
         "legendgroup": "NIGHT GUARD",
         "marker": {
          "color": "#19d3f3",
          "pattern": {
           "shape": ""
          }
         },
         "name": "NIGHT GUARD",
         "offsetgroup": "NIGHT GUARD",
         "orientation": "v",
         "showlegend": true,
         "textposition": "auto",
         "type": "bar",
         "x": [
          "NIGHT GUARD"
         ],
         "xaxis": "x",
         "y": [
          20000
         ],
         "yaxis": "y"
        },
        {
         "alignmentgroup": "True",
         "hovertemplate": "<b>%{hovertext}</b><br><br>labour_type=%{x}<br>Income_dist=%{y}<extra></extra>",
         "hovertext": [
          25000
         ],
         "legendgroup": "SECURITY AT HILLCREST",
         "marker": {
          "color": "#FF6692",
          "pattern": {
           "shape": ""
          }
         },
         "name": "SECURITY AT HILLCREST",
         "offsetgroup": "SECURITY AT HILLCREST",
         "orientation": "v",
         "showlegend": true,
         "textposition": "auto",
         "type": "bar",
         "x": [
          "SECURITY AT HILLCREST"
         ],
         "xaxis": "x",
         "y": [
          25000
         ],
         "yaxis": "y"
        },
        {
         "alignmentgroup": "True",
         "hovertemplate": "<b>%{hovertext}</b><br><br>labour_type=%{x}<br>Income_dist=%{y}<extra></extra>",
         "hovertext": [
          8000
         ],
         "legendgroup": "STREET CLEANER",
         "marker": {
          "color": "#B6E880",
          "pattern": {
           "shape": ""
          }
         },
         "name": "STREET CLEANER",
         "offsetgroup": "STREET CLEANER",
         "orientation": "v",
         "showlegend": true,
         "textposition": "auto",
         "type": "bar",
         "x": [
          "STREET CLEANER"
         ],
         "xaxis": "x",
         "y": [
          8000
         ],
         "yaxis": "y"
        },
        {
         "alignmentgroup": "True",
         "hovertemplate": "<b>%{hovertext}</b><br><br>labour_type=%{x}<br>Income_dist=%{y}<extra></extra>",
         "hovertext": [
          5000
         ],
         "legendgroup": "SHOP SELLER",
         "marker": {
          "color": "#FF97FF",
          "pattern": {
           "shape": ""
          }
         },
         "name": "SHOP SELLER",
         "offsetgroup": "SHOP SELLER",
         "orientation": "v",
         "showlegend": true,
         "textposition": "auto",
         "type": "bar",
         "x": [
          "SHOP SELLER"
         ],
         "xaxis": "x",
         "y": [
          5000
         ],
         "yaxis": "y"
        },
        {
         "alignmentgroup": "True",
         "hovertemplate": "<b>%{hovertext}</b><br><br>labour_type=%{x}<br>Income_dist=%{y}<extra></extra>",
         "hovertext": [
          25000
         ],
         "legendgroup": "SECURITY AT CHRISTAIN PILGRIMS WELFARE B",
         "marker": {
          "color": "#FECB52",
          "pattern": {
           "shape": ""
          }
         },
         "name": "SECURITY AT CHRISTAIN PILGRIMS WELFARE B",
         "offsetgroup": "SECURITY AT CHRISTAIN PILGRIMS WELFARE B",
         "orientation": "v",
         "showlegend": true,
         "textposition": "auto",
         "type": "bar",
         "x": [
          "SECURITY AT CHRISTAIN PILGRIMS WELFARE B"
         ],
         "xaxis": "x",
         "y": [
          25000
         ],
         "yaxis": "y"
        },
        {
         "alignmentgroup": "True",
         "hovertemplate": "<b>%{hovertext}</b><br><br>labour_type=%{x}<br>Income_dist=%{y}<extra></extra>",
         "hovertext": [
          10000,
          10000
         ],
         "legendgroup": "BAKERY WORKER",
         "marker": {
          "color": "#636efa",
          "pattern": {
           "shape": ""
          }
         },
         "name": "BAKERY WORKER",
         "offsetgroup": "BAKERY WORKER",
         "orientation": "v",
         "showlegend": true,
         "textposition": "auto",
         "type": "bar",
         "x": [
          "BAKERY WORKER",
          "BAKERY WORKER"
         ],
         "xaxis": "x",
         "y": [
          10000,
          10000
         ],
         "yaxis": "y"
        },
        {
         "alignmentgroup": "True",
         "hovertemplate": "<b>%{hovertext}</b><br><br>labour_type=%{x}<br>Income_dist=%{y}<extra></extra>",
         "hovertext": [
          5000
         ],
         "legendgroup": "HAIR SALOON APPRETICE",
         "marker": {
          "color": "#EF553B",
          "pattern": {
           "shape": ""
          }
         },
         "name": "HAIR SALOON APPRETICE",
         "offsetgroup": "HAIR SALOON APPRETICE",
         "orientation": "v",
         "showlegend": true,
         "textposition": "auto",
         "type": "bar",
         "x": [
          "HAIR SALOON APPRETICE"
         ],
         "xaxis": "x",
         "y": [
          5000
         ],
         "yaxis": "y"
        },
        {
         "alignmentgroup": "True",
         "hovertemplate": "<b>%{hovertext}</b><br><br>labour_type=%{x}<br>Income_dist=%{y}<extra></extra>",
         "hovertext": [
          15000
         ],
         "legendgroup": "DOMESTIC WORKER",
         "marker": {
          "color": "#00cc96",
          "pattern": {
           "shape": ""
          }
         },
         "name": "DOMESTIC WORKER",
         "offsetgroup": "DOMESTIC WORKER",
         "orientation": "v",
         "showlegend": true,
         "textposition": "auto",
         "type": "bar",
         "x": [
          "DOMESTIC WORKER"
         ],
         "xaxis": "x",
         "y": [
          15000
         ],
         "yaxis": "y"
        },
        {
         "alignmentgroup": "True",
         "hovertemplate": "<b>%{hovertext}</b><br><br>labour_type=%{x}<br>Income_dist=%{y}<extra></extra>",
         "hovertext": [
          60000
         ],
         "legendgroup": "PAINTER AND DECORATIONS",
         "marker": {
          "color": "#ab63fa",
          "pattern": {
           "shape": ""
          }
         },
         "name": "PAINTER AND DECORATIONS",
         "offsetgroup": "PAINTER AND DECORATIONS",
         "orientation": "v",
         "showlegend": true,
         "textposition": "auto",
         "type": "bar",
         "x": [
          "PAINTER AND DECORATIONS"
         ],
         "xaxis": "x",
         "y": [
          60000
         ],
         "yaxis": "y"
        },
        {
         "alignmentgroup": "True",
         "hovertemplate": "<b>%{hovertext}</b><br><br>labour_type=%{x}<br>Income_dist=%{y}<extra></extra>",
         "hovertext": [
          20000
         ],
         "legendgroup": "POLITICIAN JOS NORTH",
         "marker": {
          "color": "#FFA15A",
          "pattern": {
           "shape": ""
          }
         },
         "name": "POLITICIAN JOS NORTH",
         "offsetgroup": "POLITICIAN JOS NORTH",
         "orientation": "v",
         "showlegend": true,
         "textposition": "auto",
         "type": "bar",
         "x": [
          "POLITICIAN JOS NORTH"
         ],
         "xaxis": "x",
         "y": [
          20000
         ],
         "yaxis": "y"
        },
        {
         "alignmentgroup": "True",
         "hovertemplate": "<b>%{hovertext}</b><br><br>labour_type=%{x}<br>Income_dist=%{y}<extra></extra>",
         "hovertext": [
          7000
         ],
         "legendgroup": "COOK FOR AN INDIVIDUAL",
         "marker": {
          "color": "#19d3f3",
          "pattern": {
           "shape": ""
          }
         },
         "name": "COOK FOR AN INDIVIDUAL",
         "offsetgroup": "COOK FOR AN INDIVIDUAL",
         "orientation": "v",
         "showlegend": true,
         "textposition": "auto",
         "type": "bar",
         "x": [
          "COOK FOR AN INDIVIDUAL"
         ],
         "xaxis": "x",
         "y": [
          7000
         ],
         "yaxis": "y"
        },
        {
         "alignmentgroup": "True",
         "hovertemplate": "<b>%{hovertext}</b><br><br>labour_type=%{x}<br>Income_dist=%{y}<extra></extra>",
         "hovertext": [
          30000
         ],
         "legendgroup": "CLARICAL WORK WITH UAC JOS",
         "marker": {
          "color": "#FF6692",
          "pattern": {
           "shape": ""
          }
         },
         "name": "CLARICAL WORK WITH UAC JOS",
         "offsetgroup": "CLARICAL WORK WITH UAC JOS",
         "orientation": "v",
         "showlegend": true,
         "textposition": "auto",
         "type": "bar",
         "x": [
          "CLARICAL WORK WITH UAC JOS"
         ],
         "xaxis": "x",
         "y": [
          30000
         ],
         "yaxis": "y"
        },
        {
         "alignmentgroup": "True",
         "hovertemplate": "<b>%{hovertext}</b><br><br>labour_type=%{x}<br>Income_dist=%{y}<extra></extra>",
         "hovertext": [
          15000
         ],
         "legendgroup": "CASHIER FINANCE",
         "marker": {
          "color": "#B6E880",
          "pattern": {
           "shape": ""
          }
         },
         "name": "CASHIER FINANCE",
         "offsetgroup": "CASHIER FINANCE",
         "orientation": "v",
         "showlegend": true,
         "textposition": "auto",
         "type": "bar",
         "x": [
          "CASHIER FINANCE"
         ],
         "xaxis": "x",
         "y": [
          15000
         ],
         "yaxis": "y"
        },
        {
         "alignmentgroup": "True",
         "hovertemplate": "<b>%{hovertext}</b><br><br>labour_type=%{x}<br>Income_dist=%{y}<extra></extra>",
         "hovertext": [
          23000
         ],
         "legendgroup": "GENERAL AGRIC",
         "marker": {
          "color": "#FF97FF",
          "pattern": {
           "shape": ""
          }
         },
         "name": "GENERAL AGRIC",
         "offsetgroup": "GENERAL AGRIC",
         "orientation": "v",
         "showlegend": true,
         "textposition": "auto",
         "type": "bar",
         "x": [
          "GENERAL AGRIC"
         ],
         "xaxis": "x",
         "y": [
          23000
         ],
         "yaxis": "y"
        },
        {
         "alignmentgroup": "True",
         "hovertemplate": "<b>%{hovertext}</b><br><br>labour_type=%{x}<br>Income_dist=%{y}<extra></extra>",
         "hovertext": [
          500,
          1000,
          12000,
          350,
          350,
          350,
          200,
          200
         ],
         "legendgroup": "FARMING",
         "marker": {
          "color": "#FECB52",
          "pattern": {
           "shape": ""
          }
         },
         "name": "FARMING",
         "offsetgroup": "FARMING",
         "orientation": "v",
         "showlegend": true,
         "textposition": "auto",
         "type": "bar",
         "x": [
          "FARMING",
          "FARMING",
          "FARMING",
          "FARMING",
          "FARMING",
          "FARMING",
          "FARMING",
          "FARMING"
         ],
         "xaxis": "x",
         "y": [
          500,
          1000,
          12000,
          350,
          350,
          350,
          200,
          200
         ],
         "yaxis": "y"
        },
        {
         "alignmentgroup": "True",
         "hovertemplate": "<b>%{hovertext}</b><br><br>labour_type=%{x}<br>Income_dist=%{y}<extra></extra>",
         "hovertext": [
          45000
         ],
         "legendgroup": "CARPENTRY WORK",
         "marker": {
          "color": "#636efa",
          "pattern": {
           "shape": ""
          }
         },
         "name": "CARPENTRY WORK",
         "offsetgroup": "CARPENTRY WORK",
         "orientation": "v",
         "showlegend": true,
         "textposition": "auto",
         "type": "bar",
         "x": [
          "CARPENTRY WORK"
         ],
         "xaxis": "x",
         "y": [
          45000
         ],
         "yaxis": "y"
        },
        {
         "alignmentgroup": "True",
         "hovertemplate": "<b>%{hovertext}</b><br><br>labour_type=%{x}<br>Income_dist=%{y}<extra></extra>",
         "hovertext": [
          15000
         ],
         "legendgroup": "CLEANER W JUTH(CONTRACK)",
         "marker": {
          "color": "#EF553B",
          "pattern": {
           "shape": ""
          }
         },
         "name": "CLEANER W JUTH(CONTRACK)",
         "offsetgroup": "CLEANER W JUTH(CONTRACK)",
         "orientation": "v",
         "showlegend": true,
         "textposition": "auto",
         "type": "bar",
         "x": [
          "CLEANER W JUTH(CONTRACK)"
         ],
         "xaxis": "x",
         "y": [
          15000
         ],
         "yaxis": "y"
        },
        {
         "alignmentgroup": "True",
         "hovertemplate": "<b>%{hovertext}</b><br><br>labour_type=%{x}<br>Income_dist=%{y}<extra></extra>",
         "hovertext": [
          3000
         ],
         "legendgroup": "CLEANER FED AIRPORT AUTHORITY",
         "marker": {
          "color": "#00cc96",
          "pattern": {
           "shape": ""
          }
         },
         "name": "CLEANER FED AIRPORT AUTHORITY",
         "offsetgroup": "CLEANER FED AIRPORT AUTHORITY",
         "orientation": "v",
         "showlegend": true,
         "textposition": "auto",
         "type": "bar",
         "x": [
          "CLEANER FED AIRPORT AUTHORITY"
         ],
         "xaxis": "x",
         "y": [
          3000
         ],
         "yaxis": "y"
        },
        {
         "alignmentgroup": "True",
         "hovertemplate": "<b>%{hovertext}</b><br><br>labour_type=%{x}<br>Income_dist=%{y}<extra></extra>",
         "hovertext": [
          5000
         ],
         "legendgroup": "ELECTRICAL WORK",
         "marker": {
          "color": "#ab63fa",
          "pattern": {
           "shape": ""
          }
         },
         "name": "ELECTRICAL WORK",
         "offsetgroup": "ELECTRICAL WORK",
         "orientation": "v",
         "showlegend": true,
         "textposition": "auto",
         "type": "bar",
         "x": [
          "ELECTRICAL WORK"
         ],
         "xaxis": "x",
         "y": [
          5000
         ],
         "yaxis": "y"
        },
        {
         "alignmentgroup": "True",
         "hovertemplate": "<b>%{hovertext}</b><br><br>labour_type=%{x}<br>Income_dist=%{y}<extra></extra>",
         "hovertext": [
          2500
         ],
         "legendgroup": "CAR WASH",
         "marker": {
          "color": "#FFA15A",
          "pattern": {
           "shape": ""
          }
         },
         "name": "CAR WASH",
         "offsetgroup": "CAR WASH",
         "orientation": "v",
         "showlegend": true,
         "textposition": "auto",
         "type": "bar",
         "x": [
          "CAR WASH"
         ],
         "xaxis": "x",
         "y": [
          2500
         ],
         "yaxis": "y"
        },
        {
         "alignmentgroup": "True",
         "hovertemplate": "<b>%{hovertext}</b><br><br>labour_type=%{x}<br>Income_dist=%{y}<extra></extra>",
         "hovertext": [
          15500031
         ],
         "legendgroup": "EDUCATION (ZONAL OFFICER)",
         "marker": {
          "color": "#19d3f3",
          "pattern": {
           "shape": ""
          }
         },
         "name": "EDUCATION (ZONAL OFFICER)",
         "offsetgroup": "EDUCATION (ZONAL OFFICER)",
         "orientation": "v",
         "showlegend": true,
         "textposition": "auto",
         "type": "bar",
         "x": [
          "EDUCATION (ZONAL OFFICER)"
         ],
         "xaxis": "x",
         "y": [
          15500031
         ],
         "yaxis": "y"
        },
        {
         "alignmentgroup": "True",
         "hovertemplate": "<b>%{hovertext}</b><br><br>labour_type=%{x}<br>Income_dist=%{y}<extra></extra>",
         "hovertext": [
          33000
         ],
         "legendgroup": "FINANCE",
         "marker": {
          "color": "#FF6692",
          "pattern": {
           "shape": ""
          }
         },
         "name": "FINANCE",
         "offsetgroup": "FINANCE",
         "orientation": "v",
         "showlegend": true,
         "textposition": "auto",
         "type": "bar",
         "x": [
          "FINANCE"
         ],
         "xaxis": "x",
         "y": [
          33000
         ],
         "yaxis": "y"
        },
        {
         "alignmentgroup": "True",
         "hovertemplate": "<b>%{hovertext}</b><br><br>labour_type=%{x}<br>Income_dist=%{y}<extra></extra>",
         "hovertext": [
          29500
         ],
         "legendgroup": "ADMIN",
         "marker": {
          "color": "#B6E880",
          "pattern": {
           "shape": ""
          }
         },
         "name": "ADMIN",
         "offsetgroup": "ADMIN",
         "orientation": "v",
         "showlegend": true,
         "textposition": "auto",
         "type": "bar",
         "x": [
          "ADMIN"
         ],
         "xaxis": "x",
         "y": [
          29500
         ],
         "yaxis": "y"
        },
        {
         "alignmentgroup": "True",
         "hovertemplate": "<b>%{hovertext}</b><br><br>labour_type=%{x}<br>Income_dist=%{y}<extra></extra>",
         "hovertext": [
          10000
         ],
         "legendgroup": "COOKED",
         "marker": {
          "color": "#FF97FF",
          "pattern": {
           "shape": ""
          }
         },
         "name": "COOKED",
         "offsetgroup": "COOKED",
         "orientation": "v",
         "showlegend": true,
         "textposition": "auto",
         "type": "bar",
         "x": [
          "COOKED"
         ],
         "xaxis": "x",
         "y": [
          10000
         ],
         "yaxis": "y"
        },
        {
         "alignmentgroup": "True",
         "hovertemplate": "<b>%{hovertext}</b><br><br>labour_type=%{x}<br>Income_dist=%{y}<extra></extra>",
         "hovertext": [
          200000
         ],
         "legendgroup": "LECTURER IN RIV POLY TEC",
         "marker": {
          "color": "#FECB52",
          "pattern": {
           "shape": ""
          }
         },
         "name": "LECTURER IN RIV POLY TEC",
         "offsetgroup": "LECTURER IN RIV POLY TEC",
         "orientation": "v",
         "showlegend": true,
         "textposition": "auto",
         "type": "bar",
         "x": [
          "LECTURER IN RIV POLY TEC"
         ],
         "xaxis": "x",
         "y": [
          200000
         ],
         "yaxis": "y"
        },
        {
         "alignmentgroup": "True",
         "hovertemplate": "<b>%{hovertext}</b><br><br>labour_type=%{x}<br>Income_dist=%{y}<extra></extra>",
         "hovertext": [
          200000
         ],
         "legendgroup": "SECURITIES, FINANCE DEALERS & BROKERS",
         "marker": {
          "color": "#636efa",
          "pattern": {
           "shape": ""
          }
         },
         "name": "SECURITIES, FINANCE DEALERS & BROKERS",
         "offsetgroup": "SECURITIES, FINANCE DEALERS & BROKERS",
         "orientation": "v",
         "showlegend": true,
         "textposition": "auto",
         "type": "bar",
         "x": [
          "SECURITIES, FINANCE DEALERS & BROKERS"
         ],
         "xaxis": "x",
         "y": [
          200000
         ],
         "yaxis": "y"
        },
        {
         "alignmentgroup": "True",
         "hovertemplate": "<b>%{hovertext}</b><br><br>labour_type=%{x}<br>Income_dist=%{y}<extra></extra>",
         "hovertext": [
          300000
         ],
         "legendgroup": "ACCOUNTANT IN PARASTATAL",
         "marker": {
          "color": "#EF553B",
          "pattern": {
           "shape": ""
          }
         },
         "name": "ACCOUNTANT IN PARASTATAL",
         "offsetgroup": "ACCOUNTANT IN PARASTATAL",
         "orientation": "v",
         "showlegend": true,
         "textposition": "auto",
         "type": "bar",
         "x": [
          "ACCOUNTANT IN PARASTATAL"
         ],
         "xaxis": "x",
         "y": [
          300000
         ],
         "yaxis": "y"
        },
        {
         "alignmentgroup": "True",
         "hovertemplate": "<b>%{hovertext}</b><br><br>labour_type=%{x}<br>Income_dist=%{y}<extra></extra>",
         "hovertext": [
          103000
         ],
         "legendgroup": "SENIOR ACCOUNTANT",
         "marker": {
          "color": "#00cc96",
          "pattern": {
           "shape": ""
          }
         },
         "name": "SENIOR ACCOUNTANT",
         "offsetgroup": "SENIOR ACCOUNTANT",
         "orientation": "v",
         "showlegend": true,
         "textposition": "auto",
         "type": "bar",
         "x": [
          "SENIOR ACCOUNTANT"
         ],
         "xaxis": "x",
         "y": [
          103000
         ],
         "yaxis": "y"
        },
        {
         "alignmentgroup": "True",
         "hovertemplate": "<b>%{hovertext}</b><br><br>labour_type=%{x}<br>Income_dist=%{y}<extra></extra>",
         "hovertext": [
          200000
         ],
         "legendgroup": "AMBULANCE DRIVER",
         "marker": {
          "color": "#ab63fa",
          "pattern": {
           "shape": ""
          }
         },
         "name": "AMBULANCE DRIVER",
         "offsetgroup": "AMBULANCE DRIVER",
         "orientation": "v",
         "showlegend": true,
         "textposition": "auto",
         "type": "bar",
         "x": [
          "AMBULANCE DRIVER"
         ],
         "xaxis": "x",
         "y": [
          200000
         ],
         "yaxis": "y"
        },
        {
         "alignmentgroup": "True",
         "hovertemplate": "<b>%{hovertext}</b><br><br>labour_type=%{x}<br>Income_dist=%{y}<extra></extra>",
         "hovertext": [
          65000
         ],
         "legendgroup": "X-RAY OFFICER",
         "marker": {
          "color": "#FFA15A",
          "pattern": {
           "shape": ""
          }
         },
         "name": "X-RAY OFFICER",
         "offsetgroup": "X-RAY OFFICER",
         "orientation": "v",
         "showlegend": true,
         "textposition": "auto",
         "type": "bar",
         "x": [
          "X-RAY OFFICER"
         ],
         "xaxis": "x",
         "y": [
          65000
         ],
         "yaxis": "y"
        },
        {
         "alignmentgroup": "True",
         "hovertemplate": "<b>%{hovertext}</b><br><br>labour_type=%{x}<br>Income_dist=%{y}<extra></extra>",
         "hovertext": [
          120000
         ],
         "legendgroup": "PASTOR IN A CHURCH",
         "marker": {
          "color": "#19d3f3",
          "pattern": {
           "shape": ""
          }
         },
         "name": "PASTOR IN A CHURCH",
         "offsetgroup": "PASTOR IN A CHURCH",
         "orientation": "v",
         "showlegend": true,
         "textposition": "auto",
         "type": "bar",
         "x": [
          "PASTOR IN A CHURCH"
         ],
         "xaxis": "x",
         "y": [
          120000
         ],
         "yaxis": "y"
        },
        {
         "alignmentgroup": "True",
         "hovertemplate": "<b>%{hovertext}</b><br><br>labour_type=%{x}<br>Income_dist=%{y}<extra></extra>",
         "hovertext": [
          200000
         ],
         "legendgroup": "LABOURAR CONTRACTOR AND EQUIPMENT",
         "marker": {
          "color": "#FF6692",
          "pattern": {
           "shape": ""
          }
         },
         "name": "LABOURAR CONTRACTOR AND EQUIPMENT",
         "offsetgroup": "LABOURAR CONTRACTOR AND EQUIPMENT",
         "orientation": "v",
         "showlegend": true,
         "textposition": "auto",
         "type": "bar",
         "x": [
          "LABOURAR CONTRACTOR AND EQUIPMENT"
         ],
         "xaxis": "x",
         "y": [
          200000
         ],
         "yaxis": "y"
        },
        {
         "alignmentgroup": "True",
         "hovertemplate": "<b>%{hovertext}</b><br><br>labour_type=%{x}<br>Income_dist=%{y}<extra></extra>",
         "hovertext": [
          150000
         ],
         "legendgroup": "TEACHER IN SCHOOL",
         "marker": {
          "color": "#B6E880",
          "pattern": {
           "shape": ""
          }
         },
         "name": "TEACHER IN SCHOOL",
         "offsetgroup": "TEACHER IN SCHOOL",
         "orientation": "v",
         "showlegend": true,
         "textposition": "auto",
         "type": "bar",
         "x": [
          "TEACHER IN SCHOOL"
         ],
         "xaxis": "x",
         "y": [
          150000
         ],
         "yaxis": "y"
        },
        {
         "alignmentgroup": "True",
         "hovertemplate": "<b>%{hovertext}</b><br><br>labour_type=%{x}<br>Income_dist=%{y}<extra></extra>",
         "hovertext": [
          30000
         ],
         "legendgroup": "LAUNDRY",
         "marker": {
          "color": "#FF97FF",
          "pattern": {
           "shape": ""
          }
         },
         "name": "LAUNDRY",
         "offsetgroup": "LAUNDRY",
         "orientation": "v",
         "showlegend": true,
         "textposition": "auto",
         "type": "bar",
         "x": [
          "LAUNDRY"
         ],
         "xaxis": "x",
         "y": [
          30000
         ],
         "yaxis": "y"
        },
        {
         "alignmentgroup": "True",
         "hovertemplate": "<b>%{hovertext}</b><br><br>labour_type=%{x}<br>Income_dist=%{y}<extra></extra>",
         "hovertext": [
          50000
         ],
         "legendgroup": "SAND BLASTER",
         "marker": {
          "color": "#FECB52",
          "pattern": {
           "shape": ""
          }
         },
         "name": "SAND BLASTER",
         "offsetgroup": "SAND BLASTER",
         "orientation": "v",
         "showlegend": true,
         "textposition": "auto",
         "type": "bar",
         "x": [
          "SAND BLASTER"
         ],
         "xaxis": "x",
         "y": [
          50000
         ],
         "yaxis": "y"
        },
        {
         "alignmentgroup": "True",
         "hovertemplate": "<b>%{hovertext}</b><br><br>labour_type=%{x}<br>Income_dist=%{y}<extra></extra>",
         "hovertext": [
          13000
         ],
         "legendgroup": "WAITER",
         "marker": {
          "color": "#636efa",
          "pattern": {
           "shape": ""
          }
         },
         "name": "WAITER",
         "offsetgroup": "WAITER",
         "orientation": "v",
         "showlegend": true,
         "textposition": "auto",
         "type": "bar",
         "x": [
          "WAITER"
         ],
         "xaxis": "x",
         "y": [
          13000
         ],
         "yaxis": "y"
        },
        {
         "alignmentgroup": "True",
         "hovertemplate": "<b>%{hovertext}</b><br><br>labour_type=%{x}<br>Income_dist=%{y}<extra></extra>",
         "hovertext": [
          20000
         ],
         "legendgroup": "GARDENER IN LOCAL GOVT",
         "marker": {
          "color": "#EF553B",
          "pattern": {
           "shape": ""
          }
         },
         "name": "GARDENER IN LOCAL GOVT",
         "offsetgroup": "GARDENER IN LOCAL GOVT",
         "orientation": "v",
         "showlegend": true,
         "textposition": "auto",
         "type": "bar",
         "x": [
          "GARDENER IN LOCAL GOVT"
         ],
         "xaxis": "x",
         "y": [
          20000
         ],
         "yaxis": "y"
        },
        {
         "alignmentgroup": "True",
         "hovertemplate": "<b>%{hovertext}</b><br><br>labour_type=%{x}<br>Income_dist=%{y}<extra></extra>",
         "hovertext": [
          35000
         ],
         "legendgroup": "CLEANER IN LGA",
         "marker": {
          "color": "#00cc96",
          "pattern": {
           "shape": ""
          }
         },
         "name": "CLEANER IN LGA",
         "offsetgroup": "CLEANER IN LGA",
         "orientation": "v",
         "showlegend": true,
         "textposition": "auto",
         "type": "bar",
         "x": [
          "CLEANER IN LGA"
         ],
         "xaxis": "x",
         "y": [
          35000
         ],
         "yaxis": "y"
        },
        {
         "alignmentgroup": "True",
         "hovertemplate": "<b>%{hovertext}</b><br><br>labour_type=%{x}<br>Income_dist=%{y}<extra></extra>",
         "hovertext": [
          15000
         ],
         "legendgroup": "HAND PACKERS AND OTHER MANUFACTURING LAB",
         "marker": {
          "color": "#ab63fa",
          "pattern": {
           "shape": ""
          }
         },
         "name": "HAND PACKERS AND OTHER MANUFACTURING LAB",
         "offsetgroup": "HAND PACKERS AND OTHER MANUFACTURING LAB",
         "orientation": "v",
         "showlegend": true,
         "textposition": "auto",
         "type": "bar",
         "x": [
          "HAND PACKERS AND OTHER MANUFACTURING LAB"
         ],
         "xaxis": "x",
         "y": [
          15000
         ],
         "yaxis": "y"
        },
        {
         "alignmentgroup": "True",
         "hovertemplate": "<b>%{hovertext}</b><br><br>labour_type=%{x}<br>Income_dist=%{y}<extra></extra>",
         "hovertext": [
          60000
         ],
         "legendgroup": "MOTOR MECHENIC",
         "marker": {
          "color": "#FFA15A",
          "pattern": {
           "shape": ""
          }
         },
         "name": "MOTOR MECHENIC",
         "offsetgroup": "MOTOR MECHENIC",
         "orientation": "v",
         "showlegend": true,
         "textposition": "auto",
         "type": "bar",
         "x": [
          "MOTOR MECHENIC"
         ],
         "xaxis": "x",
         "y": [
          60000
         ],
         "yaxis": "y"
        },
        {
         "alignmentgroup": "True",
         "hovertemplate": "<b>%{hovertext}</b><br><br>labour_type=%{x}<br>Income_dist=%{y}<extra></extra>",
         "hovertext": [
          80000
         ],
         "legendgroup": "DRIVER FORK LIFTER INTELL COMP",
         "marker": {
          "color": "#19d3f3",
          "pattern": {
           "shape": ""
          }
         },
         "name": "DRIVER FORK LIFTER INTELL COMP",
         "offsetgroup": "DRIVER FORK LIFTER INTELL COMP",
         "orientation": "v",
         "showlegend": true,
         "textposition": "auto",
         "type": "bar",
         "x": [
          "DRIVER FORK LIFTER INTELL COMP"
         ],
         "xaxis": "x",
         "y": [
          80000
         ],
         "yaxis": "y"
        },
        {
         "alignmentgroup": "True",
         "hovertemplate": "<b>%{hovertext}</b><br><br>labour_type=%{x}<br>Income_dist=%{y}<extra></extra>",
         "hovertext": [
          64000
         ],
         "legendgroup": "CLERK OF MINISTRY OF TRANSPORT",
         "marker": {
          "color": "#FF6692",
          "pattern": {
           "shape": ""
          }
         },
         "name": "CLERK OF MINISTRY OF TRANSPORT",
         "offsetgroup": "CLERK OF MINISTRY OF TRANSPORT",
         "orientation": "v",
         "showlegend": true,
         "textposition": "auto",
         "type": "bar",
         "x": [
          "CLERK OF MINISTRY OF TRANSPORT"
         ],
         "xaxis": "x",
         "y": [
          64000
         ],
         "yaxis": "y"
        },
        {
         "alignmentgroup": "True",
         "hovertemplate": "<b>%{hovertext}</b><br><br>labour_type=%{x}<br>Income_dist=%{y}<extra></extra>",
         "hovertext": [
          40000,
          30000
         ],
         "legendgroup": "CLERICAL OFFICER IN LOCAL GOVT",
         "marker": {
          "color": "#B6E880",
          "pattern": {
           "shape": ""
          }
         },
         "name": "CLERICAL OFFICER IN LOCAL GOVT",
         "offsetgroup": "CLERICAL OFFICER IN LOCAL GOVT",
         "orientation": "v",
         "showlegend": true,
         "textposition": "auto",
         "type": "bar",
         "x": [
          "CLERICAL OFFICER IN LOCAL GOVT",
          "CLERICAL OFFICER IN LOCAL GOVT"
         ],
         "xaxis": "x",
         "y": [
          40000,
          30000
         ],
         "yaxis": "y"
        },
        {
         "alignmentgroup": "True",
         "hovertemplate": "<b>%{hovertext}</b><br><br>labour_type=%{x}<br>Income_dist=%{y}<extra></extra>",
         "hovertext": [
          60000
         ],
         "legendgroup": "CART TAXI AND VAN DRIVER",
         "marker": {
          "color": "#FF97FF",
          "pattern": {
           "shape": ""
          }
         },
         "name": "CART TAXI AND VAN DRIVER",
         "offsetgroup": "CART TAXI AND VAN DRIVER",
         "orientation": "v",
         "showlegend": true,
         "textposition": "auto",
         "type": "bar",
         "x": [
          "CART TAXI AND VAN DRIVER"
         ],
         "xaxis": "x",
         "y": [
          60000
         ],
         "yaxis": "y"
        },
        {
         "alignmentgroup": "True",
         "hovertemplate": "<b>%{hovertext}</b><br><br>labour_type=%{x}<br>Income_dist=%{y}<extra></extra>",
         "hovertext": [
          4000
         ],
         "legendgroup": "PLUMBER AND PIPE FITTERS",
         "marker": {
          "color": "#FECB52",
          "pattern": {
           "shape": ""
          }
         },
         "name": "PLUMBER AND PIPE FITTERS",
         "offsetgroup": "PLUMBER AND PIPE FITTERS",
         "orientation": "v",
         "showlegend": true,
         "textposition": "auto",
         "type": "bar",
         "x": [
          "PLUMBER AND PIPE FITTERS"
         ],
         "xaxis": "x",
         "y": [
          4000
         ],
         "yaxis": "y"
        },
        {
         "alignmentgroup": "True",
         "hovertemplate": "<b>%{hovertext}</b><br><br>labour_type=%{x}<br>Income_dist=%{y}<extra></extra>",
         "hovertext": [
          100000
         ],
         "legendgroup": "ELECTRICAL ENGINEERING TECHNICIAN",
         "marker": {
          "color": "#636efa",
          "pattern": {
           "shape": ""
          }
         },
         "name": "ELECTRICAL ENGINEERING TECHNICIAN",
         "offsetgroup": "ELECTRICAL ENGINEERING TECHNICIAN",
         "orientation": "v",
         "showlegend": true,
         "textposition": "auto",
         "type": "bar",
         "x": [
          "ELECTRICAL ENGINEERING TECHNICIAN"
         ],
         "xaxis": "x",
         "y": [
          100000
         ],
         "yaxis": "y"
        },
        {
         "alignmentgroup": "True",
         "hovertemplate": "<b>%{hovertext}</b><br><br>labour_type=%{x}<br>Income_dist=%{y}<extra></extra>",
         "hovertext": [
          60000
         ],
         "legendgroup": "ASSEMBLING LABOURER",
         "marker": {
          "color": "#EF553B",
          "pattern": {
           "shape": ""
          }
         },
         "name": "ASSEMBLING LABOURER",
         "offsetgroup": "ASSEMBLING LABOURER",
         "orientation": "v",
         "showlegend": true,
         "textposition": "auto",
         "type": "bar",
         "x": [
          "ASSEMBLING LABOURER"
         ],
         "xaxis": "x",
         "y": [
          60000
         ],
         "yaxis": "y"
        },
        {
         "alignmentgroup": "True",
         "hovertemplate": "<b>%{hovertext}</b><br><br>labour_type=%{x}<br>Income_dist=%{y}<extra></extra>",
         "hovertext": [
          188000
         ],
         "legendgroup": "ADMINISTRATIVE & RELATED ASSOCIATE PROF",
         "marker": {
          "color": "#00cc96",
          "pattern": {
           "shape": ""
          }
         },
         "name": "ADMINISTRATIVE & RELATED ASSOCIATE PROF",
         "offsetgroup": "ADMINISTRATIVE & RELATED ASSOCIATE PROF",
         "orientation": "v",
         "showlegend": true,
         "textposition": "auto",
         "type": "bar",
         "x": [
          "ADMINISTRATIVE & RELATED ASSOCIATE PROF"
         ],
         "xaxis": "x",
         "y": [
          188000
         ],
         "yaxis": "y"
        },
        {
         "alignmentgroup": "True",
         "hovertemplate": "<b>%{hovertext}</b><br><br>labour_type=%{x}<br>Income_dist=%{y}<extra></extra>",
         "hovertext": [
          100000
         ],
         "legendgroup": "CRANE, HOIST& RELATED EQUIPMENT OPERATOR",
         "marker": {
          "color": "#ab63fa",
          "pattern": {
           "shape": ""
          }
         },
         "name": "CRANE, HOIST& RELATED EQUIPMENT OPERATOR",
         "offsetgroup": "CRANE, HOIST& RELATED EQUIPMENT OPERATOR",
         "orientation": "v",
         "showlegend": true,
         "textposition": "auto",
         "type": "bar",
         "x": [
          "CRANE, HOIST& RELATED EQUIPMENT OPERATOR"
         ],
         "xaxis": "x",
         "y": [
          100000
         ],
         "yaxis": "y"
        },
        {
         "alignmentgroup": "True",
         "hovertemplate": "<b>%{hovertext}</b><br><br>labour_type=%{x}<br>Income_dist=%{y}<extra></extra>",
         "hovertext": [
          80000
         ],
         "legendgroup": "PLUMBERS & PIPE FITTERS",
         "marker": {
          "color": "#FFA15A",
          "pattern": {
           "shape": ""
          }
         },
         "name": "PLUMBERS & PIPE FITTERS",
         "offsetgroup": "PLUMBERS & PIPE FITTERS",
         "orientation": "v",
         "showlegend": true,
         "textposition": "auto",
         "type": "bar",
         "x": [
          "PLUMBERS & PIPE FITTERS"
         ],
         "xaxis": "x",
         "y": [
          80000
         ],
         "yaxis": "y"
        },
        {
         "alignmentgroup": "True",
         "hovertemplate": "<b>%{hovertext}</b><br><br>labour_type=%{x}<br>Income_dist=%{y}<extra></extra>",
         "hovertext": [
          5000
         ],
         "legendgroup": "WELKDING",
         "marker": {
          "color": "#19d3f3",
          "pattern": {
           "shape": ""
          }
         },
         "name": "WELKDING",
         "offsetgroup": "WELKDING",
         "orientation": "v",
         "showlegend": true,
         "textposition": "auto",
         "type": "bar",
         "x": [
          "WELKDING"
         ],
         "xaxis": "x",
         "y": [
          5000
         ],
         "yaxis": "y"
        },
        {
         "alignmentgroup": "True",
         "hovertemplate": "<b>%{hovertext}</b><br><br>labour_type=%{x}<br>Income_dist=%{y}<extra></extra>",
         "hovertext": [
          70000
         ],
         "legendgroup": "TEACHER IN A SECONDARY SCHOOL",
         "marker": {
          "color": "#FF6692",
          "pattern": {
           "shape": ""
          }
         },
         "name": "TEACHER IN A SECONDARY SCHOOL",
         "offsetgroup": "TEACHER IN A SECONDARY SCHOOL",
         "orientation": "v",
         "showlegend": true,
         "textposition": "auto",
         "type": "bar",
         "x": [
          "TEACHER IN A SECONDARY SCHOOL"
         ],
         "xaxis": "x",
         "y": [
          70000
         ],
         "yaxis": "y"
        },
        {
         "alignmentgroup": "True",
         "hovertemplate": "<b>%{hovertext}</b><br><br>labour_type=%{x}<br>Income_dist=%{y}<extra></extra>",
         "hovertext": [
          30000
         ],
         "legendgroup": "FUEL STATION MACHINE OPERATOR",
         "marker": {
          "color": "#B6E880",
          "pattern": {
           "shape": ""
          }
         },
         "name": "FUEL STATION MACHINE OPERATOR",
         "offsetgroup": "FUEL STATION MACHINE OPERATOR",
         "orientation": "v",
         "showlegend": true,
         "textposition": "auto",
         "type": "bar",
         "x": [
          "FUEL STATION MACHINE OPERATOR"
         ],
         "xaxis": "x",
         "y": [
          30000
         ],
         "yaxis": "y"
        },
        {
         "alignmentgroup": "True",
         "hovertemplate": "<b>%{hovertext}</b><br><br>labour_type=%{x}<br>Income_dist=%{y}<extra></extra>",
         "hovertext": [
          250000
         ],
         "legendgroup": "COMMISSIONER POLICE OFFICERS & DETECTIVE",
         "marker": {
          "color": "#FF97FF",
          "pattern": {
           "shape": ""
          }
         },
         "name": "COMMISSIONER POLICE OFFICERS & DETECTIVE",
         "offsetgroup": "COMMISSIONER POLICE OFFICERS & DETECTIVE",
         "orientation": "v",
         "showlegend": true,
         "textposition": "auto",
         "type": "bar",
         "x": [
          "COMMISSIONER POLICE OFFICERS & DETECTIVE"
         ],
         "xaxis": "x",
         "y": [
          250000
         ],
         "yaxis": "y"
        },
        {
         "alignmentgroup": "True",
         "hovertemplate": "<b>%{hovertext}</b><br><br>labour_type=%{x}<br>Income_dist=%{y}<extra></extra>",
         "hovertext": [
          150000
         ],
         "legendgroup": "CIVIL ENGINEERING",
         "marker": {
          "color": "#FECB52",
          "pattern": {
           "shape": ""
          }
         },
         "name": "CIVIL ENGINEERING",
         "offsetgroup": "CIVIL ENGINEERING",
         "orientation": "v",
         "showlegend": true,
         "textposition": "auto",
         "type": "bar",
         "x": [
          "CIVIL ENGINEERING"
         ],
         "xaxis": "x",
         "y": [
          150000
         ],
         "yaxis": "y"
        },
        {
         "alignmentgroup": "True",
         "hovertemplate": "<b>%{hovertext}</b><br><br>labour_type=%{x}<br>Income_dist=%{y}<extra></extra>",
         "hovertext": [
          100000
         ],
         "legendgroup": "POLICE OFFICERS",
         "marker": {
          "color": "#636efa",
          "pattern": {
           "shape": ""
          }
         },
         "name": "POLICE OFFICERS",
         "offsetgroup": "POLICE OFFICERS",
         "orientation": "v",
         "showlegend": true,
         "textposition": "auto",
         "type": "bar",
         "x": [
          "POLICE OFFICERS"
         ],
         "xaxis": "x",
         "y": [
          100000
         ],
         "yaxis": "y"
        },
        {
         "alignmentgroup": "True",
         "hovertemplate": "<b>%{hovertext}</b><br><br>labour_type=%{x}<br>Income_dist=%{y}<extra></extra>",
         "hovertext": [
          60000
         ],
         "legendgroup": "TAX COLLECTOR",
         "marker": {
          "color": "#EF553B",
          "pattern": {
           "shape": ""
          }
         },
         "name": "TAX COLLECTOR",
         "offsetgroup": "TAX COLLECTOR",
         "orientation": "v",
         "showlegend": true,
         "textposition": "auto",
         "type": "bar",
         "x": [
          "TAX COLLECTOR"
         ],
         "xaxis": "x",
         "y": [
          60000
         ],
         "yaxis": "y"
        },
        {
         "alignmentgroup": "True",
         "hovertemplate": "<b>%{hovertext}</b><br><br>labour_type=%{x}<br>Income_dist=%{y}<extra></extra>",
         "hovertext": [
          60000
         ],
         "legendgroup": "PLUMBER",
         "marker": {
          "color": "#00cc96",
          "pattern": {
           "shape": ""
          }
         },
         "name": "PLUMBER",
         "offsetgroup": "PLUMBER",
         "orientation": "v",
         "showlegend": true,
         "textposition": "auto",
         "type": "bar",
         "x": [
          "PLUMBER"
         ],
         "xaxis": "x",
         "y": [
          60000
         ],
         "yaxis": "y"
        },
        {
         "alignmentgroup": "True",
         "hovertemplate": "<b>%{hovertext}</b><br><br>labour_type=%{x}<br>Income_dist=%{y}<extra></extra>",
         "hovertext": [
          5000
         ],
         "legendgroup": "BUILDING FACILITY SUPERVISOR",
         "marker": {
          "color": "#ab63fa",
          "pattern": {
           "shape": ""
          }
         },
         "name": "BUILDING FACILITY SUPERVISOR",
         "offsetgroup": "BUILDING FACILITY SUPERVISOR",
         "orientation": "v",
         "showlegend": true,
         "textposition": "auto",
         "type": "bar",
         "x": [
          "BUILDING FACILITY SUPERVISOR"
         ],
         "xaxis": "x",
         "y": [
          5000
         ],
         "yaxis": "y"
        },
        {
         "alignmentgroup": "True",
         "hovertemplate": "<b>%{hovertext}</b><br><br>labour_type=%{x}<br>Income_dist=%{y}<extra></extra>",
         "hovertext": [
          40000
         ],
         "legendgroup": "ENTERTAINMENT BUSINESS",
         "marker": {
          "color": "#FFA15A",
          "pattern": {
           "shape": ""
          }
         },
         "name": "ENTERTAINMENT BUSINESS",
         "offsetgroup": "ENTERTAINMENT BUSINESS",
         "orientation": "v",
         "showlegend": true,
         "textposition": "auto",
         "type": "bar",
         "x": [
          "ENTERTAINMENT BUSINESS"
         ],
         "xaxis": "x",
         "y": [
          40000
         ],
         "yaxis": "y"
        },
        {
         "alignmentgroup": "True",
         "hovertemplate": "<b>%{hovertext}</b><br><br>labour_type=%{x}<br>Income_dist=%{y}<extra></extra>",
         "hovertext": [
          150000
         ],
         "legendgroup": "AST SUPRETENDENT OF POLICE  ASP",
         "marker": {
          "color": "#19d3f3",
          "pattern": {
           "shape": ""
          }
         },
         "name": "AST SUPRETENDENT OF POLICE  ASP",
         "offsetgroup": "AST SUPRETENDENT OF POLICE  ASP",
         "orientation": "v",
         "showlegend": true,
         "textposition": "auto",
         "type": "bar",
         "x": [
          "AST SUPRETENDENT OF POLICE  ASP"
         ],
         "xaxis": "x",
         "y": [
          150000
         ],
         "yaxis": "y"
        },
        {
         "alignmentgroup": "True",
         "hovertemplate": "<b>%{hovertext}</b><br><br>labour_type=%{x}<br>Income_dist=%{y}<extra></extra>",
         "hovertext": [
          8000
         ],
         "legendgroup": "COMPUTER ASSISTANT",
         "marker": {
          "color": "#FF6692",
          "pattern": {
           "shape": ""
          }
         },
         "name": "COMPUTER ASSISTANT",
         "offsetgroup": "COMPUTER ASSISTANT",
         "orientation": "v",
         "showlegend": true,
         "textposition": "auto",
         "type": "bar",
         "x": [
          "COMPUTER ASSISTANT"
         ],
         "xaxis": "x",
         "y": [
          8000
         ],
         "yaxis": "y"
        },
        {
         "alignmentgroup": "True",
         "hovertemplate": "<b>%{hovertext}</b><br><br>labour_type=%{x}<br>Income_dist=%{y}<extra></extra>",
         "hovertext": [
          12000
         ],
         "legendgroup": "COLD ROOM ATTENDANT",
         "marker": {
          "color": "#B6E880",
          "pattern": {
           "shape": ""
          }
         },
         "name": "COLD ROOM ATTENDANT",
         "offsetgroup": "COLD ROOM ATTENDANT",
         "orientation": "v",
         "showlegend": true,
         "textposition": "auto",
         "type": "bar",
         "x": [
          "COLD ROOM ATTENDANT"
         ],
         "xaxis": "x",
         "y": [
          12000
         ],
         "yaxis": "y"
        },
        {
         "alignmentgroup": "True",
         "hovertemplate": "<b>%{hovertext}</b><br><br>labour_type=%{x}<br>Income_dist=%{y}<extra></extra>",
         "hovertext": [
          30000
         ],
         "legendgroup": "GARBAGE COLLECTORS",
         "marker": {
          "color": "#FF97FF",
          "pattern": {
           "shape": ""
          }
         },
         "name": "GARBAGE COLLECTORS",
         "offsetgroup": "GARBAGE COLLECTORS",
         "orientation": "v",
         "showlegend": true,
         "textposition": "auto",
         "type": "bar",
         "x": [
          "GARBAGE COLLECTORS"
         ],
         "xaxis": "x",
         "y": [
          30000
         ],
         "yaxis": "y"
        },
        {
         "alignmentgroup": "True",
         "hovertemplate": "<b>%{hovertext}</b><br><br>labour_type=%{x}<br>Income_dist=%{y}<extra></extra>",
         "hovertext": [
          30000
         ],
         "legendgroup": "BAKER",
         "marker": {
          "color": "#FECB52",
          "pattern": {
           "shape": ""
          }
         },
         "name": "BAKER",
         "offsetgroup": "BAKER",
         "orientation": "v",
         "showlegend": true,
         "textposition": "auto",
         "type": "bar",
         "x": [
          "BAKER"
         ],
         "xaxis": "x",
         "y": [
          30000
         ],
         "yaxis": "y"
        },
        {
         "alignmentgroup": "True",
         "hovertemplate": "<b>%{hovertext}</b><br><br>labour_type=%{x}<br>Income_dist=%{y}<extra></extra>",
         "hovertext": [
          65000
         ],
         "legendgroup": "TRANSPORT CLERKS",
         "marker": {
          "color": "#636efa",
          "pattern": {
           "shape": ""
          }
         },
         "name": "TRANSPORT CLERKS",
         "offsetgroup": "TRANSPORT CLERKS",
         "orientation": "v",
         "showlegend": true,
         "textposition": "auto",
         "type": "bar",
         "x": [
          "TRANSPORT CLERKS"
         ],
         "xaxis": "x",
         "y": [
          65000
         ],
         "yaxis": "y"
        },
        {
         "alignmentgroup": "True",
         "hovertemplate": "<b>%{hovertext}</b><br><br>labour_type=%{x}<br>Income_dist=%{y}<extra></extra>",
         "hovertext": [
          50000
         ],
         "legendgroup": "MAIDEN NURSE",
         "marker": {
          "color": "#EF553B",
          "pattern": {
           "shape": ""
          }
         },
         "name": "MAIDEN NURSE",
         "offsetgroup": "MAIDEN NURSE",
         "orientation": "v",
         "showlegend": true,
         "textposition": "auto",
         "type": "bar",
         "x": [
          "MAIDEN NURSE"
         ],
         "xaxis": "x",
         "y": [
          50000
         ],
         "yaxis": "y"
        },
        {
         "alignmentgroup": "True",
         "hovertemplate": "<b>%{hovertext}</b><br><br>labour_type=%{x}<br>Income_dist=%{y}<extra></extra>",
         "hovertext": [
          25000
         ],
         "legendgroup": "MESSENGERS/CLEANERS",
         "marker": {
          "color": "#00cc96",
          "pattern": {
           "shape": ""
          }
         },
         "name": "MESSENGERS/CLEANERS",
         "offsetgroup": "MESSENGERS/CLEANERS",
         "orientation": "v",
         "showlegend": true,
         "textposition": "auto",
         "type": "bar",
         "x": [
          "MESSENGERS/CLEANERS"
         ],
         "xaxis": "x",
         "y": [
          25000
         ],
         "yaxis": "y"
        },
        {
         "alignmentgroup": "True",
         "hovertemplate": "<b>%{hovertext}</b><br><br>labour_type=%{x}<br>Income_dist=%{y}<extra></extra>",
         "hovertext": [
          25000
         ],
         "legendgroup": "CLEANER IN OFFICES",
         "marker": {
          "color": "#ab63fa",
          "pattern": {
           "shape": ""
          }
         },
         "name": "CLEANER IN OFFICES",
         "offsetgroup": "CLEANER IN OFFICES",
         "orientation": "v",
         "showlegend": true,
         "textposition": "auto",
         "type": "bar",
         "x": [
          "CLEANER IN OFFICES"
         ],
         "xaxis": "x",
         "y": [
          25000
         ],
         "yaxis": "y"
        },
        {
         "alignmentgroup": "True",
         "hovertemplate": "<b>%{hovertext}</b><br><br>labour_type=%{x}<br>Income_dist=%{y}<extra></extra>",
         "hovertext": [
          105000
         ],
         "legendgroup": "BOAT DRIVER",
         "marker": {
          "color": "#FFA15A",
          "pattern": {
           "shape": ""
          }
         },
         "name": "BOAT DRIVER",
         "offsetgroup": "BOAT DRIVER",
         "orientation": "v",
         "showlegend": true,
         "textposition": "auto",
         "type": "bar",
         "x": [
          "BOAT DRIVER"
         ],
         "xaxis": "x",
         "y": [
          105000
         ],
         "yaxis": "y"
        },
        {
         "alignmentgroup": "True",
         "hovertemplate": "<b>%{hovertext}</b><br><br>labour_type=%{x}<br>Income_dist=%{y}<extra></extra>",
         "hovertext": [
          75000
         ],
         "legendgroup": "DISTRIBUTION SUPERVISOR",
         "marker": {
          "color": "#19d3f3",
          "pattern": {
           "shape": ""
          }
         },
         "name": "DISTRIBUTION SUPERVISOR",
         "offsetgroup": "DISTRIBUTION SUPERVISOR",
         "orientation": "v",
         "showlegend": true,
         "textposition": "auto",
         "type": "bar",
         "x": [
          "DISTRIBUTION SUPERVISOR"
         ],
         "xaxis": "x",
         "y": [
          75000
         ],
         "yaxis": "y"
        },
        {
         "alignmentgroup": "True",
         "hovertemplate": "<b>%{hovertext}</b><br><br>labour_type=%{x}<br>Income_dist=%{y}<extra></extra>",
         "hovertext": [
          150000
         ],
         "legendgroup": "VOCATIONAL TECHNICAL INSTRUCTOR",
         "marker": {
          "color": "#FF6692",
          "pattern": {
           "shape": ""
          }
         },
         "name": "VOCATIONAL TECHNICAL INSTRUCTOR",
         "offsetgroup": "VOCATIONAL TECHNICAL INSTRUCTOR",
         "orientation": "v",
         "showlegend": true,
         "textposition": "auto",
         "type": "bar",
         "x": [
          "VOCATIONAL TECHNICAL INSTRUCTOR"
         ],
         "xaxis": "x",
         "y": [
          150000
         ],
         "yaxis": "y"
        },
        {
         "alignmentgroup": "True",
         "hovertemplate": "<b>%{hovertext}</b><br><br>labour_type=%{x}<br>Income_dist=%{y}<extra></extra>",
         "hovertext": [
          65000
         ],
         "legendgroup": "ADMINISTRATIVE CLERICS",
         "marker": {
          "color": "#B6E880",
          "pattern": {
           "shape": ""
          }
         },
         "name": "ADMINISTRATIVE CLERICS",
         "offsetgroup": "ADMINISTRATIVE CLERICS",
         "orientation": "v",
         "showlegend": true,
         "textposition": "auto",
         "type": "bar",
         "x": [
          "ADMINISTRATIVE CLERICS"
         ],
         "xaxis": "x",
         "y": [
          65000
         ],
         "yaxis": "y"
        },
        {
         "alignmentgroup": "True",
         "hovertemplate": "<b>%{hovertext}</b><br><br>labour_type=%{x}<br>Income_dist=%{y}<extra></extra>",
         "hovertext": [
          120000
         ],
         "legendgroup": "NURSE FED MIN OF HEALTH",
         "marker": {
          "color": "#FF97FF",
          "pattern": {
           "shape": ""
          }
         },
         "name": "NURSE FED MIN OF HEALTH",
         "offsetgroup": "NURSE FED MIN OF HEALTH",
         "orientation": "v",
         "showlegend": true,
         "textposition": "auto",
         "type": "bar",
         "x": [
          "NURSE FED MIN OF HEALTH"
         ],
         "xaxis": "x",
         "y": [
          120000
         ],
         "yaxis": "y"
        },
        {
         "alignmentgroup": "True",
         "hovertemplate": "<b>%{hovertext}</b><br><br>labour_type=%{x}<br>Income_dist=%{y}<extra></extra>",
         "hovertext": [
          120000
         ],
         "legendgroup": "ADMINISTRATION STAFF",
         "marker": {
          "color": "#FECB52",
          "pattern": {
           "shape": ""
          }
         },
         "name": "ADMINISTRATION STAFF",
         "offsetgroup": "ADMINISTRATION STAFF",
         "orientation": "v",
         "showlegend": true,
         "textposition": "auto",
         "type": "bar",
         "x": [
          "ADMINISTRATION STAFF"
         ],
         "xaxis": "x",
         "y": [
          120000
         ],
         "yaxis": "y"
        },
        {
         "alignmentgroup": "True",
         "hovertemplate": "<b>%{hovertext}</b><br><br>labour_type=%{x}<br>Income_dist=%{y}<extra></extra>",
         "hovertext": [
          85000
         ],
         "legendgroup": "NURSERY",
         "marker": {
          "color": "#636efa",
          "pattern": {
           "shape": ""
          }
         },
         "name": "NURSERY",
         "offsetgroup": "NURSERY",
         "orientation": "v",
         "showlegend": true,
         "textposition": "auto",
         "type": "bar",
         "x": [
          "NURSERY"
         ],
         "xaxis": "x",
         "y": [
          85000
         ],
         "yaxis": "y"
        },
        {
         "alignmentgroup": "True",
         "hovertemplate": "<b>%{hovertext}</b><br><br>labour_type=%{x}<br>Income_dist=%{y}<extra></extra>",
         "hovertext": [
          30000
         ],
         "legendgroup": "PUBLIC DRIVER",
         "marker": {
          "color": "#EF553B",
          "pattern": {
           "shape": ""
          }
         },
         "name": "PUBLIC DRIVER",
         "offsetgroup": "PUBLIC DRIVER",
         "orientation": "v",
         "showlegend": true,
         "textposition": "auto",
         "type": "bar",
         "x": [
          "PUBLIC DRIVER"
         ],
         "xaxis": "x",
         "y": [
          30000
         ],
         "yaxis": "y"
        },
        {
         "alignmentgroup": "True",
         "hovertemplate": "<b>%{hovertext}</b><br><br>labour_type=%{x}<br>Income_dist=%{y}<extra></extra>",
         "hovertext": [
          52000
         ],
         "legendgroup": "TEACHER(JUNIOR PRIMARY SCHOOL)",
         "marker": {
          "color": "#00cc96",
          "pattern": {
           "shape": ""
          }
         },
         "name": "TEACHER(JUNIOR PRIMARY SCHOOL)",
         "offsetgroup": "TEACHER(JUNIOR PRIMARY SCHOOL)",
         "orientation": "v",
         "showlegend": true,
         "textposition": "auto",
         "type": "bar",
         "x": [
          "TEACHER(JUNIOR PRIMARY SCHOOL)"
         ],
         "xaxis": "x",
         "y": [
          52000
         ],
         "yaxis": "y"
        },
        {
         "alignmentgroup": "True",
         "hovertemplate": "<b>%{hovertext}</b><br><br>labour_type=%{x}<br>Income_dist=%{y}<extra></extra>",
         "hovertext": [
          3000
         ],
         "legendgroup": "SALES OF AKARA",
         "marker": {
          "color": "#ab63fa",
          "pattern": {
           "shape": ""
          }
         },
         "name": "SALES OF AKARA",
         "offsetgroup": "SALES OF AKARA",
         "orientation": "v",
         "showlegend": true,
         "textposition": "auto",
         "type": "bar",
         "x": [
          "SALES OF AKARA"
         ],
         "xaxis": "x",
         "y": [
          3000
         ],
         "yaxis": "y"
        },
        {
         "alignmentgroup": "True",
         "hovertemplate": "<b>%{hovertext}</b><br><br>labour_type=%{x}<br>Income_dist=%{y}<extra></extra>",
         "hovertext": [
          200000
         ],
         "legendgroup": "POLITICIAN",
         "marker": {
          "color": "#FFA15A",
          "pattern": {
           "shape": ""
          }
         },
         "name": "POLITICIAN",
         "offsetgroup": "POLITICIAN",
         "orientation": "v",
         "showlegend": true,
         "textposition": "auto",
         "type": "bar",
         "x": [
          "POLITICIAN"
         ],
         "xaxis": "x",
         "y": [
          200000
         ],
         "yaxis": "y"
        },
        {
         "alignmentgroup": "True",
         "hovertemplate": "<b>%{hovertext}</b><br><br>labour_type=%{x}<br>Income_dist=%{y}<extra></extra>",
         "hovertext": [
          68000
         ],
         "legendgroup": "CRANE OPERATOR",
         "marker": {
          "color": "#19d3f3",
          "pattern": {
           "shape": ""
          }
         },
         "name": "CRANE OPERATOR",
         "offsetgroup": "CRANE OPERATOR",
         "orientation": "v",
         "showlegend": true,
         "textposition": "auto",
         "type": "bar",
         "x": [
          "CRANE OPERATOR"
         ],
         "xaxis": "x",
         "y": [
          68000
         ],
         "yaxis": "y"
        },
        {
         "alignmentgroup": "True",
         "hovertemplate": "<b>%{hovertext}</b><br><br>labour_type=%{x}<br>Income_dist=%{y}<extra></extra>",
         "hovertext": [
          75000
         ],
         "legendgroup": "WOOD OPERATOR MACHINE",
         "marker": {
          "color": "#FF6692",
          "pattern": {
           "shape": ""
          }
         },
         "name": "WOOD OPERATOR MACHINE",
         "offsetgroup": "WOOD OPERATOR MACHINE",
         "orientation": "v",
         "showlegend": true,
         "textposition": "auto",
         "type": "bar",
         "x": [
          "WOOD OPERATOR MACHINE"
         ],
         "xaxis": "x",
         "y": [
          75000
         ],
         "yaxis": "y"
        },
        {
         "alignmentgroup": "True",
         "hovertemplate": "<b>%{hovertext}</b><br><br>labour_type=%{x}<br>Income_dist=%{y}<extra></extra>",
         "hovertext": [
          150000
         ],
         "legendgroup": "HEAVY TRUCK DRIVERS",
         "marker": {
          "color": "#B6E880",
          "pattern": {
           "shape": ""
          }
         },
         "name": "HEAVY TRUCK DRIVERS",
         "offsetgroup": "HEAVY TRUCK DRIVERS",
         "orientation": "v",
         "showlegend": true,
         "textposition": "auto",
         "type": "bar",
         "x": [
          "HEAVY TRUCK DRIVERS"
         ],
         "xaxis": "x",
         "y": [
          150000
         ],
         "yaxis": "y"
        },
        {
         "alignmentgroup": "True",
         "hovertemplate": "<b>%{hovertext}</b><br><br>labour_type=%{x}<br>Income_dist=%{y}<extra></extra>",
         "hovertext": [
          65000
         ],
         "legendgroup": "TEACHER PROFESSIONALS",
         "marker": {
          "color": "#FF97FF",
          "pattern": {
           "shape": ""
          }
         },
         "name": "TEACHER PROFESSIONALS",
         "offsetgroup": "TEACHER PROFESSIONALS",
         "orientation": "v",
         "showlegend": true,
         "textposition": "auto",
         "type": "bar",
         "x": [
          "TEACHER PROFESSIONALS"
         ],
         "xaxis": "x",
         "y": [
          65000
         ],
         "yaxis": "y"
        },
        {
         "alignmentgroup": "True",
         "hovertemplate": "<b>%{hovertext}</b><br><br>labour_type=%{x}<br>Income_dist=%{y}<extra></extra>",
         "hovertext": [
          30000
         ],
         "legendgroup": "CHURCH MINISTER",
         "marker": {
          "color": "#FECB52",
          "pattern": {
           "shape": ""
          }
         },
         "name": "CHURCH MINISTER",
         "offsetgroup": "CHURCH MINISTER",
         "orientation": "v",
         "showlegend": true,
         "textposition": "auto",
         "type": "bar",
         "x": [
          "CHURCH MINISTER"
         ],
         "xaxis": "x",
         "y": [
          30000
         ],
         "yaxis": "y"
        },
        {
         "alignmentgroup": "True",
         "hovertemplate": "<b>%{hovertext}</b><br><br>labour_type=%{x}<br>Income_dist=%{y}<extra></extra>",
         "hovertext": [
          3000
         ],
         "legendgroup": "MOTOR VEHICLE MECHANIC & FITTERS",
         "marker": {
          "color": "#636efa",
          "pattern": {
           "shape": ""
          }
         },
         "name": "MOTOR VEHICLE MECHANIC & FITTERS",
         "offsetgroup": "MOTOR VEHICLE MECHANIC & FITTERS",
         "orientation": "v",
         "showlegend": true,
         "textposition": "auto",
         "type": "bar",
         "x": [
          "MOTOR VEHICLE MECHANIC & FITTERS"
         ],
         "xaxis": "x",
         "y": [
          3000
         ],
         "yaxis": "y"
        },
        {
         "alignmentgroup": "True",
         "hovertemplate": "<b>%{hovertext}</b><br><br>labour_type=%{x}<br>Income_dist=%{y}<extra></extra>",
         "hovertext": [
          120000
         ],
         "legendgroup": "DRIVER IN NDDC",
         "marker": {
          "color": "#EF553B",
          "pattern": {
           "shape": ""
          }
         },
         "name": "DRIVER IN NDDC",
         "offsetgroup": "DRIVER IN NDDC",
         "orientation": "v",
         "showlegend": true,
         "textposition": "auto",
         "type": "bar",
         "x": [
          "DRIVER IN NDDC"
         ],
         "xaxis": "x",
         "y": [
          120000
         ],
         "yaxis": "y"
        },
        {
         "alignmentgroup": "True",
         "hovertemplate": "<b>%{hovertext}</b><br><br>labour_type=%{x}<br>Income_dist=%{y}<extra></extra>",
         "hovertext": [
          150000
         ],
         "legendgroup": "LAWYWER IN A FIRM",
         "marker": {
          "color": "#00cc96",
          "pattern": {
           "shape": ""
          }
         },
         "name": "LAWYWER IN A FIRM",
         "offsetgroup": "LAWYWER IN A FIRM",
         "orientation": "v",
         "showlegend": true,
         "textposition": "auto",
         "type": "bar",
         "x": [
          "LAWYWER IN A FIRM"
         ],
         "xaxis": "x",
         "y": [
          150000
         ],
         "yaxis": "y"
        },
        {
         "alignmentgroup": "True",
         "hovertemplate": "<b>%{hovertext}</b><br><br>labour_type=%{x}<br>Income_dist=%{y}<extra></extra>",
         "hovertext": [
          20000
         ],
         "legendgroup": "MANUFACTURING LABOUR",
         "marker": {
          "color": "#ab63fa",
          "pattern": {
           "shape": ""
          }
         },
         "name": "MANUFACTURING LABOUR",
         "offsetgroup": "MANUFACTURING LABOUR",
         "orientation": "v",
         "showlegend": true,
         "textposition": "auto",
         "type": "bar",
         "x": [
          "MANUFACTURING LABOUR"
         ],
         "xaxis": "x",
         "y": [
          20000
         ],
         "yaxis": "y"
        },
        {
         "alignmentgroup": "True",
         "hovertemplate": "<b>%{hovertext}</b><br><br>labour_type=%{x}<br>Income_dist=%{y}<extra></extra>",
         "hovertext": [
          35000
         ],
         "legendgroup": "PAINTERS AND PAPERHANGERS",
         "marker": {
          "color": "#FFA15A",
          "pattern": {
           "shape": ""
          }
         },
         "name": "PAINTERS AND PAPERHANGERS",
         "offsetgroup": "PAINTERS AND PAPERHANGERS",
         "orientation": "v",
         "showlegend": true,
         "textposition": "auto",
         "type": "bar",
         "x": [
          "PAINTERS AND PAPERHANGERS"
         ],
         "xaxis": "x",
         "y": [
          35000
         ],
         "yaxis": "y"
        },
        {
         "alignmentgroup": "True",
         "hovertemplate": "<b>%{hovertext}</b><br><br>labour_type=%{x}<br>Income_dist=%{y}<extra></extra>",
         "hovertext": [
          100000
         ],
         "legendgroup": "SUPERVISOR",
         "marker": {
          "color": "#19d3f3",
          "pattern": {
           "shape": ""
          }
         },
         "name": "SUPERVISOR",
         "offsetgroup": "SUPERVISOR",
         "orientation": "v",
         "showlegend": true,
         "textposition": "auto",
         "type": "bar",
         "x": [
          "SUPERVISOR"
         ],
         "xaxis": "x",
         "y": [
          100000
         ],
         "yaxis": "y"
        },
        {
         "alignmentgroup": "True",
         "hovertemplate": "<b>%{hovertext}</b><br><br>labour_type=%{x}<br>Income_dist=%{y}<extra></extra>",
         "hovertext": [
          30000,
          25000
         ],
         "legendgroup": "MOTOR DRIVER",
         "marker": {
          "color": "#FF6692",
          "pattern": {
           "shape": ""
          }
         },
         "name": "MOTOR DRIVER",
         "offsetgroup": "MOTOR DRIVER",
         "orientation": "v",
         "showlegend": true,
         "textposition": "auto",
         "type": "bar",
         "x": [
          "MOTOR DRIVER",
          "MOTOR DRIVER"
         ],
         "xaxis": "x",
         "y": [
          30000,
          25000
         ],
         "yaxis": "y"
        },
        {
         "alignmentgroup": "True",
         "hovertemplate": "<b>%{hovertext}</b><br><br>labour_type=%{x}<br>Income_dist=%{y}<extra></extra>",
         "hovertext": [
          780000
         ],
         "legendgroup": "ENGINEER",
         "marker": {
          "color": "#B6E880",
          "pattern": {
           "shape": ""
          }
         },
         "name": "ENGINEER",
         "offsetgroup": "ENGINEER",
         "orientation": "v",
         "showlegend": true,
         "textposition": "auto",
         "type": "bar",
         "x": [
          "ENGINEER"
         ],
         "xaxis": "x",
         "y": [
          780000
         ],
         "yaxis": "y"
        },
        {
         "alignmentgroup": "True",
         "hovertemplate": "<b>%{hovertext}</b><br><br>labour_type=%{x}<br>Income_dist=%{y}<extra></extra>",
         "hovertext": [
          180000
         ],
         "legendgroup": "NURSING PROFESSIONALS",
         "marker": {
          "color": "#FF97FF",
          "pattern": {
           "shape": ""
          }
         },
         "name": "NURSING PROFESSIONALS",
         "offsetgroup": "NURSING PROFESSIONALS",
         "orientation": "v",
         "showlegend": true,
         "textposition": "auto",
         "type": "bar",
         "x": [
          "NURSING PROFESSIONALS"
         ],
         "xaxis": "x",
         "y": [
          180000
         ],
         "yaxis": "y"
        },
        {
         "alignmentgroup": "True",
         "hovertemplate": "<b>%{hovertext}</b><br><br>labour_type=%{x}<br>Income_dist=%{y}<extra></extra>",
         "hovertext": [
          55000
         ],
         "legendgroup": "CLEANERS",
         "marker": {
          "color": "#FECB52",
          "pattern": {
           "shape": ""
          }
         },
         "name": "CLEANERS",
         "offsetgroup": "CLEANERS",
         "orientation": "v",
         "showlegend": true,
         "textposition": "auto",
         "type": "bar",
         "x": [
          "CLEANERS"
         ],
         "xaxis": "x",
         "y": [
          55000
         ],
         "yaxis": "y"
        },
        {
         "alignmentgroup": "True",
         "hovertemplate": "<b>%{hovertext}</b><br><br>labour_type=%{x}<br>Income_dist=%{y}<extra></extra>",
         "hovertext": [
          42000
         ],
         "legendgroup": "TYPIST",
         "marker": {
          "color": "#636efa",
          "pattern": {
           "shape": ""
          }
         },
         "name": "TYPIST",
         "offsetgroup": "TYPIST",
         "orientation": "v",
         "showlegend": true,
         "textposition": "auto",
         "type": "bar",
         "x": [
          "TYPIST"
         ],
         "xaxis": "x",
         "y": [
          42000
         ],
         "yaxis": "y"
        },
        {
         "alignmentgroup": "True",
         "hovertemplate": "<b>%{hovertext}</b><br><br>labour_type=%{x}<br>Income_dist=%{y}<extra></extra>",
         "hovertext": [
          7500
         ],
         "legendgroup": "HEAD OF LABOURERS",
         "marker": {
          "color": "#EF553B",
          "pattern": {
           "shape": ""
          }
         },
         "name": "HEAD OF LABOURERS",
         "offsetgroup": "HEAD OF LABOURERS",
         "orientation": "v",
         "showlegend": true,
         "textposition": "auto",
         "type": "bar",
         "x": [
          "HEAD OF LABOURERS"
         ],
         "xaxis": "x",
         "y": [
          7500
         ],
         "yaxis": "y"
        },
        {
         "alignmentgroup": "True",
         "hovertemplate": "<b>%{hovertext}</b><br><br>labour_type=%{x}<br>Income_dist=%{y}<extra></extra>",
         "hovertext": [
          150000
         ],
         "legendgroup": "COOKS (CATHERER)",
         "marker": {
          "color": "#00cc96",
          "pattern": {
           "shape": ""
          }
         },
         "name": "COOKS (CATHERER)",
         "offsetgroup": "COOKS (CATHERER)",
         "orientation": "v",
         "showlegend": true,
         "textposition": "auto",
         "type": "bar",
         "x": [
          "COOKS (CATHERER)"
         ],
         "xaxis": "x",
         "y": [
          150000
         ],
         "yaxis": "y"
        },
        {
         "alignmentgroup": "True",
         "hovertemplate": "<b>%{hovertext}</b><br><br>labour_type=%{x}<br>Income_dist=%{y}<extra></extra>",
         "hovertext": [
          105000
         ],
         "legendgroup": "PALACE SECRETARY",
         "marker": {
          "color": "#ab63fa",
          "pattern": {
           "shape": ""
          }
         },
         "name": "PALACE SECRETARY",
         "offsetgroup": "PALACE SECRETARY",
         "orientation": "v",
         "showlegend": true,
         "textposition": "auto",
         "type": "bar",
         "x": [
          "PALACE SECRETARY"
         ],
         "xaxis": "x",
         "y": [
          105000
         ],
         "yaxis": "y"
        },
        {
         "alignmentgroup": "True",
         "hovertemplate": "<b>%{hovertext}</b><br><br>labour_type=%{x}<br>Income_dist=%{y}<extra></extra>",
         "hovertext": [
          25000
         ],
         "legendgroup": "SECURITY GLOBAL SERVICE COMPANY",
         "marker": {
          "color": "#FFA15A",
          "pattern": {
           "shape": ""
          }
         },
         "name": "SECURITY GLOBAL SERVICE COMPANY",
         "offsetgroup": "SECURITY GLOBAL SERVICE COMPANY",
         "orientation": "v",
         "showlegend": true,
         "textposition": "auto",
         "type": "bar",
         "x": [
          "SECURITY GLOBAL SERVICE COMPANY"
         ],
         "xaxis": "x",
         "y": [
          25000
         ],
         "yaxis": "y"
        },
        {
         "alignmentgroup": "True",
         "hovertemplate": "<b>%{hovertext}</b><br><br>labour_type=%{x}<br>Income_dist=%{y}<extra></extra>",
         "hovertext": [
          1000
         ],
         "legendgroup": "LABOURER BUILDING CONSTRUCTION",
         "marker": {
          "color": "#19d3f3",
          "pattern": {
           "shape": ""
          }
         },
         "name": "LABOURER BUILDING CONSTRUCTION",
         "offsetgroup": "LABOURER BUILDING CONSTRUCTION",
         "orientation": "v",
         "showlegend": true,
         "textposition": "auto",
         "type": "bar",
         "x": [
          "LABOURER BUILDING CONSTRUCTION"
         ],
         "xaxis": "x",
         "y": [
          1000
         ],
         "yaxis": "y"
        },
        {
         "alignmentgroup": "True",
         "hovertemplate": "<b>%{hovertext}</b><br><br>labour_type=%{x}<br>Income_dist=%{y}<extra></extra>",
         "hovertext": [
          330000
         ],
         "legendgroup": "DIRECTOR ADMIN",
         "marker": {
          "color": "#FF6692",
          "pattern": {
           "shape": ""
          }
         },
         "name": "DIRECTOR ADMIN",
         "offsetgroup": "DIRECTOR ADMIN",
         "orientation": "v",
         "showlegend": true,
         "textposition": "auto",
         "type": "bar",
         "x": [
          "DIRECTOR ADMIN"
         ],
         "xaxis": "x",
         "y": [
          330000
         ],
         "yaxis": "y"
        },
        {
         "alignmentgroup": "True",
         "hovertemplate": "<b>%{hovertext}</b><br><br>labour_type=%{x}<br>Income_dist=%{y}<extra></extra>",
         "hovertext": [
          75000
         ],
         "legendgroup": "SCONDARY SCHOOL TEACHER",
         "marker": {
          "color": "#B6E880",
          "pattern": {
           "shape": ""
          }
         },
         "name": "SCONDARY SCHOOL TEACHER",
         "offsetgroup": "SCONDARY SCHOOL TEACHER",
         "orientation": "v",
         "showlegend": true,
         "textposition": "auto",
         "type": "bar",
         "x": [
          "SCONDARY SCHOOL TEACHER"
         ],
         "xaxis": "x",
         "y": [
          75000
         ],
         "yaxis": "y"
        },
        {
         "alignmentgroup": "True",
         "hovertemplate": "<b>%{hovertext}</b><br><br>labour_type=%{x}<br>Income_dist=%{y}<extra></extra>",
         "hovertext": [
          56000
         ],
         "legendgroup": "CIVIL SERVANT ACCOUNTANT",
         "marker": {
          "color": "#FF97FF",
          "pattern": {
           "shape": ""
          }
         },
         "name": "CIVIL SERVANT ACCOUNTANT",
         "offsetgroup": "CIVIL SERVANT ACCOUNTANT",
         "orientation": "v",
         "showlegend": true,
         "textposition": "auto",
         "type": "bar",
         "x": [
          "CIVIL SERVANT ACCOUNTANT"
         ],
         "xaxis": "x",
         "y": [
          56000
         ],
         "yaxis": "y"
        },
        {
         "alignmentgroup": "True",
         "hovertemplate": "<b>%{hovertext}</b><br><br>labour_type=%{x}<br>Income_dist=%{y}<extra></extra>",
         "hovertext": [
          126000
         ],
         "legendgroup": "TEACHING (PRINCIPAL SECONDARY SCHOOL)",
         "marker": {
          "color": "#FECB52",
          "pattern": {
           "shape": ""
          }
         },
         "name": "TEACHING (PRINCIPAL SECONDARY SCHOOL)",
         "offsetgroup": "TEACHING (PRINCIPAL SECONDARY SCHOOL)",
         "orientation": "v",
         "showlegend": true,
         "textposition": "auto",
         "type": "bar",
         "x": [
          "TEACHING (PRINCIPAL SECONDARY SCHOOL)"
         ],
         "xaxis": "x",
         "y": [
          126000
         ],
         "yaxis": "y"
        },
        {
         "alignmentgroup": "True",
         "hovertemplate": "<b>%{hovertext}</b><br><br>labour_type=%{x}<br>Income_dist=%{y}<extra></extra>",
         "hovertext": [
          60000
         ],
         "legendgroup": "DRIVING (HEAVY TRUCK DRIVER)",
         "marker": {
          "color": "#636efa",
          "pattern": {
           "shape": ""
          }
         },
         "name": "DRIVING (HEAVY TRUCK DRIVER)",
         "offsetgroup": "DRIVING (HEAVY TRUCK DRIVER)",
         "orientation": "v",
         "showlegend": true,
         "textposition": "auto",
         "type": "bar",
         "x": [
          "DRIVING (HEAVY TRUCK DRIVER)"
         ],
         "xaxis": "x",
         "y": [
          60000
         ],
         "yaxis": "y"
        },
        {
         "alignmentgroup": "True",
         "hovertemplate": "<b>%{hovertext}</b><br><br>labour_type=%{x}<br>Income_dist=%{y}<extra></extra>",
         "hovertext": [
          18000
         ],
         "legendgroup": "CLEANER IN MINISTRY OF AGRICULTURE",
         "marker": {
          "color": "#EF553B",
          "pattern": {
           "shape": ""
          }
         },
         "name": "CLEANER IN MINISTRY OF AGRICULTURE",
         "offsetgroup": "CLEANER IN MINISTRY OF AGRICULTURE",
         "orientation": "v",
         "showlegend": true,
         "textposition": "auto",
         "type": "bar",
         "x": [
          "CLEANER IN MINISTRY OF AGRICULTURE"
         ],
         "xaxis": "x",
         "y": [
          18000
         ],
         "yaxis": "y"
        },
        {
         "alignmentgroup": "True",
         "hovertemplate": "<b>%{hovertext}</b><br><br>labour_type=%{x}<br>Income_dist=%{y}<extra></extra>",
         "hovertext": [
          85000
         ],
         "legendgroup": "AUDITING (AUDITING DEPT)",
         "marker": {
          "color": "#00cc96",
          "pattern": {
           "shape": ""
          }
         },
         "name": "AUDITING (AUDITING DEPT)",
         "offsetgroup": "AUDITING (AUDITING DEPT)",
         "orientation": "v",
         "showlegend": true,
         "textposition": "auto",
         "type": "bar",
         "x": [
          "AUDITING (AUDITING DEPT)"
         ],
         "xaxis": "x",
         "y": [
          85000
         ],
         "yaxis": "y"
        },
        {
         "alignmentgroup": "True",
         "hovertemplate": "<b>%{hovertext}</b><br><br>labour_type=%{x}<br>Income_dist=%{y}<extra></extra>",
         "hovertext": [
          140000
         ],
         "legendgroup": "AUDITING AUDIT DEPARTMENT",
         "marker": {
          "color": "#ab63fa",
          "pattern": {
           "shape": ""
          }
         },
         "name": "AUDITING AUDIT DEPARTMENT",
         "offsetgroup": "AUDITING AUDIT DEPARTMENT",
         "orientation": "v",
         "showlegend": true,
         "textposition": "auto",
         "type": "bar",
         "x": [
          "AUDITING AUDIT DEPARTMENT"
         ],
         "xaxis": "x",
         "y": [
          140000
         ],
         "yaxis": "y"
        },
        {
         "alignmentgroup": "True",
         "hovertemplate": "<b>%{hovertext}</b><br><br>labour_type=%{x}<br>Income_dist=%{y}<extra></extra>",
         "hovertext": [
          40000
         ],
         "legendgroup": "TEACHER SECONDARY SCH.",
         "marker": {
          "color": "#FFA15A",
          "pattern": {
           "shape": ""
          }
         },
         "name": "TEACHER SECONDARY SCH.",
         "offsetgroup": "TEACHER SECONDARY SCH.",
         "orientation": "v",
         "showlegend": true,
         "textposition": "auto",
         "type": "bar",
         "x": [
          "TEACHER SECONDARY SCH."
         ],
         "xaxis": "x",
         "y": [
          40000
         ],
         "yaxis": "y"
        },
        {
         "alignmentgroup": "True",
         "hovertemplate": "<b>%{hovertext}</b><br><br>labour_type=%{x}<br>Income_dist=%{y}<extra></extra>",
         "hovertext": [
          86250
         ],
         "legendgroup": "EDUCATION OFFICER (CIVIL SERVANT)",
         "marker": {
          "color": "#19d3f3",
          "pattern": {
           "shape": ""
          }
         },
         "name": "EDUCATION OFFICER (CIVIL SERVANT)",
         "offsetgroup": "EDUCATION OFFICER (CIVIL SERVANT)",
         "orientation": "v",
         "showlegend": true,
         "textposition": "auto",
         "type": "bar",
         "x": [
          "EDUCATION OFFICER (CIVIL SERVANT)"
         ],
         "xaxis": "x",
         "y": [
          86250
         ],
         "yaxis": "y"
        },
        {
         "alignmentgroup": "True",
         "hovertemplate": "<b>%{hovertext}</b><br><br>labour_type=%{x}<br>Income_dist=%{y}<extra></extra>",
         "hovertext": [
          25000
         ],
         "legendgroup": "SECURITY SERVICES (GUARD MAN)",
         "marker": {
          "color": "#FF6692",
          "pattern": {
           "shape": ""
          }
         },
         "name": "SECURITY SERVICES (GUARD MAN)",
         "offsetgroup": "SECURITY SERVICES (GUARD MAN)",
         "orientation": "v",
         "showlegend": true,
         "textposition": "auto",
         "type": "bar",
         "x": [
          "SECURITY SERVICES (GUARD MAN)"
         ],
         "xaxis": "x",
         "y": [
          25000
         ],
         "yaxis": "y"
        },
        {
         "alignmentgroup": "True",
         "hovertemplate": "<b>%{hovertext}</b><br><br>labour_type=%{x}<br>Income_dist=%{y}<extra></extra>",
         "hovertext": [
          10000
         ],
         "legendgroup": "EVANGELIST",
         "marker": {
          "color": "#B6E880",
          "pattern": {
           "shape": ""
          }
         },
         "name": "EVANGELIST",
         "offsetgroup": "EVANGELIST",
         "orientation": "v",
         "showlegend": true,
         "textposition": "auto",
         "type": "bar",
         "x": [
          "EVANGELIST"
         ],
         "xaxis": "x",
         "y": [
          10000
         ],
         "yaxis": "y"
        },
        {
         "alignmentgroup": "True",
         "hovertemplate": "<b>%{hovertext}</b><br><br>labour_type=%{x}<br>Income_dist=%{y}<extra></extra>",
         "hovertext": [
          48000
         ],
         "legendgroup": "ADULT EDUCATION SUPERVISOR",
         "marker": {
          "color": "#FF97FF",
          "pattern": {
           "shape": ""
          }
         },
         "name": "ADULT EDUCATION SUPERVISOR",
         "offsetgroup": "ADULT EDUCATION SUPERVISOR",
         "orientation": "v",
         "showlegend": true,
         "textposition": "auto",
         "type": "bar",
         "x": [
          "ADULT EDUCATION SUPERVISOR"
         ],
         "xaxis": "x",
         "y": [
          48000
         ],
         "yaxis": "y"
        },
        {
         "alignmentgroup": "True",
         "hovertemplate": "<b>%{hovertext}</b><br><br>labour_type=%{x}<br>Income_dist=%{y}<extra></extra>",
         "hovertext": [
          75000
         ],
         "legendgroup": "DEPUTY DIRECTOR DEPT OF FISHERIES",
         "marker": {
          "color": "#FECB52",
          "pattern": {
           "shape": ""
          }
         },
         "name": "DEPUTY DIRECTOR DEPT OF FISHERIES",
         "offsetgroup": "DEPUTY DIRECTOR DEPT OF FISHERIES",
         "orientation": "v",
         "showlegend": true,
         "textposition": "auto",
         "type": "bar",
         "x": [
          "DEPUTY DIRECTOR DEPT OF FISHERIES"
         ],
         "xaxis": "x",
         "y": [
          75000
         ],
         "yaxis": "y"
        },
        {
         "alignmentgroup": "True",
         "hovertemplate": "<b>%{hovertext}</b><br><br>labour_type=%{x}<br>Income_dist=%{y}<extra></extra>",
         "hovertext": [
          72000
         ],
         "legendgroup": "MINISTRY OF AGRIC(INUCULATOR)",
         "marker": {
          "color": "#636efa",
          "pattern": {
           "shape": ""
          }
         },
         "name": "MINISTRY OF AGRIC(INUCULATOR)",
         "offsetgroup": "MINISTRY OF AGRIC(INUCULATOR)",
         "orientation": "v",
         "showlegend": true,
         "textposition": "auto",
         "type": "bar",
         "x": [
          "MINISTRY OF AGRIC(INUCULATOR)"
         ],
         "xaxis": "x",
         "y": [
          72000
         ],
         "yaxis": "y"
        },
        {
         "alignmentgroup": "True",
         "hovertemplate": "<b>%{hovertext}</b><br><br>labour_type=%{x}<br>Income_dist=%{y}<extra></extra>",
         "hovertext": [
          89000
         ],
         "legendgroup": "HEALTH PROFESSIONAL(NURSE)",
         "marker": {
          "color": "#EF553B",
          "pattern": {
           "shape": ""
          }
         },
         "name": "HEALTH PROFESSIONAL(NURSE)",
         "offsetgroup": "HEALTH PROFESSIONAL(NURSE)",
         "orientation": "v",
         "showlegend": true,
         "textposition": "auto",
         "type": "bar",
         "x": [
          "HEALTH PROFESSIONAL(NURSE)"
         ],
         "xaxis": "x",
         "y": [
          89000
         ],
         "yaxis": "y"
        },
        {
         "alignmentgroup": "True",
         "hovertemplate": "<b>%{hovertext}</b><br><br>labour_type=%{x}<br>Income_dist=%{y}<extra></extra>",
         "hovertext": [
          84000
         ],
         "legendgroup": "AUDITOR (ACCOUNTDEPT)",
         "marker": {
          "color": "#00cc96",
          "pattern": {
           "shape": ""
          }
         },
         "name": "AUDITOR (ACCOUNTDEPT)",
         "offsetgroup": "AUDITOR (ACCOUNTDEPT)",
         "orientation": "v",
         "showlegend": true,
         "textposition": "auto",
         "type": "bar",
         "x": [
          "AUDITOR (ACCOUNTDEPT)"
         ],
         "xaxis": "x",
         "y": [
          84000
         ],
         "yaxis": "y"
        },
        {
         "alignmentgroup": "True",
         "hovertemplate": "<b>%{hovertext}</b><br><br>labour_type=%{x}<br>Income_dist=%{y}<extra></extra>",
         "hovertext": [
          2017532
         ],
         "legendgroup": "HOSPITAL CLEANER/ATTENDANT",
         "marker": {
          "color": "#ab63fa",
          "pattern": {
           "shape": ""
          }
         },
         "name": "HOSPITAL CLEANER/ATTENDANT",
         "offsetgroup": "HOSPITAL CLEANER/ATTENDANT",
         "orientation": "v",
         "showlegend": true,
         "textposition": "auto",
         "type": "bar",
         "x": [
          "HOSPITAL CLEANER/ATTENDANT"
         ],
         "xaxis": "x",
         "y": [
          2017532
         ],
         "yaxis": "y"
        },
        {
         "alignmentgroup": "True",
         "hovertemplate": "<b>%{hovertext}</b><br><br>labour_type=%{x}<br>Income_dist=%{y}<extra></extra>",
         "hovertext": [
          63000
         ],
         "legendgroup": "CIVIL SERVANT(PERSONEL)",
         "marker": {
          "color": "#FFA15A",
          "pattern": {
           "shape": ""
          }
         },
         "name": "CIVIL SERVANT(PERSONEL)",
         "offsetgroup": "CIVIL SERVANT(PERSONEL)",
         "orientation": "v",
         "showlegend": true,
         "textposition": "auto",
         "type": "bar",
         "x": [
          "CIVIL SERVANT(PERSONEL)"
         ],
         "xaxis": "x",
         "y": [
          63000
         ],
         "yaxis": "y"
        },
        {
         "alignmentgroup": "True",
         "hovertemplate": "<b>%{hovertext}</b><br><br>labour_type=%{x}<br>Income_dist=%{y}<extra></extra>",
         "hovertext": [
          78420
         ],
         "legendgroup": "CLERICAL OFFICER ADMIN",
         "marker": {
          "color": "#19d3f3",
          "pattern": {
           "shape": ""
          }
         },
         "name": "CLERICAL OFFICER ADMIN",
         "offsetgroup": "CLERICAL OFFICER ADMIN",
         "orientation": "v",
         "showlegend": true,
         "textposition": "auto",
         "type": "bar",
         "x": [
          "CLERICAL OFFICER ADMIN"
         ],
         "xaxis": "x",
         "y": [
          78420
         ],
         "yaxis": "y"
        },
        {
         "alignmentgroup": "True",
         "hovertemplate": "<b>%{hovertext}</b><br><br>labour_type=%{x}<br>Income_dist=%{y}<extra></extra>",
         "hovertext": [
          350000
         ],
         "legendgroup": "LOCAL GOVT CHAIRMAN KARIM LGA",
         "marker": {
          "color": "#FF6692",
          "pattern": {
           "shape": ""
          }
         },
         "name": "LOCAL GOVT CHAIRMAN KARIM LGA",
         "offsetgroup": "LOCAL GOVT CHAIRMAN KARIM LGA",
         "orientation": "v",
         "showlegend": true,
         "textposition": "auto",
         "type": "bar",
         "x": [
          "LOCAL GOVT CHAIRMAN KARIM LGA"
         ],
         "xaxis": "x",
         "y": [
          350000
         ],
         "yaxis": "y"
        },
        {
         "alignmentgroup": "True",
         "hovertemplate": "<b>%{hovertext}</b><br><br>labour_type=%{x}<br>Income_dist=%{y}<extra></extra>",
         "hovertext": [
          15000
         ],
         "legendgroup": "TRADER (PROVISION STORE)",
         "marker": {
          "color": "#B6E880",
          "pattern": {
           "shape": ""
          }
         },
         "name": "TRADER (PROVISION STORE)",
         "offsetgroup": "TRADER (PROVISION STORE)",
         "orientation": "v",
         "showlegend": true,
         "textposition": "auto",
         "type": "bar",
         "x": [
          "TRADER (PROVISION STORE)"
         ],
         "xaxis": "x",
         "y": [
          15000
         ],
         "yaxis": "y"
        },
        {
         "alignmentgroup": "True",
         "hovertemplate": "<b>%{hovertext}</b><br><br>labour_type=%{x}<br>Income_dist=%{y}<extra></extra>",
         "hovertext": [
          12000
         ],
         "legendgroup": "TRADER(PROVISION STORE)",
         "marker": {
          "color": "#FF97FF",
          "pattern": {
           "shape": ""
          }
         },
         "name": "TRADER(PROVISION STORE)",
         "offsetgroup": "TRADER(PROVISION STORE)",
         "orientation": "v",
         "showlegend": true,
         "textposition": "auto",
         "type": "bar",
         "x": [
          "TRADER(PROVISION STORE)"
         ],
         "xaxis": "x",
         "y": [
          12000
         ],
         "yaxis": "y"
        },
        {
         "alignmentgroup": "True",
         "hovertemplate": "<b>%{hovertext}</b><br><br>labour_type=%{x}<br>Income_dist=%{y}<extra></extra>",
         "hovertext": [
          30000
         ],
         "legendgroup": "DAY AND NAIGHT WATCH MAN",
         "marker": {
          "color": "#FECB52",
          "pattern": {
           "shape": ""
          }
         },
         "name": "DAY AND NAIGHT WATCH MAN",
         "offsetgroup": "DAY AND NAIGHT WATCH MAN",
         "orientation": "v",
         "showlegend": true,
         "textposition": "auto",
         "type": "bar",
         "x": [
          "DAY AND NAIGHT WATCH MAN"
         ],
         "xaxis": "x",
         "y": [
          30000
         ],
         "yaxis": "y"
        },
        {
         "alignmentgroup": "True",
         "hovertemplate": "<b>%{hovertext}</b><br><br>labour_type=%{x}<br>Income_dist=%{y}<extra></extra>",
         "hovertext": [
          5000
         ],
         "legendgroup": "BUYING & SELLING",
         "marker": {
          "color": "#636efa",
          "pattern": {
           "shape": ""
          }
         },
         "name": "BUYING & SELLING",
         "offsetgroup": "BUYING & SELLING",
         "orientation": "v",
         "showlegend": true,
         "textposition": "auto",
         "type": "bar",
         "x": [
          "BUYING & SELLING"
         ],
         "xaxis": "x",
         "y": [
          5000
         ],
         "yaxis": "y"
        },
        {
         "alignmentgroup": "True",
         "hovertemplate": "<b>%{hovertext}</b><br><br>labour_type=%{x}<br>Income_dist=%{y}<extra></extra>",
         "hovertext": [
          7000
         ],
         "legendgroup": "BUYING/ SELLING",
         "marker": {
          "color": "#EF553B",
          "pattern": {
           "shape": ""
          }
         },
         "name": "BUYING/ SELLING",
         "offsetgroup": "BUYING/ SELLING",
         "orientation": "v",
         "showlegend": true,
         "textposition": "auto",
         "type": "bar",
         "x": [
          "BUYING/ SELLING"
         ],
         "xaxis": "x",
         "y": [
          7000
         ],
         "yaxis": "y"
        },
        {
         "alignmentgroup": "True",
         "hovertemplate": "<b>%{hovertext}</b><br><br>labour_type=%{x}<br>Income_dist=%{y}<extra></extra>",
         "hovertext": [
          3000
         ],
         "legendgroup": "LORRY CONDUCTOR",
         "marker": {
          "color": "#00cc96",
          "pattern": {
           "shape": ""
          }
         },
         "name": "LORRY CONDUCTOR",
         "offsetgroup": "LORRY CONDUCTOR",
         "orientation": "v",
         "showlegend": true,
         "textposition": "auto",
         "type": "bar",
         "x": [
          "LORRY CONDUCTOR"
         ],
         "xaxis": "x",
         "y": [
          3000
         ],
         "yaxis": "y"
        },
        {
         "alignmentgroup": "True",
         "hovertemplate": "<b>%{hovertext}</b><br><br>labour_type=%{x}<br>Income_dist=%{y}<extra></extra>",
         "hovertext": [
          8000
         ],
         "legendgroup": "DIGGING A WELL",
         "marker": {
          "color": "#ab63fa",
          "pattern": {
           "shape": ""
          }
         },
         "name": "DIGGING A WELL",
         "offsetgroup": "DIGGING A WELL",
         "orientation": "v",
         "showlegend": true,
         "textposition": "auto",
         "type": "bar",
         "x": [
          "DIGGING A WELL"
         ],
         "xaxis": "x",
         "y": [
          8000
         ],
         "yaxis": "y"
        },
        {
         "alignmentgroup": "True",
         "hovertemplate": "<b>%{hovertext}</b><br><br>labour_type=%{x}<br>Income_dist=%{y}<extra></extra>",
         "hovertext": [
          2000
         ],
         "legendgroup": "MAT WEAVING",
         "marker": {
          "color": "#FFA15A",
          "pattern": {
           "shape": ""
          }
         },
         "name": "MAT WEAVING",
         "offsetgroup": "MAT WEAVING",
         "orientation": "v",
         "showlegend": true,
         "textposition": "auto",
         "type": "bar",
         "x": [
          "MAT WEAVING"
         ],
         "xaxis": "x",
         "y": [
          2000
         ],
         "yaxis": "y"
        },
        {
         "alignmentgroup": "True",
         "hovertemplate": "<b>%{hovertext}</b><br><br>labour_type=%{x}<br>Income_dist=%{y}<extra></extra>",
         "hovertext": [
          20800
         ],
         "legendgroup": "LABORATORY ATTENDANCE (SCHOOL)",
         "marker": {
          "color": "#19d3f3",
          "pattern": {
           "shape": ""
          }
         },
         "name": "LABORATORY ATTENDANCE (SCHOOL)",
         "offsetgroup": "LABORATORY ATTENDANCE (SCHOOL)",
         "orientation": "v",
         "showlegend": true,
         "textposition": "auto",
         "type": "bar",
         "x": [
          "LABORATORY ATTENDANCE (SCHOOL)"
         ],
         "xaxis": "x",
         "y": [
          20800
         ],
         "yaxis": "y"
        },
        {
         "alignmentgroup": "True",
         "hovertemplate": "<b>%{hovertext}</b><br><br>labour_type=%{x}<br>Income_dist=%{y}<extra></extra>",
         "hovertext": [
          15000
         ],
         "legendgroup": "CARE AND MONITORING OF FORESTRY PLANT",
         "marker": {
          "color": "#FF6692",
          "pattern": {
           "shape": ""
          }
         },
         "name": "CARE AND MONITORING OF FORESTRY PLANT",
         "offsetgroup": "CARE AND MONITORING OF FORESTRY PLANT",
         "orientation": "v",
         "showlegend": true,
         "textposition": "auto",
         "type": "bar",
         "x": [
          "CARE AND MONITORING OF FORESTRY PLANT"
         ],
         "xaxis": "x",
         "y": [
          15000
         ],
         "yaxis": "y"
        },
        {
         "alignmentgroup": "True",
         "hovertemplate": "<b>%{hovertext}</b><br><br>labour_type=%{x}<br>Income_dist=%{y}<extra></extra>",
         "hovertext": [
          8000
         ],
         "legendgroup": "GENERAL CLEANING DUTIES",
         "marker": {
          "color": "#B6E880",
          "pattern": {
           "shape": ""
          }
         },
         "name": "GENERAL CLEANING DUTIES",
         "offsetgroup": "GENERAL CLEANING DUTIES",
         "orientation": "v",
         "showlegend": true,
         "textposition": "auto",
         "type": "bar",
         "x": [
          "GENERAL CLEANING DUTIES"
         ],
         "xaxis": "x",
         "y": [
          8000
         ],
         "yaxis": "y"
        },
        {
         "alignmentgroup": "True",
         "hovertemplate": "<b>%{hovertext}</b><br><br>labour_type=%{x}<br>Income_dist=%{y}<extra></extra>",
         "hovertext": [
          16000
         ],
         "legendgroup": "CUSTODIAN OF IN OUT MOVEMENT OFFICE FILE",
         "marker": {
          "color": "#FF97FF",
          "pattern": {
           "shape": ""
          }
         },
         "name": "CUSTODIAN OF IN OUT MOVEMENT OFFICE FILE",
         "offsetgroup": "CUSTODIAN OF IN OUT MOVEMENT OFFICE FILE",
         "orientation": "v",
         "showlegend": true,
         "textposition": "auto",
         "type": "bar",
         "x": [
          "CUSTODIAN OF IN OUT MOVEMENT OFFICE FILE"
         ],
         "xaxis": "x",
         "y": [
          16000
         ],
         "yaxis": "y"
        },
        {
         "alignmentgroup": "True",
         "hovertemplate": "<b>%{hovertext}</b><br><br>labour_type=%{x}<br>Income_dist=%{y}<extra></extra>",
         "hovertext": [
          25000
         ],
         "legendgroup": "PASTORING ACTIVITIES IN COCIN CHURCH",
         "marker": {
          "color": "#FECB52",
          "pattern": {
           "shape": ""
          }
         },
         "name": "PASTORING ACTIVITIES IN COCIN CHURCH",
         "offsetgroup": "PASTORING ACTIVITIES IN COCIN CHURCH",
         "orientation": "v",
         "showlegend": true,
         "textposition": "auto",
         "type": "bar",
         "x": [
          "PASTORING ACTIVITIES IN COCIN CHURCH"
         ],
         "xaxis": "x",
         "y": [
          25000
         ],
         "yaxis": "y"
        },
        {
         "alignmentgroup": "True",
         "hovertemplate": "<b>%{hovertext}</b><br><br>labour_type=%{x}<br>Income_dist=%{y}<extra></extra>",
         "hovertext": [
          50000
         ],
         "legendgroup": "POWER PLANT OPERATING DUTY",
         "marker": {
          "color": "#636efa",
          "pattern": {
           "shape": ""
          }
         },
         "name": "POWER PLANT OPERATING DUTY",
         "offsetgroup": "POWER PLANT OPERATING DUTY",
         "orientation": "v",
         "showlegend": true,
         "textposition": "auto",
         "type": "bar",
         "x": [
          "POWER PLANT OPERATING DUTY"
         ],
         "xaxis": "x",
         "y": [
          50000
         ],
         "yaxis": "y"
        },
        {
         "alignmentgroup": "True",
         "hovertemplate": "<b>%{hovertext}</b><br><br>labour_type=%{x}<br>Income_dist=%{y}<extra></extra>",
         "hovertext": [
          80000
         ],
         "legendgroup": "CUSTODIAN OF PRISON INMATE",
         "marker": {
          "color": "#EF553B",
          "pattern": {
           "shape": ""
          }
         },
         "name": "CUSTODIAN OF PRISON INMATE",
         "offsetgroup": "CUSTODIAN OF PRISON INMATE",
         "orientation": "v",
         "showlegend": true,
         "textposition": "auto",
         "type": "bar",
         "x": [
          "CUSTODIAN OF PRISON INMATE"
         ],
         "xaxis": "x",
         "y": [
          80000
         ],
         "yaxis": "y"
        },
        {
         "alignmentgroup": "True",
         "hovertemplate": "<b>%{hovertext}</b><br><br>labour_type=%{x}<br>Income_dist=%{y}<extra></extra>",
         "hovertext": [
          30000
         ],
         "legendgroup": "TEACHING IN AN ISLAMIC SCHOOL",
         "marker": {
          "color": "#00cc96",
          "pattern": {
           "shape": ""
          }
         },
         "name": "TEACHING IN AN ISLAMIC SCHOOL",
         "offsetgroup": "TEACHING IN AN ISLAMIC SCHOOL",
         "orientation": "v",
         "showlegend": true,
         "textposition": "auto",
         "type": "bar",
         "x": [
          "TEACHING IN AN ISLAMIC SCHOOL"
         ],
         "xaxis": "x",
         "y": [
          30000
         ],
         "yaxis": "y"
        },
        {
         "alignmentgroup": "True",
         "hovertemplate": "<b>%{hovertext}</b><br><br>labour_type=%{x}<br>Income_dist=%{y}<extra></extra>",
         "hovertext": [
          19000
         ],
         "legendgroup": "SECONDARY SCHOOL COOK",
         "marker": {
          "color": "#ab63fa",
          "pattern": {
           "shape": ""
          }
         },
         "name": "SECONDARY SCHOOL COOK",
         "offsetgroup": "SECONDARY SCHOOL COOK",
         "orientation": "v",
         "showlegend": true,
         "textposition": "auto",
         "type": "bar",
         "x": [
          "SECONDARY SCHOOL COOK"
         ],
         "xaxis": "x",
         "y": [
          19000
         ],
         "yaxis": "y"
        },
        {
         "alignmentgroup": "True",
         "hovertemplate": "<b>%{hovertext}</b><br><br>labour_type=%{x}<br>Income_dist=%{y}<extra></extra>",
         "hovertext": [
          25000
         ],
         "legendgroup": "CLEANER IN THE PRIMARY SCHOOL",
         "marker": {
          "color": "#FFA15A",
          "pattern": {
           "shape": ""
          }
         },
         "name": "CLEANER IN THE PRIMARY SCHOOL",
         "offsetgroup": "CLEANER IN THE PRIMARY SCHOOL",
         "orientation": "v",
         "showlegend": true,
         "textposition": "auto",
         "type": "bar",
         "x": [
          "CLEANER IN THE PRIMARY SCHOOL"
         ],
         "xaxis": "x",
         "y": [
          25000
         ],
         "yaxis": "y"
        },
        {
         "alignmentgroup": "True",
         "hovertemplate": "<b>%{hovertext}</b><br><br>labour_type=%{x}<br>Income_dist=%{y}<extra></extra>",
         "hovertext": [
          18500
         ],
         "legendgroup": "MASS LTERACY(CLERICAL ASSISTANT)",
         "marker": {
          "color": "#19d3f3",
          "pattern": {
           "shape": ""
          }
         },
         "name": "MASS LTERACY(CLERICAL ASSISTANT)",
         "offsetgroup": "MASS LTERACY(CLERICAL ASSISTANT)",
         "orientation": "v",
         "showlegend": true,
         "textposition": "auto",
         "type": "bar",
         "x": [
          "MASS LTERACY(CLERICAL ASSISTANT)"
         ],
         "xaxis": "x",
         "y": [
          18500
         ],
         "yaxis": "y"
        },
        {
         "alignmentgroup": "True",
         "hovertemplate": "<b>%{hovertext}</b><br><br>labour_type=%{x}<br>Income_dist=%{y}<extra></extra>",
         "hovertext": [
          25000
         ],
         "legendgroup": "CROP FARMING",
         "marker": {
          "color": "#FF6692",
          "pattern": {
           "shape": ""
          }
         },
         "name": "CROP FARMING",
         "offsetgroup": "CROP FARMING",
         "orientation": "v",
         "showlegend": true,
         "textposition": "auto",
         "type": "bar",
         "x": [
          "CROP FARMING"
         ],
         "xaxis": "x",
         "y": [
          25000
         ],
         "yaxis": "y"
        },
        {
         "alignmentgroup": "True",
         "hovertemplate": "<b>%{hovertext}</b><br><br>labour_type=%{x}<br>Income_dist=%{y}<extra></extra>",
         "hovertext": [
          27000
         ],
         "legendgroup": "ACOUNTING DUTIES",
         "marker": {
          "color": "#B6E880",
          "pattern": {
           "shape": ""
          }
         },
         "name": "ACOUNTING DUTIES",
         "offsetgroup": "ACOUNTING DUTIES",
         "orientation": "v",
         "showlegend": true,
         "textposition": "auto",
         "type": "bar",
         "x": [
          "ACOUNTING DUTIES"
         ],
         "xaxis": "x",
         "y": [
          27000
         ],
         "yaxis": "y"
        },
        {
         "alignmentgroup": "True",
         "hovertemplate": "<b>%{hovertext}</b><br><br>labour_type=%{x}<br>Income_dist=%{y}<extra></extra>",
         "hovertext": [
          23000
         ],
         "legendgroup": "PRIMARY CLASS ROOM TEACHER",
         "marker": {
          "color": "#FF97FF",
          "pattern": {
           "shape": ""
          }
         },
         "name": "PRIMARY CLASS ROOM TEACHER",
         "offsetgroup": "PRIMARY CLASS ROOM TEACHER",
         "orientation": "v",
         "showlegend": true,
         "textposition": "auto",
         "type": "bar",
         "x": [
          "PRIMARY CLASS ROOM TEACHER"
         ],
         "xaxis": "x",
         "y": [
          23000
         ],
         "yaxis": "y"
        },
        {
         "alignmentgroup": "True",
         "hovertemplate": "<b>%{hovertext}</b><br><br>labour_type=%{x}<br>Income_dist=%{y}<extra></extra>",
         "hovertext": [
          28000
         ],
         "legendgroup": "HOSPITAL WARD ATTENDANCE DUTIES",
         "marker": {
          "color": "#FECB52",
          "pattern": {
           "shape": ""
          }
         },
         "name": "HOSPITAL WARD ATTENDANCE DUTIES",
         "offsetgroup": "HOSPITAL WARD ATTENDANCE DUTIES",
         "orientation": "v",
         "showlegend": true,
         "textposition": "auto",
         "type": "bar",
         "x": [
          "HOSPITAL WARD ATTENDANCE DUTIES"
         ],
         "xaxis": "x",
         "y": [
          28000
         ],
         "yaxis": "y"
        },
        {
         "alignmentgroup": "True",
         "hovertemplate": "<b>%{hovertext}</b><br><br>labour_type=%{x}<br>Income_dist=%{y}<extra></extra>",
         "hovertext": [
          18600
         ],
         "legendgroup": "PRIMARY CLASS ROOM SCHOOL TEACHER",
         "marker": {
          "color": "#636efa",
          "pattern": {
           "shape": ""
          }
         },
         "name": "PRIMARY CLASS ROOM SCHOOL TEACHER",
         "offsetgroup": "PRIMARY CLASS ROOM SCHOOL TEACHER",
         "orientation": "v",
         "showlegend": true,
         "textposition": "auto",
         "type": "bar",
         "x": [
          "PRIMARY CLASS ROOM SCHOOL TEACHER"
         ],
         "xaxis": "x",
         "y": [
          18600
         ],
         "yaxis": "y"
        },
        {
         "alignmentgroup": "True",
         "hovertemplate": "<b>%{hovertext}</b><br><br>labour_type=%{x}<br>Income_dist=%{y}<extra></extra>",
         "hovertext": [
          17000
         ],
         "legendgroup": "LGA WATER ENGINE OPERATOR",
         "marker": {
          "color": "#EF553B",
          "pattern": {
           "shape": ""
          }
         },
         "name": "LGA WATER ENGINE OPERATOR",
         "offsetgroup": "LGA WATER ENGINE OPERATOR",
         "orientation": "v",
         "showlegend": true,
         "textposition": "auto",
         "type": "bar",
         "x": [
          "LGA WATER ENGINE OPERATOR"
         ],
         "xaxis": "x",
         "y": [
          17000
         ],
         "yaxis": "y"
        },
        {
         "alignmentgroup": "True",
         "hovertemplate": "<b>%{hovertext}</b><br><br>labour_type=%{x}<br>Income_dist=%{y}<extra></extra>",
         "hovertext": [
          30000
         ],
         "legendgroup": "PLUMBER AND PIPE FILTERS",
         "marker": {
          "color": "#00cc96",
          "pattern": {
           "shape": ""
          }
         },
         "name": "PLUMBER AND PIPE FILTERS",
         "offsetgroup": "PLUMBER AND PIPE FILTERS",
         "orientation": "v",
         "showlegend": true,
         "textposition": "auto",
         "type": "bar",
         "x": [
          "PLUMBER AND PIPE FILTERS"
         ],
         "xaxis": "x",
         "y": [
          30000
         ],
         "yaxis": "y"
        },
        {
         "alignmentgroup": "True",
         "hovertemplate": "<b>%{hovertext}</b><br><br>labour_type=%{x}<br>Income_dist=%{y}<extra></extra>",
         "hovertext": [
          7000,
          7000
         ],
         "legendgroup": "TAILOR AND RELATED WORKER",
         "marker": {
          "color": "#ab63fa",
          "pattern": {
           "shape": ""
          }
         },
         "name": "TAILOR AND RELATED WORKER",
         "offsetgroup": "TAILOR AND RELATED WORKER",
         "orientation": "v",
         "showlegend": true,
         "textposition": "auto",
         "type": "bar",
         "x": [
          "TAILOR AND RELATED WORKER",
          "TAILOR AND RELATED WORKER"
         ],
         "xaxis": "x",
         "y": [
          7000,
          7000
         ],
         "yaxis": "y"
        },
        {
         "alignmentgroup": "True",
         "hovertemplate": "<b>%{hovertext}</b><br><br>labour_type=%{x}<br>Income_dist=%{y}<extra></extra>",
         "hovertext": [
          600
         ],
         "legendgroup": "FARMING MIXED CROP GROWERS",
         "marker": {
          "color": "#FFA15A",
          "pattern": {
           "shape": ""
          }
         },
         "name": "FARMING MIXED CROP GROWERS",
         "offsetgroup": "FARMING MIXED CROP GROWERS",
         "orientation": "v",
         "showlegend": true,
         "textposition": "auto",
         "type": "bar",
         "x": [
          "FARMING MIXED CROP GROWERS"
         ],
         "xaxis": "x",
         "y": [
          600
         ],
         "yaxis": "y"
        },
        {
         "alignmentgroup": "True",
         "hovertemplate": "<b>%{hovertext}</b><br><br>labour_type=%{x}<br>Income_dist=%{y}<extra></extra>",
         "hovertext": [
          2500
         ],
         "legendgroup": "BUILDING CONSTRACTION(MESSING)",
         "marker": {
          "color": "#19d3f3",
          "pattern": {
           "shape": ""
          }
         },
         "name": "BUILDING CONSTRACTION(MESSING)",
         "offsetgroup": "BUILDING CONSTRACTION(MESSING)",
         "orientation": "v",
         "showlegend": true,
         "textposition": "auto",
         "type": "bar",
         "x": [
          "BUILDING CONSTRACTION(MESSING)"
         ],
         "xaxis": "x",
         "y": [
          2500
         ],
         "yaxis": "y"
        },
        {
         "alignmentgroup": "True",
         "hovertemplate": "<b>%{hovertext}</b><br><br>labour_type=%{x}<br>Income_dist=%{y}<extra></extra>",
         "hovertext": [
          150000
         ],
         "legendgroup": "DESIGN BUILDING ENGINEER",
         "marker": {
          "color": "#FF6692",
          "pattern": {
           "shape": ""
          }
         },
         "name": "DESIGN BUILDING ENGINEER",
         "offsetgroup": "DESIGN BUILDING ENGINEER",
         "orientation": "v",
         "showlegend": true,
         "textposition": "auto",
         "type": "bar",
         "x": [
          "DESIGN BUILDING ENGINEER"
         ],
         "xaxis": "x",
         "y": [
          150000
         ],
         "yaxis": "y"
        },
        {
         "alignmentgroup": "True",
         "hovertemplate": "<b>%{hovertext}</b><br><br>labour_type=%{x}<br>Income_dist=%{y}<extra></extra>",
         "hovertext": [
          100000
         ],
         "legendgroup": "MINISTRY OF POLICE AFFAIRS (ACCOUNT)",
         "marker": {
          "color": "#B6E880",
          "pattern": {
           "shape": ""
          }
         },
         "name": "MINISTRY OF POLICE AFFAIRS (ACCOUNT)",
         "offsetgroup": "MINISTRY OF POLICE AFFAIRS (ACCOUNT)",
         "orientation": "v",
         "showlegend": true,
         "textposition": "auto",
         "type": "bar",
         "x": [
          "MINISTRY OF POLICE AFFAIRS (ACCOUNT)"
         ],
         "xaxis": "x",
         "y": [
          100000
         ],
         "yaxis": "y"
        },
        {
         "alignmentgroup": "True",
         "hovertemplate": "<b>%{hovertext}</b><br><br>labour_type=%{x}<br>Income_dist=%{y}<extra></extra>",
         "hovertext": [
          70000
         ],
         "legendgroup": "FAAN (OPERATIONS)",
         "marker": {
          "color": "#FF97FF",
          "pattern": {
           "shape": ""
          }
         },
         "name": "FAAN (OPERATIONS)",
         "offsetgroup": "FAAN (OPERATIONS)",
         "orientation": "v",
         "showlegend": true,
         "textposition": "auto",
         "type": "bar",
         "x": [
          "FAAN (OPERATIONS)"
         ],
         "xaxis": "x",
         "y": [
          70000
         ],
         "yaxis": "y"
        },
        {
         "alignmentgroup": "True",
         "hovertemplate": "<b>%{hovertext}</b><br><br>labour_type=%{x}<br>Income_dist=%{y}<extra></extra>",
         "hovertext": [
          200000
         ],
         "legendgroup": "STORE KEEPER(AEDC)",
         "marker": {
          "color": "#FECB52",
          "pattern": {
           "shape": ""
          }
         },
         "name": "STORE KEEPER(AEDC)",
         "offsetgroup": "STORE KEEPER(AEDC)",
         "orientation": "v",
         "showlegend": true,
         "textposition": "auto",
         "type": "bar",
         "x": [
          "STORE KEEPER(AEDC)"
         ],
         "xaxis": "x",
         "y": [
          200000
         ],
         "yaxis": "y"
        },
        {
         "alignmentgroup": "True",
         "hovertemplate": "<b>%{hovertext}</b><br><br>labour_type=%{x}<br>Income_dist=%{y}<extra></extra>",
         "hovertext": [
          30000
         ],
         "legendgroup": "ENGINEERING DESIGNER & EVALUATION",
         "marker": {
          "color": "#636efa",
          "pattern": {
           "shape": ""
          }
         },
         "name": "ENGINEERING DESIGNER & EVALUATION",
         "offsetgroup": "ENGINEERING DESIGNER & EVALUATION",
         "orientation": "v",
         "showlegend": true,
         "textposition": "auto",
         "type": "bar",
         "x": [
          "ENGINEERING DESIGNER & EVALUATION"
         ],
         "xaxis": "x",
         "y": [
          30000
         ],
         "yaxis": "y"
        },
        {
         "alignmentgroup": "True",
         "hovertemplate": "<b>%{hovertext}</b><br><br>labour_type=%{x}<br>Income_dist=%{y}<extra></extra>",
         "hovertext": [
          45000
         ],
         "legendgroup": "ROAD SAFETY",
         "marker": {
          "color": "#EF553B",
          "pattern": {
           "shape": ""
          }
         },
         "name": "ROAD SAFETY",
         "offsetgroup": "ROAD SAFETY",
         "orientation": "v",
         "showlegend": true,
         "textposition": "auto",
         "type": "bar",
         "x": [
          "ROAD SAFETY"
         ],
         "xaxis": "x",
         "y": [
          45000
         ],
         "yaxis": "y"
        },
        {
         "alignmentgroup": "True",
         "hovertemplate": "<b>%{hovertext}</b><br><br>labour_type=%{x}<br>Income_dist=%{y}<extra></extra>",
         "hovertext": [
          500000
         ],
         "legendgroup": "MOTOR DEALER (BUYING & SELLING)",
         "marker": {
          "color": "#00cc96",
          "pattern": {
           "shape": ""
          }
         },
         "name": "MOTOR DEALER (BUYING & SELLING)",
         "offsetgroup": "MOTOR DEALER (BUYING & SELLING)",
         "orientation": "v",
         "showlegend": true,
         "textposition": "auto",
         "type": "bar",
         "x": [
          "MOTOR DEALER (BUYING & SELLING)"
         ],
         "xaxis": "x",
         "y": [
          500000
         ],
         "yaxis": "y"
        },
        {
         "alignmentgroup": "True",
         "hovertemplate": "<b>%{hovertext}</b><br><br>labour_type=%{x}<br>Income_dist=%{y}<extra></extra>",
         "hovertext": [
          5000
         ],
         "legendgroup": "BARBER",
         "marker": {
          "color": "#ab63fa",
          "pattern": {
           "shape": ""
          }
         },
         "name": "BARBER",
         "offsetgroup": "BARBER",
         "orientation": "v",
         "showlegend": true,
         "textposition": "auto",
         "type": "bar",
         "x": [
          "BARBER"
         ],
         "xaxis": "x",
         "y": [
          5000
         ],
         "yaxis": "y"
        },
        {
         "alignmentgroup": "True",
         "hovertemplate": "<b>%{hovertext}</b><br><br>labour_type=%{x}<br>Income_dist=%{y}<extra></extra>",
         "hovertext": [
          72000
         ],
         "legendgroup": "MAINTENANCE OFFICER(NASS)",
         "marker": {
          "color": "#FFA15A",
          "pattern": {
           "shape": ""
          }
         },
         "name": "MAINTENANCE OFFICER(NASS)",
         "offsetgroup": "MAINTENANCE OFFICER(NASS)",
         "orientation": "v",
         "showlegend": true,
         "textposition": "auto",
         "type": "bar",
         "x": [
          "MAINTENANCE OFFICER(NASS)"
         ],
         "xaxis": "x",
         "y": [
          72000
         ],
         "yaxis": "y"
        },
        {
         "alignmentgroup": "True",
         "hovertemplate": "<b>%{hovertext}</b><br><br>labour_type=%{x}<br>Income_dist=%{y}<extra></extra>",
         "hovertext": [
          56000
         ],
         "legendgroup": "CLERICAL OFFICER (FCDA SOCIAL DEV.)",
         "marker": {
          "color": "#19d3f3",
          "pattern": {
           "shape": ""
          }
         },
         "name": "CLERICAL OFFICER (FCDA SOCIAL DEV.)",
         "offsetgroup": "CLERICAL OFFICER (FCDA SOCIAL DEV.)",
         "orientation": "v",
         "showlegend": true,
         "textposition": "auto",
         "type": "bar",
         "x": [
          "CLERICAL OFFICER (FCDA SOCIAL DEV.)"
         ],
         "xaxis": "x",
         "y": [
          56000
         ],
         "yaxis": "y"
        },
        {
         "alignmentgroup": "True",
         "hovertemplate": "<b>%{hovertext}</b><br><br>labour_type=%{x}<br>Income_dist=%{y}<extra></extra>",
         "hovertext": [
          180000
         ],
         "legendgroup": "COMMERCIAL DEPT (FAAN)",
         "marker": {
          "color": "#FF6692",
          "pattern": {
           "shape": ""
          }
         },
         "name": "COMMERCIAL DEPT (FAAN)",
         "offsetgroup": "COMMERCIAL DEPT (FAAN)",
         "orientation": "v",
         "showlegend": true,
         "textposition": "auto",
         "type": "bar",
         "x": [
          "COMMERCIAL DEPT (FAAN)"
         ],
         "xaxis": "x",
         "y": [
          180000
         ],
         "yaxis": "y"
        },
        {
         "alignmentgroup": "True",
         "hovertemplate": "<b>%{hovertext}</b><br><br>labour_type=%{x}<br>Income_dist=%{y}<extra></extra>",
         "hovertext": [
          65000
         ],
         "legendgroup": "ELECTRICAL ENGINEER",
         "marker": {
          "color": "#B6E880",
          "pattern": {
           "shape": ""
          }
         },
         "name": "ELECTRICAL ENGINEER",
         "offsetgroup": "ELECTRICAL ENGINEER",
         "orientation": "v",
         "showlegend": true,
         "textposition": "auto",
         "type": "bar",
         "x": [
          "ELECTRICAL ENGINEER"
         ],
         "xaxis": "x",
         "y": [
          65000
         ],
         "yaxis": "y"
        },
        {
         "alignmentgroup": "True",
         "hovertemplate": "<b>%{hovertext}</b><br><br>labour_type=%{x}<br>Income_dist=%{y}<extra></extra>",
         "hovertext": [
          50000
         ],
         "legendgroup": "DANTATA (LABOURER)",
         "marker": {
          "color": "#FF97FF",
          "pattern": {
           "shape": ""
          }
         },
         "name": "DANTATA (LABOURER)",
         "offsetgroup": "DANTATA (LABOURER)",
         "orientation": "v",
         "showlegend": true,
         "textposition": "auto",
         "type": "bar",
         "x": [
          "DANTATA (LABOURER)"
         ],
         "xaxis": "x",
         "y": [
          50000
         ],
         "yaxis": "y"
        },
        {
         "alignmentgroup": "True",
         "hovertemplate": "<b>%{hovertext}</b><br><br>labour_type=%{x}<br>Income_dist=%{y}<extra></extra>",
         "hovertext": [
          25000
         ],
         "legendgroup": "HOTEL ATTENDANT",
         "marker": {
          "color": "#FECB52",
          "pattern": {
           "shape": ""
          }
         },
         "name": "HOTEL ATTENDANT",
         "offsetgroup": "HOTEL ATTENDANT",
         "orientation": "v",
         "showlegend": true,
         "textposition": "auto",
         "type": "bar",
         "x": [
          "HOTEL ATTENDANT"
         ],
         "xaxis": "x",
         "y": [
          25000
         ],
         "yaxis": "y"
        },
        {
         "alignmentgroup": "True",
         "hovertemplate": "<b>%{hovertext}</b><br><br>labour_type=%{x}<br>Income_dist=%{y}<extra></extra>",
         "hovertext": [
          31000
         ],
         "legendgroup": "SHARIA COURT OF APPEA; (REGISTRAR)",
         "marker": {
          "color": "#636efa",
          "pattern": {
           "shape": ""
          }
         },
         "name": "SHARIA COURT OF APPEA; (REGISTRAR)",
         "offsetgroup": "SHARIA COURT OF APPEA; (REGISTRAR)",
         "orientation": "v",
         "showlegend": true,
         "textposition": "auto",
         "type": "bar",
         "x": [
          "SHARIA COURT OF APPEA; (REGISTRAR)"
         ],
         "xaxis": "x",
         "y": [
          31000
         ],
         "yaxis": "y"
        },
        {
         "alignmentgroup": "True",
         "hovertemplate": "<b>%{hovertext}</b><br><br>labour_type=%{x}<br>Income_dist=%{y}<extra></extra>",
         "hovertext": [
          42000
         ],
         "legendgroup": "SECURITY(HIGHCOURT)",
         "marker": {
          "color": "#EF553B",
          "pattern": {
           "shape": ""
          }
         },
         "name": "SECURITY(HIGHCOURT)",
         "offsetgroup": "SECURITY(HIGHCOURT)",
         "orientation": "v",
         "showlegend": true,
         "textposition": "auto",
         "type": "bar",
         "x": [
          "SECURITY(HIGHCOURT)"
         ],
         "xaxis": "x",
         "y": [
          42000
         ],
         "yaxis": "y"
        },
        {
         "alignmentgroup": "True",
         "hovertemplate": "<b>%{hovertext}</b><br><br>labour_type=%{x}<br>Income_dist=%{y}<extra></extra>",
         "hovertext": [
          72000
         ],
         "legendgroup": "JOURNALIST",
         "marker": {
          "color": "#00cc96",
          "pattern": {
           "shape": ""
          }
         },
         "name": "JOURNALIST",
         "offsetgroup": "JOURNALIST",
         "orientation": "v",
         "showlegend": true,
         "textposition": "auto",
         "type": "bar",
         "x": [
          "JOURNALIST"
         ],
         "xaxis": "x",
         "y": [
          72000
         ],
         "yaxis": "y"
        },
        {
         "alignmentgroup": "True",
         "hovertemplate": "<b>%{hovertext}</b><br><br>labour_type=%{x}<br>Income_dist=%{y}<extra></extra>",
         "hovertext": [
          80000
         ],
         "legendgroup": "NATIONAL BOUNDARY COMMISSION SECRETARY",
         "marker": {
          "color": "#ab63fa",
          "pattern": {
           "shape": ""
          }
         },
         "name": "NATIONAL BOUNDARY COMMISSION SECRETARY",
         "offsetgroup": "NATIONAL BOUNDARY COMMISSION SECRETARY",
         "orientation": "v",
         "showlegend": true,
         "textposition": "auto",
         "type": "bar",
         "x": [
          "NATIONAL BOUNDARY COMMISSION SECRETARY"
         ],
         "xaxis": "x",
         "y": [
          80000
         ],
         "yaxis": "y"
        },
        {
         "alignmentgroup": "True",
         "hovertemplate": "<b>%{hovertext}</b><br><br>labour_type=%{x}<br>Income_dist=%{y}<extra></extra>",
         "hovertext": [
          85000
         ],
         "legendgroup": "CONFIDENTIAL SECREETARY",
         "marker": {
          "color": "#FFA15A",
          "pattern": {
           "shape": ""
          }
         },
         "name": "CONFIDENTIAL SECREETARY",
         "offsetgroup": "CONFIDENTIAL SECREETARY",
         "orientation": "v",
         "showlegend": true,
         "textposition": "auto",
         "type": "bar",
         "x": [
          "CONFIDENTIAL SECREETARY"
         ],
         "xaxis": "x",
         "y": [
          85000
         ],
         "yaxis": "y"
        },
        {
         "alignmentgroup": "True",
         "hovertemplate": "<b>%{hovertext}</b><br><br>labour_type=%{x}<br>Income_dist=%{y}<extra></extra>",
         "hovertext": [
          263000
         ],
         "legendgroup": "ELECTRICITYB & COMMUNICATION ENG",
         "marker": {
          "color": "#19d3f3",
          "pattern": {
           "shape": ""
          }
         },
         "name": "ELECTRICITYB & COMMUNICATION ENG",
         "offsetgroup": "ELECTRICITYB & COMMUNICATION ENG",
         "orientation": "v",
         "showlegend": true,
         "textposition": "auto",
         "type": "bar",
         "x": [
          "ELECTRICITYB & COMMUNICATION ENG"
         ],
         "xaxis": "x",
         "y": [
          263000
         ],
         "yaxis": "y"
        },
        {
         "alignmentgroup": "True",
         "hovertemplate": "<b>%{hovertext}</b><br><br>labour_type=%{x}<br>Income_dist=%{y}<extra></extra>",
         "hovertext": [
          112000
         ],
         "legendgroup": "ADMIN & HUMAN RESOURCES",
         "marker": {
          "color": "#FF6692",
          "pattern": {
           "shape": ""
          }
         },
         "name": "ADMIN & HUMAN RESOURCES",
         "offsetgroup": "ADMIN & HUMAN RESOURCES",
         "orientation": "v",
         "showlegend": true,
         "textposition": "auto",
         "type": "bar",
         "x": [
          "ADMIN & HUMAN RESOURCES"
         ],
         "xaxis": "x",
         "y": [
          112000
         ],
         "yaxis": "y"
        },
        {
         "alignmentgroup": "True",
         "hovertemplate": "<b>%{hovertext}</b><br><br>labour_type=%{x}<br>Income_dist=%{y}<extra></extra>",
         "hovertext": [
          140000
         ],
         "legendgroup": "MARKETER",
         "marker": {
          "color": "#B6E880",
          "pattern": {
           "shape": ""
          }
         },
         "name": "MARKETER",
         "offsetgroup": "MARKETER",
         "orientation": "v",
         "showlegend": true,
         "textposition": "auto",
         "type": "bar",
         "x": [
          "MARKETER"
         ],
         "xaxis": "x",
         "y": [
          140000
         ],
         "yaxis": "y"
        },
        {
         "alignmentgroup": "True",
         "hovertemplate": "<b>%{hovertext}</b><br><br>labour_type=%{x}<br>Income_dist=%{y}<extra></extra>",
         "hovertext": [
          80000
         ],
         "legendgroup": "DANTATA AND CO (CHIEF SECURITY OFFICER)",
         "marker": {
          "color": "#FF97FF",
          "pattern": {
           "shape": ""
          }
         },
         "name": "DANTATA AND CO (CHIEF SECURITY OFFICER)",
         "offsetgroup": "DANTATA AND CO (CHIEF SECURITY OFFICER)",
         "orientation": "v",
         "showlegend": true,
         "textposition": "auto",
         "type": "bar",
         "x": [
          "DANTATA AND CO (CHIEF SECURITY OFFICER)"
         ],
         "xaxis": "x",
         "y": [
          80000
         ],
         "yaxis": "y"
        },
        {
         "alignmentgroup": "True",
         "hovertemplate": "<b>%{hovertext}</b><br><br>labour_type=%{x}<br>Income_dist=%{y}<extra></extra>",
         "hovertext": [
          20000
         ],
         "legendgroup": "MANAGER( BLOCK INDUSTR)",
         "marker": {
          "color": "#FECB52",
          "pattern": {
           "shape": ""
          }
         },
         "name": "MANAGER( BLOCK INDUSTR)",
         "offsetgroup": "MANAGER( BLOCK INDUSTR)",
         "orientation": "v",
         "showlegend": true,
         "textposition": "auto",
         "type": "bar",
         "x": [
          "MANAGER( BLOCK INDUSTR)"
         ],
         "xaxis": "x",
         "y": [
          20000
         ],
         "yaxis": "y"
        }
       ],
       "layout": {
        "barmode": "relative",
        "legend": {
         "title": {
          "text": "labour_type"
         },
         "tracegroupgap": 0
        },
        "margin": {
         "t": 60
        },
        "template": {
         "data": {
          "bar": [
           {
            "error_x": {
             "color": "#f2f5fa"
            },
            "error_y": {
             "color": "#f2f5fa"
            },
            "marker": {
             "line": {
              "color": "rgb(17,17,17)",
              "width": 0.5
             },
             "pattern": {
              "fillmode": "overlay",
              "size": 10,
              "solidity": 0.2
             }
            },
            "type": "bar"
           }
          ],
          "barpolar": [
           {
            "marker": {
             "line": {
              "color": "rgb(17,17,17)",
              "width": 0.5
             },
             "pattern": {
              "fillmode": "overlay",
              "size": 10,
              "solidity": 0.2
             }
            },
            "type": "barpolar"
           }
          ],
          "carpet": [
           {
            "aaxis": {
             "endlinecolor": "#A2B1C6",
             "gridcolor": "#506784",
             "linecolor": "#506784",
             "minorgridcolor": "#506784",
             "startlinecolor": "#A2B1C6"
            },
            "baxis": {
             "endlinecolor": "#A2B1C6",
             "gridcolor": "#506784",
             "linecolor": "#506784",
             "minorgridcolor": "#506784",
             "startlinecolor": "#A2B1C6"
            },
            "type": "carpet"
           }
          ],
          "choropleth": [
           {
            "colorbar": {
             "outlinewidth": 0,
             "ticks": ""
            },
            "type": "choropleth"
           }
          ],
          "contour": [
           {
            "colorbar": {
             "outlinewidth": 0,
             "ticks": ""
            },
            "colorscale": [
             [
              0,
              "#0d0887"
             ],
             [
              0.1111111111111111,
              "#46039f"
             ],
             [
              0.2222222222222222,
              "#7201a8"
             ],
             [
              0.3333333333333333,
              "#9c179e"
             ],
             [
              0.4444444444444444,
              "#bd3786"
             ],
             [
              0.5555555555555556,
              "#d8576b"
             ],
             [
              0.6666666666666666,
              "#ed7953"
             ],
             [
              0.7777777777777778,
              "#fb9f3a"
             ],
             [
              0.8888888888888888,
              "#fdca26"
             ],
             [
              1,
              "#f0f921"
             ]
            ],
            "type": "contour"
           }
          ],
          "contourcarpet": [
           {
            "colorbar": {
             "outlinewidth": 0,
             "ticks": ""
            },
            "type": "contourcarpet"
           }
          ],
          "heatmap": [
           {
            "colorbar": {
             "outlinewidth": 0,
             "ticks": ""
            },
            "colorscale": [
             [
              0,
              "#0d0887"
             ],
             [
              0.1111111111111111,
              "#46039f"
             ],
             [
              0.2222222222222222,
              "#7201a8"
             ],
             [
              0.3333333333333333,
              "#9c179e"
             ],
             [
              0.4444444444444444,
              "#bd3786"
             ],
             [
              0.5555555555555556,
              "#d8576b"
             ],
             [
              0.6666666666666666,
              "#ed7953"
             ],
             [
              0.7777777777777778,
              "#fb9f3a"
             ],
             [
              0.8888888888888888,
              "#fdca26"
             ],
             [
              1,
              "#f0f921"
             ]
            ],
            "type": "heatmap"
           }
          ],
          "heatmapgl": [
           {
            "colorbar": {
             "outlinewidth": 0,
             "ticks": ""
            },
            "colorscale": [
             [
              0,
              "#0d0887"
             ],
             [
              0.1111111111111111,
              "#46039f"
             ],
             [
              0.2222222222222222,
              "#7201a8"
             ],
             [
              0.3333333333333333,
              "#9c179e"
             ],
             [
              0.4444444444444444,
              "#bd3786"
             ],
             [
              0.5555555555555556,
              "#d8576b"
             ],
             [
              0.6666666666666666,
              "#ed7953"
             ],
             [
              0.7777777777777778,
              "#fb9f3a"
             ],
             [
              0.8888888888888888,
              "#fdca26"
             ],
             [
              1,
              "#f0f921"
             ]
            ],
            "type": "heatmapgl"
           }
          ],
          "histogram": [
           {
            "marker": {
             "pattern": {
              "fillmode": "overlay",
              "size": 10,
              "solidity": 0.2
             }
            },
            "type": "histogram"
           }
          ],
          "histogram2d": [
           {
            "colorbar": {
             "outlinewidth": 0,
             "ticks": ""
            },
            "colorscale": [
             [
              0,
              "#0d0887"
             ],
             [
              0.1111111111111111,
              "#46039f"
             ],
             [
              0.2222222222222222,
              "#7201a8"
             ],
             [
              0.3333333333333333,
              "#9c179e"
             ],
             [
              0.4444444444444444,
              "#bd3786"
             ],
             [
              0.5555555555555556,
              "#d8576b"
             ],
             [
              0.6666666666666666,
              "#ed7953"
             ],
             [
              0.7777777777777778,
              "#fb9f3a"
             ],
             [
              0.8888888888888888,
              "#fdca26"
             ],
             [
              1,
              "#f0f921"
             ]
            ],
            "type": "histogram2d"
           }
          ],
          "histogram2dcontour": [
           {
            "colorbar": {
             "outlinewidth": 0,
             "ticks": ""
            },
            "colorscale": [
             [
              0,
              "#0d0887"
             ],
             [
              0.1111111111111111,
              "#46039f"
             ],
             [
              0.2222222222222222,
              "#7201a8"
             ],
             [
              0.3333333333333333,
              "#9c179e"
             ],
             [
              0.4444444444444444,
              "#bd3786"
             ],
             [
              0.5555555555555556,
              "#d8576b"
             ],
             [
              0.6666666666666666,
              "#ed7953"
             ],
             [
              0.7777777777777778,
              "#fb9f3a"
             ],
             [
              0.8888888888888888,
              "#fdca26"
             ],
             [
              1,
              "#f0f921"
             ]
            ],
            "type": "histogram2dcontour"
           }
          ],
          "mesh3d": [
           {
            "colorbar": {
             "outlinewidth": 0,
             "ticks": ""
            },
            "type": "mesh3d"
           }
          ],
          "parcoords": [
           {
            "line": {
             "colorbar": {
              "outlinewidth": 0,
              "ticks": ""
             }
            },
            "type": "parcoords"
           }
          ],
          "pie": [
           {
            "automargin": true,
            "type": "pie"
           }
          ],
          "scatter": [
           {
            "marker": {
             "line": {
              "color": "#283442"
             }
            },
            "type": "scatter"
           }
          ],
          "scatter3d": [
           {
            "line": {
             "colorbar": {
              "outlinewidth": 0,
              "ticks": ""
             }
            },
            "marker": {
             "colorbar": {
              "outlinewidth": 0,
              "ticks": ""
             }
            },
            "type": "scatter3d"
           }
          ],
          "scattercarpet": [
           {
            "marker": {
             "colorbar": {
              "outlinewidth": 0,
              "ticks": ""
             }
            },
            "type": "scattercarpet"
           }
          ],
          "scattergeo": [
           {
            "marker": {
             "colorbar": {
              "outlinewidth": 0,
              "ticks": ""
             }
            },
            "type": "scattergeo"
           }
          ],
          "scattergl": [
           {
            "marker": {
             "line": {
              "color": "#283442"
             }
            },
            "type": "scattergl"
           }
          ],
          "scattermapbox": [
           {
            "marker": {
             "colorbar": {
              "outlinewidth": 0,
              "ticks": ""
             }
            },
            "type": "scattermapbox"
           }
          ],
          "scatterpolar": [
           {
            "marker": {
             "colorbar": {
              "outlinewidth": 0,
              "ticks": ""
             }
            },
            "type": "scatterpolar"
           }
          ],
          "scatterpolargl": [
           {
            "marker": {
             "colorbar": {
              "outlinewidth": 0,
              "ticks": ""
             }
            },
            "type": "scatterpolargl"
           }
          ],
          "scatterternary": [
           {
            "marker": {
             "colorbar": {
              "outlinewidth": 0,
              "ticks": ""
             }
            },
            "type": "scatterternary"
           }
          ],
          "surface": [
           {
            "colorbar": {
             "outlinewidth": 0,
             "ticks": ""
            },
            "colorscale": [
             [
              0,
              "#0d0887"
             ],
             [
              0.1111111111111111,
              "#46039f"
             ],
             [
              0.2222222222222222,
              "#7201a8"
             ],
             [
              0.3333333333333333,
              "#9c179e"
             ],
             [
              0.4444444444444444,
              "#bd3786"
             ],
             [
              0.5555555555555556,
              "#d8576b"
             ],
             [
              0.6666666666666666,
              "#ed7953"
             ],
             [
              0.7777777777777778,
              "#fb9f3a"
             ],
             [
              0.8888888888888888,
              "#fdca26"
             ],
             [
              1,
              "#f0f921"
             ]
            ],
            "type": "surface"
           }
          ],
          "table": [
           {
            "cells": {
             "fill": {
              "color": "#506784"
             },
             "line": {
              "color": "rgb(17,17,17)"
             }
            },
            "header": {
             "fill": {
              "color": "#2a3f5f"
             },
             "line": {
              "color": "rgb(17,17,17)"
             }
            },
            "type": "table"
           }
          ]
         },
         "layout": {
          "annotationdefaults": {
           "arrowcolor": "#f2f5fa",
           "arrowhead": 0,
           "arrowwidth": 1
          },
          "autotypenumbers": "strict",
          "coloraxis": {
           "colorbar": {
            "outlinewidth": 0,
            "ticks": ""
           }
          },
          "colorscale": {
           "diverging": [
            [
             0,
             "#8e0152"
            ],
            [
             0.1,
             "#c51b7d"
            ],
            [
             0.2,
             "#de77ae"
            ],
            [
             0.3,
             "#f1b6da"
            ],
            [
             0.4,
             "#fde0ef"
            ],
            [
             0.5,
             "#f7f7f7"
            ],
            [
             0.6,
             "#e6f5d0"
            ],
            [
             0.7,
             "#b8e186"
            ],
            [
             0.8,
             "#7fbc41"
            ],
            [
             0.9,
             "#4d9221"
            ],
            [
             1,
             "#276419"
            ]
           ],
           "sequential": [
            [
             0,
             "#0d0887"
            ],
            [
             0.1111111111111111,
             "#46039f"
            ],
            [
             0.2222222222222222,
             "#7201a8"
            ],
            [
             0.3333333333333333,
             "#9c179e"
            ],
            [
             0.4444444444444444,
             "#bd3786"
            ],
            [
             0.5555555555555556,
             "#d8576b"
            ],
            [
             0.6666666666666666,
             "#ed7953"
            ],
            [
             0.7777777777777778,
             "#fb9f3a"
            ],
            [
             0.8888888888888888,
             "#fdca26"
            ],
            [
             1,
             "#f0f921"
            ]
           ],
           "sequentialminus": [
            [
             0,
             "#0d0887"
            ],
            [
             0.1111111111111111,
             "#46039f"
            ],
            [
             0.2222222222222222,
             "#7201a8"
            ],
            [
             0.3333333333333333,
             "#9c179e"
            ],
            [
             0.4444444444444444,
             "#bd3786"
            ],
            [
             0.5555555555555556,
             "#d8576b"
            ],
            [
             0.6666666666666666,
             "#ed7953"
            ],
            [
             0.7777777777777778,
             "#fb9f3a"
            ],
            [
             0.8888888888888888,
             "#fdca26"
            ],
            [
             1,
             "#f0f921"
            ]
           ]
          },
          "colorway": [
           "#636efa",
           "#EF553B",
           "#00cc96",
           "#ab63fa",
           "#FFA15A",
           "#19d3f3",
           "#FF6692",
           "#B6E880",
           "#FF97FF",
           "#FECB52"
          ],
          "font": {
           "color": "#f2f5fa"
          },
          "geo": {
           "bgcolor": "rgb(17,17,17)",
           "lakecolor": "rgb(17,17,17)",
           "landcolor": "rgb(17,17,17)",
           "showlakes": true,
           "showland": true,
           "subunitcolor": "#506784"
          },
          "hoverlabel": {
           "align": "left"
          },
          "hovermode": "closest",
          "mapbox": {
           "style": "dark"
          },
          "paper_bgcolor": "rgb(17,17,17)",
          "plot_bgcolor": "rgb(17,17,17)",
          "polar": {
           "angularaxis": {
            "gridcolor": "#506784",
            "linecolor": "#506784",
            "ticks": ""
           },
           "bgcolor": "rgb(17,17,17)",
           "radialaxis": {
            "gridcolor": "#506784",
            "linecolor": "#506784",
            "ticks": ""
           }
          },
          "scene": {
           "xaxis": {
            "backgroundcolor": "rgb(17,17,17)",
            "gridcolor": "#506784",
            "gridwidth": 2,
            "linecolor": "#506784",
            "showbackground": true,
            "ticks": "",
            "zerolinecolor": "#C8D4E3"
           },
           "yaxis": {
            "backgroundcolor": "rgb(17,17,17)",
            "gridcolor": "#506784",
            "gridwidth": 2,
            "linecolor": "#506784",
            "showbackground": true,
            "ticks": "",
            "zerolinecolor": "#C8D4E3"
           },
           "zaxis": {
            "backgroundcolor": "rgb(17,17,17)",
            "gridcolor": "#506784",
            "gridwidth": 2,
            "linecolor": "#506784",
            "showbackground": true,
            "ticks": "",
            "zerolinecolor": "#C8D4E3"
           }
          },
          "shapedefaults": {
           "line": {
            "color": "#f2f5fa"
           }
          },
          "sliderdefaults": {
           "bgcolor": "#C8D4E3",
           "bordercolor": "rgb(17,17,17)",
           "borderwidth": 1,
           "tickwidth": 0
          },
          "ternary": {
           "aaxis": {
            "gridcolor": "#506784",
            "linecolor": "#506784",
            "ticks": ""
           },
           "baxis": {
            "gridcolor": "#506784",
            "linecolor": "#506784",
            "ticks": ""
           },
           "bgcolor": "rgb(17,17,17)",
           "caxis": {
            "gridcolor": "#506784",
            "linecolor": "#506784",
            "ticks": ""
           }
          },
          "title": {
           "x": 0.05
          },
          "updatemenudefaults": {
           "bgcolor": "#506784",
           "borderwidth": 0
          },
          "xaxis": {
           "automargin": true,
           "gridcolor": "#283442",
           "linecolor": "#506784",
           "ticks": "",
           "title": {
            "standoff": 15
           },
           "zerolinecolor": "#283442",
           "zerolinewidth": 2
          },
          "yaxis": {
           "automargin": true,
           "gridcolor": "#283442",
           "linecolor": "#506784",
           "ticks": "",
           "title": {
            "standoff": 15
           },
           "zerolinecolor": "#283442",
           "zerolinewidth": 2
          }
         }
        },
        "xaxis": {
         "anchor": "y",
         "categoryarray": [
          "CIVIL SERVANT",
          "NANNY",
          "LEGALPRACTIONER",
          "ADMINISTRATION",
          "ADMINISTRATION (INEC)",
          "ADMINISTRATION (LGA)",
          "ADMINISTARTION ( HEAD OF SERVICE)",
          "ADMINISTARTION (INEC)",
          "IMMIGRATION STAFF",
          "MINISTRY OF ENVIRONMENT(SECRETARY)",
          "UNIVERSITY LECTURER",
          "SECONDARY SCH. TEACHER",
          "NRCRI (ADMIN)",
          "NRCRI (CLERK)",
          "SHOP SALES PERSON",
          "CIVIL SERVANT (HEALTH STAFF)",
          "CIVIL SERVANT (SPORT COUNCIL)",
          "CIVIL SERVANT (ADMIN CLARK)",
          "(CLERK) MINISTRY OF EDUCATION",
          "(SALE'S GIRL) RESTAURANT",
          "CLERK MINISTRY OF EDUCATION",
          "NITEL WATCHER AND DOOR KEEPER",
          "REVENUE OFFICER",
          "SECONDARY SCHOOL PRINCIPAL",
          "COMPUTER PROGRAMMES",
          "CIVIL SERVANT (TAX COLLECTOR)",
          "SERVING MENEY",
          "IRON BENDING WORK",
          "CLERK",
          "NURSE",
          "SALES MANAGER",
          "ADMINISTRATIVE CLERK",
          "PRODUCTION CLERK IN PAIT MANUFACTURING",
          "PRODUCTION CLERK IN PAIN MAN INDUSTRY",
          "PRODUCTION CLERK IN PAINT MAN INDUSTRY",
          "PRIMARY SCHOOL TEACHER",
          "BUILDER MADSON",
          "SHOP ATTENDANT",
          "COMMUNITY HEALTH WORKER",
          "NIGHT SECURITYN GUARDS",
          "REVENUE COLLECTOR",
          "WAITER OR HOTEL ATTENDANT",
          "PRIVATE SECURITY",
          "BILDER CONSTRUCTION",
          "WEEDING INSIDE FARM",
          "FARM WEEDING",
          "BUILDING CONSTRUCTION",
          "SECURITY (CIVIL DEFENCE)",
          "CAPENTARY WORK",
          "TEACHING(BIBLE)",
          "WATCHMAN IN A PRIMARY SCHOOL",
          "BLOCK INDUSTRY",
          "TEACHING",
          "ADMINISTRATIVE OFFICER",
          "ACCOUNT OFFICER",
          "SALES GIRL",
          "MOTOR DRIVER (AMBULANCE) IN HOSPITAL",
          "TEACHER IN PRIMARY SCHOOL",
          "MEMBER EXCO NURTW NATIONAL LEVEL",
          "ACCOUNTANT (MIN.OF WORKS)",
          "DOMESTIC HELPER",
          "METAL ASSEMBLER",
          "CASHIER",
          "STOCK CLERK",
          "PRODUCTION CLERK",
          "CIVIL ENG TECHNICIAN(EBASCO CONST.)",
          "LECTURING (AKWAPOLY)",
          "ENG.(ELECTRICIAN)MIN OF WORKS",
          "SALES REPS.(AI.TEL)",
          "DRIVER",
          "LABOURER",
          "CARPENTRY",
          "ACTOR",
          "PACKAGER IN YOGHURT COMPANY",
          "PREACHING",
          "SCHOOL CLERICAL OFFICER",
          "NURSING WITH LGS COMMISSION",
          "ELECT. ENGR.(MINISTRY OF RURAL DEV.)",
          "TEACHING(PRIMARY SCH-IKOT EKAN)",
          "POLICE OFFICER",
          "TEACHER",
          "COMPUTER OPERATOR",
          "EQUIPMENT CONTROLLERS",
          "EDUCATION OFFICER",
          "TRADER",
          "SECONDARY SCHOOL TEACHER",
          "PASTOR",
          "LAND SURVEYING",
          "NURSERY SCHOOL TEACHING",
          "SECONDARY SCHOOL CASHER",
          "NURSING",
          "MESSANGER(OFFCE)",
          "QUARRY WORKERS",
          "MECHANICAL ENGEINEER",
          "PRODUCTION OPERATOR",
          "NURSING (ST. MARYS HOSPITAL URUA AKPAN)",
          "TEACHING (SEC SCH MBIASO, IKOT EKPENE)",
          "CLERICAL OFFICER",
          "PARK AND BET IN POOLING CENTRE",
          "BRICKLAYER(MASON)",
          "SALEMAN",
          "SALEGIRL",
          "AGRICULTURAL SUPERINTENDENT",
          "PLANT OPERATOR",
          "STUDENT AFFAIRS OFFICER",
          "COMMERCIAL BUS DRIVER",
          "PRIMARY SCHOOL TEACHER IN PRIVATE SCHOOL",
          "PUMP ATTENDANT IN FILLING STATION",
          "TRANSPORTATION",
          "BIRTH ATTENDANT",
          "ADMIN STAFF IN LG",
          "CART TAXI AND LIGHT VAN DRIVER",
          "COOKING IN SEMINARY SCHOOL",
          "OTHER PERSONAL SERVICES WORKERS NOT ELSE",
          "CONCRETE WORKER",
          "BRICKLAYER",
          "FISHERY WORKER",
          "CLEANER",
          "BUS DRIVER",
          "PRIVATE SECURITY GUARDS",
          "SECURITY GUARD",
          "ADMINISTRATIVE AND RELATED WORK",
          "MASON",
          "FARMLAND LABOURER",
          "TAILOR",
          "BRICKLAYING",
          "LABOURER IN CONSTRUCTION COMPANY",
          "COOK IN CONSTRUCTION COMPANY",
          "HANDCRAFT WORK IN WOOD",
          "SECURITY SERVICES",
          "PRIMARY EDUCATION TEACHER",
          "CLECK",
          "LABOURER IN PALM KENNEL WASHING",
          "LABOURER (WEEDING AND PLANTING)",
          "LABOURER (WEEDING ANDPLANTING)",
          "SECURITY GUARD (WATCHMAN)",
          "J CHEW",
          "BUILDING CARE TAKER AT BB COMPANY",
          "JCHEW AT PRIMARY HEALTH CARE DEV AGENCY",
          "WASTE DISPOSAL/CLEANING & SWEEPING OD ST",
          "CLERK AT ABUBAKAR TAFABALEWA UNIVERSITY",
          "PAINTER AT ROAD SIDE",
          "TEACHING IN PRIMARY SCHOOL",
          "WEEDING AND PLANTING",
          "TRUCK DRIVER",
          "CLEANER AT PRIMARY HEALTH CARE HOSPITAL",
          "MARD ATTENDANT",
          "WARD ATTENDANT",
          "SECRETARY TO THE DISTRICT HEAD (SCRIBE)",
          "TECHING(SECONDARY SCHOOL TEACHER)",
          "HEALTH PRIMARY SANITRY INSPECTOR",
          "FARM LABOURER",
          "WAICH MAN",
          "DRIVER GOVT HOUSE",
          "TEACHER AT GOVT SECONDARY SCHOOL",
          "BUS AND TRIAN DRIVER",
          "DRIVING",
          "SPIDER WEB SECURITY",
          "CIVIL DEFENSE SECURITY",
          "WARD ATTENDANT AT GOVERNMENT HOSPITAL",
          "LAB ATTENDANT AT GENERAL HOSPITAL",
          "WARD ATTENDANT AT GENERAL HOSPITAL",
          "WARD ATTENDANT AT HOSPITAL(GOVT)",
          "NURSE IN GENERAL HOSPITAL",
          "PRIMARY SCHOOL CLASS TEACHER",
          "CHIEF NURSING",
          "VILLAGE HEAD",
          "TEACHER IN COMMUNITY PRIMARY SCHOOL",
          "LOCAL GOVT COUNCIL OFFICE CLEANER",
          "SUPERVISORY COUNCILLOR FOR HEALTH",
          "TEACHER IN GOVENMEN SECONDRY SCHOOL",
          "SECURITY IN THE POLYTECHNIC (SECURITY)",
          "CONFIDENTIAL SECRETARY",
          "SECURITY (LG)",
          "LABOURER IN FISHING SITE",
          "SAFETY AND ENVIRONMENTAL OFFICER",
          "HEALTH RECORDING OFFICER",
          "LOCAL GOVT.HEALTH WORKER",
          "REGISTRA IN JUDICIARY (STATE)",
          "LOCAL GOVT HEALTH WORKER`",
          "NURSE IN HEALTH CENTRE (MIDWIFE)",
          "NURSE HEALTH CENTRE",
          "PRIVATE PRIMARY SCHOOL TEACHER",
          "CLEANER IN OFFICER",
          "HOTEL MANAGER",
          "PRE PRIMARY EDUCATION TEACHER",
          "SITE MANAGER(TAKING CARE OF LAND",
          "PRE PRIMARY EDUCATION TEACHING",
          "POLICE",
          "SETTLEMENT OF DISPUTES",
          "SECURITY IN LGA HEALTH CENTRE",
          "TRANSPORTER",
          "STAFF NURSE",
          "HOME SUPT IN THE MIN. OF AGRIC",
          "HEALTH ATTENDANT",
          "DETECTIVE POLICE OFFICER",
          "POLICE FORCE",
          "RELIGION PROFESSIONALS",
          "WARD ATTENDANCE",
          "DRIVE",
          "STOCK CLERKS",
          "CONSTRUCTION",
          "SALE GIRL",
          "LIBRARY ATTENDANCE",
          "ACCOUNT CLERK",
          "HEALTH ATTENDANCE",
          "MANUFACTURING OF ALUMINIUM POT",
          "ISLAMIC TEACHER IN TEANGAYA/QURANIC SCHO",
          "LEGAL ADVISER OF THE LOCAL GOVERNMENT",
          "ADMINISTRATIVE SECRETARY",
          "DRIVER IN LOCAL GOVERNMENT COUNCIL",
          "HEALTH WORKER",
          "VETINARY ASSISTANT",
          "CASHER WORKING WITH AGRIC BANK",
          "TEACHING IN SECONDARY SCHOOL",
          "MIDWIFERY",
          "ACOUNTANT",
          "VETERINARY ASSISTANT",
          "WATCHMAN",
          "MEDICAL ASSISTANTS",
          "FINANCE CLERK",
          "OFFICE ADMINISTRATIVE",
          "COURT",
          "RUBBER TAPPER",
          "BUILDING CONSTRUCTION LABOURER",
          "NIGHT WATCHMAN",
          "STREET SWEEPING",
          "SENIOR PERSONNEL STAFF UNICAL",
          "STATISTICAL OFFICER",
          "POLICE MAN",
          "NIGERIA POLICE",
          "FINANCE AND SUPPLY DEPT LOCAL GOVT CLARK",
          "ARCHITECTURAL DROUGHTMAN",
          "RABU NURSERY SCHOOL OKWABANG (TEACHING)",
          "ASSISTANT CHIEF BELIEF IN COURT",
          "HEALTH EDUCATION AND MOBILIZATION",
          "PRIMARY SCHOOL ODOROWAMBE (TEACHING)",
          "PRIMARY SCHOOL TEACHING",
          "LECTURER",
          "PRIMARY TEACHER",
          "LOCAL GOVT. WORKER",
          "MINISTRY OF JUSTICES OGOJA",
          "ST.MARGARAT HOSPITAL (NURSE)",
          "TAXI DRIVER",
          "MOTOCYCYCLE RIDER(TRANSPORTER)",
          "DOMESTIC HELPER & CLEANER",
          "HOUSE KEEPER/HELPER",
          "BRICK LAYER",
          "RADIO AND TELEVISION SERVICE",
          "TEACHER PRIMARY",
          "SECURITY IN PRIMARY SCHOOL",
          "SECURITY",
          "GENERAL MANAGER IN PERSONNEL CARE COUNCI",
          "ACCOUNTANT",
          "CLERICAL",
          "CLERK FOR STORE",
          "LECHIRMP",
          "HEALTH WORK MEDICAL ASSISTANT",
          "CLERICAL ASSISTANT",
          "ENVIROMENTAL HEALTH OFFICER",
          "LABORATORY SCIENTIST",
          "DEPUTY MANAGER FINANCE",
          "MECHANICAL ENGENEERING IN ESCRAVOS",
          "PRIVATE SCHOOL TEACHER",
          "CARPENTARY IN MPDS",
          "TEACHING IN PUBLIC SCHOOL",
          "TEACHER IN THE SECONDARY SCHOOL",
          "RADIO TELEVISION AND OTHER ANNOUNCERS",
          "PASTORING",
          "WORD ORDERLY",
          "POTTER",
          "ADMINISTRATIVE WORK",
          "STATISTICIANS",
          "AUDITING",
          "EXECUTIVE OFFICER",
          "TEACHER IN THE PRIMARY SCHOOL",
          "DRIVER BUS DRIVER",
          "ADMIN. OFFICER",
          "COMPUTER ASSISTANCE",
          "FASHION AND OTHER MODELS",
          "CRUSHING AND GRINDING",
          "MULTICIANS DRIVER",
          "PASTOR (CLERGY)",
          "SAND FILLING LABOURER",
          "HAIR DRESSING AND SALON SERVICES",
          "MECHANIC REPAIR OF MOTOR VEHICLE",
          "TAILORING MAKING OF DRESSES",
          "CARPENTRY AND JOINTER WORK",
          "BUILDING CONSTRUCTION ALUMINIUN WORK",
          "MECHANICAL ENGINEERING TECHNICAL WORK",
          "BANKING",
          "COMPANY PAINT WORKER",
          "ADMINISTRATION WORKER WITH MY L.G.A.",
          "LOCAL GOVERNMENT SECURITY",
          "BULDOZER OPERATOR",
          "LEANING ELECTRICAL WORK",
          "LEANING MECHANICAL WORK",
          "GRDENER",
          "COMPANY TRANSPORTER (DRIVER)",
          "BULDEZER OPERATOR",
          "STEEL COMPANY",
          "WASTE DISPOSALS (SANITARIAN)",
          "NIGERIA INSURANCE TRUST FUND",
          "TAILORING AND MAKING OF DRESSES",
          "SWEEPING AND CLEANING",
          "TEACHING OF PRIMARY SCH PUPIL",
          "BRICKLAYING IN LOCAL GOVT COUNCIL",
          "WATCHERS AND DOOR KEEPERS IN GOVT OFFICE",
          "SECURITY SERVICE AND PRIVATE GUARDS",
          "WASTE DISPOSAL SWEEPER AND LABOURERS",
          "DIRIVER OF HEAVY TRUCK VEHICLES",
          "(PASTOR) RELIGION PROFFESSIONALS",
          "DAYCARE TEACHER IN A PRIVATE SCHOOL",
          "CIVIL SERVANT AGRIC DEPARTMENT",
          "SECURITY GUARD (HOUSING CORPORATION)",
          "TEACHING OF PRIMARY SCHOOL PROFESSIONAL",
          "PRIMARY SCHOOL TEACHING PROFESSIONAL",
          "WATCHER& DOORKEEPER IN LOCAL GOVT OFFICE",
          "TEACHING OF SECONDARY SCHOOL PUPILS",
          "OFFICE ASSISTANT AND MESSENGER",
          "NURSING AND MIDWIFERY WORKER",
          "TEACHING OF PRIMARY SCHOOL STUDENTS",
          "JUDGE IN MAGISTRATE COURT",
          "FOOD COOKING FOR SECONDARY SCH STUDENT",
          "WAITER AND HOTEL RECEPTION",
          "COMMUNITY DEV OFFICER",
          "DRAWING AND BUILDING OF HOUSE",
          "ROOFER WORKING FOR AN INDIVIDUAL",
          "MASON (MOULDING OF BLOCK)",
          "SURVEYOR IN MINISTRY OF LAND",
          "ADMINISTRATOR IN A SCHOOL",
          "LECTURER AT IMT ENUGU",
          "DEPUTY COMPTROLLER GEN OF PRISONS",
          "LEGAL SERVICES",
          "DOMESTICS SERVANT",
          "AN ELECTRICAN WORKING FOR PRIVATE INDUST",
          "SECURITY MAN AT SEMINARY SCHOOL",
          "COMPUTER ASSISTANT IN ADIM DEPARTMENT",
          "CLEANER IN A PRIVATE HOSPITAL",
          "PAPER MAKING PLANT OPERATORS",
          "PASTRY COOKS AND CONFRCTIONERY MAKERS",
          "DISTRIBUTION OF LETTERS",
          "PICKING & PACKING OF EGGS IN POUTRY FARM",
          "LOADING AND OFF LOADING OF DRINKS",
          "REGISTRAR",
          "TEACHING IN GOVERNMENT PRIMARY SCHOOL",
          "SALES PERSON IN AN URBAN MARKET",
          "ISSUING OF MOTOR TICKET TO LONG VEHICLES",
          "MIXER MACHINE OPERATOR",
          "NIGERIAN POLICE POST",
          "TEACHER SECONDARY EDU TECH",
          "TEACHER ESCONDARY EDU TECH",
          "LABORATORY ATTENDANT",
          "CARRYING MAIL AND FILE ARRANGING",
          "STORE KEEPER IN GOMBE STATE CO-OP.AGENCY",
          "FINANCIAL OFFICER IN LOCAL GOVERNMENT",
          "EDUCATION SECONDARY TEACHING",
          "RURAL HEALTH ATTENDANT & TECHNIC",
          "SPECIAL EDUCATION TEACHING PROF",
          "COMMUNITY HEA;LTH CARE WORKER",
          "COMMUNITYM DEVELOPMENT WORKER",
          "CLINICAL STAFF",
          "ENGINEERING TECHNICIANS",
          "SECONDARY SCHOOL TEACHING PROFESSION",
          "PRIMARY SCHOOL TEACHING PROFESSION",
          "HIGHCOURT STOCK & FILE TAKING",
          "SALES OF BUILDING MATERIALS",
          "SECURITY POLICE",
          "LAWYER",
          "HEAD TEACHER IN PRIMARY SCHOOL",
          "COURIER SUPERVISOR",
          "NURSING IN A TEACHING HOSPITAL",
          "UNIVERSITY PORTER",
          "CLERICAL OFFICER IN THE LGA",
          "PRIVATE SCHOOL TEACHER PRIMARY",
          "MAIVAGER IN AGRICULTURE",
          "STORE KEEPER",
          "DEPUTY MATRON",
          "COMMERCIAL DRIVER",
          "TEACHER PRIMARY SCHOOL",
          "DRIVES 911 TRUCK",
          "MARKETING/SALES IN MICROFINANCE BANK",
          "MARKETING IN MICROFINANCE BANK",
          "BLOCK MOULDING ACTIVITIES",
          "CIVIL SERVANT (LOCAL GOVERNMENT)",
          "BRICK LAYING",
          "TEACHING IN A PRIVATE SCHOOL",
          "BLOCK MOULDING",
          "NIGERIAN PRISONS",
          "CIVIL SERVANT (CLERICAL OFFICER)",
          "MANAGER IN COLD ROOM STORE",
          "DEPUTY REGISTARY IN FUTO",
          "LAWYER IN MINISTRY OF JUSTICE",
          "MESSENGER",
          "INSPECTOR PRISONS",
          "MANAGER IN A BAKERY COMPANUY",
          "BUS DRIVER BREAD INDUSTRY",
          "TEACHING IN A PRIVATE SECONDARY SCHOOL",
          "SECURITY WORKER (IMO COMMUNITY WATCH)",
          "SWEEPERS LABOURER",
          "ADMINISTRATIVE",
          "PRIVATE SECURITY GURDS",
          "WATER PUMP OPERATOR",
          "BUYING & SELLING OF CARS",
          "CAP WASHING",
          "CARPENTARY CHAIRS , BED",
          "CARPENTARY CHAIRS BED",
          "BUYING SELLING OF ANIMALS",
          "MEDICAL PERSONEL (NURSING)",
          "PROTOCOL DUTIES",
          "ELECTRICIAN",
          "SUPERVISOR (FCE) EDUCATION",
          "UNICEF (SUPERVISOR HEALTH)",
          "SELLING CLOTH",
          "CLASS TEACHER",
          "CLEANER HEALTH",
          "SECURITY WATCH MAN",
          "ELECTRICAL FITTERS",
          "SECURITY(WATCHMAN)",
          "SECURITY JOB",
          "OKADA RIDER (COMMERCIAL)",
          "COLLEGE LECTURER",
          "SECURITY  AT  A  PRIVATE  COMPANY",
          "CIVIL  SERVANT",
          "WORK FOR PLASTIC COMPANY",
          "TEACHERE  IN  A SECONDARY  SCHOOL",
          "SELLS PERSONEL",
          "CIVIL  SERVANT  CARPINTER",
          "LOCAL GOVT  OFFICE",
          "COOKING  FOOD  FOR  BORDING",
          "LABOUBER",
          "SCHOOL TEACHER ATA SECONDARY SCHOOL",
          "SURVEYOR AT TAKAI L.G.SECRETARIAT",
          "PRIMARY  SCHOOL  TEACHER",
          "POULTRY KEEPER",
          "BAKERY (BREAD) WORKER",
          "KAROTA",
          "TEACHER (HEAD MASTER)",
          "A COMMUNITY POLICE",
          "ENVIRONMENTAL HEALTH WORKER",
          "SCHEW",
          "PRISON OFFICER",
          "MEDICAL OFFICER",
          "NATIONAL UNION OF ROAD TRANSPORT WORKER",
          "SUPPLIER",
          "CIVIL SERVANT (ADMIN OFFICER)",
          "LEGISLATIVE",
          "PRIMARY SCHHOOL TEACHER",
          "SECURITY GUARDS",
          "TAILORING  SERVICES",
          "WORKIING AT PHCN OFFICE AT MALUFASHI",
          "MEDICAL  ASSISTANT",
          "PERSONNEL AND INDUSTRIAL RELATION",
          "COLLEGE OF HIGHER EDUCATION TEACHING",
          "CHIEF SECURITY OFFICER",
          "LECTURE AND RESEACH",
          "LECTURING AND RESEARCH",
          "ADMINISTRATIVE ASSOCIATE PROFESSIONAL",
          "COLLEGE OF EDUCATION TECHNOLOGY",
          "PRIMARY EDUCATION TEACHING PROFESSION",
          "NON ACADEMIC STAFF",
          "TEACHING  EDUCATION LINE",
          "PRIMARY EDUCATION TEACHING",
          "LOCAL GOVT STAFF OFFICER",
          "HEALTH MOBILIZER",
          "CIVIL DEFENCE",
          "ADMINITRATOR FADAMA THREE",
          "REGISTRAR HIGH COURT",
          "CLARICAL OFFICE JUDICIARY",
          "SEC SCHOOL TEACHER",
          "FORESTRY ATTENTANT",
          "AGRIC ATTENDANT",
          "MEDICAL ASSISTANT",
          "ASST FORESTERY OFFICER",
          "CONT ASSESMENT MASTER (EDUCATION)",
          "SECURITY (POLICE)",
          "ISLAMIC TEACHING PROFESSION",
          "MANAGER OF PRINTING COMPANY",
          "SECONDARY SCHOOL TEACHING",
          "TEACHING IN THE PRY SCHOOL",
          "ACCOUNTANT IN THE LGA",
          "CUTTING TREES DOWN IN THE FOREST",
          "FINANCIAL CLERK",
          "CLERICAL WORCAL IN COURT",
          "TIPPER DRIVER",
          "MARKETING EXECUTIVE",
          "NURSING ASSISTANT",
          "LECTURING",
          "LAB ATTENDANT",
          "CLERK AT KOGI STATE UNIVERSITY",
          "DIRECTOR OF ADMIN",
          "JUNIOR SECONDARY SCHOOL PRINCIPAL",
          "HOSPITAL NURSE",
          "ELECTRICAL ENGINEERING",
          "ADMINISTRATIVE OFFICER IN COLLEGE OF EDU",
          "SCHOOL SECURITY",
          "SELLING WATCHES",
          "MEDICAL PERSONNEL",
          "CASH COLLECTOR AT SKY LOTTO OFFICE",
          "ARTIST PRINT ON MATERIALS & STICKERS",
          "COMMERCIAL VAN DRIVER",
          "TEACHING IN SECONDARY SCHOOL(SUBEB)",
          "COOK IN A SECONDARY SCHOOL",
          "PHARMACEUTICAL TECHNICIAN",
          "TRACTOR DRIVER",
          "SAW MIL MACHINE OPERATOR",
          "PURE WATER FACTORY ASST.",
          "AGRIC OFFICER",
          "PRY SCH TEACHER",
          "ACTIVITIES OF DOMESTIC HOUSE HELP",
          "SECURITY MAN AT WATER WORKS",
          "PRIMARY SCHOOL ABACHER",
          "HOTELIANN (WORK AS HOUSE KEEPER)",
          "CIVIL ENGINEER IN A CONSTRUCTION COMPANY",
          "POSTAL OFFICE",
          "TEACHING IN PRIVATE SCHOOL",
          "ALUMINIUM APPRENTICE",
          "EVENTS DECORATION",
          "MACHINE OPERATOR",
          "CLEANNER IN PHCN OFFICE",
          "DRIVER IN PRIVATE SCHOOL",
          "CLERICAL OFFICER IN A COMPANY",
          "HOUSE HELPER",
          "BAKERY SALES GIRL",
          "V.I.O (DRIVER)",
          "RECEPTIONIST IN AN HOTEL",
          "TEACHING IN PRIVATE PRIMARY SCHOOL",
          "SALES REP IN TELE COMMUNICATION INDUSTRY",
          "HEAVY TRUCK DRIVER",
          "GRAPHIC DESIGNER (PHOTO LAB)",
          "CLERK (PHYSICAL EXAM. IN PORT)",
          "WORKING AS A DRIVER IN A TRANSPORT COY",
          "PRINTING PRESS",
          "SECONDARY SCHOOL TEACHER PRIVATE SCHOOL",
          "CAR DRIVER",
          "FASHIONER DESIGNER",
          "STALL AND MARKET PLACE REPRESENTATIVES",
          "CASUAL WORKER IN PLASTIC COMPANY",
          "NIGERIA SECURITY CIVIL DEFENCE CORP",
          "HEALTH CLEANING OF ENVIRONMENT",
          "DRIVER OF PURE WATER",
          "CLEANER OF THE CHURCH",
          "MARKETER IN BUYING AND SELLING COMPANY",
          "OFFICE ASSISTANT IN LANULA LTD",
          "MANUFACTURING OF BUSCUITS",
          "CLEARING AGENT",
          "CLERK IN OIL AND GAS COMPANY NNPC",
          "FACTORY WORKER",
          "CLERICAL ASSISTANT (LSPOTECH)",
          "WATCHER AND DOOR KEEPER (SECURITY)",
          "TAILORING",
          "SHIP DECK CREW",
          "TEACHING IN PRIVATE PRY SCHOOL",
          "CLEANER IN A PRIVATE SCHOOL",
          "IMMAM TEACHING OF ARABIC",
          "WORK AS A MARKETER IN A COMPANY",
          "WORK AS A RADIO PRESENTER",
          "WORK AS A CABIN CREW",
          "WORK AS A TELLER IN BANK",
          "(BRT BUS) SUPERVISOR",
          "WORK IN PRISON (WARDER)",
          "CLEANER IN THE SCHOOL",
          "RECEPTIONIST",
          "CATERING SERVICES",
          "SECRETARY",
          "TECHNICIANS IN EKO HOTEL",
          "ADMIN OFFICER IN A HOSPITAL",
          "HAIRDRESSER STYLIST",
          "MEDIA PERSONNEL",
          "DOMESTICS STAFF",
          "ENGENEERING WORK IN AJAH",
          "COMPUTER PROGRAMMER",
          "HOUSEHELP",
          "SECURITY IN A PUBLIC SCHOOL",
          "PERSONAL SERVICE",
          "CASSAVA PEELER & CROP GROWER",
          "SELLING FUEL,PUMP ATTENTANT",
          "EMS COORDINATOR(CLERGY)",
          "ACCOUNT STAFF",
          "AUDITOR",
          "LABOURER WORK (POULTRY)",
          "ADMIN OFFICER",
          "VETERIRARY ASSISTANT",
          "REV",
          "ADMINISTRATOR",
          "NIGERIAN SECURITY AND CIVIL DEFENCE CORP",
          "COMPUTER BUSINESS",
          "PAYING CASHIER",
          "AGMINISTRATIVE CLERK",
          "PHC CLEANER",
          "PRY SCHOOL TEACHER",
          "ADMINISTRATIVE & RELATED ASSOCIATED PROF",
          "PRIMARY EDUCATION TEACHING PROFESSIONAL",
          "ADMINISTRATIVE STAFF",
          "PRIMARY HEALTH CARE",
          "PRIMARY EDUCATION",
          "ROAD ENGINEER",
          "CLEARICAL ASSISTANT (HOUSING)",
          "PRINCIPAL SECONDARY EDUCATION",
          "ADULT EDUCATION",
          "STOREKEEPER",
          "RESEARCH INSTITUTE",
          "EVIROMENTAL PROTECTION STAFF",
          "LECTURER AT COLLEGE OF EDUCATION",
          "NURSE IN GOVT HOSPITAL",
          "TEACHING SECONDARY SCH",
          "HEALTH SUPRINTENDENT",
          "VETENAIRY SUPRINTENDENT",
          "SUPERVISORN SECONDRY EDUCATION B",
          "ROAD CONSTRUCTION HEAD MAN",
          "MTEL CLERK",
          "SECONDARY TEACHER",
          "ADMIN STAFF",
          "EDUCATION",
          "PUBLIC OFFICE ASSISTANT",
          "SALES PERSON",
          "NIGHT SECURITY",
          "ENGINEERING WORK IN AJAH",
          "ELECTRICIAN IN OIL COMPANY",
          "TIMBER OPERATOR",
          "COMPANY WORKER IN PLASTIC PRODUCTION",
          "DAY CARE IN THE SCHOOL",
          "GENERAL PRIVATE HOUSE HELP",
          "CLERCK IN LAWYER OFFICE",
          "CUSTOMARY COURT JUDGE",
          "TEACHING PRIVATE NURSE PRIMARY SCHOOL",
          "ADMINISTRATIVE DUTIES",
          "SECURITY OFFICER IN A PRIVATE COMPANY",
          "OFFICE CLEANING",
          "NURSING MEDICAL LABORATORY",
          "MEDICAL LABORATORY",
          "MARKETER N FINANCE HOUSE",
          "TEACHING PRY & NUR",
          "CLERICAL OFFICER AT L.G.",
          "DAILY BRICKLAYING ACTIVITIES",
          "WOOD FETCHING FOR SALE",
          "CHEMICAL ANALYSIS IN A COMPANY",
          "ADMINISTRATOR IN AN AUDITING FIRM",
          "ADMINISTRATOR IN A MARINE TIME INDUSTRY",
          "UNIVERSITY HALL PORTER",
          "ENGINEERING",
          "FARM LABOURES",
          "LABORE IN OIL PALM FACTORY",
          "LABOURER IN PALM OIL PROCESSING FACTORY",
          "GUARD SECURITY IN SEC SCHOOL",
          "HOTEL ASSISTANT",
          "COCOA WEIGHING",
          "DRIVER COMMERCIAL",
          "COOKING",
          "SECURITY IN PRIVATE ORGANIZATION",
          "NURSE IN PRIVATE HOSPITAL",
          "SALES CLERK IN PRIVATE OIL SHOP",
          "NURSE INPRIVATE HOSPITAL",
          "SHOP SALES GIRL INN COSTMETICS",
          "LABOURER ON ANOTHER HH FARM",
          "ROOFING OF ALL KIND OF BUILDING",
          "TEACHING IN GOV SECONDARY SCHOOL",
          "SALES CLERK IN BOUTIQUE SHOP",
          "PRIVATE GUARD AT THE OSUN STATE POLY IRE",
          "PLANT  OPERATOR",
          "BUILDING OF HOUSE{BRICKLAYER)",
          "STATISTICAL EXT OFFICER IN LOCAL GOVT",
          "TEACHING IN GOV PRY SCHOOL",
          "FARMING LABOURER",
          "TOWN PLANNING",
          "PRIMARY SCH TEACHER(ASSIST.HEADMASTER)",
          "POULTRY ASSISTANT",
          "POUTRY ASSISTANT",
          "PETROL ATTENDANCE",
          "TEACHER-PRIVATE-NURSARY & PRIMARY",
          "ASSISTANCE NURSING IN ORIVATE HOSPITAL",
          "CATERING IN GOVT. PRIMARY SCHOOL",
          "CAPENTARY IN LOCAL GOV. WORK DEPARTMENT",
          "PALM KERNEL PROCESSING",
          "HEALTH TEACHER",
          "LOCAL GOVERNMENT DRIVER",
          "SECONDARY EDUCATION TEACHING PROFESSIONA",
          "ACCOUNTANTS",
          "WEMA BANK SECURITY",
          "MOTOR DRIVER AT FAN MILK ELEYELE",
          "SECURITY OFFICER",
          "NTA NETWORK",
          "PUBLIC SERVANT",
          "TEACHER IN SECONDARY SCHOOL",
          "PRINCIPAL EXECUTIVE OFFICER",
          "PURCHASING & SUPPLY OFFICER",
          "ASSISTANT DIRECTOR",
          "RESEARCHER",
          "MARKET RESEARCH SUPERVISOR",
          "FARM MAINTAINANCE",
          "PRIMARY TEACHING PROFESSIONAL",
          "BLOCK MAKING MACHINE OPERATOR",
          "PHARMACEUTICAL ASSISTANT",
          "TEACHING PROFESSIONAL",
          "LABORATARY TECHNICIAN",
          "NIGHT GUARD",
          "SECURITY AT HILLCREST",
          "STREET CLEANER",
          "SHOP SELLER",
          "SECURITY AT CHRISTAIN PILGRIMS WELFARE B",
          "BAKERY WORKER",
          "HAIR SALOON APPRETICE",
          "DOMESTIC WORKER",
          "PAINTER AND DECORATIONS",
          "POLITICIAN JOS NORTH",
          "COOK FOR AN INDIVIDUAL",
          "CLARICAL WORK WITH UAC JOS",
          "CASHIER FINANCE",
          "GENERAL AGRIC",
          "FARMING",
          "CARPENTRY WORK",
          "CLEANER W JUTH(CONTRACK)",
          "CLEANER FED AIRPORT AUTHORITY",
          "ELECTRICAL WORK",
          "CAR WASH",
          "EDUCATION (ZONAL OFFICER)",
          "FINANCE",
          "ADMIN",
          "COOKED",
          "LECTURER IN RIV POLY TEC",
          "SECURITIES, FINANCE DEALERS & BROKERS",
          "ACCOUNTANT IN PARASTATAL",
          "SENIOR ACCOUNTANT",
          "AMBULANCE DRIVER",
          "X-RAY OFFICER",
          "PASTOR IN A CHURCH",
          "LABOURAR CONTRACTOR AND EQUIPMENT",
          "TEACHER IN SCHOOL",
          "LAUNDRY",
          "SAND BLASTER",
          "WAITER",
          "GARDENER IN LOCAL GOVT",
          "CLEANER IN LGA",
          "HAND PACKERS AND OTHER MANUFACTURING LAB",
          "MOTOR MECHENIC",
          "DRIVER FORK LIFTER INTELL COMP",
          "CLERK OF MINISTRY OF TRANSPORT",
          "CLERICAL OFFICER IN LOCAL GOVT",
          "CART TAXI AND VAN DRIVER",
          "PLUMBER AND PIPE FITTERS",
          "ELECTRICAL ENGINEERING TECHNICIAN",
          "ASSEMBLING LABOURER",
          "ADMINISTRATIVE & RELATED ASSOCIATE PROF",
          "CRANE, HOIST& RELATED EQUIPMENT OPERATOR",
          "PLUMBERS & PIPE FITTERS",
          "WELKDING",
          "TEACHER IN A SECONDARY SCHOOL",
          "FUEL STATION MACHINE OPERATOR",
          "COMMISSIONER POLICE OFFICERS & DETECTIVE",
          "CIVIL ENGINEERING",
          "POLICE OFFICERS",
          "TAX COLLECTOR",
          "PLUMBER",
          "BUILDING FACILITY SUPERVISOR",
          "ENTERTAINMENT BUSINESS",
          "AST SUPRETENDENT OF POLICE  ASP",
          "COMPUTER ASSISTANT",
          "COLD ROOM ATTENDANT",
          "GARBAGE COLLECTORS",
          "BAKER",
          "TRANSPORT CLERKS",
          "MAIDEN NURSE",
          "MESSENGERS/CLEANERS",
          "CLEANER IN OFFICES",
          "BOAT DRIVER",
          "DISTRIBUTION SUPERVISOR",
          "VOCATIONAL TECHNICAL INSTRUCTOR",
          "ADMINISTRATIVE CLERICS",
          "NURSE FED MIN OF HEALTH",
          "ADMINISTRATION STAFF",
          "NURSERY",
          "PUBLIC DRIVER",
          "TEACHER(JUNIOR PRIMARY SCHOOL)",
          "SALES OF AKARA",
          "POLITICIAN",
          "CRANE OPERATOR",
          "WOOD OPERATOR MACHINE",
          "HEAVY TRUCK DRIVERS",
          "TEACHER PROFESSIONALS",
          "CHURCH MINISTER",
          "MOTOR VEHICLE MECHANIC & FITTERS",
          "DRIVER IN NDDC",
          "LAWYWER IN A FIRM",
          "MANUFACTURING LABOUR",
          "PAINTERS AND PAPERHANGERS",
          "SUPERVISOR",
          "MOTOR DRIVER",
          "ENGINEER",
          "NURSING PROFESSIONALS",
          "CLEANERS",
          "TYPIST",
          "HEAD OF LABOURERS",
          "COOKS (CATHERER)",
          "PALACE SECRETARY",
          "SECURITY GLOBAL SERVICE COMPANY",
          "LABOURER BUILDING CONSTRUCTION",
          "DIRECTOR ADMIN",
          "SCONDARY SCHOOL TEACHER",
          "CIVIL SERVANT ACCOUNTANT",
          "TEACHING (PRINCIPAL SECONDARY SCHOOL)",
          "DRIVING (HEAVY TRUCK DRIVER)",
          "CLEANER IN MINISTRY OF AGRICULTURE",
          "AUDITING (AUDITING DEPT)",
          "AUDITING AUDIT DEPARTMENT",
          "TEACHER SECONDARY SCH.",
          "EDUCATION OFFICER (CIVIL SERVANT)",
          "SECURITY SERVICES (GUARD MAN)",
          "EVANGELIST",
          "ADULT EDUCATION SUPERVISOR",
          "DEPUTY DIRECTOR DEPT OF FISHERIES",
          "MINISTRY OF AGRIC(INUCULATOR)",
          "HEALTH PROFESSIONAL(NURSE)",
          "AUDITOR (ACCOUNTDEPT)",
          "HOSPITAL CLEANER/ATTENDANT",
          "CIVIL SERVANT(PERSONEL)",
          "CLERICAL OFFICER ADMIN",
          "LOCAL GOVT CHAIRMAN KARIM LGA",
          "TRADER (PROVISION STORE)",
          "TRADER(PROVISION STORE)",
          "DAY AND NAIGHT WATCH MAN",
          "BUYING & SELLING",
          "BUYING/ SELLING",
          "LORRY CONDUCTOR",
          "DIGGING A WELL",
          "MAT WEAVING",
          "LABORATORY ATTENDANCE (SCHOOL)",
          "CARE AND MONITORING OF FORESTRY PLANT",
          "GENERAL CLEANING DUTIES",
          "CUSTODIAN OF IN OUT MOVEMENT OFFICE FILE",
          "PASTORING ACTIVITIES IN COCIN CHURCH",
          "POWER PLANT OPERATING DUTY",
          "CUSTODIAN OF PRISON INMATE",
          "TEACHING IN AN ISLAMIC SCHOOL",
          "SECONDARY SCHOOL COOK",
          "CLEANER IN THE PRIMARY SCHOOL",
          "MASS LTERACY(CLERICAL ASSISTANT)",
          "CROP FARMING",
          "ACOUNTING DUTIES",
          "PRIMARY CLASS ROOM TEACHER",
          "HOSPITAL WARD ATTENDANCE DUTIES",
          "PRIMARY CLASS ROOM SCHOOL TEACHER",
          "LGA WATER ENGINE OPERATOR",
          "PLUMBER AND PIPE FILTERS",
          "TAILOR AND RELATED WORKER",
          "FARMING MIXED CROP GROWERS",
          "BUILDING CONSTRACTION(MESSING)",
          "DESIGN BUILDING ENGINEER",
          "MINISTRY OF POLICE AFFAIRS (ACCOUNT)",
          "FAAN (OPERATIONS)",
          "STORE KEEPER(AEDC)",
          "ENGINEERING DESIGNER & EVALUATION",
          "ROAD SAFETY",
          "MOTOR DEALER (BUYING & SELLING)",
          "BARBER",
          "MAINTENANCE OFFICER(NASS)",
          "CLERICAL OFFICER (FCDA SOCIAL DEV.)",
          "COMMERCIAL DEPT (FAAN)",
          "ELECTRICAL ENGINEER",
          "DANTATA (LABOURER)",
          "HOTEL ATTENDANT",
          "SHARIA COURT OF APPEA; (REGISTRAR)",
          "SECURITY(HIGHCOURT)",
          "JOURNALIST",
          "NATIONAL BOUNDARY COMMISSION SECRETARY",
          "CONFIDENTIAL SECREETARY",
          "ELECTRICITYB & COMMUNICATION ENG",
          "ADMIN & HUMAN RESOURCES",
          "MARKETER",
          "DANTATA AND CO (CHIEF SECURITY OFFICER)",
          "MANAGER( BLOCK INDUSTR)"
         ],
         "categoryorder": "array",
         "domain": [
          0,
          1
         ],
         "title": {
          "text": "labour_type"
         }
        },
        "yaxis": {
         "anchor": "x",
         "domain": [
          0,
          1
         ],
         "title": {
          "text": "Income_dist"
         }
        }
       }
      }
     },
     "metadata": {},
     "output_type": "display_data"
    }
   ],
   "source": [
    "fig3=px.bar(LSMS2_df,\n",
    "       x='labour_type',\n",
    "       y='Income_dist',\n",
    "       color='labour_type',\n",
    "       #opacity=0.9,\n",
    "       #orientation='v',\n",
    "       barmode='relative',\n",
    "       hover_name='Income_dist',\n",
    "       template='plotly_dark',\n",
    "       #animation_frame='labour_type',\n",
    "       #title=f'Graph of {labour_selected}'\n",
    "                )\n",
    "fig3"
   ]
  },
  {
   "cell_type": "code",
   "execution_count": 17,
   "metadata": {},
   "outputs": [
    {
     "data": {
      "text/plain": [
       "labour_type\n",
       "(BRT BUS) SUPERVISOR                       65000.0\n",
       "(CLERK) MINISTRY OF EDUCATION              33200.0\n",
       "(PASTOR) RELIGION PROFFESSIONALS           50000.0\n",
       "(SALE'S GIRL) RESTAURANT                    5000.0\n",
       "A COMMUNITY POLICE                         10000.0\n",
       "                                            ...   \n",
       "WORK FOR PLASTIC COMPANY                   10000.0\n",
       "WORK IN PRISON (WARDER)                   120000.0\n",
       "WORKIING AT PHCN OFFICE AT MALUFASHI       35000.0\n",
       "WORKING AS A DRIVER IN A TRANSPORT COY     35000.0\n",
       "X-RAY OFFICER                              65000.0\n",
       "Name: Income_dist, Length: 870, dtype: float64"
      ]
     },
     "execution_count": 17,
     "metadata": {},
     "output_type": "execute_result"
    }
   ],
   "source": [
    "dff=LSMS2_df.groupby(['labour_type'])['Income_dist'].mean()\n",
    "dff"
   ]
  },
  {
   "cell_type": "code",
   "execution_count": 18,
   "metadata": {},
   "outputs": [],
   "source": [
    "dff=LSMS2_df[['state_name','labour_type','Income_dist']]"
   ]
  },
  {
   "cell_type": "code",
   "execution_count": 19,
   "metadata": {},
   "outputs": [
    {
     "data": {
      "text/html": [
       "<div>\n",
       "<style scoped>\n",
       "    .dataframe tbody tr th:only-of-type {\n",
       "        vertical-align: middle;\n",
       "    }\n",
       "\n",
       "    .dataframe tbody tr th {\n",
       "        vertical-align: top;\n",
       "    }\n",
       "\n",
       "    .dataframe thead th {\n",
       "        text-align: right;\n",
       "    }\n",
       "</style>\n",
       "<table border=\"1\" class=\"dataframe\">\n",
       "  <thead>\n",
       "    <tr style=\"text-align: right;\">\n",
       "      <th></th>\n",
       "      <th>zone</th>\n",
       "      <th>state</th>\n",
       "      <th>lga</th>\n",
       "      <th>sector</th>\n",
       "      <th>ea</th>\n",
       "      <th>hhid</th>\n",
       "      <th>item_cd</th>\n",
       "      <th>item_desc</th>\n",
       "      <th>purchase</th>\n",
       "      <th>expenditure</th>\n",
       "      <th>state_name</th>\n",
       "    </tr>\n",
       "  </thead>\n",
       "  <tbody>\n",
       "    <tr>\n",
       "      <th>0</th>\n",
       "      <td>4</td>\n",
       "      <td>1</td>\n",
       "      <td>115</td>\n",
       "      <td>1</td>\n",
       "      <td>670</td>\n",
       "      <td>10001</td>\n",
       "      <td>301</td>\n",
       "      <td>KEROSENE</td>\n",
       "      <td>1.0</td>\n",
       "      <td>750.0</td>\n",
       "      <td>Abia</td>\n",
       "    </tr>\n",
       "    <tr>\n",
       "      <th>4</th>\n",
       "      <td>4</td>\n",
       "      <td>1</td>\n",
       "      <td>115</td>\n",
       "      <td>1</td>\n",
       "      <td>670</td>\n",
       "      <td>10001</td>\n",
       "      <td>305</td>\n",
       "      <td>ELECTRICITY</td>\n",
       "      <td>1.0</td>\n",
       "      <td>3500.0</td>\n",
       "      <td>Abia</td>\n",
       "    </tr>\n",
       "    <tr>\n",
       "      <th>30</th>\n",
       "      <td>4</td>\n",
       "      <td>1</td>\n",
       "      <td>115</td>\n",
       "      <td>1</td>\n",
       "      <td>670</td>\n",
       "      <td>10002</td>\n",
       "      <td>301</td>\n",
       "      <td>KEROSENE</td>\n",
       "      <td>1.0</td>\n",
       "      <td>750.0</td>\n",
       "      <td>Abia</td>\n",
       "    </tr>\n",
       "    <tr>\n",
       "      <th>34</th>\n",
       "      <td>4</td>\n",
       "      <td>1</td>\n",
       "      <td>115</td>\n",
       "      <td>1</td>\n",
       "      <td>670</td>\n",
       "      <td>10002</td>\n",
       "      <td>305</td>\n",
       "      <td>ELECTRICITY</td>\n",
       "      <td>1.0</td>\n",
       "      <td>5000.0</td>\n",
       "      <td>Abia</td>\n",
       "    </tr>\n",
       "    <tr>\n",
       "      <th>38</th>\n",
       "      <td>4</td>\n",
       "      <td>1</td>\n",
       "      <td>115</td>\n",
       "      <td>1</td>\n",
       "      <td>670</td>\n",
       "      <td>10002</td>\n",
       "      <td>309</td>\n",
       "      <td>PETROL</td>\n",
       "      <td>1.0</td>\n",
       "      <td>15000.0</td>\n",
       "      <td>Abia</td>\n",
       "    </tr>\n",
       "    <tr>\n",
       "      <th>...</th>\n",
       "      <td>...</td>\n",
       "      <td>...</td>\n",
       "      <td>...</td>\n",
       "      <td>...</td>\n",
       "      <td>...</td>\n",
       "      <td>...</td>\n",
       "      <td>...</td>\n",
       "      <td>...</td>\n",
       "      <td>...</td>\n",
       "      <td>...</td>\n",
       "      <td>...</td>\n",
       "    </tr>\n",
       "    <tr>\n",
       "      <th>137138</th>\n",
       "      <td>1</td>\n",
       "      <td>37</td>\n",
       "      <td>3702</td>\n",
       "      <td>1</td>\n",
       "      <td>972</td>\n",
       "      <td>370030</td>\n",
       "      <td>309</td>\n",
       "      <td>PETROL</td>\n",
       "      <td>1.0</td>\n",
       "      <td>20000.0</td>\n",
       "      <td>FCT Abuja</td>\n",
       "    </tr>\n",
       "    <tr>\n",
       "      <th>137198</th>\n",
       "      <td>1</td>\n",
       "      <td>37</td>\n",
       "      <td>3706</td>\n",
       "      <td>2</td>\n",
       "      <td>6</td>\n",
       "      <td>370032</td>\n",
       "      <td>309</td>\n",
       "      <td>PETROL</td>\n",
       "      <td>1.0</td>\n",
       "      <td>2000.0</td>\n",
       "      <td>FCT Abuja</td>\n",
       "    </tr>\n",
       "    <tr>\n",
       "      <th>137288</th>\n",
       "      <td>1</td>\n",
       "      <td>37</td>\n",
       "      <td>3706</td>\n",
       "      <td>2</td>\n",
       "      <td>6</td>\n",
       "      <td>370035</td>\n",
       "      <td>309</td>\n",
       "      <td>PETROL</td>\n",
       "      <td>1.0</td>\n",
       "      <td>1600.0</td>\n",
       "      <td>FCT Abuja</td>\n",
       "    </tr>\n",
       "    <tr>\n",
       "      <th>137408</th>\n",
       "      <td>1</td>\n",
       "      <td>37</td>\n",
       "      <td>3706</td>\n",
       "      <td>2</td>\n",
       "      <td>6</td>\n",
       "      <td>370039</td>\n",
       "      <td>309</td>\n",
       "      <td>PETROL</td>\n",
       "      <td>1.0</td>\n",
       "      <td>10000.0</td>\n",
       "      <td>FCT Abuja</td>\n",
       "    </tr>\n",
       "    <tr>\n",
       "      <th>137438</th>\n",
       "      <td>1</td>\n",
       "      <td>37</td>\n",
       "      <td>3706</td>\n",
       "      <td>2</td>\n",
       "      <td>6</td>\n",
       "      <td>370040</td>\n",
       "      <td>309</td>\n",
       "      <td>PETROL</td>\n",
       "      <td>1.0</td>\n",
       "      <td>1200.0</td>\n",
       "      <td>FCT Abuja</td>\n",
       "    </tr>\n",
       "  </tbody>\n",
       "</table>\n",
       "<p>6491 rows × 11 columns</p>\n",
       "</div>"
      ],
      "text/plain": [
       "        zone  state   lga  sector   ea    hhid  item_cd    item_desc  \\\n",
       "0          4      1   115       1  670   10001      301     KEROSENE   \n",
       "4          4      1   115       1  670   10001      305  ELECTRICITY   \n",
       "30         4      1   115       1  670   10002      301     KEROSENE   \n",
       "34         4      1   115       1  670   10002      305  ELECTRICITY   \n",
       "38         4      1   115       1  670   10002      309       PETROL   \n",
       "...      ...    ...   ...     ...  ...     ...      ...          ...   \n",
       "137138     1     37  3702       1  972  370030      309       PETROL   \n",
       "137198     1     37  3706       2    6  370032      309       PETROL   \n",
       "137288     1     37  3706       2    6  370035      309       PETROL   \n",
       "137408     1     37  3706       2    6  370039      309       PETROL   \n",
       "137438     1     37  3706       2    6  370040      309       PETROL   \n",
       "\n",
       "        purchase  expenditure state_name  \n",
       "0            1.0        750.0       Abia  \n",
       "4            1.0       3500.0       Abia  \n",
       "30           1.0        750.0       Abia  \n",
       "34           1.0       5000.0       Abia  \n",
       "38           1.0      15000.0       Abia  \n",
       "...          ...          ...        ...  \n",
       "137138       1.0      20000.0  FCT Abuja  \n",
       "137198       1.0       2000.0  FCT Abuja  \n",
       "137288       1.0       1600.0  FCT Abuja  \n",
       "137408       1.0      10000.0  FCT Abuja  \n",
       "137438       1.0       1200.0  FCT Abuja  \n",
       "\n",
       "[6491 rows x 11 columns]"
      ]
     },
     "execution_count": 19,
     "metadata": {},
     "output_type": "execute_result"
    }
   ],
   "source": [
    "LSMS_df"
   ]
  },
  {
   "cell_type": "code",
   "execution_count": 20,
   "metadata": {},
   "outputs": [
    {
     "data": {
      "text/html": [
       "<div>\n",
       "<style scoped>\n",
       "    .dataframe tbody tr th:only-of-type {\n",
       "        vertical-align: middle;\n",
       "    }\n",
       "\n",
       "    .dataframe tbody tr th {\n",
       "        vertical-align: top;\n",
       "    }\n",
       "\n",
       "    .dataframe thead th {\n",
       "        text-align: right;\n",
       "    }\n",
       "</style>\n",
       "<table border=\"1\" class=\"dataframe\">\n",
       "  <thead>\n",
       "    <tr style=\"text-align: right;\">\n",
       "      <th></th>\n",
       "      <th>zone</th>\n",
       "      <th>state</th>\n",
       "      <th>lga</th>\n",
       "      <th>sector</th>\n",
       "      <th>ea</th>\n",
       "      <th>hhid</th>\n",
       "      <th>item_cd</th>\n",
       "      <th>item_desc</th>\n",
       "      <th>purchase</th>\n",
       "      <th>expenditure</th>\n",
       "      <th>state_name</th>\n",
       "    </tr>\n",
       "  </thead>\n",
       "  <tbody>\n",
       "    <tr>\n",
       "      <th>0</th>\n",
       "      <td>4</td>\n",
       "      <td>1</td>\n",
       "      <td>115</td>\n",
       "      <td>1</td>\n",
       "      <td>670</td>\n",
       "      <td>10001</td>\n",
       "      <td>301</td>\n",
       "      <td>KEROSENE</td>\n",
       "      <td>1.0</td>\n",
       "      <td>750.0</td>\n",
       "      <td>Abia</td>\n",
       "    </tr>\n",
       "    <tr>\n",
       "      <th>4</th>\n",
       "      <td>4</td>\n",
       "      <td>1</td>\n",
       "      <td>115</td>\n",
       "      <td>1</td>\n",
       "      <td>670</td>\n",
       "      <td>10001</td>\n",
       "      <td>305</td>\n",
       "      <td>ELECTRICITY</td>\n",
       "      <td>1.0</td>\n",
       "      <td>3500.0</td>\n",
       "      <td>Abia</td>\n",
       "    </tr>\n",
       "    <tr>\n",
       "      <th>30</th>\n",
       "      <td>4</td>\n",
       "      <td>1</td>\n",
       "      <td>115</td>\n",
       "      <td>1</td>\n",
       "      <td>670</td>\n",
       "      <td>10002</td>\n",
       "      <td>301</td>\n",
       "      <td>KEROSENE</td>\n",
       "      <td>1.0</td>\n",
       "      <td>750.0</td>\n",
       "      <td>Abia</td>\n",
       "    </tr>\n",
       "    <tr>\n",
       "      <th>34</th>\n",
       "      <td>4</td>\n",
       "      <td>1</td>\n",
       "      <td>115</td>\n",
       "      <td>1</td>\n",
       "      <td>670</td>\n",
       "      <td>10002</td>\n",
       "      <td>305</td>\n",
       "      <td>ELECTRICITY</td>\n",
       "      <td>1.0</td>\n",
       "      <td>5000.0</td>\n",
       "      <td>Abia</td>\n",
       "    </tr>\n",
       "    <tr>\n",
       "      <th>38</th>\n",
       "      <td>4</td>\n",
       "      <td>1</td>\n",
       "      <td>115</td>\n",
       "      <td>1</td>\n",
       "      <td>670</td>\n",
       "      <td>10002</td>\n",
       "      <td>309</td>\n",
       "      <td>PETROL</td>\n",
       "      <td>1.0</td>\n",
       "      <td>15000.0</td>\n",
       "      <td>Abia</td>\n",
       "    </tr>\n",
       "    <tr>\n",
       "      <th>...</th>\n",
       "      <td>...</td>\n",
       "      <td>...</td>\n",
       "      <td>...</td>\n",
       "      <td>...</td>\n",
       "      <td>...</td>\n",
       "      <td>...</td>\n",
       "      <td>...</td>\n",
       "      <td>...</td>\n",
       "      <td>...</td>\n",
       "      <td>...</td>\n",
       "      <td>...</td>\n",
       "    </tr>\n",
       "    <tr>\n",
       "      <th>137138</th>\n",
       "      <td>1</td>\n",
       "      <td>37</td>\n",
       "      <td>3702</td>\n",
       "      <td>1</td>\n",
       "      <td>972</td>\n",
       "      <td>370030</td>\n",
       "      <td>309</td>\n",
       "      <td>PETROL</td>\n",
       "      <td>1.0</td>\n",
       "      <td>20000.0</td>\n",
       "      <td>FCT Abuja</td>\n",
       "    </tr>\n",
       "    <tr>\n",
       "      <th>137198</th>\n",
       "      <td>1</td>\n",
       "      <td>37</td>\n",
       "      <td>3706</td>\n",
       "      <td>2</td>\n",
       "      <td>6</td>\n",
       "      <td>370032</td>\n",
       "      <td>309</td>\n",
       "      <td>PETROL</td>\n",
       "      <td>1.0</td>\n",
       "      <td>2000.0</td>\n",
       "      <td>FCT Abuja</td>\n",
       "    </tr>\n",
       "    <tr>\n",
       "      <th>137288</th>\n",
       "      <td>1</td>\n",
       "      <td>37</td>\n",
       "      <td>3706</td>\n",
       "      <td>2</td>\n",
       "      <td>6</td>\n",
       "      <td>370035</td>\n",
       "      <td>309</td>\n",
       "      <td>PETROL</td>\n",
       "      <td>1.0</td>\n",
       "      <td>1600.0</td>\n",
       "      <td>FCT Abuja</td>\n",
       "    </tr>\n",
       "    <tr>\n",
       "      <th>137408</th>\n",
       "      <td>1</td>\n",
       "      <td>37</td>\n",
       "      <td>3706</td>\n",
       "      <td>2</td>\n",
       "      <td>6</td>\n",
       "      <td>370039</td>\n",
       "      <td>309</td>\n",
       "      <td>PETROL</td>\n",
       "      <td>1.0</td>\n",
       "      <td>10000.0</td>\n",
       "      <td>FCT Abuja</td>\n",
       "    </tr>\n",
       "    <tr>\n",
       "      <th>137438</th>\n",
       "      <td>1</td>\n",
       "      <td>37</td>\n",
       "      <td>3706</td>\n",
       "      <td>2</td>\n",
       "      <td>6</td>\n",
       "      <td>370040</td>\n",
       "      <td>309</td>\n",
       "      <td>PETROL</td>\n",
       "      <td>1.0</td>\n",
       "      <td>1200.0</td>\n",
       "      <td>FCT Abuja</td>\n",
       "    </tr>\n",
       "  </tbody>\n",
       "</table>\n",
       "<p>6491 rows × 11 columns</p>\n",
       "</div>"
      ],
      "text/plain": [
       "        zone  state   lga  sector   ea    hhid  item_cd    item_desc  \\\n",
       "0          4      1   115       1  670   10001      301     KEROSENE   \n",
       "4          4      1   115       1  670   10001      305  ELECTRICITY   \n",
       "30         4      1   115       1  670   10002      301     KEROSENE   \n",
       "34         4      1   115       1  670   10002      305  ELECTRICITY   \n",
       "38         4      1   115       1  670   10002      309       PETROL   \n",
       "...      ...    ...   ...     ...  ...     ...      ...          ...   \n",
       "137138     1     37  3702       1  972  370030      309       PETROL   \n",
       "137198     1     37  3706       2    6  370032      309       PETROL   \n",
       "137288     1     37  3706       2    6  370035      309       PETROL   \n",
       "137408     1     37  3706       2    6  370039      309       PETROL   \n",
       "137438     1     37  3706       2    6  370040      309       PETROL   \n",
       "\n",
       "        purchase  expenditure state_name  \n",
       "0            1.0        750.0       Abia  \n",
       "4            1.0       3500.0       Abia  \n",
       "30           1.0        750.0       Abia  \n",
       "34           1.0       5000.0       Abia  \n",
       "38           1.0      15000.0       Abia  \n",
       "...          ...          ...        ...  \n",
       "137138       1.0      20000.0  FCT Abuja  \n",
       "137198       1.0       2000.0  FCT Abuja  \n",
       "137288       1.0       1600.0  FCT Abuja  \n",
       "137408       1.0      10000.0  FCT Abuja  \n",
       "137438       1.0       1200.0  FCT Abuja  \n",
       "\n",
       "[6491 rows x 11 columns]"
      ]
     },
     "execution_count": 20,
     "metadata": {},
     "output_type": "execute_result"
    }
   ],
   "source": [
    "Purchased=LSMS_df[LSMS_df['purchase']==1]\n",
    "Purchased"
   ]
  },
  {
   "cell_type": "code",
   "execution_count": 21,
   "metadata": {},
   "outputs": [
    {
     "name": "stderr",
     "output_type": "stream",
     "text": [
      "C:\\Users\\flavi\\AppData\\Local\\Packages\\PythonSoftwareFoundation.Python.3.10_qbz5n2kfra8p0\\LocalCache\\local-packages\\Python310\\site-packages\\pipda\\function.py:147: FutureWarning:\n",
      "\n",
      "In a future version of pandas all arguments of Series.drop except for the argument 'labels' will be keyword-only.\n",
      "\n"
     ]
    },
    {
     "data": {
      "text/html": [
       "<div>\n",
       "<style scoped>\n",
       "    .dataframe tbody tr th:only-of-type {\n",
       "        vertical-align: middle;\n",
       "    }\n",
       "\n",
       "    .dataframe tbody tr th {\n",
       "        vertical-align: top;\n",
       "    }\n",
       "\n",
       "    .dataframe thead th {\n",
       "        text-align: right;\n",
       "    }\n",
       "</style>\n",
       "<table border=\"1\" class=\"dataframe\">\n",
       "  <thead>\n",
       "    <tr style=\"text-align: right;\">\n",
       "      <th></th>\n",
       "      <th>zone</th>\n",
       "      <th>state</th>\n",
       "      <th>lga</th>\n",
       "      <th>sector</th>\n",
       "      <th>ea</th>\n",
       "      <th>hhid</th>\n",
       "      <th>item_cd</th>\n",
       "      <th>item_desc</th>\n",
       "      <th>purchase</th>\n",
       "      <th>expenditure</th>\n",
       "      <th>state_name</th>\n",
       "      <th>Items</th>\n",
       "    </tr>\n",
       "  </thead>\n",
       "  <tbody>\n",
       "    <tr>\n",
       "      <th>0</th>\n",
       "      <td>4</td>\n",
       "      <td>1</td>\n",
       "      <td>115</td>\n",
       "      <td>1</td>\n",
       "      <td>670</td>\n",
       "      <td>10001</td>\n",
       "      <td>301</td>\n",
       "      <td>KEROSENE</td>\n",
       "      <td>1.0</td>\n",
       "      <td>750.0</td>\n",
       "      <td>Abia</td>\n",
       "      <td>purchased</td>\n",
       "    </tr>\n",
       "    <tr>\n",
       "      <th>4</th>\n",
       "      <td>4</td>\n",
       "      <td>1</td>\n",
       "      <td>115</td>\n",
       "      <td>1</td>\n",
       "      <td>670</td>\n",
       "      <td>10001</td>\n",
       "      <td>305</td>\n",
       "      <td>ELECTRICITY</td>\n",
       "      <td>1.0</td>\n",
       "      <td>3500.0</td>\n",
       "      <td>Abia</td>\n",
       "      <td>purchased</td>\n",
       "    </tr>\n",
       "    <tr>\n",
       "      <th>30</th>\n",
       "      <td>4</td>\n",
       "      <td>1</td>\n",
       "      <td>115</td>\n",
       "      <td>1</td>\n",
       "      <td>670</td>\n",
       "      <td>10002</td>\n",
       "      <td>301</td>\n",
       "      <td>KEROSENE</td>\n",
       "      <td>1.0</td>\n",
       "      <td>750.0</td>\n",
       "      <td>Abia</td>\n",
       "      <td>purchased</td>\n",
       "    </tr>\n",
       "    <tr>\n",
       "      <th>34</th>\n",
       "      <td>4</td>\n",
       "      <td>1</td>\n",
       "      <td>115</td>\n",
       "      <td>1</td>\n",
       "      <td>670</td>\n",
       "      <td>10002</td>\n",
       "      <td>305</td>\n",
       "      <td>ELECTRICITY</td>\n",
       "      <td>1.0</td>\n",
       "      <td>5000.0</td>\n",
       "      <td>Abia</td>\n",
       "      <td>purchased</td>\n",
       "    </tr>\n",
       "    <tr>\n",
       "      <th>38</th>\n",
       "      <td>4</td>\n",
       "      <td>1</td>\n",
       "      <td>115</td>\n",
       "      <td>1</td>\n",
       "      <td>670</td>\n",
       "      <td>10002</td>\n",
       "      <td>309</td>\n",
       "      <td>PETROL</td>\n",
       "      <td>1.0</td>\n",
       "      <td>15000.0</td>\n",
       "      <td>Abia</td>\n",
       "      <td>purchased</td>\n",
       "    </tr>\n",
       "    <tr>\n",
       "      <th>...</th>\n",
       "      <td>...</td>\n",
       "      <td>...</td>\n",
       "      <td>...</td>\n",
       "      <td>...</td>\n",
       "      <td>...</td>\n",
       "      <td>...</td>\n",
       "      <td>...</td>\n",
       "      <td>...</td>\n",
       "      <td>...</td>\n",
       "      <td>...</td>\n",
       "      <td>...</td>\n",
       "      <td>...</td>\n",
       "    </tr>\n",
       "    <tr>\n",
       "      <th>137138</th>\n",
       "      <td>1</td>\n",
       "      <td>37</td>\n",
       "      <td>3702</td>\n",
       "      <td>1</td>\n",
       "      <td>972</td>\n",
       "      <td>370030</td>\n",
       "      <td>309</td>\n",
       "      <td>PETROL</td>\n",
       "      <td>1.0</td>\n",
       "      <td>20000.0</td>\n",
       "      <td>FCT Abuja</td>\n",
       "      <td>purchased</td>\n",
       "    </tr>\n",
       "    <tr>\n",
       "      <th>137198</th>\n",
       "      <td>1</td>\n",
       "      <td>37</td>\n",
       "      <td>3706</td>\n",
       "      <td>2</td>\n",
       "      <td>6</td>\n",
       "      <td>370032</td>\n",
       "      <td>309</td>\n",
       "      <td>PETROL</td>\n",
       "      <td>1.0</td>\n",
       "      <td>2000.0</td>\n",
       "      <td>FCT Abuja</td>\n",
       "      <td>Not purchased</td>\n",
       "    </tr>\n",
       "    <tr>\n",
       "      <th>137288</th>\n",
       "      <td>1</td>\n",
       "      <td>37</td>\n",
       "      <td>3706</td>\n",
       "      <td>2</td>\n",
       "      <td>6</td>\n",
       "      <td>370035</td>\n",
       "      <td>309</td>\n",
       "      <td>PETROL</td>\n",
       "      <td>1.0</td>\n",
       "      <td>1600.0</td>\n",
       "      <td>FCT Abuja</td>\n",
       "      <td>Not purchased</td>\n",
       "    </tr>\n",
       "    <tr>\n",
       "      <th>137408</th>\n",
       "      <td>1</td>\n",
       "      <td>37</td>\n",
       "      <td>3706</td>\n",
       "      <td>2</td>\n",
       "      <td>6</td>\n",
       "      <td>370039</td>\n",
       "      <td>309</td>\n",
       "      <td>PETROL</td>\n",
       "      <td>1.0</td>\n",
       "      <td>10000.0</td>\n",
       "      <td>FCT Abuja</td>\n",
       "      <td>Not purchased</td>\n",
       "    </tr>\n",
       "    <tr>\n",
       "      <th>137438</th>\n",
       "      <td>1</td>\n",
       "      <td>37</td>\n",
       "      <td>3706</td>\n",
       "      <td>2</td>\n",
       "      <td>6</td>\n",
       "      <td>370040</td>\n",
       "      <td>309</td>\n",
       "      <td>PETROL</td>\n",
       "      <td>1.0</td>\n",
       "      <td>1200.0</td>\n",
       "      <td>FCT Abuja</td>\n",
       "      <td>Not purchased</td>\n",
       "    </tr>\n",
       "  </tbody>\n",
       "</table>\n",
       "<p>6491 rows × 12 columns</p>\n",
       "</div>"
      ],
      "text/plain": [
       "        zone  state   lga  sector   ea    hhid  item_cd    item_desc  \\\n",
       "0          4      1   115       1  670   10001      301     KEROSENE   \n",
       "4          4      1   115       1  670   10001      305  ELECTRICITY   \n",
       "30         4      1   115       1  670   10002      301     KEROSENE   \n",
       "34         4      1   115       1  670   10002      305  ELECTRICITY   \n",
       "38         4      1   115       1  670   10002      309       PETROL   \n",
       "...      ...    ...   ...     ...  ...     ...      ...          ...   \n",
       "137138     1     37  3702       1  972  370030      309       PETROL   \n",
       "137198     1     37  3706       2    6  370032      309       PETROL   \n",
       "137288     1     37  3706       2    6  370035      309       PETROL   \n",
       "137408     1     37  3706       2    6  370039      309       PETROL   \n",
       "137438     1     37  3706       2    6  370040      309       PETROL   \n",
       "\n",
       "        purchase  expenditure state_name          Items  \n",
       "0            1.0        750.0       Abia      purchased  \n",
       "4            1.0       3500.0       Abia      purchased  \n",
       "30           1.0        750.0       Abia      purchased  \n",
       "34           1.0       5000.0       Abia      purchased  \n",
       "38           1.0      15000.0       Abia      purchased  \n",
       "...          ...          ...        ...            ...  \n",
       "137138       1.0      20000.0  FCT Abuja      purchased  \n",
       "137198       1.0       2000.0  FCT Abuja  Not purchased  \n",
       "137288       1.0       1600.0  FCT Abuja  Not purchased  \n",
       "137408       1.0      10000.0  FCT Abuja  Not purchased  \n",
       "137438       1.0       1200.0  FCT Abuja  Not purchased  \n",
       "\n",
       "[6491 rows x 12 columns]"
      ]
     },
     "execution_count": 21,
     "metadata": {},
     "output_type": "execute_result"
    }
   ],
   "source": [
    "LSMS1_df = mutate(LSMS_df,Items=case_when(f.sector==1,'purchased', f.sector==2,'Not purchased')\n",
    "                                      .drop(columns='purchase'))\n",
    "LSMS1_df"
   ]
  },
  {
   "cell_type": "code",
   "execution_count": 22,
   "metadata": {},
   "outputs": [
    {
     "data": {
      "text/plain": [
       "state_name  Items          item_desc  \n",
       "Abia        Not purchased  ELECTRICITY    32\n",
       "                           FIREWOOD        2\n",
       "                           KEROSENE       61\n",
       "                           PETROL         12\n",
       "            purchased      CANDLES         1\n",
       "                                          ..\n",
       "Zamfara     purchased      CHARCOAL        1\n",
       "                           ELECTRICITY     2\n",
       "                           FIREWOOD       15\n",
       "                           KEROSENE       14\n",
       "                           PETROL          5\n",
       "Name: expenditure, Length: 417, dtype: int64"
      ]
     },
     "execution_count": 22,
     "metadata": {},
     "output_type": "execute_result"
    }
   ],
   "source": [
    "LSMS1_df.groupby(['state_name','Items','item_desc'])['expenditure'].count()"
   ]
  },
  {
   "cell_type": "code",
   "execution_count": 23,
   "metadata": {},
   "outputs": [],
   "source": [
    "LSMS3 = pd.read_csv(r'C:\\Users\\flavi\\Downloads\\data for practice\\sect4c2_plantiNG.csv')\n",
    "LSMS3.rename(columns={'s4cq6':'credit',},inplace=True)"
   ]
  },
  {
   "cell_type": "code",
   "execution_count": 24,
   "metadata": {},
   "outputs": [
    {
     "data": {
      "text/html": [
       "<div>\n",
       "<style scoped>\n",
       "    .dataframe tbody tr th:only-of-type {\n",
       "        vertical-align: middle;\n",
       "    }\n",
       "\n",
       "    .dataframe tbody tr th {\n",
       "        vertical-align: top;\n",
       "    }\n",
       "\n",
       "    .dataframe thead th {\n",
       "        text-align: right;\n",
       "    }\n",
       "</style>\n",
       "<table border=\"1\" class=\"dataframe\">\n",
       "  <thead>\n",
       "    <tr style=\"text-align: right;\">\n",
       "      <th></th>\n",
       "      <th>zone</th>\n",
       "      <th>state</th>\n",
       "      <th>lga</th>\n",
       "      <th>sector</th>\n",
       "      <th>ea</th>\n",
       "      <th>hhid</th>\n",
       "      <th>lid</th>\n",
       "      <th>s4cq2b</th>\n",
       "      <th>s4cq3a</th>\n",
       "      <th>s4cq3b</th>\n",
       "      <th>...</th>\n",
       "      <th>s4cq4_os</th>\n",
       "      <th>s4cq5</th>\n",
       "      <th>credit</th>\n",
       "      <th>s4cq7</th>\n",
       "      <th>s4cq8</th>\n",
       "      <th>s4cq8b</th>\n",
       "      <th>s4cq9</th>\n",
       "      <th>s4cq10</th>\n",
       "      <th>s4cq10b</th>\n",
       "      <th>s4cq11</th>\n",
       "    </tr>\n",
       "  </thead>\n",
       "  <tbody>\n",
       "    <tr>\n",
       "      <th>0</th>\n",
       "      <td>4</td>\n",
       "      <td>1</td>\n",
       "      <td>115</td>\n",
       "      <td>1</td>\n",
       "      <td>670</td>\n",
       "      <td>10005</td>\n",
       "      <td>1</td>\n",
       "      <td>4.0</td>\n",
       "      <td>1.0</td>\n",
       "      <td>NaN</td>\n",
       "      <td>...</td>\n",
       "      <td>NaN</td>\n",
       "      <td>1</td>\n",
       "      <td>1000000.0</td>\n",
       "      <td>1.0</td>\n",
       "      <td>2.0</td>\n",
       "      <td>2015.0</td>\n",
       "      <td>2.0</td>\n",
       "      <td>3.0</td>\n",
       "      <td>2018.0</td>\n",
       "      <td>1280000.0</td>\n",
       "    </tr>\n",
       "    <tr>\n",
       "      <th>1</th>\n",
       "      <td>4</td>\n",
       "      <td>1</td>\n",
       "      <td>115</td>\n",
       "      <td>1</td>\n",
       "      <td>670</td>\n",
       "      <td>10005</td>\n",
       "      <td>2</td>\n",
       "      <td>6.0</td>\n",
       "      <td>1.0</td>\n",
       "      <td>NaN</td>\n",
       "      <td>...</td>\n",
       "      <td>NaN</td>\n",
       "      <td>1</td>\n",
       "      <td>20000.0</td>\n",
       "      <td>1.0</td>\n",
       "      <td>9.0</td>\n",
       "      <td>2015.0</td>\n",
       "      <td>2.0</td>\n",
       "      <td>9.0</td>\n",
       "      <td>2015.0</td>\n",
       "      <td>20000.0</td>\n",
       "    </tr>\n",
       "    <tr>\n",
       "      <th>2</th>\n",
       "      <td>4</td>\n",
       "      <td>1</td>\n",
       "      <td>106</td>\n",
       "      <td>2</td>\n",
       "      <td>880</td>\n",
       "      <td>10021</td>\n",
       "      <td>1</td>\n",
       "      <td>5.0</td>\n",
       "      <td>1.0</td>\n",
       "      <td>2.0</td>\n",
       "      <td>...</td>\n",
       "      <td>NaN</td>\n",
       "      <td>1</td>\n",
       "      <td>20000.0</td>\n",
       "      <td>2.0</td>\n",
       "      <td>1.0</td>\n",
       "      <td>2015.0</td>\n",
       "      <td>2.0</td>\n",
       "      <td>12.0</td>\n",
       "      <td>2015.0</td>\n",
       "      <td>20000.0</td>\n",
       "    </tr>\n",
       "    <tr>\n",
       "      <th>3</th>\n",
       "      <td>4</td>\n",
       "      <td>1</td>\n",
       "      <td>106</td>\n",
       "      <td>2</td>\n",
       "      <td>880</td>\n",
       "      <td>10021</td>\n",
       "      <td>2</td>\n",
       "      <td>6.0</td>\n",
       "      <td>2.0</td>\n",
       "      <td>NaN</td>\n",
       "      <td>...</td>\n",
       "      <td>NaN</td>\n",
       "      <td>1</td>\n",
       "      <td>5000.0</td>\n",
       "      <td>2.0</td>\n",
       "      <td>3.0</td>\n",
       "      <td>2015.0</td>\n",
       "      <td>2.0</td>\n",
       "      <td>12.0</td>\n",
       "      <td>2015.0</td>\n",
       "      <td>5000.0</td>\n",
       "    </tr>\n",
       "    <tr>\n",
       "      <th>4</th>\n",
       "      <td>4</td>\n",
       "      <td>1</td>\n",
       "      <td>106</td>\n",
       "      <td>2</td>\n",
       "      <td>880</td>\n",
       "      <td>10022</td>\n",
       "      <td>1</td>\n",
       "      <td>1.0</td>\n",
       "      <td>1.0</td>\n",
       "      <td>NaN</td>\n",
       "      <td>...</td>\n",
       "      <td>NaN</td>\n",
       "      <td>1</td>\n",
       "      <td>50000.0</td>\n",
       "      <td>1.0</td>\n",
       "      <td>9.0</td>\n",
       "      <td>2014.0</td>\n",
       "      <td>2.0</td>\n",
       "      <td>9.0</td>\n",
       "      <td>2015.0</td>\n",
       "      <td>70000.0</td>\n",
       "    </tr>\n",
       "    <tr>\n",
       "      <th>...</th>\n",
       "      <td>...</td>\n",
       "      <td>...</td>\n",
       "      <td>...</td>\n",
       "      <td>...</td>\n",
       "      <td>...</td>\n",
       "      <td>...</td>\n",
       "      <td>...</td>\n",
       "      <td>...</td>\n",
       "      <td>...</td>\n",
       "      <td>...</td>\n",
       "      <td>...</td>\n",
       "      <td>...</td>\n",
       "      <td>...</td>\n",
       "      <td>...</td>\n",
       "      <td>...</td>\n",
       "      <td>...</td>\n",
       "      <td>...</td>\n",
       "      <td>...</td>\n",
       "      <td>...</td>\n",
       "      <td>...</td>\n",
       "      <td>...</td>\n",
       "    </tr>\n",
       "    <tr>\n",
       "      <th>895</th>\n",
       "      <td>6</td>\n",
       "      <td>30</td>\n",
       "      <td>3014</td>\n",
       "      <td>1</td>\n",
       "      <td>0</td>\n",
       "      <td>370021</td>\n",
       "      <td>2</td>\n",
       "      <td>1.0</td>\n",
       "      <td>1.0</td>\n",
       "      <td>NaN</td>\n",
       "      <td>...</td>\n",
       "      <td>NaN</td>\n",
       "      <td>1</td>\n",
       "      <td>100000.0</td>\n",
       "      <td>1.0</td>\n",
       "      <td>8.0</td>\n",
       "      <td>2015.0</td>\n",
       "      <td>2.0</td>\n",
       "      <td>7.0</td>\n",
       "      <td>2016.0</td>\n",
       "      <td>105000.0</td>\n",
       "    </tr>\n",
       "    <tr>\n",
       "      <th>896</th>\n",
       "      <td>1</td>\n",
       "      <td>37</td>\n",
       "      <td>3702</td>\n",
       "      <td>1</td>\n",
       "      <td>972</td>\n",
       "      <td>370023</td>\n",
       "      <td>1</td>\n",
       "      <td>1.0</td>\n",
       "      <td>2.0</td>\n",
       "      <td>NaN</td>\n",
       "      <td>...</td>\n",
       "      <td>NaN</td>\n",
       "      <td>1</td>\n",
       "      <td>200000.0</td>\n",
       "      <td>2.0</td>\n",
       "      <td>10.0</td>\n",
       "      <td>2014.0</td>\n",
       "      <td>2.0</td>\n",
       "      <td>12.0</td>\n",
       "      <td>2015.0</td>\n",
       "      <td>220000.0</td>\n",
       "    </tr>\n",
       "    <tr>\n",
       "      <th>897</th>\n",
       "      <td>1</td>\n",
       "      <td>37</td>\n",
       "      <td>3702</td>\n",
       "      <td>1</td>\n",
       "      <td>972</td>\n",
       "      <td>370025</td>\n",
       "      <td>1</td>\n",
       "      <td>1.0</td>\n",
       "      <td>2.0</td>\n",
       "      <td>NaN</td>\n",
       "      <td>...</td>\n",
       "      <td>NaN</td>\n",
       "      <td>1</td>\n",
       "      <td>150000.0</td>\n",
       "      <td>2.0</td>\n",
       "      <td>7.0</td>\n",
       "      <td>2015.0</td>\n",
       "      <td>2.0</td>\n",
       "      <td>7.0</td>\n",
       "      <td>2016.0</td>\n",
       "      <td>165000.0</td>\n",
       "    </tr>\n",
       "    <tr>\n",
       "      <th>898</th>\n",
       "      <td>1</td>\n",
       "      <td>26</td>\n",
       "      <td>2609</td>\n",
       "      <td>1</td>\n",
       "      <td>0</td>\n",
       "      <td>370036</td>\n",
       "      <td>1</td>\n",
       "      <td>4.0</td>\n",
       "      <td>1.0</td>\n",
       "      <td>NaN</td>\n",
       "      <td>...</td>\n",
       "      <td>NaN</td>\n",
       "      <td>1</td>\n",
       "      <td>900000.0</td>\n",
       "      <td>1.0</td>\n",
       "      <td>10.0</td>\n",
       "      <td>2014.0</td>\n",
       "      <td>2.0</td>\n",
       "      <td>10.0</td>\n",
       "      <td>2017.0</td>\n",
       "      <td>1300000.0</td>\n",
       "    </tr>\n",
       "    <tr>\n",
       "      <th>899</th>\n",
       "      <td>1</td>\n",
       "      <td>37</td>\n",
       "      <td>3706</td>\n",
       "      <td>2</td>\n",
       "      <td>6</td>\n",
       "      <td>370038</td>\n",
       "      <td>1</td>\n",
       "      <td>6.0</td>\n",
       "      <td>1.0</td>\n",
       "      <td>NaN</td>\n",
       "      <td>...</td>\n",
       "      <td>NaN</td>\n",
       "      <td>2</td>\n",
       "      <td>NaN</td>\n",
       "      <td>NaN</td>\n",
       "      <td>NaN</td>\n",
       "      <td>NaN</td>\n",
       "      <td>NaN</td>\n",
       "      <td>NaN</td>\n",
       "      <td>NaN</td>\n",
       "      <td>NaN</td>\n",
       "    </tr>\n",
       "  </tbody>\n",
       "</table>\n",
       "<p>900 rows × 22 columns</p>\n",
       "</div>"
      ],
      "text/plain": [
       "     zone  state   lga  sector   ea    hhid  lid  s4cq2b  s4cq3a  s4cq3b  ...  \\\n",
       "0       4      1   115       1  670   10005    1     4.0     1.0     NaN  ...   \n",
       "1       4      1   115       1  670   10005    2     6.0     1.0     NaN  ...   \n",
       "2       4      1   106       2  880   10021    1     5.0     1.0     2.0  ...   \n",
       "3       4      1   106       2  880   10021    2     6.0     2.0     NaN  ...   \n",
       "4       4      1   106       2  880   10022    1     1.0     1.0     NaN  ...   \n",
       "..    ...    ...   ...     ...  ...     ...  ...     ...     ...     ...  ...   \n",
       "895     6     30  3014       1    0  370021    2     1.0     1.0     NaN  ...   \n",
       "896     1     37  3702       1  972  370023    1     1.0     2.0     NaN  ...   \n",
       "897     1     37  3702       1  972  370025    1     1.0     2.0     NaN  ...   \n",
       "898     1     26  2609       1    0  370036    1     4.0     1.0     NaN  ...   \n",
       "899     1     37  3706       2    6  370038    1     6.0     1.0     NaN  ...   \n",
       "\n",
       "     s4cq4_os  s4cq5     credit  s4cq7  s4cq8  s4cq8b  s4cq9  s4cq10  s4cq10b  \\\n",
       "0         NaN      1  1000000.0    1.0    2.0  2015.0    2.0     3.0   2018.0   \n",
       "1         NaN      1    20000.0    1.0    9.0  2015.0    2.0     9.0   2015.0   \n",
       "2         NaN      1    20000.0    2.0    1.0  2015.0    2.0    12.0   2015.0   \n",
       "3         NaN      1     5000.0    2.0    3.0  2015.0    2.0    12.0   2015.0   \n",
       "4         NaN      1    50000.0    1.0    9.0  2014.0    2.0     9.0   2015.0   \n",
       "..        ...    ...        ...    ...    ...     ...    ...     ...      ...   \n",
       "895       NaN      1   100000.0    1.0    8.0  2015.0    2.0     7.0   2016.0   \n",
       "896       NaN      1   200000.0    2.0   10.0  2014.0    2.0    12.0   2015.0   \n",
       "897       NaN      1   150000.0    2.0    7.0  2015.0    2.0     7.0   2016.0   \n",
       "898       NaN      1   900000.0    1.0   10.0  2014.0    2.0    10.0   2017.0   \n",
       "899       NaN      2        NaN    NaN    NaN     NaN    NaN     NaN      NaN   \n",
       "\n",
       "        s4cq11  \n",
       "0    1280000.0  \n",
       "1      20000.0  \n",
       "2      20000.0  \n",
       "3       5000.0  \n",
       "4      70000.0  \n",
       "..         ...  \n",
       "895   105000.0  \n",
       "896   220000.0  \n",
       "897   165000.0  \n",
       "898  1300000.0  \n",
       "899        NaN  \n",
       "\n",
       "[900 rows x 22 columns]"
      ]
     },
     "execution_count": 24,
     "metadata": {},
     "output_type": "execute_result"
    }
   ],
   "source": [
    "LSMS3"
   ]
  },
  {
   "cell_type": "code",
   "execution_count": 26,
   "metadata": {},
   "outputs": [
    {
     "ename": "KeyError",
     "evalue": "'hhid'",
     "output_type": "error",
     "traceback": [
      "\u001b[1;31m---------------------------------------------------------------------------\u001b[0m",
      "\u001b[1;31mKeyError\u001b[0m                                  Traceback (most recent call last)",
      "\u001b[1;32mc:\\Users\\flavi\\OneDrive\\Documents\\GitHub\\Practice-with-Dash\\Untitled-2.ipynb Cell 25\u001b[0m in \u001b[0;36m<cell line: 1>\u001b[1;34m()\u001b[0m\n\u001b[1;32m----> <a href='vscode-notebook-cell:/c%3A/Users/flavi/OneDrive/Documents/GitHub/Practice-with-Dash/Untitled-2.ipynb#ch0000024?line=0'>1</a>\u001b[0m income_loan \u001b[39m=\u001b[39m LSMS2_df\u001b[39m.\u001b[39;49mmerge(LSMS3, on\u001b[39m=\u001b[39;49m\u001b[39m\"\u001b[39;49m\u001b[39mhhid\u001b[39;49m\u001b[39m\"\u001b[39;49m, how\u001b[39m=\u001b[39;49m\u001b[39m\"\u001b[39;49m\u001b[39minner\u001b[39;49m\u001b[39m\"\u001b[39;49m)\n",
      "File \u001b[1;32m~\\AppData\\Local\\Packages\\PythonSoftwareFoundation.Python.3.10_qbz5n2kfra8p0\\LocalCache\\local-packages\\Python310\\site-packages\\pandas\\core\\frame.py:9345\u001b[0m, in \u001b[0;36mDataFrame.merge\u001b[1;34m(self, right, how, on, left_on, right_on, left_index, right_index, sort, suffixes, copy, indicator, validate)\u001b[0m\n\u001b[0;32m   9326\u001b[0m \u001b[39m@Substitution\u001b[39m(\u001b[39m\"\u001b[39m\u001b[39m\"\u001b[39m)\n\u001b[0;32m   9327\u001b[0m \u001b[39m@Appender\u001b[39m(_merge_doc, indents\u001b[39m=\u001b[39m\u001b[39m2\u001b[39m)\n\u001b[0;32m   9328\u001b[0m \u001b[39mdef\u001b[39;00m \u001b[39mmerge\u001b[39m(\n\u001b[1;32m   (...)\u001b[0m\n\u001b[0;32m   9341\u001b[0m     validate: \u001b[39mstr\u001b[39m \u001b[39m|\u001b[39m \u001b[39mNone\u001b[39;00m \u001b[39m=\u001b[39m \u001b[39mNone\u001b[39;00m,\n\u001b[0;32m   9342\u001b[0m ) \u001b[39m-\u001b[39m\u001b[39m>\u001b[39m DataFrame:\n\u001b[0;32m   9343\u001b[0m     \u001b[39mfrom\u001b[39;00m \u001b[39mpandas\u001b[39;00m\u001b[39m.\u001b[39;00m\u001b[39mcore\u001b[39;00m\u001b[39m.\u001b[39;00m\u001b[39mreshape\u001b[39;00m\u001b[39m.\u001b[39;00m\u001b[39mmerge\u001b[39;00m \u001b[39mimport\u001b[39;00m merge\n\u001b[1;32m-> 9345\u001b[0m     \u001b[39mreturn\u001b[39;00m merge(\n\u001b[0;32m   9346\u001b[0m         \u001b[39mself\u001b[39;49m,\n\u001b[0;32m   9347\u001b[0m         right,\n\u001b[0;32m   9348\u001b[0m         how\u001b[39m=\u001b[39;49mhow,\n\u001b[0;32m   9349\u001b[0m         on\u001b[39m=\u001b[39;49mon,\n\u001b[0;32m   9350\u001b[0m         left_on\u001b[39m=\u001b[39;49mleft_on,\n\u001b[0;32m   9351\u001b[0m         right_on\u001b[39m=\u001b[39;49mright_on,\n\u001b[0;32m   9352\u001b[0m         left_index\u001b[39m=\u001b[39;49mleft_index,\n\u001b[0;32m   9353\u001b[0m         right_index\u001b[39m=\u001b[39;49mright_index,\n\u001b[0;32m   9354\u001b[0m         sort\u001b[39m=\u001b[39;49msort,\n\u001b[0;32m   9355\u001b[0m         suffixes\u001b[39m=\u001b[39;49msuffixes,\n\u001b[0;32m   9356\u001b[0m         copy\u001b[39m=\u001b[39;49mcopy,\n\u001b[0;32m   9357\u001b[0m         indicator\u001b[39m=\u001b[39;49mindicator,\n\u001b[0;32m   9358\u001b[0m         validate\u001b[39m=\u001b[39;49mvalidate,\n\u001b[0;32m   9359\u001b[0m     )\n",
      "File \u001b[1;32m~\\AppData\\Local\\Packages\\PythonSoftwareFoundation.Python.3.10_qbz5n2kfra8p0\\LocalCache\\local-packages\\Python310\\site-packages\\pandas\\core\\reshape\\merge.py:107\u001b[0m, in \u001b[0;36mmerge\u001b[1;34m(left, right, how, on, left_on, right_on, left_index, right_index, sort, suffixes, copy, indicator, validate)\u001b[0m\n\u001b[0;32m     90\u001b[0m \u001b[39m@Substitution\u001b[39m(\u001b[39m\"\u001b[39m\u001b[39m\\n\u001b[39;00m\u001b[39mleft : DataFrame or named Series\u001b[39m\u001b[39m\"\u001b[39m)\n\u001b[0;32m     91\u001b[0m \u001b[39m@Appender\u001b[39m(_merge_doc, indents\u001b[39m=\u001b[39m\u001b[39m0\u001b[39m)\n\u001b[0;32m     92\u001b[0m \u001b[39mdef\u001b[39;00m \u001b[39mmerge\u001b[39m(\n\u001b[1;32m   (...)\u001b[0m\n\u001b[0;32m    105\u001b[0m     validate: \u001b[39mstr\u001b[39m \u001b[39m|\u001b[39m \u001b[39mNone\u001b[39;00m \u001b[39m=\u001b[39m \u001b[39mNone\u001b[39;00m,\n\u001b[0;32m    106\u001b[0m ) \u001b[39m-\u001b[39m\u001b[39m>\u001b[39m DataFrame:\n\u001b[1;32m--> 107\u001b[0m     op \u001b[39m=\u001b[39m _MergeOperation(\n\u001b[0;32m    108\u001b[0m         left,\n\u001b[0;32m    109\u001b[0m         right,\n\u001b[0;32m    110\u001b[0m         how\u001b[39m=\u001b[39;49mhow,\n\u001b[0;32m    111\u001b[0m         on\u001b[39m=\u001b[39;49mon,\n\u001b[0;32m    112\u001b[0m         left_on\u001b[39m=\u001b[39;49mleft_on,\n\u001b[0;32m    113\u001b[0m         right_on\u001b[39m=\u001b[39;49mright_on,\n\u001b[0;32m    114\u001b[0m         left_index\u001b[39m=\u001b[39;49mleft_index,\n\u001b[0;32m    115\u001b[0m         right_index\u001b[39m=\u001b[39;49mright_index,\n\u001b[0;32m    116\u001b[0m         sort\u001b[39m=\u001b[39;49msort,\n\u001b[0;32m    117\u001b[0m         suffixes\u001b[39m=\u001b[39;49msuffixes,\n\u001b[0;32m    118\u001b[0m         copy\u001b[39m=\u001b[39;49mcopy,\n\u001b[0;32m    119\u001b[0m         indicator\u001b[39m=\u001b[39;49mindicator,\n\u001b[0;32m    120\u001b[0m         validate\u001b[39m=\u001b[39;49mvalidate,\n\u001b[0;32m    121\u001b[0m     )\n\u001b[0;32m    122\u001b[0m     \u001b[39mreturn\u001b[39;00m op\u001b[39m.\u001b[39mget_result()\n",
      "File \u001b[1;32m~\\AppData\\Local\\Packages\\PythonSoftwareFoundation.Python.3.10_qbz5n2kfra8p0\\LocalCache\\local-packages\\Python310\\site-packages\\pandas\\core\\reshape\\merge.py:700\u001b[0m, in \u001b[0;36m_MergeOperation.__init__\u001b[1;34m(self, left, right, how, on, left_on, right_on, axis, left_index, right_index, sort, suffixes, copy, indicator, validate)\u001b[0m\n\u001b[0;32m    693\u001b[0m \u001b[39mself\u001b[39m\u001b[39m.\u001b[39m_cross \u001b[39m=\u001b[39m cross_col\n\u001b[0;32m    695\u001b[0m \u001b[39m# note this function has side effects\u001b[39;00m\n\u001b[0;32m    696\u001b[0m (\n\u001b[0;32m    697\u001b[0m     \u001b[39mself\u001b[39m\u001b[39m.\u001b[39mleft_join_keys,\n\u001b[0;32m    698\u001b[0m     \u001b[39mself\u001b[39m\u001b[39m.\u001b[39mright_join_keys,\n\u001b[0;32m    699\u001b[0m     \u001b[39mself\u001b[39m\u001b[39m.\u001b[39mjoin_names,\n\u001b[1;32m--> 700\u001b[0m ) \u001b[39m=\u001b[39m \u001b[39mself\u001b[39;49m\u001b[39m.\u001b[39;49m_get_merge_keys()\n\u001b[0;32m    702\u001b[0m \u001b[39m# validate the merge keys dtypes. We may need to coerce\u001b[39;00m\n\u001b[0;32m    703\u001b[0m \u001b[39m# to avoid incompatible dtypes\u001b[39;00m\n\u001b[0;32m    704\u001b[0m \u001b[39mself\u001b[39m\u001b[39m.\u001b[39m_maybe_coerce_merge_keys()\n",
      "File \u001b[1;32m~\\AppData\\Local\\Packages\\PythonSoftwareFoundation.Python.3.10_qbz5n2kfra8p0\\LocalCache\\local-packages\\Python310\\site-packages\\pandas\\core\\reshape\\merge.py:1110\u001b[0m, in \u001b[0;36m_MergeOperation._get_merge_keys\u001b[1;34m(self)\u001b[0m\n\u001b[0;32m   1108\u001b[0m     right_keys\u001b[39m.\u001b[39mappend(rk)\n\u001b[0;32m   1109\u001b[0m \u001b[39mif\u001b[39;00m lk \u001b[39mis\u001b[39;00m \u001b[39mnot\u001b[39;00m \u001b[39mNone\u001b[39;00m:\n\u001b[1;32m-> 1110\u001b[0m     left_keys\u001b[39m.\u001b[39mappend(left\u001b[39m.\u001b[39;49m_get_label_or_level_values(lk))\n\u001b[0;32m   1111\u001b[0m     join_names\u001b[39m.\u001b[39mappend(lk)\n\u001b[0;32m   1112\u001b[0m \u001b[39melse\u001b[39;00m:\n\u001b[0;32m   1113\u001b[0m     \u001b[39m# work-around for merge_asof(left_index=True)\u001b[39;00m\n",
      "File \u001b[1;32m~\\AppData\\Local\\Packages\\PythonSoftwareFoundation.Python.3.10_qbz5n2kfra8p0\\LocalCache\\local-packages\\Python310\\site-packages\\pandas\\core\\generic.py:1840\u001b[0m, in \u001b[0;36mNDFrame._get_label_or_level_values\u001b[1;34m(self, key, axis)\u001b[0m\n\u001b[0;32m   1838\u001b[0m     values \u001b[39m=\u001b[39m \u001b[39mself\u001b[39m\u001b[39m.\u001b[39maxes[axis]\u001b[39m.\u001b[39mget_level_values(key)\u001b[39m.\u001b[39m_values\n\u001b[0;32m   1839\u001b[0m \u001b[39melse\u001b[39;00m:\n\u001b[1;32m-> 1840\u001b[0m     \u001b[39mraise\u001b[39;00m \u001b[39mKeyError\u001b[39;00m(key)\n\u001b[0;32m   1842\u001b[0m \u001b[39m# Check for duplicates\u001b[39;00m\n\u001b[0;32m   1843\u001b[0m \u001b[39mif\u001b[39;00m values\u001b[39m.\u001b[39mndim \u001b[39m>\u001b[39m \u001b[39m1\u001b[39m:\n",
      "\u001b[1;31mKeyError\u001b[0m: 'hhid'"
     ]
    }
   ],
   "source": [
    "income_loan = LSMS2_df.merge(LSMS3, on=\"hhid\", how=\"inner\")"
   ]
  }
 ],
 "metadata": {
  "kernelspec": {
   "display_name": "Python 3.10.5 64-bit (windows store)",
   "language": "python",
   "name": "python3"
  },
  "language_info": {
   "codemirror_mode": {
    "name": "ipython",
    "version": 3
   },
   "file_extension": ".py",
   "mimetype": "text/x-python",
   "name": "python",
   "nbconvert_exporter": "python",
   "pygments_lexer": "ipython3",
   "version": "3.10.5"
  },
  "orig_nbformat": 4,
  "vscode": {
   "interpreter": {
    "hash": "4b46fdcec2a339de20233c8d89095cb8b913f8f11208c0db25baf66f440175c2"
   }
  }
 },
 "nbformat": 4,
 "nbformat_minor": 2
}
